{
 "cells": [
  {
   "cell_type": "code",
   "execution_count": 1,
   "metadata": {},
   "outputs": [],
   "source": [
    "# import libraries\n",
    "\n",
    "import os\n",
    "import torch \n",
    "import torch.nn as nn\n",
    "import torch.nn.functional as F\n",
    "import torch.optim as optim\n",
    "import numpy as np\n",
    "import matplotlib.pyplot as plt\n",
    "import pandas as pd\n",
    "import math\n",
    "import mygene\n",
    "import sklearn.preprocessing as sk\n",
    "import seaborn as sns\n",
    "from sklearn import metrics\n",
    "from sklearn.feature_selection import VarianceThreshold\n",
    "from sklearn.model_selection import train_test_split\n",
    "from sklearn.metrics import confusion_matrix\n",
    "from sklearn.metrics import classification_report\n",
    "from torch.utils.data.sampler import WeightedRandomSampler\n",
    "from sklearn.metrics import roc_curve, auc\n",
    "from sklearn.metrics import roc_auc_score\n",
    "from sklearn.metrics import average_precision_score, precision_recall_curve\n",
    "import random\n",
    "from random import randint\n",
    "from sklearn.model_selection import StratifiedKFold\n",
    "import warnings\n",
    "\n",
    "# Suppress all warnings\n",
    "warnings.filterwarnings(\"ignore\")"
   ]
  },
  {
   "cell_type": "code",
   "execution_count": 2,
   "metadata": {},
   "outputs": [],
   "source": [
    "# define directories\n",
    "\n",
    "cell_line_dir = \"/Volumes/Expansion/Thesis Work/Supplementary Files/GDSC/\"\n",
    "models_dir = \"/Volumes/Expansion/Thesis Work/Results/Transfer Learning/Drugs with same pathways/PDX_EGFRi/Expression_CNA/Models/\"\n",
    "DEGs_dir = \"/Volumes/Expansion/Thesis Work/Results/GDSC_DEGs_inhibitors/EGFRi/\"\n",
    "dataset_dir = \"/Volumes/Expansion/Thesis Work/Results/preprocessed_results2/\"\n",
    "pdx_data_dir = \"/Volumes/Expansion/Thesis Work/Datasets/PDX/Expression/\"\n",
    "save_results_to = \"/Volumes/Expansion/Thesis Work/Results/Transfer Learning/Drugs with same pathways/PDX_EGFRi/Expression_CNA/Predictions/\"\n",
    "save_figures_to = \"/Volumes/Expansion/Thesis Work/Results/Transfer Learning/Drugs with same pathways/PDX_EGFRi/Expression_CNA/Figures/\""
   ]
  },
  {
   "cell_type": "code",
   "execution_count": 3,
   "metadata": {},
   "outputs": [],
   "source": [
    "# set random seeds\n",
    "\n",
    "torch.manual_seed(42)\n",
    "random.seed(42)"
   ]
  },
  {
   "cell_type": "code",
   "execution_count": 4,
   "metadata": {},
   "outputs": [
    {
     "name": "stdout",
     "output_type": "stream",
     "text": [
      "/Volumes/Expansion/Thesis Work/Supplementary Files/GDSC\n"
     ]
    }
   ],
   "source": [
    "# change directory to read GDSC cell line details\n",
    "\n",
    "os.chdir(cell_line_dir)\n",
    "print(os.getcwd())"
   ]
  },
  {
   "cell_type": "code",
   "execution_count": 5,
   "metadata": {},
   "outputs": [
    {
     "data": {
      "text/html": [
       "<div>\n",
       "<style scoped>\n",
       "    .dataframe tbody tr th:only-of-type {\n",
       "        vertical-align: middle;\n",
       "    }\n",
       "\n",
       "    .dataframe tbody tr th {\n",
       "        vertical-align: top;\n",
       "    }\n",
       "\n",
       "    .dataframe thead th {\n",
       "        text-align: right;\n",
       "    }\n",
       "</style>\n",
       "<table border=\"1\" class=\"dataframe\">\n",
       "  <thead>\n",
       "    <tr style=\"text-align: right;\">\n",
       "      <th></th>\n",
       "      <th>Sample Name</th>\n",
       "      <th>Whole Exome Sequencing (WES)</th>\n",
       "      <th>Copy Number Alterations (CNA)</th>\n",
       "      <th>Gene Expression</th>\n",
       "      <th>Methylation</th>\n",
       "      <th>Drug\\nResponse</th>\n",
       "      <th>GDSC\\nTissue descriptor 1</th>\n",
       "      <th>GDSC\\nTissue\\ndescriptor 2</th>\n",
       "      <th>Cancer Type\\n(matching TCGA label)</th>\n",
       "      <th>Microsatellite \\ninstability Status (MSI)</th>\n",
       "      <th>Screen Medium</th>\n",
       "      <th>Growth Properties</th>\n",
       "    </tr>\n",
       "    <tr>\n",
       "      <th>COSMIC identifier</th>\n",
       "      <th></th>\n",
       "      <th></th>\n",
       "      <th></th>\n",
       "      <th></th>\n",
       "      <th></th>\n",
       "      <th></th>\n",
       "      <th></th>\n",
       "      <th></th>\n",
       "      <th></th>\n",
       "      <th></th>\n",
       "      <th></th>\n",
       "      <th></th>\n",
       "    </tr>\n",
       "  </thead>\n",
       "  <tbody>\n",
       "    <tr>\n",
       "      <th>1298218</th>\n",
       "      <td>KP-2</td>\n",
       "      <td>Y</td>\n",
       "      <td>N</td>\n",
       "      <td>Y</td>\n",
       "      <td>N</td>\n",
       "      <td>Y</td>\n",
       "      <td>pancreas</td>\n",
       "      <td>pancreas</td>\n",
       "      <td>PAAD</td>\n",
       "      <td></td>\n",
       "      <td>D/F12</td>\n",
       "      <td>Adherent</td>\n",
       "    </tr>\n",
       "    <tr>\n",
       "      <th>1330932</th>\n",
       "      <td>KO52</td>\n",
       "      <td>Y</td>\n",
       "      <td>Y</td>\n",
       "      <td>N</td>\n",
       "      <td>N</td>\n",
       "      <td>N</td>\n",
       "      <td>leukemia</td>\n",
       "      <td>acute_myeloid_leukaemia</td>\n",
       "      <td>LAML</td>\n",
       "      <td>MSS/MSI-L</td>\n",
       "      <td>D/F12</td>\n",
       "      <td>NA</td>\n",
       "    </tr>\n",
       "    <tr>\n",
       "      <th>1331030</th>\n",
       "      <td>SC-1</td>\n",
       "      <td>Y</td>\n",
       "      <td>Y</td>\n",
       "      <td>N</td>\n",
       "      <td>N</td>\n",
       "      <td>N</td>\n",
       "      <td>lymphoma</td>\n",
       "      <td>B_cell_lymphoma</td>\n",
       "      <td>DLBC</td>\n",
       "      <td>MSS/MSI-L</td>\n",
       "      <td>R</td>\n",
       "      <td>NA</td>\n",
       "    </tr>\n",
       "    <tr>\n",
       "      <th>1503373</th>\n",
       "      <td>U-CH2</td>\n",
       "      <td>Y</td>\n",
       "      <td>Y</td>\n",
       "      <td>N</td>\n",
       "      <td>N</td>\n",
       "      <td>N</td>\n",
       "      <td>bone</td>\n",
       "      <td>bone_other</td>\n",
       "      <td></td>\n",
       "      <td>MSS/MSI-L</td>\n",
       "      <td>D/F12</td>\n",
       "      <td>Adherent</td>\n",
       "    </tr>\n",
       "    <tr>\n",
       "      <th></th>\n",
       "      <td>TOTAL:</td>\n",
       "      <td>1001</td>\n",
       "      <td>996</td>\n",
       "      <td>968</td>\n",
       "      <td>957</td>\n",
       "      <td>990</td>\n",
       "      <td></td>\n",
       "      <td></td>\n",
       "      <td></td>\n",
       "      <td></td>\n",
       "      <td></td>\n",
       "      <td></td>\n",
       "    </tr>\n",
       "  </tbody>\n",
       "</table>\n",
       "</div>"
      ],
      "text/plain": [
       "                  Sample Name Whole Exome Sequencing (WES)  \\\n",
       "COSMIC identifier                                            \n",
       "1298218                  KP-2                            Y   \n",
       "1330932                  KO52                            Y   \n",
       "1331030                  SC-1                            Y   \n",
       "1503373                 U-CH2                            Y   \n",
       "                       TOTAL:                         1001   \n",
       "\n",
       "                  Copy Number Alterations (CNA) Gene Expression Methylation  \\\n",
       "COSMIC identifier                                                             \n",
       "1298218                                       N               Y           N   \n",
       "1330932                                       Y               N           N   \n",
       "1331030                                       Y               N           N   \n",
       "1503373                                       Y               N           N   \n",
       "                                            996             968         957   \n",
       "\n",
       "                  Drug\\nResponse GDSC\\nTissue descriptor 1  \\\n",
       "COSMIC identifier                                            \n",
       "1298218                        Y                  pancreas   \n",
       "1330932                        N                  leukemia   \n",
       "1331030                        N                  lymphoma   \n",
       "1503373                        N                      bone   \n",
       "                             990                             \n",
       "\n",
       "                  GDSC\\nTissue\\ndescriptor 2  \\\n",
       "COSMIC identifier                              \n",
       "1298218                             pancreas   \n",
       "1330932              acute_myeloid_leukaemia   \n",
       "1331030                      B_cell_lymphoma   \n",
       "1503373                           bone_other   \n",
       "                                               \n",
       "\n",
       "                  Cancer Type\\n(matching TCGA label)  \\\n",
       "COSMIC identifier                                      \n",
       "1298218                                         PAAD   \n",
       "1330932                                         LAML   \n",
       "1331030                                         DLBC   \n",
       "1503373                                                \n",
       "                                                       \n",
       "\n",
       "                  Microsatellite \\ninstability Status (MSI) Screen Medium  \\\n",
       "COSMIC identifier                                                           \n",
       "1298218                                                             D/F12   \n",
       "1330932                                           MSS/MSI-L         D/F12   \n",
       "1331030                                           MSS/MSI-L             R   \n",
       "1503373                                           MSS/MSI-L         D/F12   \n",
       "                                                                            \n",
       "\n",
       "                  Growth Properties  \n",
       "COSMIC identifier                    \n",
       "1298218                    Adherent  \n",
       "1330932                          NA  \n",
       "1331030                          NA  \n",
       "1503373                    Adherent  \n",
       "                                     "
      ]
     },
     "execution_count": 5,
     "metadata": {},
     "output_type": "execute_result"
    }
   ],
   "source": [
    "# read GDSC cell line details table\n",
    "\n",
    "GDSC_cell_line_details = pd.read_excel(\"GDSC_Cell_Lines_Details.xlsx\", keep_default_na = False)\n",
    "GDSC_cell_line_details.set_index(\"COSMIC identifier\", inplace = True)\n",
    "GDSC_cell_line_details.tail()"
   ]
  },
  {
   "cell_type": "code",
   "execution_count": 6,
   "metadata": {},
   "outputs": [
    {
     "name": "stdout",
     "output_type": "stream",
     "text": [
      "/Volumes/Expansion/Thesis Work/Results/preprocessed_results2/exprs\n"
     ]
    }
   ],
   "source": [
    "# change directory to read GDSC expression dataset (EGFRi)\n",
    "\n",
    "os.chdir(dataset_dir + \"/exprs/\")\n",
    "print(os.getcwd())"
   ]
  },
  {
   "cell_type": "code",
   "execution_count": 7,
   "metadata": {},
   "outputs": [
    {
     "data": {
      "text/html": [
       "<div>\n",
       "<style scoped>\n",
       "    .dataframe tbody tr th:only-of-type {\n",
       "        vertical-align: middle;\n",
       "    }\n",
       "\n",
       "    .dataframe tbody tr th {\n",
       "        vertical-align: top;\n",
       "    }\n",
       "\n",
       "    .dataframe thead th {\n",
       "        text-align: right;\n",
       "    }\n",
       "</style>\n",
       "<table border=\"1\" class=\"dataframe\">\n",
       "  <thead>\n",
       "    <tr style=\"text-align: right;\">\n",
       "      <th>ENTREZID</th>\n",
       "      <th>1</th>\n",
       "      <th>2</th>\n",
       "      <th>9</th>\n",
       "      <th>10</th>\n",
       "      <th>12</th>\n",
       "      <th>13</th>\n",
       "      <th>14</th>\n",
       "      <th>15</th>\n",
       "      <th>16</th>\n",
       "      <th>18</th>\n",
       "      <th>...</th>\n",
       "      <th>107984199</th>\n",
       "      <th>107984208</th>\n",
       "      <th>107984325</th>\n",
       "      <th>107984411</th>\n",
       "      <th>107984648</th>\n",
       "      <th>107984889</th>\n",
       "      <th>107984989</th>\n",
       "      <th>107986313</th>\n",
       "      <th>107986782</th>\n",
       "      <th>107986810</th>\n",
       "    </tr>\n",
       "  </thead>\n",
       "  <tbody>\n",
       "    <tr>\n",
       "      <th>683665</th>\n",
       "      <td>-0.4711563767951986</td>\n",
       "      <td>-0.1857522957766964</td>\n",
       "      <td>0.9702409548662462</td>\n",
       "      <td>-0.4081281805960821</td>\n",
       "      <td>-0.4161511169999803</td>\n",
       "      <td>-0.4384159723467665</td>\n",
       "      <td>-1.154692246005183</td>\n",
       "      <td>0.5262132484107975</td>\n",
       "      <td>-0.7950924576033422</td>\n",
       "      <td>-0.6337442716864214</td>\n",
       "      <td>...</td>\n",
       "      <td>1.283534690590172</td>\n",
       "      <td>-0.3367265464586691</td>\n",
       "      <td>-0.0039762988723447</td>\n",
       "      <td>0.7378729872604209</td>\n",
       "      <td>0.9757614264575688</td>\n",
       "      <td>0.1494417647095801</td>\n",
       "      <td>2.062294063911948</td>\n",
       "      <td>-0.8140636761719959</td>\n",
       "      <td>0.2870333828833719</td>\n",
       "      <td>0.9524265085537148</td>\n",
       "    </tr>\n",
       "    <tr>\n",
       "      <th>683667</th>\n",
       "      <td>0.8924335646616343</td>\n",
       "      <td>-0.2118047645974752</td>\n",
       "      <td>-1.5249963829654445</td>\n",
       "      <td>-0.5512338119420259</td>\n",
       "      <td>-0.1375180480622428</td>\n",
       "      <td>-0.5276262991742051</td>\n",
       "      <td>-0.0305604198225781</td>\n",
       "      <td>0.5226216566753464</td>\n",
       "      <td>0.4877783097403741</td>\n",
       "      <td>0.2252883573642275</td>\n",
       "      <td>...</td>\n",
       "      <td>-0.0156845434045267</td>\n",
       "      <td>-0.1612071417519457</td>\n",
       "      <td>1.2033249282722671</td>\n",
       "      <td>2.7714836839186687</td>\n",
       "      <td>-0.3165072496327769</td>\n",
       "      <td>-0.8849200030571541</td>\n",
       "      <td>-0.5104734344593952</td>\n",
       "      <td>0.2984361940989172</td>\n",
       "      <td>-0.4349407065496763</td>\n",
       "      <td>0.4747633022523675</td>\n",
       "    </tr>\n",
       "    <tr>\n",
       "      <th>684057</th>\n",
       "      <td>0.6510004960254864</td>\n",
       "      <td>1.6578876382433665</td>\n",
       "      <td>-0.4977106390881842</td>\n",
       "      <td>-0.1212172092933644</td>\n",
       "      <td>-0.398455281697677</td>\n",
       "      <td>-0.2804901106672752</td>\n",
       "      <td>0.6455898116420014</td>\n",
       "      <td>0.215833091774836</td>\n",
       "      <td>-0.1723595788875009</td>\n",
       "      <td>-0.2170870770552223</td>\n",
       "      <td>...</td>\n",
       "      <td>-0.024863133395904</td>\n",
       "      <td>0.4073439017665206</td>\n",
       "      <td>-0.4440356638831038</td>\n",
       "      <td>0.8630347078663075</td>\n",
       "      <td>1.4486171428489227</td>\n",
       "      <td>-1.4777214830771732</td>\n",
       "      <td>0.5220400480464272</td>\n",
       "      <td>0.6441211958947753</td>\n",
       "      <td>0.9057518606131394</td>\n",
       "      <td>0.3018783753479829</td>\n",
       "    </tr>\n",
       "  </tbody>\n",
       "</table>\n",
       "<p>3 rows × 18597 columns</p>\n",
       "</div>"
      ],
      "text/plain": [
       "ENTREZID            1                    2                    9          \\\n",
       "683665    -0.4711563767951986  -0.1857522957766964   0.9702409548662462   \n",
       "683667     0.8924335646616343  -0.2118047645974752  -1.5249963829654445   \n",
       "684057     0.6510004960254864   1.6578876382433665  -0.4977106390881842   \n",
       "\n",
       "ENTREZID            10                   12                   13         \\\n",
       "683665    -0.4081281805960821  -0.4161511169999803  -0.4384159723467665   \n",
       "683667    -0.5512338119420259  -0.1375180480622428  -0.5276262991742051   \n",
       "684057    -0.1212172092933644   -0.398455281697677  -0.2804901106672752   \n",
       "\n",
       "ENTREZID            14                  15                   16         \\\n",
       "683665     -1.154692246005183  0.5262132484107975  -0.7950924576033422   \n",
       "683667    -0.0305604198225781  0.5226216566753464   0.4877783097403741   \n",
       "684057     0.6455898116420014   0.215833091774836  -0.1723595788875009   \n",
       "\n",
       "ENTREZID            18         ...            107984199            107984208  \\\n",
       "683665    -0.6337442716864214  ...    1.283534690590172  -0.3367265464586691   \n",
       "683667     0.2252883573642275  ...  -0.0156845434045267  -0.1612071417519457   \n",
       "684057    -0.2170870770552223  ...   -0.024863133395904   0.4073439017665206   \n",
       "\n",
       "ENTREZID            107984325           107984411            107984648  \\\n",
       "683665    -0.0039762988723447  0.7378729872604209   0.9757614264575688   \n",
       "683667     1.2033249282722671  2.7714836839186687  -0.3165072496327769   \n",
       "684057    -0.4440356638831038  0.8630347078663075   1.4486171428489227   \n",
       "\n",
       "ENTREZID            107984889            107984989            107986313  \\\n",
       "683665     0.1494417647095801    2.062294063911948  -0.8140636761719959   \n",
       "683667    -0.8849200030571541  -0.5104734344593952   0.2984361940989172   \n",
       "684057    -1.4777214830771732   0.5220400480464272   0.6441211958947753   \n",
       "\n",
       "ENTREZID            107986782           107986810  \n",
       "683665     0.2870333828833719  0.9524265085537148  \n",
       "683667    -0.4349407065496763  0.4747633022523675  \n",
       "684057     0.9057518606131394  0.3018783753479829  \n",
       "\n",
       "[3 rows x 18597 columns]"
      ]
     },
     "execution_count": 7,
     "metadata": {},
     "output_type": "execute_result"
    }
   ],
   "source": [
    "# read GDSC expression dataset (EGFRi) \n",
    "\n",
    "GDSCE = pd.read_csv(\"GDSC_exprs.z.EGFRi.tsv\", \n",
    "                    sep = \"\\t\", index_col=0, decimal = \",\")\n",
    "GDSCE = pd.DataFrame.transpose(GDSCE)\n",
    "GDSCE.head(3)"
   ]
  },
  {
   "cell_type": "code",
   "execution_count": 8,
   "metadata": {},
   "outputs": [
    {
     "name": "stdout",
     "output_type": "stream",
     "text": [
      "/Volumes/Expansion/Thesis Work/Results/preprocessed_results2/CNA\n"
     ]
    }
   ],
   "source": [
    "# change directory to read GDSC CNA dataset (EGFRi)\n",
    "\n",
    "os.chdir(dataset_dir + \"/CNA/\")\n",
    "print(os.getcwd())"
   ]
  },
  {
   "cell_type": "code",
   "execution_count": 9,
   "metadata": {},
   "outputs": [
    {
     "data": {
      "text/html": [
       "<div>\n",
       "<style scoped>\n",
       "    .dataframe tbody tr th:only-of-type {\n",
       "        vertical-align: middle;\n",
       "    }\n",
       "\n",
       "    .dataframe tbody tr th {\n",
       "        vertical-align: top;\n",
       "    }\n",
       "\n",
       "    .dataframe thead th {\n",
       "        text-align: right;\n",
       "    }\n",
       "</style>\n",
       "<table border=\"1\" class=\"dataframe\">\n",
       "  <thead>\n",
       "    <tr style=\"text-align: right;\">\n",
       "      <th>gene_id</th>\n",
       "      <th>1</th>\n",
       "      <th>2</th>\n",
       "      <th>9</th>\n",
       "      <th>10</th>\n",
       "      <th>12</th>\n",
       "      <th>13</th>\n",
       "      <th>14</th>\n",
       "      <th>15</th>\n",
       "      <th>16</th>\n",
       "      <th>18</th>\n",
       "      <th>...</th>\n",
       "      <th>107985535</th>\n",
       "      <th>107985759</th>\n",
       "      <th>107986588</th>\n",
       "      <th>107986809</th>\n",
       "      <th>107986898</th>\n",
       "      <th>107987337</th>\n",
       "      <th>107987341</th>\n",
       "      <th>109731405</th>\n",
       "      <th>112441434</th>\n",
       "      <th>121676927</th>\n",
       "    </tr>\n",
       "  </thead>\n",
       "  <tbody>\n",
       "    <tr>\n",
       "      <th>683665</th>\n",
       "      <td>0.000000</td>\n",
       "      <td>0.0</td>\n",
       "      <td>0.000000</td>\n",
       "      <td>0.000000</td>\n",
       "      <td>0.000000</td>\n",
       "      <td>0.000000</td>\n",
       "      <td>0.0</td>\n",
       "      <td>0.0</td>\n",
       "      <td>0.000000</td>\n",
       "      <td>0.000000</td>\n",
       "      <td>...</td>\n",
       "      <td>0.000000</td>\n",
       "      <td>0.000000</td>\n",
       "      <td>0.000000</td>\n",
       "      <td>0.0</td>\n",
       "      <td>0.000000</td>\n",
       "      <td>0.00</td>\n",
       "      <td>1.807355</td>\n",
       "      <td>0.000000</td>\n",
       "      <td>0.000000</td>\n",
       "      <td>0.000000</td>\n",
       "    </tr>\n",
       "    <tr>\n",
       "      <th>683667</th>\n",
       "      <td>0.000000</td>\n",
       "      <td>0.0</td>\n",
       "      <td>0.321928</td>\n",
       "      <td>0.321928</td>\n",
       "      <td>-1.000000</td>\n",
       "      <td>-0.415037</td>\n",
       "      <td>0.0</td>\n",
       "      <td>0.0</td>\n",
       "      <td>-0.415037</td>\n",
       "      <td>-0.415037</td>\n",
       "      <td>...</td>\n",
       "      <td>-0.415037</td>\n",
       "      <td>-0.415037</td>\n",
       "      <td>0.000000</td>\n",
       "      <td>0.0</td>\n",
       "      <td>0.321928</td>\n",
       "      <td>0.00</td>\n",
       "      <td>-1.000000</td>\n",
       "      <td>-0.415037</td>\n",
       "      <td>0.000000</td>\n",
       "      <td>0.321928</td>\n",
       "    </tr>\n",
       "    <tr>\n",
       "      <th>684057</th>\n",
       "      <td>-0.415037</td>\n",
       "      <td>0.0</td>\n",
       "      <td>0.584963</td>\n",
       "      <td>0.584963</td>\n",
       "      <td>-1.000000</td>\n",
       "      <td>0.000000</td>\n",
       "      <td>0.0</td>\n",
       "      <td>0.0</td>\n",
       "      <td>-0.415037</td>\n",
       "      <td>-0.415037</td>\n",
       "      <td>...</td>\n",
       "      <td>-0.415037</td>\n",
       "      <td>0.000000</td>\n",
       "      <td>0.000000</td>\n",
       "      <td>0.0</td>\n",
       "      <td>0.807355</td>\n",
       "      <td>-1.00</td>\n",
       "      <td>-1.000000</td>\n",
       "      <td>-0.415037</td>\n",
       "      <td>-0.415037</td>\n",
       "      <td>0.807355</td>\n",
       "    </tr>\n",
       "    <tr>\n",
       "      <th>684059</th>\n",
       "      <td>0.000000</td>\n",
       "      <td>0.0</td>\n",
       "      <td>0.000000</td>\n",
       "      <td>0.000000</td>\n",
       "      <td>0.000000</td>\n",
       "      <td>0.415037</td>\n",
       "      <td>0.0</td>\n",
       "      <td>0.0</td>\n",
       "      <td>0.000000</td>\n",
       "      <td>0.415037</td>\n",
       "      <td>...</td>\n",
       "      <td>0.000000</td>\n",
       "      <td>0.000000</td>\n",
       "      <td>0.415037</td>\n",
       "      <td>0.0</td>\n",
       "      <td>0.415037</td>\n",
       "      <td>-4.32</td>\n",
       "      <td>-4.320000</td>\n",
       "      <td>0.000000</td>\n",
       "      <td>0.000000</td>\n",
       "      <td>0.736966</td>\n",
       "    </tr>\n",
       "    <tr>\n",
       "      <th>684062</th>\n",
       "      <td>-0.415037</td>\n",
       "      <td>0.0</td>\n",
       "      <td>0.321928</td>\n",
       "      <td>0.321928</td>\n",
       "      <td>-0.415037</td>\n",
       "      <td>-0.415037</td>\n",
       "      <td>0.0</td>\n",
       "      <td>0.0</td>\n",
       "      <td>-0.415037</td>\n",
       "      <td>0.000000</td>\n",
       "      <td>...</td>\n",
       "      <td>-0.415037</td>\n",
       "      <td>0.000000</td>\n",
       "      <td>0.000000</td>\n",
       "      <td>0.0</td>\n",
       "      <td>0.321928</td>\n",
       "      <td>-4.32</td>\n",
       "      <td>-4.320000</td>\n",
       "      <td>-0.415037</td>\n",
       "      <td>-1.000000</td>\n",
       "      <td>0.321928</td>\n",
       "    </tr>\n",
       "  </tbody>\n",
       "</table>\n",
       "<p>5 rows × 24402 columns</p>\n",
       "</div>"
      ],
      "text/plain": [
       "gene_id  1          2          9          10         12         13         \\\n",
       "683665    0.000000        0.0   0.000000   0.000000   0.000000   0.000000   \n",
       "683667    0.000000        0.0   0.321928   0.321928  -1.000000  -0.415037   \n",
       "684057   -0.415037        0.0   0.584963   0.584963  -1.000000   0.000000   \n",
       "684059    0.000000        0.0   0.000000   0.000000   0.000000   0.415037   \n",
       "684062   -0.415037        0.0   0.321928   0.321928  -0.415037  -0.415037   \n",
       "\n",
       "gene_id  14         15         16         18         ...  107985535  \\\n",
       "683665         0.0        0.0   0.000000   0.000000  ...   0.000000   \n",
       "683667         0.0        0.0  -0.415037  -0.415037  ...  -0.415037   \n",
       "684057         0.0        0.0  -0.415037  -0.415037  ...  -0.415037   \n",
       "684059         0.0        0.0   0.000000   0.415037  ...   0.000000   \n",
       "684062         0.0        0.0  -0.415037   0.000000  ...  -0.415037   \n",
       "\n",
       "gene_id  107985759  107986588  107986809  107986898  107987337  107987341  \\\n",
       "683665    0.000000   0.000000        0.0   0.000000       0.00   1.807355   \n",
       "683667   -0.415037   0.000000        0.0   0.321928       0.00  -1.000000   \n",
       "684057    0.000000   0.000000        0.0   0.807355      -1.00  -1.000000   \n",
       "684059    0.000000   0.415037        0.0   0.415037      -4.32  -4.320000   \n",
       "684062    0.000000   0.000000        0.0   0.321928      -4.32  -4.320000   \n",
       "\n",
       "gene_id  109731405  112441434  121676927  \n",
       "683665    0.000000   0.000000   0.000000  \n",
       "683667   -0.415037   0.000000   0.321928  \n",
       "684057   -0.415037  -0.415037   0.807355  \n",
       "684059    0.000000   0.000000   0.736966  \n",
       "684062   -0.415037  -1.000000   0.321928  \n",
       "\n",
       "[5 rows x 24402 columns]"
      ]
     },
     "execution_count": 9,
     "metadata": {},
     "output_type": "execute_result"
    }
   ],
   "source": [
    "# read GDSC CNA dataset (EGFRi)\n",
    "\n",
    "GDSCC = pd.read_csv(\"GDSC_CNA.EGFRi.tsv\",\n",
    "                    sep=\"\\t\", index_col=0, decimal=\".\")\n",
    "GDSCC.drop_duplicates(keep='last')\n",
    "GDSCC = pd.DataFrame.transpose(GDSCC)\n",
    "GDSCC = GDSCC.loc[:, ~GDSCC.columns.duplicated()]\n",
    "\n",
    "GDSCC.head()"
   ]
  },
  {
   "cell_type": "code",
   "execution_count": 10,
   "metadata": {},
   "outputs": [
    {
     "name": "stdout",
     "output_type": "stream",
     "text": [
      "/Volumes/Expansion/Thesis Work/Results/preprocessed_results2/response\n"
     ]
    }
   ],
   "source": [
    "# change directory to read GDSC response dataset (EGFRi)\n",
    "\n",
    "os.chdir(dataset_dir + \"/response/\")\n",
    "print(os.getcwd())"
   ]
  },
  {
   "cell_type": "code",
   "execution_count": 11,
   "metadata": {},
   "outputs": [
    {
     "data": {
      "text/html": [
       "<div>\n",
       "<style scoped>\n",
       "    .dataframe tbody tr th:only-of-type {\n",
       "        vertical-align: middle;\n",
       "    }\n",
       "\n",
       "    .dataframe tbody tr th {\n",
       "        vertical-align: top;\n",
       "    }\n",
       "\n",
       "    .dataframe thead th {\n",
       "        text-align: right;\n",
       "    }\n",
       "</style>\n",
       "<table border=\"1\" class=\"dataframe\">\n",
       "  <thead>\n",
       "    <tr style=\"text-align: right;\">\n",
       "      <th></th>\n",
       "      <th>response</th>\n",
       "      <th>logIC50</th>\n",
       "      <th>drug</th>\n",
       "      <th>exprs</th>\n",
       "      <th>CNA</th>\n",
       "      <th>mutations</th>\n",
       "    </tr>\n",
       "    <tr>\n",
       "      <th>sample_name</th>\n",
       "      <th></th>\n",
       "      <th></th>\n",
       "      <th></th>\n",
       "      <th></th>\n",
       "      <th></th>\n",
       "      <th></th>\n",
       "    </tr>\n",
       "  </thead>\n",
       "  <tbody>\n",
       "    <tr>\n",
       "      <th>683665</th>\n",
       "      <td>0</td>\n",
       "      <td>1.49001536063508</td>\n",
       "      <td>Afatinib</td>\n",
       "      <td>1</td>\n",
       "      <td>1</td>\n",
       "      <td>1</td>\n",
       "    </tr>\n",
       "    <tr>\n",
       "      <th>683665</th>\n",
       "      <td>0</td>\n",
       "      <td>3.70042086392846</td>\n",
       "      <td>Afatinib (rescreen)</td>\n",
       "      <td>1</td>\n",
       "      <td>1</td>\n",
       "      <td>1</td>\n",
       "    </tr>\n",
       "    <tr>\n",
       "      <th>683665</th>\n",
       "      <td>0</td>\n",
       "      <td>6.29444657935625</td>\n",
       "      <td>Cetuximab</td>\n",
       "      <td>1</td>\n",
       "      <td>1</td>\n",
       "      <td>1</td>\n",
       "    </tr>\n",
       "    <tr>\n",
       "      <th>683665</th>\n",
       "      <td>0</td>\n",
       "      <td>-1.50094791622811</td>\n",
       "      <td>CUDC-101</td>\n",
       "      <td>1</td>\n",
       "      <td>1</td>\n",
       "      <td>1</td>\n",
       "    </tr>\n",
       "    <tr>\n",
       "      <th>683665</th>\n",
       "      <td>1</td>\n",
       "      <td>-0.966773876200563</td>\n",
       "      <td>EKB-569</td>\n",
       "      <td>1</td>\n",
       "      <td>1</td>\n",
       "      <td>1</td>\n",
       "    </tr>\n",
       "  </tbody>\n",
       "</table>\n",
       "</div>"
      ],
      "text/plain": [
       "             response             logIC50                 drug  exprs  CNA  \\\n",
       "sample_name                                                                  \n",
       "683665              0    1.49001536063508             Afatinib      1    1   \n",
       "683665              0    3.70042086392846  Afatinib (rescreen)      1    1   \n",
       "683665              0    6.29444657935625            Cetuximab      1    1   \n",
       "683665              0   -1.50094791622811             CUDC-101      1    1   \n",
       "683665              1  -0.966773876200563              EKB-569      1    1   \n",
       "\n",
       "             mutations  \n",
       "sample_name             \n",
       "683665               1  \n",
       "683665               1  \n",
       "683665               1  \n",
       "683665               1  \n",
       "683665               1  "
      ]
     },
     "execution_count": 11,
     "metadata": {},
     "output_type": "execute_result"
    }
   ],
   "source": [
    "# read GDSC response dataset (EGFRi)\n",
    "\n",
    "GDSCR = pd.read_csv(\"GDSC_response.EGFRi.tsv\",\n",
    "                    sep=\"\\t\",\n",
    "                    index_col=0,\n",
    "                    decimal=\",\")\n",
    "GDSCR.dropna(inplace=True)\n",
    "GDSCR.rename(mapper=str, axis='index', inplace=True)\n",
    "d = {\"R\": 0, \"S\": 1}\n",
    "GDSCR[\"response\"] = GDSCR.loc[:, \"response\"].apply(lambda x: d[x])\n",
    "\n",
    "GDSCR.head()"
   ]
  },
  {
   "cell_type": "code",
   "execution_count": 12,
   "metadata": {},
   "outputs": [
    {
     "data": {
      "text/plain": [
       "drug\n",
       "EKB-569                770\n",
       "Afatinib (rescreen)    757\n",
       "CUDC-101               754\n",
       "Afatinib               738\n",
       "Gefitinib              734\n",
       "Cetuximab              725\n",
       "HG-5-88-01             422\n",
       "Lapatinib              371\n",
       "Erlotinib              362\n",
       "Name: count, dtype: int64"
      ]
     },
     "execution_count": 12,
     "metadata": {},
     "output_type": "execute_result"
    }
   ],
   "source": [
    "# print count of cell lines for each drug (EGFRi)\n",
    "\n",
    "GDSCR[\"drug\"].value_counts()"
   ]
  },
  {
   "cell_type": "code",
   "execution_count": 13,
   "metadata": {},
   "outputs": [
    {
     "name": "stdout",
     "output_type": "stream",
     "text": [
      "/Volumes/Expansion/Thesis Work/Results/preprocessed_results2/exprs_homogenized\n"
     ]
    }
   ],
   "source": [
    "# change directory to read PDX expression dataset homogenized with GDSC expression dataset (Erlotinib)\n",
    "\n",
    "os.chdir(dataset_dir + \"/exprs_homogenized/\")\n",
    "print(os.getcwd())"
   ]
  },
  {
   "cell_type": "code",
   "execution_count": 14,
   "metadata": {},
   "outputs": [
    {
     "data": {
      "text/html": [
       "<div>\n",
       "<style scoped>\n",
       "    .dataframe tbody tr th:only-of-type {\n",
       "        vertical-align: middle;\n",
       "    }\n",
       "\n",
       "    .dataframe tbody tr th {\n",
       "        vertical-align: top;\n",
       "    }\n",
       "\n",
       "    .dataframe thead th {\n",
       "        text-align: right;\n",
       "    }\n",
       "</style>\n",
       "<table border=\"1\" class=\"dataframe\">\n",
       "  <thead>\n",
       "    <tr style=\"text-align: right;\">\n",
       "      <th>ENTREZID</th>\n",
       "      <th>1</th>\n",
       "      <th>2</th>\n",
       "      <th>9</th>\n",
       "      <th>10</th>\n",
       "      <th>12</th>\n",
       "      <th>13</th>\n",
       "      <th>14</th>\n",
       "      <th>15</th>\n",
       "      <th>16</th>\n",
       "      <th>18</th>\n",
       "      <th>...</th>\n",
       "      <th>100507206</th>\n",
       "      <th>100507254</th>\n",
       "      <th>100507436</th>\n",
       "      <th>100507472</th>\n",
       "      <th>100526773</th>\n",
       "      <th>100527978</th>\n",
       "      <th>100532746</th>\n",
       "      <th>100820829</th>\n",
       "      <th>102724473</th>\n",
       "      <th>105375355</th>\n",
       "    </tr>\n",
       "  </thead>\n",
       "  <tbody>\n",
       "    <tr>\n",
       "      <th>X-1156</th>\n",
       "      <td>6.11861088229939</td>\n",
       "      <td>6.52864101100101</td>\n",
       "      <td>6.79951417489383</td>\n",
       "      <td>2.75014153880996</td>\n",
       "      <td>2.46025530503934</td>\n",
       "      <td>2.55715969202243</td>\n",
       "      <td>8.28052725761881</td>\n",
       "      <td>2.57788329077075</td>\n",
       "      <td>6.95887775544869</td>\n",
       "      <td>3.61452184934982</td>\n",
       "      <td>...</td>\n",
       "      <td>2.71395625069168</td>\n",
       "      <td>3.25738747236556</td>\n",
       "      <td>6.03809972147297</td>\n",
       "      <td>2.98821567577099</td>\n",
       "      <td>2.98369076792706</td>\n",
       "      <td>2.351997223295</td>\n",
       "      <td>2.52761397843368</td>\n",
       "      <td>5.09565670825996</td>\n",
       "      <td>4.1270944614262</td>\n",
       "      <td>2.42677851551937</td>\n",
       "    </tr>\n",
       "    <tr>\n",
       "      <th>X-1172</th>\n",
       "      <td>3.31280391584354</td>\n",
       "      <td>7.01865849503627</td>\n",
       "      <td>5.64214585248198</td>\n",
       "      <td>2.99828359748804</td>\n",
       "      <td>3.6752940409957</td>\n",
       "      <td>4.99060571336846</td>\n",
       "      <td>8.67761758763766</td>\n",
       "      <td>2.846798443615</td>\n",
       "      <td>9.99801881476899</td>\n",
       "      <td>3.81384234557669</td>\n",
       "      <td>...</td>\n",
       "      <td>2.76551893238154</td>\n",
       "      <td>3.3106737035931</td>\n",
       "      <td>4.94017287575563</td>\n",
       "      <td>2.98821567577099</td>\n",
       "      <td>2.98369076792706</td>\n",
       "      <td>2.351997223295</td>\n",
       "      <td>2.52761397843368</td>\n",
       "      <td>2.62204355997836</td>\n",
       "      <td>4.41769048689105</td>\n",
       "      <td>2.38094556877352</td>\n",
       "    </tr>\n",
       "    <tr>\n",
       "      <th>X-1323</th>\n",
       "      <td>5.21916353176773</td>\n",
       "      <td>3.70763705485075</td>\n",
       "      <td>6.05754416508987</td>\n",
       "      <td>2.75014153880996</td>\n",
       "      <td>3.00134646136568</td>\n",
       "      <td>2.46294977024261</td>\n",
       "      <td>7.39844941299792</td>\n",
       "      <td>3.10981562039544</td>\n",
       "      <td>10.013301293327</td>\n",
       "      <td>3.13578724141655</td>\n",
       "      <td>...</td>\n",
       "      <td>2.62947211484532</td>\n",
       "      <td>3.1747527931153</td>\n",
       "      <td>5.5262091243784</td>\n",
       "      <td>4.12076583575454</td>\n",
       "      <td>2.98369076792706</td>\n",
       "      <td>2.351997223295</td>\n",
       "      <td>2.52761397843368</td>\n",
       "      <td>2.62204355997836</td>\n",
       "      <td>4.02209193327285</td>\n",
       "      <td>2.27747617313197</td>\n",
       "    </tr>\n",
       "  </tbody>\n",
       "</table>\n",
       "<p>3 rows × 18217 columns</p>\n",
       "</div>"
      ],
      "text/plain": [
       "ENTREZID         1                 2                 9          \\\n",
       "X-1156    6.11861088229939  6.52864101100101  6.79951417489383   \n",
       "X-1172    3.31280391584354  7.01865849503627  5.64214585248198   \n",
       "X-1323    5.21916353176773  3.70763705485075  6.05754416508987   \n",
       "\n",
       "ENTREZID         10                12                13         \\\n",
       "X-1156    2.75014153880996  2.46025530503934  2.55715969202243   \n",
       "X-1172    2.99828359748804   3.6752940409957  4.99060571336846   \n",
       "X-1323    2.75014153880996  3.00134646136568  2.46294977024261   \n",
       "\n",
       "ENTREZID         14                15                16         \\\n",
       "X-1156    8.28052725761881  2.57788329077075  6.95887775544869   \n",
       "X-1172    8.67761758763766    2.846798443615  9.99801881476899   \n",
       "X-1323    7.39844941299792  3.10981562039544   10.013301293327   \n",
       "\n",
       "ENTREZID         18         ...         100507206         100507254  \\\n",
       "X-1156    3.61452184934982  ...  2.71395625069168  3.25738747236556   \n",
       "X-1172    3.81384234557669  ...  2.76551893238154   3.3106737035931   \n",
       "X-1323    3.13578724141655  ...  2.62947211484532   3.1747527931153   \n",
       "\n",
       "ENTREZID         100507436         100507472         100526773  \\\n",
       "X-1156    6.03809972147297  2.98821567577099  2.98369076792706   \n",
       "X-1172    4.94017287575563  2.98821567577099  2.98369076792706   \n",
       "X-1323     5.5262091243784  4.12076583575454  2.98369076792706   \n",
       "\n",
       "ENTREZID       100527978         100532746         100820829  \\\n",
       "X-1156    2.351997223295  2.52761397843368  5.09565670825996   \n",
       "X-1172    2.351997223295  2.52761397843368  2.62204355997836   \n",
       "X-1323    2.351997223295  2.52761397843368  2.62204355997836   \n",
       "\n",
       "ENTREZID         102724473         105375355  \n",
       "X-1156     4.1270944614262  2.42677851551937  \n",
       "X-1172    4.41769048689105  2.38094556877352  \n",
       "X-1323    4.02209193327285  2.27747617313197  \n",
       "\n",
       "[3 rows x 18217 columns]"
      ]
     },
     "execution_count": 14,
     "metadata": {},
     "output_type": "execute_result"
    }
   ],
   "source": [
    "# read PDX expression dataset homogenized with GDSC expression dataset (Erlotinib)\n",
    "\n",
    "PDXEerlotinib = pd.read_csv(\"PDX_exprs.Erlotinib.eb_with.GDSC_exprs.Erlotinib.tsv\",\n",
    "                   sep = \"\\t\", index_col=0, decimal = \",\")\n",
    "PDXEerlotinib = pd.DataFrame.transpose(PDXEerlotinib)\n",
    "PDXEerlotinib.head(3)"
   ]
  },
  {
   "cell_type": "code",
   "execution_count": 15,
   "metadata": {},
   "outputs": [
    {
     "data": {
      "text/plain": [
       "'/Volumes/Expansion/Thesis Work/Results/preprocessed_results2/CNA'"
      ]
     },
     "execution_count": 15,
     "metadata": {},
     "output_type": "execute_result"
    }
   ],
   "source": [
    "# change directory to read PDX CNA dataset (Erlotinib)\n",
    "\n",
    "os.chdir(dataset_dir + \"CNA\")\n",
    "os.getcwd()"
   ]
  },
  {
   "cell_type": "code",
   "execution_count": 16,
   "metadata": {},
   "outputs": [
    {
     "data": {
      "text/html": [
       "<div>\n",
       "<style scoped>\n",
       "    .dataframe tbody tr th:only-of-type {\n",
       "        vertical-align: middle;\n",
       "    }\n",
       "\n",
       "    .dataframe tbody tr th {\n",
       "        vertical-align: top;\n",
       "    }\n",
       "\n",
       "    .dataframe thead th {\n",
       "        text-align: right;\n",
       "    }\n",
       "</style>\n",
       "<table border=\"1\" class=\"dataframe\">\n",
       "  <thead>\n",
       "    <tr style=\"text-align: right;\">\n",
       "      <th>ENTREZID</th>\n",
       "      <th>1</th>\n",
       "      <th>2</th>\n",
       "      <th>3</th>\n",
       "      <th>9</th>\n",
       "      <th>10</th>\n",
       "      <th>12</th>\n",
       "      <th>13</th>\n",
       "      <th>14</th>\n",
       "      <th>15</th>\n",
       "      <th>16</th>\n",
       "      <th>...</th>\n",
       "      <th>101340252</th>\n",
       "      <th>102723547</th>\n",
       "      <th>102724473</th>\n",
       "      <th>103091865</th>\n",
       "      <th>105375355</th>\n",
       "      <th>107126285</th>\n",
       "      <th>109623460</th>\n",
       "      <th>109731405</th>\n",
       "      <th>118126072</th>\n",
       "      <th>128385369</th>\n",
       "    </tr>\n",
       "  </thead>\n",
       "  <tbody>\n",
       "    <tr>\n",
       "      <th>X-1156</th>\n",
       "      <td>0.9781956296816516</td>\n",
       "      <td>0.7004397181410922</td>\n",
       "      <td>0.7004397181410922</td>\n",
       "      <td>-0.2429767534925404</td>\n",
       "      <td>-0.2429767534925404</td>\n",
       "      <td>-0.2863041851566411</td>\n",
       "      <td>0.5607149544744789</td>\n",
       "      <td>0.3895668117627256</td>\n",
       "      <td>-0.2688167584278</td>\n",
       "      <td>-0.2688167584278</td>\n",
       "      <td>...</td>\n",
       "      <td>0.4594316186372972</td>\n",
       "      <td>0.0</td>\n",
       "      <td>-0.4246876693125631</td>\n",
       "      <td>-0.7369655941662062</td>\n",
       "      <td>0.0</td>\n",
       "      <td>1.100977647724821</td>\n",
       "      <td>-0.3770696490798233</td>\n",
       "      <td>-0.3219280948873623</td>\n",
       "      <td>-0.6551715030025588</td>\n",
       "      <td>0.0</td>\n",
       "    </tr>\n",
       "    <tr>\n",
       "      <th>X-1172</th>\n",
       "      <td>0.0</td>\n",
       "      <td>0.0</td>\n",
       "      <td>0.0</td>\n",
       "      <td>-0.5145731728297583</td>\n",
       "      <td>-0.5145731728297583</td>\n",
       "      <td>0.0</td>\n",
       "      <td>0.4276061727818994</td>\n",
       "      <td>0.4222330006830478</td>\n",
       "      <td>0.9297909977185974</td>\n",
       "      <td>0.0</td>\n",
       "      <td>...</td>\n",
       "      <td>-0.5994620704162712</td>\n",
       "      <td>-0.6780719051126377</td>\n",
       "      <td>0.3895668117627256</td>\n",
       "      <td>-0.4639470997597902</td>\n",
       "      <td>0.859969548221026</td>\n",
       "      <td>0.5109619192773793</td>\n",
       "      <td>-0.2863041851566411</td>\n",
       "      <td>0.0</td>\n",
       "      <td>0.0</td>\n",
       "      <td>1.0214797274104517</td>\n",
       "    </tr>\n",
       "    <tr>\n",
       "      <th>X-1323</th>\n",
       "      <td>-0.5670405927238937</td>\n",
       "      <td>0.3276873641760471</td>\n",
       "      <td>0.3276873641760471</td>\n",
       "      <td>-1.286304185156641</td>\n",
       "      <td>-1.286304185156641</td>\n",
       "      <td>0.0</td>\n",
       "      <td>0.0</td>\n",
       "      <td>0.4382928515791468</td>\n",
       "      <td>0.0</td>\n",
       "      <td>0.3103401206121505</td>\n",
       "      <td>...</td>\n",
       "      <td>0.0</td>\n",
       "      <td>-1.3040061868900998</td>\n",
       "      <td>-1.434402824145775</td>\n",
       "      <td>0.0</td>\n",
       "      <td>0.5993177936982261</td>\n",
       "      <td>0.0</td>\n",
       "      <td>-0.5994620704162712</td>\n",
       "      <td>0.3103401206121505</td>\n",
       "      <td>-0.5777669993169522</td>\n",
       "      <td>0.4382928515791468</td>\n",
       "    </tr>\n",
       "  </tbody>\n",
       "</table>\n",
       "<p>3 rows × 23205 columns</p>\n",
       "</div>"
      ],
      "text/plain": [
       "ENTREZID            1                   2                   3          \\\n",
       "X-1156     0.9781956296816516  0.7004397181410922  0.7004397181410922   \n",
       "X-1172                    0.0                 0.0                 0.0   \n",
       "X-1323    -0.5670405927238937  0.3276873641760471  0.3276873641760471   \n",
       "\n",
       "ENTREZID            9                    10                   12         \\\n",
       "X-1156    -0.2429767534925404  -0.2429767534925404  -0.2863041851566411   \n",
       "X-1172    -0.5145731728297583  -0.5145731728297583                  0.0   \n",
       "X-1323     -1.286304185156641   -1.286304185156641                  0.0   \n",
       "\n",
       "ENTREZID           13                  14                  15         \\\n",
       "X-1156    0.5607149544744789  0.3895668117627256    -0.2688167584278   \n",
       "X-1172    0.4276061727818994  0.4222330006830478  0.9297909977185974   \n",
       "X-1323                   0.0  0.4382928515791468                 0.0   \n",
       "\n",
       "ENTREZID           16         ...            101340252            102723547  \\\n",
       "X-1156      -0.2688167584278  ...   0.4594316186372972                  0.0   \n",
       "X-1172                   0.0  ...  -0.5994620704162712  -0.6780719051126377   \n",
       "X-1323    0.3103401206121505  ...                  0.0  -1.3040061868900998   \n",
       "\n",
       "ENTREZID            102724473            103091865           105375355  \\\n",
       "X-1156    -0.4246876693125631  -0.7369655941662062                 0.0   \n",
       "X-1172     0.3895668117627256  -0.4639470997597902   0.859969548221026   \n",
       "X-1323     -1.434402824145775                  0.0  0.5993177936982261   \n",
       "\n",
       "ENTREZID           107126285            109623460            109731405  \\\n",
       "X-1156     1.100977647724821  -0.3770696490798233  -0.3219280948873623   \n",
       "X-1172    0.5109619192773793  -0.2863041851566411                  0.0   \n",
       "X-1323                   0.0  -0.5994620704162712   0.3103401206121505   \n",
       "\n",
       "ENTREZID            118126072           128385369  \n",
       "X-1156    -0.6551715030025588                 0.0  \n",
       "X-1172                    0.0  1.0214797274104517  \n",
       "X-1323    -0.5777669993169522  0.4382928515791468  \n",
       "\n",
       "[3 rows x 23205 columns]"
      ]
     },
     "execution_count": 16,
     "metadata": {},
     "output_type": "execute_result"
    }
   ],
   "source": [
    "# read PDX CNA dataset (Erlotinib)\n",
    "\n",
    "PDXCerlotinib = pd.read_csv(\"PDX_CNA.Erlotinib.tsv\",\n",
    "                        sep=\"\\t\", index_col=0, decimal=\",\")\n",
    "PDXCerlotinib.drop_duplicates(keep='last')\n",
    "PDXCerlotinib = pd.DataFrame.transpose(PDXCerlotinib)\n",
    "PDXCerlotinib = PDXCerlotinib.loc[:, ~PDXCerlotinib.columns.duplicated()]\n",
    "\n",
    "PDXCerlotinib.head(3)"
   ]
  },
  {
   "cell_type": "code",
   "execution_count": 17,
   "metadata": {},
   "outputs": [],
   "source": [
    "# variance threshold for GDSC expression dataset (EGFRi)\n",
    "\n",
    "selector = VarianceThreshold(0.05)\n",
    "selector.fit_transform(GDSCE)\n",
    "GDSCE = GDSCE[GDSCE.columns[selector.get_support(indices=True)]]"
   ]
  },
  {
   "cell_type": "code",
   "execution_count": 18,
   "metadata": {},
   "outputs": [],
   "source": [
    "# fill NA values and binarize GDSC CNA dataset (EGFRi)\n",
    "\n",
    "GDSCC = GDSCC.fillna(0)\n",
    "GDSCC[GDSCC != 0.0] = 1"
   ]
  },
  {
   "cell_type": "code",
   "execution_count": 19,
   "metadata": {},
   "outputs": [
    {
     "name": "stdout",
     "output_type": "stream",
     "text": [
      "GDSC and PDX # of common genes: 17901\n"
     ]
    }
   ],
   "source": [
    "# select shared genes between GDSC and PDX expression and CNA datasets \n",
    "\n",
    "ls = GDSCE.columns.intersection(GDSCC.columns)\n",
    "ls = ls.intersection(PDXEerlotinib.columns)\n",
    "ls = ls.intersection(PDXCerlotinib.columns)\n",
    "\n",
    "ls = pd.unique(ls)\n",
    "\n",
    "print(f\"GDSC and PDX # of common genes: {ls.shape[0]}\")"
   ]
  },
  {
   "cell_type": "code",
   "execution_count": 20,
   "metadata": {},
   "outputs": [
    {
     "name": "stdout",
     "output_type": "stream",
     "text": [
      "GDSC # of common cell lines: 800\n"
     ]
    }
   ],
   "source": [
    "# select shared samples between GDSC expression and response datasets (EGFRi)\n",
    "\n",
    "ls2 = GDSCE.index.intersection(GDSCC.index)\n",
    "ls2 = ls2.intersection(GDSCR.index)\n",
    "\n",
    "print(f\"GDSC # of common cell lines: {ls2.shape[0]}\")"
   ]
  },
  {
   "cell_type": "code",
   "execution_count": 21,
   "metadata": {
    "scrolled": true
   },
   "outputs": [
    {
     "name": "stdout",
     "output_type": "stream",
     "text": [
      "GDSC # of common samples and genes (Expression): (800, 17901)\n",
      "GDSC # of common samples and genes (CNA): (800, 17901)\n",
      "GDSC # of samples (Response): 5633\n"
     ]
    }
   ],
   "source": [
    "# subset shared genes and samples in GDSC expression, CNA, and response datasets\n",
    "\n",
    "GDSCE = GDSCE.loc[ls2, ls]\n",
    "GDSCC = GDSCC.loc[ls2, ls]\n",
    "GDSCR = GDSCR.loc[ls2, :]\n",
    "\n",
    "print(f\"GDSC # of common samples and genes (Expression): {GDSCE.shape}\")\n",
    "print(f\"GDSC # of common samples and genes (CNA): {GDSCC.shape}\")\n",
    "print(f\"GDSC # of samples (Response): {GDSCR.shape[0]}\")\n",
    "\n",
    "# There exists same sample names for different drugs, so row shape is different in GDSC response data"
   ]
  },
  {
   "cell_type": "code",
   "execution_count": 22,
   "metadata": {},
   "outputs": [
    {
     "name": "stdout",
     "output_type": "stream",
     "text": [
      "PDX # of common samples (Erlotinib): 21\n"
     ]
    }
   ],
   "source": [
    "# select shared samples between PDX expression and CNA datasets (Erlotinib) \n",
    "\n",
    "ls3 = PDXEerlotinib.index.intersection(PDXCerlotinib.index)\n",
    "\n",
    "print(f\"PDX # of common samples (Erlotinib): {ls3.shape[0]}\")"
   ]
  },
  {
   "cell_type": "code",
   "execution_count": 23,
   "metadata": {},
   "outputs": [
    {
     "name": "stdout",
     "output_type": "stream",
     "text": [
      "PDX # of common samples and genes for Expression (Erlotinib): (21, 17901)\n",
      "PDX # of common samples and genes for CNA (Erlotinib): (21, 17901)\n",
      "\n"
     ]
    }
   ],
   "source": [
    "# select shared genes and samples between PDX expression and CNA datasets (Erlotinib)\n",
    "\n",
    "PDXEerlotinib = PDXEerlotinib.loc[ls3, ls]\n",
    "PDXCerlotinib = PDXCerlotinib.loc[ls3, ls]\n",
    "\n",
    "print(f\"PDX # of common samples and genes for Expression (Erlotinib): {PDXEerlotinib.shape}\")\n",
    "print(f\"PDX # of common samples and genes for CNA (Erlotinib): {PDXCerlotinib.shape}\\n\")"
   ]
  },
  {
   "cell_type": "code",
   "execution_count": 24,
   "metadata": {},
   "outputs": [
    {
     "name": "stdout",
     "output_type": "stream",
     "text": [
      "/Volumes/Expansion/Thesis Work/Results/GDSC_DEGs_inhibitors/EGFRi\n"
     ]
    }
   ],
   "source": [
    "# change directory to read DEGs (EGFRi)\n",
    "\n",
    "os.chdir(DEGs_dir)\n",
    "print(os.getcwd())"
   ]
  },
  {
   "cell_type": "code",
   "execution_count": 25,
   "metadata": {},
   "outputs": [
    {
     "name": "stdout",
     "output_type": "stream",
     "text": [
      "There are 1028 DEGs (p-adjusted < 0.05 and |logFC| > 1) among EGFR signaling inhibitors\n",
      "\n"
     ]
    },
    {
     "data": {
      "text/html": [
       "<div>\n",
       "<style scoped>\n",
       "    .dataframe tbody tr th:only-of-type {\n",
       "        vertical-align: middle;\n",
       "    }\n",
       "\n",
       "    .dataframe tbody tr th {\n",
       "        vertical-align: top;\n",
       "    }\n",
       "\n",
       "    .dataframe thead th {\n",
       "        text-align: right;\n",
       "    }\n",
       "</style>\n",
       "<table border=\"1\" class=\"dataframe\">\n",
       "  <thead>\n",
       "    <tr style=\"text-align: right;\">\n",
       "      <th></th>\n",
       "      <th>Gene Symbol</th>\n",
       "      <th>Frequency</th>\n",
       "    </tr>\n",
       "  </thead>\n",
       "  <tbody>\n",
       "    <tr>\n",
       "      <th>0</th>\n",
       "      <td>MYOF</td>\n",
       "      <td>9</td>\n",
       "    </tr>\n",
       "    <tr>\n",
       "      <th>1</th>\n",
       "      <td>TM4SF1</td>\n",
       "      <td>8</td>\n",
       "    </tr>\n",
       "    <tr>\n",
       "      <th>2</th>\n",
       "      <td>KRT18</td>\n",
       "      <td>8</td>\n",
       "    </tr>\n",
       "    <tr>\n",
       "      <th>3</th>\n",
       "      <td>WWC1</td>\n",
       "      <td>8</td>\n",
       "    </tr>\n",
       "    <tr>\n",
       "      <th>4</th>\n",
       "      <td>CAV1</td>\n",
       "      <td>8</td>\n",
       "    </tr>\n",
       "  </tbody>\n",
       "</table>\n",
       "</div>"
      ],
      "text/plain": [
       "  Gene Symbol  Frequency\n",
       "0        MYOF          9\n",
       "1      TM4SF1          8\n",
       "2       KRT18          8\n",
       "3        WWC1          8\n",
       "4        CAV1          8"
      ]
     },
     "execution_count": 25,
     "metadata": {},
     "output_type": "execute_result"
    }
   ],
   "source": [
    "# read DEGs (EGFRi)\n",
    "\n",
    "DEGs_filtered_data = pd.read_excel(\"EGFRi_Differentially_Expressed_Genes (EnsemblID).xlsx\",\n",
    "                                    sheet_name = \"Common DEGs\")\n",
    "print(f\"There are {DEGs_filtered_data.shape[0]} DEGs (p-adjusted < 0.05 and |logFC| > 1) among EGFR signaling inhibitors\\n\")\n",
    "\n",
    "DEGs_filtered_data.head()"
   ]
  },
  {
   "cell_type": "code",
   "execution_count": 26,
   "metadata": {},
   "outputs": [
    {
     "name": "stderr",
     "output_type": "stream",
     "text": [
      "2 input query terms found dup hits:\t[('CLECL1P', 2), ('CAST', 2)]\n",
      "1 input query terms found no hit:\t['SLC22A18']\n"
     ]
    },
    {
     "data": {
      "text/plain": [
       "1028"
      ]
     },
     "execution_count": 26,
     "metadata": {},
     "output_type": "execute_result"
    }
   ],
   "source": [
    "# get gene symbol from mygene database\n",
    "\n",
    "mg = mygene.MyGeneInfo()\n",
    "DEGs_entrez_id = mg.querymany(DEGs_filtered_data[\"Gene Symbol\"], \n",
    "                              species=\"human\", \n",
    "                              scopes = \"symbol\",\n",
    "                              field = \"entrezgene\",\n",
    "                              as_dataframe=True)[\"entrezgene\"]\n",
    "DEGs_entrez_id = pd.unique(DEGs_entrez_id.dropna())\n",
    "DEGs_entrez_id.shape[0]\n",
    "DEGs_entrez_id = pd.Series(DEGs_entrez_id)\n",
    "\n",
    "result = mg.query(\"SLC22A18\", species=\"human\", scopes=\"symbol\", fields=\"entrezgene\")\n",
    "DEGs_entrez_id = pd.concat([DEGs_entrez_id, pd.Series(str(result[\"hits\"][1][\"entrezgene\"]))], ignore_index=True)\n",
    "\n",
    "DEGs_entrez_id.shape[0]"
   ]
  },
  {
   "cell_type": "code",
   "execution_count": 27,
   "metadata": {},
   "outputs": [],
   "source": [
    "# assign GDSC datasets to new variables\n",
    "\n",
    "exprs_z = GDSCE\n",
    "cna = GDSCC\n",
    "responses = GDSCR"
   ]
  },
  {
   "cell_type": "code",
   "execution_count": 28,
   "metadata": {},
   "outputs": [
    {
     "data": {
      "text/html": [
       "<div>\n",
       "<style scoped>\n",
       "    .dataframe tbody tr th:only-of-type {\n",
       "        vertical-align: middle;\n",
       "    }\n",
       "\n",
       "    .dataframe tbody tr th {\n",
       "        vertical-align: top;\n",
       "    }\n",
       "\n",
       "    .dataframe thead th {\n",
       "        text-align: right;\n",
       "    }\n",
       "</style>\n",
       "<table border=\"1\" class=\"dataframe\">\n",
       "  <thead>\n",
       "    <tr style=\"text-align: right;\">\n",
       "      <th></th>\n",
       "      <th>response</th>\n",
       "      <th>logIC50</th>\n",
       "      <th>drug</th>\n",
       "      <th>exprs</th>\n",
       "      <th>CNA</th>\n",
       "      <th>mutations</th>\n",
       "    </tr>\n",
       "  </thead>\n",
       "  <tbody>\n",
       "    <tr>\n",
       "      <th>683665</th>\n",
       "      <td>0</td>\n",
       "      <td>1.49001536063508</td>\n",
       "      <td>Afatinib</td>\n",
       "      <td>1</td>\n",
       "      <td>1</td>\n",
       "      <td>1</td>\n",
       "    </tr>\n",
       "    <tr>\n",
       "      <th>683665</th>\n",
       "      <td>0</td>\n",
       "      <td>3.70042086392846</td>\n",
       "      <td>Afatinib (rescreen)</td>\n",
       "      <td>1</td>\n",
       "      <td>1</td>\n",
       "      <td>1</td>\n",
       "    </tr>\n",
       "    <tr>\n",
       "      <th>683665</th>\n",
       "      <td>0</td>\n",
       "      <td>6.29444657935625</td>\n",
       "      <td>Cetuximab</td>\n",
       "      <td>1</td>\n",
       "      <td>1</td>\n",
       "      <td>1</td>\n",
       "    </tr>\n",
       "  </tbody>\n",
       "</table>\n",
       "</div>"
      ],
      "text/plain": [
       "        response           logIC50                 drug  exprs  CNA  mutations\n",
       "683665         0  1.49001536063508             Afatinib      1    1          1\n",
       "683665         0  3.70042086392846  Afatinib (rescreen)      1    1          1\n",
       "683665         0  6.29444657935625            Cetuximab      1    1          1"
      ]
     },
     "execution_count": 28,
     "metadata": {},
     "output_type": "execute_result"
    }
   ],
   "source": [
    "# GDSC response dataset\n",
    "\n",
    "responses.head(3)"
   ]
  },
  {
   "cell_type": "code",
   "execution_count": 29,
   "metadata": {
    "scrolled": true
   },
   "outputs": [
    {
     "data": {
      "text/plain": [
       "{'Afatinib',\n",
       " 'Afatinib (rescreen)',\n",
       " 'CUDC-101',\n",
       " 'Cetuximab',\n",
       " 'EKB-569',\n",
       " 'Erlotinib',\n",
       " 'Gefitinib',\n",
       " 'HG-5-88-01',\n",
       " 'Lapatinib'}"
      ]
     },
     "execution_count": 29,
     "metadata": {},
     "output_type": "execute_result"
    }
   ],
   "source": [
    "# list drug names in GDSC response dataset\n",
    "\n",
    "drugs = set(responses[\"drug\"].values)\n",
    "drugs"
   ]
  },
  {
   "cell_type": "code",
   "execution_count": 30,
   "metadata": {},
   "outputs": [
    {
     "name": "stdout",
     "output_type": "stream",
     "text": [
      "GDSC # of common samples and genes (Expression): (5633, 1019)\n",
      "GDSC # of common samples and genes (CNA): (5633, 1019)\n",
      "GDSC # of common samples (Response): 5633\n",
      "\n",
      "PDX # of common samples and genes for Erlotinib (Expression): (21, 1019)\n",
      "PDX # of common samples and genes for Erlotinib (CNA): (21, 1019)\n",
      "\n"
     ]
    }
   ],
   "source": [
    "# filter GDSC expression and CNA datasets (EGFRi) as to drugs\n",
    "# subset selected DEGs\n",
    "\n",
    "expression_zscores = []\n",
    "CNA = []\n",
    "for drug in drugs:\n",
    "    samples = responses.loc[responses[\"drug\"] == drug, :].index.values\n",
    "    e_z = exprs_z.loc[samples, :]\n",
    "    c = cna.loc[samples, :]\n",
    "    expression_zscores.append(e_z)\n",
    "    CNA.append(c)\n",
    "\n",
    "GDSCEv2 = pd.concat(expression_zscores, axis=0)\n",
    "GDSCCv2 = pd.concat(CNA, axis=0)\n",
    "GDSCRv2 = responses\n",
    "\n",
    "ls7 = list(set(GDSCE.columns).intersection(set(DEGs_entrez_id.astype(int))))\n",
    "ls8 = GDSCEv2.index.intersection(GDSCCv2.index)\n",
    "\n",
    "GDSCEv2 = GDSCEv2.loc[ls8, ls7]\n",
    "GDSCCv2 = GDSCCv2.loc[ls8, ls7]\n",
    "GDSCRv2 = GDSCRv2.loc[ls8, :]\n",
    "\n",
    "PDXEerlotinib = PDXEerlotinib.loc[:,ls7]\n",
    "PDXCerlotinib = PDXCerlotinib.loc[:,ls7]\n",
    "\n",
    "responses.index = responses.index.values + \"_\" + responses[\"drug\"].values\n",
    "\n",
    "print(f\"GDSC # of common samples and genes (Expression): {GDSCEv2.shape}\")\n",
    "print(f\"GDSC # of common samples and genes (CNA): {GDSCCv2.shape}\")\n",
    "print(f\"GDSC # of common samples (Response): {GDSCRv2.shape[0]}\\n\")\n",
    "\n",
    "print(f\"PDX # of common samples and genes for Erlotinib (Expression): {PDXEerlotinib.shape}\")\n",
    "print(f\"PDX # of common samples and genes for Erlotinib (CNA): {PDXCerlotinib.shape}\\n\")"
   ]
  },
  {
   "cell_type": "code",
   "execution_count": 31,
   "metadata": {},
   "outputs": [
    {
     "name": "stdout",
     "output_type": "stream",
     "text": [
      "[0 0 0 ... 1 0 0]\n"
     ]
    }
   ],
   "source": [
    "# GDSC response values\n",
    "\n",
    "Y = GDSCRv2['response'].values\n",
    "print(Y)"
   ]
  },
  {
   "cell_type": "code",
   "execution_count": 32,
   "metadata": {},
   "outputs": [
    {
     "data": {
      "text/plain": [
       "'/Volumes/Expansion/Thesis Work/Results/preprocessed_results2/response'"
      ]
     },
     "execution_count": 32,
     "metadata": {},
     "output_type": "execute_result"
    }
   ],
   "source": [
    "# change directory to read PDX response dataset (Erlotinib)\n",
    "\n",
    "os.chdir(dataset_dir + \"response\")\n",
    "os.getcwd()"
   ]
  },
  {
   "cell_type": "code",
   "execution_count": 33,
   "metadata": {},
   "outputs": [
    {
     "name": "stdout",
     "output_type": "stream",
     "text": [
      "There are 21 samples with response data in the PDX (Erlotinib)\n",
      "\n"
     ]
    },
    {
     "data": {
      "text/plain": [
       "array([0, 0, 0, 0, 0, 0, 1, 1, 0, 0, 0, 0, 0, 0, 0, 0, 0, 1, 0, 0, 0])"
      ]
     },
     "execution_count": 33,
     "metadata": {},
     "output_type": "execute_result"
    }
   ],
   "source": [
    "# read PDX response dataset (Erlotinib)\n",
    "\n",
    "PDXRerlotinib = pd.read_csv(\"PDX_response.Erlotinib.tsv\", \n",
    "                      sep = \"\\t\", \n",
    "                      index_col=0, \n",
    "                      decimal = \",\")\n",
    "PDXRerlotinib.dropna(inplace=True)\n",
    "PDXRerlotinib.rename(mapper=str, axis='index', inplace=True)\n",
    "d = {\"R\": 0, \"S\": 1}\n",
    "PDXRerlotinib[\"response\"] = PDXRerlotinib.loc[:, \"response\"].apply(lambda x: d[x])\n",
    "Ytserlotinib = PDXRerlotinib[\"response\"].values    \n",
    "\n",
    "print(f\"There are {Ytserlotinib.shape[0]} samples with response data in the PDX (Erlotinib)\\n\")\n",
    "Ytserlotinib"
   ]
  },
  {
   "cell_type": "code",
   "execution_count": 34,
   "metadata": {},
   "outputs": [
    {
     "data": {
      "text/html": [
       "<div>\n",
       "<style scoped>\n",
       "    .dataframe tbody tr th:only-of-type {\n",
       "        vertical-align: middle;\n",
       "    }\n",
       "\n",
       "    .dataframe tbody tr th {\n",
       "        vertical-align: top;\n",
       "    }\n",
       "\n",
       "    .dataframe thead th {\n",
       "        text-align: right;\n",
       "    }\n",
       "</style>\n",
       "<table border=\"1\" class=\"dataframe\">\n",
       "  <thead>\n",
       "    <tr style=\"text-align: right;\">\n",
       "      <th></th>\n",
       "      <th>Tumor Type</th>\n",
       "    </tr>\n",
       "    <tr>\n",
       "      <th>Model</th>\n",
       "      <th></th>\n",
       "    </tr>\n",
       "  </thead>\n",
       "  <tbody>\n",
       "    <tr>\n",
       "      <th>X-1156</th>\n",
       "      <td>NSCLC</td>\n",
       "    </tr>\n",
       "    <tr>\n",
       "      <th>X-1172</th>\n",
       "      <td>NSCLC</td>\n",
       "    </tr>\n",
       "    <tr>\n",
       "      <th>X-1189</th>\n",
       "      <td>NSCLC</td>\n",
       "    </tr>\n",
       "    <tr>\n",
       "      <th>X-1228</th>\n",
       "      <td>NSCLC</td>\n",
       "    </tr>\n",
       "    <tr>\n",
       "      <th>X-1323</th>\n",
       "      <td>NSCLC</td>\n",
       "    </tr>\n",
       "  </tbody>\n",
       "</table>\n",
       "</div>"
      ],
      "text/plain": [
       "       Tumor Type\n",
       "Model            \n",
       "X-1156      NSCLC\n",
       "X-1172      NSCLC\n",
       "X-1189      NSCLC\n",
       "X-1228      NSCLC\n",
       "X-1323      NSCLC"
      ]
     },
     "execution_count": 34,
     "metadata": {},
     "output_type": "execute_result"
    }
   ],
   "source": [
    "# read PDX dataset to select cohorts (Erlotinib)\n",
    "\n",
    "pdx_cohort = pd.read_excel(pdx_data_dir + \"/nm.3954-S2.xlsx\",\n",
    "                              \"PCT raw data\")\n",
    "pdx_cohort = pdx_cohort.loc[pdx_cohort[\"Treatment\"] == \"erlotinib\",]\n",
    "pdx_cohort = pdx_cohort.loc[:,[\"Model\",\"Tumor Type\"]]\n",
    "pdx_cohort = pdx_cohort.drop_duplicates()\n",
    "pdx_cohort.set_index(\"Model\", inplace = True) \n",
    "pdx_cohort.head()"
   ]
  },
  {
   "cell_type": "code",
   "execution_count": 35,
   "metadata": {},
   "outputs": [
    {
     "data": {
      "text/plain": [
       "Tumor Type\n",
       "NSCLC    21\n",
       "Name: count, dtype: int64"
      ]
     },
     "execution_count": 35,
     "metadata": {},
     "output_type": "execute_result"
    }
   ],
   "source": [
    "# merged PDX cohort table with PDX response dataset (Erlotinib)\n",
    "\n",
    "dat_pdx = pd.merge(pdx_cohort,\n",
    "                   PDXRerlotinib,\n",
    "                   left_index = True,\n",
    "                   right_index = True)\n",
    "dat_pdx[\"Tumor Type\"].value_counts()"
   ]
  },
  {
   "cell_type": "code",
   "execution_count": 36,
   "metadata": {},
   "outputs": [
    {
     "data": {
      "text/plain": [
       "Index(['X-1156', 'X-1172', 'X-1323', 'X-1442', 'X-1499', 'X-1586', 'X-1658',\n",
       "       'X-1683', 'X-1725', 'X-1787', 'X-1823', 'X-1934', 'X-1993', 'X-2017',\n",
       "       'X-2042', 'X-2088', 'X-2094', 'X-3029', 'X-3237', 'X-3843', 'X-4819'],\n",
       "      dtype='object')"
      ]
     },
     "execution_count": 36,
     "metadata": {},
     "output_type": "execute_result"
    }
   ],
   "source": [
    "# filter NSCLC cohort samples (Erlotinib)\n",
    "\n",
    "filter = (dat_pdx[\"Tumor Type\"] == \"NSCLC\")\n",
    "pdx_nsclc_samples = dat_pdx.loc[filter,].index\n",
    "pdx_nsclc_samples"
   ]
  },
  {
   "cell_type": "code",
   "execution_count": 37,
   "metadata": {},
   "outputs": [
    {
     "data": {
      "text/plain": [
       "array([0, 0, 0, 0, 0, 0, 1, 1, 0, 0, 0, 0, 0, 0, 0, 0, 0, 1, 0, 0, 0])"
      ]
     },
     "execution_count": 37,
     "metadata": {},
     "output_type": "execute_result"
    }
   ],
   "source": [
    "# filter responses of NSCLC cohort samples (Erlotinib)\n",
    "\n",
    "Ytserlotinib_nsclc = PDXRerlotinib.loc[pdx_nsclc_samples,\"response\"].values\n",
    "Ytserlotinib_nsclc"
   ]
  },
  {
   "cell_type": "code",
   "execution_count": 38,
   "metadata": {},
   "outputs": [
    {
     "data": {
      "text/plain": [
       "response\n",
       "0    18\n",
       "1     3\n",
       "Name: count, dtype: int64"
      ]
     },
     "execution_count": 38,
     "metadata": {},
     "output_type": "execute_result"
    }
   ],
   "source": [
    "# count of sensitive and resistance NSCLC samples (Erlotinib)\n",
    "\n",
    "PDXRerlotinib.loc[pdx_nsclc_samples,\"response\"].value_counts()"
   ]
  },
  {
   "cell_type": "code",
   "execution_count": 39,
   "metadata": {},
   "outputs": [],
   "source": [
    "# define maximum iteration\n",
    "\n",
    "max_iter = 50"
   ]
  },
  {
   "cell_type": "code",
   "execution_count": 40,
   "metadata": {},
   "outputs": [],
   "source": [
    "# assign number of neurons and dropout rates found for layers from the saved models\n",
    "\n",
    "hdm1 = 512\n",
    "hdm2 = 256\n",
    "rate1 = 0.5\n",
    "rate2 = 0.8\n",
    "rate3 = 0.8"
   ]
  },
  {
   "cell_type": "code",
   "execution_count": 41,
   "metadata": {},
   "outputs": [
    {
     "name": "stdout",
     "output_type": "stream",
     "text": [
      "GDSC - Training AUC (EGFRi): 0.78\n",
      "GDSC - Training AUCPR (EGFRi): 0.34\n",
      "PDX - Test AUC (Erlotinib): 0.81\n",
      "PDX - Test AUCPR (Erlotinib): 0.48\n",
      "PDX - Test AUC (Erlotinib, NSCLC): 0.81\n",
      "PDX - Test AUCPR (Erlotinib, NSCLC): 0.48\n",
      "\n",
      "GDSC - Training AUC (EGFRi, Finetuned): 0.81\n",
      "GDSC - Training AUCPR (EGFRi, Finetuned): 0.43\n",
      "PDX - Test AUC (Erlotinib, Finetuned): 0.85\n",
      "PDX - Test AUCPR (Erlotinib, Finetuned): 0.61\n",
      "\n",
      "GDSC - Training AUC (EGFRi, Finetuned): 0.81\n",
      "GDSC - Training AUCPR (EGFRi, Finetuned): 0.43\n",
      "PDX - Test AUC (Erlotinib, NSCLC, Finetuned): 0.85\n",
      "PDX - Test AUCPR (Erlotinib, NSCLC, Finetuned): 0.61\n",
      "\n",
      "\n",
      "Models for maximum finetuning (Erlotinib)\n",
      "Exprs_Erlotinib_GDSC_PDX_EGFRi_Expression_CNA_Finetuned_11.pt\n",
      "CNA_Erlotinib_GDSC_PDX_EGFRi_Expression_CNA_Finetuned_11.pt\n",
      "Class_Erlotinib_GDSC_PDX_EGFRi_Expression_CNA_Finetuned_11.pt\n",
      "\n",
      "Models for maximum finetuning (Erlotinib, NSCLC)\n",
      "Exprs_Erlotinib_GDSC_PDX_EGFRi_Expression_CNA_Finetuned_11.pt\n",
      "CNA_Erlotinib_GDSC_PDX_EGFRi_Expression_CNA_Finetuned_11.pt\n",
      "Class_Erlotinib_GDSC_PDX_EGFRi_Expression_CNA_Finetuned_11.pt\n"
     ]
    }
   ],
   "source": [
    "# load pre-trained modules and make predictions\n",
    "\n",
    "scalerGDSC = sk.StandardScaler()\n",
    "scalerGDSC.fit(GDSCEv2.values)\n",
    "X_trainE = scalerGDSC.transform(GDSCEv2.values)\n",
    "X_testEerlotinib = scalerGDSC.transform(PDXEerlotinib.values) \n",
    "X_testEerlotinib_nsclc = scalerGDSC.transform(PDXEerlotinib.loc[pdx_nsclc_samples,].values) \n",
    "\n",
    "X_trainC = np.nan_to_num(GDSCCv2.values)\n",
    "X_testCerlotinib = np.nan_to_num(PDXCerlotinib.values.astype(np.float32))\n",
    "X_testCerlotinib_nsclc = np.nan_to_num(PDXCerlotinib.loc[pdx_nsclc_samples,].values.astype(np.float32))\n",
    "\n",
    "TX_testEerlotinib = torch.FloatTensor(X_testEerlotinib)\n",
    "TX_testEerlotinib_nsclc = torch.FloatTensor(X_testEerlotinib_nsclc)\n",
    "\n",
    "TX_testCerlotinib = torch.FloatTensor(X_testCerlotinib.astype(np.float32))\n",
    "TX_testCerlotinib_nsclc = torch.FloatTensor(X_testCerlotinib_nsclc.astype(np.float32))\n",
    "\n",
    "ty_testEerlotinib = torch.FloatTensor(Ytserlotinib.astype(int))\n",
    "ty_testEerlotinib_nsclc = torch.FloatTensor(Ytserlotinib_nsclc.astype(int))\n",
    "\n",
    "\n",
    "n_sampE, IE_dim = X_trainE.shape\n",
    "n_sampC, IC_dim = X_trainC.shape\n",
    "\n",
    "h_dim1 = hdm1\n",
    "h_dim2 = hdm2\n",
    "Z_in = h_dim1 + h_dim2 \n",
    "\n",
    "class AEE(nn.Module):\n",
    "    def __init__(self):\n",
    "        super(AEE, self).__init__()\n",
    "        self.EnE = torch.nn.Sequential(\n",
    "            nn.Linear(IE_dim, h_dim1),\n",
    "            nn.BatchNorm1d(h_dim1),\n",
    "            nn.ReLU(),\n",
    "\n",
    "            nn.Dropout(rate1))\n",
    "    def forward(self, x):\n",
    "        output = self.EnE(x)\n",
    "        return output  \n",
    "\n",
    "\n",
    "class AEC(nn.Module):\n",
    "    def __init__(self):\n",
    "        super(AEC, self).__init__()\n",
    "        self.EnC = torch.nn.Sequential(\n",
    "            nn.Linear(IC_dim, h_dim2),\n",
    "            nn.BatchNorm1d(h_dim2),\n",
    "            nn.ReLU(),\n",
    "            nn.Dropout(rate2))\n",
    "    def forward(self, x):\n",
    "        output = self.EnC(x)\n",
    "        return output       \n",
    "\n",
    "class Classifier(nn.Module):\n",
    "    def __init__(self):\n",
    "        super(Classifier, self).__init__()\n",
    "        self.FC = torch.nn.Sequential(\n",
    "            nn.Linear(Z_in, 1),\n",
    "            nn.Dropout(rate3),\n",
    "            nn.Sigmoid())\n",
    "    def forward(self, x):\n",
    "        return self.FC(x)\n",
    "\n",
    "torch.cuda.manual_seed_all(42)\n",
    "\n",
    "AutoencoderE = torch.load(models_dir + \"Exprs_Erlotinib_GDSC_PDX_EGFRi_Expression_CNA.pt\")\n",
    "AutoencoderC = torch.load(models_dir + \"CNA_Erlotinib_GDSC_PDX_EGFRi_Expression_CNA.pt\")\n",
    "\n",
    "Clas = torch.load(models_dir + \"Class_Erlotinib_GDSC_PDX_EGFRi_Expression_CNA.pt\")\n",
    "\n",
    "AutoencoderE.eval()\n",
    "AutoencoderC.eval()\n",
    "Clas.eval()\n",
    "\n",
    "ZEX = AutoencoderE(torch.FloatTensor(X_trainE))\n",
    "ZCX = AutoencoderC(torch.FloatTensor(X_trainC))\n",
    "ZTX = torch.cat((ZEX, ZCX), 1)\n",
    "ZTX = F.normalize(ZTX, p=2, dim=0)\n",
    "PredX = Clas(ZTX)\n",
    "AUCT = roc_auc_score(Y, PredX.detach().numpy())\n",
    "#print(f\"GDSC - Training AUC (PDX_EGFRi): {round(AUCT,2)}\")\n",
    "AUCTaucpr = average_precision_score(Y, PredX.detach().numpy())\n",
    "#print(f\"GDSC - Training AUCPR (PDX_EGFRi): {round(AUCTaucpr,2)}\\n\")\n",
    "\n",
    "ZETerlotinib = AutoencoderE(TX_testEerlotinib)\n",
    "ZCTerlotinib = AutoencoderC(TX_testCerlotinib)\n",
    "ZTTerlotinib = torch.cat((ZETerlotinib, ZCTerlotinib), 1)\n",
    "ZTTerlotinib = F.normalize(ZTTerlotinib, p=2, dim=0)\n",
    "PredTerlotinib = Clas(ZTTerlotinib)\n",
    "AUCTerlotinib = roc_auc_score(Ytserlotinib.astype(int), PredTerlotinib.detach().numpy())\n",
    "#print(f\"PDX - Test AUC (Erlotinib): {round(AUCTerlotinib,2)}\")\n",
    "AUCTerlotinib_aucpr = average_precision_score(Ytserlotinib.astype(int), PredTerlotinib.detach().numpy())\n",
    "#print(f\"PDX - Test AUCPR (Erlotinib): {round(AUCTerlotinib_aucpr,2)}\\n\")\n",
    "\n",
    "ZETerlotinib_nsclc = AutoencoderE(TX_testEerlotinib_nsclc)\n",
    "ZCTerlotinib_nsclc = AutoencoderC(TX_testCerlotinib_nsclc)\n",
    "ZTTerlotinib_nsclc = torch.cat((ZETerlotinib_nsclc, ZCTerlotinib_nsclc), 1)\n",
    "ZTTerlotinib_nsclc = F.normalize(ZTTerlotinib_nsclc, p=2, dim=0)\n",
    "PredTerlotinib_nsclc = Clas(ZTTerlotinib_nsclc)\n",
    "AUCTerlotinib_nsclc = roc_auc_score(Ytserlotinib_nsclc.astype(int), PredTerlotinib_nsclc.detach().numpy())\n",
    "#print(f\"PDX - Test AUC (Erlotinib, NSCLC): {round(AUCTerlotinib_nsclc,2)}\")\n",
    "AUCTerlotinib_nsclc_aucpr = average_precision_score(Ytserlotinib_nsclc.astype(int), PredTerlotinib_nsclc.detach().numpy())\n",
    "#print(f\"PDX - Test AUCPR (Erlotinib, NSCLC): {round(AUCTerlotinib_nsclc_aucpr,2)}\\n\")\n",
    "\n",
    "AUCT_finetuned = dict()\n",
    "AUCTaucpr_finetuned = dict()\n",
    "AUCTerlotinib_finetuned = dict()\n",
    "AUCTerlotinib_nsclc_finetuned = dict()\n",
    "AUCTerlotinib_aucpr_finetuned = dict()\n",
    "AUCTerlotinib_nsclc_aucpr_finetuned = dict()\n",
    "for iter in range(max_iter):\n",
    "   iter += 1  \n",
    "\n",
    "   AutoencoderE_finetuned = torch.load(models_dir + f\"Finetuned_Models/Exprs_Erlotinib_GDSC_PDX_EGFRi_Expression_CNA_Finetuned_{iter}.pt\")\n",
    "   AutoencoderC_finetuned = torch.load(models_dir + f\"Finetuned_Models/CNA_Erlotinib_GDSC_PDX_EGFRi_Expression_CNA_Finetuned_{iter}.pt\")\n",
    "   Clas_finetuned = torch.load(models_dir + f\"Finetuned_Models/Class_Erlotinib_GDSC_PDX_EGFRi_Expression_CNA_Finetuned_{iter}.pt\")\n",
    "   \n",
    "   AutoencoderE_finetuned.eval()\n",
    "   AutoencoderC_finetuned.eval()\n",
    "   Clas_finetuned.eval()\n",
    "      \n",
    "   ZEX = AutoencoderE_finetuned(torch.FloatTensor(X_trainE))\n",
    "   ZCX = AutoencoderC_finetuned(torch.FloatTensor(X_trainC))\n",
    "   ZTX = torch.cat((ZEX, ZCX), 1)\n",
    "   ZTX = F.normalize(ZTX, p=2, dim=0)\n",
    "   PredX = Clas_finetuned(ZTX)\n",
    "   AUCT_finetuned[iter] = roc_auc_score(Y, PredX.detach().numpy())\n",
    "   AUCTaucpr_finetuned[iter] = average_precision_score(Y, PredX.detach().numpy())\n",
    "   \n",
    "   ZETerlotinib = AutoencoderE_finetuned(TX_testEerlotinib)\n",
    "   ZCTerlotinib = AutoencoderC_finetuned(TX_testCerlotinib)\n",
    "   ZTTerlotinib = torch.cat((ZETerlotinib, ZCTerlotinib), 1)\n",
    "   ZTTerlotinib = F.normalize(ZTTerlotinib, p=2, dim=0)\n",
    "   PredTerlotinib = Clas_finetuned(ZTTerlotinib)\n",
    "   AUCTerlotinib_finetuned[iter] = roc_auc_score(Ytserlotinib.astype(int), PredTerlotinib.detach().numpy())\n",
    "   AUCTerlotinib_aucpr_finetuned[iter] = average_precision_score(Ytserlotinib.astype(int), PredTerlotinib.detach().numpy())\n",
    "\n",
    "   ZETerlotinib_nsclc = AutoencoderE_finetuned(TX_testEerlotinib_nsclc)\n",
    "   ZCTerlotinib_nsclc = AutoencoderC_finetuned(TX_testCerlotinib_nsclc)\n",
    "   ZTTerlotinib_nsclc = torch.cat((ZETerlotinib_nsclc, ZCTerlotinib_nsclc), 1)\n",
    "   ZTTerlotinib_nsclc = F.normalize(ZTTerlotinib_nsclc, p=2, dim=0)\n",
    "   PredTerlotinib_nsclc = Clas_finetuned(ZTTerlotinib_nsclc)\n",
    "   AUCTerlotinib_nsclc_finetuned[iter] = roc_auc_score(Ytserlotinib_nsclc.astype(int), PredTerlotinib_nsclc.detach().numpy())\n",
    "   AUCTerlotinib_nsclc_aucpr_finetuned[iter] = average_precision_score(Ytserlotinib_nsclc.astype(int), PredTerlotinib_nsclc.detach().numpy())\n",
    "\n",
    "max_key = max(AUCTerlotinib_aucpr_finetuned, key=AUCTerlotinib_aucpr_finetuned.get)\n",
    "max_key_nsclc = max(AUCTerlotinib_nsclc_aucpr_finetuned, key=AUCTerlotinib_nsclc_aucpr_finetuned.get)\n",
    "\n",
    "print(f\"GDSC - Training AUC (EGFRi): {round(AUCT,2)}\")\n",
    "print(f\"GDSC - Training AUCPR (EGFRi): {round(AUCTaucpr,2)}\")\n",
    "print(f\"PDX - Test AUC (Erlotinib): {round(AUCTerlotinib,2)}\")\n",
    "print(f\"PDX - Test AUCPR (Erlotinib): {round(AUCTerlotinib_aucpr,2)}\")\n",
    "print(f\"PDX - Test AUC (Erlotinib, NSCLC): {round(AUCTerlotinib_nsclc,2)}\")\n",
    "print(f\"PDX - Test AUCPR (Erlotinib, NSCLC): {round(AUCTerlotinib_nsclc_aucpr,2)}\\n\")\n",
    "\n",
    "print(f\"GDSC - Training AUC (EGFRi, Finetuned): {round(AUCT_finetuned[max_key],2)}\")\n",
    "print(f\"GDSC - Training AUCPR (EGFRi, Finetuned): {round(AUCTaucpr_finetuned[max_key],2)}\")\n",
    "print(f\"PDX - Test AUC (Erlotinib, Finetuned): {round(AUCTerlotinib_finetuned[max_key],2)}\")\n",
    "print(f\"PDX - Test AUCPR (Erlotinib, Finetuned): {round(AUCTerlotinib_aucpr_finetuned[max_key],2)}\\n\")\n",
    "\n",
    "\n",
    "print(f\"GDSC - Training AUC (EGFRi, Finetuned): {round(AUCT_finetuned[max_key_nsclc],2)}\")\n",
    "print(f\"GDSC - Training AUCPR (EGFRi, Finetuned): {round(AUCTaucpr_finetuned[max_key_nsclc],2)}\")\n",
    "print(f\"PDX - Test AUC (Erlotinib, NSCLC, Finetuned): {round(AUCTerlotinib_nsclc_finetuned[max_key_nsclc],2)}\")\n",
    "print(f\"PDX - Test AUCPR (Erlotinib, NSCLC, Finetuned): {round(AUCTerlotinib_nsclc_aucpr_finetuned[max_key_nsclc],2)}\\n\\n\")\n",
    "\n",
    "print(\"Models for maximum finetuning (Erlotinib)\")\n",
    "print(f\"Exprs_Erlotinib_GDSC_PDX_EGFRi_Expression_CNA_Finetuned_{max_key}.pt\")\n",
    "print(f\"CNA_Erlotinib_GDSC_PDX_EGFRi_Expression_CNA_Finetuned_{max_key}.pt\")\n",
    "print(f\"Class_Erlotinib_GDSC_PDX_EGFRi_Expression_CNA_Finetuned_{max_key}.pt\")\n",
    "\n",
    "\n",
    "print(\"\\nModels for maximum finetuning (Erlotinib, NSCLC)\")\n",
    "print(f\"Exprs_Erlotinib_GDSC_PDX_EGFRi_Expression_CNA_Finetuned_{max_key_nsclc}.pt\")\n",
    "print(f\"CNA_Erlotinib_GDSC_PDX_EGFRi_Expression_CNA_Finetuned_{max_key_nsclc}.pt\")\n",
    "print(f\"Class_Erlotinib_GDSC_PDX_EGFRi_Expression_CNA_Finetuned_{max_key_nsclc}.pt\")"
   ]
  },
  {
   "cell_type": "code",
   "execution_count": 42,
   "metadata": {},
   "outputs": [
    {
     "data": {
      "text/plain": [
       "AEE(\n",
       "  (EnE): Sequential(\n",
       "    (0): Linear(in_features=1019, out_features=512, bias=True)\n",
       "    (1): BatchNorm1d(512, eps=1e-05, momentum=0.1, affine=True, track_running_stats=True)\n",
       "    (2): ReLU()\n",
       "    (3): Dropout(p=0.5, inplace=False)\n",
       "  )\n",
       ")"
      ]
     },
     "execution_count": 42,
     "metadata": {},
     "output_type": "execute_result"
    }
   ],
   "source": [
    "# show expression layer parameters\n",
    "\n",
    "AutoencoderE"
   ]
  },
  {
   "cell_type": "code",
   "execution_count": 43,
   "metadata": {},
   "outputs": [
    {
     "data": {
      "text/plain": [
       "AEC(\n",
       "  (EnC): Sequential(\n",
       "    (0): Linear(in_features=1019, out_features=256, bias=True)\n",
       "    (1): BatchNorm1d(256, eps=1e-05, momentum=0.1, affine=True, track_running_stats=True)\n",
       "    (2): ReLU()\n",
       "    (3): Dropout(p=0.8, inplace=False)\n",
       "  )\n",
       ")"
      ]
     },
     "execution_count": 43,
     "metadata": {},
     "output_type": "execute_result"
    }
   ],
   "source": [
    "# show CNA layer parameters\n",
    "\n",
    "AutoencoderC"
   ]
  },
  {
   "cell_type": "code",
   "execution_count": 44,
   "metadata": {},
   "outputs": [
    {
     "data": {
      "text/plain": [
       "Classifier(\n",
       "  (FC): Sequential(\n",
       "    (0): Linear(in_features=768, out_features=1, bias=True)\n",
       "    (1): Dropout(p=0.8, inplace=False)\n",
       "    (2): Sigmoid()\n",
       "  )\n",
       ")"
      ]
     },
     "execution_count": 44,
     "metadata": {},
     "output_type": "execute_result"
    }
   ],
   "source": [
    "# show classification layer parameters\n",
    "\n",
    "Clas"
   ]
  },
  {
   "cell_type": "code",
   "execution_count": 45,
   "metadata": {
    "scrolled": true
   },
   "outputs": [],
   "source": [
    "# create a dataframe with the prediction results \n",
    "\n",
    "ec = {\"Data\": [\"Expr + CNA\", \"Expr + CNA (Fine-tuned)\"],\n",
    "       \"AUC (GDSC)\": [round(AUCT, 2), round(AUCT_finetuned[max_key], 2)],\n",
    "       \"AUCPR (GDSC)\": [round(AUCTaucpr,2), round(AUCTaucpr_finetuned[max_key],2)],\n",
    "       \"AUC (PDX)\": [round(AUCTerlotinib,2), round(AUCTerlotinib_finetuned[max_key],2)],\n",
    "       \"AUCPR (PDX)\":  [round(AUCTerlotinib_aucpr,2), round(AUCTerlotinib_aucpr_finetuned[max_key],2)],\n",
    "       \"AUC (PDX-NSCLC)\":  [round(AUCTerlotinib_nsclc,2), round(AUCTerlotinib_nsclc_finetuned[max_key_nsclc],2)],\n",
    "       \"AUCPR (PDX-NSCLC)\": [round(AUCTerlotinib_nsclc_aucpr,2), round(AUCTerlotinib_nsclc_aucpr_finetuned[max_key_nsclc],2)],\n",
    "       \"Sample Size (GDSC)\": [GDSCEv2.shape[0], GDSCEv2.shape[0]],\n",
    "       \"Feature Size (GDSC)\": [GDSCEv2.shape[1], GDSCEv2.shape[1]] \n",
    "}\n",
    "ec_dataframe = pd.DataFrame.from_dict(ec, orient='index').transpose()  \n",
    "ec_dataframe.to_csv(save_results_to + \"GDSC_PDX_Expression_CNA_EGFRi_Erlotinib.tsv\",\n",
    "                    sep = \"\\t\",\n",
    "                    index = False)"
   ]
  },
  {
   "cell_type": "code",
   "execution_count": 46,
   "metadata": {},
   "outputs": [
    {
     "name": "stdout",
     "output_type": "stream",
     "text": [
      "/Volumes/Expansion/Thesis Work/Results/Transfer Learning/Drugs with same pathways/PDX_EGFRi/Expression_CNA/Predictions\n"
     ]
    }
   ],
   "source": [
    "# change directory\n",
    "\n",
    "os.chdir(save_results_to)\n",
    "print(os.getcwd())"
   ]
  },
  {
   "cell_type": "code",
   "execution_count": 47,
   "metadata": {},
   "outputs": [],
   "source": [
    "# save predictions\n",
    "\n",
    "file = open('GDSC_PDX_DEGs - PDX_EGFRi_Erlotinib Predictions (Expression and CNA).txt', 'w')\n",
    "file.write(f\"GDSC Training (EC) AUC (PDX_EGFRi): {round(AUCT,2)}\\n\")\n",
    "file.write(f\"GDSC Training (EC) AUCPR (PDX_EGFRi): {round(AUCTaucpr,2)}\\n\\n\")\n",
    "\n",
    "file.write(f\"PDX Test (EC) AUC (Erlotinib): {round(AUCTerlotinib,2)}\\n\")\n",
    "file.write(f\"PDX Test (EC) AUCPR (Erlotinib): {round(AUCTerlotinib_aucpr,2)}\\n\\n\")\n",
    "\n",
    "file.close()"
   ]
  }
 ],
 "metadata": {
  "kernelspec": {
   "display_name": "Python 3 (ipykernel)",
   "language": "python",
   "name": "python3"
  },
  "language_info": {
   "codemirror_mode": {
    "name": "ipython",
    "version": 3
   },
   "file_extension": ".py",
   "mimetype": "text/x-python",
   "name": "python",
   "nbconvert_exporter": "python",
   "pygments_lexer": "ipython3",
   "version": "3.12.7"
  }
 },
 "nbformat": 4,
 "nbformat_minor": 4
}
