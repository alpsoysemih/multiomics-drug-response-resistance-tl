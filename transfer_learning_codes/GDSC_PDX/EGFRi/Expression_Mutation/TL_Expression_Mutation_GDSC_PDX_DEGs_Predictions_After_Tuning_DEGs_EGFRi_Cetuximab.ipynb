{
 "cells": [
  {
   "cell_type": "code",
   "execution_count": 1,
   "metadata": {},
   "outputs": [],
   "source": [
    "# import libraries\n",
    "\n",
    "import os\n",
    "import torch \n",
    "import torch.nn as nn\n",
    "import torch.nn.functional as F\n",
    "import torch.optim as optim\n",
    "import numpy as np\n",
    "import matplotlib.pyplot as plt\n",
    "import pandas as pd\n",
    "import math\n",
    "import mygene\n",
    "import sklearn.preprocessing as sk\n",
    "import seaborn as sns\n",
    "from sklearn import metrics\n",
    "from sklearn.feature_selection import VarianceThreshold\n",
    "from sklearn.model_selection import train_test_split\n",
    "from sklearn.metrics import confusion_matrix\n",
    "from sklearn.metrics import classification_report\n",
    "from torch.utils.data.sampler import WeightedRandomSampler\n",
    "from sklearn.metrics import roc_curve, auc\n",
    "from sklearn.metrics import roc_auc_score\n",
    "from sklearn.metrics import average_precision_score, precision_recall_curve\n",
    "import random\n",
    "from random import randint\n",
    "from sklearn.model_selection import StratifiedKFold\n",
    "import warnings\n",
    "\n",
    "# Suppress all warnings\n",
    "warnings.filterwarnings(\"ignore\")"
   ]
  },
  {
   "cell_type": "code",
   "execution_count": 2,
   "metadata": {},
   "outputs": [],
   "source": [
    "# define directories\n",
    "\n",
    "cell_line_dir = \"/Volumes/Expansion/Thesis Work/Supplementary Files/GDSC/\"\n",
    "models_dir = \"/Volumes/Expansion/Thesis Work/Results/Transfer Learning/Drugs with same pathways/PDX_EGFRi/Expression_Mutation/Models/\"\n",
    "DEGs_dir = \"/Volumes/Expansion/Thesis Work/Results/GDSC_DEGs_inhibitors/EGFRi/\"\n",
    "dataset_dir = \"/Volumes/Expansion/Thesis Work/Results/preprocessed_results2/\"\n",
    "pdx_data_dir = \"/Volumes/Expansion/Thesis Work/Datasets/PDX/Expression/\"\n",
    "save_results_to = \"/Volumes/Expansion/Thesis Work/Results/Transfer Learning/Drugs with same pathways/PDX_EGFRi/Expression_Mutation/Predictions/\""
   ]
  },
  {
   "cell_type": "code",
   "execution_count": 3,
   "metadata": {},
   "outputs": [],
   "source": [
    "# set random seeds\n",
    "\n",
    "torch.manual_seed(42)\n",
    "random.seed(42)"
   ]
  },
  {
   "cell_type": "code",
   "execution_count": 4,
   "metadata": {},
   "outputs": [
    {
     "name": "stdout",
     "output_type": "stream",
     "text": [
      "/Volumes/Expansion/Thesis Work/Supplementary Files/GDSC\n"
     ]
    }
   ],
   "source": [
    "# change directory to read GDSC cell line details\n",
    "\n",
    "os.chdir(cell_line_dir)\n",
    "print(os.getcwd())"
   ]
  },
  {
   "cell_type": "code",
   "execution_count": 5,
   "metadata": {},
   "outputs": [
    {
     "data": {
      "text/html": [
       "<div>\n",
       "<style scoped>\n",
       "    .dataframe tbody tr th:only-of-type {\n",
       "        vertical-align: middle;\n",
       "    }\n",
       "\n",
       "    .dataframe tbody tr th {\n",
       "        vertical-align: top;\n",
       "    }\n",
       "\n",
       "    .dataframe thead th {\n",
       "        text-align: right;\n",
       "    }\n",
       "</style>\n",
       "<table border=\"1\" class=\"dataframe\">\n",
       "  <thead>\n",
       "    <tr style=\"text-align: right;\">\n",
       "      <th></th>\n",
       "      <th>Sample Name</th>\n",
       "      <th>Whole Exome Sequencing (WES)</th>\n",
       "      <th>Copy Number Alterations (CNA)</th>\n",
       "      <th>Gene Expression</th>\n",
       "      <th>Methylation</th>\n",
       "      <th>Drug\\nResponse</th>\n",
       "      <th>GDSC\\nTissue descriptor 1</th>\n",
       "      <th>GDSC\\nTissue\\ndescriptor 2</th>\n",
       "      <th>Cancer Type\\n(matching TCGA label)</th>\n",
       "      <th>Microsatellite \\ninstability Status (MSI)</th>\n",
       "      <th>Screen Medium</th>\n",
       "      <th>Growth Properties</th>\n",
       "    </tr>\n",
       "    <tr>\n",
       "      <th>COSMIC identifier</th>\n",
       "      <th></th>\n",
       "      <th></th>\n",
       "      <th></th>\n",
       "      <th></th>\n",
       "      <th></th>\n",
       "      <th></th>\n",
       "      <th></th>\n",
       "      <th></th>\n",
       "      <th></th>\n",
       "      <th></th>\n",
       "      <th></th>\n",
       "      <th></th>\n",
       "    </tr>\n",
       "  </thead>\n",
       "  <tbody>\n",
       "    <tr>\n",
       "      <th>1298218</th>\n",
       "      <td>KP-2</td>\n",
       "      <td>Y</td>\n",
       "      <td>N</td>\n",
       "      <td>Y</td>\n",
       "      <td>N</td>\n",
       "      <td>Y</td>\n",
       "      <td>pancreas</td>\n",
       "      <td>pancreas</td>\n",
       "      <td>PAAD</td>\n",
       "      <td></td>\n",
       "      <td>D/F12</td>\n",
       "      <td>Adherent</td>\n",
       "    </tr>\n",
       "    <tr>\n",
       "      <th>1330932</th>\n",
       "      <td>KO52</td>\n",
       "      <td>Y</td>\n",
       "      <td>Y</td>\n",
       "      <td>N</td>\n",
       "      <td>N</td>\n",
       "      <td>N</td>\n",
       "      <td>leukemia</td>\n",
       "      <td>acute_myeloid_leukaemia</td>\n",
       "      <td>LAML</td>\n",
       "      <td>MSS/MSI-L</td>\n",
       "      <td>D/F12</td>\n",
       "      <td>NA</td>\n",
       "    </tr>\n",
       "    <tr>\n",
       "      <th>1331030</th>\n",
       "      <td>SC-1</td>\n",
       "      <td>Y</td>\n",
       "      <td>Y</td>\n",
       "      <td>N</td>\n",
       "      <td>N</td>\n",
       "      <td>N</td>\n",
       "      <td>lymphoma</td>\n",
       "      <td>B_cell_lymphoma</td>\n",
       "      <td>DLBC</td>\n",
       "      <td>MSS/MSI-L</td>\n",
       "      <td>R</td>\n",
       "      <td>NA</td>\n",
       "    </tr>\n",
       "    <tr>\n",
       "      <th>1503373</th>\n",
       "      <td>U-CH2</td>\n",
       "      <td>Y</td>\n",
       "      <td>Y</td>\n",
       "      <td>N</td>\n",
       "      <td>N</td>\n",
       "      <td>N</td>\n",
       "      <td>bone</td>\n",
       "      <td>bone_other</td>\n",
       "      <td></td>\n",
       "      <td>MSS/MSI-L</td>\n",
       "      <td>D/F12</td>\n",
       "      <td>Adherent</td>\n",
       "    </tr>\n",
       "    <tr>\n",
       "      <th></th>\n",
       "      <td>TOTAL:</td>\n",
       "      <td>1001</td>\n",
       "      <td>996</td>\n",
       "      <td>968</td>\n",
       "      <td>957</td>\n",
       "      <td>990</td>\n",
       "      <td></td>\n",
       "      <td></td>\n",
       "      <td></td>\n",
       "      <td></td>\n",
       "      <td></td>\n",
       "      <td></td>\n",
       "    </tr>\n",
       "  </tbody>\n",
       "</table>\n",
       "</div>"
      ],
      "text/plain": [
       "                  Sample Name Whole Exome Sequencing (WES)  \\\n",
       "COSMIC identifier                                            \n",
       "1298218                  KP-2                            Y   \n",
       "1330932                  KO52                            Y   \n",
       "1331030                  SC-1                            Y   \n",
       "1503373                 U-CH2                            Y   \n",
       "                       TOTAL:                         1001   \n",
       "\n",
       "                  Copy Number Alterations (CNA) Gene Expression Methylation  \\\n",
       "COSMIC identifier                                                             \n",
       "1298218                                       N               Y           N   \n",
       "1330932                                       Y               N           N   \n",
       "1331030                                       Y               N           N   \n",
       "1503373                                       Y               N           N   \n",
       "                                            996             968         957   \n",
       "\n",
       "                  Drug\\nResponse GDSC\\nTissue descriptor 1  \\\n",
       "COSMIC identifier                                            \n",
       "1298218                        Y                  pancreas   \n",
       "1330932                        N                  leukemia   \n",
       "1331030                        N                  lymphoma   \n",
       "1503373                        N                      bone   \n",
       "                             990                             \n",
       "\n",
       "                  GDSC\\nTissue\\ndescriptor 2  \\\n",
       "COSMIC identifier                              \n",
       "1298218                             pancreas   \n",
       "1330932              acute_myeloid_leukaemia   \n",
       "1331030                      B_cell_lymphoma   \n",
       "1503373                           bone_other   \n",
       "                                               \n",
       "\n",
       "                  Cancer Type\\n(matching TCGA label)  \\\n",
       "COSMIC identifier                                      \n",
       "1298218                                         PAAD   \n",
       "1330932                                         LAML   \n",
       "1331030                                         DLBC   \n",
       "1503373                                                \n",
       "                                                       \n",
       "\n",
       "                  Microsatellite \\ninstability Status (MSI) Screen Medium  \\\n",
       "COSMIC identifier                                                           \n",
       "1298218                                                             D/F12   \n",
       "1330932                                           MSS/MSI-L         D/F12   \n",
       "1331030                                           MSS/MSI-L             R   \n",
       "1503373                                           MSS/MSI-L         D/F12   \n",
       "                                                                            \n",
       "\n",
       "                  Growth Properties  \n",
       "COSMIC identifier                    \n",
       "1298218                    Adherent  \n",
       "1330932                          NA  \n",
       "1331030                          NA  \n",
       "1503373                    Adherent  \n",
       "                                     "
      ]
     },
     "execution_count": 5,
     "metadata": {},
     "output_type": "execute_result"
    }
   ],
   "source": [
    "# read GDSC cell line details table\n",
    "\n",
    "GDSC_cell_line_details = pd.read_excel(\"GDSC_Cell_Lines_Details.xlsx\", keep_default_na = False)\n",
    "GDSC_cell_line_details.set_index(\"COSMIC identifier\", inplace = True)\n",
    "GDSC_cell_line_details.tail()"
   ]
  },
  {
   "cell_type": "code",
   "execution_count": 6,
   "metadata": {},
   "outputs": [
    {
     "name": "stdout",
     "output_type": "stream",
     "text": [
      "/Volumes/Expansion/Thesis Work/Results/preprocessed_results2/exprs\n"
     ]
    }
   ],
   "source": [
    "# change directory to read GDSC expression dataset (EGFRi)\n",
    "\n",
    "os.chdir(dataset_dir + \"/exprs/\")\n",
    "print(os.getcwd())"
   ]
  },
  {
   "cell_type": "code",
   "execution_count": 7,
   "metadata": {},
   "outputs": [
    {
     "data": {
      "text/html": [
       "<div>\n",
       "<style scoped>\n",
       "    .dataframe tbody tr th:only-of-type {\n",
       "        vertical-align: middle;\n",
       "    }\n",
       "\n",
       "    .dataframe tbody tr th {\n",
       "        vertical-align: top;\n",
       "    }\n",
       "\n",
       "    .dataframe thead th {\n",
       "        text-align: right;\n",
       "    }\n",
       "</style>\n",
       "<table border=\"1\" class=\"dataframe\">\n",
       "  <thead>\n",
       "    <tr style=\"text-align: right;\">\n",
       "      <th>ENTREZID</th>\n",
       "      <th>1</th>\n",
       "      <th>2</th>\n",
       "      <th>9</th>\n",
       "      <th>10</th>\n",
       "      <th>12</th>\n",
       "      <th>13</th>\n",
       "      <th>14</th>\n",
       "      <th>15</th>\n",
       "      <th>16</th>\n",
       "      <th>18</th>\n",
       "      <th>...</th>\n",
       "      <th>107984199</th>\n",
       "      <th>107984208</th>\n",
       "      <th>107984325</th>\n",
       "      <th>107984411</th>\n",
       "      <th>107984648</th>\n",
       "      <th>107984889</th>\n",
       "      <th>107984989</th>\n",
       "      <th>107986313</th>\n",
       "      <th>107986782</th>\n",
       "      <th>107986810</th>\n",
       "    </tr>\n",
       "  </thead>\n",
       "  <tbody>\n",
       "    <tr>\n",
       "      <th>683665</th>\n",
       "      <td>-0.4711563767951986</td>\n",
       "      <td>-0.1857522957766964</td>\n",
       "      <td>0.9702409548662462</td>\n",
       "      <td>-0.4081281805960821</td>\n",
       "      <td>-0.4161511169999803</td>\n",
       "      <td>-0.4384159723467665</td>\n",
       "      <td>-1.154692246005183</td>\n",
       "      <td>0.5262132484107975</td>\n",
       "      <td>-0.7950924576033422</td>\n",
       "      <td>-0.6337442716864214</td>\n",
       "      <td>...</td>\n",
       "      <td>1.283534690590172</td>\n",
       "      <td>-0.3367265464586691</td>\n",
       "      <td>-0.0039762988723447</td>\n",
       "      <td>0.7378729872604209</td>\n",
       "      <td>0.9757614264575688</td>\n",
       "      <td>0.1494417647095801</td>\n",
       "      <td>2.062294063911948</td>\n",
       "      <td>-0.8140636761719959</td>\n",
       "      <td>0.2870333828833719</td>\n",
       "      <td>0.9524265085537148</td>\n",
       "    </tr>\n",
       "    <tr>\n",
       "      <th>683667</th>\n",
       "      <td>0.8924335646616343</td>\n",
       "      <td>-0.2118047645974752</td>\n",
       "      <td>-1.5249963829654445</td>\n",
       "      <td>-0.5512338119420259</td>\n",
       "      <td>-0.1375180480622428</td>\n",
       "      <td>-0.5276262991742051</td>\n",
       "      <td>-0.0305604198225781</td>\n",
       "      <td>0.5226216566753464</td>\n",
       "      <td>0.4877783097403741</td>\n",
       "      <td>0.2252883573642275</td>\n",
       "      <td>...</td>\n",
       "      <td>-0.0156845434045267</td>\n",
       "      <td>-0.1612071417519457</td>\n",
       "      <td>1.2033249282722671</td>\n",
       "      <td>2.7714836839186687</td>\n",
       "      <td>-0.3165072496327769</td>\n",
       "      <td>-0.8849200030571541</td>\n",
       "      <td>-0.5104734344593952</td>\n",
       "      <td>0.2984361940989172</td>\n",
       "      <td>-0.4349407065496763</td>\n",
       "      <td>0.4747633022523675</td>\n",
       "    </tr>\n",
       "    <tr>\n",
       "      <th>684057</th>\n",
       "      <td>0.6510004960254864</td>\n",
       "      <td>1.6578876382433665</td>\n",
       "      <td>-0.4977106390881842</td>\n",
       "      <td>-0.1212172092933644</td>\n",
       "      <td>-0.398455281697677</td>\n",
       "      <td>-0.2804901106672752</td>\n",
       "      <td>0.6455898116420014</td>\n",
       "      <td>0.215833091774836</td>\n",
       "      <td>-0.1723595788875009</td>\n",
       "      <td>-0.2170870770552223</td>\n",
       "      <td>...</td>\n",
       "      <td>-0.024863133395904</td>\n",
       "      <td>0.4073439017665206</td>\n",
       "      <td>-0.4440356638831038</td>\n",
       "      <td>0.8630347078663075</td>\n",
       "      <td>1.4486171428489227</td>\n",
       "      <td>-1.4777214830771732</td>\n",
       "      <td>0.5220400480464272</td>\n",
       "      <td>0.6441211958947753</td>\n",
       "      <td>0.9057518606131394</td>\n",
       "      <td>0.3018783753479829</td>\n",
       "    </tr>\n",
       "  </tbody>\n",
       "</table>\n",
       "<p>3 rows × 18597 columns</p>\n",
       "</div>"
      ],
      "text/plain": [
       "ENTREZID            1                    2                    9          \\\n",
       "683665    -0.4711563767951986  -0.1857522957766964   0.9702409548662462   \n",
       "683667     0.8924335646616343  -0.2118047645974752  -1.5249963829654445   \n",
       "684057     0.6510004960254864   1.6578876382433665  -0.4977106390881842   \n",
       "\n",
       "ENTREZID            10                   12                   13         \\\n",
       "683665    -0.4081281805960821  -0.4161511169999803  -0.4384159723467665   \n",
       "683667    -0.5512338119420259  -0.1375180480622428  -0.5276262991742051   \n",
       "684057    -0.1212172092933644   -0.398455281697677  -0.2804901106672752   \n",
       "\n",
       "ENTREZID            14                  15                   16         \\\n",
       "683665     -1.154692246005183  0.5262132484107975  -0.7950924576033422   \n",
       "683667    -0.0305604198225781  0.5226216566753464   0.4877783097403741   \n",
       "684057     0.6455898116420014   0.215833091774836  -0.1723595788875009   \n",
       "\n",
       "ENTREZID            18         ...            107984199            107984208  \\\n",
       "683665    -0.6337442716864214  ...    1.283534690590172  -0.3367265464586691   \n",
       "683667     0.2252883573642275  ...  -0.0156845434045267  -0.1612071417519457   \n",
       "684057    -0.2170870770552223  ...   -0.024863133395904   0.4073439017665206   \n",
       "\n",
       "ENTREZID            107984325           107984411            107984648  \\\n",
       "683665    -0.0039762988723447  0.7378729872604209   0.9757614264575688   \n",
       "683667     1.2033249282722671  2.7714836839186687  -0.3165072496327769   \n",
       "684057    -0.4440356638831038  0.8630347078663075   1.4486171428489227   \n",
       "\n",
       "ENTREZID            107984889            107984989            107986313  \\\n",
       "683665     0.1494417647095801    2.062294063911948  -0.8140636761719959   \n",
       "683667    -0.8849200030571541  -0.5104734344593952   0.2984361940989172   \n",
       "684057    -1.4777214830771732   0.5220400480464272   0.6441211958947753   \n",
       "\n",
       "ENTREZID            107986782           107986810  \n",
       "683665     0.2870333828833719  0.9524265085537148  \n",
       "683667    -0.4349407065496763  0.4747633022523675  \n",
       "684057     0.9057518606131394  0.3018783753479829  \n",
       "\n",
       "[3 rows x 18597 columns]"
      ]
     },
     "execution_count": 7,
     "metadata": {},
     "output_type": "execute_result"
    }
   ],
   "source": [
    "# read GDSC expression dataset (EGFRi)\n",
    "\n",
    "GDSCE = pd.read_csv(\"GDSC_exprs.z.EGFRi.tsv\", \n",
    "                    sep = \"\\t\", index_col=0, decimal = \",\")\n",
    "GDSCE = pd.DataFrame.transpose(GDSCE)\n",
    "GDSCE.head(3)"
   ]
  },
  {
   "cell_type": "code",
   "execution_count": 8,
   "metadata": {},
   "outputs": [
    {
     "name": "stdout",
     "output_type": "stream",
     "text": [
      "/Volumes/Expansion/Thesis Work/Results/preprocessed_results2/mutations\n"
     ]
    }
   ],
   "source": [
    "# change directory to read GDSC mutation dataset (EGFRi)\n",
    "\n",
    "os.chdir(dataset_dir + \"/mutations/\")\n",
    "print(os.getcwd())"
   ]
  },
  {
   "cell_type": "code",
   "execution_count": 9,
   "metadata": {},
   "outputs": [
    {
     "data": {
      "text/html": [
       "<div>\n",
       "<style scoped>\n",
       "    .dataframe tbody tr th:only-of-type {\n",
       "        vertical-align: middle;\n",
       "    }\n",
       "\n",
       "    .dataframe tbody tr th {\n",
       "        vertical-align: top;\n",
       "    }\n",
       "\n",
       "    .dataframe thead th {\n",
       "        text-align: right;\n",
       "    }\n",
       "</style>\n",
       "<table border=\"1\" class=\"dataframe\">\n",
       "  <thead>\n",
       "    <tr style=\"text-align: right;\">\n",
       "      <th></th>\n",
       "      <th>143872</th>\n",
       "      <th>728577</th>\n",
       "      <th>2</th>\n",
       "      <th>2050</th>\n",
       "      <th>10243</th>\n",
       "      <th>79365</th>\n",
       "      <th>256006</th>\n",
       "      <th>4609</th>\n",
       "      <th>118788</th>\n",
       "      <th>113675</th>\n",
       "      <th>...</th>\n",
       "      <th>26517</th>\n",
       "      <th>28972</th>\n",
       "      <th>53917</th>\n",
       "      <th>283507</th>\n",
       "      <th>514</th>\n",
       "      <th>339210</th>\n",
       "      <th>64981</th>\n",
       "      <th>7335</th>\n",
       "      <th>5739</th>\n",
       "      <th>83442</th>\n",
       "    </tr>\n",
       "  </thead>\n",
       "  <tbody>\n",
       "    <tr>\n",
       "      <th>683665</th>\n",
       "      <td>0.0</td>\n",
       "      <td>0.0</td>\n",
       "      <td>0.0</td>\n",
       "      <td>0.0</td>\n",
       "      <td>0.0</td>\n",
       "      <td>0.0</td>\n",
       "      <td>0.0</td>\n",
       "      <td>0.0</td>\n",
       "      <td>0.0</td>\n",
       "      <td>0.0</td>\n",
       "      <td>...</td>\n",
       "      <td>0.0</td>\n",
       "      <td>0.0</td>\n",
       "      <td>0.0</td>\n",
       "      <td>0.0</td>\n",
       "      <td>0.0</td>\n",
       "      <td>0.0</td>\n",
       "      <td>0.0</td>\n",
       "      <td>0.0</td>\n",
       "      <td>0.0</td>\n",
       "      <td>0.0</td>\n",
       "    </tr>\n",
       "    <tr>\n",
       "      <th>683667</th>\n",
       "      <td>0.0</td>\n",
       "      <td>0.0</td>\n",
       "      <td>0.0</td>\n",
       "      <td>0.0</td>\n",
       "      <td>0.0</td>\n",
       "      <td>0.0</td>\n",
       "      <td>0.0</td>\n",
       "      <td>0.0</td>\n",
       "      <td>0.0</td>\n",
       "      <td>0.0</td>\n",
       "      <td>...</td>\n",
       "      <td>0.0</td>\n",
       "      <td>0.0</td>\n",
       "      <td>0.0</td>\n",
       "      <td>0.0</td>\n",
       "      <td>0.0</td>\n",
       "      <td>0.0</td>\n",
       "      <td>0.0</td>\n",
       "      <td>0.0</td>\n",
       "      <td>0.0</td>\n",
       "      <td>0.0</td>\n",
       "    </tr>\n",
       "    <tr>\n",
       "      <th>684057</th>\n",
       "      <td>0.0</td>\n",
       "      <td>0.0</td>\n",
       "      <td>0.0</td>\n",
       "      <td>0.0</td>\n",
       "      <td>0.0</td>\n",
       "      <td>0.0</td>\n",
       "      <td>0.0</td>\n",
       "      <td>0.0</td>\n",
       "      <td>0.0</td>\n",
       "      <td>0.0</td>\n",
       "      <td>...</td>\n",
       "      <td>0.0</td>\n",
       "      <td>0.0</td>\n",
       "      <td>0.0</td>\n",
       "      <td>0.0</td>\n",
       "      <td>0.0</td>\n",
       "      <td>0.0</td>\n",
       "      <td>0.0</td>\n",
       "      <td>0.0</td>\n",
       "      <td>0.0</td>\n",
       "      <td>0.0</td>\n",
       "    </tr>\n",
       "    <tr>\n",
       "      <th>684059</th>\n",
       "      <td>0.0</td>\n",
       "      <td>0.0</td>\n",
       "      <td>0.0</td>\n",
       "      <td>0.0</td>\n",
       "      <td>0.0</td>\n",
       "      <td>0.0</td>\n",
       "      <td>0.0</td>\n",
       "      <td>0.0</td>\n",
       "      <td>0.0</td>\n",
       "      <td>0.0</td>\n",
       "      <td>...</td>\n",
       "      <td>0.0</td>\n",
       "      <td>0.0</td>\n",
       "      <td>0.0</td>\n",
       "      <td>0.0</td>\n",
       "      <td>0.0</td>\n",
       "      <td>0.0</td>\n",
       "      <td>0.0</td>\n",
       "      <td>0.0</td>\n",
       "      <td>0.0</td>\n",
       "      <td>0.0</td>\n",
       "    </tr>\n",
       "    <tr>\n",
       "      <th>684062</th>\n",
       "      <td>0.0</td>\n",
       "      <td>0.0</td>\n",
       "      <td>0.0</td>\n",
       "      <td>0.0</td>\n",
       "      <td>0.0</td>\n",
       "      <td>0.0</td>\n",
       "      <td>0.0</td>\n",
       "      <td>0.0</td>\n",
       "      <td>0.0</td>\n",
       "      <td>0.0</td>\n",
       "      <td>...</td>\n",
       "      <td>0.0</td>\n",
       "      <td>0.0</td>\n",
       "      <td>0.0</td>\n",
       "      <td>0.0</td>\n",
       "      <td>0.0</td>\n",
       "      <td>0.0</td>\n",
       "      <td>0.0</td>\n",
       "      <td>0.0</td>\n",
       "      <td>0.0</td>\n",
       "      <td>0.0</td>\n",
       "    </tr>\n",
       "  </tbody>\n",
       "</table>\n",
       "<p>5 rows × 18377 columns</p>\n",
       "</div>"
      ],
      "text/plain": [
       "        143872  728577  2       2050    10243   79365   256006  4609    \\\n",
       "683665     0.0     0.0     0.0     0.0     0.0     0.0     0.0     0.0   \n",
       "683667     0.0     0.0     0.0     0.0     0.0     0.0     0.0     0.0   \n",
       "684057     0.0     0.0     0.0     0.0     0.0     0.0     0.0     0.0   \n",
       "684059     0.0     0.0     0.0     0.0     0.0     0.0     0.0     0.0   \n",
       "684062     0.0     0.0     0.0     0.0     0.0     0.0     0.0     0.0   \n",
       "\n",
       "        118788  113675  ...  26517   28972   53917   283507  514     339210  \\\n",
       "683665     0.0     0.0  ...     0.0     0.0     0.0     0.0     0.0     0.0   \n",
       "683667     0.0     0.0  ...     0.0     0.0     0.0     0.0     0.0     0.0   \n",
       "684057     0.0     0.0  ...     0.0     0.0     0.0     0.0     0.0     0.0   \n",
       "684059     0.0     0.0  ...     0.0     0.0     0.0     0.0     0.0     0.0   \n",
       "684062     0.0     0.0  ...     0.0     0.0     0.0     0.0     0.0     0.0   \n",
       "\n",
       "        64981   7335    5739    83442   \n",
       "683665     0.0     0.0     0.0     0.0  \n",
       "683667     0.0     0.0     0.0     0.0  \n",
       "684057     0.0     0.0     0.0     0.0  \n",
       "684059     0.0     0.0     0.0     0.0  \n",
       "684062     0.0     0.0     0.0     0.0  \n",
       "\n",
       "[5 rows x 18377 columns]"
      ]
     },
     "execution_count": 9,
     "metadata": {},
     "output_type": "execute_result"
    }
   ],
   "source": [
    "# read GDSC mutation dataset (EGFRi)\n",
    "\n",
    "GDSCM = pd.read_csv(\"GDSC_mutations.EGFRi.tsv\",\n",
    "                    sep=\"\\t\", index_col=0, decimal=\".\")\n",
    "GDSCM.drop_duplicates(keep='last')\n",
    "GDSCM = pd.DataFrame.transpose(GDSCM)\n",
    "GDSCM = GDSCM.loc[:, ~GDSCM.columns.duplicated()]\n",
    "\n",
    "GDSCM.head()"
   ]
  },
  {
   "cell_type": "code",
   "execution_count": 10,
   "metadata": {},
   "outputs": [
    {
     "name": "stdout",
     "output_type": "stream",
     "text": [
      "/Volumes/Expansion/Thesis Work/Results/preprocessed_results2/response\n"
     ]
    }
   ],
   "source": [
    "# change directory to read GDSC response dataset (EGFRi)\n",
    "\n",
    "os.chdir(dataset_dir + \"/response/\")\n",
    "print(os.getcwd())"
   ]
  },
  {
   "cell_type": "code",
   "execution_count": 11,
   "metadata": {},
   "outputs": [
    {
     "data": {
      "text/html": [
       "<div>\n",
       "<style scoped>\n",
       "    .dataframe tbody tr th:only-of-type {\n",
       "        vertical-align: middle;\n",
       "    }\n",
       "\n",
       "    .dataframe tbody tr th {\n",
       "        vertical-align: top;\n",
       "    }\n",
       "\n",
       "    .dataframe thead th {\n",
       "        text-align: right;\n",
       "    }\n",
       "</style>\n",
       "<table border=\"1\" class=\"dataframe\">\n",
       "  <thead>\n",
       "    <tr style=\"text-align: right;\">\n",
       "      <th></th>\n",
       "      <th>response</th>\n",
       "      <th>logIC50</th>\n",
       "      <th>drug</th>\n",
       "      <th>exprs</th>\n",
       "      <th>CNA</th>\n",
       "      <th>mutations</th>\n",
       "    </tr>\n",
       "    <tr>\n",
       "      <th>sample_name</th>\n",
       "      <th></th>\n",
       "      <th></th>\n",
       "      <th></th>\n",
       "      <th></th>\n",
       "      <th></th>\n",
       "      <th></th>\n",
       "    </tr>\n",
       "  </thead>\n",
       "  <tbody>\n",
       "    <tr>\n",
       "      <th>683665</th>\n",
       "      <td>0</td>\n",
       "      <td>1.49001536063508</td>\n",
       "      <td>Afatinib</td>\n",
       "      <td>1</td>\n",
       "      <td>1</td>\n",
       "      <td>1</td>\n",
       "    </tr>\n",
       "    <tr>\n",
       "      <th>683665</th>\n",
       "      <td>0</td>\n",
       "      <td>3.70042086392846</td>\n",
       "      <td>Afatinib (rescreen)</td>\n",
       "      <td>1</td>\n",
       "      <td>1</td>\n",
       "      <td>1</td>\n",
       "    </tr>\n",
       "    <tr>\n",
       "      <th>683665</th>\n",
       "      <td>0</td>\n",
       "      <td>6.29444657935625</td>\n",
       "      <td>Cetuximab</td>\n",
       "      <td>1</td>\n",
       "      <td>1</td>\n",
       "      <td>1</td>\n",
       "    </tr>\n",
       "    <tr>\n",
       "      <th>683665</th>\n",
       "      <td>0</td>\n",
       "      <td>-1.50094791622811</td>\n",
       "      <td>CUDC-101</td>\n",
       "      <td>1</td>\n",
       "      <td>1</td>\n",
       "      <td>1</td>\n",
       "    </tr>\n",
       "    <tr>\n",
       "      <th>683665</th>\n",
       "      <td>1</td>\n",
       "      <td>-0.966773876200563</td>\n",
       "      <td>EKB-569</td>\n",
       "      <td>1</td>\n",
       "      <td>1</td>\n",
       "      <td>1</td>\n",
       "    </tr>\n",
       "  </tbody>\n",
       "</table>\n",
       "</div>"
      ],
      "text/plain": [
       "             response             logIC50                 drug  exprs  CNA  \\\n",
       "sample_name                                                                  \n",
       "683665              0    1.49001536063508             Afatinib      1    1   \n",
       "683665              0    3.70042086392846  Afatinib (rescreen)      1    1   \n",
       "683665              0    6.29444657935625            Cetuximab      1    1   \n",
       "683665              0   -1.50094791622811             CUDC-101      1    1   \n",
       "683665              1  -0.966773876200563              EKB-569      1    1   \n",
       "\n",
       "             mutations  \n",
       "sample_name             \n",
       "683665               1  \n",
       "683665               1  \n",
       "683665               1  \n",
       "683665               1  \n",
       "683665               1  "
      ]
     },
     "execution_count": 11,
     "metadata": {},
     "output_type": "execute_result"
    }
   ],
   "source": [
    "# read GDSC response dataset (EGFRi)\n",
    "\n",
    "GDSCR = pd.read_csv(\"GDSC_response.EGFRi.tsv\",\n",
    "                    sep=\"\\t\",\n",
    "                    index_col=0,\n",
    "                    decimal=\",\")\n",
    "GDSCR.dropna(inplace=True)\n",
    "GDSCR.rename(mapper=str, axis='index', inplace=True)\n",
    "d = {\"R\": 0, \"S\": 1}\n",
    "GDSCR[\"response\"] = GDSCR.loc[:, \"response\"].apply(lambda x: d[x])\n",
    "\n",
    "GDSCR.head()"
   ]
  },
  {
   "cell_type": "code",
   "execution_count": 12,
   "metadata": {},
   "outputs": [
    {
     "data": {
      "text/plain": [
       "drug\n",
       "EKB-569                770\n",
       "Afatinib (rescreen)    757\n",
       "CUDC-101               754\n",
       "Afatinib               738\n",
       "Gefitinib              734\n",
       "Cetuximab              725\n",
       "HG-5-88-01             422\n",
       "Lapatinib              371\n",
       "Erlotinib              362\n",
       "Name: count, dtype: int64"
      ]
     },
     "execution_count": 12,
     "metadata": {},
     "output_type": "execute_result"
    }
   ],
   "source": [
    "# print count of cell lines for each drug (EGFRi)\n",
    "\n",
    "GDSCR[\"drug\"].value_counts()"
   ]
  },
  {
   "cell_type": "code",
   "execution_count": 13,
   "metadata": {},
   "outputs": [
    {
     "name": "stdout",
     "output_type": "stream",
     "text": [
      "/Volumes/Expansion/Thesis Work/Results/preprocessed_results2/exprs_homogenized\n"
     ]
    }
   ],
   "source": [
    "# change directory to read PDX expression dataset homogenized with GDSC expression dataset (Cetuximab)\n",
    "\n",
    "os.chdir(dataset_dir + \"/exprs_homogenized/\")\n",
    "print(os.getcwd())"
   ]
  },
  {
   "cell_type": "code",
   "execution_count": 14,
   "metadata": {},
   "outputs": [
    {
     "data": {
      "text/html": [
       "<div>\n",
       "<style scoped>\n",
       "    .dataframe tbody tr th:only-of-type {\n",
       "        vertical-align: middle;\n",
       "    }\n",
       "\n",
       "    .dataframe tbody tr th {\n",
       "        vertical-align: top;\n",
       "    }\n",
       "\n",
       "    .dataframe thead th {\n",
       "        text-align: right;\n",
       "    }\n",
       "</style>\n",
       "<table border=\"1\" class=\"dataframe\">\n",
       "  <thead>\n",
       "    <tr style=\"text-align: right;\">\n",
       "      <th>ENTREZID</th>\n",
       "      <th>1</th>\n",
       "      <th>2</th>\n",
       "      <th>9</th>\n",
       "      <th>10</th>\n",
       "      <th>12</th>\n",
       "      <th>13</th>\n",
       "      <th>14</th>\n",
       "      <th>15</th>\n",
       "      <th>16</th>\n",
       "      <th>18</th>\n",
       "      <th>...</th>\n",
       "      <th>100507206</th>\n",
       "      <th>100507254</th>\n",
       "      <th>100507436</th>\n",
       "      <th>100507472</th>\n",
       "      <th>100526773</th>\n",
       "      <th>100527978</th>\n",
       "      <th>100532746</th>\n",
       "      <th>100820829</th>\n",
       "      <th>102724473</th>\n",
       "      <th>105375355</th>\n",
       "    </tr>\n",
       "  </thead>\n",
       "  <tbody>\n",
       "    <tr>\n",
       "      <th>X-1027</th>\n",
       "      <td>3.60061063639454</td>\n",
       "      <td>3.07817969365007</td>\n",
       "      <td>6.32765157689639</td>\n",
       "      <td>2.93005596217687</td>\n",
       "      <td>2.64304491832882</td>\n",
       "      <td>2.56618657438719</td>\n",
       "      <td>8.09168714940745</td>\n",
       "      <td>2.55483284192774</td>\n",
       "      <td>8.59989127217117</td>\n",
       "      <td>2.80664192172726</td>\n",
       "      <td>...</td>\n",
       "      <td>2.5997416042245</td>\n",
       "      <td>3.06591431154376</td>\n",
       "      <td>5.50994883395808</td>\n",
       "      <td>2.93037262394265</td>\n",
       "      <td>2.93460472043208</td>\n",
       "      <td>2.44987572619243</td>\n",
       "      <td>2.48989773232543</td>\n",
       "      <td>3.88458609037183</td>\n",
       "      <td>3.95227909263729</td>\n",
       "      <td>2.46055443755884</td>\n",
       "    </tr>\n",
       "    <tr>\n",
       "      <th>X-1119</th>\n",
       "      <td>3.54613916595946</td>\n",
       "      <td>3.07817969365007</td>\n",
       "      <td>7.46956729139981</td>\n",
       "      <td>4.20521626673769</td>\n",
       "      <td>2.929569339555</td>\n",
       "      <td>5.57576806896234</td>\n",
       "      <td>8.20319464923893</td>\n",
       "      <td>2.41443776874882</td>\n",
       "      <td>7.7754694329959</td>\n",
       "      <td>3.34200309260696</td>\n",
       "      <td>...</td>\n",
       "      <td>2.67274979347372</td>\n",
       "      <td>3.11395605082</td>\n",
       "      <td>8.98094314882696</td>\n",
       "      <td>2.93037262394265</td>\n",
       "      <td>2.93460472043208</td>\n",
       "      <td>2.44987572619243</td>\n",
       "      <td>2.48989773232543</td>\n",
       "      <td>4.81457724903364</td>\n",
       "      <td>3.95227909263729</td>\n",
       "      <td>2.84309989182372</td>\n",
       "    </tr>\n",
       "    <tr>\n",
       "      <th>X-1156</th>\n",
       "      <td>6.99909567844156</td>\n",
       "      <td>8.47130432034951</td>\n",
       "      <td>6.15135176832441</td>\n",
       "      <td>2.36952374925443</td>\n",
       "      <td>3.6713478754664</td>\n",
       "      <td>2.53437362934482</td>\n",
       "      <td>8.43809032488933</td>\n",
       "      <td>2.53376073162296</td>\n",
       "      <td>7.11948011162002</td>\n",
       "      <td>3.28816715734563</td>\n",
       "      <td>...</td>\n",
       "      <td>2.72150643954151</td>\n",
       "      <td>3.17396413482904</td>\n",
       "      <td>6.58328775150283</td>\n",
       "      <td>2.93037262394265</td>\n",
       "      <td>2.93460472043208</td>\n",
       "      <td>2.44987572619243</td>\n",
       "      <td>2.48989773232543</td>\n",
       "      <td>4.74727922278015</td>\n",
       "      <td>4.15062701412473</td>\n",
       "      <td>2.46987656241725</td>\n",
       "    </tr>\n",
       "  </tbody>\n",
       "</table>\n",
       "<p>3 rows × 18217 columns</p>\n",
       "</div>"
      ],
      "text/plain": [
       "ENTREZID         1                 2                 9          \\\n",
       "X-1027    3.60061063639454  3.07817969365007  6.32765157689639   \n",
       "X-1119    3.54613916595946  3.07817969365007  7.46956729139981   \n",
       "X-1156    6.99909567844156  8.47130432034951  6.15135176832441   \n",
       "\n",
       "ENTREZID         10                12                13         \\\n",
       "X-1027    2.93005596217687  2.64304491832882  2.56618657438719   \n",
       "X-1119    4.20521626673769    2.929569339555  5.57576806896234   \n",
       "X-1156    2.36952374925443   3.6713478754664  2.53437362934482   \n",
       "\n",
       "ENTREZID         14                15                16         \\\n",
       "X-1027    8.09168714940745  2.55483284192774  8.59989127217117   \n",
       "X-1119    8.20319464923893  2.41443776874882   7.7754694329959   \n",
       "X-1156    8.43809032488933  2.53376073162296  7.11948011162002   \n",
       "\n",
       "ENTREZID         18         ...         100507206         100507254  \\\n",
       "X-1027    2.80664192172726  ...   2.5997416042245  3.06591431154376   \n",
       "X-1119    3.34200309260696  ...  2.67274979347372     3.11395605082   \n",
       "X-1156    3.28816715734563  ...  2.72150643954151  3.17396413482904   \n",
       "\n",
       "ENTREZID         100507436         100507472         100526773  \\\n",
       "X-1027    5.50994883395808  2.93037262394265  2.93460472043208   \n",
       "X-1119    8.98094314882696  2.93037262394265  2.93460472043208   \n",
       "X-1156    6.58328775150283  2.93037262394265  2.93460472043208   \n",
       "\n",
       "ENTREZID         100527978         100532746         100820829  \\\n",
       "X-1027    2.44987572619243  2.48989773232543  3.88458609037183   \n",
       "X-1119    2.44987572619243  2.48989773232543  4.81457724903364   \n",
       "X-1156    2.44987572619243  2.48989773232543  4.74727922278015   \n",
       "\n",
       "ENTREZID         102724473         105375355  \n",
       "X-1027    3.95227909263729  2.46055443755884  \n",
       "X-1119    3.95227909263729  2.84309989182372  \n",
       "X-1156    4.15062701412473  2.46987656241725  \n",
       "\n",
       "[3 rows x 18217 columns]"
      ]
     },
     "execution_count": 14,
     "metadata": {},
     "output_type": "execute_result"
    }
   ],
   "source": [
    "# read PDX expression dataset homogenized with GDSC expression dataset (Cetuximab)\n",
    "\n",
    "PDXEcetuximab = pd.read_csv(\"PDX_exprs.Cetuximab.eb_with.GDSC_exprs.Cetuximab.tsv\",\n",
    "                   sep = \"\\t\", index_col=0, decimal = \",\")\n",
    "PDXEcetuximab = pd.DataFrame.transpose(PDXEcetuximab)\n",
    "PDXEcetuximab.head(3)"
   ]
  },
  {
   "cell_type": "code",
   "execution_count": 15,
   "metadata": {},
   "outputs": [
    {
     "data": {
      "text/plain": [
       "'/Volumes/Expansion/Thesis Work/Results/preprocessed_results2/mutations'"
      ]
     },
     "execution_count": 15,
     "metadata": {},
     "output_type": "execute_result"
    }
   ],
   "source": [
    "# change directory to read PDX mutation dataset (Cetuximab)\n",
    "\n",
    "os.chdir(dataset_dir + \"mutations\")\n",
    "os.getcwd()"
   ]
  },
  {
   "cell_type": "code",
   "execution_count": 16,
   "metadata": {},
   "outputs": [
    {
     "data": {
      "text/html": [
       "<div>\n",
       "<style scoped>\n",
       "    .dataframe tbody tr th:only-of-type {\n",
       "        vertical-align: middle;\n",
       "    }\n",
       "\n",
       "    .dataframe tbody tr th {\n",
       "        vertical-align: top;\n",
       "    }\n",
       "\n",
       "    .dataframe thead th {\n",
       "        text-align: right;\n",
       "    }\n",
       "</style>\n",
       "<table border=\"1\" class=\"dataframe\">\n",
       "  <thead>\n",
       "    <tr style=\"text-align: right;\">\n",
       "      <th>ENTREZID</th>\n",
       "      <th>3075.0</th>\n",
       "      <th>171017.0</th>\n",
       "      <th>2058.0</th>\n",
       "      <th>79890.0</th>\n",
       "      <th>7701.0</th>\n",
       "      <th>3104.0</th>\n",
       "      <th>4642.0</th>\n",
       "      <th>9778.0</th>\n",
       "      <th>100132406.0</th>\n",
       "      <th>23607.0</th>\n",
       "      <th>...</th>\n",
       "      <th>253738.0</th>\n",
       "      <th>154807.0</th>\n",
       "      <th>79140.0</th>\n",
       "      <th>6307.0</th>\n",
       "      <th>6352.0</th>\n",
       "      <th>56005.0</th>\n",
       "      <th>115650.0</th>\n",
       "      <th>64946.0</th>\n",
       "      <th>5777.0</th>\n",
       "      <th>253639.0</th>\n",
       "    </tr>\n",
       "  </thead>\n",
       "  <tbody>\n",
       "    <tr>\n",
       "      <th>X-1027</th>\n",
       "      <td>0.0</td>\n",
       "      <td>0.0</td>\n",
       "      <td>0.0</td>\n",
       "      <td>0.0</td>\n",
       "      <td>0.0</td>\n",
       "      <td>0.0</td>\n",
       "      <td>0.0</td>\n",
       "      <td>0.0</td>\n",
       "      <td>0.0</td>\n",
       "      <td>0.0</td>\n",
       "      <td>...</td>\n",
       "      <td>0.0</td>\n",
       "      <td>0.0</td>\n",
       "      <td>0.0</td>\n",
       "      <td>0.0</td>\n",
       "      <td>0.0</td>\n",
       "      <td>0.0</td>\n",
       "      <td>0.0</td>\n",
       "      <td>0.0</td>\n",
       "      <td>0.0</td>\n",
       "      <td>0.0</td>\n",
       "    </tr>\n",
       "    <tr>\n",
       "      <th>X-1119</th>\n",
       "      <td>0.0</td>\n",
       "      <td>-0.05</td>\n",
       "      <td>0.0</td>\n",
       "      <td>-0.05</td>\n",
       "      <td>0.0</td>\n",
       "      <td>0.0</td>\n",
       "      <td>0.0</td>\n",
       "      <td>0.0</td>\n",
       "      <td>-0.05</td>\n",
       "      <td>0.0</td>\n",
       "      <td>...</td>\n",
       "      <td>0.0</td>\n",
       "      <td>0.0</td>\n",
       "      <td>0.0</td>\n",
       "      <td>0.0</td>\n",
       "      <td>0.0</td>\n",
       "      <td>0.0</td>\n",
       "      <td>0.0</td>\n",
       "      <td>0.0</td>\n",
       "      <td>0.0</td>\n",
       "      <td>0.0</td>\n",
       "    </tr>\n",
       "    <tr>\n",
       "      <th>X-1156</th>\n",
       "      <td>0.0</td>\n",
       "      <td>-0.05</td>\n",
       "      <td>0.0</td>\n",
       "      <td>-0.05</td>\n",
       "      <td>0.0</td>\n",
       "      <td>0.0</td>\n",
       "      <td>0.0</td>\n",
       "      <td>-0.05</td>\n",
       "      <td>-0.05</td>\n",
       "      <td>0.0</td>\n",
       "      <td>...</td>\n",
       "      <td>0.0</td>\n",
       "      <td>0.0</td>\n",
       "      <td>0.0</td>\n",
       "      <td>0.0</td>\n",
       "      <td>0.0</td>\n",
       "      <td>0.0</td>\n",
       "      <td>0.0</td>\n",
       "      <td>0.0</td>\n",
       "      <td>0.0</td>\n",
       "      <td>0.0</td>\n",
       "    </tr>\n",
       "  </tbody>\n",
       "</table>\n",
       "<p>3 rows × 15010 columns</p>\n",
       "</div>"
      ],
      "text/plain": [
       "ENTREZID 3075.0      171017.0    2058.0      79890.0     7701.0       \\\n",
       "X-1027           0.0         0.0         0.0         0.0         0.0   \n",
       "X-1119           0.0       -0.05         0.0       -0.05         0.0   \n",
       "X-1156           0.0       -0.05         0.0       -0.05         0.0   \n",
       "\n",
       "ENTREZID 3104.0      4642.0      9778.0      100132406.0 23607.0      ...  \\\n",
       "X-1027           0.0         0.0         0.0         0.0         0.0  ...   \n",
       "X-1119           0.0         0.0         0.0       -0.05         0.0  ...   \n",
       "X-1156           0.0         0.0       -0.05       -0.05         0.0  ...   \n",
       "\n",
       "ENTREZID 253738.0    154807.0    79140.0     6307.0      6352.0       \\\n",
       "X-1027           0.0         0.0         0.0         0.0         0.0   \n",
       "X-1119           0.0         0.0         0.0         0.0         0.0   \n",
       "X-1156           0.0         0.0         0.0         0.0         0.0   \n",
       "\n",
       "ENTREZID 56005.0     115650.0    64946.0     5777.0      253639.0     \n",
       "X-1027           0.0         0.0         0.0         0.0         0.0  \n",
       "X-1119           0.0         0.0         0.0         0.0         0.0  \n",
       "X-1156           0.0         0.0         0.0         0.0         0.0  \n",
       "\n",
       "[3 rows x 15010 columns]"
      ]
     },
     "execution_count": 16,
     "metadata": {},
     "output_type": "execute_result"
    }
   ],
   "source": [
    "# read PDX mutation dataset (Cetuximab)\n",
    "\n",
    "PDXMcetuximab = pd.read_csv(\"PDX_mutations.Cetuximab.tsv\",\n",
    "                        sep=\"\\t\", index_col=0, decimal=\",\")\n",
    "PDXMcetuximab.drop_duplicates(keep='last')\n",
    "PDXMcetuximab = pd.DataFrame.transpose(PDXMcetuximab)\n",
    "PDXMcetuximab = PDXMcetuximab.loc[:, ~PDXMcetuximab.columns.duplicated()]\n",
    "\n",
    "PDXMcetuximab.head(3)"
   ]
  },
  {
   "cell_type": "code",
   "execution_count": 17,
   "metadata": {},
   "outputs": [],
   "source": [
    "# variance threshold for GDSC expression dataset (EGFRi)\n",
    "\n",
    "selector = VarianceThreshold(0.05)\n",
    "selector.fit_transform(GDSCE)\n",
    "GDSCE = GDSCE[GDSCE.columns[selector.get_support(indices=True)]]"
   ]
  },
  {
   "cell_type": "code",
   "execution_count": 18,
   "metadata": {},
   "outputs": [],
   "source": [
    "# fill NA values and binarize GDSC mutation dataset (EGFRi)\n",
    "\n",
    "GDSCM = GDSCM.fillna(0)\n",
    "GDSCM[GDSCM != 0.0] = 1"
   ]
  },
  {
   "cell_type": "code",
   "execution_count": 19,
   "metadata": {},
   "outputs": [
    {
     "name": "stdout",
     "output_type": "stream",
     "text": [
      "GDSC and PDX # of common genes: 13861\n"
     ]
    }
   ],
   "source": [
    "# select shared genes between GDSC and PDX expression and mutation datasets \n",
    "\n",
    "ls = GDSCE.columns.intersection(GDSCM.columns)\n",
    "ls = ls.intersection(PDXEcetuximab.columns)\n",
    "ls = ls.intersection(PDXMcetuximab.columns)\n",
    "\n",
    "ls = pd.unique(ls)\n",
    "\n",
    "print(f\"GDSC and PDX # of common genes: {ls.shape[0]}\")"
   ]
  },
  {
   "cell_type": "code",
   "execution_count": 20,
   "metadata": {},
   "outputs": [
    {
     "name": "stdout",
     "output_type": "stream",
     "text": [
      "GDSC # of common cell lines: 800\n"
     ]
    }
   ],
   "source": [
    "# select shared samples between GDSC expression, mutation, and response datasets (EGFRi)\n",
    "\n",
    "ls2 = GDSCE.index.intersection(GDSCM.index)\n",
    "ls2 = ls2.intersection(GDSCR.index)\n",
    "\n",
    "print(f\"GDSC # of common cell lines: {ls2.shape[0]}\")"
   ]
  },
  {
   "cell_type": "code",
   "execution_count": 21,
   "metadata": {},
   "outputs": [
    {
     "name": "stdout",
     "output_type": "stream",
     "text": [
      "GDSC # of common samples and genes (Expression): (800, 13861)\n",
      "GDSC # of common samples and genes (Mutation): (800, 13861)\n",
      "GDSC # of samples (Response): 5633\n"
     ]
    }
   ],
   "source": [
    "# subset shared genes and samples in GDSC expression, mutation, and response datasets\n",
    "\n",
    "GDSCE = GDSCE.loc[ls2, ls]\n",
    "GDSCM = GDSCM.loc[ls2, ls]\n",
    "GDSCR = GDSCR.loc[ls2, :]\n",
    "\n",
    "print(f\"GDSC # of common samples and genes (Expression): {GDSCE.shape}\")\n",
    "print(f\"GDSC # of common samples and genes (Mutation): {GDSCM.shape}\")\n",
    "print(f\"GDSC # of samples (Response): {GDSCR.shape[0]}\")\n",
    "\n",
    "# There exists same sample names for different drugs, so row shape is different in GDSC response data"
   ]
  },
  {
   "cell_type": "code",
   "execution_count": 22,
   "metadata": {},
   "outputs": [
    {
     "name": "stdout",
     "output_type": "stream",
     "text": [
      "PDX # of common samples (Cetuximab): 60\n"
     ]
    }
   ],
   "source": [
    "# select shared samples between PDX expression and mutation datasets (Cetuximab) \n",
    "\n",
    "ls3 = PDXEcetuximab.index.intersection(PDXMcetuximab.index)\n",
    "\n",
    "print(f\"PDX # of common samples (Cetuximab): {ls3.shape[0]}\")"
   ]
  },
  {
   "cell_type": "code",
   "execution_count": 23,
   "metadata": {},
   "outputs": [
    {
     "name": "stdout",
     "output_type": "stream",
     "text": [
      "PDX # of common samples and genes for Expression (Cetuximab): (60, 13861)\n",
      "PDX # of common samples and genes for Mutation (Cetuximab): (60, 13861)\n",
      "\n"
     ]
    }
   ],
   "source": [
    "# select shared genes and samples between PDX expression and mutation datasets (Cetuximab)\n",
    "\n",
    "PDXEcetuximab = PDXEcetuximab.loc[ls3, ls]\n",
    "PDXMcetuximab = PDXMcetuximab.loc[ls3, ls]\n",
    "\n",
    "print(f\"PDX # of common samples and genes for Expression (Cetuximab): {PDXEcetuximab.shape}\")\n",
    "print(f\"PDX # of common samples and genes for Mutation (Cetuximab): {PDXMcetuximab.shape}\\n\")"
   ]
  },
  {
   "cell_type": "code",
   "execution_count": 24,
   "metadata": {},
   "outputs": [
    {
     "name": "stdout",
     "output_type": "stream",
     "text": [
      "/Volumes/Expansion/Thesis Work/Results/GDSC_DEGs_inhibitors/EGFRi\n"
     ]
    }
   ],
   "source": [
    "# change directory to read DEGs (EGFRi)\n",
    "\n",
    "os.chdir(DEGs_dir)\n",
    "print(os.getcwd())"
   ]
  },
  {
   "cell_type": "code",
   "execution_count": 25,
   "metadata": {},
   "outputs": [
    {
     "name": "stdout",
     "output_type": "stream",
     "text": [
      "There are 1028 DEGs (p-adjusted < 0.05 and |logFC| > 1) among EGFR signaling inhibitors\n",
      "\n"
     ]
    },
    {
     "data": {
      "text/html": [
       "<div>\n",
       "<style scoped>\n",
       "    .dataframe tbody tr th:only-of-type {\n",
       "        vertical-align: middle;\n",
       "    }\n",
       "\n",
       "    .dataframe tbody tr th {\n",
       "        vertical-align: top;\n",
       "    }\n",
       "\n",
       "    .dataframe thead th {\n",
       "        text-align: right;\n",
       "    }\n",
       "</style>\n",
       "<table border=\"1\" class=\"dataframe\">\n",
       "  <thead>\n",
       "    <tr style=\"text-align: right;\">\n",
       "      <th></th>\n",
       "      <th>Gene Symbol</th>\n",
       "      <th>Frequency</th>\n",
       "    </tr>\n",
       "  </thead>\n",
       "  <tbody>\n",
       "    <tr>\n",
       "      <th>0</th>\n",
       "      <td>MYOF</td>\n",
       "      <td>9</td>\n",
       "    </tr>\n",
       "    <tr>\n",
       "      <th>1</th>\n",
       "      <td>TM4SF1</td>\n",
       "      <td>8</td>\n",
       "    </tr>\n",
       "    <tr>\n",
       "      <th>2</th>\n",
       "      <td>KRT18</td>\n",
       "      <td>8</td>\n",
       "    </tr>\n",
       "    <tr>\n",
       "      <th>3</th>\n",
       "      <td>WWC1</td>\n",
       "      <td>8</td>\n",
       "    </tr>\n",
       "    <tr>\n",
       "      <th>4</th>\n",
       "      <td>CAV1</td>\n",
       "      <td>8</td>\n",
       "    </tr>\n",
       "  </tbody>\n",
       "</table>\n",
       "</div>"
      ],
      "text/plain": [
       "  Gene Symbol  Frequency\n",
       "0        MYOF          9\n",
       "1      TM4SF1          8\n",
       "2       KRT18          8\n",
       "3        WWC1          8\n",
       "4        CAV1          8"
      ]
     },
     "execution_count": 25,
     "metadata": {},
     "output_type": "execute_result"
    }
   ],
   "source": [
    "# read DEGs (EGFRi)\n",
    "\n",
    "DEGs_filtered_data = pd.read_excel(\"EGFRi_Differentially_Expressed_Genes (EnsemblID).xlsx\",\n",
    "                                    sheet_name = \"Common DEGs\")\n",
    "print(f\"There are {DEGs_filtered_data.shape[0]} DEGs (p-adjusted < 0.05 and |logFC| > 1) among EGFR signaling inhibitors\\n\")\n",
    "\n",
    "DEGs_filtered_data.head()"
   ]
  },
  {
   "cell_type": "code",
   "execution_count": 26,
   "metadata": {},
   "outputs": [
    {
     "name": "stderr",
     "output_type": "stream",
     "text": [
      "2 input query terms found dup hits:\t[('CLECL1P', 2), ('CAST', 2)]\n",
      "1 input query terms found no hit:\t['SLC22A18']\n"
     ]
    },
    {
     "data": {
      "text/plain": [
       "1029"
      ]
     },
     "execution_count": 26,
     "metadata": {},
     "output_type": "execute_result"
    }
   ],
   "source": [
    "# get gene symbol from mygene database\n",
    "\n",
    "mg = mygene.MyGeneInfo()\n",
    "DEGs_entrez_id = mg.querymany(DEGs_filtered_data[\"Gene Symbol\"], \n",
    "                              species=\"human\", \n",
    "                              scopes = \"symbol\",\n",
    "                              field = \"entrezgene\",\n",
    "                              as_dataframe=True)[\"entrezgene\"]\n",
    "DEGs_entrez_id = pd.unique(DEGs_entrez_id.dropna())\n",
    "DEGs_entrez_id = pd.Series(DEGs_entrez_id)\n",
    "\n",
    "result = mg.query(\"SLC22A18\", species=\"human\", scopes=\"symbol\", fields=\"entrezgene\")\n",
    "DEGs_entrez_id = pd.concat([DEGs_entrez_id, pd.Series(str(result[\"hits\"][1][\"entrezgene\"]))], ignore_index=True)\n",
    "DEGs_entrez_id = pd.Series(DEGs_entrez_id)\n",
    "\n",
    "result = mg.query(\"SLC22A18\", species=\"human\", scopes=\"symbol\", fields=\"entrezgene\")\n",
    "DEGs_entrez_id = pd.concat([DEGs_entrez_id, pd.Series(str(result[\"hits\"][1][\"entrezgene\"]))], ignore_index=True)\n",
    "\n",
    "DEGs_entrez_id.shape[0]"
   ]
  },
  {
   "cell_type": "code",
   "execution_count": 27,
   "metadata": {},
   "outputs": [],
   "source": [
    "# assign GDSC datasets to new variables\n",
    "\n",
    "exprs_z = GDSCE\n",
    "mut = GDSCM\n",
    "responses = GDSCR"
   ]
  },
  {
   "cell_type": "code",
   "execution_count": 28,
   "metadata": {},
   "outputs": [
    {
     "data": {
      "text/html": [
       "<div>\n",
       "<style scoped>\n",
       "    .dataframe tbody tr th:only-of-type {\n",
       "        vertical-align: middle;\n",
       "    }\n",
       "\n",
       "    .dataframe tbody tr th {\n",
       "        vertical-align: top;\n",
       "    }\n",
       "\n",
       "    .dataframe thead th {\n",
       "        text-align: right;\n",
       "    }\n",
       "</style>\n",
       "<table border=\"1\" class=\"dataframe\">\n",
       "  <thead>\n",
       "    <tr style=\"text-align: right;\">\n",
       "      <th></th>\n",
       "      <th>response</th>\n",
       "      <th>logIC50</th>\n",
       "      <th>drug</th>\n",
       "      <th>exprs</th>\n",
       "      <th>CNA</th>\n",
       "      <th>mutations</th>\n",
       "    </tr>\n",
       "  </thead>\n",
       "  <tbody>\n",
       "    <tr>\n",
       "      <th>683665</th>\n",
       "      <td>0</td>\n",
       "      <td>1.49001536063508</td>\n",
       "      <td>Afatinib</td>\n",
       "      <td>1</td>\n",
       "      <td>1</td>\n",
       "      <td>1</td>\n",
       "    </tr>\n",
       "    <tr>\n",
       "      <th>683665</th>\n",
       "      <td>0</td>\n",
       "      <td>3.70042086392846</td>\n",
       "      <td>Afatinib (rescreen)</td>\n",
       "      <td>1</td>\n",
       "      <td>1</td>\n",
       "      <td>1</td>\n",
       "    </tr>\n",
       "    <tr>\n",
       "      <th>683665</th>\n",
       "      <td>0</td>\n",
       "      <td>6.29444657935625</td>\n",
       "      <td>Cetuximab</td>\n",
       "      <td>1</td>\n",
       "      <td>1</td>\n",
       "      <td>1</td>\n",
       "    </tr>\n",
       "  </tbody>\n",
       "</table>\n",
       "</div>"
      ],
      "text/plain": [
       "        response           logIC50                 drug  exprs  CNA  mutations\n",
       "683665         0  1.49001536063508             Afatinib      1    1          1\n",
       "683665         0  3.70042086392846  Afatinib (rescreen)      1    1          1\n",
       "683665         0  6.29444657935625            Cetuximab      1    1          1"
      ]
     },
     "execution_count": 28,
     "metadata": {},
     "output_type": "execute_result"
    }
   ],
   "source": [
    "# GDSC response dataset\n",
    "\n",
    "responses.head(3)"
   ]
  },
  {
   "cell_type": "code",
   "execution_count": 29,
   "metadata": {
    "scrolled": true
   },
   "outputs": [
    {
     "data": {
      "text/plain": [
       "{'Afatinib',\n",
       " 'Afatinib (rescreen)',\n",
       " 'CUDC-101',\n",
       " 'Cetuximab',\n",
       " 'EKB-569',\n",
       " 'Erlotinib',\n",
       " 'Gefitinib',\n",
       " 'HG-5-88-01',\n",
       " 'Lapatinib'}"
      ]
     },
     "execution_count": 29,
     "metadata": {},
     "output_type": "execute_result"
    }
   ],
   "source": [
    "# list drug names in GDSC response dataset\n",
    "\n",
    "drugs = set(responses[\"drug\"].values)\n",
    "drugs"
   ]
  },
  {
   "cell_type": "code",
   "execution_count": 30,
   "metadata": {},
   "outputs": [
    {
     "data": {
      "text/plain": [
       "Index([683665, 683665, 683665, 683665, 683665, 683665, 683665, 683665, 683665,\n",
       "       683667,\n",
       "       ...\n",
       "       910930, 910941, 910941, 924248, 924248, 924248, 906849, 906849, 949162,\n",
       "       949162],\n",
       "      dtype='int64', length=5633)"
      ]
     },
     "execution_count": 30,
     "metadata": {},
     "output_type": "execute_result"
    }
   ],
   "source": [
    "# convert Entrez gene IDs to integer\n",
    "\n",
    "responses.index = responses.index.astype(int)\n",
    "responses.index"
   ]
  },
  {
   "cell_type": "code",
   "execution_count": 31,
   "metadata": {},
   "outputs": [
    {
     "data": {
      "text/plain": [
       "GDSC\\nTissue descriptor 1\n",
       "lung_NSCLC           594\n",
       "leukemia             538\n",
       "urogenital_system    531\n",
       "lymphoma             487\n",
       "aero_dig_tract       408\n",
       "nervous_system       369\n",
       "lung_SCLC            347\n",
       "skin                 334\n",
       "breast               299\n",
       "large_intestine      279\n",
       "digestive_system     268\n",
       "bone                 261\n",
       "neuroblastoma        212\n",
       "pancreas             154\n",
       "kidney               138\n",
       "myeloma              113\n",
       "soft_tissue          112\n",
       "lung                  99\n",
       "thyroid               90\n",
       "Name: count, dtype: int64"
      ]
     },
     "execution_count": 31,
     "metadata": {},
     "output_type": "execute_result"
    }
   ],
   "source": [
    "# merge GDSC cell line details with response dataset\n",
    "\n",
    "dat = pd.merge(GDSC_cell_line_details,\n",
    "         responses,\n",
    "         left_index = True, \n",
    "         right_index=True,\n",
    "         how = \"inner\")\n",
    "\n",
    "dat[\"GDSC\\nTissue descriptor 1\"].value_counts()\n",
    "#dat.head()"
   ]
  },
  {
   "cell_type": "code",
   "execution_count": 32,
   "metadata": {},
   "outputs": [
    {
     "data": {
      "text/plain": [
       "GDSC\\nTissue descriptor 1\n",
       "lung_NSCLC           87\n",
       "urogenital_system    76\n",
       "leukemia             66\n",
       "lymphoma             56\n",
       "aero_dig_tract       56\n",
       "nervous_system       47\n",
       "skin                 44\n",
       "breast               41\n",
       "lung_SCLC            39\n",
       "digestive_system     37\n",
       "bone                 34\n",
       "large_intestine      33\n",
       "pancreas             20\n",
       "kidney               19\n",
       "neuroblastoma        19\n",
       "soft_tissue          16\n",
       "myeloma              13\n",
       "lung                 11\n",
       "thyroid              11\n",
       "Name: count, dtype: int64"
      ]
     },
     "execution_count": 32,
     "metadata": {},
     "output_type": "execute_result"
    }
   ],
   "source": [
    "# list count of cell lines as to tissues treated with cetuximab\n",
    "\n",
    "filter = (dat[\"drug\"] == \"Cetuximab\")\n",
    "dat.loc[filter,\"GDSC\\nTissue descriptor 1\"].value_counts()"
   ]
  },
  {
   "cell_type": "code",
   "execution_count": 33,
   "metadata": {},
   "outputs": [
    {
     "data": {
      "text/plain": [
       "Index(['683665', '683665', '683665', '683665', '683665', '683665', '683665',\n",
       "       '683665', '683665', '683667',\n",
       "       ...\n",
       "       '910930', '910941', '910941', '924248', '924248', '924248', '906849',\n",
       "       '906849', '949162', '949162'],\n",
       "      dtype='object', length=5633)"
      ]
     },
     "execution_count": 33,
     "metadata": {},
     "output_type": "execute_result"
    }
   ],
   "source": [
    "# convert Entrez gene IDs to string\n",
    "\n",
    "responses.index = responses.index.astype(str)\n",
    "responses.index"
   ]
  },
  {
   "cell_type": "code",
   "execution_count": 34,
   "metadata": {},
   "outputs": [
    {
     "name": "stdout",
     "output_type": "stream",
     "text": [
      "GDSC # of common samples and genes (Expression): (5633, 873)\n",
      "GDSC # of common samples and genes (Mutation): (5633, 873)\n",
      "GDSC # of common samples (Response): 5633\n",
      "\n",
      "PDX # of common samples and genes for Cetuximab (Expression): (60, 873)\n",
      "PDX # of common samples and genes for Cetuximab (Mutation): (60, 873)\n",
      "\n"
     ]
    }
   ],
   "source": [
    "# filter GDSC expression and mutation datasets (EGFRi) as to drugs\n",
    "# subset selected DEGs\n",
    "\n",
    "expression_zscores = []\n",
    "mutations = []\n",
    "for drug in drugs:\n",
    "    samples = responses.loc[responses[\"drug\"] == drug, :].index.values\n",
    "    e_z = exprs_z.loc[samples, :]\n",
    "    m = mut.loc[samples, :]\n",
    "    expression_zscores.append(e_z)\n",
    "    mutations.append(m)\n",
    "\n",
    "GDSCEv2 = pd.concat(expression_zscores, axis=0)\n",
    "GDSCMv2 = pd.concat(mutations, axis=0)\n",
    "GDSCRv2 = responses\n",
    "\n",
    "ls4 = list(set(GDSCE.columns).intersection(set(DEGs_entrez_id.astype(int))))\n",
    "ls5 = GDSCEv2.index.intersection(GDSCMv2.index)\n",
    "\n",
    "GDSCEv2 = GDSCEv2.loc[ls5, ls4]\n",
    "GDSCMv2 = GDSCMv2.loc[ls5, ls4]\n",
    "GDSCRv2 = GDSCRv2.loc[ls5, :]\n",
    "\n",
    "PDXEcetuximab = PDXEcetuximab.loc[:,ls4]\n",
    "PDXMcetuximab = PDXMcetuximab.loc[:,ls4]\n",
    "\n",
    "responses.index = responses.index.values + \"_\" + responses[\"drug\"].values\n",
    "\n",
    "print(f\"GDSC # of common samples and genes (Expression): {GDSCEv2.shape}\")\n",
    "print(f\"GDSC # of common samples and genes (Mutation): {GDSCMv2.shape}\")\n",
    "print(f\"GDSC # of common samples (Response): {GDSCRv2.shape[0]}\\n\")\n",
    "\n",
    "print(f\"PDX # of common samples and genes for Cetuximab (Expression): {PDXEcetuximab.shape}\")\n",
    "print(f\"PDX # of common samples and genes for Cetuximab (Mutation): {PDXMcetuximab.shape}\\n\")"
   ]
  },
  {
   "cell_type": "code",
   "execution_count": 35,
   "metadata": {},
   "outputs": [
    {
     "name": "stdout",
     "output_type": "stream",
     "text": [
      "[0 0 0 ... 0 0 0]\n"
     ]
    }
   ],
   "source": [
    "# GDSC response values\n",
    "\n",
    "Y = GDSCRv2['response'].values\n",
    "print(Y)"
   ]
  },
  {
   "cell_type": "code",
   "execution_count": 36,
   "metadata": {},
   "outputs": [
    {
     "data": {
      "text/plain": [
       "'/Volumes/Expansion/Thesis Work/Results/preprocessed_results2/response'"
      ]
     },
     "execution_count": 36,
     "metadata": {},
     "output_type": "execute_result"
    }
   ],
   "source": [
    "# change directory to read PDX response dataset (Cetuximab)\n",
    "\n",
    "os.chdir(dataset_dir + \"response\")\n",
    "os.getcwd()"
   ]
  },
  {
   "cell_type": "code",
   "execution_count": 37,
   "metadata": {},
   "outputs": [
    {
     "name": "stdout",
     "output_type": "stream",
     "text": [
      "There are 60 samples with response data in the PDX (Cetuximab)\n",
      "\n"
     ]
    },
    {
     "data": {
      "text/plain": [
       "array([0, 0, 0, 0, 0, 0, 0, 0, 1, 0, 0, 0, 1, 0, 0, 1, 0, 0, 0, 0, 0, 0,\n",
       "       0, 0, 0, 0, 0, 0, 0, 0, 0, 0, 0, 0, 0, 0, 0, 0, 0, 0, 0, 0, 0, 0,\n",
       "       0, 1, 0, 0, 0, 0, 1, 0, 0, 0, 0, 0, 0, 0, 0, 0])"
      ]
     },
     "execution_count": 37,
     "metadata": {},
     "output_type": "execute_result"
    }
   ],
   "source": [
    "# read PDX response dataset (Cetuximab)\n",
    "\n",
    "PDXRcetuximab = pd.read_csv(\"PDX_response.Cetuximab.tsv\", \n",
    "                      sep = \"\\t\", \n",
    "                      index_col=0, \n",
    "                      decimal = \",\")\n",
    "PDXRcetuximab.dropna(inplace=True)\n",
    "PDXRcetuximab.rename(mapper=str, axis='index', inplace=True)\n",
    "d = {\"R\": 0, \"S\": 1}\n",
    "PDXRcetuximab[\"response\"] = PDXRcetuximab.loc[:, \"response\"].apply(lambda x: d[x])\n",
    "Ytscetuximab = PDXRcetuximab[\"response\"].values    \n",
    "\n",
    "print(f\"There are {Ytscetuximab.shape[0]} samples with response data in the PDX (Cetuximab)\\n\")\n",
    "Ytscetuximab"
   ]
  },
  {
   "cell_type": "code",
   "execution_count": 38,
   "metadata": {},
   "outputs": [
    {
     "data": {
      "text/html": [
       "<div>\n",
       "<style scoped>\n",
       "    .dataframe tbody tr th:only-of-type {\n",
       "        vertical-align: middle;\n",
       "    }\n",
       "\n",
       "    .dataframe tbody tr th {\n",
       "        vertical-align: top;\n",
       "    }\n",
       "\n",
       "    .dataframe thead th {\n",
       "        text-align: right;\n",
       "    }\n",
       "</style>\n",
       "<table border=\"1\" class=\"dataframe\">\n",
       "  <thead>\n",
       "    <tr style=\"text-align: right;\">\n",
       "      <th></th>\n",
       "      <th>Tumor Type</th>\n",
       "    </tr>\n",
       "    <tr>\n",
       "      <th>Model</th>\n",
       "      <th></th>\n",
       "    </tr>\n",
       "  </thead>\n",
       "  <tbody>\n",
       "    <tr>\n",
       "      <th>X-0933</th>\n",
       "      <td>CRC</td>\n",
       "    </tr>\n",
       "    <tr>\n",
       "      <th>X-1027</th>\n",
       "      <td>CRC</td>\n",
       "    </tr>\n",
       "    <tr>\n",
       "      <th>X-1055</th>\n",
       "      <td>CRC</td>\n",
       "    </tr>\n",
       "    <tr>\n",
       "      <th>X-1119</th>\n",
       "      <td>CRC</td>\n",
       "    </tr>\n",
       "    <tr>\n",
       "      <th>X-1156</th>\n",
       "      <td>NSCLC</td>\n",
       "    </tr>\n",
       "  </tbody>\n",
       "</table>\n",
       "</div>"
      ],
      "text/plain": [
       "       Tumor Type\n",
       "Model            \n",
       "X-0933        CRC\n",
       "X-1027        CRC\n",
       "X-1055        CRC\n",
       "X-1119        CRC\n",
       "X-1156      NSCLC"
      ]
     },
     "execution_count": 38,
     "metadata": {},
     "output_type": "execute_result"
    }
   ],
   "source": [
    "# read PDX dataset to select cohorts (Cetuximab)\n",
    "\n",
    "pdx_cohort = pd.read_excel(pdx_data_dir + \"/nm.3954-S2.xlsx\",\n",
    "                              \"PCT raw data\")\n",
    "pdx_cohort = pdx_cohort.loc[pdx_cohort[\"Treatment\"] == \"cetuximab\",]\n",
    "pdx_cohort = pdx_cohort.loc[:,[\"Model\",\"Tumor Type\"]]\n",
    "pdx_cohort = pdx_cohort.drop_duplicates()\n",
    "pdx_cohort.set_index(\"Model\", inplace = True) \n",
    "pdx_cohort.head()"
   ]
  },
  {
   "cell_type": "code",
   "execution_count": 39,
   "metadata": {},
   "outputs": [
    {
     "data": {
      "text/plain": [
       "Tumor Type\n",
       "CRC      36\n",
       "NSCLC    24\n",
       "Name: count, dtype: int64"
      ]
     },
     "execution_count": 39,
     "metadata": {},
     "output_type": "execute_result"
    }
   ],
   "source": [
    "# merge PDX cohort table with PDX response dataset (Cetuximab)\n",
    "\n",
    "dat_pdx = pd.merge(pdx_cohort,\n",
    "                   PDXRcetuximab,\n",
    "                   left_index = True,\n",
    "                   right_index = True)\n",
    "dat_pdx[\"Tumor Type\"].value_counts()"
   ]
  },
  {
   "cell_type": "code",
   "execution_count": 40,
   "metadata": {},
   "outputs": [
    {
     "data": {
      "text/plain": [
       "Index(['X-1027', 'X-1119', 'X-1167', 'X-1173', 'X-1270', 'X-1290', 'X-1303',\n",
       "       'X-1329', 'X-1443', 'X-1479', 'X-1500', 'X-1536', 'X-1538', 'X-2145',\n",
       "       'X-2182', 'X-2239', 'X-2403', 'X-2483', 'X-2484', 'X-2538', 'X-2573',\n",
       "       'X-2659', 'X-2822', 'X-2846', 'X-2861', 'X-3093', 'X-3205', 'X-3224',\n",
       "       'X-3671', 'X-3792', 'X-4087', 'X-5254', 'X-5405', 'X-5446', 'X-5495',\n",
       "       'X-5578'],\n",
       "      dtype='object')"
      ]
     },
     "execution_count": 40,
     "metadata": {},
     "output_type": "execute_result"
    }
   ],
   "source": [
    "# filter CRC cohort samples (Cetuximab)\n",
    "\n",
    "filter = (dat_pdx[\"Tumor Type\"] == \"CRC\")\n",
    "pdx_crc_samples = dat_pdx.loc[filter,].index\n",
    "pdx_crc_samples"
   ]
  },
  {
   "cell_type": "code",
   "execution_count": 41,
   "metadata": {},
   "outputs": [
    {
     "data": {
      "text/plain": [
       "array([0, 0, 0, 0, 0, 0, 1, 0, 1, 0, 1, 0, 0, 0, 0, 0, 0, 0, 0, 0, 0, 0,\n",
       "       0, 0, 0, 0, 0, 0, 1, 0, 0, 0, 0, 0, 0, 0])"
      ]
     },
     "execution_count": 41,
     "metadata": {},
     "output_type": "execute_result"
    }
   ],
   "source": [
    "# filter responses of CRC cohort samples (Cetuximab)\n",
    "\n",
    "Ytscetuximab_crc = PDXRcetuximab.loc[pdx_crc_samples,\"response\"].values\n",
    "Ytscetuximab_crc"
   ]
  },
  {
   "cell_type": "code",
   "execution_count": 42,
   "metadata": {},
   "outputs": [
    {
     "data": {
      "text/plain": [
       "response\n",
       "0    32\n",
       "1     4\n",
       "Name: count, dtype: int64"
      ]
     },
     "execution_count": 42,
     "metadata": {},
     "output_type": "execute_result"
    }
   ],
   "source": [
    "# count of sensitive and resistance CRC samples (Cetuximab)\n",
    "\n",
    "PDXRcetuximab.loc[pdx_crc_samples,\"response\"].value_counts()"
   ]
  },
  {
   "cell_type": "code",
   "execution_count": 43,
   "metadata": {},
   "outputs": [
    {
     "data": {
      "text/plain": [
       "Index(['X-1156', 'X-1172', 'X-1323', 'X-1442', 'X-1499', 'X-1586', 'X-1658',\n",
       "       'X-1725', 'X-1787', 'X-1823', 'X-1834', 'X-1835', 'X-1934', 'X-1980',\n",
       "       'X-1993', 'X-2017', 'X-2042', 'X-2082', 'X-2088', 'X-2094', 'X-3029',\n",
       "       'X-3237', 'X-3843', 'X-4819'],\n",
       "      dtype='object')"
      ]
     },
     "execution_count": 43,
     "metadata": {},
     "output_type": "execute_result"
    }
   ],
   "source": [
    "# filter NSCLC cohort samples (Cetuximab)\n",
    "\n",
    "filter = (dat_pdx[\"Tumor Type\"] == \"NSCLC\")\n",
    "pdx_nsclc_samples = dat_pdx.loc[filter,].index\n",
    "pdx_nsclc_samples"
   ]
  },
  {
   "cell_type": "code",
   "execution_count": 44,
   "metadata": {},
   "outputs": [
    {
     "data": {
      "text/plain": [
       "array([0, 0, 0, 0, 0, 0, 0, 0, 0, 0, 0, 0, 0, 0, 0, 0, 0, 0, 0, 0, 1, 0,\n",
       "       0, 0])"
      ]
     },
     "execution_count": 44,
     "metadata": {},
     "output_type": "execute_result"
    }
   ],
   "source": [
    "# filter responses of NSCLC cohort samples (Cetuximab)\n",
    "\n",
    "Ytscetuximab_nsclc = PDXRcetuximab.loc[pdx_nsclc_samples,\"response\"].values\n",
    "Ytscetuximab_nsclc"
   ]
  },
  {
   "cell_type": "code",
   "execution_count": 45,
   "metadata": {},
   "outputs": [
    {
     "data": {
      "text/plain": [
       "response\n",
       "0    23\n",
       "1     1\n",
       "Name: count, dtype: int64"
      ]
     },
     "execution_count": 45,
     "metadata": {},
     "output_type": "execute_result"
    }
   ],
   "source": [
    "# count of sensitive and resistance NSCLC samples (Cetuximab)\n",
    "\n",
    "PDXRcetuximab.loc[pdx_nsclc_samples,\"response\"].value_counts()"
   ]
  },
  {
   "cell_type": "code",
   "execution_count": 46,
   "metadata": {},
   "outputs": [],
   "source": [
    "# define maximum iteration\n",
    "\n",
    "max_iter = 50"
   ]
  },
  {
   "cell_type": "code",
   "execution_count": 47,
   "metadata": {},
   "outputs": [],
   "source": [
    "# assign number of neurons and dropout rates found for layers from the saved models\n",
    "\n",
    "hdm1 = 64\n",
    "hdm2 = 32\n",
    "rate1 = 0.5\n",
    "rate2 = 0.6\n",
    "rate3 = 0.6"
   ]
  },
  {
   "cell_type": "code",
   "execution_count": 48,
   "metadata": {},
   "outputs": [
    {
     "name": "stdout",
     "output_type": "stream",
     "text": [
      "GDSC - Training AUC (EGFRi): 0.82\n",
      "GDSC - Training AUCPR (EGFRi): 0.4\n",
      "PDX - Test AUC (Cetuximab): 0.56\n",
      "PDX - Test AUCPR (Cetuximab): 0.11\n",
      "PDX - Test AUC (Cetuximab, CRC): 0.65\n",
      "PDX - Test AUCPR (Cetuximab, CRC): 0.18\n",
      "PDX - Test AUC (Cetuximab, NSCLC): 0.83\n",
      "PDX - Test AUCPR (Cetuximab, NSCLC): 0.2\n",
      "\n",
      "GDSC - Training AUC (EGFRi, Finetuned): 0.73\n",
      "GDSC - Training AUCPR (EGFRi, Finetuned): 0.36\n",
      "PDX - Test AUC (Cetuximab, Finetuned): 0.73\n",
      "PDX - Test AUCPR (Cetuximab, Finetuned): 0.21\n",
      "\n",
      "GDSC - Training AUC (EGFRi, Finetuned): 0.73\n",
      "GDSC - Training AUCPR (EGFRi, Finetuned): 0.36\n",
      "PDX - Test AUC (Cetuximab, CRC, Finetuned): 0.67\n",
      "PDX - Test AUCPR (Cetuximab, CRC, Finetuned): 0.3\n",
      "\n",
      "\n",
      "GDSC - Training AUC (EGFRi, Finetuned): 0.8\n",
      "GDSC - Training AUCPR (EGFRi, Finetuned): 0.41\n",
      "PDX - Test AUC (Cetuximab, NSCLC, Finetuned): 0.91\n",
      "PDX - Test AUCPR (Cetuximab, NSCLC, Finetuned): 0.33\n",
      "\n",
      "\n",
      "Models for maximum finetuning (Cetuximab)\n",
      "Exprs_Cetuximab_GDSC_PDX_EGFRi_Expression_Mutation_Finetuned_35.pt\n",
      "CNA_Cetuximab_GDSC_PDX_EGFRi_Expression_Mutation_Finetuned_35.pt\n",
      "Class_Cetuximab_GDSC_PDX_EGFRi_Expression_Mutation_Finetuned_35.pt\n",
      "\n",
      "Models for maximum finetuning (Cetuximab, CRC)\n",
      "Exprs_Cetuximab_GDSC_PDX_EGFRi_Expression_Mutation_Finetuned_35.pt\n",
      "CNA_Cetuximab_GDSC_PDX_EGFRi_Expression_Mutation_Finetuned_35.pt\n",
      "Class_Cetuximab_GDSC_PDX_EGFRi_Expression_Mutation_Finetuned_35.pt\n",
      "\n",
      "Models for maximum finetuning (Cetuximab, NSCLC)\n",
      "Exprs_Cetuximab_GDSC_PDX_EGFRi_Expression_Mutation_Finetuned_22.pt\n",
      "CNA_Cetuximab_GDSC_PDX_EGFRi_Expression_Mutation_Finetuned_22.pt\n",
      "Class_Cetuximab_GDSC_PDX_EGFRi_Expression_Mutation_Finetuned_22.pt\n"
     ]
    }
   ],
   "source": [
    "# load pre-trained models and make predictions\n",
    "\n",
    "scalerGDSC = sk.StandardScaler()\n",
    "scalerGDSC.fit(GDSCEv2.values)\n",
    "X_trainE = scalerGDSC.transform(GDSCEv2.values)\n",
    "X_testEcetuximab = scalerGDSC.transform(PDXEcetuximab.values) \n",
    "X_testEcetuximab_crc = scalerGDSC.transform(PDXEcetuximab.loc[pdx_crc_samples,].values) \n",
    "X_testEcetuximab_nsclc = scalerGDSC.transform(PDXEcetuximab.loc[pdx_nsclc_samples,].values) \n",
    "\n",
    "X_trainM = np.nan_to_num(GDSCMv2.values)\n",
    "X_testMcetuximab = np.nan_to_num(PDXMcetuximab.values.astype(np.float32))\n",
    "X_testMcetuximab_crc = np.nan_to_num(PDXMcetuximab.loc[pdx_crc_samples,].values.astype(np.float32))\n",
    "X_testMcetuximab_nsclc = np.nan_to_num(PDXMcetuximab.loc[pdx_nsclc_samples,].values.astype(np.float32))\n",
    "\n",
    "TX_testEcetuximab = torch.FloatTensor(X_testEcetuximab)\n",
    "TX_testEcetuximab_crc = torch.FloatTensor(X_testEcetuximab_crc)\n",
    "TX_testEcetuximab_nsclc = torch.FloatTensor(X_testEcetuximab_nsclc)\n",
    "\n",
    "TX_testMcetuximab = torch.FloatTensor(X_testMcetuximab.astype(np.float32))\n",
    "TX_testMcetuximab_crc = torch.FloatTensor(X_testMcetuximab_crc.astype(np.float32))\n",
    "TX_testMcetuximab_nsclc = torch.FloatTensor(X_testMcetuximab_nsclc.astype(np.float32))\n",
    "\n",
    "ty_testEcetuximab = torch.FloatTensor(Ytscetuximab.astype(int))\n",
    "ty_testEcetuximab_crc = torch.FloatTensor(Ytscetuximab_crc.astype(int))\n",
    "ty_testEcetuximab_nsclc = torch.FloatTensor(Ytscetuximab_nsclc.astype(int))\n",
    "\n",
    "n_sampE, IE_dim = X_trainE.shape\n",
    "n_sampM, IM_dim = X_trainM.shape\n",
    "\n",
    "h_dim1 = hdm1\n",
    "h_dim2 = hdm2\n",
    "Z_in = h_dim1 + h_dim2 \n",
    "\n",
    "class AEE(nn.Module):\n",
    "    def __init__(self):\n",
    "        super(AEE, self).__init__()\n",
    "        self.EnE = torch.nn.Sequential(\n",
    "            nn.Linear(IE_dim, h_dim1),\n",
    "            nn.BatchNorm1d(h_dim1),\n",
    "            nn.ReLU(),\n",
    "            nn.Dropout(rate1))\n",
    "    def forward(self, x):\n",
    "        output = self.EnE(x)\n",
    "        return output  \n",
    "\n",
    "\n",
    "class AEM(nn.Module):\n",
    "    def __init__(self):\n",
    "        super(AEM, self).__init__()\n",
    "        self.EnM = torch.nn.Sequential(\n",
    "            nn.Linear(IM_dim, h_dim2),\n",
    "            nn.BatchNorm1d(h_dim2),\n",
    "            nn.ReLU(),\n",
    "            nn.Dropout(rate2))\n",
    "    def forward(self, x):\n",
    "        output = self.EnM(x)\n",
    "        return output       \n",
    "\n",
    "class Classifier(nn.Module):\n",
    "    def __init__(self):\n",
    "        super(Classifier, self).__init__()\n",
    "        self.FC = torch.nn.Sequential(\n",
    "            nn.Linear(Z_in, 1),\n",
    "            nn.Dropout(rate3),\n",
    "            nn.Sigmoid())\n",
    "    def forward(self, x):\n",
    "        return self.FC(x)\n",
    "\n",
    "torch.cuda.manual_seed_all(42)\n",
    "\n",
    "AutoencoderE = torch.load(models_dir + \"Exprs_Cetuximab_GDSC_PDX_EGFRi_Expression_Mutation.pt\")\n",
    "AutoencoderM = torch.load(models_dir + \"Mut_Cetuximab_GDSC_PDX_EGFRi_Expression_Mutation.pt\")\n",
    "\n",
    "Clas = torch.load(models_dir + \"Class_Cetuximab_GDSC_PDX_EGFRi_Expression_Mutation.pt\")\n",
    "\n",
    "AutoencoderE.eval()\n",
    "AutoencoderM.eval()\n",
    "Clas.eval()\n",
    "\n",
    "ZEX = AutoencoderE(torch.FloatTensor(X_trainE))\n",
    "ZMX = AutoencoderM(torch.FloatTensor(X_trainM))\n",
    "ZTX = torch.cat((ZEX, ZMX), 1)\n",
    "ZTX = F.normalize(ZTX, p=2, dim=0)\n",
    "PredX = Clas(ZTX)\n",
    "AUCT = roc_auc_score(Y, PredX.detach().numpy())\n",
    "#print(f\"GDSC - Training AUC (PDX_EGFRi): {round(AUCT,2)}\")\n",
    "AUCTaucpr = average_precision_score(Y, PredX.detach().numpy())\n",
    "#print(f\"GDSC - Training AUCPR (PDX_EGFRi): {round(AUCTaucpr,2)}\\n\")\n",
    "\n",
    "ZETcetuximab = AutoencoderE(TX_testEcetuximab)\n",
    "ZMTcetuximab = AutoencoderM(TX_testMcetuximab)\n",
    "ZTTcetuximab = torch.cat((ZETcetuximab, ZMTcetuximab), 1)\n",
    "ZTTcetuximab = F.normalize(ZTTcetuximab, p=2, dim=0)\n",
    "PredTcetuximab = Clas(ZTTcetuximab)\n",
    "AUCTcetuximab = roc_auc_score(Ytscetuximab.astype(int), PredTcetuximab.detach().numpy())\n",
    "#print(f\"PDX - Test AUC (Cetuximab): {round(AUCTcetuximab,2)}\")\n",
    "AUCTcetuximab_aucpr = average_precision_score(Ytscetuximab.astype(int), PredTcetuximab.detach().numpy())\n",
    "#print(f\"PDX - Test AUCPR (Cetuximab): {round(AUCTcetuximab_aucpr,2)}\\n\")\n",
    "\n",
    "ZETcetuximab_crc = AutoencoderE(TX_testEcetuximab_crc)\n",
    "ZMTcetuximab_crc = AutoencoderM(TX_testMcetuximab_crc)\n",
    "ZTTcetuximab_crc = torch.cat((ZETcetuximab_crc, ZMTcetuximab_crc), 1)\n",
    "ZTTcetuximab_crc = F.normalize(ZTTcetuximab_crc, p=2, dim=0)\n",
    "PredTcetuximab_crc = Clas(ZTTcetuximab_crc)\n",
    "AUCTcetuximab_crc = roc_auc_score(Ytscetuximab_crc.astype(int), PredTcetuximab_crc.detach().numpy())\n",
    "#print(f\"PDX - Test AUC (Cetuximab, CRC): {round(AUCTcetuximab_crc,2)}\")\n",
    "AUCTcetuximab_crc_aucpr = average_precision_score(Ytscetuximab_crc.astype(int), PredTcetuximab_crc.detach().numpy())\n",
    "#print(f\"PDX - Test AUCPR (Cetuximab, CRC): {round(AUCTcetuximab_crc_aucpr,2)}\\n\")\n",
    "\n",
    "ZETcetuximab_nsclc = AutoencoderE(TX_testEcetuximab_nsclc)\n",
    "ZMTcetuximab_nsclc = AutoencoderM(TX_testMcetuximab_nsclc)\n",
    "ZTTcetuximab_nsclc = torch.cat((ZETcetuximab_nsclc, ZMTcetuximab_nsclc), 1)\n",
    "ZTTcetuximab_nsclc = F.normalize(ZTTcetuximab_nsclc, p=2, dim=0)\n",
    "PredTcetuximab_nsclc = Clas(ZTTcetuximab_nsclc)\n",
    "AUCTcetuximab_nsclc = roc_auc_score(Ytscetuximab_nsclc.astype(int), PredTcetuximab_nsclc.detach().numpy())\n",
    "#print(f\"PDX - Test AUC (Cetuximab, NSCLC): {round(AUCTcetuximab_nsclc,2)}\")\n",
    "AUCTcetuximab_nsclc_aucpr = average_precision_score(Ytscetuximab_nsclc.astype(int), PredTcetuximab_nsclc.detach().numpy())\n",
    "#print(f\"PDX - Test AUCPR (Cetuximab, NSCLC): {round(AUCTcetuximab_nsclc_aucpr,2)}\\n\")\n",
    "\n",
    "AUCT_finetuned = dict()\n",
    "AUCTaucpr_finetuned = dict()\n",
    "AUCTcetuximab_finetuned = dict()\n",
    "AUCTcetuximab_crc_finetuned = dict()\n",
    "AUCTcetuximab_nsclc_finetuned = dict()\n",
    "AUCTcetuximab_aucpr_finetuned = dict()\n",
    "AUCTcetuximab_crc_aucpr_finetuned = dict()\n",
    "AUCTcetuximab_nsclc_aucpr_finetuned = dict()\n",
    "for iter in range(max_iter):\n",
    "   iter += 1  \n",
    "\n",
    "   AutoencoderE_finetuned = torch.load(models_dir + f\"Finetuned_Models/Exprs_Cetuximab_GDSC_PDX_EGFRi_Expression_Mutation_Finetuned_{iter}.pt\")\n",
    "   AutoencoderM_finetuned = torch.load(models_dir + f\"Finetuned_Models/Mut_Cetuximab_GDSC_PDX_EGFRi_Expression_Mutation_Finetuned_{iter}.pt\")\n",
    "   Clas_finetuned = torch.load(models_dir + f\"Finetuned_Models/Class_Cetuximab_GDSC_PDX_EGFRi_Expression_Mutation_Finetuned_{iter}.pt\")\n",
    "   \n",
    "   AutoencoderE_finetuned.eval()\n",
    "   AutoencoderM_finetuned.eval()\n",
    "   Clas_finetuned.eval()\n",
    "      \n",
    "   ZEX = AutoencoderE_finetuned(torch.FloatTensor(X_trainE))\n",
    "   ZMX = AutoencoderM_finetuned(torch.FloatTensor(X_trainM))\n",
    "   ZTX = torch.cat((ZEX, ZMX), 1)\n",
    "   ZTX = F.normalize(ZTX, p=2, dim=0)\n",
    "   PredX = Clas_finetuned(ZTX)\n",
    "   AUCT_finetuned[iter] = roc_auc_score(Y, PredX.detach().numpy())\n",
    "   AUCTaucpr_finetuned[iter] = average_precision_score(Y, PredX.detach().numpy())\n",
    "   \n",
    "   ZETcetuximab = AutoencoderE_finetuned(TX_testEcetuximab)\n",
    "   ZMTcetuximab = AutoencoderM_finetuned(TX_testMcetuximab)\n",
    "   ZTTcetuximab = torch.cat((ZETcetuximab, ZMTcetuximab), 1)\n",
    "   ZTTcetuximab = F.normalize(ZTTcetuximab, p=2, dim=0)\n",
    "   PredTcetuximab = Clas_finetuned(ZTTcetuximab)\n",
    "   AUCTcetuximab_finetuned[iter] = roc_auc_score(Ytscetuximab.astype(int), PredTcetuximab.detach().numpy())\n",
    "   AUCTcetuximab_aucpr_finetuned[iter] = average_precision_score(Ytscetuximab.astype(int), PredTcetuximab.detach().numpy())\n",
    "\n",
    "   ZETcetuximab_crc = AutoencoderE_finetuned(TX_testEcetuximab_crc)\n",
    "   ZMTcetuximab_crc = AutoencoderM_finetuned(TX_testMcetuximab_crc)\n",
    "   ZTTcetuximab_crc = torch.cat((ZETcetuximab_crc, ZMTcetuximab_crc), 1)\n",
    "   ZTTcetuximab_crc = F.normalize(ZTTcetuximab_crc, p=2, dim=0)\n",
    "   PredTcetuximab_crc = Clas_finetuned(ZTTcetuximab_crc)\n",
    "   AUCTcetuximab_crc_finetuned[iter] = roc_auc_score(Ytscetuximab_crc.astype(int), PredTcetuximab_crc.detach().numpy())\n",
    "   AUCTcetuximab_crc_aucpr_finetuned[iter] = average_precision_score(Ytscetuximab_crc.astype(int), PredTcetuximab_crc.detach().numpy())\n",
    "\n",
    "   ZETcetuximab_nsclc = AutoencoderE_finetuned(TX_testEcetuximab_nsclc)\n",
    "   ZMTcetuximab_nsclc = AutoencoderM_finetuned(TX_testMcetuximab_nsclc)\n",
    "   ZTTcetuximab_nsclc = torch.cat((ZETcetuximab_nsclc, ZMTcetuximab_nsclc), 1)\n",
    "   ZTTcetuximab_nsclc = F.normalize(ZTTcetuximab_nsclc, p=2, dim=0)\n",
    "   PredTcetuximab_nsclc = Clas_finetuned(ZTTcetuximab_nsclc)\n",
    "   AUCTcetuximab_nsclc_finetuned[iter] = roc_auc_score(Ytscetuximab_nsclc.astype(int), PredTcetuximab_nsclc.detach().numpy())\n",
    "   AUCTcetuximab_nsclc_aucpr_finetuned[iter] = average_precision_score(Ytscetuximab_nsclc.astype(int), PredTcetuximab_nsclc.detach().numpy())\n",
    "\n",
    "max_key = max(AUCTcetuximab_aucpr_finetuned, key=AUCTcetuximab_aucpr_finetuned.get)\n",
    "max_key_crc = max(AUCTcetuximab_crc_aucpr_finetuned, key=AUCTcetuximab_crc_aucpr_finetuned.get)\n",
    "max_key_nsclc = max(AUCTcetuximab_nsclc_aucpr_finetuned, key=AUCTcetuximab_nsclc_aucpr_finetuned.get)\n",
    "\n",
    "print(f\"GDSC - Training AUC (EGFRi): {round(AUCT,2)}\")\n",
    "print(f\"GDSC - Training AUCPR (EGFRi): {round(AUCTaucpr,2)}\")\n",
    "print(f\"PDX - Test AUC (Cetuximab): {round(AUCTcetuximab,2)}\")\n",
    "print(f\"PDX - Test AUCPR (Cetuximab): {round(AUCTcetuximab_aucpr,2)}\")\n",
    "print(f\"PDX - Test AUC (Cetuximab, CRC): {round(AUCTcetuximab_crc,2)}\")\n",
    "print(f\"PDX - Test AUCPR (Cetuximab, CRC): {round(AUCTcetuximab_crc_aucpr,2)}\")\n",
    "print(f\"PDX - Test AUC (Cetuximab, NSCLC): {round(AUCTcetuximab_nsclc,2)}\")\n",
    "print(f\"PDX - Test AUCPR (Cetuximab, NSCLC): {round(AUCTcetuximab_nsclc_aucpr,2)}\\n\")\n",
    "\n",
    "print(f\"GDSC - Training AUC (EGFRi, Finetuned): {round(AUCT_finetuned[max_key],2)}\")\n",
    "print(f\"GDSC - Training AUCPR (EGFRi, Finetuned): {round(AUCTaucpr_finetuned[max_key],2)}\")\n",
    "print(f\"PDX - Test AUC (Cetuximab, Finetuned): {round(AUCTcetuximab_finetuned[max_key],2)}\")\n",
    "print(f\"PDX - Test AUCPR (Cetuximab, Finetuned): {round(AUCTcetuximab_aucpr_finetuned[max_key],2)}\\n\")\n",
    "\n",
    "print(f\"GDSC - Training AUC (EGFRi, Finetuned): {round(AUCT_finetuned[max_key_crc],2)}\")\n",
    "print(f\"GDSC - Training AUCPR (EGFRi, Finetuned): {round(AUCTaucpr_finetuned[max_key_crc],2)}\")\n",
    "print(f\"PDX - Test AUC (Cetuximab, CRC, Finetuned): {round(AUCTcetuximab_crc_finetuned[max_key_crc],2)}\")\n",
    "print(f\"PDX - Test AUCPR (Cetuximab, CRC, Finetuned): {round(AUCTcetuximab_crc_aucpr_finetuned[max_key_crc],2)}\\n\\n\")\n",
    "\n",
    "print(f\"GDSC - Training AUC (EGFRi, Finetuned): {round(AUCT_finetuned[max_key_nsclc],2)}\")\n",
    "print(f\"GDSC - Training AUCPR (EGFRi, Finetuned): {round(AUCTaucpr_finetuned[max_key_nsclc],2)}\")\n",
    "print(f\"PDX - Test AUC (Cetuximab, NSCLC, Finetuned): {round(AUCTcetuximab_nsclc_finetuned[max_key_nsclc],2)}\")\n",
    "print(f\"PDX - Test AUCPR (Cetuximab, NSCLC, Finetuned): {round(AUCTcetuximab_nsclc_aucpr_finetuned[max_key_nsclc],2)}\\n\\n\")\n",
    "\n",
    "print(\"Models for maximum finetuning (Cetuximab)\")\n",
    "print(f\"Exprs_Cetuximab_GDSC_PDX_EGFRi_Expression_Mutation_Finetuned_{max_key}.pt\")\n",
    "print(f\"CNA_Cetuximab_GDSC_PDX_EGFRi_Expression_Mutation_Finetuned_{max_key}.pt\")\n",
    "print(f\"Class_Cetuximab_GDSC_PDX_EGFRi_Expression_Mutation_Finetuned_{max_key}.pt\")\n",
    "\n",
    "print(\"\\nModels for maximum finetuning (Cetuximab, CRC)\")\n",
    "print(f\"Exprs_Cetuximab_GDSC_PDX_EGFRi_Expression_Mutation_Finetuned_{max_key_crc}.pt\")\n",
    "print(f\"CNA_Cetuximab_GDSC_PDX_EGFRi_Expression_Mutation_Finetuned_{max_key_crc}.pt\")\n",
    "print(f\"Class_Cetuximab_GDSC_PDX_EGFRi_Expression_Mutation_Finetuned_{max_key_crc}.pt\")\n",
    "\n",
    "print(\"\\nModels for maximum finetuning (Cetuximab, NSCLC)\")\n",
    "print(f\"Exprs_Cetuximab_GDSC_PDX_EGFRi_Expression_Mutation_Finetuned_{max_key_nsclc}.pt\")\n",
    "print(f\"CNA_Cetuximab_GDSC_PDX_EGFRi_Expression_Mutation_Finetuned_{max_key_nsclc}.pt\")\n",
    "print(f\"Class_Cetuximab_GDSC_PDX_EGFRi_Expression_Mutation_Finetuned_{max_key_nsclc}.pt\")"
   ]
  },
  {
   "cell_type": "code",
   "execution_count": 49,
   "metadata": {},
   "outputs": [
    {
     "data": {
      "text/html": [
       "<div>\n",
       "<style scoped>\n",
       "    .dataframe tbody tr th:only-of-type {\n",
       "        vertical-align: middle;\n",
       "    }\n",
       "\n",
       "    .dataframe tbody tr th {\n",
       "        vertical-align: top;\n",
       "    }\n",
       "\n",
       "    .dataframe thead th {\n",
       "        text-align: right;\n",
       "    }\n",
       "</style>\n",
       "<table border=\"1\" class=\"dataframe\">\n",
       "  <thead>\n",
       "    <tr style=\"text-align: right;\">\n",
       "      <th></th>\n",
       "      <th>Data</th>\n",
       "      <th>AUC (GDSC)</th>\n",
       "      <th>AUCPR (GDSC)</th>\n",
       "      <th>AUC (PDX)</th>\n",
       "      <th>AUCPR (PDX)</th>\n",
       "      <th>AUC (PDX-CRC)</th>\n",
       "      <th>AUCPR (PDX-CRC)</th>\n",
       "      <th>AUC (PDX-NSCLC)</th>\n",
       "      <th>AUCPR (PDX-NSCLC)</th>\n",
       "      <th>Sample Size (GDSC)</th>\n",
       "      <th>Feature Size (GDSC)</th>\n",
       "    </tr>\n",
       "  </thead>\n",
       "  <tbody>\n",
       "    <tr>\n",
       "      <th>0</th>\n",
       "      <td>Expr + Mut</td>\n",
       "      <td>0.82</td>\n",
       "      <td>0.4</td>\n",
       "      <td>0.56</td>\n",
       "      <td>0.11</td>\n",
       "      <td>0.65</td>\n",
       "      <td>0.18</td>\n",
       "      <td>0.83</td>\n",
       "      <td>0.2</td>\n",
       "      <td>5633</td>\n",
       "      <td>873</td>\n",
       "    </tr>\n",
       "    <tr>\n",
       "      <th>1</th>\n",
       "      <td>Expr + Mut (Fine-tuned)</td>\n",
       "      <td>0.73</td>\n",
       "      <td>0.36</td>\n",
       "      <td>0.73</td>\n",
       "      <td>0.21</td>\n",
       "      <td>0.67</td>\n",
       "      <td>0.3</td>\n",
       "      <td>0.91</td>\n",
       "      <td>0.33</td>\n",
       "      <td>5633</td>\n",
       "      <td>873</td>\n",
       "    </tr>\n",
       "  </tbody>\n",
       "</table>\n",
       "</div>"
      ],
      "text/plain": [
       "                      Data AUC (GDSC) AUCPR (GDSC) AUC (PDX) AUCPR (PDX)  \\\n",
       "0               Expr + Mut       0.82          0.4      0.56        0.11   \n",
       "1  Expr + Mut (Fine-tuned)       0.73         0.36      0.73        0.21   \n",
       "\n",
       "  AUC (PDX-CRC) AUCPR (PDX-CRC) AUC (PDX-NSCLC) AUCPR (PDX-NSCLC)  \\\n",
       "0          0.65            0.18            0.83               0.2   \n",
       "1          0.67             0.3            0.91              0.33   \n",
       "\n",
       "  Sample Size (GDSC) Feature Size (GDSC)  \n",
       "0               5633                 873  \n",
       "1               5633                 873  "
      ]
     },
     "execution_count": 49,
     "metadata": {},
     "output_type": "execute_result"
    }
   ],
   "source": [
    "# create a dataframe with the prediction results \n",
    "\n",
    "em = {\"Data\": [\"Expr + Mut\", \"Expr + Mut (Fine-tuned)\"],\n",
    "       \"AUC (GDSC)\": [round(AUCT, 2), round(AUCT_finetuned[max_key], 2)],\n",
    "       \"AUCPR (GDSC)\": [round(AUCTaucpr,2), round(AUCTaucpr_finetuned[max_key],2)],\n",
    "       \"AUC (PDX)\": [round(AUCTcetuximab,2), round(AUCTcetuximab_finetuned[max_key],2)],\n",
    "       \"AUCPR (PDX)\":  [round(AUCTcetuximab_aucpr,2), round(AUCTcetuximab_aucpr_finetuned[max_key],2)],\n",
    "       \"AUC (PDX-CRC)\":  [round(AUCTcetuximab_crc,2), round(AUCTcetuximab_crc_finetuned[max_key_crc],2)],\n",
    "       \"AUCPR (PDX-CRC)\": [round(AUCTcetuximab_crc_aucpr,2), round(AUCTcetuximab_crc_aucpr_finetuned[max_key_crc],2)],\n",
    "       \"AUC (PDX-NSCLC)\":  [round(AUCTcetuximab_nsclc,2), round(AUCTcetuximab_nsclc_finetuned[max_key_nsclc],2)],\n",
    "       \"AUCPR (PDX-NSCLC)\": [round(AUCTcetuximab_nsclc_aucpr,2), round(AUCTcetuximab_nsclc_aucpr_finetuned[max_key_nsclc],2)],\n",
    "       \"Sample Size (GDSC)\": [GDSCEv2.shape[0], GDSCEv2.shape[0]],\n",
    "       \"Feature Size (GDSC)\": [GDSCEv2.shape[1], GDSCEv2.shape[1]] \n",
    "}\n",
    "em_dataframe = pd.DataFrame.from_dict(em, orient='index').transpose() \n",
    "\n",
    "em_dataframe.to_csv(save_results_to + \"GDSC_PDX_Expression_Mutation_EGFRi_Cetuximab.tsv\",\n",
    "                    sep = \"\\t\",\n",
    "                    index = False)\n",
    "\n",
    "em_dataframe"
   ]
  },
  {
   "cell_type": "code",
   "execution_count": 50,
   "metadata": {},
   "outputs": [
    {
     "data": {
      "text/plain": [
       "AEE(\n",
       "  (EnE): Sequential(\n",
       "    (0): Linear(in_features=873, out_features=512, bias=True)\n",
       "    (1): BatchNorm1d(512, eps=1e-05, momentum=0.1, affine=True, track_running_stats=True)\n",
       "    (2): ReLU()\n",
       "    (3): Dropout(p=0.5, inplace=False)\n",
       "  )\n",
       ")"
      ]
     },
     "execution_count": 50,
     "metadata": {},
     "output_type": "execute_result"
    }
   ],
   "source": [
    "# show expression layer parameters\n",
    "\n",
    "AutoencoderE"
   ]
  },
  {
   "cell_type": "code",
   "execution_count": 51,
   "metadata": {},
   "outputs": [
    {
     "data": {
      "text/plain": [
       "AEM(\n",
       "  (EnM): Sequential(\n",
       "    (0): Linear(in_features=873, out_features=256, bias=True)\n",
       "    (1): BatchNorm1d(256, eps=1e-05, momentum=0.1, affine=True, track_running_stats=True)\n",
       "    (2): ReLU()\n",
       "    (3): Dropout(p=0.8, inplace=False)\n",
       "  )\n",
       ")"
      ]
     },
     "execution_count": 51,
     "metadata": {},
     "output_type": "execute_result"
    }
   ],
   "source": [
    "# show mutation layer parameters\n",
    "\n",
    "AutoencoderM"
   ]
  },
  {
   "cell_type": "code",
   "execution_count": 52,
   "metadata": {},
   "outputs": [
    {
     "data": {
      "text/plain": [
       "Classifier(\n",
       "  (FC): Sequential(\n",
       "    (0): Linear(in_features=768, out_features=1, bias=True)\n",
       "    (1): Dropout(p=0.8, inplace=False)\n",
       "    (2): Sigmoid()\n",
       "  )\n",
       ")"
      ]
     },
     "execution_count": 52,
     "metadata": {},
     "output_type": "execute_result"
    }
   ],
   "source": [
    "# show classification layer parameters\n",
    "\n",
    "Clas"
   ]
  },
  {
   "cell_type": "code",
   "execution_count": 53,
   "metadata": {},
   "outputs": [
    {
     "name": "stdout",
     "output_type": "stream",
     "text": [
      "/Volumes/Expansion/Thesis Work/Results/Transfer Learning/Drugs with same pathways/PDX_EGFRi/Expression_Mutation/Predictions\n"
     ]
    }
   ],
   "source": [
    "# change directory\n",
    "\n",
    "os.chdir(save_results_to)\n",
    "print(os.getcwd())"
   ]
  },
  {
   "cell_type": "code",
   "execution_count": 54,
   "metadata": {},
   "outputs": [],
   "source": [
    "# save predictions\n",
    "\n",
    "file = open('GDSC_PDX_DEGs - PDX_EGFRi_Cetuximab Predictions (Expression and Mutation).txt', 'w')\n",
    "file.write(f\"GDSC Training (EM) AUC (PDX_EGFRi): {round(AUCT,2)}\\n\")\n",
    "file.write(f\"GDSC Training (EM) AUCPR (PDX_EGFRi): {round(AUCTaucpr,2)}\\n\\n\")\n",
    "\n",
    "file.write(f\"PDX Test (EM) AUC (Cetuximab): {round(AUCTcetuximab,2)}\\n\")\n",
    "file.write(f\"PDX Test (EM) AUCPR (Cetuximab): {round(AUCTcetuximab_aucpr,2)}\\n\\n\")\n",
    "\n",
    "file.close()"
   ]
  }
 ],
 "metadata": {
  "kernelspec": {
   "display_name": "Python 3 (ipykernel)",
   "language": "python",
   "name": "python3"
  },
  "language_info": {
   "codemirror_mode": {
    "name": "ipython",
    "version": 3
   },
   "file_extension": ".py",
   "mimetype": "text/x-python",
   "name": "python",
   "nbconvert_exporter": "python",
   "pygments_lexer": "ipython3",
   "version": "3.12.7"
  }
 },
 "nbformat": 4,
 "nbformat_minor": 4
}
