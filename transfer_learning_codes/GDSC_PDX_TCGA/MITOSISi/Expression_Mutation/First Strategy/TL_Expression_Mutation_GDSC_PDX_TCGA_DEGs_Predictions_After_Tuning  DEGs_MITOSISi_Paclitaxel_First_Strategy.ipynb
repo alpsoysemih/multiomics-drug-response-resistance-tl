{
 "cells": [
  {
   "cell_type": "code",
   "execution_count": 1,
   "metadata": {},
   "outputs": [],
   "source": [
    "# import libraries\n",
    "\n",
    "import os\n",
    "import torch \n",
    "import torch.nn as nn\n",
    "import torch.nn.functional as F\n",
    "import torch.optim as optim\n",
    "import numpy as np\n",
    "import matplotlib.pyplot as plt\n",
    "import pandas as pd\n",
    "import math\n",
    "import mygene\n",
    "import sklearn.preprocessing as sk\n",
    "import seaborn as sns\n",
    "from sklearn import metrics\n",
    "from sklearn.feature_selection import VarianceThreshold\n",
    "from sklearn.model_selection import train_test_split\n",
    "from sklearn.metrics import confusion_matrix\n",
    "from sklearn.metrics import classification_report\n",
    "from torch.utils.data.sampler import WeightedRandomSampler\n",
    "from sklearn.metrics import roc_curve, auc\n",
    "from sklearn.metrics import roc_auc_score\n",
    "from sklearn.metrics import average_precision_score, precision_recall_curve\n",
    "import random\n",
    "import warnings\n",
    "from random import randint\n",
    "from sklearn.model_selection import StratifiedKFold\n",
    "\n",
    "# Suppress all warnings\n",
    "warnings.filterwarnings(\"ignore\")"
   ]
  },
  {
   "cell_type": "code",
   "execution_count": 2,
   "metadata": {},
   "outputs": [],
   "source": [
    "# define directories\n",
    "\n",
    "cell_line_dir = \"/Volumes/Expansion/Thesis Work/Supplementary Files/GDSC/\"\n",
    "models_dir = \"/Volumes/Expansion/Thesis Work/Results/Transfer Learning/Drugs with same pathways/MITOSISi/Expression_Mutation/Models/GDSC_PDX_TCGA_First_Strategy/\"\n",
    "finetuned_dir = \"/Volumes/Expansion/Thesis Work/Results/Transfer Learning/Drugs with same pathways/MITOSISi/Expression_Mutation/Models/GDSC_PDX_TCGA_First_Strategy/First_Strategy_Finetuned_Models//\"\n",
    "DEGs_dir = \"/Volumes/Expansion/Thesis Work/Results/GDSC_DEGs_inhibitors/MITOSISi/\"\n",
    "pdx_data_dir = \"/Volumes/Expansion/Thesis Work/Datasets/PDX/Expression/\"\n",
    "dataset_dir = \"/Volumes/Expansion/Thesis Work/Results/preprocessed_results2/\"\n",
    "save_results_to = \"/Volumes/Expansion/Thesis Work/Results/Transfer Learning/Drugs with same pathways/MITOSISi/Expression_Mutation/Predictions/GDSC_PDX_TCGA_First_Strategy/\""
   ]
  },
  {
   "cell_type": "code",
   "execution_count": 3,
   "metadata": {},
   "outputs": [],
   "source": [
    "# set random seeds\n",
    "\n",
    "torch.manual_seed(42)\n",
    "random.seed(42)"
   ]
  },
  {
   "cell_type": "code",
   "execution_count": 4,
   "metadata": {},
   "outputs": [
    {
     "name": "stdout",
     "output_type": "stream",
     "text": [
      "/Volumes/Expansion/Thesis Work/Results/preprocessed_results2/exprs\n"
     ]
    }
   ],
   "source": [
    "# change directory to read GDSC expression dataset (MITOSISi)\n",
    "\n",
    "os.chdir(dataset_dir + \"/exprs/\")\n",
    "print(os.getcwd())"
   ]
  },
  {
   "cell_type": "code",
   "execution_count": 5,
   "metadata": {},
   "outputs": [
    {
     "data": {
      "text/html": [
       "<div>\n",
       "<style scoped>\n",
       "    .dataframe tbody tr th:only-of-type {\n",
       "        vertical-align: middle;\n",
       "    }\n",
       "\n",
       "    .dataframe tbody tr th {\n",
       "        vertical-align: top;\n",
       "    }\n",
       "\n",
       "    .dataframe thead th {\n",
       "        text-align: right;\n",
       "    }\n",
       "</style>\n",
       "<table border=\"1\" class=\"dataframe\">\n",
       "  <thead>\n",
       "    <tr style=\"text-align: right;\">\n",
       "      <th>ENTREZID</th>\n",
       "      <th>1</th>\n",
       "      <th>2</th>\n",
       "      <th>9</th>\n",
       "      <th>10</th>\n",
       "      <th>12</th>\n",
       "      <th>13</th>\n",
       "      <th>14</th>\n",
       "      <th>15</th>\n",
       "      <th>16</th>\n",
       "      <th>18</th>\n",
       "      <th>...</th>\n",
       "      <th>107984199</th>\n",
       "      <th>107984208</th>\n",
       "      <th>107984325</th>\n",
       "      <th>107984411</th>\n",
       "      <th>107984648</th>\n",
       "      <th>107984889</th>\n",
       "      <th>107984989</th>\n",
       "      <th>107986313</th>\n",
       "      <th>107986782</th>\n",
       "      <th>107986810</th>\n",
       "    </tr>\n",
       "  </thead>\n",
       "  <tbody>\n",
       "    <tr>\n",
       "      <th>683665</th>\n",
       "      <td>-0.4711563767951986</td>\n",
       "      <td>-0.1857522957766964</td>\n",
       "      <td>0.9702409548662462</td>\n",
       "      <td>-0.4081281805960821</td>\n",
       "      <td>-0.4161511169999803</td>\n",
       "      <td>-0.4384159723467665</td>\n",
       "      <td>-1.154692246005183</td>\n",
       "      <td>0.5262132484107975</td>\n",
       "      <td>-0.7950924576033422</td>\n",
       "      <td>-0.6337442716864214</td>\n",
       "      <td>...</td>\n",
       "      <td>1.283534690590172</td>\n",
       "      <td>-0.3367265464586691</td>\n",
       "      <td>-0.0039762988723447</td>\n",
       "      <td>0.7378729872604209</td>\n",
       "      <td>0.9757614264575688</td>\n",
       "      <td>0.1494417647095801</td>\n",
       "      <td>2.062294063911948</td>\n",
       "      <td>-0.8140636761719959</td>\n",
       "      <td>0.2870333828833719</td>\n",
       "      <td>0.9524265085537148</td>\n",
       "    </tr>\n",
       "    <tr>\n",
       "      <th>684055</th>\n",
       "      <td>1.3565140948247052</td>\n",
       "      <td>-0.277542411913307</td>\n",
       "      <td>0.0887087882196536</td>\n",
       "      <td>-0.2754829982302413</td>\n",
       "      <td>-0.5153856346587746</td>\n",
       "      <td>-0.6248712076433911</td>\n",
       "      <td>0.1243408990866293</td>\n",
       "      <td>-1.2699667684674136</td>\n",
       "      <td>2.0788360886382717</td>\n",
       "      <td>2.5197991997459197</td>\n",
       "      <td>...</td>\n",
       "      <td>-0.5571028630154293</td>\n",
       "      <td>-1.724090733574364</td>\n",
       "      <td>-0.3749080365068901</td>\n",
       "      <td>-0.0016055431935905</td>\n",
       "      <td>-0.3788535663547365</td>\n",
       "      <td>-1.3502092798315848</td>\n",
       "      <td>0.6949790577550328</td>\n",
       "      <td>0.4333032198982747</td>\n",
       "      <td>-0.1280986270308099</td>\n",
       "      <td>-1.629249958712223</td>\n",
       "    </tr>\n",
       "    <tr>\n",
       "      <th>684057</th>\n",
       "      <td>0.6510004960254864</td>\n",
       "      <td>1.6578876382433665</td>\n",
       "      <td>-0.4977106390881842</td>\n",
       "      <td>-0.1212172092933644</td>\n",
       "      <td>-0.398455281697677</td>\n",
       "      <td>-0.2804901106672752</td>\n",
       "      <td>0.6455898116420014</td>\n",
       "      <td>0.215833091774836</td>\n",
       "      <td>-0.1723595788875009</td>\n",
       "      <td>-0.2170870770552223</td>\n",
       "      <td>...</td>\n",
       "      <td>-0.024863133395904</td>\n",
       "      <td>0.4073439017665206</td>\n",
       "      <td>-0.4440356638831038</td>\n",
       "      <td>0.8630347078663075</td>\n",
       "      <td>1.4486171428489227</td>\n",
       "      <td>-1.4777214830771732</td>\n",
       "      <td>0.5220400480464272</td>\n",
       "      <td>0.6441211958947753</td>\n",
       "      <td>0.9057518606131394</td>\n",
       "      <td>0.3018783753479829</td>\n",
       "    </tr>\n",
       "  </tbody>\n",
       "</table>\n",
       "<p>3 rows × 18597 columns</p>\n",
       "</div>"
      ],
      "text/plain": [
       "ENTREZID            1                    2                    9          \\\n",
       "683665    -0.4711563767951986  -0.1857522957766964   0.9702409548662462   \n",
       "684055     1.3565140948247052   -0.277542411913307   0.0887087882196536   \n",
       "684057     0.6510004960254864   1.6578876382433665  -0.4977106390881842   \n",
       "\n",
       "ENTREZID            10                   12                   13         \\\n",
       "683665    -0.4081281805960821  -0.4161511169999803  -0.4384159723467665   \n",
       "684055    -0.2754829982302413  -0.5153856346587746  -0.6248712076433911   \n",
       "684057    -0.1212172092933644   -0.398455281697677  -0.2804901106672752   \n",
       "\n",
       "ENTREZID           14                   15                   16         \\\n",
       "683665    -1.154692246005183   0.5262132484107975  -0.7950924576033422   \n",
       "684055    0.1243408990866293  -1.2699667684674136   2.0788360886382717   \n",
       "684057    0.6455898116420014    0.215833091774836  -0.1723595788875009   \n",
       "\n",
       "ENTREZID            18         ...            107984199            107984208  \\\n",
       "683665    -0.6337442716864214  ...    1.283534690590172  -0.3367265464586691   \n",
       "684055     2.5197991997459197  ...  -0.5571028630154293   -1.724090733574364   \n",
       "684057    -0.2170870770552223  ...   -0.024863133395904   0.4073439017665206   \n",
       "\n",
       "ENTREZID            107984325            107984411            107984648  \\\n",
       "683665    -0.0039762988723447   0.7378729872604209   0.9757614264575688   \n",
       "684055    -0.3749080365068901  -0.0016055431935905  -0.3788535663547365   \n",
       "684057    -0.4440356638831038   0.8630347078663075   1.4486171428489227   \n",
       "\n",
       "ENTREZID            107984889           107984989            107986313  \\\n",
       "683665     0.1494417647095801   2.062294063911948  -0.8140636761719959   \n",
       "684055    -1.3502092798315848  0.6949790577550328   0.4333032198982747   \n",
       "684057    -1.4777214830771732  0.5220400480464272   0.6441211958947753   \n",
       "\n",
       "ENTREZID            107986782           107986810  \n",
       "683665     0.2870333828833719  0.9524265085537148  \n",
       "684055    -0.1280986270308099  -1.629249958712223  \n",
       "684057     0.9057518606131394  0.3018783753479829  \n",
       "\n",
       "[3 rows x 18597 columns]"
      ]
     },
     "execution_count": 5,
     "metadata": {},
     "output_type": "execute_result"
    }
   ],
   "source": [
    "# read GDSC expression dataset (MITOSISi)\n",
    "\n",
    "GDSCE = pd.read_csv(\"GDSC_exprs.z.MITOSISi.tsv\", \n",
    "                    sep = \"\\t\", index_col=0, decimal = \",\")\n",
    "GDSCE = pd.DataFrame.transpose(GDSCE)\n",
    "GDSCE.head(3)"
   ]
  },
  {
   "cell_type": "code",
   "execution_count": 6,
   "metadata": {},
   "outputs": [
    {
     "name": "stdout",
     "output_type": "stream",
     "text": [
      "/Volumes/Expansion/Thesis Work/Results/preprocessed_results2/mutations\n"
     ]
    }
   ],
   "source": [
    "# change directory to read GDSC mutation dataset (MITOSISi)\n",
    "\n",
    "os.chdir(dataset_dir + \"/mutations/\")\n",
    "print(os.getcwd())"
   ]
  },
  {
   "cell_type": "code",
   "execution_count": 7,
   "metadata": {},
   "outputs": [
    {
     "data": {
      "text/html": [
       "<div>\n",
       "<style scoped>\n",
       "    .dataframe tbody tr th:only-of-type {\n",
       "        vertical-align: middle;\n",
       "    }\n",
       "\n",
       "    .dataframe tbody tr th {\n",
       "        vertical-align: top;\n",
       "    }\n",
       "\n",
       "    .dataframe thead th {\n",
       "        text-align: right;\n",
       "    }\n",
       "</style>\n",
       "<table border=\"1\" class=\"dataframe\">\n",
       "  <thead>\n",
       "    <tr style=\"text-align: right;\">\n",
       "      <th></th>\n",
       "      <th>143872</th>\n",
       "      <th>728577</th>\n",
       "      <th>2</th>\n",
       "      <th>2050</th>\n",
       "      <th>10243</th>\n",
       "      <th>79365</th>\n",
       "      <th>256006</th>\n",
       "      <th>4609</th>\n",
       "      <th>118788</th>\n",
       "      <th>113675</th>\n",
       "      <th>...</th>\n",
       "      <th>26517</th>\n",
       "      <th>28972</th>\n",
       "      <th>53917</th>\n",
       "      <th>283507</th>\n",
       "      <th>514</th>\n",
       "      <th>339210</th>\n",
       "      <th>64981</th>\n",
       "      <th>7335</th>\n",
       "      <th>5739</th>\n",
       "      <th>83442</th>\n",
       "    </tr>\n",
       "  </thead>\n",
       "  <tbody>\n",
       "    <tr>\n",
       "      <th>683665</th>\n",
       "      <td>0.0</td>\n",
       "      <td>0.0</td>\n",
       "      <td>0.0</td>\n",
       "      <td>0.0</td>\n",
       "      <td>0.0</td>\n",
       "      <td>0.0</td>\n",
       "      <td>0.0</td>\n",
       "      <td>0.0</td>\n",
       "      <td>0.0</td>\n",
       "      <td>0.0</td>\n",
       "      <td>...</td>\n",
       "      <td>0.0</td>\n",
       "      <td>0.0</td>\n",
       "      <td>0.0</td>\n",
       "      <td>0.0</td>\n",
       "      <td>0.0</td>\n",
       "      <td>0.0</td>\n",
       "      <td>0.0</td>\n",
       "      <td>0.0</td>\n",
       "      <td>0.0</td>\n",
       "      <td>0.0</td>\n",
       "    </tr>\n",
       "    <tr>\n",
       "      <th>684055</th>\n",
       "      <td>0.0</td>\n",
       "      <td>0.0</td>\n",
       "      <td>0.0</td>\n",
       "      <td>0.0</td>\n",
       "      <td>0.0</td>\n",
       "      <td>0.0</td>\n",
       "      <td>0.0</td>\n",
       "      <td>0.0</td>\n",
       "      <td>0.0</td>\n",
       "      <td>0.0</td>\n",
       "      <td>...</td>\n",
       "      <td>0.0</td>\n",
       "      <td>0.0</td>\n",
       "      <td>0.0</td>\n",
       "      <td>0.0</td>\n",
       "      <td>0.0</td>\n",
       "      <td>0.0</td>\n",
       "      <td>0.0</td>\n",
       "      <td>0.0</td>\n",
       "      <td>0.0</td>\n",
       "      <td>0.0</td>\n",
       "    </tr>\n",
       "    <tr>\n",
       "      <th>684057</th>\n",
       "      <td>0.0</td>\n",
       "      <td>0.0</td>\n",
       "      <td>0.0</td>\n",
       "      <td>0.0</td>\n",
       "      <td>0.0</td>\n",
       "      <td>0.0</td>\n",
       "      <td>0.0</td>\n",
       "      <td>0.0</td>\n",
       "      <td>0.0</td>\n",
       "      <td>0.0</td>\n",
       "      <td>...</td>\n",
       "      <td>0.0</td>\n",
       "      <td>0.0</td>\n",
       "      <td>0.0</td>\n",
       "      <td>0.0</td>\n",
       "      <td>0.0</td>\n",
       "      <td>0.0</td>\n",
       "      <td>0.0</td>\n",
       "      <td>0.0</td>\n",
       "      <td>0.0</td>\n",
       "      <td>0.0</td>\n",
       "    </tr>\n",
       "    <tr>\n",
       "      <th>684059</th>\n",
       "      <td>0.0</td>\n",
       "      <td>0.0</td>\n",
       "      <td>0.0</td>\n",
       "      <td>0.0</td>\n",
       "      <td>0.0</td>\n",
       "      <td>0.0</td>\n",
       "      <td>0.0</td>\n",
       "      <td>0.0</td>\n",
       "      <td>0.0</td>\n",
       "      <td>0.0</td>\n",
       "      <td>...</td>\n",
       "      <td>0.0</td>\n",
       "      <td>0.0</td>\n",
       "      <td>0.0</td>\n",
       "      <td>0.0</td>\n",
       "      <td>0.0</td>\n",
       "      <td>0.0</td>\n",
       "      <td>0.0</td>\n",
       "      <td>0.0</td>\n",
       "      <td>0.0</td>\n",
       "      <td>0.0</td>\n",
       "    </tr>\n",
       "    <tr>\n",
       "      <th>684062</th>\n",
       "      <td>0.0</td>\n",
       "      <td>0.0</td>\n",
       "      <td>0.0</td>\n",
       "      <td>0.0</td>\n",
       "      <td>0.0</td>\n",
       "      <td>0.0</td>\n",
       "      <td>0.0</td>\n",
       "      <td>0.0</td>\n",
       "      <td>0.0</td>\n",
       "      <td>0.0</td>\n",
       "      <td>...</td>\n",
       "      <td>0.0</td>\n",
       "      <td>0.0</td>\n",
       "      <td>0.0</td>\n",
       "      <td>0.0</td>\n",
       "      <td>0.0</td>\n",
       "      <td>0.0</td>\n",
       "      <td>0.0</td>\n",
       "      <td>0.0</td>\n",
       "      <td>0.0</td>\n",
       "      <td>0.0</td>\n",
       "    </tr>\n",
       "  </tbody>\n",
       "</table>\n",
       "<p>5 rows × 18377 columns</p>\n",
       "</div>"
      ],
      "text/plain": [
       "        143872  728577  2       2050    10243   79365   256006  4609    \\\n",
       "683665     0.0     0.0     0.0     0.0     0.0     0.0     0.0     0.0   \n",
       "684055     0.0     0.0     0.0     0.0     0.0     0.0     0.0     0.0   \n",
       "684057     0.0     0.0     0.0     0.0     0.0     0.0     0.0     0.0   \n",
       "684059     0.0     0.0     0.0     0.0     0.0     0.0     0.0     0.0   \n",
       "684062     0.0     0.0     0.0     0.0     0.0     0.0     0.0     0.0   \n",
       "\n",
       "        118788  113675  ...  26517   28972   53917   283507  514     339210  \\\n",
       "683665     0.0     0.0  ...     0.0     0.0     0.0     0.0     0.0     0.0   \n",
       "684055     0.0     0.0  ...     0.0     0.0     0.0     0.0     0.0     0.0   \n",
       "684057     0.0     0.0  ...     0.0     0.0     0.0     0.0     0.0     0.0   \n",
       "684059     0.0     0.0  ...     0.0     0.0     0.0     0.0     0.0     0.0   \n",
       "684062     0.0     0.0  ...     0.0     0.0     0.0     0.0     0.0     0.0   \n",
       "\n",
       "        64981   7335    5739    83442   \n",
       "683665     0.0     0.0     0.0     0.0  \n",
       "684055     0.0     0.0     0.0     0.0  \n",
       "684057     0.0     0.0     0.0     0.0  \n",
       "684059     0.0     0.0     0.0     0.0  \n",
       "684062     0.0     0.0     0.0     0.0  \n",
       "\n",
       "[5 rows x 18377 columns]"
      ]
     },
     "execution_count": 7,
     "metadata": {},
     "output_type": "execute_result"
    }
   ],
   "source": [
    "# read GDSC mutation dataset (MITOSISi)\n",
    "\n",
    "GDSCM = pd.read_csv(\"GDSC_mutations.MITOSISi.tsv\",\n",
    "                    sep=\"\\t\", index_col=0, decimal=\".\")\n",
    "GDSCM.drop_duplicates(keep='last')\n",
    "GDSCM = pd.DataFrame.transpose(GDSCM)\n",
    "GDSCM = GDSCM.loc[:, ~GDSCM.columns.duplicated()]\n",
    "\n",
    "GDSCM.head()"
   ]
  },
  {
   "cell_type": "code",
   "execution_count": 8,
   "metadata": {},
   "outputs": [
    {
     "name": "stdout",
     "output_type": "stream",
     "text": [
      "/Volumes/Expansion/Thesis Work/Results/preprocessed_results2/response\n"
     ]
    }
   ],
   "source": [
    "# change directory to read GDSC response dataset (MITOSISi)\n",
    "\n",
    "os.chdir(dataset_dir + \"/response/\")\n",
    "print(os.getcwd())"
   ]
  },
  {
   "cell_type": "code",
   "execution_count": 9,
   "metadata": {},
   "outputs": [
    {
     "data": {
      "text/html": [
       "<div>\n",
       "<style scoped>\n",
       "    .dataframe tbody tr th:only-of-type {\n",
       "        vertical-align: middle;\n",
       "    }\n",
       "\n",
       "    .dataframe tbody tr th {\n",
       "        vertical-align: top;\n",
       "    }\n",
       "\n",
       "    .dataframe thead th {\n",
       "        text-align: right;\n",
       "    }\n",
       "</style>\n",
       "<table border=\"1\" class=\"dataframe\">\n",
       "  <thead>\n",
       "    <tr style=\"text-align: right;\">\n",
       "      <th></th>\n",
       "      <th>response</th>\n",
       "      <th>logIC50</th>\n",
       "      <th>drug</th>\n",
       "      <th>exprs</th>\n",
       "      <th>CNA</th>\n",
       "      <th>mutations</th>\n",
       "    </tr>\n",
       "    <tr>\n",
       "      <th>sample_name</th>\n",
       "      <th></th>\n",
       "      <th></th>\n",
       "      <th></th>\n",
       "      <th></th>\n",
       "      <th></th>\n",
       "      <th></th>\n",
       "    </tr>\n",
       "  </thead>\n",
       "  <tbody>\n",
       "    <tr>\n",
       "      <th>683665</th>\n",
       "      <td>0</td>\n",
       "      <td>0.70402689461727</td>\n",
       "      <td>VX-680</td>\n",
       "      <td>1</td>\n",
       "      <td>1</td>\n",
       "      <td>1</td>\n",
       "    </tr>\n",
       "    <tr>\n",
       "      <th>683665</th>\n",
       "      <td>0</td>\n",
       "      <td>-3.64728727366553</td>\n",
       "      <td>Paclitaxel</td>\n",
       "      <td>1</td>\n",
       "      <td>1</td>\n",
       "      <td>1</td>\n",
       "    </tr>\n",
       "    <tr>\n",
       "      <th>683665</th>\n",
       "      <td>0</td>\n",
       "      <td>0.307772732941787</td>\n",
       "      <td>S-Trityl-L-cysteine</td>\n",
       "      <td>1</td>\n",
       "      <td>1</td>\n",
       "      <td>1</td>\n",
       "    </tr>\n",
       "    <tr>\n",
       "      <th>683665</th>\n",
       "      <td>0</td>\n",
       "      <td>-1.86219201025588</td>\n",
       "      <td>BI-2536</td>\n",
       "      <td>1</td>\n",
       "      <td>1</td>\n",
       "      <td>1</td>\n",
       "    </tr>\n",
       "    <tr>\n",
       "      <th>683665</th>\n",
       "      <td>0</td>\n",
       "      <td>-3.03887798334128</td>\n",
       "      <td>GW843682X</td>\n",
       "      <td>1</td>\n",
       "      <td>1</td>\n",
       "      <td>1</td>\n",
       "    </tr>\n",
       "  </tbody>\n",
       "</table>\n",
       "</div>"
      ],
      "text/plain": [
       "             response            logIC50                 drug  exprs  CNA  \\\n",
       "sample_name                                                                 \n",
       "683665              0   0.70402689461727               VX-680      1    1   \n",
       "683665              0  -3.64728727366553           Paclitaxel      1    1   \n",
       "683665              0  0.307772732941787  S-Trityl-L-cysteine      1    1   \n",
       "683665              0  -1.86219201025588              BI-2536      1    1   \n",
       "683665              0  -3.03887798334128            GW843682X      1    1   \n",
       "\n",
       "             mutations  \n",
       "sample_name             \n",
       "683665               1  \n",
       "683665               1  \n",
       "683665               1  \n",
       "683665               1  \n",
       "683665               1  "
      ]
     },
     "execution_count": 9,
     "metadata": {},
     "output_type": "execute_result"
    }
   ],
   "source": [
    "# read GDSC response dataset (MITOSISi)\n",
    "\n",
    "GDSCR = pd.read_csv(\"GDSC_response.MITOSISi.tsv\",\n",
    "                    sep=\"\\t\",\n",
    "                    index_col=0,\n",
    "                    decimal=\",\")\n",
    "GDSCR.dropna(inplace=True)\n",
    "GDSCR.rename(mapper=str, axis='index', inplace=True)\n",
    "d = {\"R\": 0, \"S\": 1}\n",
    "GDSCR[\"response\"] = GDSCR.loc[:, \"response\"].apply(lambda x: d[x])\n",
    "\n",
    "GDSCR.head()"
   ]
  },
  {
   "cell_type": "code",
   "execution_count": 10,
   "metadata": {},
   "outputs": [
    {
     "data": {
      "text/plain": [
       "drug\n",
       "Genentech Cpd 10       771\n",
       "SB-715992              770\n",
       "NPK76-II-72-1          769\n",
       "MPS-1-IN-1             767\n",
       "GSK1070916             747\n",
       "ZM-447439              694\n",
       "Paclitaxel             370\n",
       "GW843682X              370\n",
       "S-Trityl-L-cysteine    369\n",
       "BI-2536                368\n",
       "VX-680                 365\n",
       "Name: count, dtype: int64"
      ]
     },
     "execution_count": 10,
     "metadata": {},
     "output_type": "execute_result"
    }
   ],
   "source": [
    "# print count of cell lines for each drug (MITOSISi)\n",
    "\n",
    "GDSCR[\"drug\"].value_counts()"
   ]
  },
  {
   "cell_type": "code",
   "execution_count": 11,
   "metadata": {},
   "outputs": [
    {
     "name": "stdout",
     "output_type": "stream",
     "text": [
      "/Volumes/Expansion/Thesis Work/Results/preprocessed_results2/exprs_homogenized\n"
     ]
    }
   ],
   "source": [
    "# change directory to read PDX and TCGA expression datasets homogenized with GDSC expression dataset (Paclitaxel)\n",
    "\n",
    "os.chdir(dataset_dir + \"/exprs_homogenized/\")\n",
    "print(os.getcwd())"
   ]
  },
  {
   "cell_type": "code",
   "execution_count": 12,
   "metadata": {},
   "outputs": [
    {
     "data": {
      "text/html": [
       "<div>\n",
       "<style scoped>\n",
       "    .dataframe tbody tr th:only-of-type {\n",
       "        vertical-align: middle;\n",
       "    }\n",
       "\n",
       "    .dataframe tbody tr th {\n",
       "        vertical-align: top;\n",
       "    }\n",
       "\n",
       "    .dataframe thead th {\n",
       "        text-align: right;\n",
       "    }\n",
       "</style>\n",
       "<table border=\"1\" class=\"dataframe\">\n",
       "  <thead>\n",
       "    <tr style=\"text-align: right;\">\n",
       "      <th>ENTREZID</th>\n",
       "      <th>1</th>\n",
       "      <th>2</th>\n",
       "      <th>9</th>\n",
       "      <th>10</th>\n",
       "      <th>12</th>\n",
       "      <th>13</th>\n",
       "      <th>14</th>\n",
       "      <th>15</th>\n",
       "      <th>16</th>\n",
       "      <th>18</th>\n",
       "      <th>...</th>\n",
       "      <th>100507206</th>\n",
       "      <th>100507254</th>\n",
       "      <th>100507436</th>\n",
       "      <th>100507472</th>\n",
       "      <th>100526773</th>\n",
       "      <th>100527978</th>\n",
       "      <th>100532746</th>\n",
       "      <th>100820829</th>\n",
       "      <th>102724473</th>\n",
       "      <th>105375355</th>\n",
       "    </tr>\n",
       "  </thead>\n",
       "  <tbody>\n",
       "    <tr>\n",
       "      <th>X-1008</th>\n",
       "      <td>5.1683455924601</td>\n",
       "      <td>6.40148605928778</td>\n",
       "      <td>5.14735257900894</td>\n",
       "      <td>2.62182669498089</td>\n",
       "      <td>5.65801642244848</td>\n",
       "      <td>2.56126582112594</td>\n",
       "      <td>7.9002150761815</td>\n",
       "      <td>2.99037104024989</td>\n",
       "      <td>9.07138836072349</td>\n",
       "      <td>2.93107188443328</td>\n",
       "      <td>...</td>\n",
       "      <td>2.51273514040916</td>\n",
       "      <td>3.16885840754458</td>\n",
       "      <td>7.88710414124411</td>\n",
       "      <td>2.86414718037944</td>\n",
       "      <td>2.83357312932769</td>\n",
       "      <td>2.31326216200341</td>\n",
       "      <td>2.42412318078189</td>\n",
       "      <td>3.95569877310649</td>\n",
       "      <td>3.86826539821721</td>\n",
       "      <td>2.24540260166309</td>\n",
       "    </tr>\n",
       "    <tr>\n",
       "      <th>X-1156</th>\n",
       "      <td>5.64285976724198</td>\n",
       "      <td>6.16403060339034</td>\n",
       "      <td>6.56682953977831</td>\n",
       "      <td>2.62182669498089</td>\n",
       "      <td>2.20555612143949</td>\n",
       "      <td>2.68000643826337</td>\n",
       "      <td>8.28747895280708</td>\n",
       "      <td>2.40648953950849</td>\n",
       "      <td>6.85807798266578</td>\n",
       "      <td>3.44682372154383</td>\n",
       "      <td>...</td>\n",
       "      <td>2.6201404525098</td>\n",
       "      <td>3.05224139425924</td>\n",
       "      <td>6.43259864910441</td>\n",
       "      <td>2.86414718037944</td>\n",
       "      <td>2.83357312932769</td>\n",
       "      <td>2.31326216200341</td>\n",
       "      <td>2.42412318078189</td>\n",
       "      <td>5.32315076936616</td>\n",
       "      <td>3.85690425090814</td>\n",
       "      <td>2.27121625384186</td>\n",
       "    </tr>\n",
       "    <tr>\n",
       "      <th>X-1172</th>\n",
       "      <td>2.76326591576383</td>\n",
       "      <td>6.63737682195879</td>\n",
       "      <td>5.67675838505579</td>\n",
       "      <td>2.79473965144091</td>\n",
       "      <td>3.52596051559272</td>\n",
       "      <td>5.74258764261314</td>\n",
       "      <td>8.70184553811941</td>\n",
       "      <td>2.66283398075993</td>\n",
       "      <td>9.95397018105127</td>\n",
       "      <td>3.64884172474159</td>\n",
       "      <td>...</td>\n",
       "      <td>2.68566229198938</td>\n",
       "      <td>3.11779249946595</td>\n",
       "      <td>5.44497097056128</td>\n",
       "      <td>2.86414718037944</td>\n",
       "      <td>2.83357312932769</td>\n",
       "      <td>2.31326216200341</td>\n",
       "      <td>2.42412318078189</td>\n",
       "      <td>2.45399733779172</td>\n",
       "      <td>4.19271392722119</td>\n",
       "      <td>2.21127349569176</td>\n",
       "    </tr>\n",
       "  </tbody>\n",
       "</table>\n",
       "<p>3 rows × 18189 columns</p>\n",
       "</div>"
      ],
      "text/plain": [
       "ENTREZID         1                 2                 9          \\\n",
       "X-1008     5.1683455924601  6.40148605928778  5.14735257900894   \n",
       "X-1156    5.64285976724198  6.16403060339034  6.56682953977831   \n",
       "X-1172    2.76326591576383  6.63737682195879  5.67675838505579   \n",
       "\n",
       "ENTREZID         10                12                13         \\\n",
       "X-1008    2.62182669498089  5.65801642244848  2.56126582112594   \n",
       "X-1156    2.62182669498089  2.20555612143949  2.68000643826337   \n",
       "X-1172    2.79473965144091  3.52596051559272  5.74258764261314   \n",
       "\n",
       "ENTREZID         14                15                16         \\\n",
       "X-1008     7.9002150761815  2.99037104024989  9.07138836072349   \n",
       "X-1156    8.28747895280708  2.40648953950849  6.85807798266578   \n",
       "X-1172    8.70184553811941  2.66283398075993  9.95397018105127   \n",
       "\n",
       "ENTREZID         18         ...         100507206         100507254  \\\n",
       "X-1008    2.93107188443328  ...  2.51273514040916  3.16885840754458   \n",
       "X-1156    3.44682372154383  ...   2.6201404525098  3.05224139425924   \n",
       "X-1172    3.64884172474159  ...  2.68566229198938  3.11779249946595   \n",
       "\n",
       "ENTREZID         100507436         100507472         100526773  \\\n",
       "X-1008    7.88710414124411  2.86414718037944  2.83357312932769   \n",
       "X-1156    6.43259864910441  2.86414718037944  2.83357312932769   \n",
       "X-1172    5.44497097056128  2.86414718037944  2.83357312932769   \n",
       "\n",
       "ENTREZID         100527978         100532746         100820829  \\\n",
       "X-1008    2.31326216200341  2.42412318078189  3.95569877310649   \n",
       "X-1156    2.31326216200341  2.42412318078189  5.32315076936616   \n",
       "X-1172    2.31326216200341  2.42412318078189  2.45399733779172   \n",
       "\n",
       "ENTREZID         102724473         105375355  \n",
       "X-1008    3.86826539821721  2.24540260166309  \n",
       "X-1156    3.85690425090814  2.27121625384186  \n",
       "X-1172    4.19271392722119  2.21127349569176  \n",
       "\n",
       "[3 rows x 18189 columns]"
      ]
     },
     "execution_count": 12,
     "metadata": {},
     "output_type": "execute_result"
    }
   ],
   "source": [
    "# read PDX expression dataset homogenized with GDSC expression dataset (Paclitaxel)\n",
    "\n",
    "PDXEpaclitaxel = pd.read_csv(\"PDX_exprs.Paclitaxel.eb_with.GDSC_exprs.Paclitaxel.tsv\",\n",
    "                   sep = \"\\t\", index_col=0, decimal = \",\")\n",
    "PDXEpaclitaxel = pd.DataFrame.transpose(PDXEpaclitaxel)\n",
    "PDXEpaclitaxel.head(3)"
   ]
  },
  {
   "cell_type": "code",
   "execution_count": 13,
   "metadata": {},
   "outputs": [
    {
     "data": {
      "text/html": [
       "<div>\n",
       "<style scoped>\n",
       "    .dataframe tbody tr th:only-of-type {\n",
       "        vertical-align: middle;\n",
       "    }\n",
       "\n",
       "    .dataframe tbody tr th {\n",
       "        vertical-align: top;\n",
       "    }\n",
       "\n",
       "    .dataframe thead th {\n",
       "        text-align: right;\n",
       "    }\n",
       "</style>\n",
       "<table border=\"1\" class=\"dataframe\">\n",
       "  <thead>\n",
       "    <tr style=\"text-align: right;\">\n",
       "      <th>ENTREZID</th>\n",
       "      <th>1</th>\n",
       "      <th>2</th>\n",
       "      <th>9</th>\n",
       "      <th>10</th>\n",
       "      <th>12</th>\n",
       "      <th>13</th>\n",
       "      <th>14</th>\n",
       "      <th>15</th>\n",
       "      <th>16</th>\n",
       "      <th>18</th>\n",
       "      <th>...</th>\n",
       "      <th>100188893</th>\n",
       "      <th>100190940</th>\n",
       "      <th>100190949</th>\n",
       "      <th>100191040</th>\n",
       "      <th>100192386</th>\n",
       "      <th>100268168</th>\n",
       "      <th>100271715</th>\n",
       "      <th>100287718</th>\n",
       "      <th>100288778</th>\n",
       "      <th>100289635</th>\n",
       "    </tr>\n",
       "  </thead>\n",
       "  <tbody>\n",
       "    <tr>\n",
       "      <th>TCGA-50-5068-01A</th>\n",
       "      <td>6.07077606939576</td>\n",
       "      <td>4.22435549873448</td>\n",
       "      <td>6.09703453175451</td>\n",
       "      <td>2.79409553041956</td>\n",
       "      <td>2.16511492655888</td>\n",
       "      <td>6.23897149546054</td>\n",
       "      <td>7.50971824388108</td>\n",
       "      <td>2.62136482478483</td>\n",
       "      <td>6.78739521681224</td>\n",
       "      <td>2.98021984531206</td>\n",
       "      <td>...</td>\n",
       "      <td>9.80444787373941</td>\n",
       "      <td>2.79886640790268</td>\n",
       "      <td>2.81581286530484</td>\n",
       "      <td>3.00085815257311</td>\n",
       "      <td>2.80511713535762</td>\n",
       "      <td>2.40148864399763</td>\n",
       "      <td>2.58029798170468</td>\n",
       "      <td>3.80309726320581</td>\n",
       "      <td>2.93775838077045</td>\n",
       "      <td>3.15136733303223</td>\n",
       "    </tr>\n",
       "    <tr>\n",
       "      <th>TCGA-53-7624-01A</th>\n",
       "      <td>3.36417856158271</td>\n",
       "      <td>1.84257380220382</td>\n",
       "      <td>4.89461611130517</td>\n",
       "      <td>3.01203072800212</td>\n",
       "      <td>1.08675483906125</td>\n",
       "      <td>2.65397613649159</td>\n",
       "      <td>8.19887134647799</td>\n",
       "      <td>2.64492131772784</td>\n",
       "      <td>9.57693655417731</td>\n",
       "      <td>2.75400746416671</td>\n",
       "      <td>...</td>\n",
       "      <td>9.87655475612095</td>\n",
       "      <td>2.79886640790268</td>\n",
       "      <td>2.81581286530484</td>\n",
       "      <td>3.47072364084828</td>\n",
       "      <td>2.92631228926461</td>\n",
       "      <td>3.04342978048926</td>\n",
       "      <td>3.85945702517433</td>\n",
       "      <td>2.76860237341666</td>\n",
       "      <td>4.70753879715127</td>\n",
       "      <td>4.40422733195751</td>\n",
       "    </tr>\n",
       "    <tr>\n",
       "      <th>TCGA-99-8033-01A</th>\n",
       "      <td>3.17759663469389</td>\n",
       "      <td>4.069358321802</td>\n",
       "      <td>5.30291306958158</td>\n",
       "      <td>3.04306111581331</td>\n",
       "      <td>1.71759129803103</td>\n",
       "      <td>2.9492322528108</td>\n",
       "      <td>8.35388516673678</td>\n",
       "      <td>2.61215713067395</td>\n",
       "      <td>9.55148283225251</td>\n",
       "      <td>2.62363654845594</td>\n",
       "      <td>...</td>\n",
       "      <td>9.97545462791267</td>\n",
       "      <td>2.79886640790268</td>\n",
       "      <td>2.81581286530484</td>\n",
       "      <td>3.61434933029633</td>\n",
       "      <td>2.82800183535407</td>\n",
       "      <td>2.62335146413649</td>\n",
       "      <td>2.82601101115657</td>\n",
       "      <td>2.76860237341666</td>\n",
       "      <td>4.83367880098437</td>\n",
       "      <td>4.96091320806586</td>\n",
       "    </tr>\n",
       "  </tbody>\n",
       "</table>\n",
       "<p>3 rows × 18197 columns</p>\n",
       "</div>"
      ],
      "text/plain": [
       "ENTREZID                 1                 2                 9          \\\n",
       "TCGA-50-5068-01A  6.07077606939576  4.22435549873448  6.09703453175451   \n",
       "TCGA-53-7624-01A  3.36417856158271  1.84257380220382  4.89461611130517   \n",
       "TCGA-99-8033-01A  3.17759663469389    4.069358321802  5.30291306958158   \n",
       "\n",
       "ENTREZID                 10                12                13         \\\n",
       "TCGA-50-5068-01A  2.79409553041956  2.16511492655888  6.23897149546054   \n",
       "TCGA-53-7624-01A  3.01203072800212  1.08675483906125  2.65397613649159   \n",
       "TCGA-99-8033-01A  3.04306111581331  1.71759129803103   2.9492322528108   \n",
       "\n",
       "ENTREZID                 14                15                16         \\\n",
       "TCGA-50-5068-01A  7.50971824388108  2.62136482478483  6.78739521681224   \n",
       "TCGA-53-7624-01A  8.19887134647799  2.64492131772784  9.57693655417731   \n",
       "TCGA-99-8033-01A  8.35388516673678  2.61215713067395  9.55148283225251   \n",
       "\n",
       "ENTREZID                 18         ...         100188893         100190940  \\\n",
       "TCGA-50-5068-01A  2.98021984531206  ...  9.80444787373941  2.79886640790268   \n",
       "TCGA-53-7624-01A  2.75400746416671  ...  9.87655475612095  2.79886640790268   \n",
       "TCGA-99-8033-01A  2.62363654845594  ...  9.97545462791267  2.79886640790268   \n",
       "\n",
       "ENTREZID                 100190949         100191040         100192386  \\\n",
       "TCGA-50-5068-01A  2.81581286530484  3.00085815257311  2.80511713535762   \n",
       "TCGA-53-7624-01A  2.81581286530484  3.47072364084828  2.92631228926461   \n",
       "TCGA-99-8033-01A  2.81581286530484  3.61434933029633  2.82800183535407   \n",
       "\n",
       "ENTREZID                 100268168         100271715         100287718  \\\n",
       "TCGA-50-5068-01A  2.40148864399763  2.58029798170468  3.80309726320581   \n",
       "TCGA-53-7624-01A  3.04342978048926  3.85945702517433  2.76860237341666   \n",
       "TCGA-99-8033-01A  2.62335146413649  2.82601101115657  2.76860237341666   \n",
       "\n",
       "ENTREZID                 100288778         100289635  \n",
       "TCGA-50-5068-01A  2.93775838077045  3.15136733303223  \n",
       "TCGA-53-7624-01A  4.70753879715127  4.40422733195751  \n",
       "TCGA-99-8033-01A  4.83367880098437  4.96091320806586  \n",
       "\n",
       "[3 rows x 18197 columns]"
      ]
     },
     "execution_count": 13,
     "metadata": {},
     "output_type": "execute_result"
    }
   ],
   "source": [
    "# read TCGA expression dataset homogenized with GDSC expression dataset (Paclitaxel)\n",
    "\n",
    "TCGAEpaclitaxel = pd.read_csv(\"TCGA_exprs.Paclitaxel.eb_with.GDSC_exprs.Paclitaxel.tsv\",\n",
    "                   sep = \"\\t\", index_col=0, decimal = \",\")\n",
    "TCGAEpaclitaxel = pd.DataFrame.transpose(TCGAEpaclitaxel)\n",
    "TCGAEpaclitaxel.head(3)"
   ]
  },
  {
   "cell_type": "code",
   "execution_count": 14,
   "metadata": {},
   "outputs": [
    {
     "data": {
      "text/plain": [
       "'/Volumes/Expansion/Thesis Work/Results/preprocessed_results2/mutations'"
      ]
     },
     "execution_count": 14,
     "metadata": {},
     "output_type": "execute_result"
    }
   ],
   "source": [
    "# change directory to read PDX mutation dataset (Paclitaxel)\n",
    "\n",
    "os.chdir(dataset_dir + \"mutations\")\n",
    "os.getcwd()"
   ]
  },
  {
   "cell_type": "code",
   "execution_count": 15,
   "metadata": {},
   "outputs": [
    {
     "data": {
      "text/html": [
       "<div>\n",
       "<style scoped>\n",
       "    .dataframe tbody tr th:only-of-type {\n",
       "        vertical-align: middle;\n",
       "    }\n",
       "\n",
       "    .dataframe tbody tr th {\n",
       "        vertical-align: top;\n",
       "    }\n",
       "\n",
       "    .dataframe thead th {\n",
       "        text-align: right;\n",
       "    }\n",
       "</style>\n",
       "<table border=\"1\" class=\"dataframe\">\n",
       "  <thead>\n",
       "    <tr style=\"text-align: right;\">\n",
       "      <th>ENTREZID</th>\n",
       "      <th>3075.0</th>\n",
       "      <th>171017.0</th>\n",
       "      <th>2058.0</th>\n",
       "      <th>79890.0</th>\n",
       "      <th>7701.0</th>\n",
       "      <th>3104.0</th>\n",
       "      <th>4642.0</th>\n",
       "      <th>9778.0</th>\n",
       "      <th>100132406.0</th>\n",
       "      <th>23607.0</th>\n",
       "      <th>...</th>\n",
       "      <th>253738.0</th>\n",
       "      <th>154807.0</th>\n",
       "      <th>79140.0</th>\n",
       "      <th>6307.0</th>\n",
       "      <th>6352.0</th>\n",
       "      <th>56005.0</th>\n",
       "      <th>115650.0</th>\n",
       "      <th>64946.0</th>\n",
       "      <th>5777.0</th>\n",
       "      <th>253639.0</th>\n",
       "    </tr>\n",
       "  </thead>\n",
       "  <tbody>\n",
       "    <tr>\n",
       "      <th>X-1008</th>\n",
       "      <td>0.0</td>\n",
       "      <td>-0.05</td>\n",
       "      <td>0.0</td>\n",
       "      <td>-0.05</td>\n",
       "      <td>0.0</td>\n",
       "      <td>0.0</td>\n",
       "      <td>0.0</td>\n",
       "      <td>0.0</td>\n",
       "      <td>0.0</td>\n",
       "      <td>0.0</td>\n",
       "      <td>...</td>\n",
       "      <td>0.0</td>\n",
       "      <td>0.0</td>\n",
       "      <td>0.0</td>\n",
       "      <td>0.0</td>\n",
       "      <td>0.0</td>\n",
       "      <td>0.0</td>\n",
       "      <td>0.0</td>\n",
       "      <td>0.0</td>\n",
       "      <td>0.0</td>\n",
       "      <td>0.0</td>\n",
       "    </tr>\n",
       "    <tr>\n",
       "      <th>X-1156</th>\n",
       "      <td>0.0</td>\n",
       "      <td>-0.05</td>\n",
       "      <td>0.0</td>\n",
       "      <td>-0.05</td>\n",
       "      <td>0.0</td>\n",
       "      <td>0.0</td>\n",
       "      <td>0.0</td>\n",
       "      <td>-0.05</td>\n",
       "      <td>-0.05</td>\n",
       "      <td>0.0</td>\n",
       "      <td>...</td>\n",
       "      <td>0.0</td>\n",
       "      <td>0.0</td>\n",
       "      <td>0.0</td>\n",
       "      <td>0.0</td>\n",
       "      <td>0.0</td>\n",
       "      <td>0.0</td>\n",
       "      <td>0.0</td>\n",
       "      <td>0.0</td>\n",
       "      <td>0.0</td>\n",
       "      <td>0.0</td>\n",
       "    </tr>\n",
       "    <tr>\n",
       "      <th>X-1172</th>\n",
       "      <td>0.0</td>\n",
       "      <td>-0.05</td>\n",
       "      <td>0.0</td>\n",
       "      <td>0.0</td>\n",
       "      <td>0.0</td>\n",
       "      <td>0.0</td>\n",
       "      <td>0.0</td>\n",
       "      <td>0.0</td>\n",
       "      <td>0.0</td>\n",
       "      <td>0.0</td>\n",
       "      <td>...</td>\n",
       "      <td>0.0</td>\n",
       "      <td>0.0</td>\n",
       "      <td>0.0</td>\n",
       "      <td>0.0</td>\n",
       "      <td>0.0</td>\n",
       "      <td>0.0</td>\n",
       "      <td>0.0</td>\n",
       "      <td>0.0</td>\n",
       "      <td>0.0</td>\n",
       "      <td>0.0</td>\n",
       "    </tr>\n",
       "  </tbody>\n",
       "</table>\n",
       "<p>3 rows × 15010 columns</p>\n",
       "</div>"
      ],
      "text/plain": [
       "ENTREZID 3075.0      171017.0    2058.0      79890.0     7701.0       \\\n",
       "X-1008           0.0       -0.05         0.0       -0.05         0.0   \n",
       "X-1156           0.0       -0.05         0.0       -0.05         0.0   \n",
       "X-1172           0.0       -0.05         0.0         0.0         0.0   \n",
       "\n",
       "ENTREZID 3104.0      4642.0      9778.0      100132406.0 23607.0      ...  \\\n",
       "X-1008           0.0         0.0         0.0         0.0         0.0  ...   \n",
       "X-1156           0.0         0.0       -0.05       -0.05         0.0  ...   \n",
       "X-1172           0.0         0.0         0.0         0.0         0.0  ...   \n",
       "\n",
       "ENTREZID 253738.0    154807.0    79140.0     6307.0      6352.0       \\\n",
       "X-1008           0.0         0.0         0.0         0.0         0.0   \n",
       "X-1156           0.0         0.0         0.0         0.0         0.0   \n",
       "X-1172           0.0         0.0         0.0         0.0         0.0   \n",
       "\n",
       "ENTREZID 56005.0     115650.0    64946.0     5777.0      253639.0     \n",
       "X-1008           0.0         0.0         0.0         0.0         0.0  \n",
       "X-1156           0.0         0.0         0.0         0.0         0.0  \n",
       "X-1172           0.0         0.0         0.0         0.0         0.0  \n",
       "\n",
       "[3 rows x 15010 columns]"
      ]
     },
     "execution_count": 15,
     "metadata": {},
     "output_type": "execute_result"
    }
   ],
   "source": [
    "# read PDX mutation dataset (Paclitaxel)\n",
    "\n",
    "PDXMpaclitaxel = pd.read_csv(\"PDX_mutations.Paclitaxel.tsv\",\n",
    "                        sep=\"\\t\", index_col=0, decimal=\",\")\n",
    "PDXMpaclitaxel.drop_duplicates(keep='last')\n",
    "PDXMpaclitaxel = pd.DataFrame.transpose(PDXMpaclitaxel)\n",
    "PDXMpaclitaxel = PDXMpaclitaxel.loc[:, ~PDXMpaclitaxel.columns.duplicated()]\n",
    "\n",
    "PDXMpaclitaxel.head(3)"
   ]
  },
  {
   "cell_type": "code",
   "execution_count": 16,
   "metadata": {
    "scrolled": true
   },
   "outputs": [
    {
     "data": {
      "text/html": [
       "<div>\n",
       "<style scoped>\n",
       "    .dataframe tbody tr th:only-of-type {\n",
       "        vertical-align: middle;\n",
       "    }\n",
       "\n",
       "    .dataframe tbody tr th {\n",
       "        vertical-align: top;\n",
       "    }\n",
       "\n",
       "    .dataframe thead th {\n",
       "        text-align: right;\n",
       "    }\n",
       "</style>\n",
       "<table border=\"1\" class=\"dataframe\">\n",
       "  <thead>\n",
       "    <tr style=\"text-align: right;\">\n",
       "      <th></th>\n",
       "      <th>1</th>\n",
       "      <th>2</th>\n",
       "      <th>9</th>\n",
       "      <th>10</th>\n",
       "      <th>12</th>\n",
       "      <th>13</th>\n",
       "      <th>14</th>\n",
       "      <th>15</th>\n",
       "      <th>16</th>\n",
       "      <th>18</th>\n",
       "      <th>...</th>\n",
       "      <th>101929762</th>\n",
       "      <th>101929950</th>\n",
       "      <th>102723701</th>\n",
       "      <th>102724473</th>\n",
       "      <th>102724536</th>\n",
       "      <th>104472715</th>\n",
       "      <th>105375355</th>\n",
       "      <th>106478954</th>\n",
       "      <th>107075310</th>\n",
       "      <th>107161144</th>\n",
       "    </tr>\n",
       "  </thead>\n",
       "  <tbody>\n",
       "    <tr>\n",
       "      <th>TCGA-50-5068-01A</th>\n",
       "      <td>0</td>\n",
       "      <td>0</td>\n",
       "      <td>0</td>\n",
       "      <td>0</td>\n",
       "      <td>0</td>\n",
       "      <td>0</td>\n",
       "      <td>0</td>\n",
       "      <td>0</td>\n",
       "      <td>0</td>\n",
       "      <td>0</td>\n",
       "      <td>...</td>\n",
       "      <td>0</td>\n",
       "      <td>0</td>\n",
       "      <td>0</td>\n",
       "      <td>0</td>\n",
       "      <td>0</td>\n",
       "      <td>0</td>\n",
       "      <td>0</td>\n",
       "      <td>0</td>\n",
       "      <td>0</td>\n",
       "      <td>0</td>\n",
       "    </tr>\n",
       "    <tr>\n",
       "      <th>TCGA-53-7624-01A</th>\n",
       "      <td>0</td>\n",
       "      <td>0</td>\n",
       "      <td>0</td>\n",
       "      <td>0</td>\n",
       "      <td>0</td>\n",
       "      <td>0</td>\n",
       "      <td>0</td>\n",
       "      <td>0</td>\n",
       "      <td>0</td>\n",
       "      <td>0</td>\n",
       "      <td>...</td>\n",
       "      <td>0</td>\n",
       "      <td>0</td>\n",
       "      <td>0</td>\n",
       "      <td>0</td>\n",
       "      <td>0</td>\n",
       "      <td>0</td>\n",
       "      <td>0</td>\n",
       "      <td>0</td>\n",
       "      <td>0</td>\n",
       "      <td>0</td>\n",
       "    </tr>\n",
       "    <tr>\n",
       "      <th>TCGA-99-8033-01A</th>\n",
       "      <td>0</td>\n",
       "      <td>0</td>\n",
       "      <td>0</td>\n",
       "      <td>0</td>\n",
       "      <td>0</td>\n",
       "      <td>0</td>\n",
       "      <td>0</td>\n",
       "      <td>0</td>\n",
       "      <td>0</td>\n",
       "      <td>0</td>\n",
       "      <td>...</td>\n",
       "      <td>0</td>\n",
       "      <td>0</td>\n",
       "      <td>0</td>\n",
       "      <td>0</td>\n",
       "      <td>0</td>\n",
       "      <td>0</td>\n",
       "      <td>0</td>\n",
       "      <td>0</td>\n",
       "      <td>0</td>\n",
       "      <td>0</td>\n",
       "    </tr>\n",
       "  </tbody>\n",
       "</table>\n",
       "<p>3 rows × 19905 columns</p>\n",
       "</div>"
      ],
      "text/plain": [
       "                  1          2          9          10         12         \\\n",
       "TCGA-50-5068-01A          0          0          0          0          0   \n",
       "TCGA-53-7624-01A          0          0          0          0          0   \n",
       "TCGA-99-8033-01A          0          0          0          0          0   \n",
       "\n",
       "                  13         14         15         16         18         ...  \\\n",
       "TCGA-50-5068-01A          0          0          0          0          0  ...   \n",
       "TCGA-53-7624-01A          0          0          0          0          0  ...   \n",
       "TCGA-99-8033-01A          0          0          0          0          0  ...   \n",
       "\n",
       "                  101929762  101929950  102723701  102724473  102724536  \\\n",
       "TCGA-50-5068-01A          0          0          0          0          0   \n",
       "TCGA-53-7624-01A          0          0          0          0          0   \n",
       "TCGA-99-8033-01A          0          0          0          0          0   \n",
       "\n",
       "                  104472715  105375355  106478954  107075310  107161144  \n",
       "TCGA-50-5068-01A          0          0          0          0          0  \n",
       "TCGA-53-7624-01A          0          0          0          0          0  \n",
       "TCGA-99-8033-01A          0          0          0          0          0  \n",
       "\n",
       "[3 rows x 19905 columns]"
      ]
     },
     "execution_count": 16,
     "metadata": {},
     "output_type": "execute_result"
    }
   ],
   "source": [
    "# read TCGA mutation dataset (Paclitaxel)\n",
    "\n",
    "TCGAMpaclitaxel = pd.read_csv(\"TCGA_mutations.Paclitaxel.tsv\",\n",
    "                        sep=\"\\t\", index_col=0, decimal=\",\")\n",
    "TCGAMpaclitaxel.drop_duplicates(keep='last')\n",
    "TCGAMpaclitaxel = pd.DataFrame.transpose(TCGAMpaclitaxel)\n",
    "TCGAMpaclitaxel = TCGAMpaclitaxel.loc[:, ~TCGAMpaclitaxel.columns.duplicated()]\n",
    "\n",
    "TCGAMpaclitaxel.head(3)"
   ]
  },
  {
   "cell_type": "code",
   "execution_count": 17,
   "metadata": {},
   "outputs": [],
   "source": [
    "# variance threshold for GDSC expression dataset (MITOSISi)\n",
    "\n",
    "selector = VarianceThreshold(0.05)\n",
    "selector.fit_transform(GDSCE)\n",
    "GDSCE = GDSCE[GDSCE.columns[selector.get_support(indices=True)]]"
   ]
  },
  {
   "cell_type": "code",
   "execution_count": 18,
   "metadata": {},
   "outputs": [],
   "source": [
    "# fill NA values and binarize GDSC mutation dataset (MITOSISi)\n",
    "\n",
    "GDSCM = GDSCM.fillna(0)\n",
    "GDSCM[GDSCM != 0.0] = 1"
   ]
  },
  {
   "cell_type": "code",
   "execution_count": 19,
   "metadata": {},
   "outputs": [
    {
     "name": "stdout",
     "output_type": "stream",
     "text": [
      "GDSC, PDX & TCGA # of common genes: 13828\n"
     ]
    }
   ],
   "source": [
    "# select shared genes between GDSC, PDX, and TCGA expression and mutation datasets \n",
    "\n",
    "ls = GDSCE.columns.intersection(GDSCM.columns)\n",
    "ls = ls.intersection(PDXEpaclitaxel.columns)\n",
    "ls = ls.intersection(PDXMpaclitaxel.columns)\n",
    "ls = ls.intersection(TCGAEpaclitaxel.columns)\n",
    "ls = ls.intersection(TCGAMpaclitaxel.columns)\n",
    "\n",
    "ls = pd.unique(ls)\n",
    "\n",
    "print(f\"GDSC, PDX & TCGA # of common genes: {ls.shape[0]}\")"
   ]
  },
  {
   "cell_type": "code",
   "execution_count": 20,
   "metadata": {},
   "outputs": [
    {
     "name": "stdout",
     "output_type": "stream",
     "text": [
      "GDSC # of common cell lines: 799\n"
     ]
    }
   ],
   "source": [
    "# select shared samples between GDSC expression, mutation, and response datasets (MITOSISi)\n",
    "\n",
    "ls2 = GDSCE.index.intersection(GDSCM.index)\n",
    "ls2 = ls2.intersection(GDSCR.index)\n",
    "\n",
    "print(f\"GDSC # of common cell lines: {ls2.shape[0]}\")"
   ]
  },
  {
   "cell_type": "code",
   "execution_count": 21,
   "metadata": {},
   "outputs": [
    {
     "name": "stdout",
     "output_type": "stream",
     "text": [
      "GDSC # of common samples and genes (Expression): (799, 13828)\n",
      "GDSC # of common samples and genes (Mutation): (799, 13828)\n",
      "GDSC # of samples (Response): 6360\n"
     ]
    }
   ],
   "source": [
    "# subset shared genes and samples in GDSC expression, mutation, and response datasets\n",
    "\n",
    "GDSCE = GDSCE.loc[ls2, ls]\n",
    "GDSCM = GDSCM.loc[ls2, ls]\n",
    "GDSCR = GDSCR.loc[ls2, :]\n",
    "\n",
    "print(f\"GDSC # of common samples and genes (Expression): {GDSCE.shape}\")\n",
    "print(f\"GDSC # of common samples and genes (Mutation): {GDSCM.shape}\")\n",
    "print(f\"GDSC # of samples (Response): {GDSCR.shape[0]}\")\n",
    "\n",
    "# There exists same sample names for different drugs, so row shape is different in GDSC response data"
   ]
  },
  {
   "cell_type": "code",
   "execution_count": 22,
   "metadata": {},
   "outputs": [
    {
     "name": "stdout",
     "output_type": "stream",
     "text": [
      "PDX # of common samples (Paclitaxel): 43\n"
     ]
    }
   ],
   "source": [
    "# select shared samples between PDX expression and mutation datasets (Paclitaxel) \n",
    "\n",
    "ls3 = PDXEpaclitaxel.index.intersection(PDXMpaclitaxel.index)\n",
    "\n",
    "print(f\"PDX # of common samples (Paclitaxel): {ls3.shape[0]}\")"
   ]
  },
  {
   "cell_type": "code",
   "execution_count": 23,
   "metadata": {},
   "outputs": [
    {
     "name": "stdout",
     "output_type": "stream",
     "text": [
      "TCGA # of common samples (Paclitaxel): 35\n"
     ]
    }
   ],
   "source": [
    "# select shared samples between TCGA expression and mutation datasets (Paclitaxel) \n",
    "\n",
    "ls4 = TCGAEpaclitaxel.index.intersection(TCGAMpaclitaxel.index)\n",
    "\n",
    "print(f\"TCGA # of common samples (Paclitaxel): {ls4.shape[0]}\")"
   ]
  },
  {
   "cell_type": "code",
   "execution_count": 24,
   "metadata": {},
   "outputs": [
    {
     "name": "stdout",
     "output_type": "stream",
     "text": [
      "PDX # of common samples and genes for Expression (Paclitaxel): (43, 13828)\n",
      "PDX # of common samples and genes for Mutation (Paclitaxel): (43, 13828)\n",
      "\n",
      "TCGA # of common samples and genes for Expression (Paclitaxel): (35, 13828)\n",
      "TCGA # of common samples and genes for Mutation (Paclitaxel): (35, 13828)\n"
     ]
    }
   ],
   "source": [
    "# select shared genes and samples between PDX and TCGA expression and mutation datasets (Paclitaxel)\n",
    "\n",
    "PDXEpaclitaxel = PDXEpaclitaxel.loc[ls3, ls]\n",
    "PDXMpaclitaxel = PDXMpaclitaxel.loc[ls3, ls]\n",
    "\n",
    "TCGAEpaclitaxel = TCGAEpaclitaxel.loc[ls4, ls]\n",
    "TCGAMpaclitaxel = TCGAMpaclitaxel.loc[ls4, ls]\n",
    "\n",
    "print(f\"PDX # of common samples and genes for Expression (Paclitaxel): {PDXEpaclitaxel.shape}\")\n",
    "print(f\"PDX # of common samples and genes for Mutation (Paclitaxel): {PDXMpaclitaxel.shape}\\n\")\n",
    "\n",
    "print(f\"TCGA # of common samples and genes for Expression (Paclitaxel): {TCGAEpaclitaxel.shape}\")\n",
    "print(f\"TCGA # of common samples and genes for Mutation (Paclitaxel): {TCGAMpaclitaxel.shape}\")"
   ]
  },
  {
   "cell_type": "code",
   "execution_count": 25,
   "metadata": {},
   "outputs": [
    {
     "name": "stdout",
     "output_type": "stream",
     "text": [
      "/Volumes/Expansion/Thesis Work/Results/GDSC_DEGs_inhibitors/MITOSISi\n"
     ]
    }
   ],
   "source": [
    "# change directory to read DEGs (MITOSISi)\n",
    "\n",
    "os.chdir(DEGs_dir)\n",
    "print(os.getcwd())"
   ]
  },
  {
   "cell_type": "code",
   "execution_count": 26,
   "metadata": {},
   "outputs": [
    {
     "name": "stdout",
     "output_type": "stream",
     "text": [
      "There are 996 DEGs (p-adjusted < 0.05 and |logFC| > 1) among mitotic inhibitors\n",
      "\n"
     ]
    },
    {
     "data": {
      "text/html": [
       "<div>\n",
       "<style scoped>\n",
       "    .dataframe tbody tr th:only-of-type {\n",
       "        vertical-align: middle;\n",
       "    }\n",
       "\n",
       "    .dataframe tbody tr th {\n",
       "        vertical-align: top;\n",
       "    }\n",
       "\n",
       "    .dataframe thead th {\n",
       "        text-align: right;\n",
       "    }\n",
       "</style>\n",
       "<table border=\"1\" class=\"dataframe\">\n",
       "  <thead>\n",
       "    <tr style=\"text-align: right;\">\n",
       "      <th></th>\n",
       "      <th>Gene Symbol</th>\n",
       "      <th>Frequency</th>\n",
       "    </tr>\n",
       "  </thead>\n",
       "  <tbody>\n",
       "    <tr>\n",
       "      <th>0</th>\n",
       "      <td>PLS3</td>\n",
       "      <td>8</td>\n",
       "    </tr>\n",
       "    <tr>\n",
       "      <th>1</th>\n",
       "      <td>GMFG</td>\n",
       "      <td>7</td>\n",
       "    </tr>\n",
       "    <tr>\n",
       "      <th>2</th>\n",
       "      <td>GPRC5A</td>\n",
       "      <td>7</td>\n",
       "    </tr>\n",
       "    <tr>\n",
       "      <th>3</th>\n",
       "      <td>TJP1</td>\n",
       "      <td>7</td>\n",
       "    </tr>\n",
       "    <tr>\n",
       "      <th>4</th>\n",
       "      <td>CXCR4</td>\n",
       "      <td>7</td>\n",
       "    </tr>\n",
       "  </tbody>\n",
       "</table>\n",
       "</div>"
      ],
      "text/plain": [
       "  Gene Symbol  Frequency\n",
       "0        PLS3          8\n",
       "1        GMFG          7\n",
       "2      GPRC5A          7\n",
       "3        TJP1          7\n",
       "4       CXCR4          7"
      ]
     },
     "execution_count": 26,
     "metadata": {},
     "output_type": "execute_result"
    }
   ],
   "source": [
    "# read DEGs (MITOSISi)\n",
    "\n",
    "DEGs_filtered_data = pd.read_excel(\"MITOSISi_Differentially_Expressed_Genes (EnsemblID).xlsx\",\n",
    "                                    sheet_name = \"Common DEGs\")\n",
    "print(f\"There are {DEGs_filtered_data.shape[0]} DEGs (p-adjusted < 0.05 and |logFC| > 1) among mitotic inhibitors\\n\")\n",
    "\n",
    "DEGs_filtered_data.head()"
   ]
  },
  {
   "cell_type": "code",
   "execution_count": 27,
   "metadata": {},
   "outputs": [
    {
     "name": "stderr",
     "output_type": "stream",
     "text": [
      "2 input query terms found dup hits:\t[('CAST', 2), ('CLECL1P', 2)]\n",
      "1 input query terms found no hit:\t['SLC22A18']\n"
     ]
    },
    {
     "data": {
      "text/plain": [
       "996"
      ]
     },
     "execution_count": 27,
     "metadata": {},
     "output_type": "execute_result"
    }
   ],
   "source": [
    "# get gene symbol from mygene database\n",
    "\n",
    "mg = mygene.MyGeneInfo()\n",
    "DEGs_entrez_id = mg.querymany(DEGs_filtered_data[\"Gene Symbol\"], \n",
    "                              species=\"human\", \n",
    "                              scopes = \"symbol\",\n",
    "                              field = \"entrezgene\",\n",
    "                              as_dataframe=True)[\"entrezgene\"]\n",
    "DEGs_entrez_id = pd.unique(DEGs_entrez_id.dropna())\n",
    "DEGs_entrez_id = pd.Series(DEGs_entrez_id)\n",
    "\n",
    "result = mg.query(\"SLC22A18\", species=\"human\", scopes=\"symbol\", fields=\"entrezgene\")\n",
    "DEGs_entrez_id = pd.concat([DEGs_entrez_id, pd.Series(str(result[\"hits\"][1][\"entrezgene\"]))], ignore_index=True)\n",
    "\n",
    "DEGs_entrez_id.shape[0]"
   ]
  },
  {
   "cell_type": "code",
   "execution_count": 28,
   "metadata": {},
   "outputs": [],
   "source": [
    "# assign GDSC datasets to new variables\n",
    "\n",
    "exprs_z = GDSCE\n",
    "mut = GDSCM\n",
    "responses = GDSCR"
   ]
  },
  {
   "cell_type": "code",
   "execution_count": 29,
   "metadata": {},
   "outputs": [
    {
     "data": {
      "text/html": [
       "<div>\n",
       "<style scoped>\n",
       "    .dataframe tbody tr th:only-of-type {\n",
       "        vertical-align: middle;\n",
       "    }\n",
       "\n",
       "    .dataframe tbody tr th {\n",
       "        vertical-align: top;\n",
       "    }\n",
       "\n",
       "    .dataframe thead th {\n",
       "        text-align: right;\n",
       "    }\n",
       "</style>\n",
       "<table border=\"1\" class=\"dataframe\">\n",
       "  <thead>\n",
       "    <tr style=\"text-align: right;\">\n",
       "      <th></th>\n",
       "      <th>response</th>\n",
       "      <th>logIC50</th>\n",
       "      <th>drug</th>\n",
       "      <th>exprs</th>\n",
       "      <th>CNA</th>\n",
       "      <th>mutations</th>\n",
       "    </tr>\n",
       "  </thead>\n",
       "  <tbody>\n",
       "    <tr>\n",
       "      <th>683665</th>\n",
       "      <td>0</td>\n",
       "      <td>0.70402689461727</td>\n",
       "      <td>VX-680</td>\n",
       "      <td>1</td>\n",
       "      <td>1</td>\n",
       "      <td>1</td>\n",
       "    </tr>\n",
       "    <tr>\n",
       "      <th>683665</th>\n",
       "      <td>0</td>\n",
       "      <td>-3.64728727366553</td>\n",
       "      <td>Paclitaxel</td>\n",
       "      <td>1</td>\n",
       "      <td>1</td>\n",
       "      <td>1</td>\n",
       "    </tr>\n",
       "    <tr>\n",
       "      <th>683665</th>\n",
       "      <td>0</td>\n",
       "      <td>0.307772732941787</td>\n",
       "      <td>S-Trityl-L-cysteine</td>\n",
       "      <td>1</td>\n",
       "      <td>1</td>\n",
       "      <td>1</td>\n",
       "    </tr>\n",
       "  </tbody>\n",
       "</table>\n",
       "</div>"
      ],
      "text/plain": [
       "        response            logIC50                 drug  exprs  CNA  \\\n",
       "683665         0   0.70402689461727               VX-680      1    1   \n",
       "683665         0  -3.64728727366553           Paclitaxel      1    1   \n",
       "683665         0  0.307772732941787  S-Trityl-L-cysteine      1    1   \n",
       "\n",
       "        mutations  \n",
       "683665          1  \n",
       "683665          1  \n",
       "683665          1  "
      ]
     },
     "execution_count": 29,
     "metadata": {},
     "output_type": "execute_result"
    }
   ],
   "source": [
    "# GDSC response dataset\n",
    "\n",
    "responses.head(3)"
   ]
  },
  {
   "cell_type": "code",
   "execution_count": 30,
   "metadata": {
    "scrolled": true
   },
   "outputs": [
    {
     "data": {
      "text/plain": [
       "{'BI-2536',\n",
       " 'GSK1070916',\n",
       " 'GW843682X',\n",
       " 'Genentech Cpd 10',\n",
       " 'MPS-1-IN-1',\n",
       " 'NPK76-II-72-1',\n",
       " 'Paclitaxel',\n",
       " 'S-Trityl-L-cysteine',\n",
       " 'SB-715992',\n",
       " 'VX-680',\n",
       " 'ZM-447439'}"
      ]
     },
     "execution_count": 30,
     "metadata": {},
     "output_type": "execute_result"
    }
   ],
   "source": [
    "# list drug names in GDSC response dataset\n",
    "\n",
    "drugs = set(responses[\"drug\"].values)\n",
    "drugs"
   ]
  },
  {
   "cell_type": "code",
   "execution_count": 31,
   "metadata": {},
   "outputs": [
    {
     "name": "stdout",
     "output_type": "stream",
     "text": [
      "GDSC # of common samples and genes (Expression): (6360, 845)\n",
      "GDSC # of common samples and genes (Mutation): (6360, 845)\n",
      "GDSC # of common samples (Response): 6360\n",
      "\n",
      "PDX # of common samples and genes for Paclitaxel (Expression): (43, 845)\n",
      "PDX # of common samples and genes for Paclitaxel (Mutation): (43, 845)\n",
      "\n",
      "TCGA # of common samples and genes for Paclitaxel (Expression): (35, 845)\n",
      "TCGA # of common samples and genes for Paclitaxel (Mutation): (35, 845)\n"
     ]
    }
   ],
   "source": [
    "# filter GDSC expression and mutation datasets (MITOSISi) as to drugs\n",
    "# subset selected DEGs\n",
    "\n",
    "expression_zscores = []\n",
    "mutations = []\n",
    "for drug in drugs:\n",
    "    samples = responses.loc[responses[\"drug\"] == drug, :].index.values\n",
    "    e_z = exprs_z.loc[samples, :]\n",
    "    m = mut.loc[samples, :]\n",
    "    expression_zscores.append(e_z)\n",
    "    mutations.append(m)\n",
    "\n",
    "GDSCEv2 = pd.concat(expression_zscores, axis=0)\n",
    "GDSCMv2 = pd.concat(mutations, axis=0)\n",
    "GDSCRv2 = responses\n",
    "\n",
    "ls5 = list(set(GDSCE.columns).intersection(set(DEGs_entrez_id.astype(int))))\n",
    "ls6 = GDSCEv2.index.intersection(GDSCMv2.index)\n",
    "\n",
    "GDSCEv2 = GDSCEv2.loc[ls6, ls5]\n",
    "GDSCMv2 = GDSCMv2.loc[ls6, ls5]\n",
    "GDSCRv2 = GDSCRv2.loc[ls6, :]\n",
    "\n",
    "PDXEpaclitaxel = PDXEpaclitaxel.loc[:,ls5]\n",
    "PDXMpaclitaxel = PDXMpaclitaxel.loc[:,ls5]\n",
    "TCGAEpaclitaxel = TCGAEpaclitaxel.loc[:,ls5]\n",
    "TCGAMpaclitaxel = TCGAMpaclitaxel.loc[:,ls5]\n",
    "\n",
    "responses.index = responses.index.values + \"_\" + responses[\"drug\"].values\n",
    "\n",
    "print(f\"GDSC # of common samples and genes (Expression): {GDSCEv2.shape}\")\n",
    "print(f\"GDSC # of common samples and genes (Mutation): {GDSCMv2.shape}\")\n",
    "print(f\"GDSC # of common samples (Response): {GDSCRv2.shape[0]}\\n\")\n",
    "\n",
    "print(f\"PDX # of common samples and genes for Paclitaxel (Expression): {PDXEpaclitaxel.shape}\")\n",
    "print(f\"PDX # of common samples and genes for Paclitaxel (Mutation): {PDXMpaclitaxel.shape}\\n\")\n",
    "\n",
    "print(f\"TCGA # of common samples and genes for Paclitaxel (Expression): {TCGAEpaclitaxel.shape}\")\n",
    "print(f\"TCGA # of common samples and genes for Paclitaxel (Mutation): {TCGAMpaclitaxel.shape}\")"
   ]
  },
  {
   "cell_type": "code",
   "execution_count": 32,
   "metadata": {},
   "outputs": [
    {
     "name": "stdout",
     "output_type": "stream",
     "text": [
      "[0 0 0 ... 0 0 1]\n"
     ]
    }
   ],
   "source": [
    "# GDSC response values\n",
    "\n",
    "Y = GDSCRv2['response'].values\n",
    "print(Y)"
   ]
  },
  {
   "cell_type": "code",
   "execution_count": 33,
   "metadata": {},
   "outputs": [
    {
     "data": {
      "text/plain": [
       "'/Volumes/Expansion/Thesis Work/Results/preprocessed_results2/response'"
      ]
     },
     "execution_count": 33,
     "metadata": {},
     "output_type": "execute_result"
    }
   ],
   "source": [
    "# change directory to read PDX and TCGA response datasets (Paclitaxel)\n",
    "\n",
    "os.chdir(dataset_dir + \"response\")\n",
    "os.getcwd()"
   ]
  },
  {
   "cell_type": "code",
   "execution_count": 34,
   "metadata": {},
   "outputs": [
    {
     "name": "stdout",
     "output_type": "stream",
     "text": [
      "There are 43 samples with response data in the PDX (Paclitaxel)\n",
      "\n"
     ]
    },
    {
     "data": {
      "text/plain": [
       "array([1, 0, 0, 0, 0, 0, 0, 0, 0, 0, 0, 0, 0, 0, 0, 0, 0, 0, 0, 0, 0, 0,\n",
       "       0, 0, 0, 0, 0, 0, 0, 0, 0, 1, 0, 0, 1, 0, 1, 0, 0, 0, 0, 1, 0])"
      ]
     },
     "execution_count": 34,
     "metadata": {},
     "output_type": "execute_result"
    }
   ],
   "source": [
    "# read PDX response dataset (Paclitaxel)\n",
    "\n",
    "PDXRpaclitaxel = pd.read_csv(\"PDX_response.Paclitaxel.tsv\", \n",
    "                      sep = \"\\t\", \n",
    "                      index_col=0, \n",
    "                      decimal = \",\")\n",
    "PDXRpaclitaxel.dropna(inplace=True)\n",
    "PDXRpaclitaxel.rename(mapper=str, axis='index', inplace=True)\n",
    "d = {\"R\": 0, \"S\": 1}\n",
    "PDXRpaclitaxel[\"response\"] = PDXRpaclitaxel.loc[:, \"response\"].apply(lambda x: d[x])\n",
    "Ytspaclitaxel_pdx = PDXRpaclitaxel[\"response\"].values    \n",
    "\n",
    "print(f\"There are {Ytspaclitaxel_pdx.shape[0]} samples with response data in the PDX (Paclitaxel)\\n\")\n",
    "Ytspaclitaxel_pdx"
   ]
  },
  {
   "cell_type": "code",
   "execution_count": 35,
   "metadata": {},
   "outputs": [
    {
     "data": {
      "text/html": [
       "<div>\n",
       "<style scoped>\n",
       "    .dataframe tbody tr th:only-of-type {\n",
       "        vertical-align: middle;\n",
       "    }\n",
       "\n",
       "    .dataframe tbody tr th {\n",
       "        vertical-align: top;\n",
       "    }\n",
       "\n",
       "    .dataframe thead th {\n",
       "        text-align: right;\n",
       "    }\n",
       "</style>\n",
       "<table border=\"1\" class=\"dataframe\">\n",
       "  <thead>\n",
       "    <tr style=\"text-align: right;\">\n",
       "      <th></th>\n",
       "      <th>Tumor Type</th>\n",
       "    </tr>\n",
       "    <tr>\n",
       "      <th>Model</th>\n",
       "      <th></th>\n",
       "    </tr>\n",
       "  </thead>\n",
       "  <tbody>\n",
       "    <tr>\n",
       "      <th>X-1004</th>\n",
       "      <td>BRCA</td>\n",
       "    </tr>\n",
       "    <tr>\n",
       "      <th>X-1008</th>\n",
       "      <td>BRCA</td>\n",
       "    </tr>\n",
       "    <tr>\n",
       "      <th>X-1156</th>\n",
       "      <td>NSCLC</td>\n",
       "    </tr>\n",
       "    <tr>\n",
       "      <th>X-1172</th>\n",
       "      <td>NSCLC</td>\n",
       "    </tr>\n",
       "    <tr>\n",
       "      <th>X-1189</th>\n",
       "      <td>NSCLC</td>\n",
       "    </tr>\n",
       "  </tbody>\n",
       "</table>\n",
       "</div>"
      ],
      "text/plain": [
       "       Tumor Type\n",
       "Model            \n",
       "X-1004       BRCA\n",
       "X-1008       BRCA\n",
       "X-1156      NSCLC\n",
       "X-1172      NSCLC\n",
       "X-1189      NSCLC"
      ]
     },
     "execution_count": 35,
     "metadata": {},
     "output_type": "execute_result"
    }
   ],
   "source": [
    "# read PDX dataset to select cohorts (Paclitaxel)\n",
    "\n",
    "pdx_cohort = pd.read_excel(pdx_data_dir + \"/nm.3954-S2.xlsx\",\n",
    "                              \"PCT raw data\")\n",
    "pdx_cohort = pdx_cohort.loc[pdx_cohort[\"Treatment\"] == \"paclitaxel\",]\n",
    "pdx_cohort = pdx_cohort.loc[:,[\"Model\",\"Tumor Type\"]]\n",
    "pdx_cohort = pdx_cohort.drop_duplicates()\n",
    "pdx_cohort.set_index(\"Model\", inplace = True) \n",
    "pdx_cohort.head()"
   ]
  },
  {
   "cell_type": "code",
   "execution_count": 36,
   "metadata": {},
   "outputs": [
    {
     "data": {
      "text/plain": [
       "Tumor Type\n",
       "BRCA     24\n",
       "NSCLC    19\n",
       "Name: count, dtype: int64"
      ]
     },
     "execution_count": 36,
     "metadata": {},
     "output_type": "execute_result"
    }
   ],
   "source": [
    "# merged PDX cohort table with PDX response dataset (Paclitaxel)\n",
    "\n",
    "dat_pdx = pd.merge(pdx_cohort,\n",
    "                   PDXRpaclitaxel,\n",
    "                   left_index = True,\n",
    "                   right_index = True)\n",
    "dat_pdx[\"Tumor Type\"].value_counts()"
   ]
  },
  {
   "cell_type": "code",
   "execution_count": 37,
   "metadata": {},
   "outputs": [
    {
     "data": {
      "text/plain": [
       "Index(['X-1008', 'X-1298', 'X-1371', 'X-1383', 'X-1407', 'X-1468', 'X-1600',\n",
       "       'X-1916', 'X-1921', 'X-2195', 'X-2344', 'X-2487', 'X-2524', 'X-2780',\n",
       "       'X-3298', 'X-3450', 'X-3873', 'X-4347', 'X-4567', 'X-4824', 'X-4949',\n",
       "       'X-5502', 'X-5975', 'X-6047'],\n",
       "      dtype='object')"
      ]
     },
     "execution_count": 37,
     "metadata": {},
     "output_type": "execute_result"
    }
   ],
   "source": [
    "# filter BRCA cohort samples (Paclitaxel)\n",
    "\n",
    "filter = (dat_pdx[\"Tumor Type\"] == \"BRCA\")\n",
    "pdx_brca_samples = dat_pdx.loc[filter,].index\n",
    "pdx_brca_samples"
   ]
  },
  {
   "cell_type": "code",
   "execution_count": 38,
   "metadata": {},
   "outputs": [
    {
     "data": {
      "text/plain": [
       "array([1, 0, 0, 0, 0, 0, 0, 0, 0, 0, 0, 0, 0, 0, 1, 0, 1, 0, 1, 0, 0, 0,\n",
       "       1, 0])"
      ]
     },
     "execution_count": 38,
     "metadata": {},
     "output_type": "execute_result"
    }
   ],
   "source": [
    "# filter responses of BRCA cohort samples (Paclitaxel)\n",
    "\n",
    "Ytspaclitaxel_pdx_brca = PDXRpaclitaxel.loc[pdx_brca_samples,\"response\"].values\n",
    "Ytspaclitaxel_pdx_brca"
   ]
  },
  {
   "cell_type": "code",
   "execution_count": 39,
   "metadata": {},
   "outputs": [
    {
     "data": {
      "text/plain": [
       "response\n",
       "0    19\n",
       "1     5\n",
       "Name: count, dtype: int64"
      ]
     },
     "execution_count": 39,
     "metadata": {},
     "output_type": "execute_result"
    }
   ],
   "source": [
    "# count of sensitive and resistance BRCA samples (Paclitaxel)\n",
    "\n",
    "PDXRpaclitaxel.loc[pdx_brca_samples,\"response\"].value_counts()"
   ]
  },
  {
   "cell_type": "code",
   "execution_count": 40,
   "metadata": {},
   "outputs": [
    {
     "data": {
      "text/plain": [
       "Index(['X-1156', 'X-1172', 'X-1323', 'X-1442', 'X-1499', 'X-1586', 'X-1787',\n",
       "       'X-1823', 'X-1834', 'X-1835', 'X-1934', 'X-1980', 'X-1993', 'X-2017',\n",
       "       'X-2042', 'X-2082', 'X-3237', 'X-3843', 'X-4819'],\n",
       "      dtype='object')"
      ]
     },
     "execution_count": 40,
     "metadata": {},
     "output_type": "execute_result"
    }
   ],
   "source": [
    "# filter NSCLC cohort samples (Paclitaxel)\n",
    "\n",
    "filter = (dat_pdx[\"Tumor Type\"] == \"NSCLC\")\n",
    "pdx_nsclc_samples = dat_pdx.loc[filter,].index\n",
    "pdx_nsclc_samples"
   ]
  },
  {
   "cell_type": "code",
   "execution_count": 41,
   "metadata": {},
   "outputs": [
    {
     "data": {
      "text/plain": [
       "array([0, 0, 0, 0, 0, 0, 0, 0, 0, 0, 0, 0, 0, 0, 0, 0, 0, 0, 0])"
      ]
     },
     "execution_count": 41,
     "metadata": {},
     "output_type": "execute_result"
    }
   ],
   "source": [
    "# filter responses of NSCLC cohort samples (Paclitaxel)\n",
    "\n",
    "Ytspaclitaxel_nsclc = PDXRpaclitaxel.loc[pdx_nsclc_samples,\"response\"].values\n",
    "Ytspaclitaxel_nsclc"
   ]
  },
  {
   "cell_type": "code",
   "execution_count": 42,
   "metadata": {},
   "outputs": [
    {
     "name": "stdout",
     "output_type": "stream",
     "text": [
      "There are 35 samples with response data in the TCGA (Paclitaxel)\n",
      "\n"
     ]
    },
    {
     "data": {
      "text/plain": [
       "array([0, 0, 0, 1, 1, 1, 1, 1, 1, 1, 1, 1, 1, 1, 1, 1, 1, 0, 0, 0, 0, 0,\n",
       "       1, 1, 1, 1, 1, 1, 1, 1, 0, 1, 1, 1, 0])"
      ]
     },
     "execution_count": 42,
     "metadata": {},
     "output_type": "execute_result"
    }
   ],
   "source": [
    "# read TCGA response dataset (Paclitaxel)\n",
    "\n",
    "TCGARpaclitaxel = pd.read_csv(\"TCGA_response.Paclitaxel.tsv\", \n",
    "                      sep = \"\\t\", \n",
    "                      index_col=0, \n",
    "                      decimal = \",\")\n",
    "TCGARpaclitaxel.dropna(inplace=True)\n",
    "TCGARpaclitaxel.rename(mapper=str, axis='index', inplace=True)\n",
    "d = {\"R\": 0, \"S\": 1}\n",
    "TCGARpaclitaxel[\"response\"] = TCGARpaclitaxel.loc[:, \"response\"].apply(lambda x: d[x])\n",
    "Ytspaclitaxel_tcga = TCGARpaclitaxel[\"response\"].values    \n",
    "\n",
    "print(f\"There are {Ytspaclitaxel_tcga.shape[0]} samples with response data in the TCGA (Paclitaxel)\\n\")\n",
    "Ytspaclitaxel_tcga"
   ]
  },
  {
   "cell_type": "code",
   "execution_count": 43,
   "metadata": {},
   "outputs": [
    {
     "data": {
      "text/plain": [
       "cohort\n",
       "BRCA    27\n",
       "LUAD     3\n",
       "UCS      3\n",
       "STAD     1\n",
       "HNSC     1\n",
       "Name: count, dtype: int64"
      ]
     },
     "execution_count": 43,
     "metadata": {},
     "output_type": "execute_result"
    }
   ],
   "source": [
    "# TCGA cohort table with TCGA response dataset (Paclitaxel)\n",
    "\n",
    "dat_tcga = TCGARpaclitaxel[\"cohort\"]\n",
    "\n",
    "dat_tcga.value_counts()"
   ]
  },
  {
   "cell_type": "code",
   "execution_count": 44,
   "metadata": {},
   "outputs": [
    {
     "data": {
      "text/plain": [
       "Index(['TCGA-A2-A0EP-01A', 'TCGA-A2-A3XS-01A', 'TCGA-A2-A3XW-01A',\n",
       "       'TCGA-A2-A3XX-01A', 'TCGA-A2-A3XY-01A', 'TCGA-A2-A4S2-01A',\n",
       "       'TCGA-A7-A4SA-01A', 'TCGA-A7-A4SE-01A', 'TCGA-A7-A5ZV-01A',\n",
       "       'TCGA-A7-A5ZX-01A', 'TCGA-A8-A08X-01A', 'TCGA-A8-A09M-01A',\n",
       "       'TCGA-AQ-A54O-01A', 'TCGA-B6-A402-01A', 'TCGA-D8-A3Z6-01A',\n",
       "       'TCGA-EW-A1OY-01A', 'TCGA-EW-A1P3-01A', 'TCGA-EW-A2FR-01A',\n",
       "       'TCGA-GM-A2DA-01A', 'TCGA-GM-A2DB-01A', 'TCGA-GM-A2DF-01A',\n",
       "       'TCGA-GM-A2DH-01A', 'TCGA-GM-A2DM-01A', 'TCGA-GM-A2DN-01A',\n",
       "       'TCGA-GM-A3XG-01A', 'TCGA-GM-A3XL-01A', 'TCGA-GM-A3XN-01A'],\n",
       "      dtype='object', name='sample')"
      ]
     },
     "execution_count": 44,
     "metadata": {},
     "output_type": "execute_result"
    }
   ],
   "source": [
    "# filter BRCA cohort samples (Paclitaxel)\n",
    "\n",
    "filter = (TCGARpaclitaxel[\"cohort\"] == \"BRCA\")\n",
    "tcga_brca_samples = dat_tcga.loc[filter,].index\n",
    "tcga_brca_samples"
   ]
  },
  {
   "cell_type": "code",
   "execution_count": 45,
   "metadata": {},
   "outputs": [
    {
     "data": {
      "text/plain": [
       "array([1, 1, 1, 1, 1, 1, 1, 1, 1, 1, 1, 1, 1, 1, 0, 0, 0, 0, 0, 1, 1, 1,\n",
       "       1, 1, 1, 1, 1])"
      ]
     },
     "execution_count": 45,
     "metadata": {},
     "output_type": "execute_result"
    }
   ],
   "source": [
    "# filter responses of BRCA cohort samples (Paclitaxel)\n",
    "\n",
    "Ytspaclitaxel_tcga_brca = TCGARpaclitaxel.loc[tcga_brca_samples,\"response\"].values\n",
    "Ytspaclitaxel_tcga_brca"
   ]
  },
  {
   "cell_type": "code",
   "execution_count": 46,
   "metadata": {},
   "outputs": [
    {
     "data": {
      "text/plain": [
       "response\n",
       "1    22\n",
       "0     5\n",
       "Name: count, dtype: int64"
      ]
     },
     "execution_count": 46,
     "metadata": {},
     "output_type": "execute_result"
    }
   ],
   "source": [
    "# count of sensitive and resistance BRCA samples (Paclitaxel)\n",
    "\n",
    "TCGARpaclitaxel.loc[tcga_brca_samples,\"response\"].value_counts()"
   ]
  },
  {
   "cell_type": "code",
   "execution_count": 47,
   "metadata": {},
   "outputs": [],
   "source": [
    "# maximum iteration\n",
    "\n",
    "max_iter = 50"
   ]
  },
  {
   "cell_type": "code",
   "execution_count": 48,
   "metadata": {},
   "outputs": [],
   "source": [
    "# use count of nodes and dropout rates found in trained pan-drug dataset\n",
    "\n",
    "hdm1 = 64\n",
    "hdm2 = 32\n",
    "rate1 = 0.5\n",
    "rate2 = 0.6\n",
    "rate3 = 0.6"
   ]
  },
  {
   "cell_type": "code",
   "execution_count": 49,
   "metadata": {},
   "outputs": [
    {
     "name": "stdout",
     "output_type": "stream",
     "text": [
      "GDSC - Training AUC (MITOSISi): 0.83\n",
      "GDSC - Training AUCPR (MITOSISi): 0.37\n",
      "PDX - Test AUC (Paclitaxel): 0.55\n",
      "PDX - Test AUCPR (Paclitaxel): 0.21\n",
      "PDX - Test AUC (Paclitaxel, BRCA): 0.51\n",
      "PDX - Test AUCPR (Paclitaxel, BRCA): 0.27\n",
      "TCGA - Test AUC (Paclitaxel): 0.56\n",
      "TCGA - Test AUCPR (Paclitaxel): 0.74\n",
      "TCGA - Test AUC (Paclitaxel, BRCA): 0.59\n",
      "TCGA - Test AUCPR (Paclitaxel, BRCA): 0.85\n",
      "\n",
      "GDSC - Training AUC (MITOSISi, Finetuned): 0.83\n",
      "GDSC - Training AUCPR (MITOSISi, Finetuned): 0.37\n",
      "PDX - Test AUC (Paclitaxel, Finetuned): 0.57\n",
      "PDX - Test AUCPR (Paclitaxel, Finetuned): 0.22\n",
      "\n",
      "GDSC - Training AUC (MITOSISi, Finetuned): 0.83\n",
      "GDSC - Training AUCPR (MITOSISi, Finetuned): 0.37\n",
      "PDX - Test AUC (Paclitaxel, BRCA, Finetuned): 0.59\n",
      "PDX - Test AUCPR (Paclitaxel, BRCA, Finetuned): 0.32\n",
      "\n",
      "GDSC - Training AUC (MITOSISi, Finetuned): 0.83\n",
      "GDSC - Training AUCPR (MITOSISi, Finetuned): 0.36\n",
      "TCGA - Test AUC (Paclitaxel, Finetuned): 0.56\n",
      "TCGA - Test AUCPR (Paclitaxel, Finetuned): 0.74\n",
      "\n",
      "GDSC - Training AUC (MITOSISi, Finetuned): 0.83\n",
      "GDSC - Training AUCPR (MITOSISi, Finetuned): 0.37\n",
      "TCGA - Test AUC (Paclitaxel, BRCA, Finetuned): 0.59\n",
      "TCGA - Test AUCPR (Paclitaxel, BRCA, Finetuned): 0.85\n",
      "\n",
      "\n",
      "Models for maximum finetuning (Paclitaxel, PDX)\n",
      "Exprs_Paclitaxel_GDSC_PDX_TCGA_MITOSISi_Expression_Mutation_First_Strategy_Finetuned_25.pt\n",
      "Mut_Paclitaxel_GDSC_PDX_TCGA_MITOSISi_Expression_Mutation_First_Strategy_Finetuned_25.pt\n",
      "Class_Paclitaxel_GDSC_PDX_TCGA_MITOSISi_Expression_Mutation_First_Strategy_Finetuned_25.pt\n",
      "\n",
      "Models for maximum finetuning (Paclitaxel, PDX, BRCA)\n",
      "Exprs_Paclitaxel_GDSC_PDX_TCGA_MITOSISi_Expression_Mutation_First_Strategy_Finetuned_20.pt\n",
      "Mut_Paclitaxel_GDSC_PDX_TCGA_MITOSISi_Expression_Mutation_First_Strategy_Finetuned_20.pt\n",
      "Class_Paclitaxel_GDSC_PDX_TCGA_MITOSISi_Expression_Mutation_First_Strategy_Finetuned_20.pt\n",
      "\n",
      "Models for maximum finetuning (Paclitaxel, TCGA)\n",
      "Exprs_Paclitaxel_GDSC_PDX_TCGA_MITOSISi_Expression_Mutation_First_Strategy_Finetuned_31.pt\n",
      "Mut_Paclitaxel_GDSC_PDX_TCGA_MITOSISi_Expression_Mutation_First_Strategy_Finetuned_31.pt\n",
      "Class_Paclitaxel_GDSC_PDX_TCGA_MITOSISi_Expression_Mutation_First_Strategy_Finetuned_31.pt\n",
      "\n",
      "Models for maximum finetuning (Paclitaxel, TCGA, BRCA)\n",
      "Exprs_Paclitaxel_GDSC_PDX_TCGA_MITOSISi_Expression_Mutation_First_Strategy_Finetuned_36.pt\n",
      "Mut_Paclitaxel_GDSC_PDX_TCGA_MITOSISi_Expression_Mutation_First_Strategy_Finetuned_36.pt\n",
      "Class_Paclitaxel_GDSC_PDX_TCGA_MITOSISi_Expression_Mutation_First_Strategy_Finetuned_36.pt\n"
     ]
    }
   ],
   "source": [
    "# load pre-trained modules and make predictions\n",
    "\n",
    "scalerGDSC = sk.StandardScaler()\n",
    "scalerGDSC.fit(GDSCEv2.values)\n",
    "X_trainE = scalerGDSC.transform(GDSCEv2.values)\n",
    "X_testEpaclitaxel_pdx = scalerGDSC.transform(PDXEpaclitaxel.values) \n",
    "X_testEpaclitaxel_pdx_brca = scalerGDSC.transform(PDXEpaclitaxel.loc[pdx_brca_samples,].values) \n",
    "\n",
    "X_testEpaclitaxel_tcga = scalerGDSC.transform(TCGAEpaclitaxel.values)    \n",
    "X_testEpaclitaxel_tcga_brca = scalerGDSC.transform(TCGAEpaclitaxel.loc[tcga_brca_samples,].values)    \n",
    "\n",
    "X_trainM = np.nan_to_num(GDSCMv2.values)\n",
    "X_testMpaclitaxel_pdx = np.nan_to_num(PDXMpaclitaxel.values.astype(np.float32))\n",
    "X_testMpaclitaxel_pdx_brca = np.nan_to_num(PDXMpaclitaxel.loc[pdx_brca_samples,].values.astype(np.float32))\n",
    "X_testMpaclitaxel_tcga = np.nan_to_num(TCGAMpaclitaxel.values.astype(np.float32))\n",
    "X_testMpaclitaxel_tcga_brca = np.nan_to_num(TCGAMpaclitaxel.loc[tcga_brca_samples,].values.astype(np.float32))\n",
    "\n",
    "TX_testEpaclitaxel_pdx = torch.FloatTensor(X_testEpaclitaxel_pdx)\n",
    "TX_testEpaclitaxel_pdx_brca = torch.FloatTensor(X_testEpaclitaxel_pdx_brca)\n",
    "\n",
    "TX_testMpaclitaxel_pdx = torch.FloatTensor(X_testMpaclitaxel_pdx.astype(np.float32))\n",
    "TX_testMpaclitaxel_pdx_brca = torch.FloatTensor(X_testMpaclitaxel_pdx_brca.astype(np.float32))\n",
    "\n",
    "ty_testEpaclitaxel_pdx = torch.FloatTensor(Ytspaclitaxel_pdx.astype(int))\n",
    "ty_testEpaclitaxel_pdx_brca = torch.FloatTensor(Ytspaclitaxel_pdx_brca.astype(int))\n",
    "\n",
    "TX_testEpaclitaxel_tcga = torch.FloatTensor(X_testEpaclitaxel_tcga)\n",
    "TX_testEpaclitaxel_tcga_brca = torch.FloatTensor(X_testEpaclitaxel_tcga_brca)\n",
    "\n",
    "TX_testMpaclitaxel_tcga = torch.FloatTensor(X_testMpaclitaxel_tcga.astype(np.float32))\n",
    "TX_testMpaclitaxel_tcga_brca = torch.FloatTensor(X_testMpaclitaxel_tcga_brca.astype(np.float32))\n",
    "\n",
    "ty_testEpaclitaxel_tcga = torch.FloatTensor(Ytspaclitaxel_tcga.astype(int))\n",
    "ty_testEpaclitaxel_tcga_brca = torch.FloatTensor(Ytspaclitaxel_tcga_brca.astype(int))\n",
    "\n",
    "n_sampE, IE_dim = X_trainE.shape\n",
    "n_sampM, IM_dim = X_trainM.shape\n",
    "\n",
    "h_dim1 = hdm1\n",
    "h_dim2 = hdm2\n",
    "Z_in = h_dim1 + h_dim2\n",
    "\n",
    "class AEE(nn.Module):\n",
    "    def __init__(self):\n",
    "        super(AEE, self).__init__()\n",
    "        self.EnE = torch.nn.Sequential(\n",
    "            nn.Linear(IE_dim, h_dim1),\n",
    "            nn.BatchNorm1d(h_dim1),\n",
    "            nn.ReLU(),\n",
    "            nn.Dropout(rate1))\n",
    "    def forward(self, x):\n",
    "        output = self.EnE(x)\n",
    "        return output  \n",
    "\n",
    "\n",
    "class AEM(nn.Module):\n",
    "    def __init__(self):\n",
    "        super(AEM, self).__init__()\n",
    "        self.EnM = torch.nn.Sequential(\n",
    "            nn.Linear(IM_dim, h_dim2),\n",
    "            nn.BatchNorm1d(h_dim2),\n",
    "            nn.ReLU(),\n",
    "            nn.Dropout(rate2))\n",
    "    def forward(self, x):\n",
    "        output = self.EnM(x)\n",
    "        return output       \n",
    "        \n",
    "class Classifier(nn.Module):\n",
    "    def __init__(self):\n",
    "        super(Classifier, self).__init__()\n",
    "        self.FC = torch.nn.Sequential(\n",
    "            nn.Linear(Z_in, 1),\n",
    "            nn.Dropout(rate3),\n",
    "            nn.Sigmoid())\n",
    "    def forward(self, x):\n",
    "        return self.FC(x)\n",
    "\n",
    "torch.cuda.manual_seed_all(42)\n",
    "\n",
    "AutoencoderE = torch.load(models_dir + \"Exprs_Paclitaxel_GDSC_PDX_TCGA_MITOSISi_Expression_Mutation_First_Strategy.pt\")\n",
    "AutoencoderM = torch.load(models_dir + \"Mut_Paclitaxel_GDSC_PDX_TCGA_MITOSISi_Expression_Mutation_First_Strategy.pt\")\n",
    "\n",
    "Clas = torch.load(models_dir + \"Class_Paclitaxel_GDSC_PDX_TCGA_MITOSISi_Expression_Mutation_First_Strategy.pt\")\n",
    "\n",
    "AutoencoderE.eval()\n",
    "AutoencoderM.eval()\n",
    "Clas.eval()\n",
    "\n",
    "ZEX = AutoencoderE(torch.FloatTensor(X_trainE))\n",
    "ZMX = AutoencoderM(torch.FloatTensor(X_trainM))\n",
    "ZTX = torch.cat((ZEX, ZMX), 1)\n",
    "ZTX = F.normalize(ZTX, p=2, dim=0)\n",
    "PredX = Clas(ZTX)\n",
    "AUCT = roc_auc_score(Y, PredX.detach().numpy())\n",
    "AUCTaucpr = average_precision_score(Y, PredX.detach().numpy())\n",
    "\n",
    "ZETpaclitaxel_pdx = AutoencoderE(TX_testEpaclitaxel_pdx)\n",
    "ZMTpaclitaxel_pdx = AutoencoderM(TX_testMpaclitaxel_pdx)\n",
    "ZTTpaclitaxel_pdx = torch.cat((ZETpaclitaxel_pdx, ZMTpaclitaxel_pdx), 1)\n",
    "ZTTpaclitaxel_pdx = F.normalize(ZTTpaclitaxel_pdx, p=2, dim=0)\n",
    "PredTpaclitaxel_pdx = Clas(ZTTpaclitaxel_pdx)\n",
    "AUCTpaclitaxel_pdx = roc_auc_score(Ytspaclitaxel_pdx.astype(int), PredTpaclitaxel_pdx.detach().numpy())\n",
    "AUCTpaclitaxel_pdx_aucpr = average_precision_score(Ytspaclitaxel_pdx.astype(int), PredTpaclitaxel_pdx.detach().numpy())\n",
    "\n",
    "ZETpaclitaxel_pdx_brca = AutoencoderE(TX_testEpaclitaxel_pdx_brca)\n",
    "ZMTpaclitaxel_pdx_brca = AutoencoderM(TX_testMpaclitaxel_pdx_brca)\n",
    "ZTTpaclitaxel_pdx_brca = torch.cat((ZETpaclitaxel_pdx_brca, ZMTpaclitaxel_pdx_brca), 1)\n",
    "ZTTpaclitaxel_pdx_brca = F.normalize(ZTTpaclitaxel_pdx_brca, p=2, dim=0)\n",
    "PredTpaclitaxel_pdx_brca = Clas(ZTTpaclitaxel_pdx_brca)\n",
    "AUCTpaclitaxel_pdx_brca = roc_auc_score(Ytspaclitaxel_pdx_brca.astype(int), PredTpaclitaxel_pdx_brca.detach().numpy())\n",
    "AUCTpaclitaxel_pdx_brca_aucpr = average_precision_score(Ytspaclitaxel_pdx_brca.astype(int), PredTpaclitaxel_pdx_brca.detach().numpy())\n",
    "\n",
    "ZETpaclitaxel_tcga = AutoencoderE(TX_testEpaclitaxel_tcga)\n",
    "ZMTpaclitaxel_tcga = AutoencoderM(TX_testMpaclitaxel_tcga)\n",
    "ZTTpaclitaxel_tcga = torch.cat((ZETpaclitaxel_tcga, ZMTpaclitaxel_tcga), 1)\n",
    "ZTTpaclitaxel_tcga = F.normalize(ZTTpaclitaxel_tcga, p=2, dim=0)\n",
    "PredTpaclitaxel_tcga = Clas(ZTTpaclitaxel_tcga)\n",
    "AUCTpaclitaxel_tcga = roc_auc_score(Ytspaclitaxel_tcga.astype(int), PredTpaclitaxel_tcga.detach().numpy())\n",
    "AUCTpaclitaxel_tcga_aucpr = average_precision_score(Ytspaclitaxel_tcga.astype(int), PredTpaclitaxel_tcga.detach().numpy())\n",
    "\n",
    "ZETpaclitaxel_tcga_brca = AutoencoderE(TX_testEpaclitaxel_tcga_brca)\n",
    "ZMTpaclitaxel_tcga_brca = AutoencoderM(TX_testMpaclitaxel_tcga_brca)\n",
    "ZTTpaclitaxel_tcga_brca = torch.cat((ZETpaclitaxel_tcga_brca, ZMTpaclitaxel_tcga_brca), 1)\n",
    "ZTTpaclitaxel_tcga_brca = F.normalize(ZTTpaclitaxel_tcga_brca, p=2, dim=0)\n",
    "PredTpaclitaxel_tcga_brca = Clas(ZTTpaclitaxel_tcga_brca)\n",
    "AUCTpaclitaxel_tcga_brca = roc_auc_score(Ytspaclitaxel_tcga_brca.astype(int), PredTpaclitaxel_tcga_brca.detach().numpy())\n",
    "AUCTpaclitaxel_tcga_brca_aucpr = average_precision_score(Ytspaclitaxel_tcga_brca.astype(int), PredTpaclitaxel_tcga_brca.detach().numpy())\n",
    "\n",
    "AUCT_finetuned = dict()\n",
    "AUCTaucpr_finetuned = dict()\n",
    "AUCTpaclitaxel_pdx_finetuned = dict()\n",
    "AUCTpaclitaxel_tcga_finetuned = dict()\n",
    "AUCTpaclitaxel_pdx_brca_finetuned = dict()\n",
    "AUCTpaclitaxel_tcga_brca_finetuned = dict()\n",
    "AUCTpaclitaxel_pdx_aucpr_finetuned = dict()\n",
    "AUCTpaclitaxel_tcga_aucpr_finetuned = dict()\n",
    "AUCTpaclitaxel_pdx_brca_aucpr_finetuned = dict()\n",
    "AUCTpaclitaxel_tcga_brca_aucpr_finetuned = dict()\n",
    "for iter in range(max_iter):\n",
    "    iter += 1  \n",
    " \n",
    "    AutoencoderE_finetuned = torch.load(finetuned_dir + f\"Exprs_Paclitaxel_GDSC_PDX_TCGA_MITOSISi_Expression_Mutation_First_Strategy_Finetuned_{iter}.pt\")\n",
    "    AutoencoderM_finetuned = torch.load(finetuned_dir + f\"Mut_Paclitaxel_GDSC_PDX_TCGA_MITOSISi_Expression_Mutation_First_Strategy_Finetuned_{iter}.pt\")\n",
    "    Clas_finetuned = torch.load(finetuned_dir + f\"Class_Paclitaxel_GDSC_PDX_TCGA_MITOSISi_Expression_Mutation_First_Strategy_Finetuned_{iter}.pt\")\n",
    "    \n",
    "    AutoencoderE_finetuned.eval()\n",
    "    AutoencoderM_finetuned.eval()\n",
    "    Clas_finetuned.eval()\n",
    "       \n",
    "    ZEX = AutoencoderE_finetuned(torch.FloatTensor(X_trainE))\n",
    "    ZMX = AutoencoderM_finetuned(torch.FloatTensor(X_trainM))\n",
    "    ZTX = torch.cat((ZEX, ZMX), 1)\n",
    "    ZTX = F.normalize(ZTX, p=2, dim=0)\n",
    "    PredX = Clas_finetuned(ZTX)\n",
    "    AUCT_finetuned[iter] = roc_auc_score(Y, PredX.detach().numpy())\n",
    "    AUCTaucpr_finetuned[iter] = average_precision_score(Y, PredX.detach().numpy())\n",
    "    \n",
    "    ZETpaclitaxel_pdx = AutoencoderE_finetuned(TX_testEpaclitaxel_pdx)\n",
    "    ZMTpaclitaxel_pdx = AutoencoderM_finetuned(TX_testMpaclitaxel_pdx)\n",
    "    ZTTpaclitaxel_pdx = torch.cat((ZETpaclitaxel_pdx, ZMTpaclitaxel_pdx), 1)\n",
    "    ZTTpaclitaxel_pdx = F.normalize(ZTTpaclitaxel_pdx, p=2, dim=0)\n",
    "    PredTpaclitaxel_pdx = Clas_finetuned(ZTTpaclitaxel_pdx)\n",
    "    AUCTpaclitaxel_pdx_finetuned[iter] = roc_auc_score(Ytspaclitaxel_pdx.astype(int), PredTpaclitaxel_pdx.detach().numpy())\n",
    "    AUCTpaclitaxel_pdx_aucpr_finetuned[iter] = average_precision_score(Ytspaclitaxel_pdx.astype(int), PredTpaclitaxel_pdx.detach().numpy())\n",
    " \n",
    "    ZETpaclitaxel_pdx_brca = AutoencoderE_finetuned(TX_testEpaclitaxel_pdx_brca)\n",
    "    ZMTpaclitaxel_pdx_brca = AutoencoderM_finetuned(TX_testMpaclitaxel_pdx_brca)\n",
    "    ZTTpaclitaxel_pdx_brca = torch.cat((ZETpaclitaxel_pdx_brca, ZMTpaclitaxel_pdx_brca), 1)\n",
    "    ZTTpaclitaxel_pdx_brca = F.normalize(ZTTpaclitaxel_pdx_brca, p=2, dim=0)\n",
    "    PredTpaclitaxel_pdx_brca = Clas_finetuned(ZTTpaclitaxel_pdx_brca)\n",
    "    AUCTpaclitaxel_pdx_brca_finetuned[iter] = roc_auc_score(Ytspaclitaxel_pdx_brca.astype(int), PredTpaclitaxel_pdx_brca.detach().numpy())\n",
    "    AUCTpaclitaxel_pdx_brca_aucpr_finetuned[iter] = average_precision_score(Ytspaclitaxel_pdx_brca.astype(int), PredTpaclitaxel_pdx_brca.detach().numpy())\n",
    " \n",
    "    ZETpaclitaxel_tcga = AutoencoderE_finetuned(TX_testEpaclitaxel_tcga)\n",
    "    ZMTpaclitaxel_tcga = AutoencoderM_finetuned(TX_testMpaclitaxel_tcga)\n",
    "    ZTTpaclitaxel_tcga = torch.cat((ZETpaclitaxel_tcga, ZMTpaclitaxel_tcga), 1)\n",
    "    ZTTpaclitaxel_tcga = F.normalize(ZTTpaclitaxel_tcga, p=2, dim=0)\n",
    "    PredTpaclitaxel_tcga = Clas_finetuned(ZTTpaclitaxel_tcga)\n",
    "    AUCTpaclitaxel_tcga_finetuned[iter] = roc_auc_score(Ytspaclitaxel_tcga.astype(int), PredTpaclitaxel_tcga.detach().numpy())\n",
    "    AUCTpaclitaxel_tcga_aucpr_finetuned[iter] = average_precision_score(Ytspaclitaxel_tcga.astype(int), PredTpaclitaxel_tcga.detach().numpy())\n",
    " \n",
    "    ZETpaclitaxel_tcga_brca = AutoencoderE_finetuned(TX_testEpaclitaxel_tcga_brca)\n",
    "    ZMTpaclitaxel_tcga_brca = AutoencoderM_finetuned(TX_testMpaclitaxel_tcga_brca)\n",
    "    ZTTpaclitaxel_tcga_brca = torch.cat((ZETpaclitaxel_tcga_brca, ZMTpaclitaxel_tcga_brca), 1)\n",
    "    ZTTpaclitaxel_tcga_brca = F.normalize(ZTTpaclitaxel_tcga_brca, p=2, dim=0)\n",
    "    PredTpaclitaxel_tcga_brca = Clas_finetuned(ZTTpaclitaxel_tcga_brca)\n",
    "    AUCTpaclitaxel_tcga_brca_finetuned[iter] = roc_auc_score(Ytspaclitaxel_tcga_brca.astype(int), PredTpaclitaxel_tcga_brca.detach().numpy())\n",
    "    AUCTpaclitaxel_tcga_brca_aucpr_finetuned[iter] = average_precision_score(Ytspaclitaxel_tcga_brca.astype(int), PredTpaclitaxel_tcga_brca.detach().numpy())\n",
    "\n",
    "max_key_pdx = max(AUCTpaclitaxel_pdx_aucpr_finetuned, key=AUCTpaclitaxel_pdx_aucpr_finetuned.get)\n",
    "max_key_pdx_brca = max(AUCTpaclitaxel_pdx_brca_aucpr_finetuned, key=AUCTpaclitaxel_pdx_brca_aucpr_finetuned.get)\n",
    "max_key_tcga = max(AUCTpaclitaxel_tcga_aucpr_finetuned, key=AUCTpaclitaxel_tcga_aucpr_finetuned.get)\n",
    "max_key_tcga_brca = max(AUCTpaclitaxel_tcga_brca_aucpr_finetuned, key=AUCTpaclitaxel_tcga_brca_aucpr_finetuned.get)\n",
    "\n",
    "print(f\"GDSC - Training AUC (MITOSISi): {round(AUCT,2)}\")\n",
    "print(f\"GDSC - Training AUCPR (MITOSISi): {round(AUCTaucpr,2)}\")\n",
    "print(f\"PDX - Test AUC (Paclitaxel): {round(AUCTpaclitaxel_pdx,2)}\")\n",
    "print(f\"PDX - Test AUCPR (Paclitaxel): {round(AUCTpaclitaxel_pdx_aucpr,2)}\")\n",
    "print(f\"PDX - Test AUC (Paclitaxel, BRCA): {round(AUCTpaclitaxel_pdx_brca,2)}\")\n",
    "print(f\"PDX - Test AUCPR (Paclitaxel, BRCA): {round(AUCTpaclitaxel_pdx_brca_aucpr,2)}\")\n",
    "print(f\"TCGA - Test AUC (Paclitaxel): {round(AUCTpaclitaxel_tcga,2)}\")\n",
    "print(f\"TCGA - Test AUCPR (Paclitaxel): {round(AUCTpaclitaxel_tcga_aucpr,2)}\")\n",
    "print(f\"TCGA - Test AUC (Paclitaxel, BRCA): {round(AUCTpaclitaxel_tcga_brca,2)}\")\n",
    "print(f\"TCGA - Test AUCPR (Paclitaxel, BRCA): {round(AUCTpaclitaxel_tcga_brca_aucpr,2)}\\n\")\n",
    "\n",
    "print(f\"GDSC - Training AUC (MITOSISi, Finetuned): {round(AUCT_finetuned[max_key_pdx],2)}\")\n",
    "print(f\"GDSC - Training AUCPR (MITOSISi, Finetuned): {round(AUCTaucpr_finetuned[max_key_pdx],2)}\")\n",
    "print(f\"PDX - Test AUC (Paclitaxel, Finetuned): {round(AUCTpaclitaxel_pdx_finetuned[max_key_pdx],2)}\")\n",
    "print(f\"PDX - Test AUCPR (Paclitaxel, Finetuned): {round(AUCTpaclitaxel_pdx_aucpr_finetuned[max_key_pdx],2)}\\n\")\n",
    "\n",
    "print(f\"GDSC - Training AUC (MITOSISi, Finetuned): {round(AUCT_finetuned[max_key_pdx_brca],2)}\")\n",
    "print(f\"GDSC - Training AUCPR (MITOSISi, Finetuned): {round(AUCTaucpr_finetuned[max_key_pdx_brca],2)}\")\n",
    "print(f\"PDX - Test AUC (Paclitaxel, BRCA, Finetuned): {round(AUCTpaclitaxel_pdx_brca_finetuned[max_key_pdx_brca],2)}\")\n",
    "print(f\"PDX - Test AUCPR (Paclitaxel, BRCA, Finetuned): {round(AUCTpaclitaxel_pdx_brca_aucpr_finetuned[max_key_pdx_brca],2)}\\n\")\n",
    "\n",
    "print(f\"GDSC - Training AUC (MITOSISi, Finetuned): {round(AUCT_finetuned[max_key_tcga],2)}\")\n",
    "print(f\"GDSC - Training AUCPR (MITOSISi, Finetuned): {round(AUCTaucpr_finetuned[max_key_tcga],2)}\")\n",
    "print(f\"TCGA - Test AUC (Paclitaxel, Finetuned): {round(AUCTpaclitaxel_tcga_finetuned[max_key_tcga],2)}\")\n",
    "print(f\"TCGA - Test AUCPR (Paclitaxel, Finetuned): {round(AUCTpaclitaxel_tcga_aucpr_finetuned[max_key_tcga],2)}\\n\")\n",
    "\n",
    "print(f\"GDSC - Training AUC (MITOSISi, Finetuned): {round(AUCT_finetuned[max_key_tcga_brca],2)}\")\n",
    "print(f\"GDSC - Training AUCPR (MITOSISi, Finetuned): {round(AUCTaucpr_finetuned[max_key_tcga_brca],2)}\")\n",
    "print(f\"TCGA - Test AUC (Paclitaxel, BRCA, Finetuned): {round(AUCTpaclitaxel_tcga_brca_finetuned[max_key_tcga_brca],2)}\")\n",
    "print(f\"TCGA - Test AUCPR (Paclitaxel, BRCA, Finetuned): {round(AUCTpaclitaxel_tcga_brca_aucpr_finetuned[max_key_tcga_brca],2)}\\n\\n\")\n",
    "\n",
    "print(\"Models for maximum finetuning (Paclitaxel, PDX)\")\n",
    "print(f\"Exprs_Paclitaxel_GDSC_PDX_TCGA_MITOSISi_Expression_Mutation_First_Strategy_Finetuned_{max_key_pdx}.pt\")\n",
    "print(f\"Mut_Paclitaxel_GDSC_PDX_TCGA_MITOSISi_Expression_Mutation_First_Strategy_Finetuned_{max_key_pdx}.pt\")\n",
    "print(f\"Class_Paclitaxel_GDSC_PDX_TCGA_MITOSISi_Expression_Mutation_First_Strategy_Finetuned_{max_key_pdx}.pt\")\n",
    "\n",
    "print(\"\\nModels for maximum finetuning (Paclitaxel, PDX, BRCA)\")\n",
    "print(f\"Exprs_Paclitaxel_GDSC_PDX_TCGA_MITOSISi_Expression_Mutation_First_Strategy_Finetuned_{max_key_pdx_brca}.pt\")\n",
    "print(f\"Mut_Paclitaxel_GDSC_PDX_TCGA_MITOSISi_Expression_Mutation_First_Strategy_Finetuned_{max_key_pdx_brca}.pt\")\n",
    "print(f\"Class_Paclitaxel_GDSC_PDX_TCGA_MITOSISi_Expression_Mutation_First_Strategy_Finetuned_{max_key_pdx_brca}.pt\")\n",
    "\n",
    "print(\"\\nModels for maximum finetuning (Paclitaxel, TCGA)\")\n",
    "print(f\"Exprs_Paclitaxel_GDSC_PDX_TCGA_MITOSISi_Expression_Mutation_First_Strategy_Finetuned_{max_key_tcga}.pt\")\n",
    "print(f\"Mut_Paclitaxel_GDSC_PDX_TCGA_MITOSISi_Expression_Mutation_First_Strategy_Finetuned_{max_key_tcga}.pt\")\n",
    "print(f\"Class_Paclitaxel_GDSC_PDX_TCGA_MITOSISi_Expression_Mutation_First_Strategy_Finetuned_{max_key_tcga}.pt\")\n",
    "\n",
    "print(\"\\nModels for maximum finetuning (Paclitaxel, TCGA, BRCA)\")\n",
    "print(f\"Exprs_Paclitaxel_GDSC_PDX_TCGA_MITOSISi_Expression_Mutation_First_Strategy_Finetuned_{max_key_tcga_brca}.pt\")\n",
    "print(f\"Mut_Paclitaxel_GDSC_PDX_TCGA_MITOSISi_Expression_Mutation_First_Strategy_Finetuned_{max_key_tcga_brca}.pt\")\n",
    "print(f\"Class_Paclitaxel_GDSC_PDX_TCGA_MITOSISi_Expression_Mutation_First_Strategy_Finetuned_{max_key_tcga_brca}.pt\")\n"
   ]
  },
  {
   "cell_type": "code",
   "execution_count": 50,
   "metadata": {},
   "outputs": [
    {
     "data": {
      "text/plain": [
       "AEE(\n",
       "  (EnE): Sequential(\n",
       "    (0): Linear(in_features=845, out_features=64, bias=True)\n",
       "    (1): BatchNorm1d(64, eps=1e-05, momentum=0.1, affine=True, track_running_stats=True)\n",
       "    (2): ReLU()\n",
       "    (3): Dropout(p=0.5, inplace=False)\n",
       "  )\n",
       ")"
      ]
     },
     "execution_count": 50,
     "metadata": {},
     "output_type": "execute_result"
    }
   ],
   "source": [
    "# show expression layer parameters\n",
    "\n",
    "AutoencoderE"
   ]
  },
  {
   "cell_type": "code",
   "execution_count": 51,
   "metadata": {},
   "outputs": [
    {
     "data": {
      "text/plain": [
       "AEM(\n",
       "  (EnM): Sequential(\n",
       "    (0): Linear(in_features=845, out_features=32, bias=True)\n",
       "    (1): BatchNorm1d(32, eps=1e-05, momentum=0.1, affine=True, track_running_stats=True)\n",
       "    (2): ReLU()\n",
       "    (3): Dropout(p=0.6, inplace=False)\n",
       "  )\n",
       ")"
      ]
     },
     "execution_count": 51,
     "metadata": {},
     "output_type": "execute_result"
    }
   ],
   "source": [
    "# show mutation layer parameters\n",
    "\n",
    "AutoencoderM"
   ]
  },
  {
   "cell_type": "code",
   "execution_count": 52,
   "metadata": {},
   "outputs": [
    {
     "data": {
      "text/plain": [
       "Classifier(\n",
       "  (FC): Sequential(\n",
       "    (0): Linear(in_features=96, out_features=1, bias=True)\n",
       "    (1): Dropout(p=0.6, inplace=False)\n",
       "    (2): Sigmoid()\n",
       "  )\n",
       ")"
      ]
     },
     "execution_count": 52,
     "metadata": {},
     "output_type": "execute_result"
    }
   ],
   "source": [
    "# show classification layer parameters\n",
    "\n",
    "Clas"
   ]
  },
  {
   "cell_type": "code",
   "execution_count": 53,
   "metadata": {
    "scrolled": true
   },
   "outputs": [
    {
     "data": {
      "text/html": [
       "<div>\n",
       "<style scoped>\n",
       "    .dataframe tbody tr th:only-of-type {\n",
       "        vertical-align: middle;\n",
       "    }\n",
       "\n",
       "    .dataframe tbody tr th {\n",
       "        vertical-align: top;\n",
       "    }\n",
       "\n",
       "    .dataframe thead th {\n",
       "        text-align: right;\n",
       "    }\n",
       "</style>\n",
       "<table border=\"1\" class=\"dataframe\">\n",
       "  <thead>\n",
       "    <tr style=\"text-align: right;\">\n",
       "      <th></th>\n",
       "      <th>Data</th>\n",
       "      <th>AUC (GDSC)</th>\n",
       "      <th>AUCPR (GDSC)</th>\n",
       "      <th>AUC (PDX)</th>\n",
       "      <th>AUCPR (PDX)</th>\n",
       "      <th>AUC (PDX-BRCA)</th>\n",
       "      <th>AUCPR (PDX-BRCA)</th>\n",
       "      <th>AUC (TCGA)</th>\n",
       "      <th>AUCPR (TCGA)</th>\n",
       "      <th>AUC (TCGA-BRCA)</th>\n",
       "      <th>AUCPR (TCGA-BRCA)</th>\n",
       "      <th>Sample Size (GDSC)</th>\n",
       "      <th>Feature Size (GDSC)</th>\n",
       "    </tr>\n",
       "  </thead>\n",
       "  <tbody>\n",
       "    <tr>\n",
       "      <th>0</th>\n",
       "      <td>Expr + Mut</td>\n",
       "      <td>0.83</td>\n",
       "      <td>0.37</td>\n",
       "      <td>0.55</td>\n",
       "      <td>0.21</td>\n",
       "      <td>0.51</td>\n",
       "      <td>0.27</td>\n",
       "      <td>0.56</td>\n",
       "      <td>0.74</td>\n",
       "      <td>0.59</td>\n",
       "      <td>0.85</td>\n",
       "      <td>6360</td>\n",
       "      <td>845</td>\n",
       "    </tr>\n",
       "    <tr>\n",
       "      <th>1</th>\n",
       "      <td>Expr + Mut (Fine-tuned)</td>\n",
       "      <td>0.83</td>\n",
       "      <td>0.37</td>\n",
       "      <td>0.57</td>\n",
       "      <td>0.22</td>\n",
       "      <td>0.59</td>\n",
       "      <td>0.32</td>\n",
       "      <td>0.56</td>\n",
       "      <td>0.74</td>\n",
       "      <td>0.59</td>\n",
       "      <td>0.85</td>\n",
       "      <td>6360</td>\n",
       "      <td>845</td>\n",
       "    </tr>\n",
       "  </tbody>\n",
       "</table>\n",
       "</div>"
      ],
      "text/plain": [
       "                      Data AUC (GDSC) AUCPR (GDSC) AUC (PDX) AUCPR (PDX)  \\\n",
       "0               Expr + Mut       0.83         0.37      0.55        0.21   \n",
       "1  Expr + Mut (Fine-tuned)       0.83         0.37      0.57        0.22   \n",
       "\n",
       "  AUC (PDX-BRCA) AUCPR (PDX-BRCA) AUC (TCGA) AUCPR (TCGA) AUC (TCGA-BRCA)  \\\n",
       "0           0.51             0.27       0.56         0.74            0.59   \n",
       "1           0.59             0.32       0.56         0.74            0.59   \n",
       "\n",
       "  AUCPR (TCGA-BRCA) Sample Size (GDSC) Feature Size (GDSC)  \n",
       "0              0.85               6360                 845  \n",
       "1              0.85               6360                 845  "
      ]
     },
     "execution_count": 53,
     "metadata": {},
     "output_type": "execute_result"
    }
   ],
   "source": [
    "# create a dataframe with the prediction results \n",
    "\n",
    "em = {\"Data\": [\"Expr + Mut\", \"Expr + Mut (Fine-tuned)\"],\n",
    "       \"AUC (GDSC)\": [round(AUCT, 2), round(AUCT_finetuned[max_key_pdx], 2)],\n",
    "       \"AUCPR (GDSC)\": [round(AUCTaucpr,2), round(AUCTaucpr_finetuned[max_key_pdx],2)],\n",
    "       \"AUC (PDX)\": [round(AUCTpaclitaxel_pdx,2), round(AUCTpaclitaxel_pdx_finetuned[max_key_pdx],2)],\n",
    "       \"AUCPR (PDX)\":  [round(AUCTpaclitaxel_pdx_aucpr,2), round(AUCTpaclitaxel_pdx_aucpr_finetuned[max_key_pdx],2)],\n",
    "       \"AUC (PDX-BRCA)\":  [round(AUCTpaclitaxel_pdx_brca,2), round(AUCTpaclitaxel_pdx_brca_finetuned[max_key_pdx_brca],2)],\n",
    "       \"AUCPR (PDX-BRCA)\": [round(AUCTpaclitaxel_pdx_brca_aucpr,2), round(AUCTpaclitaxel_pdx_brca_aucpr_finetuned[max_key_pdx_brca],2)],\n",
    "       \"AUC (TCGA)\": [round(AUCTpaclitaxel_tcga,2), round(AUCTpaclitaxel_tcga_finetuned[max_key_tcga],2)],\n",
    "       \"AUCPR (TCGA)\":  [round(AUCTpaclitaxel_tcga_aucpr,2), round(AUCTpaclitaxel_tcga_aucpr_finetuned[max_key_tcga],2)],\n",
    "       \"AUC (TCGA-BRCA)\":  [round(AUCTpaclitaxel_tcga_brca,2), round(AUCTpaclitaxel_tcga_brca_finetuned[max_key_tcga_brca],2)],\n",
    "       \"AUCPR (TCGA-BRCA)\": [round(AUCTpaclitaxel_tcga_brca_aucpr,2), round(AUCTpaclitaxel_tcga_brca_aucpr_finetuned[max_key_tcga_brca],2)],\n",
    "       \"Sample Size (GDSC)\": [GDSCEv2.shape[0], GDSCEv2.shape[0]],\n",
    "       \"Feature Size (GDSC)\": [GDSCEv2.shape[1], GDSCEv2.shape[1]] \n",
    "}\n",
    "\n",
    "em_dataframe = pd.DataFrame.from_dict(em, orient='index').transpose() \n",
    "os.makedirs(save_results_to, exist_ok = True)\n",
    "em_dataframe.to_csv(save_results_to + \"GDSC_PDX_TCGA_Expression_Mutation_MITOSISi_Paclitaxel_First_Strategy.tsv\",\n",
    "                    sep = \"\\t\",\n",
    "                    index = False)\n",
    "\n",
    "em_dataframe"
   ]
  },
  {
   "cell_type": "code",
   "execution_count": 54,
   "metadata": {},
   "outputs": [
    {
     "name": "stdout",
     "output_type": "stream",
     "text": [
      "/Volumes/Expansion/Thesis Work/Results/Transfer Learning/Drugs with same pathways/MITOSISi/Expression_Mutation/Predictions/GDSC_PDX_TCGA_First_Strategy\n"
     ]
    }
   ],
   "source": [
    "# change directory\n",
    "\n",
    "os.chdir(save_results_to)\n",
    "print(os.getcwd())"
   ]
  },
  {
   "cell_type": "code",
   "execution_count": 55,
   "metadata": {},
   "outputs": [],
   "source": [
    "# save predictions\n",
    "\n",
    "file = open('GDSC_PDX_TCGA_MITOSISi_Paclitaxel_Predictions_First_Strategy (Expression and Mutation).txt', 'w')\n",
    "file.write(f\"GDSC Training (EM) AUC (MITOSISi): {round(AUCT,2)}\\n\")\n",
    "file.write(f\"GDSC Training (EM) AUCPR (MITOSISi): {round(AUCTaucpr,2)}\\n\\n\")\n",
    "\n",
    "file.write(f\"PDX Test (EM) AUC (Paclitaxel): {round(AUCTpaclitaxel_pdx,2)}\\n\")\n",
    "file.write(f\"PDX Test (EM) AUCPR (Paclitaxel): {round(AUCTpaclitaxel_pdx_aucpr,2)}\\n\\n\")\n",
    "\n",
    "file.write(f\"PDX Test (EM) AUC (Paclitaxel, BRCA): {round(AUCTpaclitaxel_pdx_brca,2)}\\n\")\n",
    "file.write(f\"PDX Test (EM) AUCPR (Paclitaxel, BRCA): {round(AUCTpaclitaxel_pdx_brca_aucpr,2)}\\n\\n\")\n",
    "\n",
    "file.write(f\"TCGA Test (EM) AUC (Paclitaxel): {round(AUCTpaclitaxel_tcga,2)}\\n\")\n",
    "file.write(f\"TCGA Test (EM) AUCPR (Paclitaxel): {round(AUCTpaclitaxel_tcga_aucpr,2)}\\n\\n\")\n",
    "\n",
    "file.write(f\"TCGA Test (EM) AUC (Paclitaxel, BRCA): {round(AUCTpaclitaxel_tcga_brca,2)}\\n\")\n",
    "file.write(f\"TCGA Test (EM) AUCPR (Paclitaxel, BRCA): {round(AUCTpaclitaxel_tcga_brca_aucpr,2)}\\n\")\n",
    "\n",
    "file.close()"
   ]
  }
 ],
 "metadata": {
  "kernelspec": {
   "display_name": "Python 3 (ipykernel)",
   "language": "python",
   "name": "python3"
  },
  "language_info": {
   "codemirror_mode": {
    "name": "ipython",
    "version": 3
   },
   "file_extension": ".py",
   "mimetype": "text/x-python",
   "name": "python",
   "nbconvert_exporter": "python",
   "pygments_lexer": "ipython3",
   "version": "3.12.7"
  }
 },
 "nbformat": 4,
 "nbformat_minor": 4
}
