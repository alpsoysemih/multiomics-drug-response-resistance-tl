{
 "cells": [
  {
   "cell_type": "code",
   "execution_count": 1,
   "metadata": {},
   "outputs": [],
   "source": [
    "# import libraries\n",
    "\n",
    "import os\n",
    "import torch \n",
    "import torch.nn as nn\n",
    "import torch.nn.functional as F\n",
    "import torch.optim as optim\n",
    "import numpy as np\n",
    "import matplotlib.pyplot as plt\n",
    "import pandas as pd\n",
    "import math\n",
    "import mygene\n",
    "import sklearn.preprocessing as sk\n",
    "import seaborn as sns\n",
    "from sklearn import metrics\n",
    "from sklearn.feature_selection import VarianceThreshold\n",
    "from sklearn.model_selection import train_test_split\n",
    "from sklearn.metrics import confusion_matrix\n",
    "from sklearn.metrics import classification_report\n",
    "from torch.utils.data.sampler import WeightedRandomSampler\n",
    "from sklearn.metrics import roc_curve, auc\n",
    "from sklearn.metrics import roc_auc_score\n",
    "from sklearn.metrics import average_precision_score, precision_recall_curve\n",
    "import random\n",
    "from random import randint\n",
    "from sklearn.model_selection import StratifiedKFold\n",
    "import warnings\n",
    "\n",
    "# Suppress all warnings\n",
    "warnings.filterwarnings(\"ignore\")"
   ]
  },
  {
   "cell_type": "code",
   "execution_count": 2,
   "metadata": {},
   "outputs": [],
   "source": [
    "# define directories\n",
    "\n",
    "cell_line_dir = \"/Volumes/Expansion/Thesis Work/Supplementary Files/GDSC/\"\n",
    "models_dir = \"/Volumes/Expansion/Thesis Work/Results/Transfer Learning/Drugs with same pathways/TCGA_DNA_REPi/Expression_CNA/Models/\"\n",
    "DEGs_dir = \"/Volumes/Expansion/Thesis Work/Results/GDSC_DEGs_inhibitors/DNA_REPi/\"\n",
    "dataset_dir = \"/Volumes/Expansion/Thesis Work/Results/preprocessed_results2/\"\n",
    "em_dir = \"/Volumes/Expansion/Thesis Work/Results/Transfer Learning/Drugs with same pathways/TCGA_DNA_REPi/Expression_Mutation/Predictions/\"\n",
    "emc_dir = \"/Volumes/Expansion/Thesis Work/Results/Transfer Learning/Drugs with same pathways/TCGA_DNA_REPi/Expression_Mutation_CNA/Predictions/\"\n",
    "save_results_to = \"/Volumes/Expansion/Thesis Work/Results/Transfer Learning/Drugs with same pathways/TCGA_DNA_REPi/Expression_CNA/Predictions/\"\n",
    "save_figures_to = \"/Volumes/Expansion/Thesis Work/Results/Transfer Learning/Drugs with same pathways/TCGA_DNA_REPi/Expression_CNA/Figures/\""
   ]
  },
  {
   "cell_type": "code",
   "execution_count": 3,
   "metadata": {},
   "outputs": [],
   "source": [
    "# set random seeds\n",
    "\n",
    "torch.manual_seed(42)\n",
    "random.seed(42)"
   ]
  },
  {
   "cell_type": "code",
   "execution_count": 4,
   "metadata": {},
   "outputs": [
    {
     "name": "stdout",
     "output_type": "stream",
     "text": [
      "/Volumes/Expansion/Thesis Work/Supplementary Files/GDSC\n"
     ]
    }
   ],
   "source": [
    "# change directory to read GDSC cell line details\n",
    "\n",
    "os.chdir(cell_line_dir)\n",
    "print(os.getcwd())"
   ]
  },
  {
   "cell_type": "code",
   "execution_count": 5,
   "metadata": {},
   "outputs": [
    {
     "data": {
      "text/html": [
       "<div>\n",
       "<style scoped>\n",
       "    .dataframe tbody tr th:only-of-type {\n",
       "        vertical-align: middle;\n",
       "    }\n",
       "\n",
       "    .dataframe tbody tr th {\n",
       "        vertical-align: top;\n",
       "    }\n",
       "\n",
       "    .dataframe thead th {\n",
       "        text-align: right;\n",
       "    }\n",
       "</style>\n",
       "<table border=\"1\" class=\"dataframe\">\n",
       "  <thead>\n",
       "    <tr style=\"text-align: right;\">\n",
       "      <th></th>\n",
       "      <th>Sample Name</th>\n",
       "      <th>Whole Exome Sequencing (WES)</th>\n",
       "      <th>Copy Number Alterations (CNA)</th>\n",
       "      <th>Gene Expression</th>\n",
       "      <th>Methylation</th>\n",
       "      <th>Drug\\nResponse</th>\n",
       "      <th>GDSC\\nTissue descriptor 1</th>\n",
       "      <th>GDSC\\nTissue\\ndescriptor 2</th>\n",
       "      <th>Cancer Type\\n(matching TCGA label)</th>\n",
       "      <th>Microsatellite \\ninstability Status (MSI)</th>\n",
       "      <th>Screen Medium</th>\n",
       "      <th>Growth Properties</th>\n",
       "    </tr>\n",
       "    <tr>\n",
       "      <th>COSMIC identifier</th>\n",
       "      <th></th>\n",
       "      <th></th>\n",
       "      <th></th>\n",
       "      <th></th>\n",
       "      <th></th>\n",
       "      <th></th>\n",
       "      <th></th>\n",
       "      <th></th>\n",
       "      <th></th>\n",
       "      <th></th>\n",
       "      <th></th>\n",
       "      <th></th>\n",
       "    </tr>\n",
       "  </thead>\n",
       "  <tbody>\n",
       "    <tr>\n",
       "      <th>1298218</th>\n",
       "      <td>KP-2</td>\n",
       "      <td>Y</td>\n",
       "      <td>N</td>\n",
       "      <td>Y</td>\n",
       "      <td>N</td>\n",
       "      <td>Y</td>\n",
       "      <td>pancreas</td>\n",
       "      <td>pancreas</td>\n",
       "      <td>PAAD</td>\n",
       "      <td></td>\n",
       "      <td>D/F12</td>\n",
       "      <td>Adherent</td>\n",
       "    </tr>\n",
       "    <tr>\n",
       "      <th>1330932</th>\n",
       "      <td>KO52</td>\n",
       "      <td>Y</td>\n",
       "      <td>Y</td>\n",
       "      <td>N</td>\n",
       "      <td>N</td>\n",
       "      <td>N</td>\n",
       "      <td>leukemia</td>\n",
       "      <td>acute_myeloid_leukaemia</td>\n",
       "      <td>LAML</td>\n",
       "      <td>MSS/MSI-L</td>\n",
       "      <td>D/F12</td>\n",
       "      <td>NA</td>\n",
       "    </tr>\n",
       "    <tr>\n",
       "      <th>1331030</th>\n",
       "      <td>SC-1</td>\n",
       "      <td>Y</td>\n",
       "      <td>Y</td>\n",
       "      <td>N</td>\n",
       "      <td>N</td>\n",
       "      <td>N</td>\n",
       "      <td>lymphoma</td>\n",
       "      <td>B_cell_lymphoma</td>\n",
       "      <td>DLBC</td>\n",
       "      <td>MSS/MSI-L</td>\n",
       "      <td>R</td>\n",
       "      <td>NA</td>\n",
       "    </tr>\n",
       "    <tr>\n",
       "      <th>1503373</th>\n",
       "      <td>U-CH2</td>\n",
       "      <td>Y</td>\n",
       "      <td>Y</td>\n",
       "      <td>N</td>\n",
       "      <td>N</td>\n",
       "      <td>N</td>\n",
       "      <td>bone</td>\n",
       "      <td>bone_other</td>\n",
       "      <td></td>\n",
       "      <td>MSS/MSI-L</td>\n",
       "      <td>D/F12</td>\n",
       "      <td>Adherent</td>\n",
       "    </tr>\n",
       "    <tr>\n",
       "      <th></th>\n",
       "      <td>TOTAL:</td>\n",
       "      <td>1001</td>\n",
       "      <td>996</td>\n",
       "      <td>968</td>\n",
       "      <td>957</td>\n",
       "      <td>990</td>\n",
       "      <td></td>\n",
       "      <td></td>\n",
       "      <td></td>\n",
       "      <td></td>\n",
       "      <td></td>\n",
       "      <td></td>\n",
       "    </tr>\n",
       "  </tbody>\n",
       "</table>\n",
       "</div>"
      ],
      "text/plain": [
       "                  Sample Name Whole Exome Sequencing (WES)  \\\n",
       "COSMIC identifier                                            \n",
       "1298218                  KP-2                            Y   \n",
       "1330932                  KO52                            Y   \n",
       "1331030                  SC-1                            Y   \n",
       "1503373                 U-CH2                            Y   \n",
       "                       TOTAL:                         1001   \n",
       "\n",
       "                  Copy Number Alterations (CNA) Gene Expression Methylation  \\\n",
       "COSMIC identifier                                                             \n",
       "1298218                                       N               Y           N   \n",
       "1330932                                       Y               N           N   \n",
       "1331030                                       Y               N           N   \n",
       "1503373                                       Y               N           N   \n",
       "                                            996             968         957   \n",
       "\n",
       "                  Drug\\nResponse GDSC\\nTissue descriptor 1  \\\n",
       "COSMIC identifier                                            \n",
       "1298218                        Y                  pancreas   \n",
       "1330932                        N                  leukemia   \n",
       "1331030                        N                  lymphoma   \n",
       "1503373                        N                      bone   \n",
       "                             990                             \n",
       "\n",
       "                  GDSC\\nTissue\\ndescriptor 2  \\\n",
       "COSMIC identifier                              \n",
       "1298218                             pancreas   \n",
       "1330932              acute_myeloid_leukaemia   \n",
       "1331030                      B_cell_lymphoma   \n",
       "1503373                           bone_other   \n",
       "                                               \n",
       "\n",
       "                  Cancer Type\\n(matching TCGA label)  \\\n",
       "COSMIC identifier                                      \n",
       "1298218                                         PAAD   \n",
       "1330932                                         LAML   \n",
       "1331030                                         DLBC   \n",
       "1503373                                                \n",
       "                                                       \n",
       "\n",
       "                  Microsatellite \\ninstability Status (MSI) Screen Medium  \\\n",
       "COSMIC identifier                                                           \n",
       "1298218                                                             D/F12   \n",
       "1330932                                           MSS/MSI-L         D/F12   \n",
       "1331030                                           MSS/MSI-L             R   \n",
       "1503373                                           MSS/MSI-L         D/F12   \n",
       "                                                                            \n",
       "\n",
       "                  Growth Properties  \n",
       "COSMIC identifier                    \n",
       "1298218                    Adherent  \n",
       "1330932                          NA  \n",
       "1331030                          NA  \n",
       "1503373                    Adherent  \n",
       "                                     "
      ]
     },
     "execution_count": 5,
     "metadata": {},
     "output_type": "execute_result"
    }
   ],
   "source": [
    "# read GDSC cell line details table\n",
    "\n",
    "GDSC_cell_line_details = pd.read_excel(\"GDSC_Cell_Lines_Details.xlsx\", keep_default_na = False)\n",
    "GDSC_cell_line_details.set_index(\"COSMIC identifier\", inplace = True)\n",
    "GDSC_cell_line_details.tail()"
   ]
  },
  {
   "cell_type": "code",
   "execution_count": 6,
   "metadata": {},
   "outputs": [
    {
     "name": "stdout",
     "output_type": "stream",
     "text": [
      "/Volumes/Expansion/Thesis Work/Results/preprocessed_results2/exprs\n"
     ]
    }
   ],
   "source": [
    "# change directory to read GDSC expression dataset (DNA_REPi)\n",
    "\n",
    "os.chdir(dataset_dir + \"/exprs/\")\n",
    "print(os.getcwd())"
   ]
  },
  {
   "cell_type": "code",
   "execution_count": 7,
   "metadata": {},
   "outputs": [
    {
     "data": {
      "text/html": [
       "<div>\n",
       "<style scoped>\n",
       "    .dataframe tbody tr th:only-of-type {\n",
       "        vertical-align: middle;\n",
       "    }\n",
       "\n",
       "    .dataframe tbody tr th {\n",
       "        vertical-align: top;\n",
       "    }\n",
       "\n",
       "    .dataframe thead th {\n",
       "        text-align: right;\n",
       "    }\n",
       "</style>\n",
       "<table border=\"1\" class=\"dataframe\">\n",
       "  <thead>\n",
       "    <tr style=\"text-align: right;\">\n",
       "      <th>ENTREZID</th>\n",
       "      <th>1</th>\n",
       "      <th>2</th>\n",
       "      <th>9</th>\n",
       "      <th>10</th>\n",
       "      <th>12</th>\n",
       "      <th>13</th>\n",
       "      <th>14</th>\n",
       "      <th>15</th>\n",
       "      <th>16</th>\n",
       "      <th>18</th>\n",
       "      <th>...</th>\n",
       "      <th>107984199</th>\n",
       "      <th>107984208</th>\n",
       "      <th>107984325</th>\n",
       "      <th>107984411</th>\n",
       "      <th>107984648</th>\n",
       "      <th>107984889</th>\n",
       "      <th>107984989</th>\n",
       "      <th>107986313</th>\n",
       "      <th>107986782</th>\n",
       "      <th>107986810</th>\n",
       "    </tr>\n",
       "  </thead>\n",
       "  <tbody>\n",
       "    <tr>\n",
       "      <th>683665</th>\n",
       "      <td>-0.4711563767951986</td>\n",
       "      <td>-0.1857522957766964</td>\n",
       "      <td>0.9702409548662462</td>\n",
       "      <td>-0.4081281805960821</td>\n",
       "      <td>-0.4161511169999803</td>\n",
       "      <td>-0.4384159723467665</td>\n",
       "      <td>-1.154692246005183</td>\n",
       "      <td>0.5262132484107975</td>\n",
       "      <td>-0.7950924576033422</td>\n",
       "      <td>-0.6337442716864214</td>\n",
       "      <td>...</td>\n",
       "      <td>1.283534690590172</td>\n",
       "      <td>-0.3367265464586691</td>\n",
       "      <td>-0.0039762988723447</td>\n",
       "      <td>0.7378729872604209</td>\n",
       "      <td>0.9757614264575688</td>\n",
       "      <td>0.1494417647095801</td>\n",
       "      <td>2.062294063911948</td>\n",
       "      <td>-0.8140636761719959</td>\n",
       "      <td>0.2870333828833719</td>\n",
       "      <td>0.9524265085537148</td>\n",
       "    </tr>\n",
       "    <tr>\n",
       "      <th>684055</th>\n",
       "      <td>1.3565140948247052</td>\n",
       "      <td>-0.277542411913307</td>\n",
       "      <td>0.0887087882196536</td>\n",
       "      <td>-0.2754829982302413</td>\n",
       "      <td>-0.5153856346587746</td>\n",
       "      <td>-0.6248712076433911</td>\n",
       "      <td>0.1243408990866293</td>\n",
       "      <td>-1.2699667684674136</td>\n",
       "      <td>2.0788360886382717</td>\n",
       "      <td>2.5197991997459197</td>\n",
       "      <td>...</td>\n",
       "      <td>-0.5571028630154293</td>\n",
       "      <td>-1.724090733574364</td>\n",
       "      <td>-0.3749080365068901</td>\n",
       "      <td>-0.0016055431935905</td>\n",
       "      <td>-0.3788535663547365</td>\n",
       "      <td>-1.3502092798315848</td>\n",
       "      <td>0.6949790577550328</td>\n",
       "      <td>0.4333032198982747</td>\n",
       "      <td>-0.1280986270308099</td>\n",
       "      <td>-1.629249958712223</td>\n",
       "    </tr>\n",
       "    <tr>\n",
       "      <th>684057</th>\n",
       "      <td>0.6510004960254864</td>\n",
       "      <td>1.6578876382433665</td>\n",
       "      <td>-0.4977106390881842</td>\n",
       "      <td>-0.1212172092933644</td>\n",
       "      <td>-0.398455281697677</td>\n",
       "      <td>-0.2804901106672752</td>\n",
       "      <td>0.6455898116420014</td>\n",
       "      <td>0.215833091774836</td>\n",
       "      <td>-0.1723595788875009</td>\n",
       "      <td>-0.2170870770552223</td>\n",
       "      <td>...</td>\n",
       "      <td>-0.024863133395904</td>\n",
       "      <td>0.4073439017665206</td>\n",
       "      <td>-0.4440356638831038</td>\n",
       "      <td>0.8630347078663075</td>\n",
       "      <td>1.4486171428489227</td>\n",
       "      <td>-1.4777214830771732</td>\n",
       "      <td>0.5220400480464272</td>\n",
       "      <td>0.6441211958947753</td>\n",
       "      <td>0.9057518606131394</td>\n",
       "      <td>0.3018783753479829</td>\n",
       "    </tr>\n",
       "  </tbody>\n",
       "</table>\n",
       "<p>3 rows × 18597 columns</p>\n",
       "</div>"
      ],
      "text/plain": [
       "ENTREZID            1                    2                    9          \\\n",
       "683665    -0.4711563767951986  -0.1857522957766964   0.9702409548662462   \n",
       "684055     1.3565140948247052   -0.277542411913307   0.0887087882196536   \n",
       "684057     0.6510004960254864   1.6578876382433665  -0.4977106390881842   \n",
       "\n",
       "ENTREZID            10                   12                   13         \\\n",
       "683665    -0.4081281805960821  -0.4161511169999803  -0.4384159723467665   \n",
       "684055    -0.2754829982302413  -0.5153856346587746  -0.6248712076433911   \n",
       "684057    -0.1212172092933644   -0.398455281697677  -0.2804901106672752   \n",
       "\n",
       "ENTREZID           14                   15                   16         \\\n",
       "683665    -1.154692246005183   0.5262132484107975  -0.7950924576033422   \n",
       "684055    0.1243408990866293  -1.2699667684674136   2.0788360886382717   \n",
       "684057    0.6455898116420014    0.215833091774836  -0.1723595788875009   \n",
       "\n",
       "ENTREZID            18         ...            107984199            107984208  \\\n",
       "683665    -0.6337442716864214  ...    1.283534690590172  -0.3367265464586691   \n",
       "684055     2.5197991997459197  ...  -0.5571028630154293   -1.724090733574364   \n",
       "684057    -0.2170870770552223  ...   -0.024863133395904   0.4073439017665206   \n",
       "\n",
       "ENTREZID            107984325            107984411            107984648  \\\n",
       "683665    -0.0039762988723447   0.7378729872604209   0.9757614264575688   \n",
       "684055    -0.3749080365068901  -0.0016055431935905  -0.3788535663547365   \n",
       "684057    -0.4440356638831038   0.8630347078663075   1.4486171428489227   \n",
       "\n",
       "ENTREZID            107984889           107984989            107986313  \\\n",
       "683665     0.1494417647095801   2.062294063911948  -0.8140636761719959   \n",
       "684055    -1.3502092798315848  0.6949790577550328   0.4333032198982747   \n",
       "684057    -1.4777214830771732  0.5220400480464272   0.6441211958947753   \n",
       "\n",
       "ENTREZID            107986782           107986810  \n",
       "683665     0.2870333828833719  0.9524265085537148  \n",
       "684055    -0.1280986270308099  -1.629249958712223  \n",
       "684057     0.9057518606131394  0.3018783753479829  \n",
       "\n",
       "[3 rows x 18597 columns]"
      ]
     },
     "execution_count": 7,
     "metadata": {},
     "output_type": "execute_result"
    }
   ],
   "source": [
    "# read GDSC expression dataset (DNA_REPi)\n",
    "\n",
    "GDSCE = pd.read_csv(\"GDSC_exprs.z.DNA_REPi.tsv\", \n",
    "                    sep = \"\\t\", index_col=0, decimal = \",\")\n",
    "GDSCE = pd.DataFrame.transpose(GDSCE)\n",
    "GDSCE.head(3)"
   ]
  },
  {
   "cell_type": "code",
   "execution_count": 8,
   "metadata": {},
   "outputs": [
    {
     "name": "stdout",
     "output_type": "stream",
     "text": [
      "/Volumes/Expansion/Thesis Work/Results/preprocessed_results2/CNA\n"
     ]
    }
   ],
   "source": [
    "# change directory to read GDSC CNA dataset (DNA_REPi)\n",
    "\n",
    "os.chdir(dataset_dir + \"/CNA/\")\n",
    "print(os.getcwd())"
   ]
  },
  {
   "cell_type": "code",
   "execution_count": 9,
   "metadata": {},
   "outputs": [
    {
     "data": {
      "text/html": [
       "<div>\n",
       "<style scoped>\n",
       "    .dataframe tbody tr th:only-of-type {\n",
       "        vertical-align: middle;\n",
       "    }\n",
       "\n",
       "    .dataframe tbody tr th {\n",
       "        vertical-align: top;\n",
       "    }\n",
       "\n",
       "    .dataframe thead th {\n",
       "        text-align: right;\n",
       "    }\n",
       "</style>\n",
       "<table border=\"1\" class=\"dataframe\">\n",
       "  <thead>\n",
       "    <tr style=\"text-align: right;\">\n",
       "      <th>gene_id</th>\n",
       "      <th>1</th>\n",
       "      <th>2</th>\n",
       "      <th>9</th>\n",
       "      <th>10</th>\n",
       "      <th>12</th>\n",
       "      <th>13</th>\n",
       "      <th>14</th>\n",
       "      <th>15</th>\n",
       "      <th>16</th>\n",
       "      <th>18</th>\n",
       "      <th>...</th>\n",
       "      <th>107985535</th>\n",
       "      <th>107985759</th>\n",
       "      <th>107986588</th>\n",
       "      <th>107986809</th>\n",
       "      <th>107986898</th>\n",
       "      <th>107987337</th>\n",
       "      <th>107987341</th>\n",
       "      <th>109731405</th>\n",
       "      <th>112441434</th>\n",
       "      <th>121676927</th>\n",
       "    </tr>\n",
       "  </thead>\n",
       "  <tbody>\n",
       "    <tr>\n",
       "      <th>683665</th>\n",
       "      <td>0.000000</td>\n",
       "      <td>0.000000</td>\n",
       "      <td>0.000000</td>\n",
       "      <td>0.000000</td>\n",
       "      <td>0.000000</td>\n",
       "      <td>0.000000</td>\n",
       "      <td>0.0</td>\n",
       "      <td>0.0</td>\n",
       "      <td>0.000000</td>\n",
       "      <td>0.000000</td>\n",
       "      <td>...</td>\n",
       "      <td>0.000000</td>\n",
       "      <td>0.000000</td>\n",
       "      <td>0.000000</td>\n",
       "      <td>0.000000</td>\n",
       "      <td>0.000000</td>\n",
       "      <td>0.00</td>\n",
       "      <td>1.807355</td>\n",
       "      <td>0.000000</td>\n",
       "      <td>0.000000</td>\n",
       "      <td>0.000000</td>\n",
       "    </tr>\n",
       "    <tr>\n",
       "      <th>684055</th>\n",
       "      <td>0.000000</td>\n",
       "      <td>0.584963</td>\n",
       "      <td>0.584963</td>\n",
       "      <td>0.584963</td>\n",
       "      <td>0.000000</td>\n",
       "      <td>0.000000</td>\n",
       "      <td>0.0</td>\n",
       "      <td>0.0</td>\n",
       "      <td>0.000000</td>\n",
       "      <td>0.000000</td>\n",
       "      <td>...</td>\n",
       "      <td>0.000000</td>\n",
       "      <td>0.584963</td>\n",
       "      <td>0.000000</td>\n",
       "      <td>0.584963</td>\n",
       "      <td>0.584963</td>\n",
       "      <td>-4.32</td>\n",
       "      <td>-4.320000</td>\n",
       "      <td>0.000000</td>\n",
       "      <td>0.000000</td>\n",
       "      <td>0.584963</td>\n",
       "    </tr>\n",
       "    <tr>\n",
       "      <th>684057</th>\n",
       "      <td>-0.415037</td>\n",
       "      <td>0.000000</td>\n",
       "      <td>0.584963</td>\n",
       "      <td>0.584963</td>\n",
       "      <td>-1.000000</td>\n",
       "      <td>0.000000</td>\n",
       "      <td>0.0</td>\n",
       "      <td>0.0</td>\n",
       "      <td>-0.415037</td>\n",
       "      <td>-0.415037</td>\n",
       "      <td>...</td>\n",
       "      <td>-0.415037</td>\n",
       "      <td>0.000000</td>\n",
       "      <td>0.000000</td>\n",
       "      <td>0.000000</td>\n",
       "      <td>0.807355</td>\n",
       "      <td>-1.00</td>\n",
       "      <td>-1.000000</td>\n",
       "      <td>-0.415037</td>\n",
       "      <td>-0.415037</td>\n",
       "      <td>0.807355</td>\n",
       "    </tr>\n",
       "    <tr>\n",
       "      <th>684059</th>\n",
       "      <td>0.000000</td>\n",
       "      <td>0.000000</td>\n",
       "      <td>0.000000</td>\n",
       "      <td>0.000000</td>\n",
       "      <td>0.000000</td>\n",
       "      <td>0.415037</td>\n",
       "      <td>0.0</td>\n",
       "      <td>0.0</td>\n",
       "      <td>0.000000</td>\n",
       "      <td>0.415037</td>\n",
       "      <td>...</td>\n",
       "      <td>0.000000</td>\n",
       "      <td>0.000000</td>\n",
       "      <td>0.415037</td>\n",
       "      <td>0.000000</td>\n",
       "      <td>0.415037</td>\n",
       "      <td>-4.32</td>\n",
       "      <td>-4.320000</td>\n",
       "      <td>0.000000</td>\n",
       "      <td>0.000000</td>\n",
       "      <td>0.736966</td>\n",
       "    </tr>\n",
       "    <tr>\n",
       "      <th>684062</th>\n",
       "      <td>-0.415037</td>\n",
       "      <td>0.000000</td>\n",
       "      <td>0.321928</td>\n",
       "      <td>0.321928</td>\n",
       "      <td>-0.415037</td>\n",
       "      <td>-0.415037</td>\n",
       "      <td>0.0</td>\n",
       "      <td>0.0</td>\n",
       "      <td>-0.415037</td>\n",
       "      <td>0.000000</td>\n",
       "      <td>...</td>\n",
       "      <td>-0.415037</td>\n",
       "      <td>0.000000</td>\n",
       "      <td>0.000000</td>\n",
       "      <td>0.000000</td>\n",
       "      <td>0.321928</td>\n",
       "      <td>-4.32</td>\n",
       "      <td>-4.320000</td>\n",
       "      <td>-0.415037</td>\n",
       "      <td>-1.000000</td>\n",
       "      <td>0.321928</td>\n",
       "    </tr>\n",
       "  </tbody>\n",
       "</table>\n",
       "<p>5 rows × 24402 columns</p>\n",
       "</div>"
      ],
      "text/plain": [
       "gene_id  1          2          9          10         12         13         \\\n",
       "683665    0.000000   0.000000   0.000000   0.000000   0.000000   0.000000   \n",
       "684055    0.000000   0.584963   0.584963   0.584963   0.000000   0.000000   \n",
       "684057   -0.415037   0.000000   0.584963   0.584963  -1.000000   0.000000   \n",
       "684059    0.000000   0.000000   0.000000   0.000000   0.000000   0.415037   \n",
       "684062   -0.415037   0.000000   0.321928   0.321928  -0.415037  -0.415037   \n",
       "\n",
       "gene_id  14         15         16         18         ...  107985535  \\\n",
       "683665         0.0        0.0   0.000000   0.000000  ...   0.000000   \n",
       "684055         0.0        0.0   0.000000   0.000000  ...   0.000000   \n",
       "684057         0.0        0.0  -0.415037  -0.415037  ...  -0.415037   \n",
       "684059         0.0        0.0   0.000000   0.415037  ...   0.000000   \n",
       "684062         0.0        0.0  -0.415037   0.000000  ...  -0.415037   \n",
       "\n",
       "gene_id  107985759  107986588  107986809  107986898  107987337  107987341  \\\n",
       "683665    0.000000   0.000000   0.000000   0.000000       0.00   1.807355   \n",
       "684055    0.584963   0.000000   0.584963   0.584963      -4.32  -4.320000   \n",
       "684057    0.000000   0.000000   0.000000   0.807355      -1.00  -1.000000   \n",
       "684059    0.000000   0.415037   0.000000   0.415037      -4.32  -4.320000   \n",
       "684062    0.000000   0.000000   0.000000   0.321928      -4.32  -4.320000   \n",
       "\n",
       "gene_id  109731405  112441434  121676927  \n",
       "683665    0.000000   0.000000   0.000000  \n",
       "684055    0.000000   0.000000   0.584963  \n",
       "684057   -0.415037  -0.415037   0.807355  \n",
       "684059    0.000000   0.000000   0.736966  \n",
       "684062   -0.415037  -1.000000   0.321928  \n",
       "\n",
       "[5 rows x 24402 columns]"
      ]
     },
     "execution_count": 9,
     "metadata": {},
     "output_type": "execute_result"
    }
   ],
   "source": [
    "# read GDSC CNA dataset (DNA_REPi)\n",
    "\n",
    "GDSCC = pd.read_csv(\"GDSC_CNA.DNA_REPi.tsv\",\n",
    "                    sep=\"\\t\", index_col=0, decimal=\".\")\n",
    "GDSCC.drop_duplicates(keep='last')\n",
    "GDSCC = pd.DataFrame.transpose(GDSCC)\n",
    "GDSCC = GDSCC.loc[:, ~GDSCC.columns.duplicated()]\n",
    "\n",
    "GDSCC.head()"
   ]
  },
  {
   "cell_type": "code",
   "execution_count": 10,
   "metadata": {},
   "outputs": [
    {
     "name": "stdout",
     "output_type": "stream",
     "text": [
      "/Volumes/Expansion/Thesis Work/Results/preprocessed_results2/response\n"
     ]
    }
   ],
   "source": [
    "# change directory to read GDSC response dataset (DNA_REPi)\n",
    "\n",
    "os.chdir(dataset_dir + \"/response/\")\n",
    "print(os.getcwd())"
   ]
  },
  {
   "cell_type": "code",
   "execution_count": 11,
   "metadata": {},
   "outputs": [
    {
     "data": {
      "text/html": [
       "<div>\n",
       "<style scoped>\n",
       "    .dataframe tbody tr th:only-of-type {\n",
       "        vertical-align: middle;\n",
       "    }\n",
       "\n",
       "    .dataframe tbody tr th {\n",
       "        vertical-align: top;\n",
       "    }\n",
       "\n",
       "    .dataframe thead th {\n",
       "        text-align: right;\n",
       "    }\n",
       "</style>\n",
       "<table border=\"1\" class=\"dataframe\">\n",
       "  <thead>\n",
       "    <tr style=\"text-align: right;\">\n",
       "      <th></th>\n",
       "      <th>response</th>\n",
       "      <th>logIC50</th>\n",
       "      <th>drug</th>\n",
       "      <th>exprs</th>\n",
       "      <th>CNA</th>\n",
       "      <th>mutations</th>\n",
       "    </tr>\n",
       "    <tr>\n",
       "      <th>sample_name</th>\n",
       "      <th></th>\n",
       "      <th></th>\n",
       "      <th></th>\n",
       "      <th></th>\n",
       "      <th></th>\n",
       "      <th></th>\n",
       "    </tr>\n",
       "  </thead>\n",
       "  <tbody>\n",
       "    <tr>\n",
       "      <th>683665</th>\n",
       "      <td>0</td>\n",
       "      <td>5.12075503641523</td>\n",
       "      <td>Pyrimethamine</td>\n",
       "      <td>1</td>\n",
       "      <td>1</td>\n",
       "      <td>1</td>\n",
       "    </tr>\n",
       "    <tr>\n",
       "      <th>683665</th>\n",
       "      <td>0</td>\n",
       "      <td>-3.03711635474651</td>\n",
       "      <td>Doxorubicin</td>\n",
       "      <td>1</td>\n",
       "      <td>1</td>\n",
       "      <td>1</td>\n",
       "    </tr>\n",
       "    <tr>\n",
       "      <th>683665</th>\n",
       "      <td>0</td>\n",
       "      <td>-0.712119156515401</td>\n",
       "      <td>Etoposide</td>\n",
       "      <td>1</td>\n",
       "      <td>1</td>\n",
       "      <td>1</td>\n",
       "    </tr>\n",
       "    <tr>\n",
       "      <th>683665</th>\n",
       "      <td>0</td>\n",
       "      <td>-4.40897202584936</td>\n",
       "      <td>Gemcitabine</td>\n",
       "      <td>1</td>\n",
       "      <td>1</td>\n",
       "      <td>1</td>\n",
       "    </tr>\n",
       "    <tr>\n",
       "      <th>683665</th>\n",
       "      <td>0</td>\n",
       "      <td>-1.59752443691324</td>\n",
       "      <td>Mitomycin C</td>\n",
       "      <td>1</td>\n",
       "      <td>1</td>\n",
       "      <td>1</td>\n",
       "    </tr>\n",
       "  </tbody>\n",
       "</table>\n",
       "</div>"
      ],
      "text/plain": [
       "             response             logIC50           drug  exprs  CNA  \\\n",
       "sample_name                                                            \n",
       "683665              0    5.12075503641523  Pyrimethamine      1    1   \n",
       "683665              0   -3.03711635474651    Doxorubicin      1    1   \n",
       "683665              0  -0.712119156515401      Etoposide      1    1   \n",
       "683665              0   -4.40897202584936    Gemcitabine      1    1   \n",
       "683665              0   -1.59752443691324    Mitomycin C      1    1   \n",
       "\n",
       "             mutations  \n",
       "sample_name             \n",
       "683665               1  \n",
       "683665               1  \n",
       "683665               1  \n",
       "683665               1  \n",
       "683665               1  "
      ]
     },
     "execution_count": 11,
     "metadata": {},
     "output_type": "execute_result"
    }
   ],
   "source": [
    "# read GDSC response dataset (DNA_REPi)\n",
    "\n",
    "GDSCR = pd.read_csv(\"GDSC_response.DNA_REPi.tsv\",\n",
    "                    sep=\"\\t\",\n",
    "                    index_col=0,\n",
    "                    decimal=\",\")\n",
    "GDSCR.dropna(inplace=True)\n",
    "GDSCR.rename(mapper=str, axis='index', inplace=True)\n",
    "d = {\"R\": 0, \"S\": 1}\n",
    "GDSCR[\"response\"] = GDSCR.loc[:, \"response\"].apply(lambda x: d[x])\n",
    "\n",
    "GDSCR.head()"
   ]
  },
  {
   "cell_type": "code",
   "execution_count": 12,
   "metadata": {
    "scrolled": true
   },
   "outputs": [
    {
     "data": {
      "text/plain": [
       "drug\n",
       "Etoposide         775\n",
       "SN-38             771\n",
       "Mitomycin C       767\n",
       "Doxorubicin       766\n",
       "5-Fluorouracil    764\n",
       "Gemcitabine       761\n",
       "Bleomycin         759\n",
       "Temozolomide      752\n",
       "Cisplatin         738\n",
       "Methotrexate      738\n",
       "Camptothecin      737\n",
       "Cytarabine        735\n",
       "Pyrimethamine     372\n",
       "Name: count, dtype: int64"
      ]
     },
     "execution_count": 12,
     "metadata": {},
     "output_type": "execute_result"
    }
   ],
   "source": [
    "# print count of cell lines for each drug (DNA_REPi)\n",
    "\n",
    "GDSCR[\"drug\"].value_counts()"
   ]
  },
  {
   "cell_type": "code",
   "execution_count": 13,
   "metadata": {
    "scrolled": true
   },
   "outputs": [
    {
     "data": {
      "image/png": "[encoded data removed]",
      "text/plain": [
       "<Figure size 1000x600 with 1 Axes>"
      ]
     },
     "metadata": {},
     "output_type": "display_data"
    }
   ],
   "source": [
    "# plot DNA replication inhibitors with their counts\n",
    "\n",
    "gdsc_drugs = dict(GDSCR[\"drug\"].value_counts())\n",
    "gdsc_drugs = dict(sorted(gdsc_drugs.items(), key=lambda item: item[1], reverse=False))\n",
    "drug_names = list(gdsc_drugs.keys())\n",
    "drug_values = list(gdsc_drugs.values())\n",
    "\n",
    "plt.figure(figsize=(10, 6))\n",
    "bars = plt.barh(drug_names, drug_values, color='skyblue')\n",
    "\n",
    "for bar, value in zip(bars, drug_values):\n",
    "    plt.text(value + 5, bar.get_y() + bar.get_height()/2, str(value), va='center')\n",
    "    \n",
    "bars = []\n",
    "\n",
    "for name, value in zip(drug_names, drug_values):\n",
    "    if name == \"Cisplatin\":\n",
    "        bars.append(plt.barh(name, value, color='red'))\n",
    "    else:\n",
    "        bars.append(plt.barh(name, value, color='skyblue'))\n",
    "plt.xlabel('Count of inhibitors', fontweight='bold', labelpad=15)\n",
    "plt.title(f'DNA replication inhibitors (n={len(drug_names)}) screened against cancer cell lines (GDSC, N={sum(drug_values)})',\n",
    "          fontweight='bold',\n",
    "          fontsize=11,\n",
    "          pad=20)\n",
    "plt.xlim(0, 850)  \n",
    "plt.grid(axis='x')\n",
    "os.makedirs(save_figures_to, exist_ok = True)\n",
    "plt.savefig(save_figures_to + 'DNA Replication Inhibitors with Their Counts (GDSC, Cisplatin).png', format='png', bbox_inches='tight')\n",
    "\n",
    "plt.show()"
   ]
  },
  {
   "cell_type": "code",
   "execution_count": 14,
   "metadata": {},
   "outputs": [
    {
     "name": "stdout",
     "output_type": "stream",
     "text": [
      "/Volumes/Expansion/Thesis Work/Results/preprocessed_results2/exprs_homogenized\n"
     ]
    }
   ],
   "source": [
    "# change directory to read TCGA expression dataset homogenized with GDSC expression dataset (Cisplatin)\n",
    "\n",
    "os.chdir(dataset_dir + \"/exprs_homogenized/\")\n",
    "print(os.getcwd())"
   ]
  },
  {
   "cell_type": "code",
   "execution_count": 15,
   "metadata": {},
   "outputs": [
    {
     "data": {
      "text/html": [
       "<div>\n",
       "<style scoped>\n",
       "    .dataframe tbody tr th:only-of-type {\n",
       "        vertical-align: middle;\n",
       "    }\n",
       "\n",
       "    .dataframe tbody tr th {\n",
       "        vertical-align: top;\n",
       "    }\n",
       "\n",
       "    .dataframe thead th {\n",
       "        text-align: right;\n",
       "    }\n",
       "</style>\n",
       "<table border=\"1\" class=\"dataframe\">\n",
       "  <thead>\n",
       "    <tr style=\"text-align: right;\">\n",
       "      <th>ENTREZID</th>\n",
       "      <th>1</th>\n",
       "      <th>2</th>\n",
       "      <th>9</th>\n",
       "      <th>10</th>\n",
       "      <th>12</th>\n",
       "      <th>13</th>\n",
       "      <th>14</th>\n",
       "      <th>15</th>\n",
       "      <th>16</th>\n",
       "      <th>18</th>\n",
       "      <th>...</th>\n",
       "      <th>100188893</th>\n",
       "      <th>100190940</th>\n",
       "      <th>100190949</th>\n",
       "      <th>100191040</th>\n",
       "      <th>100192386</th>\n",
       "      <th>100268168</th>\n",
       "      <th>100271715</th>\n",
       "      <th>100287718</th>\n",
       "      <th>100288778</th>\n",
       "      <th>100289635</th>\n",
       "    </tr>\n",
       "  </thead>\n",
       "  <tbody>\n",
       "    <tr>\n",
       "      <th>TCGA-3B-A9HT-01A</th>\n",
       "      <td>4.81366326511911</td>\n",
       "      <td>6.90588058929056</td>\n",
       "      <td>7.28792978013405</td>\n",
       "      <td>2.82740736787</td>\n",
       "      <td>4.160259560633</td>\n",
       "      <td>2.48501823090881</td>\n",
       "      <td>8.49326947598111</td>\n",
       "      <td>2.7294837261655</td>\n",
       "      <td>9.2940474880707</td>\n",
       "      <td>3.7263445184204</td>\n",
       "      <td>...</td>\n",
       "      <td>9.48408428341014</td>\n",
       "      <td>2.84248002627717</td>\n",
       "      <td>2.79923598179059</td>\n",
       "      <td>3.14372627923905</td>\n",
       "      <td>2.81381378171936</td>\n",
       "      <td>2.67246444782135</td>\n",
       "      <td>2.40864068637175</td>\n",
       "      <td>2.79909224555968</td>\n",
       "      <td>4.26862543327281</td>\n",
       "      <td>4.10488574519165</td>\n",
       "    </tr>\n",
       "    <tr>\n",
       "      <th>TCGA-B7-A5TN-01A</th>\n",
       "      <td>3.59835913173055</td>\n",
       "      <td>7.05758623769129</td>\n",
       "      <td>6.38284534468598</td>\n",
       "      <td>3.69159217764028</td>\n",
       "      <td>6.02278673577733</td>\n",
       "      <td>5.13381978626662</td>\n",
       "      <td>7.83837956597428</td>\n",
       "      <td>2.56971659684603</td>\n",
       "      <td>7.60783718355108</td>\n",
       "      <td>4.93038074450586</td>\n",
       "      <td>...</td>\n",
       "      <td>9.11203143915675</td>\n",
       "      <td>2.84248002627717</td>\n",
       "      <td>2.87676029314036</td>\n",
       "      <td>4.529732927748</td>\n",
       "      <td>2.91852230508839</td>\n",
       "      <td>2.58945785388122</td>\n",
       "      <td>2.4118120370575</td>\n",
       "      <td>2.79909224555968</td>\n",
       "      <td>3.85489562164745</td>\n",
       "      <td>5.19393132629067</td>\n",
       "    </tr>\n",
       "    <tr>\n",
       "      <th>TCGA-BA-A4IF-01A</th>\n",
       "      <td>3.6387513624083</td>\n",
       "      <td>3.50568983094232</td>\n",
       "      <td>7.00534226807151</td>\n",
       "      <td>2.82740736787</td>\n",
       "      <td>3.6684842125734</td>\n",
       "      <td>3.83997981618545</td>\n",
       "      <td>8.79244234307359</td>\n",
       "      <td>2.71465281463663</td>\n",
       "      <td>9.05071416661714</td>\n",
       "      <td>6.0607542432723</td>\n",
       "      <td>...</td>\n",
       "      <td>9.35461690949584</td>\n",
       "      <td>2.84248002627717</td>\n",
       "      <td>2.79923598179059</td>\n",
       "      <td>3.38499009274846</td>\n",
       "      <td>3.26675151239393</td>\n",
       "      <td>2.5682276993458</td>\n",
       "      <td>2.99841365650393</td>\n",
       "      <td>2.79909224555968</td>\n",
       "      <td>4.02262450424724</td>\n",
       "      <td>4.42294030595364</td>\n",
       "    </tr>\n",
       "  </tbody>\n",
       "</table>\n",
       "<p>3 rows × 18197 columns</p>\n",
       "</div>"
      ],
      "text/plain": [
       "ENTREZID                 1                 2                 9          \\\n",
       "TCGA-3B-A9HT-01A  4.81366326511911  6.90588058929056  7.28792978013405   \n",
       "TCGA-B7-A5TN-01A  3.59835913173055  7.05758623769129  6.38284534468598   \n",
       "TCGA-BA-A4IF-01A   3.6387513624083  3.50568983094232  7.00534226807151   \n",
       "\n",
       "ENTREZID                 10                12                13         \\\n",
       "TCGA-3B-A9HT-01A     2.82740736787    4.160259560633  2.48501823090881   \n",
       "TCGA-B7-A5TN-01A  3.69159217764028  6.02278673577733  5.13381978626662   \n",
       "TCGA-BA-A4IF-01A     2.82740736787   3.6684842125734  3.83997981618545   \n",
       "\n",
       "ENTREZID                 14                15                16         \\\n",
       "TCGA-3B-A9HT-01A  8.49326947598111   2.7294837261655   9.2940474880707   \n",
       "TCGA-B7-A5TN-01A  7.83837956597428  2.56971659684603  7.60783718355108   \n",
       "TCGA-BA-A4IF-01A  8.79244234307359  2.71465281463663  9.05071416661714   \n",
       "\n",
       "ENTREZID                 18         ...         100188893         100190940  \\\n",
       "TCGA-3B-A9HT-01A   3.7263445184204  ...  9.48408428341014  2.84248002627717   \n",
       "TCGA-B7-A5TN-01A  4.93038074450586  ...  9.11203143915675  2.84248002627717   \n",
       "TCGA-BA-A4IF-01A   6.0607542432723  ...  9.35461690949584  2.84248002627717   \n",
       "\n",
       "ENTREZID                 100190949         100191040         100192386  \\\n",
       "TCGA-3B-A9HT-01A  2.79923598179059  3.14372627923905  2.81381378171936   \n",
       "TCGA-B7-A5TN-01A  2.87676029314036    4.529732927748  2.91852230508839   \n",
       "TCGA-BA-A4IF-01A  2.79923598179059  3.38499009274846  3.26675151239393   \n",
       "\n",
       "ENTREZID                 100268168         100271715         100287718  \\\n",
       "TCGA-3B-A9HT-01A  2.67246444782135  2.40864068637175  2.79909224555968   \n",
       "TCGA-B7-A5TN-01A  2.58945785388122   2.4118120370575  2.79909224555968   \n",
       "TCGA-BA-A4IF-01A   2.5682276993458  2.99841365650393  2.79909224555968   \n",
       "\n",
       "ENTREZID                 100288778         100289635  \n",
       "TCGA-3B-A9HT-01A  4.26862543327281  4.10488574519165  \n",
       "TCGA-B7-A5TN-01A  3.85489562164745  5.19393132629067  \n",
       "TCGA-BA-A4IF-01A  4.02262450424724  4.42294030595364  \n",
       "\n",
       "[3 rows x 18197 columns]"
      ]
     },
     "execution_count": 15,
     "metadata": {},
     "output_type": "execute_result"
    }
   ],
   "source": [
    "# read TCGA expression dataset homogenized with GDSC expression dataset (Cisplatin)\n",
    "\n",
    "TCGAEcisplatin = pd.read_csv(\"TCGA_exprs.Cisplatin.eb_with.GDSC_exprs.Cisplatin.tsv\",\n",
    "                   sep = \"\\t\", index_col=0, decimal = \",\")\n",
    "TCGAEcisplatin = pd.DataFrame.transpose(TCGAEcisplatin)\n",
    "TCGAEcisplatin.head(3)"
   ]
  },
  {
   "cell_type": "code",
   "execution_count": 16,
   "metadata": {},
   "outputs": [
    {
     "data": {
      "text/plain": [
       "'/Volumes/Expansion/Thesis Work/Results/preprocessed_results2/CNA'"
      ]
     },
     "execution_count": 16,
     "metadata": {},
     "output_type": "execute_result"
    }
   ],
   "source": [
    "# change directory to read TCGA CNA dataset (Cisplatin)\n",
    "\n",
    "os.chdir(dataset_dir + \"CNA\")\n",
    "os.getcwd()"
   ]
  },
  {
   "cell_type": "code",
   "execution_count": 17,
   "metadata": {},
   "outputs": [
    {
     "data": {
      "text/html": [
       "<div>\n",
       "<style scoped>\n",
       "    .dataframe tbody tr th:only-of-type {\n",
       "        vertical-align: middle;\n",
       "    }\n",
       "\n",
       "    .dataframe tbody tr th {\n",
       "        vertical-align: top;\n",
       "    }\n",
       "\n",
       "    .dataframe thead th {\n",
       "        text-align: right;\n",
       "    }\n",
       "</style>\n",
       "<table border=\"1\" class=\"dataframe\">\n",
       "  <thead>\n",
       "    <tr style=\"text-align: right;\">\n",
       "      <th></th>\n",
       "      <th>26</th>\n",
       "      <th>27</th>\n",
       "      <th>58</th>\n",
       "      <th>88</th>\n",
       "      <th>95</th>\n",
       "      <th>103</th>\n",
       "      <th>134</th>\n",
       "      <th>137</th>\n",
       "      <th>142</th>\n",
       "      <th>159</th>\n",
       "      <th>...</th>\n",
       "      <th>100422827</th>\n",
       "      <th>100423000</th>\n",
       "      <th>100507338</th>\n",
       "      <th>100507384</th>\n",
       "      <th>100507401</th>\n",
       "      <th>100507417</th>\n",
       "      <th>100507606</th>\n",
       "      <th>100616222</th>\n",
       "      <th>100616368</th>\n",
       "      <th>100652976</th>\n",
       "    </tr>\n",
       "  </thead>\n",
       "  <tbody>\n",
       "    <tr>\n",
       "      <th>TCGA-3B-A9HT-01A</th>\n",
       "      <td>0.0</td>\n",
       "      <td>0.0</td>\n",
       "      <td>0.0</td>\n",
       "      <td>0.0</td>\n",
       "      <td>0.0</td>\n",
       "      <td>0.0</td>\n",
       "      <td>0.0</td>\n",
       "      <td>0.0</td>\n",
       "      <td>0.0</td>\n",
       "      <td>0.0</td>\n",
       "      <td>...</td>\n",
       "      <td>0.0</td>\n",
       "      <td>0.0</td>\n",
       "      <td>0.0</td>\n",
       "      <td>0.0</td>\n",
       "      <td>0.0</td>\n",
       "      <td>0.0</td>\n",
       "      <td>0.0</td>\n",
       "      <td>0.0</td>\n",
       "      <td>0.0</td>\n",
       "      <td>0.0</td>\n",
       "    </tr>\n",
       "    <tr>\n",
       "      <th>TCGA-B7-A5TN-01A</th>\n",
       "      <td>-0.4166</td>\n",
       "      <td>0.0</td>\n",
       "      <td>0.0</td>\n",
       "      <td>0.0</td>\n",
       "      <td>-0.2693</td>\n",
       "      <td>0.3406</td>\n",
       "      <td>0.0</td>\n",
       "      <td>0.0</td>\n",
       "      <td>0.0</td>\n",
       "      <td>0.0</td>\n",
       "      <td>...</td>\n",
       "      <td>0.3357</td>\n",
       "      <td>0.3357</td>\n",
       "      <td>0.3357</td>\n",
       "      <td>0.3357</td>\n",
       "      <td>0.3357</td>\n",
       "      <td>0.3357</td>\n",
       "      <td>0.3357</td>\n",
       "      <td>0.3357</td>\n",
       "      <td>0.3357</td>\n",
       "      <td>0.3357</td>\n",
       "    </tr>\n",
       "    <tr>\n",
       "      <th>TCGA-BA-A4IF-01A</th>\n",
       "      <td>0.0</td>\n",
       "      <td>0.0</td>\n",
       "      <td>0.0</td>\n",
       "      <td>0.0</td>\n",
       "      <td>-0.3029</td>\n",
       "      <td>0.0</td>\n",
       "      <td>0.0</td>\n",
       "      <td>0.0</td>\n",
       "      <td>0.0</td>\n",
       "      <td>0.0</td>\n",
       "      <td>...</td>\n",
       "      <td>0.0</td>\n",
       "      <td>0.0</td>\n",
       "      <td>0.0</td>\n",
       "      <td>0.0</td>\n",
       "      <td>0.0</td>\n",
       "      <td>0.0</td>\n",
       "      <td>0.0</td>\n",
       "      <td>0.0</td>\n",
       "      <td>0.0</td>\n",
       "      <td>0.0</td>\n",
       "    </tr>\n",
       "  </tbody>\n",
       "</table>\n",
       "<p>3 rows × 31922 columns</p>\n",
       "</div>"
      ],
      "text/plain": [
       "                 26        27        58        88        95        103        \\\n",
       "TCGA-3B-A9HT-01A       0.0       0.0       0.0       0.0       0.0       0.0   \n",
       "TCGA-B7-A5TN-01A   -0.4166       0.0       0.0       0.0   -0.2693    0.3406   \n",
       "TCGA-BA-A4IF-01A       0.0       0.0       0.0       0.0   -0.3029       0.0   \n",
       "\n",
       "                 134       137       142       159        ... 100422827  \\\n",
       "TCGA-3B-A9HT-01A       0.0       0.0       0.0       0.0  ...       0.0   \n",
       "TCGA-B7-A5TN-01A       0.0       0.0       0.0       0.0  ...    0.3357   \n",
       "TCGA-BA-A4IF-01A       0.0       0.0       0.0       0.0  ...       0.0   \n",
       "\n",
       "                 100423000 100507338 100507384 100507401 100507417 100507606  \\\n",
       "TCGA-3B-A9HT-01A       0.0       0.0       0.0       0.0       0.0       0.0   \n",
       "TCGA-B7-A5TN-01A    0.3357    0.3357    0.3357    0.3357    0.3357    0.3357   \n",
       "TCGA-BA-A4IF-01A       0.0       0.0       0.0       0.0       0.0       0.0   \n",
       "\n",
       "                 100616222 100616368 100652976  \n",
       "TCGA-3B-A9HT-01A       0.0       0.0       0.0  \n",
       "TCGA-B7-A5TN-01A    0.3357    0.3357    0.3357  \n",
       "TCGA-BA-A4IF-01A       0.0       0.0       0.0  \n",
       "\n",
       "[3 rows x 31922 columns]"
      ]
     },
     "execution_count": 17,
     "metadata": {},
     "output_type": "execute_result"
    }
   ],
   "source": [
    "# read TCGA CNA dataset (Cisplatin)\n",
    "\n",
    "TCGACcisplatin = pd.read_csv(\"TCGA_CNA.Cisplatin.tsv\",\n",
    "                        sep=\"\\t\", index_col=0, decimal=\",\")\n",
    "TCGACcisplatin.drop_duplicates(keep='last')\n",
    "TCGACcisplatin = pd.DataFrame.transpose(TCGACcisplatin)\n",
    "TCGACcisplatin = TCGACcisplatin.loc[:, ~TCGACcisplatin.columns.duplicated()]\n",
    "\n",
    "TCGACcisplatin.head(3)"
   ]
  },
  {
   "cell_type": "code",
   "execution_count": 18,
   "metadata": {},
   "outputs": [],
   "source": [
    "# variance threshold for GDSC expression dataset (DNA_REPi)\n",
    "\n",
    "selector = VarianceThreshold(0.05)\n",
    "selector.fit_transform(GDSCE)\n",
    "GDSCE = GDSCE[GDSCE.columns[selector.get_support(indices=True)]]"
   ]
  },
  {
   "cell_type": "code",
   "execution_count": 19,
   "metadata": {},
   "outputs": [],
   "source": [
    "# fill NA values and binarize GDSC CNA dataset (DNA_REPi)\n",
    "\n",
    "GDSCC = GDSCC.fillna(0)\n",
    "GDSCC[GDSCC != 0.0] = 1"
   ]
  },
  {
   "cell_type": "code",
   "execution_count": 20,
   "metadata": {},
   "outputs": [
    {
     "name": "stdout",
     "output_type": "stream",
     "text": [
      "GDSC and TCGA # of common genes: 16389\n"
     ]
    }
   ],
   "source": [
    "# select shared genes between GDSC and TCGA expression and CNA datasets \n",
    "\n",
    "ls = GDSCE.columns.intersection(GDSCC.columns)\n",
    "ls = ls.intersection(TCGAEcisplatin.columns)\n",
    "ls = ls.intersection(TCGACcisplatin.columns)\n",
    "\n",
    "ls = pd.unique(ls)\n",
    "\n",
    "print(f\"GDSC and TCGA # of common genes: {ls.shape[0]}\")"
   ]
  },
  {
   "cell_type": "code",
   "execution_count": 21,
   "metadata": {},
   "outputs": [
    {
     "name": "stdout",
     "output_type": "stream",
     "text": [
      "GDSC # of common cell lines: 801\n"
     ]
    }
   ],
   "source": [
    "# select shared samples between GDSC expression and response datasets (DNA_REPi)\n",
    "\n",
    "ls2 = GDSCE.index.intersection(GDSCC.index)\n",
    "ls2 = ls2.intersection(GDSCR.index)\n",
    "\n",
    "print(f\"GDSC # of common cell lines: {ls2.shape[0]}\")"
   ]
  },
  {
   "cell_type": "code",
   "execution_count": 22,
   "metadata": {
    "scrolled": true
   },
   "outputs": [
    {
     "name": "stdout",
     "output_type": "stream",
     "text": [
      "GDSC # of common samples and genes (Expression): (801, 16389)\n",
      "GDSC # of common samples and genes (CNA): (801, 16389)\n",
      "GDSC # of samples (Response): 9435\n"
     ]
    }
   ],
   "source": [
    "# subset shared genes and samples in GDSC expression, CNA, and response datasets\n",
    "\n",
    "GDSCE = GDSCE.loc[ls2, ls]\n",
    "GDSCC = GDSCC.loc[ls2, ls]\n",
    "GDSCR = GDSCR.loc[ls2, :]\n",
    "\n",
    "print(f\"GDSC # of common samples and genes (Expression): {GDSCE.shape}\")\n",
    "print(f\"GDSC # of common samples and genes (CNA): {GDSCC.shape}\")\n",
    "print(f\"GDSC # of samples (Response): {GDSCR.shape[0]}\")\n",
    "\n",
    "# There exists same sample names for different drugs, so row shape is different in GDSC response data"
   ]
  },
  {
   "cell_type": "code",
   "execution_count": 23,
   "metadata": {},
   "outputs": [
    {
     "name": "stdout",
     "output_type": "stream",
     "text": [
      "TCGA # of common samples (Cisplatin): 64\n"
     ]
    }
   ],
   "source": [
    "# select shared samples between TCGA expression and CNA datasets (Cisplatin) \n",
    "\n",
    "ls3 = TCGAEcisplatin.index.intersection(TCGACcisplatin.index)\n",
    "\n",
    "print(f\"TCGA # of common samples (Cisplatin): {ls3.shape[0]}\")"
   ]
  },
  {
   "cell_type": "code",
   "execution_count": 24,
   "metadata": {},
   "outputs": [
    {
     "name": "stdout",
     "output_type": "stream",
     "text": [
      "TCGA # of common samples and genes for Expression (Cisplatin): (64, 16389)\n",
      "TCGA # of common samples and genes for CNA (Cisplatin): (64, 16389)\n",
      "\n"
     ]
    }
   ],
   "source": [
    "# select shared genes and samples between TCGA expression and CNA datasets (Cisplatin)\n",
    "\n",
    "TCGAEcisplatin = TCGAEcisplatin.loc[ls3, ls]\n",
    "TCGACcisplatin = TCGACcisplatin.loc[ls3, ls]\n",
    "\n",
    "print(f\"TCGA # of common samples and genes for Expression (Cisplatin): {TCGAEcisplatin.shape}\")\n",
    "print(f\"TCGA # of common samples and genes for CNA (Cisplatin): {TCGACcisplatin.shape}\\n\")"
   ]
  },
  {
   "cell_type": "code",
   "execution_count": 25,
   "metadata": {},
   "outputs": [
    {
     "name": "stdout",
     "output_type": "stream",
     "text": [
      "/Volumes/Expansion/Thesis Work/Results/GDSC_DEGs_inhibitors/DNA_REPi\n"
     ]
    }
   ],
   "source": [
    "# change directory to read DEGs (DNA_REPi)\n",
    "\n",
    "os.chdir(DEGs_dir)\n",
    "print(os.getcwd())"
   ]
  },
  {
   "cell_type": "code",
   "execution_count": 26,
   "metadata": {},
   "outputs": [
    {
     "name": "stdout",
     "output_type": "stream",
     "text": [
      "There are 858 DEGs (p-adjusted < 0.05 and |logFC| > 1) among DNA replication inhibitors\n",
      "\n"
     ]
    },
    {
     "data": {
      "text/html": [
       "<div>\n",
       "<style scoped>\n",
       "    .dataframe tbody tr th:only-of-type {\n",
       "        vertical-align: middle;\n",
       "    }\n",
       "\n",
       "    .dataframe tbody tr th {\n",
       "        vertical-align: top;\n",
       "    }\n",
       "\n",
       "    .dataframe thead th {\n",
       "        text-align: right;\n",
       "    }\n",
       "</style>\n",
       "<table border=\"1\" class=\"dataframe\">\n",
       "  <thead>\n",
       "    <tr style=\"text-align: right;\">\n",
       "      <th></th>\n",
       "      <th>Gene Symbol</th>\n",
       "      <th>Frequency</th>\n",
       "    </tr>\n",
       "  </thead>\n",
       "  <tbody>\n",
       "    <tr>\n",
       "      <th>0</th>\n",
       "      <td>SLFN11</td>\n",
       "      <td>9</td>\n",
       "    </tr>\n",
       "    <tr>\n",
       "      <th>1</th>\n",
       "      <td>NCKAP1L</td>\n",
       "      <td>8</td>\n",
       "    </tr>\n",
       "    <tr>\n",
       "      <th>2</th>\n",
       "      <td>SDC4</td>\n",
       "      <td>7</td>\n",
       "    </tr>\n",
       "    <tr>\n",
       "      <th>3</th>\n",
       "      <td>KRT18</td>\n",
       "      <td>7</td>\n",
       "    </tr>\n",
       "    <tr>\n",
       "      <th>4</th>\n",
       "      <td>S100A14</td>\n",
       "      <td>7</td>\n",
       "    </tr>\n",
       "  </tbody>\n",
       "</table>\n",
       "</div>"
      ],
      "text/plain": [
       "  Gene Symbol  Frequency\n",
       "0      SLFN11          9\n",
       "1     NCKAP1L          8\n",
       "2        SDC4          7\n",
       "3       KRT18          7\n",
       "4     S100A14          7"
      ]
     },
     "execution_count": 26,
     "metadata": {},
     "output_type": "execute_result"
    }
   ],
   "source": [
    "# read DEGs (DNA_REPi)\n",
    "\n",
    "DEGs_filtered_data = pd.read_excel(\"DNA_REPi_Differentially_Expressed_Genes (EnsemblID).xlsx\",\n",
    "                                    sheet_name = \"Common DEGs\")\n",
    "print(f\"There are {DEGs_filtered_data.shape[0]} DEGs (p-adjusted < 0.05 and |logFC| > 1) among DNA replication inhibitors\\n\")\n",
    "\n",
    "DEGs_filtered_data.head()"
   ]
  },
  {
   "cell_type": "code",
   "execution_count": 27,
   "metadata": {},
   "outputs": [
    {
     "name": "stderr",
     "output_type": "stream",
     "text": [
      "1 input query terms found dup hits:\t[('CLECL1P', 2)]\n"
     ]
    },
    {
     "data": {
      "text/plain": [
       "858"
      ]
     },
     "execution_count": 27,
     "metadata": {},
     "output_type": "execute_result"
    }
   ],
   "source": [
    "# get gene symbol from mygene database\n",
    "\n",
    "mg = mygene.MyGeneInfo()\n",
    "DEGs_entrez_id = mg.querymany(DEGs_filtered_data[\"Gene Symbol\"], \n",
    "                              species=\"human\", \n",
    "                              scopes = \"symbol\",\n",
    "                              field = \"entrezgene\",\n",
    "                              as_dataframe=True)[\"entrezgene\"]\n",
    "DEGs_entrez_id = pd.unique(DEGs_entrez_id.dropna())\n",
    "DEGs_entrez_id.shape[0]"
   ]
  },
  {
   "cell_type": "code",
   "execution_count": 28,
   "metadata": {},
   "outputs": [],
   "source": [
    "# assign GDSC datasets to new variables\n",
    "\n",
    "exprs_z = GDSCE\n",
    "cna = GDSCC\n",
    "responses = GDSCR"
   ]
  },
  {
   "cell_type": "code",
   "execution_count": 29,
   "metadata": {},
   "outputs": [
    {
     "data": {
      "text/html": [
       "<div>\n",
       "<style scoped>\n",
       "    .dataframe tbody tr th:only-of-type {\n",
       "        vertical-align: middle;\n",
       "    }\n",
       "\n",
       "    .dataframe tbody tr th {\n",
       "        vertical-align: top;\n",
       "    }\n",
       "\n",
       "    .dataframe thead th {\n",
       "        text-align: right;\n",
       "    }\n",
       "</style>\n",
       "<table border=\"1\" class=\"dataframe\">\n",
       "  <thead>\n",
       "    <tr style=\"text-align: right;\">\n",
       "      <th></th>\n",
       "      <th>response</th>\n",
       "      <th>logIC50</th>\n",
       "      <th>drug</th>\n",
       "      <th>exprs</th>\n",
       "      <th>CNA</th>\n",
       "      <th>mutations</th>\n",
       "    </tr>\n",
       "  </thead>\n",
       "  <tbody>\n",
       "    <tr>\n",
       "      <th>683665</th>\n",
       "      <td>0</td>\n",
       "      <td>5.12075503641523</td>\n",
       "      <td>Pyrimethamine</td>\n",
       "      <td>1</td>\n",
       "      <td>1</td>\n",
       "      <td>1</td>\n",
       "    </tr>\n",
       "    <tr>\n",
       "      <th>683665</th>\n",
       "      <td>0</td>\n",
       "      <td>-3.03711635474651</td>\n",
       "      <td>Doxorubicin</td>\n",
       "      <td>1</td>\n",
       "      <td>1</td>\n",
       "      <td>1</td>\n",
       "    </tr>\n",
       "    <tr>\n",
       "      <th>683665</th>\n",
       "      <td>0</td>\n",
       "      <td>-0.712119156515401</td>\n",
       "      <td>Etoposide</td>\n",
       "      <td>1</td>\n",
       "      <td>1</td>\n",
       "      <td>1</td>\n",
       "    </tr>\n",
       "  </tbody>\n",
       "</table>\n",
       "</div>"
      ],
      "text/plain": [
       "        response             logIC50           drug  exprs  CNA  mutations\n",
       "683665         0    5.12075503641523  Pyrimethamine      1    1          1\n",
       "683665         0   -3.03711635474651    Doxorubicin      1    1          1\n",
       "683665         0  -0.712119156515401      Etoposide      1    1          1"
      ]
     },
     "execution_count": 29,
     "metadata": {},
     "output_type": "execute_result"
    }
   ],
   "source": [
    "# GDSC response dataset\n",
    "\n",
    "responses.head(3)"
   ]
  },
  {
   "cell_type": "code",
   "execution_count": 30,
   "metadata": {
    "scrolled": true
   },
   "outputs": [
    {
     "data": {
      "text/plain": [
       "{'5-Fluorouracil',\n",
       " 'Bleomycin',\n",
       " 'Camptothecin',\n",
       " 'Cisplatin',\n",
       " 'Cytarabine',\n",
       " 'Doxorubicin',\n",
       " 'Etoposide',\n",
       " 'Gemcitabine',\n",
       " 'Methotrexate',\n",
       " 'Mitomycin C',\n",
       " 'Pyrimethamine',\n",
       " 'SN-38',\n",
       " 'Temozolomide'}"
      ]
     },
     "execution_count": 30,
     "metadata": {},
     "output_type": "execute_result"
    }
   ],
   "source": [
    "# list drug names in GDSC response dataset\n",
    "\n",
    "drugs = set(responses[\"drug\"].values)\n",
    "drugs"
   ]
  },
  {
   "cell_type": "code",
   "execution_count": 31,
   "metadata": {},
   "outputs": [
    {
     "data": {
      "text/plain": [
       "Index([ 683665,  683665,  683665,  683665,  683665,  683665,  683665,  683665,\n",
       "        683665,  683665,\n",
       "       ...\n",
       "       1659818, 1659818, 1659818, 1659818, 1659819, 1659819, 1659819, 1659819,\n",
       "       1659819,  687800],\n",
       "      dtype='int64', length=9435)"
      ]
     },
     "execution_count": 31,
     "metadata": {},
     "output_type": "execute_result"
    }
   ],
   "source": [
    "# convert Entrez gene IDs to integer\n",
    "\n",
    "responses.index = responses.index.astype(int)\n",
    "responses.index"
   ]
  },
  {
   "cell_type": "code",
   "execution_count": 32,
   "metadata": {},
   "outputs": [
    {
     "data": {
      "text/plain": [
       "GDSC\\nTissue descriptor 1\n",
       "lung_NSCLC           1037\n",
       "urogenital_system     926\n",
       "leukemia              829\n",
       "lymphoma              769\n",
       "aero_dig_tract        727\n",
       "nervous_system        607\n",
       "lung_SCLC             569\n",
       "skin                  560\n",
       "breast                524\n",
       "digestive_system      466\n",
       "large_intestine       447\n",
       "bone                  421\n",
       "neuroblastoma         332\n",
       "pancreas              294\n",
       "kidney                227\n",
       "soft_tissue           191\n",
       "myeloma               182\n",
       "lung                  174\n",
       "thyroid               153\n",
       "Name: count, dtype: int64"
      ]
     },
     "execution_count": 32,
     "metadata": {},
     "output_type": "execute_result"
    }
   ],
   "source": [
    "# merge GDSC cell line details with response dataset\n",
    "\n",
    "dat = pd.merge(GDSC_cell_line_details,\n",
    "         responses,\n",
    "         left_index = True, \n",
    "         right_index=True,\n",
    "         how = \"inner\")\n",
    "\n",
    "dat[\"GDSC\\nTissue descriptor 1\"].value_counts()\n",
    "#dat.head()"
   ]
  },
  {
   "cell_type": "code",
   "execution_count": 33,
   "metadata": {},
   "outputs": [
    {
     "data": {
      "text/plain": [
       "GDSC\\nTissue descriptor 1\n",
       "lung_NSCLC           82\n",
       "urogenital_system    74\n",
       "leukemia             63\n",
       "lymphoma             58\n",
       "aero_dig_tract       58\n",
       "nervous_system       48\n",
       "lung_SCLC            44\n",
       "skin                 42\n",
       "breast               41\n",
       "digestive_system     38\n",
       "large_intestine      36\n",
       "bone                 32\n",
       "neuroblastoma        26\n",
       "pancreas             24\n",
       "kidney               17\n",
       "myeloma              16\n",
       "soft_tissue          14\n",
       "lung                 13\n",
       "thyroid              12\n",
       "Name: count, dtype: int64"
      ]
     },
     "execution_count": 33,
     "metadata": {},
     "output_type": "execute_result"
    }
   ],
   "source": [
    "# list count of cell lines as to tissues treated with Cisplatin\n",
    "\n",
    "filter = (dat[\"drug\"] == \"Cisplatin\")\n",
    "dat.loc[filter,\"GDSC\\nTissue descriptor 1\"].value_counts()"
   ]
  },
  {
   "cell_type": "code",
   "execution_count": 34,
   "metadata": {},
   "outputs": [
    {
     "data": {
      "text/plain": [
       "451"
      ]
     },
     "execution_count": 34,
     "metadata": {},
     "output_type": "execute_result"
    }
   ],
   "source": [
    "# get count of total HNSC tissues\n",
    "\n",
    "tissues = dat[\"GDSC\\nTissue\\ndescriptor 2\"].value_counts()\n",
    "count_selected_tissues = tissues[\"head and neck\"].astype(int)\n",
    "count_selected_tissues"
   ]
  },
  {
   "cell_type": "code",
   "execution_count": 35,
   "metadata": {},
   "outputs": [
    {
     "data": {
      "image/png": "[encoded data removed]",
      "text/plain": [
       "<Figure size 1200x800 with 1 Axes>"
      ]
     },
     "metadata": {},
     "output_type": "display_data"
    }
   ],
   "source": [
    "# plot tissue types of cancer cell lines treated with DNA replication inhibitors\n",
    "\n",
    "gdsc_tissue_counts = dat[\"GDSC\\nTissue descriptor 1\"].value_counts()\n",
    "tissue_names = list(gdsc_tissue_counts.index)\n",
    "tissue_counts = list(gdsc_tissue_counts)\n",
    "\n",
    "plt.figure(figsize=(12, 8))\n",
    "plt.barh(tissue_names, tissue_counts, color='skyblue')\n",
    "plt.xlabel('Count of cell lines', fontweight='bold', labelpad = 15)\n",
    "plt.title(f'Tissue types of cancer cell lines treated with DNA replication inhibitors (GDSC, N={sum(tissue_counts)})',\n",
    "           fontweight='bold',\n",
    "           fontsize=13,\n",
    "           pad=20)\n",
    "plt.gca().invert_yaxis() \n",
    "plt.grid(axis='x')\n",
    "\n",
    "bars = plt.barh(tissue_names, tissue_counts, color='skyblue')\n",
    "\n",
    "for bar, value in zip(bars, tissue_counts):\n",
    "    plt.text(value + 5, bar.get_y() + bar.get_height()/2, str(value), va='center')\n",
    "\n",
    "bars = []\n",
    "\n",
    "for name, value in zip(tissue_names, tissue_counts):\n",
    "    if name == \"aero_dig_tract\":\n",
    "        bars.append(plt.barh(name, value, color='red'))\n",
    "    else:\n",
    "        bars.append(plt.barh(name, value, color='skyblue'))\n",
    "\n",
    "plt.text(600, 13, \n",
    "         f'Percentage of \\nhead and neck (HNSC in TCGA): {round(count_selected_tissues/sum(tissue_counts) * 100, 1)}%', \n",
    "         fontsize=12, \n",
    "         color='black')\n",
    "\n",
    "plt.text(600, 16, \n",
    "         f'Sensitive (S): {dat[[\"response\"]].value_counts()[1]} \\nResistant (R): {dat[[\"response\"]].value_counts()[0]} \\nS/(S + R):       {round(dat[[\"response\"]].value_counts()[1]/(sum(dat[[\"response\"]].value_counts())) * 100, 2)}%', \n",
    "         fontsize=12, \n",
    "         color='black')\n",
    "\n",
    "\n",
    "plt.savefig(save_figures_to + 'Tissue types of cancer cell lines treated with DNA replication inhibitors (GDSC).png', format='png', bbox_inches='tight')\n",
    "\n",
    "plt.show()"
   ]
  },
  {
   "cell_type": "code",
   "execution_count": 36,
   "metadata": {},
   "outputs": [
    {
     "data": {
      "text/plain": [
       "GDSC\\nTissue descriptor 1\n",
       "lung_NSCLC           82\n",
       "urogenital_system    74\n",
       "leukemia             63\n",
       "lymphoma             58\n",
       "aero_dig_tract       58\n",
       "nervous_system       48\n",
       "lung_SCLC            44\n",
       "skin                 42\n",
       "breast               41\n",
       "digestive_system     38\n",
       "large_intestine      36\n",
       "bone                 32\n",
       "neuroblastoma        26\n",
       "pancreas             24\n",
       "kidney               17\n",
       "myeloma              16\n",
       "soft_tissue          14\n",
       "lung                 13\n",
       "thyroid              12\n",
       "Name: count, dtype: int64"
      ]
     },
     "execution_count": 36,
     "metadata": {},
     "output_type": "execute_result"
    }
   ],
   "source": [
    "# list count of cell lines as to tissues treated with cisplatin\n",
    "\n",
    "filter = (dat[\"drug\"] == \"Cisplatin\")\n",
    "dat.loc[filter,\"GDSC\\nTissue descriptor 1\"].value_counts()"
   ]
  },
  {
   "cell_type": "code",
   "execution_count": 37,
   "metadata": {},
   "outputs": [
    {
     "data": {
      "text/plain": [
       "GDSC\\nTissue\\ndescriptor 2\n",
       "lung_NSCLC_adenocarcinoma    50\n",
       "glioma                       44\n",
       "lung_small_cell_carcinoma    44\n",
       "breast                       41\n",
       "melanoma                     39\n",
       "Name: count, dtype: int64"
      ]
     },
     "execution_count": 37,
     "metadata": {},
     "output_type": "execute_result"
    }
   ],
   "source": [
    "# list count of cell lines as to tissues treated with cisplatin\n",
    "\n",
    "tissues_drugs = dat[[\"GDSC\\nTissue descriptor 1\",\"GDSC\\nTissue\\ndescriptor 2\",\"drug\"]]\n",
    "\n",
    "filter = (tissues_drugs[\"drug\"] == \"Cisplatin\")\n",
    "tissues_drug = tissues_drugs.loc[filter,\"GDSC\\nTissue\\ndescriptor 2\"].value_counts()\n",
    "\n",
    "tissues_drug.head()"
   ]
  },
  {
   "cell_type": "code",
   "execution_count": 67,
   "metadata": {},
   "outputs": [
    {
     "data": {
      "text/plain": [
       "36"
      ]
     },
     "execution_count": 67,
     "metadata": {},
     "output_type": "execute_result"
    }
   ],
   "source": [
    "# count of HNSC cell lines treated with paclitaxel\n",
    "\n",
    "count_selected_tissues = tissues_drug[\"head and neck\"].astype(int)\n",
    "count_selected_tissues"
   ]
  },
  {
   "cell_type": "code",
   "execution_count": 39,
   "metadata": {},
   "outputs": [
    {
     "data": {
      "image/png": "[encoded data removed]",
      "text/plain": [
       "<Figure size 1200x800 with 1 Axes>"
      ]
     },
     "metadata": {},
     "output_type": "display_data"
    }
   ],
   "source": [
    "# plot tissue types of cancer cell lines treated with cisplatin\n",
    "\n",
    "gdsc_tissue_counts =  tissues_drugs.loc[filter, 'GDSC\\nTissue descriptor 1'].value_counts()\n",
    "tissue_names = list(gdsc_tissue_counts.index)\n",
    "tissue_counts = list(gdsc_tissue_counts)\n",
    "\n",
    "plt.figure(figsize=(12, 8))\n",
    "plt.barh(tissue_names, tissue_counts, color='skyblue')\n",
    "plt.xlabel('Count of cell lines', fontweight='bold', labelpad = 15)\n",
    "plt.title(f'Tissue types of cancer cell lines treated with Cisplatin (GDSC, N={sum(tissue_counts)})',\n",
    "           fontweight='bold',\n",
    "           fontsize=13,\n",
    "           pad=20)\n",
    "plt.gca().invert_yaxis() \n",
    "plt.xlim(0, 100)\n",
    "plt.grid(axis='x')\n",
    "\n",
    "bars = plt.barh(tissue_names, tissue_counts, color='skyblue')\n",
    "\n",
    "for bar, value in zip(bars, tissue_counts):\n",
    "    plt.text(value + 1, bar.get_y() + bar.get_height()/2, str(value), va='center')\n",
    "\n",
    "bars = []\n",
    "\n",
    "for name, value in zip(tissue_names, tissue_counts):\n",
    "    if name == \"aero_dig_tract\":\n",
    "        bars.append(plt.barh(name, value, color='red'))\n",
    "    else:\n",
    "        bars.append(plt.barh(name, value, color='skyblue'))\n",
    "\n",
    "plt.text(60, 13, \n",
    "         f'Percentage of \\nhead and neck (HNSC in TCGA): {round(count_selected_tissues/sum(tissue_counts) * 100, 1)}%', \n",
    "         fontsize=12, \n",
    "         color='black')\n",
    "\n",
    "plt.text(60, 16, \n",
    "         f'Sensitive (S): {dat.loc[dat[\"drug\"] == \"Cisplatin\", \"response\"].value_counts()[1]} \\nResistant (R): {dat.loc[dat[\"drug\"] == \"Cisplatin\", \"response\"].value_counts()[0]} \\nS/(S + R):       {round(dat.loc[dat[\"drug\"] == \"Cisplatin\", \"response\"].value_counts()[1]/(sum(dat.loc[dat[\"drug\"] == \"Cisplatin\", \"response\"].value_counts())) * 100, 2)}%', \n",
    "         fontsize=12, \n",
    "         color='black')\n",
    "\n",
    "plt.savefig(save_figures_to + 'Tissue types of cancer cell lines treated with Cisplatin (GDSC).png', format='png', bbox_inches='tight')\n",
    "\n",
    "plt.show()"
   ]
  },
  {
   "cell_type": "code",
   "execution_count": 40,
   "metadata": {},
   "outputs": [
    {
     "data": {
      "text/plain": [
       "Index(['683665', '683665', '683665', '683665', '683665', '683665', '683665',\n",
       "       '683665', '683665', '683665',\n",
       "       ...\n",
       "       '1659818', '1659818', '1659818', '1659818', '1659819', '1659819',\n",
       "       '1659819', '1659819', '1659819', '687800'],\n",
       "      dtype='object', length=9435)"
      ]
     },
     "execution_count": 40,
     "metadata": {},
     "output_type": "execute_result"
    }
   ],
   "source": [
    "# convert Entrez gene IDs to string\n",
    "\n",
    "responses.index = responses.index.astype(str)\n",
    "responses.index"
   ]
  },
  {
   "cell_type": "code",
   "execution_count": 41,
   "metadata": {},
   "outputs": [
    {
     "name": "stdout",
     "output_type": "stream",
     "text": [
      "GDSC # of common samples and genes (Expression): (9435, 772)\n",
      "GDSC # of common samples and genes (CNA): (9435, 772)\n",
      "GDSC # of common samples (Response): 9435\n",
      "\n",
      "TCGA # of common samples and genes for Cisplatin (Expression): (64, 772)\n",
      "TCGA # of common samples and genes for Cisplatin (CNA): (64, 772)\n",
      "\n"
     ]
    }
   ],
   "source": [
    "# filter GDSC expression and CNA datasets (DNA_REPi) as to drugs\n",
    "# subset selected DEGs\n",
    "\n",
    "expression_zscores = []\n",
    "CNA = []\n",
    "for drug in drugs:\n",
    "    samples = responses.loc[responses[\"drug\"] == drug, :].index.values\n",
    "    e_z = exprs_z.loc[samples, :]\n",
    "    c = cna.loc[samples, :]\n",
    "    expression_zscores.append(e_z)\n",
    "    CNA.append(c)\n",
    "\n",
    "GDSCEv2 = pd.concat(expression_zscores, axis=0)\n",
    "GDSCCv2 = pd.concat(CNA, axis=0)\n",
    "GDSCRv2 = responses\n",
    "\n",
    "ls4 = list(set(GDSCE.columns).intersection(set(DEGs_entrez_id.astype(int))))\n",
    "ls5 = GDSCEv2.index.intersection(GDSCCv2.index)\n",
    "\n",
    "GDSCEv2 = GDSCEv2.loc[ls5, ls4]\n",
    "GDSCCv2 = GDSCCv2.loc[ls5, ls4]\n",
    "GDSCRv2 = GDSCRv2.loc[ls5, :]\n",
    "\n",
    "TCGAEcisplatin = TCGAEcisplatin.loc[:,ls4]\n",
    "TCGACcisplatin = TCGACcisplatin.loc[:,ls4]\n",
    "\n",
    "responses.index = responses.index.values + \"_\" + responses[\"drug\"].values\n",
    "\n",
    "print(f\"GDSC # of common samples and genes (Expression): {GDSCEv2.shape}\")\n",
    "print(f\"GDSC # of common samples and genes (CNA): {GDSCCv2.shape}\")\n",
    "print(f\"GDSC # of common samples (Response): {GDSCRv2.shape[0]}\\n\")\n",
    "\n",
    "print(f\"TCGA # of common samples and genes for Cisplatin (Expression): {TCGAEcisplatin.shape}\")\n",
    "print(f\"TCGA # of common samples and genes for Cisplatin (CNA): {TCGACcisplatin.shape}\\n\")"
   ]
  },
  {
   "cell_type": "code",
   "execution_count": 42,
   "metadata": {},
   "outputs": [
    {
     "name": "stdout",
     "output_type": "stream",
     "text": [
      "[0 0 0 ... 0 0 1]\n"
     ]
    }
   ],
   "source": [
    "# GDSC response values\n",
    "\n",
    "Y = GDSCRv2['response'].values\n",
    "print(Y)"
   ]
  },
  {
   "cell_type": "code",
   "execution_count": 43,
   "metadata": {},
   "outputs": [
    {
     "data": {
      "text/plain": [
       "'/Volumes/Expansion/Thesis Work/Results/preprocessed_results2/response'"
      ]
     },
     "execution_count": 43,
     "metadata": {},
     "output_type": "execute_result"
    }
   ],
   "source": [
    "# change directory to read TCGA response dataset (Cisplatin)\n",
    "\n",
    "os.chdir(dataset_dir + \"response\")\n",
    "os.getcwd()"
   ]
  },
  {
   "cell_type": "code",
   "execution_count": 44,
   "metadata": {},
   "outputs": [
    {
     "name": "stdout",
     "output_type": "stream",
     "text": [
      "There are 64 samples with response data in the TCGA (Cisplatin)\n",
      "\n"
     ]
    },
    {
     "data": {
      "text/plain": [
       "array([1, 1, 1, 1, 1, 1, 0, 1, 1, 1, 0, 0, 1, 1, 1, 1, 1, 1, 1, 0, 1, 1,\n",
       "       1, 1, 0, 1, 1, 1, 1, 1, 1, 1, 1, 0, 1, 1, 1, 1, 1, 1, 1, 1, 1, 1,\n",
       "       1, 1, 1, 1, 1, 1, 1, 1, 1, 1, 1, 1, 1, 1, 1, 1, 1, 1, 1, 1])"
      ]
     },
     "execution_count": 44,
     "metadata": {},
     "output_type": "execute_result"
    }
   ],
   "source": [
    "# read TCGA response dataset (Cisplatin)\n",
    "\n",
    "TCGARcisplatin = pd.read_csv(\"TCGA_response.Cisplatin.tsv\", \n",
    "                      sep = \"\\t\", \n",
    "                      index_col=0, \n",
    "                      decimal = \",\")\n",
    "TCGARcisplatin.dropna(inplace=True)\n",
    "TCGARcisplatin.rename(mapper=str, axis='index', inplace=True)\n",
    "d = {\"R\": 0, \"S\": 1}\n",
    "TCGARcisplatin[\"response\"] = TCGARcisplatin.loc[:, \"response\"].apply(lambda x: d[x])\n",
    "Ytscisplatin = TCGARcisplatin[\"response\"].values    \n",
    "\n",
    "print(f\"There are {Ytscisplatin.shape[0]} samples with response data in the TCGA (Cisplatin)\\n\")\n",
    "Ytscisplatin"
   ]
  },
  {
   "cell_type": "code",
   "execution_count": 45,
   "metadata": {},
   "outputs": [
    {
     "data": {
      "text/plain": [
       "cohort\n",
       "HNSC    37\n",
       "CESC    20\n",
       "STAD     3\n",
       "SARC     2\n",
       "UCS      2\n",
       "Name: count, dtype: int64"
      ]
     },
     "execution_count": 45,
     "metadata": {},
     "output_type": "execute_result"
    }
   ],
   "source": [
    "# TCGA cohort table with TCGA response dataset (Cisplatin)\n",
    "\n",
    "dat_tcga = TCGARcisplatin[\"cohort\"]\n",
    "\n",
    "dat_tcga.value_counts()"
   ]
  },
  {
   "cell_type": "code",
   "execution_count": 46,
   "metadata": {},
   "outputs": [
    {
     "data": {
      "image/png": "[encoded data removed]",
      "text/plain": [
       "<Figure size 800x800 with 1 Axes>"
      ]
     },
     "metadata": {},
     "output_type": "display_data"
    }
   ],
   "source": [
    "# plot tissue types of TCGA samples \n",
    "\n",
    "labels = list(dat_tcga.value_counts().index)\n",
    "sizes = list(dat_tcga.value_counts())\n",
    "total = sum(sizes)\n",
    "labels_with_percentages = [f'{label} ({size/total*100:.0f}%)' for label, size in zip(labels, sizes)]\n",
    "\n",
    "plt.figure(figsize=(8, 8))\n",
    "plt.pie(sizes, labels=labels_with_percentages, startangle=0, colors=['skyblue', 'lightgreen', 'salmon', 'orange', 'pink'])\n",
    "plt.title(f'Tissue types of TCGA samples (N={total})', fontweight = \"bold\")\n",
    "plt.subplots_adjust(top=0.95) \n",
    "plt.axis('equal')  \n",
    "\n",
    "plt.text(-0.2, 0.5, \n",
    "         f'Sensitive (S): {TCGARcisplatin.loc[TCGARcisplatin[\"cohort\"] == \"HNSC\",\"response\"].value_counts().get(1,0)} \\nResistant (R): {TCGARcisplatin.loc[TCGARcisplatin[\"cohort\"] == \"HNSC\",\"response\"].value_counts()[0]} \\nS/(S + R):       {round(TCGARcisplatin.loc[TCGARcisplatin[\"cohort\"] == \"HNSC\",\"response\"].value_counts().get(1,0)/(sum(TCGARcisplatin.loc[TCGARcisplatin[\"cohort\"] == \"HNSC\",\"response\"].value_counts())) * 100, 2)}%', \n",
    "         fontsize=9, \n",
    "         color='black',\n",
    "         va='center')\n",
    "\n",
    "plt.text(-0.3, -0.5, \n",
    "         f'Sensitive (S): {TCGARcisplatin.loc[TCGARcisplatin[\"cohort\"] == \"CESC\",\"response\"].value_counts().get(1, 0)} \\nResistant (R): {TCGARcisplatin.loc[TCGARcisplatin[\"cohort\"] == \"CESC\",\"response\"].value_counts().get(0,0)} \\nS/(S + R):       {round(TCGARcisplatin.loc[TCGARcisplatin[\"cohort\"] == \"CESC\",\"response\"].value_counts().get(1,0)/(sum(TCGARcisplatin.loc[TCGARcisplatin[\"cohort\"] == \"CESC\",\"response\"].value_counts())) * 100, 2)}%', \n",
    "         fontsize=9, \n",
    "         color='black',\n",
    "         va='center')\n",
    "\n",
    "plt.text(0.4, -0.5, \n",
    "         f'Sensitive (S): {TCGARcisplatin.loc[TCGARcisplatin[\"cohort\"] == \"STAD\",\"response\"].value_counts()[1]} \\nResistant (R): {TCGARcisplatin.loc[TCGARcisplatin[\"cohort\"] == \"STAD\",\"response\"].value_counts()[0]} \\nS/(S + R):       {round(TCGARcisplatin.loc[TCGARcisplatin[\"cohort\"] == \"STAD\",\"response\"].value_counts()[1]/(sum(TCGARcisplatin.loc[TCGARcisplatin[\"cohort\"] == \"STAD\",\"response\"].value_counts())) * 100, 2)}%', \n",
    "         fontsize=9, \n",
    "         color='black',\n",
    "         va='center')\n",
    "\n",
    "plt.text(0.4, -0.08, \n",
    "         f'Sensitive (S): {TCGARcisplatin.loc[TCGARcisplatin[\"cohort\"] == \"UCS\",\"response\"].value_counts().get(1,0)} \\nResistant (R): {TCGARcisplatin.loc[TCGARcisplatin[\"cohort\"] == \"UCS\",\"response\"].value_counts().get(0, 0)} \\nS/(S + R):       {round(TCGARcisplatin.loc[TCGARcisplatin[\"cohort\"] == \"UCS\",\"response\"].value_counts().get(1,0)/(sum(TCGARcisplatin.loc[TCGARcisplatin[\"cohort\"] == \"UCS\",\"response\"].value_counts())) * 100, 2)}%', \n",
    "         fontsize=9, \n",
    "         color='black',\n",
    "         va='center')\n",
    "\n",
    "plt.text(1, 0.7, \n",
    "         f'All TCGA samples\\nSensitive (S): {TCGARcisplatin[\"response\"].value_counts()[1]} \\nResistant (R): {TCGARcisplatin[\"response\"].value_counts().get(0, 0)} \\nS/(S + R):       {round(TCGARcisplatin[\"response\"].value_counts()[1]/(sum(TCGARcisplatin[\"response\"].value_counts())) * 100, 2)}%', \n",
    "         fontsize=9, \n",
    "         color='black',\n",
    "         va='center')\n",
    "\n",
    "plt.text(0.5, -0.3, \n",
    "         f'Sensitive (S): {TCGARcisplatin.loc[TCGARcisplatin[\"cohort\"] == \"SARC\",\"response\"].value_counts().get(1, 0)} \\nResistant (R): {TCGARcisplatin.loc[TCGARcisplatin[\"cohort\"] == \"SARC\",\"response\"].value_counts()[0]} \\nS/(S + R):       {round(TCGARcisplatin.loc[TCGARcisplatin[\"cohort\"] == \"SARC\",\"response\"].value_counts().get(1,0)/(sum(TCGARcisplatin.loc[TCGARcisplatin[\"cohort\"] == \"SARC\",\"response\"].value_counts())) * 100, 2)}%', \n",
    "         fontsize=9, \n",
    "         color='black',\n",
    "         va='center')\n",
    "\n",
    "plt.savefig(save_figures_to + 'Tissue types of TCGA samples (Cisplatin).png', format='png', bbox_inches='tight')\n",
    "\n",
    "plt.show()"
   ]
  },
  {
   "cell_type": "code",
   "execution_count": 47,
   "metadata": {},
   "outputs": [
    {
     "data": {
      "text/plain": [
       "Index(['TCGA-BA-A4IF-01A', 'TCGA-BA-A4IH-01A', 'TCGA-BA-A6D8-01A',\n",
       "       'TCGA-BA-A6DA-01A', 'TCGA-BA-A6DD-01A', 'TCGA-BA-A6DI-01A',\n",
       "       'TCGA-BA-A6DJ-01A', 'TCGA-CN-6998-01A', 'TCGA-CN-A63T-01A',\n",
       "       'TCGA-CN-A641-01A', 'TCGA-CN-A6V3-01A', 'TCGA-CN-A6V6-01A',\n",
       "       'TCGA-CN-A6V7-01A', 'TCGA-CQ-A4CH-01A', 'TCGA-D6-A6EK-01A',\n",
       "       'TCGA-F7-A50J-01A', 'TCGA-HD-8314-01A', 'TCGA-IQ-A61E-01A',\n",
       "       'TCGA-IQ-A61G-01A', 'TCGA-IQ-A61J-01A', 'TCGA-IQ-A61O-01A',\n",
       "       'TCGA-KU-A6H7-01A', 'TCGA-MZ-A5BI-01A', 'TCGA-MZ-A6I9-01A',\n",
       "       'TCGA-MZ-A7D7-01A', 'TCGA-P3-A6SW-01A', 'TCGA-P3-A6T2-01A',\n",
       "       'TCGA-P3-A6T3-01A', 'TCGA-P3-A6T7-01A', 'TCGA-P3-A6T8-01A',\n",
       "       'TCGA-T2-A6X0-01A', 'TCGA-TN-A7HJ-01A', 'TCGA-TN-A7HL-01A',\n",
       "       'TCGA-UF-A7JC-01A', 'TCGA-UF-A7JF-01A', 'TCGA-UF-A7JJ-01A',\n",
       "       'TCGA-UF-A7JK-01A'],\n",
       "      dtype='object', name='sample')"
      ]
     },
     "execution_count": 47,
     "metadata": {},
     "output_type": "execute_result"
    }
   ],
   "source": [
    "# filter HNSC cohort samples (Cisplatin)\n",
    "\n",
    "filter = (TCGARcisplatin[\"cohort\"] == \"HNSC\")\n",
    "tcga_hnsc_samples = dat_tcga.loc[filter,].index\n",
    "tcga_hnsc_samples"
   ]
  },
  {
   "cell_type": "code",
   "execution_count": 48,
   "metadata": {},
   "outputs": [
    {
     "data": {
      "text/plain": [
       "array([1, 1, 1, 1, 0, 1, 1, 0, 1, 1, 1, 1, 1, 1, 1, 1, 1, 1, 0, 1, 1, 1,\n",
       "       1, 1, 1, 1, 1, 1, 1, 1, 1, 1, 1, 1, 1, 1, 1])"
      ]
     },
     "execution_count": 48,
     "metadata": {},
     "output_type": "execute_result"
    }
   ],
   "source": [
    "# filter responses of HNSC cohort samples (Cisplatin)\n",
    "\n",
    "Ytscisplatin_hnsc = TCGARcisplatin.loc[tcga_hnsc_samples,\"response\"].values\n",
    "Ytscisplatin_hnsc"
   ]
  },
  {
   "cell_type": "code",
   "execution_count": 49,
   "metadata": {},
   "outputs": [
    {
     "data": {
      "text/plain": [
       "response\n",
       "1    34\n",
       "0     3\n",
       "Name: count, dtype: int64"
      ]
     },
     "execution_count": 49,
     "metadata": {},
     "output_type": "execute_result"
    }
   ],
   "source": [
    "# count of sensitive and resistance HNSC samples (Cisplatin)\n",
    "\n",
    "TCGARcisplatin.loc[tcga_hnsc_samples,\"response\"].value_counts()"
   ]
  },
  {
   "cell_type": "code",
   "execution_count": 50,
   "metadata": {},
   "outputs": [
    {
     "data": {
      "text/plain": [
       "Index(['TCGA-C5-A1BQ-01C', 'TCGA-DS-A5RQ-01A', 'TCGA-DS-A7WF-01A',\n",
       "       'TCGA-DS-A7WH-01A', 'TCGA-DS-A7WI-01A', 'TCGA-EA-A3QD-01A',\n",
       "       'TCGA-EK-A2H0-01A', 'TCGA-EX-A3L1-01A', 'TCGA-FU-A23L-01A',\n",
       "       'TCGA-HM-A4S6-01A', 'TCGA-IR-A3L7-01A', 'TCGA-IR-A3LC-01A',\n",
       "       'TCGA-IR-A3LH-01A', 'TCGA-IR-A3LK-01A', 'TCGA-IR-A3LL-01A',\n",
       "       'TCGA-MY-A5BD-01A', 'TCGA-MY-A5BF-01A', 'TCGA-Q1-A5R2-01A',\n",
       "       'TCGA-Q1-A5R3-01A', 'TCGA-Q1-A73O-01A'],\n",
       "      dtype='object', name='sample')"
      ]
     },
     "execution_count": 50,
     "metadata": {},
     "output_type": "execute_result"
    }
   ],
   "source": [
    "# filter CESC cohort samples (Cisplatin)\n",
    "\n",
    "filter = (TCGARcisplatin[\"cohort\"] == \"CESC\")\n",
    "tcga_cesc_samples = dat_tcga.loc[filter,].index\n",
    "tcga_cesc_samples"
   ]
  },
  {
   "cell_type": "code",
   "execution_count": 51,
   "metadata": {},
   "outputs": [
    {
     "data": {
      "text/plain": [
       "array([1, 1, 1, 1, 1, 1, 1, 1, 1, 1, 1, 1, 1, 1, 1, 1, 1, 1, 1, 1])"
      ]
     },
     "execution_count": 51,
     "metadata": {},
     "output_type": "execute_result"
    }
   ],
   "source": [
    "# filter responses of CESC cohort samples (Cisplatin)\n",
    "\n",
    "Ytscisplatin_cesc = TCGARcisplatin.loc[tcga_cesc_samples,\"response\"].values\n",
    "Ytscisplatin_cesc"
   ]
  },
  {
   "cell_type": "code",
   "execution_count": 52,
   "metadata": {},
   "outputs": [
    {
     "data": {
      "text/plain": [
       "response\n",
       "1    20\n",
       "Name: count, dtype: int64"
      ]
     },
     "execution_count": 52,
     "metadata": {},
     "output_type": "execute_result"
    }
   ],
   "source": [
    "# count of sensitive and resistance CESC samples (Cisplatin)\n",
    "\n",
    "TCGARcisplatin.loc[tcga_cesc_samples,\"response\"].value_counts()"
   ]
  },
  {
   "cell_type": "code",
   "execution_count": 53,
   "metadata": {},
   "outputs": [],
   "source": [
    "# define maximum iteration\n",
    "\n",
    "max_iter = 50"
   ]
  },
  {
   "cell_type": "code",
   "execution_count": 54,
   "metadata": {},
   "outputs": [],
   "source": [
    "# assign number of neurons and dropout rates found for layers from the saved models\n",
    "\n",
    "hdm1 = 512\n",
    "hdm2 = 128\n",
    "rate1 = 0.6\n",
    "rate2 = 0.6\n",
    "rate3 = 0.7"
   ]
  },
  {
   "cell_type": "code",
   "execution_count": 55,
   "metadata": {},
   "outputs": [
    {
     "name": "stdout",
     "output_type": "stream",
     "text": [
      "GDSC - Training AUC (DNA_REPi): 0.73\n",
      "GDSC - Training AUCPR (DNA_REPi): 0.23\n",
      "TCGA - Test AUC (Cisplatin): 0.71\n",
      "TCGA - Test AUCPR (Cisplatin): 0.96\n",
      "TCGA - Test AUC (Cisplatin, HNSC): 0.49\n",
      "TCGA - Test AUCPR (Cisplatin, HNSC): 0.94\n",
      "\n",
      "GDSC - Training AUC (DNA_REPi, Finetuned): 0.76\n",
      "GDSC - Training AUCPR (DNA_REPi, Finetuned): 0.27\n",
      "TCGA - Test AUC (Cisplatin, Finetuned): 0.81\n",
      "TCGA - Test AUCPR (Cisplatin, Finetuned): 0.98\n",
      "\n",
      "GDSC - Training AUC (DNA_REPi, Finetuned): 0.69\n",
      "GDSC - Training AUCPR (DNA_REPi, Finetuned): 0.21\n",
      "TCGA - Test AUC (Cisplatin, HNSC, Finetuned): 0.67\n",
      "TCGA - Test AUCPR (Cisplatin, HNSC, Finetuned): 0.97\n",
      "\n",
      "\n",
      "Models for maximum finetuning (Cisplatin)\n",
      "Exprs_Cisplatin_GDSC_TCGA_DNA_REPi_Expression_CNA_Finetuned_1.pt\n",
      "CNA_Cisplatin_GDSC_TCGA_DNA_REPi_Expression_CNA_Finetuned_1.pt\n",
      "Class_Cisplatin_GDSC_TCGA_DNA_REPi_Expression_CNA_Finetuned_1.pt\n",
      "\n",
      "Models for maximum finetuning (Cisplatin, HNSC)\n",
      "Exprs_Cisplatin_GDSC_TCGA_DNA_REPi_Expression_CNA_Finetuned_3.pt\n",
      "CNA_Cisplatin_GDSC_TCGA_DNA_REPi_Expression_CNA_Finetuned_3.pt\n",
      "Class_Cisplatin_GDSC_TCGA_DNA_REPi_Expression_CNA_Finetuned_3.pt\n"
     ]
    }
   ],
   "source": [
    "# load pre-trained models and make predictions\n",
    "\n",
    "scalerGDSC = sk.StandardScaler()\n",
    "scalerGDSC.fit(GDSCEv2.values)\n",
    "X_trainE = scalerGDSC.transform(GDSCEv2.values)\n",
    "\n",
    "X_testEcisplatin = scalerGDSC.transform(TCGAEcisplatin.values)    \n",
    "X_testEcisplatin_hnsc = scalerGDSC.transform(TCGAEcisplatin.loc[tcga_hnsc_samples,].values)    \n",
    "\n",
    "X_trainC = np.nan_to_num(GDSCCv2.values)\n",
    "X_testCcisplatin = np.nan_to_num(TCGACcisplatin.values)\n",
    "X_testCcisplatin_hnsc = np.nan_to_num(TCGACcisplatin.loc[tcga_hnsc_samples,].values)\n",
    "\n",
    "TX_testEcisplatin = torch.FloatTensor(X_testEcisplatin)\n",
    "TX_testEcisplatin_hnsc = torch.FloatTensor(X_testEcisplatin_hnsc)\n",
    "\n",
    "TX_testCcisplatin = torch.FloatTensor(X_testCcisplatin.astype(np.float32))\n",
    "TX_testCcisplatin_hnsc = torch.FloatTensor(X_testCcisplatin_hnsc.astype(np.float32))\n",
    "\n",
    "ty_testEcisplatin = torch.FloatTensor(Ytscisplatin.astype(int))\n",
    "ty_testEcisplatin_hnsc = torch.FloatTensor(Ytscisplatin_hnsc.astype(int))\n",
    "\n",
    "n_sampE, IE_dim = X_trainE.shape\n",
    "n_sampC, IC_dim = X_trainC.shape\n",
    "\n",
    "h_dim1 = hdm1\n",
    "h_dim2 = hdm2\n",
    "Z_in = h_dim1 + h_dim2 \n",
    "\n",
    "class AEE(nn.Module):\n",
    "    def __init__(self):\n",
    "        super(AEE, self).__init__()\n",
    "        self.EnE = torch.nn.Sequential(\n",
    "            nn.Linear(IE_dim, h_dim1),\n",
    "            nn.BatchNorm1d(h_dim1),\n",
    "            nn.ReLU(),\n",
    "            nn.Dropout(rate1))\n",
    "    def forward(self, x):\n",
    "        output = self.EnE(x)\n",
    "        return output  \n",
    "\n",
    "\n",
    "class AEC(nn.Module):\n",
    "    def __init__(self):\n",
    "        super(AEC, self).__init__()\n",
    "        self.EnC = torch.nn.Sequential(\n",
    "            nn.Linear(IC_dim, h_dim2),\n",
    "            nn.BatchNorm1d(h_dim2),\n",
    "            nn.ReLU(),\n",
    "            nn.Dropout(rate2))\n",
    "    def forward(self, x):\n",
    "        output = self.EnC(x)\n",
    "        return output       \n",
    "\n",
    "class Classifier(nn.Module):\n",
    "    def __init__(self):\n",
    "        super(Classifier, self).__init__()\n",
    "        self.FC = torch.nn.Sequential(\n",
    "            nn.Linear(Z_in, 1),\n",
    "            nn.Dropout(rate3),\n",
    "            nn.Sigmoid())\n",
    "    def forward(self, x):\n",
    "        return self.FC(x)\n",
    "\n",
    "torch.cuda.manual_seed_all(42)\n",
    "\n",
    "AutoencoderE = torch.load(models_dir + \"Exprs_Cisplatin_GDSC_TCGA_DNA_REPi_Expression_CNA.pt\")\n",
    "AutoencoderC = torch.load(models_dir + \"CNA_Cisplatin_GDSC_TCGA_DNA_REPi_Expression_CNA.pt\")\n",
    "\n",
    "Clas = torch.load(models_dir + \"Class_Cisplatin_GDSC_TCGA_DNA_REPi_Expression_CNA.pt\")\n",
    "\n",
    "AutoencoderE.eval()\n",
    "AutoencoderC.eval()\n",
    "Clas.eval()\n",
    "\n",
    "ZEX = AutoencoderE(torch.FloatTensor(X_trainE))\n",
    "ZCX = AutoencoderC(torch.FloatTensor(X_trainC))\n",
    "ZTX = torch.cat((ZEX, ZCX), 1)\n",
    "ZTX = F.normalize(ZTX, p=2, dim=0)\n",
    "PredX = Clas(ZTX)\n",
    "AUCT = roc_auc_score(Y, PredX.detach().numpy())\n",
    "#print(f\"GDSC - Training AUC (TCGA_DNA_REPi): {round(AUCT,2)}\")\n",
    "AUCTaucpr = average_precision_score(Y, PredX.detach().numpy())\n",
    "#print(f\"GDSC - Training AUCPR (TCGA_DNA_REPi): {round(AUCTaucpr,2)}\\n\")\n",
    "\n",
    "ZETcisplatin = AutoencoderE(TX_testEcisplatin)\n",
    "ZCTcisplatin = AutoencoderC(TX_testCcisplatin)\n",
    "ZTTcisplatin = torch.cat((ZETcisplatin, ZCTcisplatin), 1)\n",
    "ZTTcisplatin = F.normalize(ZTTcisplatin, p=2, dim=0)\n",
    "PredTcisplatin = Clas(ZTTcisplatin)\n",
    "AUCTcisplatin = roc_auc_score(Ytscisplatin.astype(int), PredTcisplatin.detach().numpy())\n",
    "#print(f\"TCGA - Test AUC (Cisplatin): {round(AUCTcisplatin,2)}\")\n",
    "AUCTcisplatin_aucpr = average_precision_score(Ytscisplatin.astype(int), PredTcisplatin.detach().numpy())\n",
    "#print(f\"TCGA - Test AUCPR (Cisplatin): {round(AUCTcisplatin_aucpr,2)}\\n\")\n",
    "\n",
    "ZETcisplatin_hnsc = AutoencoderE(TX_testEcisplatin_hnsc)\n",
    "ZCTcisplatin_hnsc = AutoencoderC(TX_testCcisplatin_hnsc)\n",
    "ZTTcisplatin_hnsc = torch.cat((ZETcisplatin_hnsc, ZCTcisplatin_hnsc), 1)\n",
    "ZTTcisplatin_hnsc = F.normalize(ZTTcisplatin_hnsc, p=2, dim=0)\n",
    "PredTcisplatin_hnsc = Clas(ZTTcisplatin_hnsc)\n",
    "AUCTcisplatin_hnsc = roc_auc_score(Ytscisplatin_hnsc.astype(int), PredTcisplatin_hnsc.detach().numpy())\n",
    "#print(f\"TCGA - Test AUC (Cisplatin, HNSC): {round(AUCTcisplatin_hnsc,2)}\")\n",
    "AUCTcisplatin_hnsc_aucpr = average_precision_score(Ytscisplatin_hnsc.astype(int), PredTcisplatin_hnsc.detach().numpy())\n",
    "#print(f\"TCGA - Test AUCPR (Cisplatin, HNSC): {round(AUCTcisplatin_hnsc_aucpr,2)}\\n\")\n",
    "\n",
    "AUCT_finetuned = dict()\n",
    "AUCTaucpr_finetuned = dict()\n",
    "AUCTcisplatin_finetuned = dict()\n",
    "AUCTcisplatin_hnsc_finetuned = dict()\n",
    "AUCTcisplatin_aucpr_finetuned = dict()\n",
    "AUCTcisplatin_hnsc_aucpr_finetuned = dict()\n",
    "for iter in range(max_iter):\n",
    "   iter += 1  \n",
    "\n",
    "   AutoencoderE_finetuned = torch.load(models_dir + f\"Finetuned_Models/Exprs_Cisplatin_GDSC_TCGA_DNA_REPi_Expression_CNA_Finetuned_{iter}.pt\")\n",
    "   AutoencoderC_finetuned = torch.load(models_dir + f\"Finetuned_Models/CNA_Cisplatin_GDSC_TCGA_DNA_REPi_Expression_CNA_Finetuned_{iter}.pt\")\n",
    "   Clas_finetuned = torch.load(models_dir + f\"Finetuned_Models/Class_Cisplatin_GDSC_TCGA_DNA_REPi_Expression_CNA_Finetuned_{iter}.pt\")\n",
    "   \n",
    "   AutoencoderE_finetuned.eval()\n",
    "   AutoencoderC_finetuned.eval()\n",
    "   Clas_finetuned.eval()\n",
    "      \n",
    "   ZEX = AutoencoderE_finetuned(torch.FloatTensor(X_trainE))\n",
    "   ZCX = AutoencoderC_finetuned(torch.FloatTensor(X_trainC))\n",
    "   ZTX = torch.cat((ZEX, ZCX), 1)\n",
    "   ZTX = F.normalize(ZTX, p=2, dim=0)\n",
    "   PredX = Clas_finetuned(ZTX)\n",
    "   AUCT_finetuned[iter] = roc_auc_score(Y, PredX.detach().numpy())\n",
    "   AUCTaucpr_finetuned[iter] = average_precision_score(Y, PredX.detach().numpy())\n",
    "   \n",
    "   ZETcisplatin = AutoencoderE_finetuned(TX_testEcisplatin)\n",
    "   ZCTcisplatin = AutoencoderC_finetuned(TX_testCcisplatin)\n",
    "   ZTTcisplatin = torch.cat((ZETcisplatin, ZCTcisplatin), 1)\n",
    "   ZTTcisplatin = F.normalize(ZTTcisplatin, p=2, dim=0)\n",
    "   PredTcisplatin = Clas_finetuned(ZTTcisplatin)\n",
    "   AUCTcisplatin_finetuned[iter] = roc_auc_score(Ytscisplatin.astype(int), PredTcisplatin.detach().numpy())\n",
    "   AUCTcisplatin_aucpr_finetuned[iter] = average_precision_score(Ytscisplatin.astype(int), PredTcisplatin.detach().numpy())\n",
    "\n",
    "   ZETcisplatin_hnsc = AutoencoderE_finetuned(TX_testEcisplatin_hnsc)\n",
    "   ZCTcisplatin_hnsc = AutoencoderC_finetuned(TX_testCcisplatin_hnsc)\n",
    "   ZTTcisplatin_hnsc = torch.cat((ZETcisplatin_hnsc, ZCTcisplatin_hnsc), 1)\n",
    "   ZTTcisplatin_hnsc = F.normalize(ZTTcisplatin_hnsc, p=2, dim=0)\n",
    "   PredTcisplatin_hnsc = Clas_finetuned(ZTTcisplatin_hnsc)\n",
    "   AUCTcisplatin_hnsc_finetuned[iter] = roc_auc_score(Ytscisplatin_hnsc.astype(int), PredTcisplatin_hnsc.detach().numpy())\n",
    "   AUCTcisplatin_hnsc_aucpr_finetuned[iter] = average_precision_score(Ytscisplatin_hnsc.astype(int), PredTcisplatin_hnsc.detach().numpy())\n",
    "\n",
    "max_key = max(AUCTcisplatin_aucpr_finetuned, key=AUCTcisplatin_aucpr_finetuned.get)\n",
    "max_key_hnsc = max(AUCTcisplatin_hnsc_aucpr_finetuned, key=AUCTcisplatin_hnsc_aucpr_finetuned.get)\n",
    "\n",
    "print(f\"GDSC - Training AUC (DNA_REPi): {round(AUCT,2)}\")\n",
    "print(f\"GDSC - Training AUCPR (DNA_REPi): {round(AUCTaucpr,2)}\")\n",
    "print(f\"TCGA - Test AUC (Cisplatin): {round(AUCTcisplatin,2)}\")\n",
    "print(f\"TCGA - Test AUCPR (Cisplatin): {round(AUCTcisplatin_aucpr,2)}\")\n",
    "print(f\"TCGA - Test AUC (Cisplatin, HNSC): {round(AUCTcisplatin_hnsc,2)}\")\n",
    "print(f\"TCGA - Test AUCPR (Cisplatin, HNSC): {round(AUCTcisplatin_hnsc_aucpr,2)}\\n\")\n",
    "\n",
    "print(f\"GDSC - Training AUC (DNA_REPi, Finetuned): {round(AUCT_finetuned[max_key],2)}\")\n",
    "print(f\"GDSC - Training AUCPR (DNA_REPi, Finetuned): {round(AUCTaucpr_finetuned[max_key],2)}\")\n",
    "print(f\"TCGA - Test AUC (Cisplatin, Finetuned): {round(AUCTcisplatin_finetuned[max_key],2)}\")\n",
    "print(f\"TCGA - Test AUCPR (Cisplatin, Finetuned): {round(AUCTcisplatin_aucpr_finetuned[max_key],2)}\\n\")\n",
    "\n",
    "print(f\"GDSC - Training AUC (DNA_REPi, Finetuned): {round(AUCT_finetuned[max_key_hnsc],2)}\")\n",
    "print(f\"GDSC - Training AUCPR (DNA_REPi, Finetuned): {round(AUCTaucpr_finetuned[max_key_hnsc],2)}\")\n",
    "print(f\"TCGA - Test AUC (Cisplatin, HNSC, Finetuned): {round(AUCTcisplatin_hnsc_finetuned[max_key_hnsc],2)}\")\n",
    "print(f\"TCGA - Test AUCPR (Cisplatin, HNSC, Finetuned): {round(AUCTcisplatin_hnsc_aucpr_finetuned[max_key_hnsc],2)}\\n\\n\")\n",
    "\n",
    "print(\"Models for maximum finetuning (Cisplatin)\")\n",
    "print(f\"Exprs_Cisplatin_GDSC_TCGA_DNA_REPi_Expression_CNA_Finetuned_{max_key}.pt\")\n",
    "print(f\"CNA_Cisplatin_GDSC_TCGA_DNA_REPi_Expression_CNA_Finetuned_{max_key}.pt\")\n",
    "print(f\"Class_Cisplatin_GDSC_TCGA_DNA_REPi_Expression_CNA_Finetuned_{max_key}.pt\")\n",
    "\n",
    "print(\"\\nModels for maximum finetuning (Cisplatin, HNSC)\")\n",
    "print(f\"Exprs_Cisplatin_GDSC_TCGA_DNA_REPi_Expression_CNA_Finetuned_{max_key_hnsc}.pt\")\n",
    "print(f\"CNA_Cisplatin_GDSC_TCGA_DNA_REPi_Expression_CNA_Finetuned_{max_key_hnsc}.pt\")\n",
    "print(f\"Class_Cisplatin_GDSC_TCGA_DNA_REPi_Expression_CNA_Finetuned_{max_key_hnsc}.pt\")"
   ]
  },
  {
   "cell_type": "code",
   "execution_count": 56,
   "metadata": {},
   "outputs": [
    {
     "data": {
      "text/plain": [
       "AEE(\n",
       "  (EnE): Sequential(\n",
       "    (0): Linear(in_features=772, out_features=512, bias=True)\n",
       "    (1): BatchNorm1d(512, eps=1e-05, momentum=0.1, affine=True, track_running_stats=True)\n",
       "    (2): ReLU()\n",
       "    (3): Dropout(p=0.6, inplace=False)\n",
       "  )\n",
       ")"
      ]
     },
     "execution_count": 56,
     "metadata": {},
     "output_type": "execute_result"
    }
   ],
   "source": [
    "# show expression layer parameters\n",
    "\n",
    "AutoencoderE"
   ]
  },
  {
   "cell_type": "code",
   "execution_count": 57,
   "metadata": {},
   "outputs": [
    {
     "data": {
      "text/plain": [
       "AEC(\n",
       "  (EnC): Sequential(\n",
       "    (0): Linear(in_features=772, out_features=128, bias=True)\n",
       "    (1): BatchNorm1d(128, eps=1e-05, momentum=0.1, affine=True, track_running_stats=True)\n",
       "    (2): ReLU()\n",
       "    (3): Dropout(p=0.6, inplace=False)\n",
       "  )\n",
       ")"
      ]
     },
     "execution_count": 57,
     "metadata": {},
     "output_type": "execute_result"
    }
   ],
   "source": [
    "# show CNA layer parameters\n",
    "\n",
    "AutoencoderC"
   ]
  },
  {
   "cell_type": "code",
   "execution_count": 58,
   "metadata": {},
   "outputs": [
    {
     "data": {
      "text/plain": [
       "Classifier(\n",
       "  (FC): Sequential(\n",
       "    (0): Linear(in_features=640, out_features=1, bias=True)\n",
       "    (1): Dropout(p=0.7, inplace=False)\n",
       "    (2): Sigmoid()\n",
       "  )\n",
       ")"
      ]
     },
     "execution_count": 58,
     "metadata": {},
     "output_type": "execute_result"
    }
   ],
   "source": [
    "# show classification layer parameters\n",
    "\n",
    "Clas"
   ]
  },
  {
   "cell_type": "code",
   "execution_count": 59,
   "metadata": {},
   "outputs": [
    {
     "data": {
      "text/html": [
       "<div>\n",
       "<style scoped>\n",
       "    .dataframe tbody tr th:only-of-type {\n",
       "        vertical-align: middle;\n",
       "    }\n",
       "\n",
       "    .dataframe tbody tr th {\n",
       "        vertical-align: top;\n",
       "    }\n",
       "\n",
       "    .dataframe thead th {\n",
       "        text-align: right;\n",
       "    }\n",
       "</style>\n",
       "<table border=\"1\" class=\"dataframe\">\n",
       "  <thead>\n",
       "    <tr style=\"text-align: right;\">\n",
       "      <th></th>\n",
       "      <th>Data</th>\n",
       "      <th>AUC (GDSC, N=9435)</th>\n",
       "      <th>AUCPR (GDSC, N=9435)</th>\n",
       "      <th>AUC (TCGA, N=64)</th>\n",
       "      <th>AUCPR (TCGA, N=64)</th>\n",
       "      <th>AUC (TCGA-HNSC, N=37)</th>\n",
       "      <th>AUCPR (TCGA-HNSC, N=37)</th>\n",
       "      <th>Sample Size (GDSC)</th>\n",
       "      <th>Feature Size (GDSC)</th>\n",
       "    </tr>\n",
       "  </thead>\n",
       "  <tbody>\n",
       "    <tr>\n",
       "      <th>0</th>\n",
       "      <td>Expr + CNA</td>\n",
       "      <td>0.73</td>\n",
       "      <td>0.23</td>\n",
       "      <td>0.71</td>\n",
       "      <td>0.96</td>\n",
       "      <td>0.49</td>\n",
       "      <td>0.94</td>\n",
       "      <td>9435</td>\n",
       "      <td>772</td>\n",
       "    </tr>\n",
       "    <tr>\n",
       "      <th>1</th>\n",
       "      <td>Expr + CNA (Fine-tuned)</td>\n",
       "      <td>0.76</td>\n",
       "      <td>0.27</td>\n",
       "      <td>0.81</td>\n",
       "      <td>0.98</td>\n",
       "      <td>0.67</td>\n",
       "      <td>0.97</td>\n",
       "      <td>9435</td>\n",
       "      <td>772</td>\n",
       "    </tr>\n",
       "  </tbody>\n",
       "</table>\n",
       "</div>"
      ],
      "text/plain": [
       "                      Data AUC (GDSC, N=9435) AUCPR (GDSC, N=9435)  \\\n",
       "0               Expr + CNA               0.73                 0.23   \n",
       "1  Expr + CNA (Fine-tuned)               0.76                 0.27   \n",
       "\n",
       "  AUC (TCGA, N=64) AUCPR (TCGA, N=64) AUC (TCGA-HNSC, N=37)  \\\n",
       "0             0.71               0.96                  0.49   \n",
       "1             0.81               0.98                  0.67   \n",
       "\n",
       "  AUCPR (TCGA-HNSC, N=37) Sample Size (GDSC) Feature Size (GDSC)  \n",
       "0                    0.94               9435                 772  \n",
       "1                    0.97               9435                 772  "
      ]
     },
     "execution_count": 59,
     "metadata": {},
     "output_type": "execute_result"
    }
   ],
   "source": [
    "# create a dataframe with the prediction results \n",
    "\n",
    "ec = {\"Data\": [\"Expr + CNA\", \"Expr + CNA (Fine-tuned)\"],\n",
    "       \"AUC (GDSC)\": [round(AUCT, 2), round(AUCT_finetuned[max_key], 2)],\n",
    "       \"AUCPR (GDSC)\": [round(AUCTaucpr,2), round(AUCTaucpr_finetuned[max_key],2)],\n",
    "       \"AUC (TCGA)\": [round(AUCTcisplatin,2), round(AUCTcisplatin_finetuned[max_key],2)],\n",
    "       \"AUCPR (TCGA)\":  [round(AUCTcisplatin_aucpr,2), round(AUCTcisplatin_aucpr_finetuned[max_key],2)],\n",
    "       \"AUC (TCGA-HNSC)\":  [round(AUCTcisplatin_hnsc,2), round(AUCTcisplatin_hnsc_finetuned[max_key_hnsc],2)],\n",
    "       \"AUCPR (TCGA-HNSC)\": [round(AUCTcisplatin_hnsc_aucpr,2), round(AUCTcisplatin_hnsc_aucpr_finetuned[max_key_hnsc],2)],\n",
    "       \"Sample Size (GDSC)\": [GDSCEv2.shape[0], GDSCEv2.shape[0]],\n",
    "       \"Feature Size (GDSC)\": [GDSCEv2.shape[1], GDSCEv2.shape[1]] \n",
    "}\n",
    "ec_dataframe = pd.DataFrame.from_dict(ec, orient='index').transpose() \n",
    "\n",
    "ec_dataframe.to_csv(save_results_to + \"GDSC_TCGA_Expression_CNA_DNA_REPi_Cisplatin.tsv\",\n",
    "                    sep = \"\\t\",\n",
    "                    index = False)\n",
    "\n",
    "ec_dataframe.rename(columns = {\n",
    "    \"AUC (GDSC)\": \"AUC (GDSC, N=\" + str(GDSCEv2.shape[0]) + \")\",\n",
    "    \"AUCPR (GDSC)\": \"AUCPR (GDSC, N=\" + str(GDSCEv2.shape[0]) + \")\",\n",
    "    \"AUC (TCGA)\": \"AUC (TCGA, N=\" + str(len(Ytscisplatin)) + \")\",\n",
    "    \"AUCPR (TCGA)\": \"AUCPR (TCGA, N=\" + str(len(Ytscisplatin)) + \")\",\n",
    "    \"AUC (TCGA-HNSC)\": \"AUC (TCGA-HNSC, N=\" + str(sum(TCGARcisplatin.loc[TCGARcisplatin[\"cohort\"] == \"HNSC\",\"response\"].value_counts())) + \")\",\n",
    "    \"AUCPR (TCGA-HNSC)\": \"AUCPR (TCGA-HNSC, N=\" + str(sum(TCGARcisplatin.loc[TCGARcisplatin[\"cohort\"] == \"HNSC\",\"response\"].value_counts())) + \")\"\n",
    "\n",
    "    }, inplace = True\n",
    ")\n",
    "\n",
    "ec_dataframe"
   ]
  },
  {
   "cell_type": "code",
   "execution_count": 60,
   "metadata": {},
   "outputs": [
    {
     "data": {
      "text/html": [
       "<div>\n",
       "<style scoped>\n",
       "    .dataframe tbody tr th:only-of-type {\n",
       "        vertical-align: middle;\n",
       "    }\n",
       "\n",
       "    .dataframe tbody tr th {\n",
       "        vertical-align: top;\n",
       "    }\n",
       "\n",
       "    .dataframe thead th {\n",
       "        text-align: right;\n",
       "    }\n",
       "</style>\n",
       "<table border=\"1\" class=\"dataframe\">\n",
       "  <thead>\n",
       "    <tr style=\"text-align: right;\">\n",
       "      <th></th>\n",
       "      <th>AUC (GDSC, N=9435)</th>\n",
       "      <th>AUCPR (GDSC, N=9435)</th>\n",
       "      <th>AUC (TCGA, N=64)</th>\n",
       "      <th>AUCPR (TCGA, N=64)</th>\n",
       "      <th>AUC (TCGA-HNSC, N=37)</th>\n",
       "      <th>AUCPR (TCGA-HNSC, N=37)</th>\n",
       "      <th>Sample Size (GDSC)</th>\n",
       "      <th>Feature Size (GDSC)</th>\n",
       "    </tr>\n",
       "    <tr>\n",
       "      <th>Data</th>\n",
       "      <th></th>\n",
       "      <th></th>\n",
       "      <th></th>\n",
       "      <th></th>\n",
       "      <th></th>\n",
       "      <th></th>\n",
       "      <th></th>\n",
       "      <th></th>\n",
       "    </tr>\n",
       "  </thead>\n",
       "  <tbody>\n",
       "    <tr>\n",
       "      <th>Expr + Mut + CNA</th>\n",
       "      <td>0.84</td>\n",
       "      <td>0.36</td>\n",
       "      <td>0.73</td>\n",
       "      <td>0.96</td>\n",
       "      <td>0.58</td>\n",
       "      <td>0.93</td>\n",
       "      <td>9435</td>\n",
       "      <td>758</td>\n",
       "    </tr>\n",
       "    <tr>\n",
       "      <th>Expr + Mut + CNA (Fine-tuned)</th>\n",
       "      <td>0.84</td>\n",
       "      <td>0.35</td>\n",
       "      <td>0.76</td>\n",
       "      <td>0.97</td>\n",
       "      <td>0.66</td>\n",
       "      <td>0.95</td>\n",
       "      <td>9435</td>\n",
       "      <td>758</td>\n",
       "    </tr>\n",
       "    <tr>\n",
       "      <th>Expr + CNA</th>\n",
       "      <td>0.73</td>\n",
       "      <td>0.23</td>\n",
       "      <td>0.71</td>\n",
       "      <td>0.96</td>\n",
       "      <td>0.49</td>\n",
       "      <td>0.94</td>\n",
       "      <td>9435</td>\n",
       "      <td>772</td>\n",
       "    </tr>\n",
       "    <tr>\n",
       "      <th>Expr + CNA (Fine-tuned)</th>\n",
       "      <td>0.76</td>\n",
       "      <td>0.27</td>\n",
       "      <td>0.81</td>\n",
       "      <td>0.98</td>\n",
       "      <td>0.67</td>\n",
       "      <td>0.97</td>\n",
       "      <td>9435</td>\n",
       "      <td>772</td>\n",
       "    </tr>\n",
       "    <tr>\n",
       "      <th>Expr + Mut</th>\n",
       "      <td>0.8</td>\n",
       "      <td>0.31</td>\n",
       "      <td>0.48</td>\n",
       "      <td>0.87</td>\n",
       "      <td>0.17</td>\n",
       "      <td>0.83</td>\n",
       "      <td>9435</td>\n",
       "      <td>835</td>\n",
       "    </tr>\n",
       "    <tr>\n",
       "      <th>Expr + Mut (Fine-tuned)</th>\n",
       "      <td>0.8</td>\n",
       "      <td>0.32</td>\n",
       "      <td>0.49</td>\n",
       "      <td>0.87</td>\n",
       "      <td>0.25</td>\n",
       "      <td>0.84</td>\n",
       "      <td>9435</td>\n",
       "      <td>835</td>\n",
       "    </tr>\n",
       "  </tbody>\n",
       "</table>\n",
       "</div>"
      ],
      "text/plain": [
       "                              AUC (GDSC, N=9435) AUCPR (GDSC, N=9435)  \\\n",
       "Data                                                                    \n",
       "Expr + Mut + CNA                            0.84                 0.36   \n",
       "Expr + Mut + CNA (Fine-tuned)               0.84                 0.35   \n",
       "Expr + CNA                                  0.73                 0.23   \n",
       "Expr + CNA (Fine-tuned)                     0.76                 0.27   \n",
       "Expr + Mut                                   0.8                 0.31   \n",
       "Expr + Mut (Fine-tuned)                      0.8                 0.32   \n",
       "\n",
       "                              AUC (TCGA, N=64) AUCPR (TCGA, N=64)  \\\n",
       "Data                                                                \n",
       "Expr + Mut + CNA                          0.73               0.96   \n",
       "Expr + Mut + CNA (Fine-tuned)             0.76               0.97   \n",
       "Expr + CNA                                0.71               0.96   \n",
       "Expr + CNA (Fine-tuned)                   0.81               0.98   \n",
       "Expr + Mut                                0.48               0.87   \n",
       "Expr + Mut (Fine-tuned)                   0.49               0.87   \n",
       "\n",
       "                              AUC (TCGA-HNSC, N=37) AUCPR (TCGA-HNSC, N=37)  \\\n",
       "Data                                                                          \n",
       "Expr + Mut + CNA                               0.58                    0.93   \n",
       "Expr + Mut + CNA (Fine-tuned)                  0.66                    0.95   \n",
       "Expr + CNA                                     0.49                    0.94   \n",
       "Expr + CNA (Fine-tuned)                        0.67                    0.97   \n",
       "Expr + Mut                                     0.17                    0.83   \n",
       "Expr + Mut (Fine-tuned)                        0.25                    0.84   \n",
       "\n",
       "                              Sample Size (GDSC) Feature Size (GDSC)  \n",
       "Data                                                                  \n",
       "Expr + Mut + CNA                            9435                 758  \n",
       "Expr + Mut + CNA (Fine-tuned)               9435                 758  \n",
       "Expr + CNA                                  9435                 772  \n",
       "Expr + CNA (Fine-tuned)                     9435                 772  \n",
       "Expr + Mut                                  9435                 835  \n",
       "Expr + Mut (Fine-tuned)                     9435                 835  "
      ]
     },
     "execution_count": 60,
     "metadata": {},
     "output_type": "execute_result"
    }
   ],
   "source": [
    "# merge all EM, EC, and EMC dataframes \n",
    "\n",
    "emc_dataframe = pd.read_csv(emc_dir + \"GDSC_TCGA_Expression_Mutation_CNA_DNA_REPi_Cisplatin.tsv\",\n",
    "                           sep = \"\\t\")\n",
    "emc_dataframe.columns = ec_dataframe.columns\n",
    "\n",
    "em_dataframe = pd.read_csv(em_dir + \"GDSC_TCGA_Expression_Mutation_DNA_REPi_Cisplatin.tsv\",\n",
    "                           sep = \"\\t\")\n",
    "em_dataframe.columns = ec_dataframe.columns\n",
    "\n",
    "all_dataframe = pd.concat([emc_dataframe, ec_dataframe, em_dataframe], axis = 0)\n",
    "all_dataframe.set_index(\"Data\", inplace = True)\n",
    "\n",
    "all_dataframe"
   ]
  },
  {
   "cell_type": "code",
   "execution_count": 61,
   "metadata": {},
   "outputs": [
    {
     "data": {
      "text/html": [
       "<div>\n",
       "<style scoped>\n",
       "    .dataframe tbody tr th:only-of-type {\n",
       "        vertical-align: middle;\n",
       "    }\n",
       "\n",
       "    .dataframe tbody tr th {\n",
       "        vertical-align: top;\n",
       "    }\n",
       "\n",
       "    .dataframe thead th {\n",
       "        text-align: right;\n",
       "    }\n",
       "</style>\n",
       "<table border=\"1\" class=\"dataframe\">\n",
       "  <thead>\n",
       "    <tr style=\"text-align: right;\">\n",
       "      <th></th>\n",
       "      <th>GDSC (N=9435, p=772\\nS=835, R=8600, S/N=0.09)</th>\n",
       "      <th>TCGA (N=64, p=772\\nS=58, R=6, S/N=0.91)</th>\n",
       "      <th>TCGA-HNSC (N=37, p=772\\nS=34, R=3, S/N=0.92)</th>\n",
       "    </tr>\n",
       "    <tr>\n",
       "      <th>Data</th>\n",
       "      <th></th>\n",
       "      <th></th>\n",
       "      <th></th>\n",
       "    </tr>\n",
       "  </thead>\n",
       "  <tbody>\n",
       "    <tr>\n",
       "      <th>Expr + Mut + CNA</th>\n",
       "      <td>0.84</td>\n",
       "      <td>0.73</td>\n",
       "      <td>0.58</td>\n",
       "    </tr>\n",
       "    <tr>\n",
       "      <th>Expr + Mut + CNA (Fine-tuned)</th>\n",
       "      <td>0.84</td>\n",
       "      <td>0.76</td>\n",
       "      <td>0.66</td>\n",
       "    </tr>\n",
       "    <tr>\n",
       "      <th>Expr + CNA</th>\n",
       "      <td>0.73</td>\n",
       "      <td>0.71</td>\n",
       "      <td>0.49</td>\n",
       "    </tr>\n",
       "    <tr>\n",
       "      <th>Expr + CNA (Fine-tuned)</th>\n",
       "      <td>0.76</td>\n",
       "      <td>0.81</td>\n",
       "      <td>0.67</td>\n",
       "    </tr>\n",
       "    <tr>\n",
       "      <th>Expr + Mut</th>\n",
       "      <td>0.8</td>\n",
       "      <td>0.48</td>\n",
       "      <td>0.17</td>\n",
       "    </tr>\n",
       "    <tr>\n",
       "      <th>Expr + Mut (Fine-tuned)</th>\n",
       "      <td>0.8</td>\n",
       "      <td>0.49</td>\n",
       "      <td>0.25</td>\n",
       "    </tr>\n",
       "  </tbody>\n",
       "</table>\n",
       "</div>"
      ],
      "text/plain": [
       "                              GDSC (N=9435, p=772\\nS=835, R=8600, S/N=0.09)  \\\n",
       "Data                                                                          \n",
       "Expr + Mut + CNA                                                       0.84   \n",
       "Expr + Mut + CNA (Fine-tuned)                                          0.84   \n",
       "Expr + CNA                                                             0.73   \n",
       "Expr + CNA (Fine-tuned)                                                0.76   \n",
       "Expr + Mut                                                              0.8   \n",
       "Expr + Mut (Fine-tuned)                                                 0.8   \n",
       "\n",
       "                              TCGA (N=64, p=772\\nS=58, R=6, S/N=0.91)  \\\n",
       "Data                                                                    \n",
       "Expr + Mut + CNA                                                 0.73   \n",
       "Expr + Mut + CNA (Fine-tuned)                                    0.76   \n",
       "Expr + CNA                                                       0.71   \n",
       "Expr + CNA (Fine-tuned)                                          0.81   \n",
       "Expr + Mut                                                       0.48   \n",
       "Expr + Mut (Fine-tuned)                                          0.49   \n",
       "\n",
       "                              TCGA-HNSC (N=37, p=772\\nS=34, R=3, S/N=0.92)  \n",
       "Data                                                                        \n",
       "Expr + Mut + CNA                                                      0.58  \n",
       "Expr + Mut + CNA (Fine-tuned)                                         0.66  \n",
       "Expr + CNA                                                            0.49  \n",
       "Expr + CNA (Fine-tuned)                                               0.67  \n",
       "Expr + Mut                                                            0.17  \n",
       "Expr + Mut (Fine-tuned)                                               0.25  "
      ]
     },
     "execution_count": 61,
     "metadata": {},
     "output_type": "execute_result"
    }
   ],
   "source": [
    "# change column names including sample size, feature size, count of resistant and sensitive samples, and sensitivity ratio \n",
    "\n",
    "auc_dataframe = all_dataframe[[f\"AUC (GDSC, N={str(GDSCEv2.shape[0])})\",\n",
    "                               f\"AUC (TCGA, N={str(len(Ytscisplatin))})\",\n",
    "                               f\"AUC (TCGA-HNSC, N={str(len(Ytscisplatin_hnsc))})\"]]\n",
    "\n",
    "\n",
    "auc_dataframe.rename(\n",
    "    columns = {\n",
    "        f\"AUC (GDSC, N={str(GDSCEv2.shape[0])})\": f\"GDSC (N={str(GDSCEv2.shape[0])}, p=\" + str(GDSCEv2.shape[1]) + \"\\nS=\" + str(GDSCR[\"response\"].value_counts()[1]) + \", R=\" + str(GDSCR[\"response\"].value_counts()[0]) + \", S/N=\" + str(round(GDSCR[\"response\"].value_counts()[1]/sum(GDSCR[\"response\"].value_counts()), 2)) + \")\",\n",
    "        f\"AUC (TCGA, N={str(len(Ytscisplatin))})\": f\"TCGA (N={str(len(Ytscisplatin))}, p=\" + str(TCGAEcisplatin.shape[1]) + \"\\nS=\" + str(TCGARcisplatin[\"response\"].value_counts()[1]) + \", R=\" + str(TCGARcisplatin[\"response\"].value_counts()[0]) + \", S/N=\" + str(round(TCGARcisplatin[\"response\"].value_counts()[1]/sum(TCGARcisplatin[\"response\"].value_counts()), 2)) + \")\",        \n",
    "        f\"AUC (TCGA-HNSC, N={str(len(Ytscisplatin_hnsc))})\": f\"TCGA-HNSC (N={str(len(Ytscisplatin_hnsc))}, p=\" + str(TCGAEcisplatin.shape[1]) + \"\\nS=\" + str(TCGARcisplatin.loc[TCGARcisplatin[\"cohort\"] == \"HNSC\",\"response\"].value_counts()[1]) + \", R=\" + str(TCGARcisplatin.loc[TCGARcisplatin[\"cohort\"] == \"HNSC\",\"response\"].value_counts()[0]) + \", S/N=\" + str(round(TCGARcisplatin.loc[TCGARcisplatin[\"cohort\"] == \"HNSC\",\"response\"].value_counts()[1]/sum(TCGARcisplatin.loc[TCGARcisplatin[\"cohort\"] == \"HNSC\",\"response\"].value_counts()), 2)) + \")\"\n",
    "    }, inplace = True\n",
    ")\n",
    "auc_dataframe"
   ]
  },
  {
   "cell_type": "code",
   "execution_count": 62,
   "metadata": {},
   "outputs": [
    {
     "data": {
      "image/png": "[encoded data removed]",
      "text/plain": [
       "<Figure size 1500x500 with 3 Axes>"
      ]
     },
     "metadata": {},
     "output_type": "display_data"
    }
   ],
   "source": [
    "# plot AUC scores\n",
    "\n",
    "df = auc_dataframe\n",
    "index_labels = list(df.index)\n",
    "group_count = df.shape[0] // 2 \n",
    "\n",
    "fig, axes = plt.subplots(nrows=1, ncols=df.shape[1], figsize=(15, 5), sharey=True)\n",
    "\n",
    "bar_width = 0.35\n",
    "x = np.arange(group_count)  \n",
    "\n",
    "# Generate grouped bar plots\n",
    "for i, ax in enumerate(axes):\n",
    "    col = df.columns[i]\n",
    "    \n",
    "    bars1 = df.iloc[::2, i]  \n",
    "    bars2 = df.iloc[1::2, i]  \n",
    "\n",
    "    rects1 = ax.bar(x - bar_width/2, bars1, width=bar_width, label='Base', color='skyblue')\n",
    "    rects2 = ax.bar(x + bar_width/2, bars2, width=bar_width, label='Fine-tuned', color='red')\n",
    "\n",
    "    ax.set_title(col, fontsize=12, fontweight=\"bold\")\n",
    "    ax.set_ylim(0, 1.1)\n",
    "    ax.set_xticks(x)\n",
    "    \n",
    "    xtick_labels = df.index[::2]\n",
    "    ax.set_xticklabels(xtick_labels, rotation=45, ha=\"right\", fontsize=10)\n",
    "    ax.grid(axis='y')\n",
    "\n",
    "    for rect in rects1 + rects2:\n",
    "        height = rect.get_height()\n",
    "        ax.text(rect.get_x() + rect.get_width() / 2, height + 0.02, f'{height:.2f}', ha='center', va='bottom', fontsize=9)\n",
    "\n",
    "axes[0].set_ylabel('AUC')\n",
    "fig.suptitle('AUC predictions (Cisplatin)', fontsize=14, fontweight=\"bold\", y=1.05)\n",
    "\n",
    "fig.legend(\n",
    "    handles=[rects1, rects2],\n",
    "    labels=[\"Base\", \"Fine-tuned\"],\n",
    "    loc='upper left',\n",
    "    bbox_to_anchor=(0.4, 0.96),\n",
    "    ncol=2,\n",
    "    frameon=False,\n",
    "    fontsize=13\n",
    ")\n",
    "\n",
    "plt.tight_layout(rect=[0, 0, 1, 0.95])\n",
    "plt.savefig(save_figures_to + \"AUC Plot (Cisplatin).png\", bbox_inches='tight', pad_inches=0.5)\n",
    "plt.show()"
   ]
  },
  {
   "cell_type": "code",
   "execution_count": 63,
   "metadata": {},
   "outputs": [
    {
     "data": {
      "text/html": [
       "<div>\n",
       "<style scoped>\n",
       "    .dataframe tbody tr th:only-of-type {\n",
       "        vertical-align: middle;\n",
       "    }\n",
       "\n",
       "    .dataframe tbody tr th {\n",
       "        vertical-align: top;\n",
       "    }\n",
       "\n",
       "    .dataframe thead th {\n",
       "        text-align: right;\n",
       "    }\n",
       "</style>\n",
       "<table border=\"1\" class=\"dataframe\">\n",
       "  <thead>\n",
       "    <tr style=\"text-align: right;\">\n",
       "      <th></th>\n",
       "      <th>GDSC (N=9435, p=772\\nS=835, R=8600, S/N=0.09)</th>\n",
       "      <th>TCGA (N=64, p=772\\nS=58, R=6, S/N=0.91)</th>\n",
       "      <th>TCGA-HNSC (N=37, p=772\\nS=34, R=3, S/N=0.92)</th>\n",
       "    </tr>\n",
       "    <tr>\n",
       "      <th>Data</th>\n",
       "      <th></th>\n",
       "      <th></th>\n",
       "      <th></th>\n",
       "    </tr>\n",
       "  </thead>\n",
       "  <tbody>\n",
       "    <tr>\n",
       "      <th>Expr + Mut + CNA</th>\n",
       "      <td>0.36</td>\n",
       "      <td>0.96</td>\n",
       "      <td>0.93</td>\n",
       "    </tr>\n",
       "    <tr>\n",
       "      <th>Expr + Mut + CNA (Fine-tuned)</th>\n",
       "      <td>0.35</td>\n",
       "      <td>0.97</td>\n",
       "      <td>0.95</td>\n",
       "    </tr>\n",
       "    <tr>\n",
       "      <th>Expr + CNA</th>\n",
       "      <td>0.23</td>\n",
       "      <td>0.96</td>\n",
       "      <td>0.94</td>\n",
       "    </tr>\n",
       "    <tr>\n",
       "      <th>Expr + CNA (Fine-tuned)</th>\n",
       "      <td>0.27</td>\n",
       "      <td>0.98</td>\n",
       "      <td>0.97</td>\n",
       "    </tr>\n",
       "    <tr>\n",
       "      <th>Expr + Mut</th>\n",
       "      <td>0.31</td>\n",
       "      <td>0.87</td>\n",
       "      <td>0.83</td>\n",
       "    </tr>\n",
       "    <tr>\n",
       "      <th>Expr + Mut (Fine-tuned)</th>\n",
       "      <td>0.32</td>\n",
       "      <td>0.87</td>\n",
       "      <td>0.84</td>\n",
       "    </tr>\n",
       "  </tbody>\n",
       "</table>\n",
       "</div>"
      ],
      "text/plain": [
       "                              GDSC (N=9435, p=772\\nS=835, R=8600, S/N=0.09)  \\\n",
       "Data                                                                          \n",
       "Expr + Mut + CNA                                                       0.36   \n",
       "Expr + Mut + CNA (Fine-tuned)                                          0.35   \n",
       "Expr + CNA                                                             0.23   \n",
       "Expr + CNA (Fine-tuned)                                                0.27   \n",
       "Expr + Mut                                                             0.31   \n",
       "Expr + Mut (Fine-tuned)                                                0.32   \n",
       "\n",
       "                              TCGA (N=64, p=772\\nS=58, R=6, S/N=0.91)  \\\n",
       "Data                                                                    \n",
       "Expr + Mut + CNA                                                 0.96   \n",
       "Expr + Mut + CNA (Fine-tuned)                                    0.97   \n",
       "Expr + CNA                                                       0.96   \n",
       "Expr + CNA (Fine-tuned)                                          0.98   \n",
       "Expr + Mut                                                       0.87   \n",
       "Expr + Mut (Fine-tuned)                                          0.87   \n",
       "\n",
       "                              TCGA-HNSC (N=37, p=772\\nS=34, R=3, S/N=0.92)  \n",
       "Data                                                                        \n",
       "Expr + Mut + CNA                                                      0.93  \n",
       "Expr + Mut + CNA (Fine-tuned)                                         0.95  \n",
       "Expr + CNA                                                            0.94  \n",
       "Expr + CNA (Fine-tuned)                                               0.97  \n",
       "Expr + Mut                                                            0.83  \n",
       "Expr + Mut (Fine-tuned)                                               0.84  "
      ]
     },
     "execution_count": 63,
     "metadata": {},
     "output_type": "execute_result"
    }
   ],
   "source": [
    "# change column names including sample size, feature size, count of resistant and sensitive samples, and sensitivity ratio \n",
    "\n",
    "aucpr_dataframe = all_dataframe[[f\"AUCPR (GDSC, N={str(GDSCEv2.shape[0])})\",\n",
    "                                 f\"AUCPR (TCGA, N={str(len(Ytscisplatin))})\",\n",
    "                                 f\"AUCPR (TCGA-HNSC, N={str(len(Ytscisplatin_hnsc))})\"]]\n",
    "\n",
    "\n",
    "aucpr_dataframe.rename(\n",
    "    columns = {\n",
    "        f\"AUCPR (GDSC, N={str(GDSCEv2.shape[0])})\": f\"GDSC (N={str(GDSCEv2.shape[0])}, p=\" + str(GDSCEv2.shape[1]) + \"\\nS=\" + str(GDSCR[\"response\"].value_counts()[1]) + \", R=\" + str(GDSCR[\"response\"].value_counts()[0]) + \", S/N=\" + str(round(GDSCR[\"response\"].value_counts()[1]/sum(GDSCR[\"response\"].value_counts()), 2)) + \")\",\n",
    "        f\"AUCPR (TCGA, N={str(len(Ytscisplatin))})\": f\"TCGA (N={str(len(Ytscisplatin))}, p=\" + str(TCGAEcisplatin.shape[1]) + \"\\nS=\" + str(TCGARcisplatin[\"response\"].value_counts()[1]) + \", R=\" + str(TCGARcisplatin[\"response\"].value_counts()[0]) + \", S/N=\" + str(round(TCGARcisplatin[\"response\"].value_counts()[1]/sum(TCGARcisplatin[\"response\"].value_counts()), 2)) + \")\",        \n",
    "        f\"AUCPR (TCGA-HNSC, N={str(len(Ytscisplatin_hnsc))})\": f\"TCGA-HNSC (N={str(len(Ytscisplatin_hnsc))}, p=\" + str(TCGAEcisplatin.shape[1]) + \"\\nS=\" + str(TCGARcisplatin.loc[TCGARcisplatin[\"cohort\"] == \"HNSC\",\"response\"].value_counts()[1]) + \", R=\" + str(TCGARcisplatin.loc[TCGARcisplatin[\"cohort\"] == \"HNSC\",\"response\"].value_counts()[0]) + \", S/N=\" + str(round(TCGARcisplatin.loc[TCGARcisplatin[\"cohort\"] == \"HNSC\",\"response\"].value_counts()[1]/sum(TCGARcisplatin.loc[TCGARcisplatin[\"cohort\"] == \"HNSC\",\"response\"].value_counts()), 2)) + \")\"\n",
    "    }, inplace = True\n",
    ")\n",
    "aucpr_dataframe"
   ]
  },
  {
   "cell_type": "code",
   "execution_count": 64,
   "metadata": {},
   "outputs": [
    {
     "data": {
      "image/png": "[encoded data removed]",
      "text/plain": [
       "<Figure size 1500x500 with 3 Axes>"
      ]
     },
     "metadata": {},
     "output_type": "display_data"
    }
   ],
   "source": [
    "# plot AUCPR scores\n",
    "\n",
    "df = aucpr_dataframe\n",
    "index_labels = list(df.index)\n",
    "group_count = df.shape[0] // 2 \n",
    "\n",
    "fig, axes = plt.subplots(nrows=1, ncols=df.shape[1], figsize=(15, 5), sharey=True)\n",
    "\n",
    "bar_width = 0.35\n",
    "x = np.arange(group_count)  \n",
    "\n",
    "# Generate grouped bar plots\n",
    "for i, ax in enumerate(axes):\n",
    "    col = df.columns[i]\n",
    "    \n",
    "    bars1 = df.iloc[::2, i]  \n",
    "    bars2 = df.iloc[1::2, i]  \n",
    "\n",
    "    rects1 = ax.bar(x - bar_width/2, bars1, width=bar_width, label='Base', color='skyblue')\n",
    "    rects2 = ax.bar(x + bar_width/2, bars2, width=bar_width, label='Fine-tuned', color='red')\n",
    "\n",
    "    ax.set_title(col, fontsize=12, fontweight=\"bold\")\n",
    "    ax.set_ylim(0, 1.1)\n",
    "    ax.set_xticks(x)\n",
    "    \n",
    "    xtick_labels = df.index[::2]\n",
    "    ax.set_xticklabels(xtick_labels, rotation=45, ha=\"right\", fontsize=10)\n",
    "    ax.grid(axis='y')\n",
    "\n",
    "    for rect in rects1 + rects2:\n",
    "        height = rect.get_height()\n",
    "        ax.text(rect.get_x() + rect.get_width() / 2, height + 0.02, f'{height:.2f}', ha='center', va='bottom', fontsize=9)\n",
    "\n",
    "axes[0].set_ylabel('AUCPR')\n",
    "fig.suptitle('AUCPR predictions (Cisplatin)', fontsize=14, fontweight=\"bold\", y=1.05)\n",
    "\n",
    "fig.legend(\n",
    "    handles=[rects1, rects2],\n",
    "    labels=[\"Base\", \"Fine-tuned\"],\n",
    "    loc='upper left',\n",
    "    bbox_to_anchor=(0.4, 0.96),\n",
    "    ncol=2,\n",
    "    frameon=False,\n",
    "    fontsize=13\n",
    ")\n",
    "\n",
    "plt.tight_layout(rect=[0, 0, 1, 0.95])\n",
    "plt.savefig(save_figures_to + \"AUCPR Plot (Cisplatin).png\", bbox_inches='tight', pad_inches=0.5)\n",
    "plt.show()"
   ]
  },
  {
   "cell_type": "code",
   "execution_count": 65,
   "metadata": {},
   "outputs": [
    {
     "name": "stdout",
     "output_type": "stream",
     "text": [
      "/Volumes/Expansion/Thesis Work/Results/Transfer Learning/Drugs with same pathways/TCGA_DNA_REPi/Expression_CNA/Predictions\n"
     ]
    }
   ],
   "source": [
    "# change directory\n",
    "\n",
    "os.chdir(save_results_to)\n",
    "print(os.getcwd())"
   ]
  },
  {
   "cell_type": "code",
   "execution_count": 66,
   "metadata": {},
   "outputs": [],
   "source": [
    "# save predictions\n",
    "\n",
    "file = open('GDSC_TCGA_DEGs - TCGA_DNA_REPi_Cisplatin Predictions (Expression and CNA).txt', 'w')\n",
    "file.write(f\"GDSC Training (EC) AUC (TCGA_DNA_REPi): {round(AUCT,2)}\\n\")\n",
    "file.write(f\"GDSC Training (EC) AUCPR (TCGA_DNA_REPi): {round(AUCTaucpr,2)}\\n\\n\")\n",
    "\n",
    "file.write(f\"TCGA Test (EC) AUC (Cisplatin): {round(AUCTcisplatin,2)}\\n\")\n",
    "file.write(f\"TCGA Test (EC) AUCPR (Cisplatin): {round(AUCTcisplatin_aucpr,2)}\\n\\n\")\n",
    "\n",
    "file.close()"
   ]
  }
 ],
 "metadata": {
  "kernelspec": {
   "display_name": "Python 3 (ipykernel)",
   "language": "python",
   "name": "python3"
  },
  "language_info": {
   "codemirror_mode": {
    "name": "ipython",
    "version": 3
   },
   "file_extension": ".py",
   "mimetype": "text/x-python",
   "name": "python",
   "nbconvert_exporter": "python",
   "pygments_lexer": "ipython3",
   "version": "3.12.7"
  }
 },
 "nbformat": 4,
 "nbformat_minor": 4
}
