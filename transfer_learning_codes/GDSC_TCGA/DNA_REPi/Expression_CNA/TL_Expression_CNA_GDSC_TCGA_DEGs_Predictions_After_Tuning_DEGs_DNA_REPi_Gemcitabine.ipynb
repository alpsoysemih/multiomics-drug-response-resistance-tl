{
 "cells": [
  {
   "cell_type": "code",
   "execution_count": 1,
   "metadata": {},
   "outputs": [],
   "source": [
    "# import libraries\n",
    "\n",
    "import os\n",
    "import torch \n",
    "import torch.nn as nn\n",
    "import torch.nn.functional as F\n",
    "import torch.optim as optim\n",
    "import numpy as np\n",
    "import matplotlib.pyplot as plt\n",
    "import pandas as pd\n",
    "import math\n",
    "import mygene\n",
    "import sklearn.preprocessing as sk\n",
    "import seaborn as sns\n",
    "from sklearn import metrics\n",
    "from sklearn.feature_selection import VarianceThreshold\n",
    "from sklearn.model_selection import train_test_split\n",
    "from sklearn.metrics import confusion_matrix\n",
    "from sklearn.metrics import classification_report\n",
    "from torch.utils.data.sampler import WeightedRandomSampler\n",
    "from sklearn.metrics import roc_curve, auc\n",
    "from sklearn.metrics import roc_auc_score\n",
    "from sklearn.metrics import average_precision_score, precision_recall_curve\n",
    "import random\n",
    "from random import randint\n",
    "from sklearn.model_selection import StratifiedKFold\n",
    "import warnings\n",
    "\n",
    "# Suppress all warnings\n",
    "warnings.filterwarnings(\"ignore\")"
   ]
  },
  {
   "cell_type": "code",
   "execution_count": 2,
   "metadata": {},
   "outputs": [],
   "source": [
    "# define directories\n",
    "\n",
    "cell_line_dir = \"/Volumes/Expansion/Thesis Work/Supplementary Files/GDSC/\"\n",
    "models_dir = \"/Volumes/Expansion/Thesis Work/Results/Transfer Learning/Drugs with same pathways/TCGA_DNA_REPi/Expression_CNA/Models/\"\n",
    "DEGs_dir = \"/Volumes/Expansion/Thesis Work/Results/GDSC_DEGs_inhibitors/DNA_REPi/\"\n",
    "dataset_dir = \"/Volumes/Expansion/Thesis Work/Results/preprocessed_results2/\"\n",
    "save_results_to = \"/Volumes/Expansion/Thesis Work/Results/Transfer Learning/Drugs with same pathways/TCGA_DNA_REPi/Expression_CNA/Predictions/\""
   ]
  },
  {
   "cell_type": "code",
   "execution_count": 3,
   "metadata": {},
   "outputs": [],
   "source": [
    "# set random seeds\n",
    "\n",
    "torch.manual_seed(42)\n",
    "random.seed(42)"
   ]
  },
  {
   "cell_type": "code",
   "execution_count": 4,
   "metadata": {},
   "outputs": [
    {
     "name": "stdout",
     "output_type": "stream",
     "text": [
      "/Volumes/Expansion/Thesis Work/Supplementary Files/GDSC\n"
     ]
    }
   ],
   "source": [
    "# change directory to read GDSC cell line details\n",
    "\n",
    "os.chdir(cell_line_dir)\n",
    "print(os.getcwd())"
   ]
  },
  {
   "cell_type": "code",
   "execution_count": 5,
   "metadata": {},
   "outputs": [
    {
     "data": {
      "text/html": [
       "<div>\n",
       "<style scoped>\n",
       "    .dataframe tbody tr th:only-of-type {\n",
       "        vertical-align: middle;\n",
       "    }\n",
       "\n",
       "    .dataframe tbody tr th {\n",
       "        vertical-align: top;\n",
       "    }\n",
       "\n",
       "    .dataframe thead th {\n",
       "        text-align: right;\n",
       "    }\n",
       "</style>\n",
       "<table border=\"1\" class=\"dataframe\">\n",
       "  <thead>\n",
       "    <tr style=\"text-align: right;\">\n",
       "      <th></th>\n",
       "      <th>Sample Name</th>\n",
       "      <th>Whole Exome Sequencing (WES)</th>\n",
       "      <th>Copy Number Alterations (CNA)</th>\n",
       "      <th>Gene Expression</th>\n",
       "      <th>Methylation</th>\n",
       "      <th>Drug\\nResponse</th>\n",
       "      <th>GDSC\\nTissue descriptor 1</th>\n",
       "      <th>GDSC\\nTissue\\ndescriptor 2</th>\n",
       "      <th>Cancer Type\\n(matching TCGA label)</th>\n",
       "      <th>Microsatellite \\ninstability Status (MSI)</th>\n",
       "      <th>Screen Medium</th>\n",
       "      <th>Growth Properties</th>\n",
       "    </tr>\n",
       "    <tr>\n",
       "      <th>COSMIC identifier</th>\n",
       "      <th></th>\n",
       "      <th></th>\n",
       "      <th></th>\n",
       "      <th></th>\n",
       "      <th></th>\n",
       "      <th></th>\n",
       "      <th></th>\n",
       "      <th></th>\n",
       "      <th></th>\n",
       "      <th></th>\n",
       "      <th></th>\n",
       "      <th></th>\n",
       "    </tr>\n",
       "  </thead>\n",
       "  <tbody>\n",
       "    <tr>\n",
       "      <th>1298218</th>\n",
       "      <td>KP-2</td>\n",
       "      <td>Y</td>\n",
       "      <td>N</td>\n",
       "      <td>Y</td>\n",
       "      <td>N</td>\n",
       "      <td>Y</td>\n",
       "      <td>pancreas</td>\n",
       "      <td>pancreas</td>\n",
       "      <td>PAAD</td>\n",
       "      <td></td>\n",
       "      <td>D/F12</td>\n",
       "      <td>Adherent</td>\n",
       "    </tr>\n",
       "    <tr>\n",
       "      <th>1330932</th>\n",
       "      <td>KO52</td>\n",
       "      <td>Y</td>\n",
       "      <td>Y</td>\n",
       "      <td>N</td>\n",
       "      <td>N</td>\n",
       "      <td>N</td>\n",
       "      <td>leukemia</td>\n",
       "      <td>acute_myeloid_leukaemia</td>\n",
       "      <td>LAML</td>\n",
       "      <td>MSS/MSI-L</td>\n",
       "      <td>D/F12</td>\n",
       "      <td>NA</td>\n",
       "    </tr>\n",
       "    <tr>\n",
       "      <th>1331030</th>\n",
       "      <td>SC-1</td>\n",
       "      <td>Y</td>\n",
       "      <td>Y</td>\n",
       "      <td>N</td>\n",
       "      <td>N</td>\n",
       "      <td>N</td>\n",
       "      <td>lymphoma</td>\n",
       "      <td>B_cell_lymphoma</td>\n",
       "      <td>DLBC</td>\n",
       "      <td>MSS/MSI-L</td>\n",
       "      <td>R</td>\n",
       "      <td>NA</td>\n",
       "    </tr>\n",
       "    <tr>\n",
       "      <th>1503373</th>\n",
       "      <td>U-CH2</td>\n",
       "      <td>Y</td>\n",
       "      <td>Y</td>\n",
       "      <td>N</td>\n",
       "      <td>N</td>\n",
       "      <td>N</td>\n",
       "      <td>bone</td>\n",
       "      <td>bone_other</td>\n",
       "      <td></td>\n",
       "      <td>MSS/MSI-L</td>\n",
       "      <td>D/F12</td>\n",
       "      <td>Adherent</td>\n",
       "    </tr>\n",
       "    <tr>\n",
       "      <th></th>\n",
       "      <td>TOTAL:</td>\n",
       "      <td>1001</td>\n",
       "      <td>996</td>\n",
       "      <td>968</td>\n",
       "      <td>957</td>\n",
       "      <td>990</td>\n",
       "      <td></td>\n",
       "      <td></td>\n",
       "      <td></td>\n",
       "      <td></td>\n",
       "      <td></td>\n",
       "      <td></td>\n",
       "    </tr>\n",
       "  </tbody>\n",
       "</table>\n",
       "</div>"
      ],
      "text/plain": [
       "                  Sample Name Whole Exome Sequencing (WES)  \\\n",
       "COSMIC identifier                                            \n",
       "1298218                  KP-2                            Y   \n",
       "1330932                  KO52                            Y   \n",
       "1331030                  SC-1                            Y   \n",
       "1503373                 U-CH2                            Y   \n",
       "                       TOTAL:                         1001   \n",
       "\n",
       "                  Copy Number Alterations (CNA) Gene Expression Methylation  \\\n",
       "COSMIC identifier                                                             \n",
       "1298218                                       N               Y           N   \n",
       "1330932                                       Y               N           N   \n",
       "1331030                                       Y               N           N   \n",
       "1503373                                       Y               N           N   \n",
       "                                            996             968         957   \n",
       "\n",
       "                  Drug\\nResponse GDSC\\nTissue descriptor 1  \\\n",
       "COSMIC identifier                                            \n",
       "1298218                        Y                  pancreas   \n",
       "1330932                        N                  leukemia   \n",
       "1331030                        N                  lymphoma   \n",
       "1503373                        N                      bone   \n",
       "                             990                             \n",
       "\n",
       "                  GDSC\\nTissue\\ndescriptor 2  \\\n",
       "COSMIC identifier                              \n",
       "1298218                             pancreas   \n",
       "1330932              acute_myeloid_leukaemia   \n",
       "1331030                      B_cell_lymphoma   \n",
       "1503373                           bone_other   \n",
       "                                               \n",
       "\n",
       "                  Cancer Type\\n(matching TCGA label)  \\\n",
       "COSMIC identifier                                      \n",
       "1298218                                         PAAD   \n",
       "1330932                                         LAML   \n",
       "1331030                                         DLBC   \n",
       "1503373                                                \n",
       "                                                       \n",
       "\n",
       "                  Microsatellite \\ninstability Status (MSI) Screen Medium  \\\n",
       "COSMIC identifier                                                           \n",
       "1298218                                                             D/F12   \n",
       "1330932                                           MSS/MSI-L         D/F12   \n",
       "1331030                                           MSS/MSI-L             R   \n",
       "1503373                                           MSS/MSI-L         D/F12   \n",
       "                                                                            \n",
       "\n",
       "                  Growth Properties  \n",
       "COSMIC identifier                    \n",
       "1298218                    Adherent  \n",
       "1330932                          NA  \n",
       "1331030                          NA  \n",
       "1503373                    Adherent  \n",
       "                                     "
      ]
     },
     "execution_count": 5,
     "metadata": {},
     "output_type": "execute_result"
    }
   ],
   "source": [
    "# read GDSC cell line details table\n",
    "\n",
    "GDSC_cell_line_details = pd.read_excel(\"GDSC_Cell_Lines_Details.xlsx\", keep_default_na = False)\n",
    "GDSC_cell_line_details.set_index(\"COSMIC identifier\", inplace = True)\n",
    "GDSC_cell_line_details.tail()"
   ]
  },
  {
   "cell_type": "code",
   "execution_count": 6,
   "metadata": {},
   "outputs": [
    {
     "name": "stdout",
     "output_type": "stream",
     "text": [
      "/Volumes/Expansion/Thesis Work/Results/preprocessed_results2/exprs\n"
     ]
    }
   ],
   "source": [
    "# change directory to read GDSC expression dataset (DNA_REPi)\n",
    "\n",
    "os.chdir(dataset_dir + \"/exprs/\")\n",
    "print(os.getcwd())"
   ]
  },
  {
   "cell_type": "code",
   "execution_count": 7,
   "metadata": {},
   "outputs": [
    {
     "data": {
      "text/html": [
       "<div>\n",
       "<style scoped>\n",
       "    .dataframe tbody tr th:only-of-type {\n",
       "        vertical-align: middle;\n",
       "    }\n",
       "\n",
       "    .dataframe tbody tr th {\n",
       "        vertical-align: top;\n",
       "    }\n",
       "\n",
       "    .dataframe thead th {\n",
       "        text-align: right;\n",
       "    }\n",
       "</style>\n",
       "<table border=\"1\" class=\"dataframe\">\n",
       "  <thead>\n",
       "    <tr style=\"text-align: right;\">\n",
       "      <th>ENTREZID</th>\n",
       "      <th>1</th>\n",
       "      <th>2</th>\n",
       "      <th>9</th>\n",
       "      <th>10</th>\n",
       "      <th>12</th>\n",
       "      <th>13</th>\n",
       "      <th>14</th>\n",
       "      <th>15</th>\n",
       "      <th>16</th>\n",
       "      <th>18</th>\n",
       "      <th>...</th>\n",
       "      <th>107984199</th>\n",
       "      <th>107984208</th>\n",
       "      <th>107984325</th>\n",
       "      <th>107984411</th>\n",
       "      <th>107984648</th>\n",
       "      <th>107984889</th>\n",
       "      <th>107984989</th>\n",
       "      <th>107986313</th>\n",
       "      <th>107986782</th>\n",
       "      <th>107986810</th>\n",
       "    </tr>\n",
       "  </thead>\n",
       "  <tbody>\n",
       "    <tr>\n",
       "      <th>683665</th>\n",
       "      <td>-0.4711563767951986</td>\n",
       "      <td>-0.1857522957766964</td>\n",
       "      <td>0.9702409548662462</td>\n",
       "      <td>-0.4081281805960821</td>\n",
       "      <td>-0.4161511169999803</td>\n",
       "      <td>-0.4384159723467665</td>\n",
       "      <td>-1.154692246005183</td>\n",
       "      <td>0.5262132484107975</td>\n",
       "      <td>-0.7950924576033422</td>\n",
       "      <td>-0.6337442716864214</td>\n",
       "      <td>...</td>\n",
       "      <td>1.283534690590172</td>\n",
       "      <td>-0.3367265464586691</td>\n",
       "      <td>-0.0039762988723447</td>\n",
       "      <td>0.7378729872604209</td>\n",
       "      <td>0.9757614264575688</td>\n",
       "      <td>0.1494417647095801</td>\n",
       "      <td>2.062294063911948</td>\n",
       "      <td>-0.8140636761719959</td>\n",
       "      <td>0.2870333828833719</td>\n",
       "      <td>0.9524265085537148</td>\n",
       "    </tr>\n",
       "    <tr>\n",
       "      <th>684055</th>\n",
       "      <td>1.3565140948247052</td>\n",
       "      <td>-0.277542411913307</td>\n",
       "      <td>0.0887087882196536</td>\n",
       "      <td>-0.2754829982302413</td>\n",
       "      <td>-0.5153856346587746</td>\n",
       "      <td>-0.6248712076433911</td>\n",
       "      <td>0.1243408990866293</td>\n",
       "      <td>-1.2699667684674136</td>\n",
       "      <td>2.0788360886382717</td>\n",
       "      <td>2.5197991997459197</td>\n",
       "      <td>...</td>\n",
       "      <td>-0.5571028630154293</td>\n",
       "      <td>-1.724090733574364</td>\n",
       "      <td>-0.3749080365068901</td>\n",
       "      <td>-0.0016055431935905</td>\n",
       "      <td>-0.3788535663547365</td>\n",
       "      <td>-1.3502092798315848</td>\n",
       "      <td>0.6949790577550328</td>\n",
       "      <td>0.4333032198982747</td>\n",
       "      <td>-0.1280986270308099</td>\n",
       "      <td>-1.629249958712223</td>\n",
       "    </tr>\n",
       "    <tr>\n",
       "      <th>684057</th>\n",
       "      <td>0.6510004960254864</td>\n",
       "      <td>1.6578876382433665</td>\n",
       "      <td>-0.4977106390881842</td>\n",
       "      <td>-0.1212172092933644</td>\n",
       "      <td>-0.398455281697677</td>\n",
       "      <td>-0.2804901106672752</td>\n",
       "      <td>0.6455898116420014</td>\n",
       "      <td>0.215833091774836</td>\n",
       "      <td>-0.1723595788875009</td>\n",
       "      <td>-0.2170870770552223</td>\n",
       "      <td>...</td>\n",
       "      <td>-0.024863133395904</td>\n",
       "      <td>0.4073439017665206</td>\n",
       "      <td>-0.4440356638831038</td>\n",
       "      <td>0.8630347078663075</td>\n",
       "      <td>1.4486171428489227</td>\n",
       "      <td>-1.4777214830771732</td>\n",
       "      <td>0.5220400480464272</td>\n",
       "      <td>0.6441211958947753</td>\n",
       "      <td>0.9057518606131394</td>\n",
       "      <td>0.3018783753479829</td>\n",
       "    </tr>\n",
       "  </tbody>\n",
       "</table>\n",
       "<p>3 rows × 18597 columns</p>\n",
       "</div>"
      ],
      "text/plain": [
       "ENTREZID            1                    2                    9          \\\n",
       "683665    -0.4711563767951986  -0.1857522957766964   0.9702409548662462   \n",
       "684055     1.3565140948247052   -0.277542411913307   0.0887087882196536   \n",
       "684057     0.6510004960254864   1.6578876382433665  -0.4977106390881842   \n",
       "\n",
       "ENTREZID            10                   12                   13         \\\n",
       "683665    -0.4081281805960821  -0.4161511169999803  -0.4384159723467665   \n",
       "684055    -0.2754829982302413  -0.5153856346587746  -0.6248712076433911   \n",
       "684057    -0.1212172092933644   -0.398455281697677  -0.2804901106672752   \n",
       "\n",
       "ENTREZID           14                   15                   16         \\\n",
       "683665    -1.154692246005183   0.5262132484107975  -0.7950924576033422   \n",
       "684055    0.1243408990866293  -1.2699667684674136   2.0788360886382717   \n",
       "684057    0.6455898116420014    0.215833091774836  -0.1723595788875009   \n",
       "\n",
       "ENTREZID            18         ...            107984199            107984208  \\\n",
       "683665    -0.6337442716864214  ...    1.283534690590172  -0.3367265464586691   \n",
       "684055     2.5197991997459197  ...  -0.5571028630154293   -1.724090733574364   \n",
       "684057    -0.2170870770552223  ...   -0.024863133395904   0.4073439017665206   \n",
       "\n",
       "ENTREZID            107984325            107984411            107984648  \\\n",
       "683665    -0.0039762988723447   0.7378729872604209   0.9757614264575688   \n",
       "684055    -0.3749080365068901  -0.0016055431935905  -0.3788535663547365   \n",
       "684057    -0.4440356638831038   0.8630347078663075   1.4486171428489227   \n",
       "\n",
       "ENTREZID            107984889           107984989            107986313  \\\n",
       "683665     0.1494417647095801   2.062294063911948  -0.8140636761719959   \n",
       "684055    -1.3502092798315848  0.6949790577550328   0.4333032198982747   \n",
       "684057    -1.4777214830771732  0.5220400480464272   0.6441211958947753   \n",
       "\n",
       "ENTREZID            107986782           107986810  \n",
       "683665     0.2870333828833719  0.9524265085537148  \n",
       "684055    -0.1280986270308099  -1.629249958712223  \n",
       "684057     0.9057518606131394  0.3018783753479829  \n",
       "\n",
       "[3 rows x 18597 columns]"
      ]
     },
     "execution_count": 7,
     "metadata": {},
     "output_type": "execute_result"
    }
   ],
   "source": [
    "# read GDSC expression dataset (DNA_REPi)\n",
    "\n",
    "GDSCE = pd.read_csv(\"GDSC_exprs.z.DNA_REPi.tsv\", \n",
    "                    sep = \"\\t\", index_col=0, decimal = \",\")\n",
    "GDSCE = pd.DataFrame.transpose(GDSCE)\n",
    "GDSCE.head(3)"
   ]
  },
  {
   "cell_type": "code",
   "execution_count": 8,
   "metadata": {},
   "outputs": [
    {
     "name": "stdout",
     "output_type": "stream",
     "text": [
      "/Volumes/Expansion/Thesis Work/Results/preprocessed_results2/CNA\n"
     ]
    }
   ],
   "source": [
    "# change directory to read GDSC CNA dataset (DNA_REPi)\n",
    "\n",
    "os.chdir(dataset_dir + \"/CNA/\")\n",
    "print(os.getcwd())"
   ]
  },
  {
   "cell_type": "code",
   "execution_count": 9,
   "metadata": {},
   "outputs": [
    {
     "data": {
      "text/html": [
       "<div>\n",
       "<style scoped>\n",
       "    .dataframe tbody tr th:only-of-type {\n",
       "        vertical-align: middle;\n",
       "    }\n",
       "\n",
       "    .dataframe tbody tr th {\n",
       "        vertical-align: top;\n",
       "    }\n",
       "\n",
       "    .dataframe thead th {\n",
       "        text-align: right;\n",
       "    }\n",
       "</style>\n",
       "<table border=\"1\" class=\"dataframe\">\n",
       "  <thead>\n",
       "    <tr style=\"text-align: right;\">\n",
       "      <th>gene_id</th>\n",
       "      <th>1</th>\n",
       "      <th>2</th>\n",
       "      <th>9</th>\n",
       "      <th>10</th>\n",
       "      <th>12</th>\n",
       "      <th>13</th>\n",
       "      <th>14</th>\n",
       "      <th>15</th>\n",
       "      <th>16</th>\n",
       "      <th>18</th>\n",
       "      <th>...</th>\n",
       "      <th>107985535</th>\n",
       "      <th>107985759</th>\n",
       "      <th>107986588</th>\n",
       "      <th>107986809</th>\n",
       "      <th>107986898</th>\n",
       "      <th>107987337</th>\n",
       "      <th>107987341</th>\n",
       "      <th>109731405</th>\n",
       "      <th>112441434</th>\n",
       "      <th>121676927</th>\n",
       "    </tr>\n",
       "  </thead>\n",
       "  <tbody>\n",
       "    <tr>\n",
       "      <th>683665</th>\n",
       "      <td>0.000000</td>\n",
       "      <td>0.000000</td>\n",
       "      <td>0.000000</td>\n",
       "      <td>0.000000</td>\n",
       "      <td>0.000000</td>\n",
       "      <td>0.000000</td>\n",
       "      <td>0.0</td>\n",
       "      <td>0.0</td>\n",
       "      <td>0.000000</td>\n",
       "      <td>0.000000</td>\n",
       "      <td>...</td>\n",
       "      <td>0.000000</td>\n",
       "      <td>0.000000</td>\n",
       "      <td>0.000000</td>\n",
       "      <td>0.000000</td>\n",
       "      <td>0.000000</td>\n",
       "      <td>0.00</td>\n",
       "      <td>1.807355</td>\n",
       "      <td>0.000000</td>\n",
       "      <td>0.000000</td>\n",
       "      <td>0.000000</td>\n",
       "    </tr>\n",
       "    <tr>\n",
       "      <th>684055</th>\n",
       "      <td>0.000000</td>\n",
       "      <td>0.584963</td>\n",
       "      <td>0.584963</td>\n",
       "      <td>0.584963</td>\n",
       "      <td>0.000000</td>\n",
       "      <td>0.000000</td>\n",
       "      <td>0.0</td>\n",
       "      <td>0.0</td>\n",
       "      <td>0.000000</td>\n",
       "      <td>0.000000</td>\n",
       "      <td>...</td>\n",
       "      <td>0.000000</td>\n",
       "      <td>0.584963</td>\n",
       "      <td>0.000000</td>\n",
       "      <td>0.584963</td>\n",
       "      <td>0.584963</td>\n",
       "      <td>-4.32</td>\n",
       "      <td>-4.320000</td>\n",
       "      <td>0.000000</td>\n",
       "      <td>0.000000</td>\n",
       "      <td>0.584963</td>\n",
       "    </tr>\n",
       "    <tr>\n",
       "      <th>684057</th>\n",
       "      <td>-0.415037</td>\n",
       "      <td>0.000000</td>\n",
       "      <td>0.584963</td>\n",
       "      <td>0.584963</td>\n",
       "      <td>-1.000000</td>\n",
       "      <td>0.000000</td>\n",
       "      <td>0.0</td>\n",
       "      <td>0.0</td>\n",
       "      <td>-0.415037</td>\n",
       "      <td>-0.415037</td>\n",
       "      <td>...</td>\n",
       "      <td>-0.415037</td>\n",
       "      <td>0.000000</td>\n",
       "      <td>0.000000</td>\n",
       "      <td>0.000000</td>\n",
       "      <td>0.807355</td>\n",
       "      <td>-1.00</td>\n",
       "      <td>-1.000000</td>\n",
       "      <td>-0.415037</td>\n",
       "      <td>-0.415037</td>\n",
       "      <td>0.807355</td>\n",
       "    </tr>\n",
       "    <tr>\n",
       "      <th>684059</th>\n",
       "      <td>0.000000</td>\n",
       "      <td>0.000000</td>\n",
       "      <td>0.000000</td>\n",
       "      <td>0.000000</td>\n",
       "      <td>0.000000</td>\n",
       "      <td>0.415037</td>\n",
       "      <td>0.0</td>\n",
       "      <td>0.0</td>\n",
       "      <td>0.000000</td>\n",
       "      <td>0.415037</td>\n",
       "      <td>...</td>\n",
       "      <td>0.000000</td>\n",
       "      <td>0.000000</td>\n",
       "      <td>0.415037</td>\n",
       "      <td>0.000000</td>\n",
       "      <td>0.415037</td>\n",
       "      <td>-4.32</td>\n",
       "      <td>-4.320000</td>\n",
       "      <td>0.000000</td>\n",
       "      <td>0.000000</td>\n",
       "      <td>0.736966</td>\n",
       "    </tr>\n",
       "    <tr>\n",
       "      <th>684062</th>\n",
       "      <td>-0.415037</td>\n",
       "      <td>0.000000</td>\n",
       "      <td>0.321928</td>\n",
       "      <td>0.321928</td>\n",
       "      <td>-0.415037</td>\n",
       "      <td>-0.415037</td>\n",
       "      <td>0.0</td>\n",
       "      <td>0.0</td>\n",
       "      <td>-0.415037</td>\n",
       "      <td>0.000000</td>\n",
       "      <td>...</td>\n",
       "      <td>-0.415037</td>\n",
       "      <td>0.000000</td>\n",
       "      <td>0.000000</td>\n",
       "      <td>0.000000</td>\n",
       "      <td>0.321928</td>\n",
       "      <td>-4.32</td>\n",
       "      <td>-4.320000</td>\n",
       "      <td>-0.415037</td>\n",
       "      <td>-1.000000</td>\n",
       "      <td>0.321928</td>\n",
       "    </tr>\n",
       "  </tbody>\n",
       "</table>\n",
       "<p>5 rows × 24402 columns</p>\n",
       "</div>"
      ],
      "text/plain": [
       "gene_id  1          2          9          10         12         13         \\\n",
       "683665    0.000000   0.000000   0.000000   0.000000   0.000000   0.000000   \n",
       "684055    0.000000   0.584963   0.584963   0.584963   0.000000   0.000000   \n",
       "684057   -0.415037   0.000000   0.584963   0.584963  -1.000000   0.000000   \n",
       "684059    0.000000   0.000000   0.000000   0.000000   0.000000   0.415037   \n",
       "684062   -0.415037   0.000000   0.321928   0.321928  -0.415037  -0.415037   \n",
       "\n",
       "gene_id  14         15         16         18         ...  107985535  \\\n",
       "683665         0.0        0.0   0.000000   0.000000  ...   0.000000   \n",
       "684055         0.0        0.0   0.000000   0.000000  ...   0.000000   \n",
       "684057         0.0        0.0  -0.415037  -0.415037  ...  -0.415037   \n",
       "684059         0.0        0.0   0.000000   0.415037  ...   0.000000   \n",
       "684062         0.0        0.0  -0.415037   0.000000  ...  -0.415037   \n",
       "\n",
       "gene_id  107985759  107986588  107986809  107986898  107987337  107987341  \\\n",
       "683665    0.000000   0.000000   0.000000   0.000000       0.00   1.807355   \n",
       "684055    0.584963   0.000000   0.584963   0.584963      -4.32  -4.320000   \n",
       "684057    0.000000   0.000000   0.000000   0.807355      -1.00  -1.000000   \n",
       "684059    0.000000   0.415037   0.000000   0.415037      -4.32  -4.320000   \n",
       "684062    0.000000   0.000000   0.000000   0.321928      -4.32  -4.320000   \n",
       "\n",
       "gene_id  109731405  112441434  121676927  \n",
       "683665    0.000000   0.000000   0.000000  \n",
       "684055    0.000000   0.000000   0.584963  \n",
       "684057   -0.415037  -0.415037   0.807355  \n",
       "684059    0.000000   0.000000   0.736966  \n",
       "684062   -0.415037  -1.000000   0.321928  \n",
       "\n",
       "[5 rows x 24402 columns]"
      ]
     },
     "execution_count": 9,
     "metadata": {},
     "output_type": "execute_result"
    }
   ],
   "source": [
    "# read GDSC CNA dataset (DNA_REPi)\n",
    "\n",
    "GDSCC = pd.read_csv(\"GDSC_CNA.DNA_REPi.tsv\",\n",
    "                    sep=\"\\t\", index_col=0, decimal=\".\")\n",
    "GDSCC.drop_duplicates(keep='last')\n",
    "GDSCC = pd.DataFrame.transpose(GDSCC)\n",
    "GDSCC = GDSCC.loc[:, ~GDSCC.columns.duplicated()]\n",
    "\n",
    "GDSCC.head()"
   ]
  },
  {
   "cell_type": "code",
   "execution_count": 10,
   "metadata": {},
   "outputs": [
    {
     "name": "stdout",
     "output_type": "stream",
     "text": [
      "/Volumes/Expansion/Thesis Work/Results/preprocessed_results2/response\n"
     ]
    }
   ],
   "source": [
    "# change directory to read GDSC response dataset (DNA_REPi)\n",
    "\n",
    "os.chdir(dataset_dir + \"/response/\")\n",
    "print(os.getcwd())"
   ]
  },
  {
   "cell_type": "code",
   "execution_count": 11,
   "metadata": {},
   "outputs": [
    {
     "data": {
      "text/html": [
       "<div>\n",
       "<style scoped>\n",
       "    .dataframe tbody tr th:only-of-type {\n",
       "        vertical-align: middle;\n",
       "    }\n",
       "\n",
       "    .dataframe tbody tr th {\n",
       "        vertical-align: top;\n",
       "    }\n",
       "\n",
       "    .dataframe thead th {\n",
       "        text-align: right;\n",
       "    }\n",
       "</style>\n",
       "<table border=\"1\" class=\"dataframe\">\n",
       "  <thead>\n",
       "    <tr style=\"text-align: right;\">\n",
       "      <th></th>\n",
       "      <th>response</th>\n",
       "      <th>logIC50</th>\n",
       "      <th>drug</th>\n",
       "      <th>exprs</th>\n",
       "      <th>CNA</th>\n",
       "      <th>mutations</th>\n",
       "    </tr>\n",
       "    <tr>\n",
       "      <th>sample_name</th>\n",
       "      <th></th>\n",
       "      <th></th>\n",
       "      <th></th>\n",
       "      <th></th>\n",
       "      <th></th>\n",
       "      <th></th>\n",
       "    </tr>\n",
       "  </thead>\n",
       "  <tbody>\n",
       "    <tr>\n",
       "      <th>683665</th>\n",
       "      <td>0</td>\n",
       "      <td>5.12075503641523</td>\n",
       "      <td>Pyrimethamine</td>\n",
       "      <td>1</td>\n",
       "      <td>1</td>\n",
       "      <td>1</td>\n",
       "    </tr>\n",
       "    <tr>\n",
       "      <th>683665</th>\n",
       "      <td>0</td>\n",
       "      <td>-3.03711635474651</td>\n",
       "      <td>Doxorubicin</td>\n",
       "      <td>1</td>\n",
       "      <td>1</td>\n",
       "      <td>1</td>\n",
       "    </tr>\n",
       "    <tr>\n",
       "      <th>683665</th>\n",
       "      <td>0</td>\n",
       "      <td>-0.712119156515401</td>\n",
       "      <td>Etoposide</td>\n",
       "      <td>1</td>\n",
       "      <td>1</td>\n",
       "      <td>1</td>\n",
       "    </tr>\n",
       "    <tr>\n",
       "      <th>683665</th>\n",
       "      <td>0</td>\n",
       "      <td>-4.40897202584936</td>\n",
       "      <td>Gemcitabine</td>\n",
       "      <td>1</td>\n",
       "      <td>1</td>\n",
       "      <td>1</td>\n",
       "    </tr>\n",
       "    <tr>\n",
       "      <th>683665</th>\n",
       "      <td>0</td>\n",
       "      <td>-1.59752443691324</td>\n",
       "      <td>Mitomycin C</td>\n",
       "      <td>1</td>\n",
       "      <td>1</td>\n",
       "      <td>1</td>\n",
       "    </tr>\n",
       "  </tbody>\n",
       "</table>\n",
       "</div>"
      ],
      "text/plain": [
       "             response             logIC50           drug  exprs  CNA  \\\n",
       "sample_name                                                            \n",
       "683665              0    5.12075503641523  Pyrimethamine      1    1   \n",
       "683665              0   -3.03711635474651    Doxorubicin      1    1   \n",
       "683665              0  -0.712119156515401      Etoposide      1    1   \n",
       "683665              0   -4.40897202584936    Gemcitabine      1    1   \n",
       "683665              0   -1.59752443691324    Mitomycin C      1    1   \n",
       "\n",
       "             mutations  \n",
       "sample_name             \n",
       "683665               1  \n",
       "683665               1  \n",
       "683665               1  \n",
       "683665               1  \n",
       "683665               1  "
      ]
     },
     "execution_count": 11,
     "metadata": {},
     "output_type": "execute_result"
    }
   ],
   "source": [
    "# read GDSC response dataset (DNA_REPi)\n",
    "\n",
    "GDSCR = pd.read_csv(\"GDSC_response.DNA_REPi.tsv\",\n",
    "                    sep=\"\\t\",\n",
    "                    index_col=0,\n",
    "                    decimal=\",\")\n",
    "GDSCR.dropna(inplace=True)\n",
    "GDSCR.rename(mapper=str, axis='index', inplace=True)\n",
    "d = {\"R\": 0, \"S\": 1}\n",
    "GDSCR[\"response\"] = GDSCR.loc[:, \"response\"].apply(lambda x: d[x])\n",
    "\n",
    "GDSCR.head()"
   ]
  },
  {
   "cell_type": "code",
   "execution_count": 12,
   "metadata": {},
   "outputs": [
    {
     "data": {
      "text/plain": [
       "drug\n",
       "Etoposide         775\n",
       "SN-38             771\n",
       "Mitomycin C       767\n",
       "Doxorubicin       766\n",
       "5-Fluorouracil    764\n",
       "Gemcitabine       761\n",
       "Bleomycin         759\n",
       "Temozolomide      752\n",
       "Cisplatin         738\n",
       "Methotrexate      738\n",
       "Camptothecin      737\n",
       "Cytarabine        735\n",
       "Pyrimethamine     372\n",
       "Name: count, dtype: int64"
      ]
     },
     "execution_count": 12,
     "metadata": {},
     "output_type": "execute_result"
    }
   ],
   "source": [
    "# print count of cell lines for each drug (DNA_REPi)\n",
    "\n",
    "GDSCR[\"drug\"].value_counts()"
   ]
  },
  {
   "cell_type": "code",
   "execution_count": 13,
   "metadata": {},
   "outputs": [
    {
     "name": "stdout",
     "output_type": "stream",
     "text": [
      "/Volumes/Expansion/Thesis Work/Results/preprocessed_results2/exprs_homogenized\n"
     ]
    }
   ],
   "source": [
    "# change directory to read TCGA expression dataset homogenized with GDSC expression dataset (Gemcitabine)\n",
    "\n",
    "os.chdir(dataset_dir + \"/exprs_homogenized/\")\n",
    "print(os.getcwd())"
   ]
  },
  {
   "cell_type": "code",
   "execution_count": 14,
   "metadata": {},
   "outputs": [
    {
     "data": {
      "text/html": [
       "<div>\n",
       "<style scoped>\n",
       "    .dataframe tbody tr th:only-of-type {\n",
       "        vertical-align: middle;\n",
       "    }\n",
       "\n",
       "    .dataframe tbody tr th {\n",
       "        vertical-align: top;\n",
       "    }\n",
       "\n",
       "    .dataframe thead th {\n",
       "        text-align: right;\n",
       "    }\n",
       "</style>\n",
       "<table border=\"1\" class=\"dataframe\">\n",
       "  <thead>\n",
       "    <tr style=\"text-align: right;\">\n",
       "      <th>ENTREZID</th>\n",
       "      <th>1</th>\n",
       "      <th>2</th>\n",
       "      <th>9</th>\n",
       "      <th>10</th>\n",
       "      <th>12</th>\n",
       "      <th>13</th>\n",
       "      <th>14</th>\n",
       "      <th>15</th>\n",
       "      <th>16</th>\n",
       "      <th>18</th>\n",
       "      <th>...</th>\n",
       "      <th>100188893</th>\n",
       "      <th>100190940</th>\n",
       "      <th>100190949</th>\n",
       "      <th>100191040</th>\n",
       "      <th>100192386</th>\n",
       "      <th>100268168</th>\n",
       "      <th>100271715</th>\n",
       "      <th>100287718</th>\n",
       "      <th>100288778</th>\n",
       "      <th>100289635</th>\n",
       "    </tr>\n",
       "  </thead>\n",
       "  <tbody>\n",
       "    <tr>\n",
       "      <th>TCGA-2L-AAQA-01A</th>\n",
       "      <td>3.98033768533371</td>\n",
       "      <td>2.62820652008909</td>\n",
       "      <td>7.03249429468481</td>\n",
       "      <td>3.08514834183615</td>\n",
       "      <td>3.34557990074588</td>\n",
       "      <td>3.78552975984518</td>\n",
       "      <td>8.73764964752829</td>\n",
       "      <td>2.48671779353536</td>\n",
       "      <td>8.21923206815042</td>\n",
       "      <td>3.76684655565602</td>\n",
       "      <td>...</td>\n",
       "      <td>10.0875725194276</td>\n",
       "      <td>2.81337967290836</td>\n",
       "      <td>3.51332685491118</td>\n",
       "      <td>3.98785715416424</td>\n",
       "      <td>3.07567558045391</td>\n",
       "      <td>2.56126348424232</td>\n",
       "      <td>2.63693987323012</td>\n",
       "      <td>2.83133300992887</td>\n",
       "      <td>5.13739151604047</td>\n",
       "      <td>4.69382514336529</td>\n",
       "    </tr>\n",
       "    <tr>\n",
       "      <th>TCGA-2L-AAQE-01A</th>\n",
       "      <td>4.68614471637408</td>\n",
       "      <td>3.25092419132046</td>\n",
       "      <td>5.75542155466148</td>\n",
       "      <td>2.79866479035723</td>\n",
       "      <td>1.96329083991897</td>\n",
       "      <td>3.43063349827168</td>\n",
       "      <td>8.80671304478463</td>\n",
       "      <td>2.62779485919227</td>\n",
       "      <td>8.54483025692787</td>\n",
       "      <td>3.81532940417382</td>\n",
       "      <td>...</td>\n",
       "      <td>8.87561409312678</td>\n",
       "      <td>2.81337967290836</td>\n",
       "      <td>2.78991865702044</td>\n",
       "      <td>3.30688425304558</td>\n",
       "      <td>3.45865630140412</td>\n",
       "      <td>2.53490145426966</td>\n",
       "      <td>2.74899279856495</td>\n",
       "      <td>2.83133300992887</td>\n",
       "      <td>4.61757632178081</td>\n",
       "      <td>4.2235154535305</td>\n",
       "    </tr>\n",
       "    <tr>\n",
       "      <th>TCGA-2L-AAQI-01A</th>\n",
       "      <td>3.71023111103364</td>\n",
       "      <td>3.88843437623036</td>\n",
       "      <td>5.77580575110606</td>\n",
       "      <td>3.10749843796475</td>\n",
       "      <td>5.98690471000489</td>\n",
       "      <td>3.75736553725429</td>\n",
       "      <td>8.4255369043372</td>\n",
       "      <td>2.48671779353536</td>\n",
       "      <td>9.21052968908206</td>\n",
       "      <td>3.97685914269242</td>\n",
       "      <td>...</td>\n",
       "      <td>9.48642956588486</td>\n",
       "      <td>2.84555917176674</td>\n",
       "      <td>2.78991865702044</td>\n",
       "      <td>3.48989111572046</td>\n",
       "      <td>2.79620231354257</td>\n",
       "      <td>2.49624245190844</td>\n",
       "      <td>2.630937590025</td>\n",
       "      <td>2.83133300992887</td>\n",
       "      <td>4.38859435268046</td>\n",
       "      <td>3.64555981820771</td>\n",
       "    </tr>\n",
       "  </tbody>\n",
       "</table>\n",
       "<p>3 rows × 18197 columns</p>\n",
       "</div>"
      ],
      "text/plain": [
       "ENTREZID                 1                 2                 9          \\\n",
       "TCGA-2L-AAQA-01A  3.98033768533371  2.62820652008909  7.03249429468481   \n",
       "TCGA-2L-AAQE-01A  4.68614471637408  3.25092419132046  5.75542155466148   \n",
       "TCGA-2L-AAQI-01A  3.71023111103364  3.88843437623036  5.77580575110606   \n",
       "\n",
       "ENTREZID                 10                12                13         \\\n",
       "TCGA-2L-AAQA-01A  3.08514834183615  3.34557990074588  3.78552975984518   \n",
       "TCGA-2L-AAQE-01A  2.79866479035723  1.96329083991897  3.43063349827168   \n",
       "TCGA-2L-AAQI-01A  3.10749843796475  5.98690471000489  3.75736553725429   \n",
       "\n",
       "ENTREZID                 14                15                16         \\\n",
       "TCGA-2L-AAQA-01A  8.73764964752829  2.48671779353536  8.21923206815042   \n",
       "TCGA-2L-AAQE-01A  8.80671304478463  2.62779485919227  8.54483025692787   \n",
       "TCGA-2L-AAQI-01A   8.4255369043372  2.48671779353536  9.21052968908206   \n",
       "\n",
       "ENTREZID                 18         ...         100188893         100190940  \\\n",
       "TCGA-2L-AAQA-01A  3.76684655565602  ...  10.0875725194276  2.81337967290836   \n",
       "TCGA-2L-AAQE-01A  3.81532940417382  ...  8.87561409312678  2.81337967290836   \n",
       "TCGA-2L-AAQI-01A  3.97685914269242  ...  9.48642956588486  2.84555917176674   \n",
       "\n",
       "ENTREZID                 100190949         100191040         100192386  \\\n",
       "TCGA-2L-AAQA-01A  3.51332685491118  3.98785715416424  3.07567558045391   \n",
       "TCGA-2L-AAQE-01A  2.78991865702044  3.30688425304558  3.45865630140412   \n",
       "TCGA-2L-AAQI-01A  2.78991865702044  3.48989111572046  2.79620231354257   \n",
       "\n",
       "ENTREZID                 100268168         100271715         100287718  \\\n",
       "TCGA-2L-AAQA-01A  2.56126348424232  2.63693987323012  2.83133300992887   \n",
       "TCGA-2L-AAQE-01A  2.53490145426966  2.74899279856495  2.83133300992887   \n",
       "TCGA-2L-AAQI-01A  2.49624245190844    2.630937590025  2.83133300992887   \n",
       "\n",
       "ENTREZID                 100288778         100289635  \n",
       "TCGA-2L-AAQA-01A  5.13739151604047  4.69382514336529  \n",
       "TCGA-2L-AAQE-01A  4.61757632178081   4.2235154535305  \n",
       "TCGA-2L-AAQI-01A  4.38859435268046  3.64555981820771  \n",
       "\n",
       "[3 rows x 18197 columns]"
      ]
     },
     "execution_count": 14,
     "metadata": {},
     "output_type": "execute_result"
    }
   ],
   "source": [
    "# read TCGA expression dataset homogenized with GDSC expression dataset (Gemcitabine)\n",
    "\n",
    "TCGAEgemcitabine = pd.read_csv(\"TCGA_exprs.Gemcitabine.eb_with.GDSC_exprs.Gemcitabine.tsv\",\n",
    "                   sep = \"\\t\", index_col=0, decimal = \",\")\n",
    "TCGAEgemcitabine = pd.DataFrame.transpose(TCGAEgemcitabine)\n",
    "TCGAEgemcitabine.head(3)"
   ]
  },
  {
   "cell_type": "code",
   "execution_count": 15,
   "metadata": {},
   "outputs": [
    {
     "data": {
      "text/plain": [
       "'/Volumes/Expansion/Thesis Work/Results/preprocessed_results2/CNA'"
      ]
     },
     "execution_count": 15,
     "metadata": {},
     "output_type": "execute_result"
    }
   ],
   "source": [
    "# change directory to read TCGA CNA dataset (Gemcitabine)\n",
    "\n",
    "os.chdir(dataset_dir + \"CNA\")\n",
    "os.getcwd()"
   ]
  },
  {
   "cell_type": "code",
   "execution_count": 16,
   "metadata": {},
   "outputs": [
    {
     "data": {
      "text/html": [
       "<div>\n",
       "<style scoped>\n",
       "    .dataframe tbody tr th:only-of-type {\n",
       "        vertical-align: middle;\n",
       "    }\n",
       "\n",
       "    .dataframe tbody tr th {\n",
       "        vertical-align: top;\n",
       "    }\n",
       "\n",
       "    .dataframe thead th {\n",
       "        text-align: right;\n",
       "    }\n",
       "</style>\n",
       "<table border=\"1\" class=\"dataframe\">\n",
       "  <thead>\n",
       "    <tr style=\"text-align: right;\">\n",
       "      <th></th>\n",
       "      <th>13</th>\n",
       "      <th>24</th>\n",
       "      <th>30</th>\n",
       "      <th>34</th>\n",
       "      <th>39</th>\n",
       "      <th>55</th>\n",
       "      <th>68</th>\n",
       "      <th>73</th>\n",
       "      <th>86</th>\n",
       "      <th>93</th>\n",
       "      <th>...</th>\n",
       "      <th>100616290</th>\n",
       "      <th>100616357</th>\n",
       "      <th>100616366</th>\n",
       "      <th>100616420</th>\n",
       "      <th>100616434</th>\n",
       "      <th>100652770</th>\n",
       "      <th>100652778</th>\n",
       "      <th>100652797</th>\n",
       "      <th>100652854</th>\n",
       "      <th>100652917</th>\n",
       "    </tr>\n",
       "  </thead>\n",
       "  <tbody>\n",
       "    <tr>\n",
       "      <th>TCGA-2L-AAQA-01A</th>\n",
       "      <td>0.0</td>\n",
       "      <td>-0.5075</td>\n",
       "      <td>0.0</td>\n",
       "      <td>-0.5075</td>\n",
       "      <td>-0.5104</td>\n",
       "      <td>0.0</td>\n",
       "      <td>-0.5104</td>\n",
       "      <td>0.0</td>\n",
       "      <td>0.0</td>\n",
       "      <td>0.0</td>\n",
       "      <td>...</td>\n",
       "      <td>-0.521</td>\n",
       "      <td>-0.521</td>\n",
       "      <td>-0.521</td>\n",
       "      <td>-0.521</td>\n",
       "      <td>0.0</td>\n",
       "      <td>-0.521</td>\n",
       "      <td>-0.521</td>\n",
       "      <td>-0.521</td>\n",
       "      <td>0.0</td>\n",
       "      <td>-0.521</td>\n",
       "    </tr>\n",
       "    <tr>\n",
       "      <th>TCGA-2L-AAQE-01A</th>\n",
       "      <td>0.0</td>\n",
       "      <td>0.0</td>\n",
       "      <td>0.0</td>\n",
       "      <td>0.0</td>\n",
       "      <td>-0.3378</td>\n",
       "      <td>0.0</td>\n",
       "      <td>-0.3346</td>\n",
       "      <td>0.0</td>\n",
       "      <td>0.0</td>\n",
       "      <td>0.0</td>\n",
       "      <td>...</td>\n",
       "      <td>-0.6335</td>\n",
       "      <td>-0.6335</td>\n",
       "      <td>-0.6409</td>\n",
       "      <td>-0.6409</td>\n",
       "      <td>0.0</td>\n",
       "      <td>-0.6409</td>\n",
       "      <td>-0.6409</td>\n",
       "      <td>-0.6409</td>\n",
       "      <td>0.0</td>\n",
       "      <td>-0.6633</td>\n",
       "    </tr>\n",
       "    <tr>\n",
       "      <th>TCGA-2L-AAQI-01A</th>\n",
       "      <td>0.0</td>\n",
       "      <td>0.0</td>\n",
       "      <td>0.0</td>\n",
       "      <td>0.0</td>\n",
       "      <td>0.0</td>\n",
       "      <td>0.0</td>\n",
       "      <td>0.0</td>\n",
       "      <td>0.0</td>\n",
       "      <td>0.0</td>\n",
       "      <td>0.0</td>\n",
       "      <td>...</td>\n",
       "      <td>0.0</td>\n",
       "      <td>0.0</td>\n",
       "      <td>0.0</td>\n",
       "      <td>0.0</td>\n",
       "      <td>0.0</td>\n",
       "      <td>0.0</td>\n",
       "      <td>0.0</td>\n",
       "      <td>0.0</td>\n",
       "      <td>0.0</td>\n",
       "      <td>0.0</td>\n",
       "    </tr>\n",
       "  </tbody>\n",
       "</table>\n",
       "<p>3 rows × 31922 columns</p>\n",
       "</div>"
      ],
      "text/plain": [
       "                 13        24        30        34        39        55         \\\n",
       "TCGA-2L-AAQA-01A       0.0   -0.5075       0.0   -0.5075   -0.5104       0.0   \n",
       "TCGA-2L-AAQE-01A       0.0       0.0       0.0       0.0   -0.3378       0.0   \n",
       "TCGA-2L-AAQI-01A       0.0       0.0       0.0       0.0       0.0       0.0   \n",
       "\n",
       "                 68        73        86        93         ... 100616290  \\\n",
       "TCGA-2L-AAQA-01A   -0.5104       0.0       0.0       0.0  ...    -0.521   \n",
       "TCGA-2L-AAQE-01A   -0.3346       0.0       0.0       0.0  ...   -0.6335   \n",
       "TCGA-2L-AAQI-01A       0.0       0.0       0.0       0.0  ...       0.0   \n",
       "\n",
       "                 100616357 100616366 100616420 100616434 100652770 100652778  \\\n",
       "TCGA-2L-AAQA-01A    -0.521    -0.521    -0.521       0.0    -0.521    -0.521   \n",
       "TCGA-2L-AAQE-01A   -0.6335   -0.6409   -0.6409       0.0   -0.6409   -0.6409   \n",
       "TCGA-2L-AAQI-01A       0.0       0.0       0.0       0.0       0.0       0.0   \n",
       "\n",
       "                 100652797 100652854 100652917  \n",
       "TCGA-2L-AAQA-01A    -0.521       0.0    -0.521  \n",
       "TCGA-2L-AAQE-01A   -0.6409       0.0   -0.6633  \n",
       "TCGA-2L-AAQI-01A       0.0       0.0       0.0  \n",
       "\n",
       "[3 rows x 31922 columns]"
      ]
     },
     "execution_count": 16,
     "metadata": {},
     "output_type": "execute_result"
    }
   ],
   "source": [
    "# read TCGA CNA dataset (Gemcitabine)\n",
    "\n",
    "TCGACgemcitabine = pd.read_csv(\"TCGA_CNA.Gemcitabine.tsv\",\n",
    "                        sep=\"\\t\", index_col=0, decimal=\",\")\n",
    "TCGACgemcitabine.drop_duplicates(keep='last')\n",
    "TCGACgemcitabine = pd.DataFrame.transpose(TCGACgemcitabine)\n",
    "TCGACgemcitabine = TCGACgemcitabine.loc[:, ~TCGACgemcitabine.columns.duplicated()]\n",
    "\n",
    "TCGACgemcitabine.head(3)"
   ]
  },
  {
   "cell_type": "code",
   "execution_count": 17,
   "metadata": {},
   "outputs": [],
   "source": [
    "# variance threshold for GDSC expression dataset (DNA_REPi)\n",
    "\n",
    "selector = VarianceThreshold(0.05)\n",
    "selector.fit_transform(GDSCE)\n",
    "GDSCE = GDSCE[GDSCE.columns[selector.get_support(indices=True)]]"
   ]
  },
  {
   "cell_type": "code",
   "execution_count": 18,
   "metadata": {},
   "outputs": [],
   "source": [
    "# fill NA values and binarize GDSC CNA dataset (DNA_REPi)\n",
    "\n",
    "GDSCC = GDSCC.fillna(0)\n",
    "GDSCC[GDSCC != 0.0] = 1"
   ]
  },
  {
   "cell_type": "code",
   "execution_count": 19,
   "metadata": {},
   "outputs": [
    {
     "name": "stdout",
     "output_type": "stream",
     "text": [
      "GDSC and TCGA # of common genes: 16389\n"
     ]
    }
   ],
   "source": [
    "# select shared genes between GDSC and TCGA expression and CNA datasets \n",
    "\n",
    "ls = GDSCE.columns.intersection(GDSCC.columns)\n",
    "ls = ls.intersection(TCGAEgemcitabine.columns)\n",
    "ls = ls.intersection(TCGACgemcitabine.columns)\n",
    "\n",
    "ls = pd.unique(ls)\n",
    "\n",
    "print(f\"GDSC and TCGA # of common genes: {ls.shape[0]}\")"
   ]
  },
  {
   "cell_type": "code",
   "execution_count": 20,
   "metadata": {},
   "outputs": [
    {
     "name": "stdout",
     "output_type": "stream",
     "text": [
      "GDSC # of common cell lines: 801\n"
     ]
    }
   ],
   "source": [
    "# select shared samples between GDSC expression and response datasets (DNA_REPi)\n",
    "\n",
    "ls2 = GDSCE.index.intersection(GDSCC.index)\n",
    "ls2 = ls2.intersection(GDSCR.index)\n",
    "\n",
    "print(f\"GDSC # of common cell lines: {ls2.shape[0]}\")"
   ]
  },
  {
   "cell_type": "code",
   "execution_count": 21,
   "metadata": {
    "scrolled": true
   },
   "outputs": [
    {
     "name": "stdout",
     "output_type": "stream",
     "text": [
      "GDSC # of common samples and genes (Expression): (801, 16389)\n",
      "GDSC # of common samples and genes (CNA): (801, 16389)\n",
      "GDSC # of samples (Response): 9435\n"
     ]
    }
   ],
   "source": [
    "# subset shared genes and samples in GDSC expression, CNA, and response datasets\n",
    "\n",
    "GDSCE = GDSCE.loc[ls2, ls]\n",
    "GDSCC = GDSCC.loc[ls2, ls]\n",
    "GDSCR = GDSCR.loc[ls2, :]\n",
    "\n",
    "print(f\"GDSC # of common samples and genes (Expression): {GDSCE.shape}\")\n",
    "print(f\"GDSC # of common samples and genes (CNA): {GDSCC.shape}\")\n",
    "print(f\"GDSC # of samples (Response): {GDSCR.shape[0]}\")\n",
    "\n",
    "# There exists same sample names for different drugs, so row shape is different in GDSC response data"
   ]
  },
  {
   "cell_type": "code",
   "execution_count": 22,
   "metadata": {},
   "outputs": [
    {
     "name": "stdout",
     "output_type": "stream",
     "text": [
      "TCGA # of common samples (Gemcitabine): 55\n"
     ]
    }
   ],
   "source": [
    "# select shared samples between TCGA expression and CNA datasets (Gemcitabine) \n",
    "\n",
    "ls3 = TCGAEgemcitabine.index.intersection(TCGACgemcitabine.index)\n",
    "\n",
    "print(f\"TCGA # of common samples (Gemcitabine): {ls3.shape[0]}\")"
   ]
  },
  {
   "cell_type": "code",
   "execution_count": 23,
   "metadata": {},
   "outputs": [
    {
     "name": "stdout",
     "output_type": "stream",
     "text": [
      "TCGA # of common samples and genes for Expression (Gemcitabine): (55, 16389)\n",
      "TCGA # of common samples and genes for CNA (Gemcitabine): (55, 16389)\n",
      "\n"
     ]
    }
   ],
   "source": [
    "# select shared genes and samples between TCGA expression and CNA datasets (Gemcitabine)\n",
    "\n",
    "TCGAEgemcitabine = TCGAEgemcitabine.loc[ls3, ls]\n",
    "TCGACgemcitabine = TCGACgemcitabine.loc[ls3, ls]\n",
    "\n",
    "print(f\"TCGA # of common samples and genes for Expression (Gemcitabine): {TCGAEgemcitabine.shape}\")\n",
    "print(f\"TCGA # of common samples and genes for CNA (Gemcitabine): {TCGACgemcitabine.shape}\\n\")"
   ]
  },
  {
   "cell_type": "code",
   "execution_count": 24,
   "metadata": {},
   "outputs": [
    {
     "name": "stdout",
     "output_type": "stream",
     "text": [
      "/Volumes/Expansion/Thesis Work/Results/GDSC_DEGs_inhibitors/DNA_REPi\n"
     ]
    }
   ],
   "source": [
    "# change directory to read DEGs (DNA_REPi)\n",
    "\n",
    "os.chdir(DEGs_dir)\n",
    "print(os.getcwd())"
   ]
  },
  {
   "cell_type": "code",
   "execution_count": 25,
   "metadata": {},
   "outputs": [
    {
     "name": "stdout",
     "output_type": "stream",
     "text": [
      "There are 858 DEGs (p-adjusted < 0.05 and |logFC| > 1) among DNA replication inhibitors\n",
      "\n"
     ]
    },
    {
     "data": {
      "text/html": [
       "<div>\n",
       "<style scoped>\n",
       "    .dataframe tbody tr th:only-of-type {\n",
       "        vertical-align: middle;\n",
       "    }\n",
       "\n",
       "    .dataframe tbody tr th {\n",
       "        vertical-align: top;\n",
       "    }\n",
       "\n",
       "    .dataframe thead th {\n",
       "        text-align: right;\n",
       "    }\n",
       "</style>\n",
       "<table border=\"1\" class=\"dataframe\">\n",
       "  <thead>\n",
       "    <tr style=\"text-align: right;\">\n",
       "      <th></th>\n",
       "      <th>Gene Symbol</th>\n",
       "      <th>Frequency</th>\n",
       "    </tr>\n",
       "  </thead>\n",
       "  <tbody>\n",
       "    <tr>\n",
       "      <th>0</th>\n",
       "      <td>SLFN11</td>\n",
       "      <td>9</td>\n",
       "    </tr>\n",
       "    <tr>\n",
       "      <th>1</th>\n",
       "      <td>NCKAP1L</td>\n",
       "      <td>8</td>\n",
       "    </tr>\n",
       "    <tr>\n",
       "      <th>2</th>\n",
       "      <td>SDC4</td>\n",
       "      <td>7</td>\n",
       "    </tr>\n",
       "    <tr>\n",
       "      <th>3</th>\n",
       "      <td>KRT18</td>\n",
       "      <td>7</td>\n",
       "    </tr>\n",
       "    <tr>\n",
       "      <th>4</th>\n",
       "      <td>S100A14</td>\n",
       "      <td>7</td>\n",
       "    </tr>\n",
       "  </tbody>\n",
       "</table>\n",
       "</div>"
      ],
      "text/plain": [
       "  Gene Symbol  Frequency\n",
       "0      SLFN11          9\n",
       "1     NCKAP1L          8\n",
       "2        SDC4          7\n",
       "3       KRT18          7\n",
       "4     S100A14          7"
      ]
     },
     "execution_count": 25,
     "metadata": {},
     "output_type": "execute_result"
    }
   ],
   "source": [
    "# read DEGs (DNA_REPi)\n",
    "\n",
    "DEGs_filtered_data = pd.read_excel(\"DNA_REPi_Differentially_Expressed_Genes (EnsemblID).xlsx\",\n",
    "                                    sheet_name = \"Common DEGs\")\n",
    "print(f\"There are {DEGs_filtered_data.shape[0]} DEGs (p-adjusted < 0.05 and |logFC| > 1) among DNA replication inhibitors\\n\")\n",
    "\n",
    "DEGs_filtered_data.head()"
   ]
  },
  {
   "cell_type": "code",
   "execution_count": 26,
   "metadata": {},
   "outputs": [
    {
     "name": "stderr",
     "output_type": "stream",
     "text": [
      "1 input query terms found dup hits:\t[('CLECL1P', 2)]\n"
     ]
    },
    {
     "data": {
      "text/plain": [
       "858"
      ]
     },
     "execution_count": 26,
     "metadata": {},
     "output_type": "execute_result"
    }
   ],
   "source": [
    "# get gene symbol from mygene database\n",
    "\n",
    "mg = mygene.MyGeneInfo()\n",
    "DEGs_entrez_id = mg.querymany(DEGs_filtered_data[\"Gene Symbol\"], \n",
    "                              species=\"human\", \n",
    "                              scopes = \"symbol\",\n",
    "                              field = \"entrezgene\",\n",
    "                              as_dataframe=True)[\"entrezgene\"]\n",
    "DEGs_entrez_id = pd.unique(DEGs_entrez_id.dropna())\n",
    "DEGs_entrez_id.shape[0]"
   ]
  },
  {
   "cell_type": "code",
   "execution_count": 27,
   "metadata": {},
   "outputs": [],
   "source": [
    "# assign GDSC datasets to new variables\n",
    "\n",
    "exprs_z = GDSCE\n",
    "cna = GDSCC\n",
    "responses = GDSCR"
   ]
  },
  {
   "cell_type": "code",
   "execution_count": 28,
   "metadata": {},
   "outputs": [
    {
     "data": {
      "text/html": [
       "<div>\n",
       "<style scoped>\n",
       "    .dataframe tbody tr th:only-of-type {\n",
       "        vertical-align: middle;\n",
       "    }\n",
       "\n",
       "    .dataframe tbody tr th {\n",
       "        vertical-align: top;\n",
       "    }\n",
       "\n",
       "    .dataframe thead th {\n",
       "        text-align: right;\n",
       "    }\n",
       "</style>\n",
       "<table border=\"1\" class=\"dataframe\">\n",
       "  <thead>\n",
       "    <tr style=\"text-align: right;\">\n",
       "      <th></th>\n",
       "      <th>response</th>\n",
       "      <th>logIC50</th>\n",
       "      <th>drug</th>\n",
       "      <th>exprs</th>\n",
       "      <th>CNA</th>\n",
       "      <th>mutations</th>\n",
       "    </tr>\n",
       "  </thead>\n",
       "  <tbody>\n",
       "    <tr>\n",
       "      <th>683665</th>\n",
       "      <td>0</td>\n",
       "      <td>5.12075503641523</td>\n",
       "      <td>Pyrimethamine</td>\n",
       "      <td>1</td>\n",
       "      <td>1</td>\n",
       "      <td>1</td>\n",
       "    </tr>\n",
       "    <tr>\n",
       "      <th>683665</th>\n",
       "      <td>0</td>\n",
       "      <td>-3.03711635474651</td>\n",
       "      <td>Doxorubicin</td>\n",
       "      <td>1</td>\n",
       "      <td>1</td>\n",
       "      <td>1</td>\n",
       "    </tr>\n",
       "    <tr>\n",
       "      <th>683665</th>\n",
       "      <td>0</td>\n",
       "      <td>-0.712119156515401</td>\n",
       "      <td>Etoposide</td>\n",
       "      <td>1</td>\n",
       "      <td>1</td>\n",
       "      <td>1</td>\n",
       "    </tr>\n",
       "  </tbody>\n",
       "</table>\n",
       "</div>"
      ],
      "text/plain": [
       "        response             logIC50           drug  exprs  CNA  mutations\n",
       "683665         0    5.12075503641523  Pyrimethamine      1    1          1\n",
       "683665         0   -3.03711635474651    Doxorubicin      1    1          1\n",
       "683665         0  -0.712119156515401      Etoposide      1    1          1"
      ]
     },
     "execution_count": 28,
     "metadata": {},
     "output_type": "execute_result"
    }
   ],
   "source": [
    "# GDSC response dataset\n",
    "\n",
    "responses.head(3)"
   ]
  },
  {
   "cell_type": "code",
   "execution_count": 29,
   "metadata": {
    "scrolled": true
   },
   "outputs": [
    {
     "data": {
      "text/plain": [
       "{'5-Fluorouracil',\n",
       " 'Bleomycin',\n",
       " 'Camptothecin',\n",
       " 'Cisplatin',\n",
       " 'Cytarabine',\n",
       " 'Doxorubicin',\n",
       " 'Etoposide',\n",
       " 'Gemcitabine',\n",
       " 'Methotrexate',\n",
       " 'Mitomycin C',\n",
       " 'Pyrimethamine',\n",
       " 'SN-38',\n",
       " 'Temozolomide'}"
      ]
     },
     "execution_count": 29,
     "metadata": {},
     "output_type": "execute_result"
    }
   ],
   "source": [
    "# list drug names in GDSC response dataset\n",
    "\n",
    "drugs = set(responses[\"drug\"].values)\n",
    "drugs"
   ]
  },
  {
   "cell_type": "code",
   "execution_count": 30,
   "metadata": {},
   "outputs": [
    {
     "data": {
      "text/plain": [
       "Index([ 683665,  683665,  683665,  683665,  683665,  683665,  683665,  683665,\n",
       "        683665,  683665,\n",
       "       ...\n",
       "       1659818, 1659818, 1659818, 1659818, 1659819, 1659819, 1659819, 1659819,\n",
       "       1659819,  687800],\n",
       "      dtype='int64', length=9435)"
      ]
     },
     "execution_count": 30,
     "metadata": {},
     "output_type": "execute_result"
    }
   ],
   "source": [
    "# convert Entrez gene IDs to integer\n",
    "\n",
    "responses.index = responses.index.astype(int)\n",
    "responses.index"
   ]
  },
  {
   "cell_type": "code",
   "execution_count": 31,
   "metadata": {},
   "outputs": [
    {
     "data": {
      "text/plain": [
       "GDSC\\nTissue descriptor 1\n",
       "lung_NSCLC           1037\n",
       "urogenital_system     926\n",
       "leukemia              829\n",
       "lymphoma              769\n",
       "aero_dig_tract        727\n",
       "nervous_system        607\n",
       "lung_SCLC             569\n",
       "skin                  560\n",
       "breast                524\n",
       "digestive_system      466\n",
       "large_intestine       447\n",
       "bone                  421\n",
       "neuroblastoma         332\n",
       "pancreas              294\n",
       "kidney                227\n",
       "soft_tissue           191\n",
       "myeloma               182\n",
       "lung                  174\n",
       "thyroid               153\n",
       "Name: count, dtype: int64"
      ]
     },
     "execution_count": 31,
     "metadata": {},
     "output_type": "execute_result"
    }
   ],
   "source": [
    "# merge GDSC cell line details with response dataset\n",
    "\n",
    "dat = pd.merge(GDSC_cell_line_details,\n",
    "         responses,\n",
    "         left_index = True, \n",
    "         right_index=True,\n",
    "         how = \"inner\")\n",
    "\n",
    "dat[\"GDSC\\nTissue descriptor 1\"].value_counts()\n",
    "#dat.head()"
   ]
  },
  {
   "cell_type": "code",
   "execution_count": 32,
   "metadata": {},
   "outputs": [
    {
     "data": {
      "text/plain": [
       "GDSC\\nTissue descriptor 1\n",
       "lung_NSCLC           86\n",
       "urogenital_system    76\n",
       "leukemia             64\n",
       "aero_dig_tract       62\n",
       "lymphoma             59\n",
       "nervous_system       47\n",
       "skin                 47\n",
       "lung_SCLC            46\n",
       "breast               43\n",
       "digestive_system     38\n",
       "large_intestine      35\n",
       "bone                 34\n",
       "neuroblastoma        25\n",
       "pancreas             25\n",
       "kidney               17\n",
       "soft_tissue          16\n",
       "lung                 15\n",
       "myeloma              13\n",
       "thyroid              13\n",
       "Name: count, dtype: int64"
      ]
     },
     "execution_count": 32,
     "metadata": {},
     "output_type": "execute_result"
    }
   ],
   "source": [
    "# list count of cell lines as to tissues treated with gemcitabine\n",
    "\n",
    "filter = (dat[\"drug\"] == \"Gemcitabine\")\n",
    "dat.loc[filter,\"GDSC\\nTissue descriptor 1\"].value_counts()"
   ]
  },
  {
   "cell_type": "code",
   "execution_count": 33,
   "metadata": {},
   "outputs": [
    {
     "data": {
      "text/plain": [
       "Index(['683665', '683665', '683665', '683665', '683665', '683665', '683665',\n",
       "       '683665', '683665', '683665',\n",
       "       ...\n",
       "       '1659818', '1659818', '1659818', '1659818', '1659819', '1659819',\n",
       "       '1659819', '1659819', '1659819', '687800'],\n",
       "      dtype='object', length=9435)"
      ]
     },
     "execution_count": 33,
     "metadata": {},
     "output_type": "execute_result"
    }
   ],
   "source": [
    "# convert Entrez gene IDs to string\n",
    "\n",
    "responses.index = responses.index.astype(str)\n",
    "responses.index"
   ]
  },
  {
   "cell_type": "code",
   "execution_count": 34,
   "metadata": {},
   "outputs": [
    {
     "name": "stdout",
     "output_type": "stream",
     "text": [
      "GDSC # of common samples and genes (Expression): (9435, 772)\n",
      "GDSC # of common samples and genes (CNA): (9435, 772)\n",
      "GDSC # of common samples (Response): 9435\n",
      "\n",
      "TCGA # of common samples and genes for Gemcitabine (Expression): (55, 772)\n",
      "TCGA # of common samples and genes for Gemcitabine (CNA): (55, 772)\n",
      "\n"
     ]
    }
   ],
   "source": [
    "# filter GDSC expression and CNA datasets (DNA_REPi) as to drugs\n",
    "# subset selected DEGs\n",
    "\n",
    "expression_zscores = []\n",
    "CNA = []\n",
    "for drug in drugs:\n",
    "    samples = responses.loc[responses[\"drug\"] == drug, :].index.values\n",
    "    e_z = exprs_z.loc[samples, :]\n",
    "    c = cna.loc[samples, :]\n",
    "    expression_zscores.append(e_z)\n",
    "    CNA.append(c)\n",
    "\n",
    "GDSCEv2 = pd.concat(expression_zscores, axis=0)\n",
    "GDSCCv2 = pd.concat(CNA, axis=0)\n",
    "GDSCRv2 = responses\n",
    "\n",
    "ls4 = list(set(GDSCE.columns).intersection(set(DEGs_entrez_id.astype(int))))\n",
    "ls5 = GDSCEv2.index.intersection(GDSCCv2.index)\n",
    "\n",
    "GDSCEv2 = GDSCEv2.loc[ls5, ls4]\n",
    "GDSCCv2 = GDSCCv2.loc[ls5, ls4]\n",
    "GDSCRv2 = GDSCRv2.loc[ls5, :]\n",
    "\n",
    "TCGAEgemcitabine = TCGAEgemcitabine.loc[:,ls4]\n",
    "TCGACgemcitabine = TCGACgemcitabine.loc[:,ls4]\n",
    "\n",
    "responses.index = responses.index.values + \"_\" + responses[\"drug\"].values\n",
    "\n",
    "print(f\"GDSC # of common samples and genes (Expression): {GDSCEv2.shape}\")\n",
    "print(f\"GDSC # of common samples and genes (CNA): {GDSCCv2.shape}\")\n",
    "print(f\"GDSC # of common samples (Response): {GDSCRv2.shape[0]}\\n\")\n",
    "\n",
    "print(f\"TCGA # of common samples and genes for Gemcitabine (Expression): {TCGAEgemcitabine.shape}\")\n",
    "print(f\"TCGA # of common samples and genes for Gemcitabine (CNA): {TCGACgemcitabine.shape}\\n\")"
   ]
  },
  {
   "cell_type": "code",
   "execution_count": 35,
   "metadata": {},
   "outputs": [
    {
     "name": "stdout",
     "output_type": "stream",
     "text": [
      "[0 0 0 ... 0 0 1]\n"
     ]
    }
   ],
   "source": [
    "# GDSC response values\n",
    "\n",
    "Y = GDSCRv2['response'].values\n",
    "print(Y)"
   ]
  },
  {
   "cell_type": "code",
   "execution_count": 36,
   "metadata": {},
   "outputs": [
    {
     "data": {
      "text/plain": [
       "'/Volumes/Expansion/Thesis Work/Results/preprocessed_results2/response'"
      ]
     },
     "execution_count": 36,
     "metadata": {},
     "output_type": "execute_result"
    }
   ],
   "source": [
    "# change directory to read TCGA response dataset (Gemcitabine)\n",
    "\n",
    "os.chdir(dataset_dir + \"response\")\n",
    "os.getcwd()"
   ]
  },
  {
   "cell_type": "code",
   "execution_count": 37,
   "metadata": {},
   "outputs": [
    {
     "name": "stdout",
     "output_type": "stream",
     "text": [
      "There are 55 samples with response data in the TCGA (Gemcitabine)\n",
      "\n"
     ]
    },
    {
     "data": {
      "text/plain": [
       "array([0, 0, 0, 0, 0, 0, 1, 0, 0, 0, 0, 0, 1, 1, 0, 0, 1, 1, 0, 0, 1, 0,\n",
       "       1, 1, 0, 1, 1, 0, 0, 1, 0, 1, 0, 0, 0, 1, 1, 0, 0, 1, 0, 0, 1, 1,\n",
       "       0, 0, 1, 1, 0, 1, 0, 0, 0, 0, 0])"
      ]
     },
     "execution_count": 37,
     "metadata": {},
     "output_type": "execute_result"
    }
   ],
   "source": [
    "# read TCGA response dataset (Gemcitabine)\n",
    "\n",
    "TCGARgemcitabineorubicin = pd.read_csv(\"TCGA_response.Gemcitabine.tsv\", \n",
    "                      sep = \"\\t\", \n",
    "                      index_col=0, \n",
    "                      decimal = \",\")\n",
    "TCGARgemcitabineorubicin.dropna(inplace=True)\n",
    "TCGARgemcitabineorubicin.rename(mapper=str, axis='index', inplace=True)\n",
    "d = {\"R\": 0, \"S\": 1}\n",
    "TCGARgemcitabineorubicin[\"response\"] = TCGARgemcitabineorubicin.loc[:, \"response\"].apply(lambda x: d[x])\n",
    "Ytsgemcitabine = TCGARgemcitabineorubicin[\"response\"].values    \n",
    "\n",
    "print(f\"There are {Ytsgemcitabine.shape[0]} samples with response data in the TCGA (Gemcitabine)\\n\")\n",
    "Ytsgemcitabine"
   ]
  },
  {
   "cell_type": "code",
   "execution_count": 38,
   "metadata": {},
   "outputs": [
    {
     "data": {
      "text/plain": [
       "cohort\n",
       "PAAD    48\n",
       "SARC     3\n",
       "LIHC     2\n",
       "LUSC     1\n",
       "PCPG     1\n",
       "Name: count, dtype: int64"
      ]
     },
     "execution_count": 38,
     "metadata": {},
     "output_type": "execute_result"
    }
   ],
   "source": [
    "# TCGA cohort table with TCGA response dataset (Gemcitabine)\n",
    "\n",
    "dat_tcga = TCGARgemcitabineorubicin[\"cohort\"]\n",
    "\n",
    "dat_tcga.value_counts()"
   ]
  },
  {
   "cell_type": "code",
   "execution_count": 39,
   "metadata": {},
   "outputs": [
    {
     "data": {
      "text/plain": [
       "Index(['TCGA-2L-AAQA-01A', 'TCGA-2L-AAQE-01A', 'TCGA-2L-AAQI-01A',\n",
       "       'TCGA-2L-AAQJ-01A', 'TCGA-3A-A9I9-01A', 'TCGA-3A-A9IH-01A',\n",
       "       'TCGA-3A-A9IX-01A', 'TCGA-3A-A9IZ-01A', 'TCGA-3A-A9J0-01A',\n",
       "       'TCGA-F2-6879-01A', 'TCGA-F2-6880-01A', 'TCGA-F2-7273-01A',\n",
       "       'TCGA-F2-7276-01A', 'TCGA-F2-A44G-01A', 'TCGA-F2-A44H-01A',\n",
       "       'TCGA-F2-A8YN-01A', 'TCGA-FB-A5VM-01A', 'TCGA-FB-A78T-01A',\n",
       "       'TCGA-FB-AAPP-01A', 'TCGA-FB-AAPY-01A', 'TCGA-FB-AAQ6-01A',\n",
       "       'TCGA-H8-A6C1-01A', 'TCGA-HZ-7924-01A', 'TCGA-HZ-8317-01A',\n",
       "       'TCGA-HZ-A49G-01A', 'TCGA-HZ-A49H-01A', 'TCGA-HZ-A77O-01A',\n",
       "       'TCGA-HZ-A77P-01A', 'TCGA-IB-7644-01A', 'TCGA-IB-7647-01A',\n",
       "       'TCGA-IB-7651-01A', 'TCGA-IB-7652-01A', 'TCGA-IB-7885-01A',\n",
       "       'TCGA-IB-7889-01A', 'TCGA-IB-7891-01A', 'TCGA-IB-8127-01A',\n",
       "       'TCGA-IB-A5SO-01A', 'TCGA-IB-A5SP-01A', 'TCGA-IB-A5SS-01A',\n",
       "       'TCGA-IB-A6UF-01A', 'TCGA-IB-A7LX-01A', 'TCGA-IB-AAUO-01A',\n",
       "       'TCGA-LB-A8F3-01A', 'TCGA-Q3-A5QY-01A', 'TCGA-RB-AA9M-01A',\n",
       "       'TCGA-S4-A8RM-01A', 'TCGA-US-A774-01A', 'TCGA-XD-AAUI-01A'],\n",
       "      dtype='object', name='sample')"
      ]
     },
     "execution_count": 39,
     "metadata": {},
     "output_type": "execute_result"
    }
   ],
   "source": [
    "# filter PAAD cohort samples (Gemcitabine)\n",
    "\n",
    "filter = (TCGARgemcitabineorubicin[\"cohort\"] == \"PAAD\")\n",
    "tcga_paad_samples = dat_tcga.loc[filter,].index\n",
    "tcga_paad_samples"
   ]
  },
  {
   "cell_type": "code",
   "execution_count": 40,
   "metadata": {},
   "outputs": [
    {
     "data": {
      "text/plain": [
       "array([0, 0, 0, 0, 0, 0, 1, 0, 0, 1, 1, 0, 0, 1, 1, 0, 0, 1, 0, 1, 1, 1,\n",
       "       1, 0, 0, 1, 0, 1, 0, 0, 0, 1, 1, 0, 0, 1, 0, 0, 1, 1, 0, 0, 1, 1,\n",
       "       0, 1, 0, 0])"
      ]
     },
     "execution_count": 40,
     "metadata": {},
     "output_type": "execute_result"
    }
   ],
   "source": [
    "# filter responses of PAAD cohort samples (Gemcitabine)\n",
    "\n",
    "Ytsgemcitabine_paad = TCGARgemcitabineorubicin.loc[tcga_paad_samples,\"response\"].values\n",
    "Ytsgemcitabine_paad"
   ]
  },
  {
   "cell_type": "code",
   "execution_count": 41,
   "metadata": {},
   "outputs": [
    {
     "data": {
      "text/plain": [
       "response\n",
       "0    28\n",
       "1    20\n",
       "Name: count, dtype: int64"
      ]
     },
     "execution_count": 41,
     "metadata": {},
     "output_type": "execute_result"
    }
   ],
   "source": [
    "# count of sensitive and resistance PAAD samples (Gemcitabine)\n",
    "\n",
    "TCGARgemcitabineorubicin.loc[tcga_paad_samples,\"response\"].value_counts()"
   ]
  },
  {
   "cell_type": "code",
   "execution_count": 42,
   "metadata": {},
   "outputs": [],
   "source": [
    "# define maximum iteration\n",
    "\n",
    "max_iter = 50"
   ]
  },
  {
   "cell_type": "code",
   "execution_count": 43,
   "metadata": {},
   "outputs": [],
   "source": [
    "# assign number of neurons and dropout rates found for layers from the saved models\n",
    "\n",
    "hdm1 = 64\n",
    "hdm2 = 32\n",
    "rate1 = 0.5\n",
    "rate2 = 0.6\n",
    "rate3 = 0.6"
   ]
  },
  {
   "cell_type": "code",
   "execution_count": 44,
   "metadata": {},
   "outputs": [
    {
     "name": "stdout",
     "output_type": "stream",
     "text": [
      "GDSC - Training AUC (DNA_REPi): 0.75\n",
      "GDSC - Training AUCPR (DNA_REPi): 0.27\n",
      "TCGA - Test AUC (Gemcitabine): 0.6\n",
      "TCGA - Test AUCPR (Gemcitabine): 0.41\n",
      "TCGA - Test AUC (Gemcitabine, PAAD): 0.67\n",
      "TCGA - Test AUCPR (Gemcitabine, PAAD): 0.63\n",
      "\n",
      "GDSC - Training AUC (DNA_REPi, Finetuned): 0.76\n",
      "GDSC - Training AUCPR (DNA_REPi, Finetuned): 0.27\n",
      "TCGA - Test AUC (Gemcitabine, Finetuned): 0.62\n",
      "TCGA - Test AUCPR (Gemcitabine, Finetuned): 0.43\n",
      "\n",
      "GDSC - Training AUC (DNA_REPi, Finetuned): 0.76\n",
      "GDSC - Training AUCPR (DNA_REPi, Finetuned): 0.27\n",
      "TCGA - Test AUC (Gemcitabine, PAAD, Finetuned): 0.71\n",
      "TCGA - Test AUCPR (Gemcitabine, PAAD, Finetuned): 0.69\n",
      "\n",
      "\n",
      "Models for maximum finetuning (Gemcitabine)\n",
      "Exprs_Gemcitabine_GDSC_TCGA_DNA_REPi_Expression_CNA_Finetuned_43.pt\n",
      "CNA_Gemcitabine_GDSC_TCGA_DNA_REPi_Expression_CNA_Finetuned_43.pt\n",
      "Class_Gemcitabine_GDSC_TCGA_DNA_REPi_Expression_CNA_Finetuned_43.pt\n",
      "\n",
      "Models for maximum finetuning (Gemcitabine, PAAD)\n",
      "Exprs_Gemcitabine_GDSC_TCGA_DNA_REPi_Expression_CNA_Finetuned_13.pt\n",
      "CNA_Gemcitabine_GDSC_TCGA_DNA_REPi_Expression_CNA_Finetuned_13.pt\n",
      "Class_Gemcitabine_GDSC_TCGA_DNA_REPi_Expression_CNA_Finetuned_13.pt\n"
     ]
    }
   ],
   "source": [
    "# load pre-trained models and make predictions\n",
    "\n",
    "scalerGDSC = sk.StandardScaler()\n",
    "scalerGDSC.fit(GDSCEv2.values)\n",
    "X_trainE = scalerGDSC.transform(GDSCEv2.values)\n",
    "X_testEgemcitabine = scalerGDSC.transform(TCGAEgemcitabine.values)    \n",
    "\n",
    "X_testEgemcitabine = scalerGDSC.transform(TCGAEgemcitabine.values)    \n",
    "X_testEgemcitabine_paad = scalerGDSC.transform(TCGAEgemcitabine.loc[tcga_paad_samples,].values)    \n",
    "\n",
    "X_trainC = np.nan_to_num(GDSCCv2.values)\n",
    "X_testCgemcitabine = np.nan_to_num(TCGACgemcitabine.values.astype(np.float32))\n",
    "X_testCgemcitabine_paad = np.nan_to_num(TCGACgemcitabine.loc[tcga_paad_samples,].values)\n",
    "\n",
    "TX_testEgemcitabine = torch.FloatTensor(X_testEgemcitabine)\n",
    "TX_testCgemcitabine = torch.FloatTensor(X_testCgemcitabine.astype(np.float32))\n",
    "ty_testEgemcitabineorouracil = torch.FloatTensor(Ytsgemcitabine.astype(int))\n",
    "\n",
    "TX_testEgemcitabine = torch.FloatTensor(X_testEgemcitabine)\n",
    "TX_testEgemcitabine_paad = torch.FloatTensor(X_testEgemcitabine_paad)\n",
    "\n",
    "TX_testCgemcitabine = torch.FloatTensor(X_testCgemcitabine.astype(np.float32))\n",
    "TX_testCgemcitabine_paad = torch.FloatTensor(X_testCgemcitabine_paad.astype(np.float32))\n",
    "\n",
    "n_sampE, IE_dim = X_trainE.shape\n",
    "n_sampC, IC_dim = X_trainC.shape\n",
    "\n",
    "h_dim1 = hdm1\n",
    "h_dim2 = hdm2\n",
    "Z_in = h_dim1 + h_dim2 \n",
    "\n",
    "class AEE(nn.Module):\n",
    "    def __init__(self):\n",
    "        super(AEE, self).__init__()\n",
    "        self.EnE = torch.nn.Sequential(\n",
    "            nn.Linear(IE_dim, h_dim1),\n",
    "            nn.BatchNorm1d(h_dim1),\n",
    "            nn.ReLU(),\n",
    "            nn.Dropout(rate1))\n",
    "    def forward(self, x):\n",
    "        output = self.EnE(x)\n",
    "        return output  \n",
    "\n",
    "\n",
    "class AEC(nn.Module):\n",
    "    def __init__(self):\n",
    "        super(AEC, self).__init__()\n",
    "        self.EnC = torch.nn.Sequential(\n",
    "            nn.Linear(IC_dim, h_dim2),\n",
    "            nn.BatchNorm1d(h_dim2),\n",
    "            nn.ReLU(),\n",
    "            nn.Dropout(rate2))\n",
    "    def forward(self, x):\n",
    "        output = self.EnC(x)\n",
    "        return output       \n",
    "\n",
    "class Classifier(nn.Module):\n",
    "    def __init__(self):\n",
    "        super(Classifier, self).__init__()\n",
    "        self.FC = torch.nn.Sequential(\n",
    "            nn.Linear(Z_in, 1),\n",
    "            nn.Dropout(rate3),\n",
    "            nn.Sigmoid())\n",
    "    def forward(self, x):\n",
    "        return self.FC(x)\n",
    "\n",
    "torch.cuda.manual_seed_all(42)\n",
    "\n",
    "AutoencoderE = torch.load(models_dir + \"Exprs_Gemcitabine_GDSC_TCGA_DNA_REPi_Expression_CNA.pt\")\n",
    "AutoencoderC = torch.load(models_dir + \"CNA_Gemcitabine_GDSC_TCGA_DNA_REPi_Expression_CNA.pt\")\n",
    "\n",
    "Clas = torch.load(models_dir + \"Class_Gemcitabine_GDSC_TCGA_DNA_REPi_Expression_CNA.pt\")\n",
    "\n",
    "AutoencoderE.eval()\n",
    "AutoencoderC.eval()\n",
    "Clas.eval()\n",
    "\n",
    "ZEX = AutoencoderE(torch.FloatTensor(X_trainE))\n",
    "ZCX = AutoencoderC(torch.FloatTensor(X_trainC))\n",
    "ZTX = torch.cat((ZEX, ZCX), 1)\n",
    "ZTX = F.normalize(ZTX, p=2, dim=0)\n",
    "PredX = Clas(ZTX)\n",
    "AUCT = roc_auc_score(Y, PredX.detach().numpy())\n",
    "#print(f\"GDSC - Training AUC (TCGA_DNA_REPi): {round(AUCT,2)}\")\n",
    "AUCTaucpr = average_precision_score(Y, PredX.detach().numpy())\n",
    "#print(f\"GDSC - Training AUCPR (TCGA_DNA_REPi): {round(AUCTaucpr,2)}\\n\")\n",
    "\n",
    "ZETgemcitabine = AutoencoderE(TX_testEgemcitabine)\n",
    "ZCTgemcitabine = AutoencoderC(TX_testCgemcitabine)\n",
    "ZTTgemcitabine = torch.cat((ZETgemcitabine, ZCTgemcitabine), 1)\n",
    "ZTTgemcitabine = F.normalize(ZTTgemcitabine, p=2, dim=0)\n",
    "PredTgemcitabine = Clas(ZTTgemcitabine)\n",
    "AUCTgemcitabine = roc_auc_score(Ytsgemcitabine.astype(int), PredTgemcitabine.detach().numpy())\n",
    "#print(f\"TCGA - Test AUC (Gemcitabine): {round(AUCTgemcitabine,2)}\")\n",
    "AUCTgemcitabine_aucpr = average_precision_score(Ytsgemcitabine.astype(int), PredTgemcitabine.detach().numpy())\n",
    "#print(f\"TCGA - Test AUCPR (Gemcitabine): {round(AUCTgemcitabine_aucpr,2)}\\n\")\n",
    "\n",
    "ZETgemcitabine_paad = AutoencoderE(TX_testEgemcitabine_paad)\n",
    "ZCTgemcitabine_paad = AutoencoderC(TX_testCgemcitabine_paad)\n",
    "ZTTgemcitabine_paad = torch.cat((ZETgemcitabine_paad, ZCTgemcitabine_paad), 1)\n",
    "ZTTgemcitabine_paad = F.normalize(ZTTgemcitabine_paad, p=2, dim=0)\n",
    "PredTgemcitabine_paad = Clas(ZTTgemcitabine_paad)\n",
    "AUCTgemcitabine_paad = roc_auc_score(Ytsgemcitabine_paad.astype(int), PredTgemcitabine_paad.detach().numpy())\n",
    "#print(f\"TCGA - Test AUC (Gemcitabine, PAAD): {round(AUCTgemcitabine_paad,2)}\")\n",
    "AUCTgemcitabine_paad_aucpr = average_precision_score(Ytsgemcitabine_paad.astype(int), PredTgemcitabine_paad.detach().numpy())\n",
    "#print(f\"TCGA - Test AUCPR (Gemcitabine, PAAD): {round(AUCTgemcitabine_paad_aucpr,2)}\")\n",
    "\n",
    "AUCT_finetuned = dict()\n",
    "AUCTaucpr_finetuned = dict()\n",
    "AUCTgemcitabine_finetuned = dict()\n",
    "AUCTgemcitabine_paad_finetuned = dict()\n",
    "AUCTgemcitabine_aucpr_finetuned = dict()\n",
    "AUCTgemcitabine_paad_aucpr_finetuned = dict()\n",
    "for iter in range(max_iter):\n",
    "   iter += 1  \n",
    "\n",
    "   AutoencoderE_finetuned = torch.load(models_dir + f\"Finetuned_Models/Exprs_Gemcitabine_GDSC_TCGA_DNA_REPi_Expression_CNA_Finetuned_{iter}.pt\")\n",
    "   AutoencoderC_finetuned = torch.load(models_dir + f\"Finetuned_Models/CNA_Gemcitabine_GDSC_TCGA_DNA_REPi_Expression_CNA_Finetuned_{iter}.pt\")\n",
    "   Clas_finetuned = torch.load(models_dir + f\"Finetuned_Models/Class_Gemcitabine_GDSC_TCGA_DNA_REPi_Expression_CNA_Finetuned_{iter}.pt\")\n",
    "   \n",
    "   AutoencoderE_finetuned.eval()\n",
    "   AutoencoderC_finetuned.eval()\n",
    "   Clas_finetuned.eval()\n",
    "      \n",
    "   ZEX = AutoencoderE_finetuned(torch.FloatTensor(X_trainE))\n",
    "   ZCX = AutoencoderC_finetuned(torch.FloatTensor(X_trainC))\n",
    "   ZTX = torch.cat((ZEX, ZCX), 1)\n",
    "   ZTX = F.normalize(ZTX, p=2, dim=0)\n",
    "   PredX = Clas_finetuned(ZTX)\n",
    "   AUCT_finetuned[iter] = roc_auc_score(Y, PredX.detach().numpy())\n",
    "   AUCTaucpr_finetuned[iter] = average_precision_score(Y, PredX.detach().numpy())\n",
    "   \n",
    "   ZETgemcitabine = AutoencoderE_finetuned(TX_testEgemcitabine)\n",
    "   ZCTgemcitabine = AutoencoderC_finetuned(TX_testCgemcitabine)\n",
    "   ZTTgemcitabine = torch.cat((ZETgemcitabine, ZCTgemcitabine), 1)\n",
    "   ZTTgemcitabine = F.normalize(ZTTgemcitabine, p=2, dim=0)\n",
    "   PredTgemcitabine = Clas_finetuned(ZTTgemcitabine)\n",
    "   AUCTgemcitabine_finetuned[iter] = roc_auc_score(Ytsgemcitabine.astype(int), PredTgemcitabine.detach().numpy())\n",
    "   AUCTgemcitabine_aucpr_finetuned[iter] = average_precision_score(Ytsgemcitabine.astype(int), PredTgemcitabine.detach().numpy())\n",
    "\n",
    "   ZETgemcitabine_paad = AutoencoderE_finetuned(TX_testEgemcitabine_paad)\n",
    "   ZCTgemcitabine_paad = AutoencoderC_finetuned(TX_testCgemcitabine_paad)\n",
    "   ZTTgemcitabine_paad = torch.cat((ZETgemcitabine_paad, ZCTgemcitabine_paad), 1)\n",
    "   ZTTgemcitabine_paad = F.normalize(ZTTgemcitabine_paad, p=2, dim=0)\n",
    "   PredTgemcitabine_paad = Clas_finetuned(ZTTgemcitabine_paad)\n",
    "   AUCTgemcitabine_paad_finetuned[iter] = roc_auc_score(Ytsgemcitabine_paad.astype(int), PredTgemcitabine_paad.detach().numpy())\n",
    "   AUCTgemcitabine_paad_aucpr_finetuned[iter] = average_precision_score(Ytsgemcitabine_paad.astype(int), PredTgemcitabine_paad.detach().numpy())\n",
    "\n",
    "max_key = max(AUCTgemcitabine_aucpr_finetuned, key=AUCTgemcitabine_aucpr_finetuned.get)\n",
    "max_key_paad = max(AUCTgemcitabine_paad_aucpr_finetuned, key=AUCTgemcitabine_paad_aucpr_finetuned.get)\n",
    "\n",
    "print(f\"GDSC - Training AUC (DNA_REPi): {round(AUCT,2)}\")\n",
    "print(f\"GDSC - Training AUCPR (DNA_REPi): {round(AUCTaucpr,2)}\")\n",
    "print(f\"TCGA - Test AUC (Gemcitabine): {round(AUCTgemcitabine,2)}\")\n",
    "print(f\"TCGA - Test AUCPR (Gemcitabine): {round(AUCTgemcitabine_aucpr,2)}\")\n",
    "print(f\"TCGA - Test AUC (Gemcitabine, PAAD): {round(AUCTgemcitabine_paad,2)}\")\n",
    "print(f\"TCGA - Test AUCPR (Gemcitabine, PAAD): {round(AUCTgemcitabine_paad_aucpr,2)}\\n\")\n",
    "\n",
    "print(f\"GDSC - Training AUC (DNA_REPi, Finetuned): {round(AUCT_finetuned[max_key],2)}\")\n",
    "print(f\"GDSC - Training AUCPR (DNA_REPi, Finetuned): {round(AUCTaucpr_finetuned[max_key],2)}\")\n",
    "print(f\"TCGA - Test AUC (Gemcitabine, Finetuned): {round(AUCTgemcitabine_finetuned[max_key],2)}\")\n",
    "print(f\"TCGA - Test AUCPR (Gemcitabine, Finetuned): {round(AUCTgemcitabine_aucpr_finetuned[max_key],2)}\\n\")\n",
    "\n",
    "print(f\"GDSC - Training AUC (DNA_REPi, Finetuned): {round(AUCT_finetuned[max_key_paad],2)}\")\n",
    "print(f\"GDSC - Training AUCPR (DNA_REPi, Finetuned): {round(AUCTaucpr_finetuned[max_key_paad],2)}\")\n",
    "print(f\"TCGA - Test AUC (Gemcitabine, PAAD, Finetuned): {round(AUCTgemcitabine_paad_finetuned[max_key_paad],2)}\")\n",
    "print(f\"TCGA - Test AUCPR (Gemcitabine, PAAD, Finetuned): {round(AUCTgemcitabine_paad_aucpr_finetuned[max_key_paad],2)}\\n\\n\")\n",
    "\n",
    "print(\"Models for maximum finetuning (Gemcitabine)\")\n",
    "print(f\"Exprs_Gemcitabine_GDSC_TCGA_DNA_REPi_Expression_CNA_Finetuned_{max_key}.pt\")\n",
    "print(f\"CNA_Gemcitabine_GDSC_TCGA_DNA_REPi_Expression_CNA_Finetuned_{max_key}.pt\")\n",
    "print(f\"Class_Gemcitabine_GDSC_TCGA_DNA_REPi_Expression_CNA_Finetuned_{max_key}.pt\")\n",
    "\n",
    "print(\"\\nModels for maximum finetuning (Gemcitabine, PAAD)\")\n",
    "print(f\"Exprs_Gemcitabine_GDSC_TCGA_DNA_REPi_Expression_CNA_Finetuned_{max_key_paad}.pt\")\n",
    "print(f\"CNA_Gemcitabine_GDSC_TCGA_DNA_REPi_Expression_CNA_Finetuned_{max_key_paad}.pt\")\n",
    "print(f\"Class_Gemcitabine_GDSC_TCGA_DNA_REPi_Expression_CNA_Finetuned_{max_key_paad}.pt\")"
   ]
  },
  {
   "cell_type": "code",
   "execution_count": 51,
   "metadata": {},
   "outputs": [
    {
     "data": {
      "text/html": [
       "<div>\n",
       "<style scoped>\n",
       "    .dataframe tbody tr th:only-of-type {\n",
       "        vertical-align: middle;\n",
       "    }\n",
       "\n",
       "    .dataframe tbody tr th {\n",
       "        vertical-align: top;\n",
       "    }\n",
       "\n",
       "    .dataframe thead th {\n",
       "        text-align: right;\n",
       "    }\n",
       "</style>\n",
       "<table border=\"1\" class=\"dataframe\">\n",
       "  <thead>\n",
       "    <tr style=\"text-align: right;\">\n",
       "      <th></th>\n",
       "      <th>Data</th>\n",
       "      <th>AUC (GDSC)</th>\n",
       "      <th>AUCPR (GDSC)</th>\n",
       "      <th>AUC (TCGA)</th>\n",
       "      <th>AUCPR (TCGA)</th>\n",
       "      <th>AUC (TCGA-PAAD)</th>\n",
       "      <th>AUCPR (TCGA-PAAD)</th>\n",
       "      <th>Sample Size (GDSC)</th>\n",
       "      <th>Feature Size (GDSC)</th>\n",
       "    </tr>\n",
       "  </thead>\n",
       "  <tbody>\n",
       "    <tr>\n",
       "      <th>0</th>\n",
       "      <td>Expr + CNA</td>\n",
       "      <td>0.75</td>\n",
       "      <td>0.27</td>\n",
       "      <td>0.6</td>\n",
       "      <td>0.41</td>\n",
       "      <td>0.67</td>\n",
       "      <td>0.63</td>\n",
       "      <td>9435</td>\n",
       "      <td>772</td>\n",
       "    </tr>\n",
       "    <tr>\n",
       "      <th>1</th>\n",
       "      <td>Expr + CNA (Fine-tuned)</td>\n",
       "      <td>0.76</td>\n",
       "      <td>0.27</td>\n",
       "      <td>0.62</td>\n",
       "      <td>0.43</td>\n",
       "      <td>0.71</td>\n",
       "      <td>0.69</td>\n",
       "      <td>9435</td>\n",
       "      <td>772</td>\n",
       "    </tr>\n",
       "  </tbody>\n",
       "</table>\n",
       "</div>"
      ],
      "text/plain": [
       "                      Data AUC (GDSC) AUCPR (GDSC) AUC (TCGA) AUCPR (TCGA)  \\\n",
       "0               Expr + CNA       0.75         0.27        0.6         0.41   \n",
       "1  Expr + CNA (Fine-tuned)       0.76         0.27       0.62         0.43   \n",
       "\n",
       "  AUC (TCGA-PAAD) AUCPR (TCGA-PAAD) Sample Size (GDSC) Feature Size (GDSC)  \n",
       "0            0.67              0.63               9435                 772  \n",
       "1            0.71              0.69               9435                 772  "
      ]
     },
     "execution_count": 51,
     "metadata": {},
     "output_type": "execute_result"
    }
   ],
   "source": [
    "# create a dataframe with the prediction results \n",
    "\n",
    "ec = {\"Data\": [\"Expr + CNA\", \"Expr + CNA (Fine-tuned)\"],\n",
    "       \"AUC (GDSC)\": [round(AUCT, 2), round(AUCT_finetuned[max_key], 2)],\n",
    "       \"AUCPR (GDSC)\": [round(AUCTaucpr,2), round(AUCTaucpr_finetuned[max_key],2)],\n",
    "       \"AUC (TCGA)\": [round(AUCTgemcitabine,2), round(AUCTgemcitabine_finetuned[max_key],2)],\n",
    "       \"AUCPR (TCGA)\":  [round(AUCTgemcitabine_aucpr,2), round(AUCTgemcitabine_aucpr_finetuned[max_key],2)],\n",
    "       \"AUC (TCGA-PAAD)\":  [round(AUCTgemcitabine_paad,2), round(AUCTgemcitabine_paad_finetuned[max_key_paad],2)],\n",
    "       \"AUCPR (TCGA-PAAD)\": [round(AUCTgemcitabine_paad_aucpr,2), round(AUCTgemcitabine_paad_aucpr_finetuned[max_key_paad],2)],\n",
    "       \"Sample Size (GDSC)\": [GDSCEv2.shape[0], GDSCEv2.shape[0]],\n",
    "       \"Feature Size (GDSC)\": [GDSCEv2.shape[1], GDSCEv2.shape[1]] \n",
    "}\n",
    "ec_dataframe = pd.DataFrame.from_dict(ec, orient='index').transpose() \n",
    "\n",
    "ec_dataframe.to_csv(save_results_to + \"GDSC_TCGA_Expression_CNA_DNA_REPi_Gemcitabine.tsv\",\n",
    "                    sep = \"\\t\",\n",
    "                    index = False)\n",
    "\n",
    "ec_dataframe"
   ]
  },
  {
   "cell_type": "code",
   "execution_count": 52,
   "metadata": {},
   "outputs": [
    {
     "data": {
      "text/plain": [
       "AEE(\n",
       "  (EnE): Sequential(\n",
       "    (0): Linear(in_features=772, out_features=64, bias=True)\n",
       "    (1): BatchNorm1d(64, eps=1e-05, momentum=0.1, affine=True, track_running_stats=True)\n",
       "    (2): ReLU()\n",
       "    (3): Dropout(p=0.5, inplace=False)\n",
       "  )\n",
       ")"
      ]
     },
     "execution_count": 52,
     "metadata": {},
     "output_type": "execute_result"
    }
   ],
   "source": [
    "# show expression layer parameters\n",
    "\n",
    "AutoencoderE"
   ]
  },
  {
   "cell_type": "code",
   "execution_count": 53,
   "metadata": {},
   "outputs": [
    {
     "data": {
      "text/plain": [
       "AEC(\n",
       "  (EnC): Sequential(\n",
       "    (0): Linear(in_features=772, out_features=32, bias=True)\n",
       "    (1): BatchNorm1d(32, eps=1e-05, momentum=0.1, affine=True, track_running_stats=True)\n",
       "    (2): ReLU()\n",
       "    (3): Dropout(p=0.6, inplace=False)\n",
       "  )\n",
       ")"
      ]
     },
     "execution_count": 53,
     "metadata": {},
     "output_type": "execute_result"
    }
   ],
   "source": [
    "# show CNA layer parameters\n",
    "\n",
    "AutoencoderC"
   ]
  },
  {
   "cell_type": "code",
   "execution_count": 54,
   "metadata": {},
   "outputs": [
    {
     "data": {
      "text/plain": [
       "Classifier(\n",
       "  (FC): Sequential(\n",
       "    (0): Linear(in_features=96, out_features=1, bias=True)\n",
       "    (1): Dropout(p=0.6, inplace=False)\n",
       "    (2): Sigmoid()\n",
       "  )\n",
       ")"
      ]
     },
     "execution_count": 54,
     "metadata": {},
     "output_type": "execute_result"
    }
   ],
   "source": [
    "# show classification layer parameters\n",
    "\n",
    "Clas"
   ]
  },
  {
   "cell_type": "code",
   "execution_count": 55,
   "metadata": {},
   "outputs": [
    {
     "name": "stdout",
     "output_type": "stream",
     "text": [
      "/Volumes/Expansion/Thesis Work/Results/Transfer Learning/Drugs with same pathways/TCGA_DNA_REPi/Expression_CNA/Predictions\n"
     ]
    }
   ],
   "source": [
    "# change directory\n",
    "\n",
    "os.chdir(save_results_to)\n",
    "print(os.getcwd())"
   ]
  },
  {
   "cell_type": "code",
   "execution_count": 56,
   "metadata": {},
   "outputs": [],
   "source": [
    "# save predictions\n",
    "\n",
    "file = open('GDSC_TCGA_DEGs - TCGA_DNA_REPi_Gemcitabine Predictions (Expression and CNA).txt', 'w')\n",
    "file.write(f\"GDSC Training (EC) AUC (TCGA_DNA_REPi): {round(AUCT,2)}\\n\")\n",
    "file.write(f\"GDSC Training (EC) AUCPR (TCGA_DNA_REPi): {round(AUCTaucpr,2)}\\n\\n\")\n",
    "\n",
    "file.write(f\"TCGA Test (EC) AUC (Gemcitabine): {round(AUCTgemcitabine,2)}\\n\")\n",
    "file.write(f\"TCGA Test (EC) AUCPR (Gemcitabine): {round(AUCTgemcitabine_aucpr,2)}\\n\\n\")\n",
    "\n",
    "file.close()"
   ]
  }
 ],
 "metadata": {
  "kernelspec": {
   "display_name": "Python 3 (ipykernel)",
   "language": "python",
   "name": "python3"
  },
  "language_info": {
   "codemirror_mode": {
    "name": "ipython",
    "version": 3
   },
   "file_extension": ".py",
   "mimetype": "text/x-python",
   "name": "python",
   "nbconvert_exporter": "python",
   "pygments_lexer": "ipython3",
   "version": "3.12.7"
  }
 },
 "nbformat": 4,
 "nbformat_minor": 4
}
