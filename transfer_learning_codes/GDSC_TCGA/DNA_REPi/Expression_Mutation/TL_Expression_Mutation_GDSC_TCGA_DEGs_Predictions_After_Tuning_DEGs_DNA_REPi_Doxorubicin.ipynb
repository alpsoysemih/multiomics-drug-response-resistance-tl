{
 "cells": [
  {
   "cell_type": "code",
   "execution_count": 1,
   "metadata": {},
   "outputs": [],
   "source": [
    "# import libraries\n",
    "\n",
    "import os\n",
    "import torch \n",
    "import torch.nn as nn\n",
    "import torch.nn.functional as F\n",
    "import torch.optim as optim\n",
    "import numpy as np\n",
    "import matplotlib.pyplot as plt\n",
    "import pandas as pd\n",
    "import math\n",
    "import mygene\n",
    "import sklearn.preprocessing as sk\n",
    "import seaborn as sns\n",
    "from sklearn import metrics\n",
    "from sklearn.feature_selection import VarianceThreshold\n",
    "from sklearn.model_selection import train_test_split\n",
    "from sklearn.metrics import confusion_matrix\n",
    "from sklearn.metrics import classification_report\n",
    "from torch.utils.data.sampler import WeightedRandomSampler\n",
    "from sklearn.metrics import roc_curve, auc\n",
    "from sklearn.metrics import roc_auc_score\n",
    "from sklearn.metrics import average_precision_score, precision_recall_curve\n",
    "import random\n",
    "from random import randint\n",
    "from sklearn.model_selection import StratifiedKFold\n",
    "import warnings\n",
    "\n",
    "# Suppress all warnings\n",
    "warnings.filterwarnings(\"ignore\")"
   ]
  },
  {
   "cell_type": "code",
   "execution_count": 2,
   "metadata": {},
   "outputs": [],
   "source": [
    "# define directories\n",
    "\n",
    "cell_line_dir = \"/Volumes/Expansion/Thesis Work/Supplementary Files/GDSC/\"\n",
    "models_dir = \"/Volumes/Expansion/Thesis Work/Results/Transfer Learning/Drugs with same pathways/TCGA_DNA_REPi/Expression_Mutation/Models/\"\n",
    "DEGs_dir = \"/Volumes/Expansion/Thesis Work/Results/GDSC_DEGs_inhibitors/DNA_REPi/\"\n",
    "dataset_dir = \"/Volumes/Expansion/Thesis Work/Results/preprocessed_results2/\"\n",
    "save_results_to = \"/Volumes/Expansion/Thesis Work/Results/Transfer Learning/Drugs with same pathways/TCGA_DNA_REPi/Expression_Mutation/Predictions/\""
   ]
  },
  {
   "cell_type": "code",
   "execution_count": 3,
   "metadata": {},
   "outputs": [],
   "source": [
    "# set random seeds\n",
    "\n",
    "torch.manual_seed(42)\n",
    "random.seed(42)"
   ]
  },
  {
   "cell_type": "code",
   "execution_count": 4,
   "metadata": {},
   "outputs": [
    {
     "name": "stdout",
     "output_type": "stream",
     "text": [
      "/Volumes/Expansion/Thesis Work/Supplementary Files/GDSC\n"
     ]
    }
   ],
   "source": [
    "# change directory to read GDSC cell line details\n",
    "\n",
    "os.chdir(cell_line_dir)\n",
    "print(os.getcwd())"
   ]
  },
  {
   "cell_type": "code",
   "execution_count": 5,
   "metadata": {},
   "outputs": [
    {
     "data": {
      "text/html": [
       "<div>\n",
       "<style scoped>\n",
       "    .dataframe tbody tr th:only-of-type {\n",
       "        vertical-align: middle;\n",
       "    }\n",
       "\n",
       "    .dataframe tbody tr th {\n",
       "        vertical-align: top;\n",
       "    }\n",
       "\n",
       "    .dataframe thead th {\n",
       "        text-align: right;\n",
       "    }\n",
       "</style>\n",
       "<table border=\"1\" class=\"dataframe\">\n",
       "  <thead>\n",
       "    <tr style=\"text-align: right;\">\n",
       "      <th></th>\n",
       "      <th>Sample Name</th>\n",
       "      <th>Whole Exome Sequencing (WES)</th>\n",
       "      <th>Copy Number Alterations (CNA)</th>\n",
       "      <th>Gene Expression</th>\n",
       "      <th>Methylation</th>\n",
       "      <th>Drug\\nResponse</th>\n",
       "      <th>GDSC\\nTissue descriptor 1</th>\n",
       "      <th>GDSC\\nTissue\\ndescriptor 2</th>\n",
       "      <th>Cancer Type\\n(matching TCGA label)</th>\n",
       "      <th>Microsatellite \\ninstability Status (MSI)</th>\n",
       "      <th>Screen Medium</th>\n",
       "      <th>Growth Properties</th>\n",
       "    </tr>\n",
       "    <tr>\n",
       "      <th>COSMIC identifier</th>\n",
       "      <th></th>\n",
       "      <th></th>\n",
       "      <th></th>\n",
       "      <th></th>\n",
       "      <th></th>\n",
       "      <th></th>\n",
       "      <th></th>\n",
       "      <th></th>\n",
       "      <th></th>\n",
       "      <th></th>\n",
       "      <th></th>\n",
       "      <th></th>\n",
       "    </tr>\n",
       "  </thead>\n",
       "  <tbody>\n",
       "    <tr>\n",
       "      <th>1298218</th>\n",
       "      <td>KP-2</td>\n",
       "      <td>Y</td>\n",
       "      <td>N</td>\n",
       "      <td>Y</td>\n",
       "      <td>N</td>\n",
       "      <td>Y</td>\n",
       "      <td>pancreas</td>\n",
       "      <td>pancreas</td>\n",
       "      <td>PAAD</td>\n",
       "      <td></td>\n",
       "      <td>D/F12</td>\n",
       "      <td>Adherent</td>\n",
       "    </tr>\n",
       "    <tr>\n",
       "      <th>1330932</th>\n",
       "      <td>KO52</td>\n",
       "      <td>Y</td>\n",
       "      <td>Y</td>\n",
       "      <td>N</td>\n",
       "      <td>N</td>\n",
       "      <td>N</td>\n",
       "      <td>leukemia</td>\n",
       "      <td>acute_myeloid_leukaemia</td>\n",
       "      <td>LAML</td>\n",
       "      <td>MSS/MSI-L</td>\n",
       "      <td>D/F12</td>\n",
       "      <td>NA</td>\n",
       "    </tr>\n",
       "    <tr>\n",
       "      <th>1331030</th>\n",
       "      <td>SC-1</td>\n",
       "      <td>Y</td>\n",
       "      <td>Y</td>\n",
       "      <td>N</td>\n",
       "      <td>N</td>\n",
       "      <td>N</td>\n",
       "      <td>lymphoma</td>\n",
       "      <td>B_cell_lymphoma</td>\n",
       "      <td>DLBC</td>\n",
       "      <td>MSS/MSI-L</td>\n",
       "      <td>R</td>\n",
       "      <td>NA</td>\n",
       "    </tr>\n",
       "    <tr>\n",
       "      <th>1503373</th>\n",
       "      <td>U-CH2</td>\n",
       "      <td>Y</td>\n",
       "      <td>Y</td>\n",
       "      <td>N</td>\n",
       "      <td>N</td>\n",
       "      <td>N</td>\n",
       "      <td>bone</td>\n",
       "      <td>bone_other</td>\n",
       "      <td></td>\n",
       "      <td>MSS/MSI-L</td>\n",
       "      <td>D/F12</td>\n",
       "      <td>Adherent</td>\n",
       "    </tr>\n",
       "    <tr>\n",
       "      <th></th>\n",
       "      <td>TOTAL:</td>\n",
       "      <td>1001</td>\n",
       "      <td>996</td>\n",
       "      <td>968</td>\n",
       "      <td>957</td>\n",
       "      <td>990</td>\n",
       "      <td></td>\n",
       "      <td></td>\n",
       "      <td></td>\n",
       "      <td></td>\n",
       "      <td></td>\n",
       "      <td></td>\n",
       "    </tr>\n",
       "  </tbody>\n",
       "</table>\n",
       "</div>"
      ],
      "text/plain": [
       "                  Sample Name Whole Exome Sequencing (WES)  \\\n",
       "COSMIC identifier                                            \n",
       "1298218                  KP-2                            Y   \n",
       "1330932                  KO52                            Y   \n",
       "1331030                  SC-1                            Y   \n",
       "1503373                 U-CH2                            Y   \n",
       "                       TOTAL:                         1001   \n",
       "\n",
       "                  Copy Number Alterations (CNA) Gene Expression Methylation  \\\n",
       "COSMIC identifier                                                             \n",
       "1298218                                       N               Y           N   \n",
       "1330932                                       Y               N           N   \n",
       "1331030                                       Y               N           N   \n",
       "1503373                                       Y               N           N   \n",
       "                                            996             968         957   \n",
       "\n",
       "                  Drug\\nResponse GDSC\\nTissue descriptor 1  \\\n",
       "COSMIC identifier                                            \n",
       "1298218                        Y                  pancreas   \n",
       "1330932                        N                  leukemia   \n",
       "1331030                        N                  lymphoma   \n",
       "1503373                        N                      bone   \n",
       "                             990                             \n",
       "\n",
       "                  GDSC\\nTissue\\ndescriptor 2  \\\n",
       "COSMIC identifier                              \n",
       "1298218                             pancreas   \n",
       "1330932              acute_myeloid_leukaemia   \n",
       "1331030                      B_cell_lymphoma   \n",
       "1503373                           bone_other   \n",
       "                                               \n",
       "\n",
       "                  Cancer Type\\n(matching TCGA label)  \\\n",
       "COSMIC identifier                                      \n",
       "1298218                                         PAAD   \n",
       "1330932                                         LAML   \n",
       "1331030                                         DLBC   \n",
       "1503373                                                \n",
       "                                                       \n",
       "\n",
       "                  Microsatellite \\ninstability Status (MSI) Screen Medium  \\\n",
       "COSMIC identifier                                                           \n",
       "1298218                                                             D/F12   \n",
       "1330932                                           MSS/MSI-L         D/F12   \n",
       "1331030                                           MSS/MSI-L             R   \n",
       "1503373                                           MSS/MSI-L         D/F12   \n",
       "                                                                            \n",
       "\n",
       "                  Growth Properties  \n",
       "COSMIC identifier                    \n",
       "1298218                    Adherent  \n",
       "1330932                          NA  \n",
       "1331030                          NA  \n",
       "1503373                    Adherent  \n",
       "                                     "
      ]
     },
     "execution_count": 5,
     "metadata": {},
     "output_type": "execute_result"
    }
   ],
   "source": [
    "# read GDSC cell line details table\n",
    "\n",
    "GDSC_cell_line_details = pd.read_excel(\"GDSC_Cell_Lines_Details.xlsx\", keep_default_na = False)\n",
    "GDSC_cell_line_details.set_index(\"COSMIC identifier\", inplace = True)\n",
    "GDSC_cell_line_details.tail()"
   ]
  },
  {
   "cell_type": "code",
   "execution_count": 6,
   "metadata": {},
   "outputs": [
    {
     "name": "stdout",
     "output_type": "stream",
     "text": [
      "/Volumes/Expansion/Thesis Work/Results/preprocessed_results2/exprs\n"
     ]
    }
   ],
   "source": [
    "# change directory to read GDSC expression dataset (DNA_REPi)\n",
    "\n",
    "os.chdir(dataset_dir + \"/exprs/\")\n",
    "print(os.getcwd())"
   ]
  },
  {
   "cell_type": "code",
   "execution_count": 7,
   "metadata": {},
   "outputs": [
    {
     "data": {
      "text/html": [
       "<div>\n",
       "<style scoped>\n",
       "    .dataframe tbody tr th:only-of-type {\n",
       "        vertical-align: middle;\n",
       "    }\n",
       "\n",
       "    .dataframe tbody tr th {\n",
       "        vertical-align: top;\n",
       "    }\n",
       "\n",
       "    .dataframe thead th {\n",
       "        text-align: right;\n",
       "    }\n",
       "</style>\n",
       "<table border=\"1\" class=\"dataframe\">\n",
       "  <thead>\n",
       "    <tr style=\"text-align: right;\">\n",
       "      <th>ENTREZID</th>\n",
       "      <th>1</th>\n",
       "      <th>2</th>\n",
       "      <th>9</th>\n",
       "      <th>10</th>\n",
       "      <th>12</th>\n",
       "      <th>13</th>\n",
       "      <th>14</th>\n",
       "      <th>15</th>\n",
       "      <th>16</th>\n",
       "      <th>18</th>\n",
       "      <th>...</th>\n",
       "      <th>107984199</th>\n",
       "      <th>107984208</th>\n",
       "      <th>107984325</th>\n",
       "      <th>107984411</th>\n",
       "      <th>107984648</th>\n",
       "      <th>107984889</th>\n",
       "      <th>107984989</th>\n",
       "      <th>107986313</th>\n",
       "      <th>107986782</th>\n",
       "      <th>107986810</th>\n",
       "    </tr>\n",
       "  </thead>\n",
       "  <tbody>\n",
       "    <tr>\n",
       "      <th>683665</th>\n",
       "      <td>-0.4711563767951986</td>\n",
       "      <td>-0.1857522957766964</td>\n",
       "      <td>0.9702409548662462</td>\n",
       "      <td>-0.4081281805960821</td>\n",
       "      <td>-0.4161511169999803</td>\n",
       "      <td>-0.4384159723467665</td>\n",
       "      <td>-1.154692246005183</td>\n",
       "      <td>0.5262132484107975</td>\n",
       "      <td>-0.7950924576033422</td>\n",
       "      <td>-0.6337442716864214</td>\n",
       "      <td>...</td>\n",
       "      <td>1.283534690590172</td>\n",
       "      <td>-0.3367265464586691</td>\n",
       "      <td>-0.0039762988723447</td>\n",
       "      <td>0.7378729872604209</td>\n",
       "      <td>0.9757614264575688</td>\n",
       "      <td>0.1494417647095801</td>\n",
       "      <td>2.062294063911948</td>\n",
       "      <td>-0.8140636761719959</td>\n",
       "      <td>0.2870333828833719</td>\n",
       "      <td>0.9524265085537148</td>\n",
       "    </tr>\n",
       "    <tr>\n",
       "      <th>684055</th>\n",
       "      <td>1.3565140948247052</td>\n",
       "      <td>-0.277542411913307</td>\n",
       "      <td>0.0887087882196536</td>\n",
       "      <td>-0.2754829982302413</td>\n",
       "      <td>-0.5153856346587746</td>\n",
       "      <td>-0.6248712076433911</td>\n",
       "      <td>0.1243408990866293</td>\n",
       "      <td>-1.2699667684674136</td>\n",
       "      <td>2.0788360886382717</td>\n",
       "      <td>2.5197991997459197</td>\n",
       "      <td>...</td>\n",
       "      <td>-0.5571028630154293</td>\n",
       "      <td>-1.724090733574364</td>\n",
       "      <td>-0.3749080365068901</td>\n",
       "      <td>-0.0016055431935905</td>\n",
       "      <td>-0.3788535663547365</td>\n",
       "      <td>-1.3502092798315848</td>\n",
       "      <td>0.6949790577550328</td>\n",
       "      <td>0.4333032198982747</td>\n",
       "      <td>-0.1280986270308099</td>\n",
       "      <td>-1.629249958712223</td>\n",
       "    </tr>\n",
       "    <tr>\n",
       "      <th>684057</th>\n",
       "      <td>0.6510004960254864</td>\n",
       "      <td>1.6578876382433665</td>\n",
       "      <td>-0.4977106390881842</td>\n",
       "      <td>-0.1212172092933644</td>\n",
       "      <td>-0.398455281697677</td>\n",
       "      <td>-0.2804901106672752</td>\n",
       "      <td>0.6455898116420014</td>\n",
       "      <td>0.215833091774836</td>\n",
       "      <td>-0.1723595788875009</td>\n",
       "      <td>-0.2170870770552223</td>\n",
       "      <td>...</td>\n",
       "      <td>-0.024863133395904</td>\n",
       "      <td>0.4073439017665206</td>\n",
       "      <td>-0.4440356638831038</td>\n",
       "      <td>0.8630347078663075</td>\n",
       "      <td>1.4486171428489227</td>\n",
       "      <td>-1.4777214830771732</td>\n",
       "      <td>0.5220400480464272</td>\n",
       "      <td>0.6441211958947753</td>\n",
       "      <td>0.9057518606131394</td>\n",
       "      <td>0.3018783753479829</td>\n",
       "    </tr>\n",
       "  </tbody>\n",
       "</table>\n",
       "<p>3 rows × 18597 columns</p>\n",
       "</div>"
      ],
      "text/plain": [
       "ENTREZID            1                    2                    9          \\\n",
       "683665    -0.4711563767951986  -0.1857522957766964   0.9702409548662462   \n",
       "684055     1.3565140948247052   -0.277542411913307   0.0887087882196536   \n",
       "684057     0.6510004960254864   1.6578876382433665  -0.4977106390881842   \n",
       "\n",
       "ENTREZID            10                   12                   13         \\\n",
       "683665    -0.4081281805960821  -0.4161511169999803  -0.4384159723467665   \n",
       "684055    -0.2754829982302413  -0.5153856346587746  -0.6248712076433911   \n",
       "684057    -0.1212172092933644   -0.398455281697677  -0.2804901106672752   \n",
       "\n",
       "ENTREZID           14                   15                   16         \\\n",
       "683665    -1.154692246005183   0.5262132484107975  -0.7950924576033422   \n",
       "684055    0.1243408990866293  -1.2699667684674136   2.0788360886382717   \n",
       "684057    0.6455898116420014    0.215833091774836  -0.1723595788875009   \n",
       "\n",
       "ENTREZID            18         ...            107984199            107984208  \\\n",
       "683665    -0.6337442716864214  ...    1.283534690590172  -0.3367265464586691   \n",
       "684055     2.5197991997459197  ...  -0.5571028630154293   -1.724090733574364   \n",
       "684057    -0.2170870770552223  ...   -0.024863133395904   0.4073439017665206   \n",
       "\n",
       "ENTREZID            107984325            107984411            107984648  \\\n",
       "683665    -0.0039762988723447   0.7378729872604209   0.9757614264575688   \n",
       "684055    -0.3749080365068901  -0.0016055431935905  -0.3788535663547365   \n",
       "684057    -0.4440356638831038   0.8630347078663075   1.4486171428489227   \n",
       "\n",
       "ENTREZID            107984889           107984989            107986313  \\\n",
       "683665     0.1494417647095801   2.062294063911948  -0.8140636761719959   \n",
       "684055    -1.3502092798315848  0.6949790577550328   0.4333032198982747   \n",
       "684057    -1.4777214830771732  0.5220400480464272   0.6441211958947753   \n",
       "\n",
       "ENTREZID            107986782           107986810  \n",
       "683665     0.2870333828833719  0.9524265085537148  \n",
       "684055    -0.1280986270308099  -1.629249958712223  \n",
       "684057     0.9057518606131394  0.3018783753479829  \n",
       "\n",
       "[3 rows x 18597 columns]"
      ]
     },
     "execution_count": 7,
     "metadata": {},
     "output_type": "execute_result"
    }
   ],
   "source": [
    "# read GDSC expression dataset (DNA_REPi)\n",
    "\n",
    "GDSCE = pd.read_csv(\"GDSC_exprs.z.DNA_REPi.tsv\", \n",
    "                    sep = \"\\t\", index_col=0, decimal = \",\")\n",
    "GDSCE = pd.DataFrame.transpose(GDSCE)\n",
    "GDSCE.head(3)"
   ]
  },
  {
   "cell_type": "code",
   "execution_count": 8,
   "metadata": {},
   "outputs": [
    {
     "name": "stdout",
     "output_type": "stream",
     "text": [
      "/Volumes/Expansion/Thesis Work/Results/preprocessed_results2/mutations\n"
     ]
    }
   ],
   "source": [
    "# change directory to read GDSC mutation dataset (DNA_REPi)\n",
    "\n",
    "os.chdir(dataset_dir + \"/mutations/\")\n",
    "print(os.getcwd())"
   ]
  },
  {
   "cell_type": "code",
   "execution_count": 9,
   "metadata": {},
   "outputs": [
    {
     "data": {
      "text/html": [
       "<div>\n",
       "<style scoped>\n",
       "    .dataframe tbody tr th:only-of-type {\n",
       "        vertical-align: middle;\n",
       "    }\n",
       "\n",
       "    .dataframe tbody tr th {\n",
       "        vertical-align: top;\n",
       "    }\n",
       "\n",
       "    .dataframe thead th {\n",
       "        text-align: right;\n",
       "    }\n",
       "</style>\n",
       "<table border=\"1\" class=\"dataframe\">\n",
       "  <thead>\n",
       "    <tr style=\"text-align: right;\">\n",
       "      <th></th>\n",
       "      <th>143872</th>\n",
       "      <th>728577</th>\n",
       "      <th>2</th>\n",
       "      <th>2050</th>\n",
       "      <th>10243</th>\n",
       "      <th>79365</th>\n",
       "      <th>256006</th>\n",
       "      <th>4609</th>\n",
       "      <th>118788</th>\n",
       "      <th>113675</th>\n",
       "      <th>...</th>\n",
       "      <th>26517</th>\n",
       "      <th>28972</th>\n",
       "      <th>53917</th>\n",
       "      <th>283507</th>\n",
       "      <th>514</th>\n",
       "      <th>339210</th>\n",
       "      <th>64981</th>\n",
       "      <th>7335</th>\n",
       "      <th>5739</th>\n",
       "      <th>83442</th>\n",
       "    </tr>\n",
       "  </thead>\n",
       "  <tbody>\n",
       "    <tr>\n",
       "      <th>683665</th>\n",
       "      <td>0.0</td>\n",
       "      <td>0.0</td>\n",
       "      <td>0.0</td>\n",
       "      <td>0.0</td>\n",
       "      <td>0.0</td>\n",
       "      <td>0.0</td>\n",
       "      <td>0.0</td>\n",
       "      <td>0.0</td>\n",
       "      <td>0.0</td>\n",
       "      <td>0.0</td>\n",
       "      <td>...</td>\n",
       "      <td>0.0</td>\n",
       "      <td>0.0</td>\n",
       "      <td>0.0</td>\n",
       "      <td>0.0</td>\n",
       "      <td>0.0</td>\n",
       "      <td>0.0</td>\n",
       "      <td>0.0</td>\n",
       "      <td>0.0</td>\n",
       "      <td>0.0</td>\n",
       "      <td>0.0</td>\n",
       "    </tr>\n",
       "    <tr>\n",
       "      <th>684055</th>\n",
       "      <td>0.0</td>\n",
       "      <td>0.0</td>\n",
       "      <td>0.0</td>\n",
       "      <td>0.0</td>\n",
       "      <td>0.0</td>\n",
       "      <td>0.0</td>\n",
       "      <td>0.0</td>\n",
       "      <td>0.0</td>\n",
       "      <td>0.0</td>\n",
       "      <td>0.0</td>\n",
       "      <td>...</td>\n",
       "      <td>0.0</td>\n",
       "      <td>0.0</td>\n",
       "      <td>0.0</td>\n",
       "      <td>0.0</td>\n",
       "      <td>0.0</td>\n",
       "      <td>0.0</td>\n",
       "      <td>0.0</td>\n",
       "      <td>0.0</td>\n",
       "      <td>0.0</td>\n",
       "      <td>0.0</td>\n",
       "    </tr>\n",
       "    <tr>\n",
       "      <th>684057</th>\n",
       "      <td>0.0</td>\n",
       "      <td>0.0</td>\n",
       "      <td>0.0</td>\n",
       "      <td>0.0</td>\n",
       "      <td>0.0</td>\n",
       "      <td>0.0</td>\n",
       "      <td>0.0</td>\n",
       "      <td>0.0</td>\n",
       "      <td>0.0</td>\n",
       "      <td>0.0</td>\n",
       "      <td>...</td>\n",
       "      <td>0.0</td>\n",
       "      <td>0.0</td>\n",
       "      <td>0.0</td>\n",
       "      <td>0.0</td>\n",
       "      <td>0.0</td>\n",
       "      <td>0.0</td>\n",
       "      <td>0.0</td>\n",
       "      <td>0.0</td>\n",
       "      <td>0.0</td>\n",
       "      <td>0.0</td>\n",
       "    </tr>\n",
       "    <tr>\n",
       "      <th>684059</th>\n",
       "      <td>0.0</td>\n",
       "      <td>0.0</td>\n",
       "      <td>0.0</td>\n",
       "      <td>0.0</td>\n",
       "      <td>0.0</td>\n",
       "      <td>0.0</td>\n",
       "      <td>0.0</td>\n",
       "      <td>0.0</td>\n",
       "      <td>0.0</td>\n",
       "      <td>0.0</td>\n",
       "      <td>...</td>\n",
       "      <td>0.0</td>\n",
       "      <td>0.0</td>\n",
       "      <td>0.0</td>\n",
       "      <td>0.0</td>\n",
       "      <td>0.0</td>\n",
       "      <td>0.0</td>\n",
       "      <td>0.0</td>\n",
       "      <td>0.0</td>\n",
       "      <td>0.0</td>\n",
       "      <td>0.0</td>\n",
       "    </tr>\n",
       "    <tr>\n",
       "      <th>684062</th>\n",
       "      <td>0.0</td>\n",
       "      <td>0.0</td>\n",
       "      <td>0.0</td>\n",
       "      <td>0.0</td>\n",
       "      <td>0.0</td>\n",
       "      <td>0.0</td>\n",
       "      <td>0.0</td>\n",
       "      <td>0.0</td>\n",
       "      <td>0.0</td>\n",
       "      <td>0.0</td>\n",
       "      <td>...</td>\n",
       "      <td>0.0</td>\n",
       "      <td>0.0</td>\n",
       "      <td>0.0</td>\n",
       "      <td>0.0</td>\n",
       "      <td>0.0</td>\n",
       "      <td>0.0</td>\n",
       "      <td>0.0</td>\n",
       "      <td>0.0</td>\n",
       "      <td>0.0</td>\n",
       "      <td>0.0</td>\n",
       "    </tr>\n",
       "  </tbody>\n",
       "</table>\n",
       "<p>5 rows × 18377 columns</p>\n",
       "</div>"
      ],
      "text/plain": [
       "        143872  728577  2       2050    10243   79365   256006  4609    \\\n",
       "683665     0.0     0.0     0.0     0.0     0.0     0.0     0.0     0.0   \n",
       "684055     0.0     0.0     0.0     0.0     0.0     0.0     0.0     0.0   \n",
       "684057     0.0     0.0     0.0     0.0     0.0     0.0     0.0     0.0   \n",
       "684059     0.0     0.0     0.0     0.0     0.0     0.0     0.0     0.0   \n",
       "684062     0.0     0.0     0.0     0.0     0.0     0.0     0.0     0.0   \n",
       "\n",
       "        118788  113675  ...  26517   28972   53917   283507  514     339210  \\\n",
       "683665     0.0     0.0  ...     0.0     0.0     0.0     0.0     0.0     0.0   \n",
       "684055     0.0     0.0  ...     0.0     0.0     0.0     0.0     0.0     0.0   \n",
       "684057     0.0     0.0  ...     0.0     0.0     0.0     0.0     0.0     0.0   \n",
       "684059     0.0     0.0  ...     0.0     0.0     0.0     0.0     0.0     0.0   \n",
       "684062     0.0     0.0  ...     0.0     0.0     0.0     0.0     0.0     0.0   \n",
       "\n",
       "        64981   7335    5739    83442   \n",
       "683665     0.0     0.0     0.0     0.0  \n",
       "684055     0.0     0.0     0.0     0.0  \n",
       "684057     0.0     0.0     0.0     0.0  \n",
       "684059     0.0     0.0     0.0     0.0  \n",
       "684062     0.0     0.0     0.0     0.0  \n",
       "\n",
       "[5 rows x 18377 columns]"
      ]
     },
     "execution_count": 9,
     "metadata": {},
     "output_type": "execute_result"
    }
   ],
   "source": [
    "# read GDSC mutation dataset (DNA_REPi)\n",
    "\n",
    "GDSCM = pd.read_csv(\"GDSC_mutations.DNA_REPi.tsv\",\n",
    "                    sep=\"\\t\", index_col=0, decimal=\".\")\n",
    "GDSCM.drop_duplicates(keep='last')\n",
    "GDSCM = pd.DataFrame.transpose(GDSCM)\n",
    "GDSCM = GDSCM.loc[:, ~GDSCM.columns.duplicated()]\n",
    "\n",
    "GDSCM.head()"
   ]
  },
  {
   "cell_type": "code",
   "execution_count": 10,
   "metadata": {},
   "outputs": [
    {
     "name": "stdout",
     "output_type": "stream",
     "text": [
      "/Volumes/Expansion/Thesis Work/Results/preprocessed_results2/response\n"
     ]
    }
   ],
   "source": [
    "# change directory to read GDSC response dataset (DNA_REPi)\n",
    "\n",
    "os.chdir(dataset_dir + \"/response/\")\n",
    "print(os.getcwd())"
   ]
  },
  {
   "cell_type": "code",
   "execution_count": 11,
   "metadata": {},
   "outputs": [
    {
     "data": {
      "text/html": [
       "<div>\n",
       "<style scoped>\n",
       "    .dataframe tbody tr th:only-of-type {\n",
       "        vertical-align: middle;\n",
       "    }\n",
       "\n",
       "    .dataframe tbody tr th {\n",
       "        vertical-align: top;\n",
       "    }\n",
       "\n",
       "    .dataframe thead th {\n",
       "        text-align: right;\n",
       "    }\n",
       "</style>\n",
       "<table border=\"1\" class=\"dataframe\">\n",
       "  <thead>\n",
       "    <tr style=\"text-align: right;\">\n",
       "      <th></th>\n",
       "      <th>response</th>\n",
       "      <th>logIC50</th>\n",
       "      <th>drug</th>\n",
       "      <th>exprs</th>\n",
       "      <th>CNA</th>\n",
       "      <th>mutations</th>\n",
       "    </tr>\n",
       "    <tr>\n",
       "      <th>sample_name</th>\n",
       "      <th></th>\n",
       "      <th></th>\n",
       "      <th></th>\n",
       "      <th></th>\n",
       "      <th></th>\n",
       "      <th></th>\n",
       "    </tr>\n",
       "  </thead>\n",
       "  <tbody>\n",
       "    <tr>\n",
       "      <th>683665</th>\n",
       "      <td>0</td>\n",
       "      <td>5.12075503641523</td>\n",
       "      <td>Pyrimethamine</td>\n",
       "      <td>1</td>\n",
       "      <td>1</td>\n",
       "      <td>1</td>\n",
       "    </tr>\n",
       "    <tr>\n",
       "      <th>683665</th>\n",
       "      <td>0</td>\n",
       "      <td>-3.03711635474651</td>\n",
       "      <td>Doxorubicin</td>\n",
       "      <td>1</td>\n",
       "      <td>1</td>\n",
       "      <td>1</td>\n",
       "    </tr>\n",
       "    <tr>\n",
       "      <th>683665</th>\n",
       "      <td>0</td>\n",
       "      <td>-0.712119156515401</td>\n",
       "      <td>Etoposide</td>\n",
       "      <td>1</td>\n",
       "      <td>1</td>\n",
       "      <td>1</td>\n",
       "    </tr>\n",
       "    <tr>\n",
       "      <th>683665</th>\n",
       "      <td>0</td>\n",
       "      <td>-4.40897202584936</td>\n",
       "      <td>Gemcitabine</td>\n",
       "      <td>1</td>\n",
       "      <td>1</td>\n",
       "      <td>1</td>\n",
       "    </tr>\n",
       "    <tr>\n",
       "      <th>683665</th>\n",
       "      <td>0</td>\n",
       "      <td>-1.59752443691324</td>\n",
       "      <td>Mitomycin C</td>\n",
       "      <td>1</td>\n",
       "      <td>1</td>\n",
       "      <td>1</td>\n",
       "    </tr>\n",
       "  </tbody>\n",
       "</table>\n",
       "</div>"
      ],
      "text/plain": [
       "             response             logIC50           drug  exprs  CNA  \\\n",
       "sample_name                                                            \n",
       "683665              0    5.12075503641523  Pyrimethamine      1    1   \n",
       "683665              0   -3.03711635474651    Doxorubicin      1    1   \n",
       "683665              0  -0.712119156515401      Etoposide      1    1   \n",
       "683665              0   -4.40897202584936    Gemcitabine      1    1   \n",
       "683665              0   -1.59752443691324    Mitomycin C      1    1   \n",
       "\n",
       "             mutations  \n",
       "sample_name             \n",
       "683665               1  \n",
       "683665               1  \n",
       "683665               1  \n",
       "683665               1  \n",
       "683665               1  "
      ]
     },
     "execution_count": 11,
     "metadata": {},
     "output_type": "execute_result"
    }
   ],
   "source": [
    "# change directory to read GDSC response dataset (DNA_REPi)\n",
    "\n",
    "GDSCR = pd.read_csv(\"GDSC_response.DNA_REPi.tsv\",\n",
    "                    sep=\"\\t\",\n",
    "                    index_col=0,\n",
    "                    decimal=\",\")\n",
    "GDSCR.dropna(inplace=True)\n",
    "GDSCR.rename(mapper=str, axis='index', inplace=True)\n",
    "d = {\"R\": 0, \"S\": 1}\n",
    "GDSCR[\"response\"] = GDSCR.loc[:, \"response\"].apply(lambda x: d[x])\n",
    "\n",
    "GDSCR.head()"
   ]
  },
  {
   "cell_type": "code",
   "execution_count": 12,
   "metadata": {},
   "outputs": [
    {
     "data": {
      "text/plain": [
       "drug\n",
       "Etoposide         775\n",
       "SN-38             771\n",
       "Mitomycin C       767\n",
       "Doxorubicin       766\n",
       "5-Fluorouracil    764\n",
       "Gemcitabine       761\n",
       "Bleomycin         759\n",
       "Temozolomide      752\n",
       "Cisplatin         738\n",
       "Methotrexate      738\n",
       "Camptothecin      737\n",
       "Cytarabine        735\n",
       "Pyrimethamine     372\n",
       "Name: count, dtype: int64"
      ]
     },
     "execution_count": 12,
     "metadata": {},
     "output_type": "execute_result"
    }
   ],
   "source": [
    "# print count of cell lines for each drug (DNA_REPi)\n",
    "\n",
    "GDSCR[\"drug\"].value_counts()"
   ]
  },
  {
   "cell_type": "code",
   "execution_count": 13,
   "metadata": {},
   "outputs": [
    {
     "name": "stdout",
     "output_type": "stream",
     "text": [
      "/Volumes/Expansion/Thesis Work/Results/preprocessed_results2/exprs_homogenized\n"
     ]
    }
   ],
   "source": [
    "# change directory to read TCGA expression dataset homogenized with GDSC expression dataset (Doxorubicin)\n",
    "\n",
    "os.chdir(dataset_dir + \"/exprs_homogenized/\")\n",
    "print(os.getcwd())"
   ]
  },
  {
   "cell_type": "code",
   "execution_count": 14,
   "metadata": {},
   "outputs": [
    {
     "data": {
      "text/html": [
       "<div>\n",
       "<style scoped>\n",
       "    .dataframe tbody tr th:only-of-type {\n",
       "        vertical-align: middle;\n",
       "    }\n",
       "\n",
       "    .dataframe tbody tr th {\n",
       "        vertical-align: top;\n",
       "    }\n",
       "\n",
       "    .dataframe thead th {\n",
       "        text-align: right;\n",
       "    }\n",
       "</style>\n",
       "<table border=\"1\" class=\"dataframe\">\n",
       "  <thead>\n",
       "    <tr style=\"text-align: right;\">\n",
       "      <th>ENTREZID</th>\n",
       "      <th>1</th>\n",
       "      <th>2</th>\n",
       "      <th>9</th>\n",
       "      <th>10</th>\n",
       "      <th>12</th>\n",
       "      <th>13</th>\n",
       "      <th>14</th>\n",
       "      <th>15</th>\n",
       "      <th>16</th>\n",
       "      <th>18</th>\n",
       "      <th>...</th>\n",
       "      <th>100188893</th>\n",
       "      <th>100190940</th>\n",
       "      <th>100190949</th>\n",
       "      <th>100191040</th>\n",
       "      <th>100192386</th>\n",
       "      <th>100268168</th>\n",
       "      <th>100271715</th>\n",
       "      <th>100287718</th>\n",
       "      <th>100288778</th>\n",
       "      <th>100289635</th>\n",
       "    </tr>\n",
       "  </thead>\n",
       "  <tbody>\n",
       "    <tr>\n",
       "      <th>TCGA-3B-A9I0-01A</th>\n",
       "      <td>4.28791509210347</td>\n",
       "      <td>5.7087700970711</td>\n",
       "      <td>5.54045826719573</td>\n",
       "      <td>3.05637075605351</td>\n",
       "      <td>2.24363705677548</td>\n",
       "      <td>3.25982251227013</td>\n",
       "      <td>8.49998617466154</td>\n",
       "      <td>2.73915290143961</td>\n",
       "      <td>8.78300900393896</td>\n",
       "      <td>3.34683211634676</td>\n",
       "      <td>...</td>\n",
       "      <td>9.58808719294554</td>\n",
       "      <td>3.0241254728314</td>\n",
       "      <td>2.97779500953892</td>\n",
       "      <td>3.68506348928701</td>\n",
       "      <td>2.89347815187099</td>\n",
       "      <td>2.92295237753598</td>\n",
       "      <td>2.92448373105139</td>\n",
       "      <td>2.93379072110733</td>\n",
       "      <td>5.22289120271932</td>\n",
       "      <td>3.21724915174761</td>\n",
       "    </tr>\n",
       "    <tr>\n",
       "      <th>TCGA-3B-A9I1-01A</th>\n",
       "      <td>4.0585422649983</td>\n",
       "      <td>3.31781963303799</td>\n",
       "      <td>8.60059130074378</td>\n",
       "      <td>4.02605522787784</td>\n",
       "      <td>6.47977729163315</td>\n",
       "      <td>3.25982251227013</td>\n",
       "      <td>8.35296462583893</td>\n",
       "      <td>2.70390620942745</td>\n",
       "      <td>10.2892935732714</td>\n",
       "      <td>3.52657584490066</td>\n",
       "      <td>...</td>\n",
       "      <td>9.17906591914891</td>\n",
       "      <td>3.0241254728314</td>\n",
       "      <td>2.97779500953892</td>\n",
       "      <td>3.30867142457444</td>\n",
       "      <td>2.89347815187099</td>\n",
       "      <td>2.87783353779556</td>\n",
       "      <td>2.79579181836739</td>\n",
       "      <td>3.59727260527723</td>\n",
       "      <td>4.65344019134805</td>\n",
       "      <td>4.64481625794141</td>\n",
       "    </tr>\n",
       "    <tr>\n",
       "      <th>TCGA-CE-A481-01A</th>\n",
       "      <td>3.93912509179632</td>\n",
       "      <td>3.01355610282141</td>\n",
       "      <td>6.65333239972603</td>\n",
       "      <td>2.93917728336359</td>\n",
       "      <td>3.32166319866546</td>\n",
       "      <td>3.7386580396915</td>\n",
       "      <td>8.61970764126633</td>\n",
       "      <td>2.78132950016492</td>\n",
       "      <td>8.57238405965353</td>\n",
       "      <td>5.62387842220403</td>\n",
       "      <td>...</td>\n",
       "      <td>10.0426845542463</td>\n",
       "      <td>3.0241254728314</td>\n",
       "      <td>2.97779500953892</td>\n",
       "      <td>3.57588363901358</td>\n",
       "      <td>3.02526306371745</td>\n",
       "      <td>2.61668386187983</td>\n",
       "      <td>2.6312133532773</td>\n",
       "      <td>2.93379072110733</td>\n",
       "      <td>4.54946987256871</td>\n",
       "      <td>4.40460504435084</td>\n",
       "    </tr>\n",
       "  </tbody>\n",
       "</table>\n",
       "<p>3 rows × 18197 columns</p>\n",
       "</div>"
      ],
      "text/plain": [
       "ENTREZID                 1                 2                 9          \\\n",
       "TCGA-3B-A9I0-01A  4.28791509210347   5.7087700970711  5.54045826719573   \n",
       "TCGA-3B-A9I1-01A   4.0585422649983  3.31781963303799  8.60059130074378   \n",
       "TCGA-CE-A481-01A  3.93912509179632  3.01355610282141  6.65333239972603   \n",
       "\n",
       "ENTREZID                 10                12                13         \\\n",
       "TCGA-3B-A9I0-01A  3.05637075605351  2.24363705677548  3.25982251227013   \n",
       "TCGA-3B-A9I1-01A  4.02605522787784  6.47977729163315  3.25982251227013   \n",
       "TCGA-CE-A481-01A  2.93917728336359  3.32166319866546   3.7386580396915   \n",
       "\n",
       "ENTREZID                 14                15                16         \\\n",
       "TCGA-3B-A9I0-01A  8.49998617466154  2.73915290143961  8.78300900393896   \n",
       "TCGA-3B-A9I1-01A  8.35296462583893  2.70390620942745  10.2892935732714   \n",
       "TCGA-CE-A481-01A  8.61970764126633  2.78132950016492  8.57238405965353   \n",
       "\n",
       "ENTREZID                 18         ...         100188893        100190940  \\\n",
       "TCGA-3B-A9I0-01A  3.34683211634676  ...  9.58808719294554  3.0241254728314   \n",
       "TCGA-3B-A9I1-01A  3.52657584490066  ...  9.17906591914891  3.0241254728314   \n",
       "TCGA-CE-A481-01A  5.62387842220403  ...  10.0426845542463  3.0241254728314   \n",
       "\n",
       "ENTREZID                 100190949         100191040         100192386  \\\n",
       "TCGA-3B-A9I0-01A  2.97779500953892  3.68506348928701  2.89347815187099   \n",
       "TCGA-3B-A9I1-01A  2.97779500953892  3.30867142457444  2.89347815187099   \n",
       "TCGA-CE-A481-01A  2.97779500953892  3.57588363901358  3.02526306371745   \n",
       "\n",
       "ENTREZID                 100268168         100271715         100287718  \\\n",
       "TCGA-3B-A9I0-01A  2.92295237753598  2.92448373105139  2.93379072110733   \n",
       "TCGA-3B-A9I1-01A  2.87783353779556  2.79579181836739  3.59727260527723   \n",
       "TCGA-CE-A481-01A  2.61668386187983   2.6312133532773  2.93379072110733   \n",
       "\n",
       "ENTREZID                 100288778         100289635  \n",
       "TCGA-3B-A9I0-01A  5.22289120271932  3.21724915174761  \n",
       "TCGA-3B-A9I1-01A  4.65344019134805  4.64481625794141  \n",
       "TCGA-CE-A481-01A  4.54946987256871  4.40460504435084  \n",
       "\n",
       "[3 rows x 18197 columns]"
      ]
     },
     "execution_count": 14,
     "metadata": {},
     "output_type": "execute_result"
    }
   ],
   "source": [
    "# read TCGA expression dataset homogenized with GDSC expression dataset (Doxorubicin)\n",
    "\n",
    "TCGAEdoxorubicin = pd.read_csv(\"TCGA_exprs.Doxorubicin.eb_with.GDSC_exprs.Doxorubicin.tsv\",\n",
    "                   sep = \"\\t\", index_col=0, decimal = \",\")\n",
    "TCGAEdoxorubicin = pd.DataFrame.transpose(TCGAEdoxorubicin)\n",
    "TCGAEdoxorubicin.head(3)"
   ]
  },
  {
   "cell_type": "code",
   "execution_count": 15,
   "metadata": {},
   "outputs": [
    {
     "data": {
      "text/plain": [
       "'/Volumes/Expansion/Thesis Work/Results/preprocessed_results2/mutations'"
      ]
     },
     "execution_count": 15,
     "metadata": {},
     "output_type": "execute_result"
    }
   ],
   "source": [
    "# change directory to read TCGA mutation dataset (Doxorubicin)\n",
    "\n",
    "os.chdir(dataset_dir + \"mutations\")\n",
    "os.getcwd()"
   ]
  },
  {
   "cell_type": "code",
   "execution_count": 16,
   "metadata": {},
   "outputs": [
    {
     "data": {
      "text/html": [
       "<div>\n",
       "<style scoped>\n",
       "    .dataframe tbody tr th:only-of-type {\n",
       "        vertical-align: middle;\n",
       "    }\n",
       "\n",
       "    .dataframe tbody tr th {\n",
       "        vertical-align: top;\n",
       "    }\n",
       "\n",
       "    .dataframe thead th {\n",
       "        text-align: right;\n",
       "    }\n",
       "</style>\n",
       "<table border=\"1\" class=\"dataframe\">\n",
       "  <thead>\n",
       "    <tr style=\"text-align: right;\">\n",
       "      <th></th>\n",
       "      <th>285313</th>\n",
       "      <th>3845</th>\n",
       "      <th>317701</th>\n",
       "      <th>23177</th>\n",
       "      <th>197257</th>\n",
       "      <th>55690</th>\n",
       "      <th>2060</th>\n",
       "      <th>2956</th>\n",
       "      <th>9739</th>\n",
       "      <th>60682</th>\n",
       "      <th>...</th>\n",
       "      <th>114335</th>\n",
       "      <th>55897</th>\n",
       "      <th>2787</th>\n",
       "      <th>55049</th>\n",
       "      <th>94107</th>\n",
       "      <th>92815</th>\n",
       "      <th>400569</th>\n",
       "      <th>387103</th>\n",
       "      <th>728226</th>\n",
       "      <th>728689</th>\n",
       "    </tr>\n",
       "  </thead>\n",
       "  <tbody>\n",
       "    <tr>\n",
       "      <th>TCGA-3B-A9I0-01A</th>\n",
       "      <td>0.0</td>\n",
       "      <td>0.0</td>\n",
       "      <td>0.0</td>\n",
       "      <td>0.0</td>\n",
       "      <td>0.0</td>\n",
       "      <td>0.0</td>\n",
       "      <td>0.0</td>\n",
       "      <td>0.0</td>\n",
       "      <td>-0.05</td>\n",
       "      <td>0.0</td>\n",
       "      <td>...</td>\n",
       "      <td>0.0</td>\n",
       "      <td>0.0</td>\n",
       "      <td>0.0</td>\n",
       "      <td>0.0</td>\n",
       "      <td>0.0</td>\n",
       "      <td>0.0</td>\n",
       "      <td>0.0</td>\n",
       "      <td>0.0</td>\n",
       "      <td>0.0</td>\n",
       "      <td>0.0</td>\n",
       "    </tr>\n",
       "    <tr>\n",
       "      <th>TCGA-3B-A9I1-01A</th>\n",
       "      <td>0.0</td>\n",
       "      <td>0.0</td>\n",
       "      <td>0.0</td>\n",
       "      <td>0.0</td>\n",
       "      <td>0.0</td>\n",
       "      <td>0.0</td>\n",
       "      <td>0.0</td>\n",
       "      <td>0.0</td>\n",
       "      <td>0.0</td>\n",
       "      <td>0.0</td>\n",
       "      <td>...</td>\n",
       "      <td>0.0</td>\n",
       "      <td>0.0</td>\n",
       "      <td>0.0</td>\n",
       "      <td>0.0</td>\n",
       "      <td>0.0</td>\n",
       "      <td>0.0</td>\n",
       "      <td>0.0</td>\n",
       "      <td>0.0</td>\n",
       "      <td>0.0</td>\n",
       "      <td>0.0</td>\n",
       "    </tr>\n",
       "    <tr>\n",
       "      <th>TCGA-CE-A481-01A</th>\n",
       "      <td>0.0</td>\n",
       "      <td>0.0</td>\n",
       "      <td>0.0</td>\n",
       "      <td>0.0</td>\n",
       "      <td>0.0</td>\n",
       "      <td>0.0</td>\n",
       "      <td>0.0</td>\n",
       "      <td>0.0</td>\n",
       "      <td>0.0</td>\n",
       "      <td>0.0</td>\n",
       "      <td>...</td>\n",
       "      <td>0.0</td>\n",
       "      <td>0.0</td>\n",
       "      <td>0.0</td>\n",
       "      <td>0.0</td>\n",
       "      <td>0.0</td>\n",
       "      <td>0.0</td>\n",
       "      <td>0.0</td>\n",
       "      <td>0.0</td>\n",
       "      <td>0.0</td>\n",
       "      <td>0.0</td>\n",
       "    </tr>\n",
       "  </tbody>\n",
       "</table>\n",
       "<p>3 rows × 19928 columns</p>\n",
       "</div>"
      ],
      "text/plain": [
       "                 285313 3845   317701 23177  197257 55690  2060   2956    \\\n",
       "TCGA-3B-A9I0-01A    0.0    0.0    0.0    0.0    0.0    0.0    0.0    0.0   \n",
       "TCGA-3B-A9I1-01A    0.0    0.0    0.0    0.0    0.0    0.0    0.0    0.0   \n",
       "TCGA-CE-A481-01A    0.0    0.0    0.0    0.0    0.0    0.0    0.0    0.0   \n",
       "\n",
       "                 9739   60682   ... 114335 55897  2787   55049  94107  92815   \\\n",
       "TCGA-3B-A9I0-01A  -0.05    0.0  ...    0.0    0.0    0.0    0.0    0.0    0.0   \n",
       "TCGA-3B-A9I1-01A    0.0    0.0  ...    0.0    0.0    0.0    0.0    0.0    0.0   \n",
       "TCGA-CE-A481-01A    0.0    0.0  ...    0.0    0.0    0.0    0.0    0.0    0.0   \n",
       "\n",
       "                 400569 387103 728226 728689  \n",
       "TCGA-3B-A9I0-01A    0.0    0.0    0.0    0.0  \n",
       "TCGA-3B-A9I1-01A    0.0    0.0    0.0    0.0  \n",
       "TCGA-CE-A481-01A    0.0    0.0    0.0    0.0  \n",
       "\n",
       "[3 rows x 19928 columns]"
      ]
     },
     "execution_count": 16,
     "metadata": {},
     "output_type": "execute_result"
    }
   ],
   "source": [
    "# read TCGA mutation dataset (Doxorubicin)\n",
    "\n",
    "TCGAMdoxorubicin = pd.read_csv(\"TCGA_mutations.Doxorubicin.tsv\",\n",
    "                        sep=\"\\t\", index_col=0, decimal=\",\")\n",
    "TCGAMdoxorubicin.drop_duplicates(keep='last')\n",
    "TCGAMdoxorubicin = pd.DataFrame.transpose(TCGAMdoxorubicin)\n",
    "TCGAMdoxorubicin = TCGAMdoxorubicin.loc[:, ~TCGAMdoxorubicin.columns.duplicated()]\n",
    "\n",
    "TCGAMdoxorubicin.head(3)"
   ]
  },
  {
   "cell_type": "code",
   "execution_count": 17,
   "metadata": {},
   "outputs": [],
   "source": [
    "# variance threshold for GDSC expression dataset (DNA_REPi)\n",
    "\n",
    "selector = VarianceThreshold(0.05)\n",
    "selector.fit_transform(GDSCE)\n",
    "GDSCE = GDSCE[GDSCE.columns[selector.get_support(indices=True)]]"
   ]
  },
  {
   "cell_type": "code",
   "execution_count": 18,
   "metadata": {},
   "outputs": [],
   "source": [
    "# fill NA values and binarize GDSC mutation dataset (DNA_REPi)\n",
    "\n",
    "GDSCM = GDSCM.fillna(0)\n",
    "GDSCM[GDSCM != 0.0] = 1"
   ]
  },
  {
   "cell_type": "code",
   "execution_count": 19,
   "metadata": {},
   "outputs": [
    {
     "name": "stdout",
     "output_type": "stream",
     "text": [
      "GDSC and TCGA # of common genes: 17149\n"
     ]
    }
   ],
   "source": [
    "# select shared genes between GDSC and TCGA expression and mutation datasets \n",
    "\n",
    "ls = GDSCE.columns.intersection(GDSCM.columns)\n",
    "ls = ls.intersection(TCGAEdoxorubicin.columns)\n",
    "ls = ls.intersection(TCGAMdoxorubicin.columns)\n",
    "\n",
    "ls = pd.unique(ls)\n",
    "\n",
    "print(f\"GDSC and TCGA # of common genes: {ls.shape[0]}\")"
   ]
  },
  {
   "cell_type": "code",
   "execution_count": 20,
   "metadata": {},
   "outputs": [
    {
     "name": "stdout",
     "output_type": "stream",
     "text": [
      "GDSC # of common cell lines: 801\n"
     ]
    }
   ],
   "source": [
    "# select shared samples between GDSC expression, mutation, and response datasets (DNA_REPi)\n",
    "\n",
    "ls2 = GDSCE.index.intersection(GDSCM.index)\n",
    "ls2 = ls2.intersection(GDSCR.index)\n",
    "\n",
    "print(f\"GDSC # of common cell lines: {ls2.shape[0]}\")"
   ]
  },
  {
   "cell_type": "code",
   "execution_count": 21,
   "metadata": {},
   "outputs": [
    {
     "name": "stdout",
     "output_type": "stream",
     "text": [
      "GDSC # of common samples and genes (Expression): (801, 17149)\n",
      "GDSC # of common samples and genes (Mutation): (801, 17149)\n",
      "GDSC # of samples (Response): 9435\n"
     ]
    }
   ],
   "source": [
    "# subset shared genes and samples in GDSC expression, mutation, and response datasets\n",
    "\n",
    "GDSCE = GDSCE.loc[ls2, ls]\n",
    "GDSCM = GDSCM.loc[ls2, ls]\n",
    "GDSCR = GDSCR.loc[ls2, :]\n",
    "\n",
    "print(f\"GDSC # of common samples and genes (Expression): {GDSCE.shape}\")\n",
    "print(f\"GDSC # of common samples and genes (Mutation): {GDSCM.shape}\")\n",
    "print(f\"GDSC # of samples (Response): {GDSCR.shape[0]}\")"
   ]
  },
  {
   "cell_type": "code",
   "execution_count": 22,
   "metadata": {},
   "outputs": [
    {
     "name": "stdout",
     "output_type": "stream",
     "text": [
      "TCGA # of common samples (Doxorubicin): 18\n"
     ]
    }
   ],
   "source": [
    "# select shared samples between TCGA expression and mutation datasets (Doxorubicin) \n",
    "\n",
    "ls3 = TCGAEdoxorubicin.index.intersection(TCGAMdoxorubicin.index)\n",
    "\n",
    "print(f\"TCGA # of common samples (Doxorubicin): {ls3.shape[0]}\")"
   ]
  },
  {
   "cell_type": "code",
   "execution_count": 23,
   "metadata": {},
   "outputs": [
    {
     "name": "stdout",
     "output_type": "stream",
     "text": [
      "TCGA # of common samples and genes for Expression (Doxorubicin): (18, 17149)\n",
      "TCGA # of common samples and genes for Mutation (Doxorubicin): (18, 17149)\n",
      "\n"
     ]
    }
   ],
   "source": [
    "# select shared genes and samples between TCGA expression and mutation datasets (Doxorubicin)\n",
    "\n",
    "TCGAEdoxorubicin = TCGAEdoxorubicin.loc[ls3, ls]\n",
    "TCGAMdoxorubicin = TCGAMdoxorubicin.loc[ls3, ls]\n",
    "\n",
    "print(f\"TCGA # of common samples and genes for Expression (Doxorubicin): {TCGAEdoxorubicin.shape}\")\n",
    "print(f\"TCGA # of common samples and genes for Mutation (Doxorubicin): {TCGAMdoxorubicin.shape}\\n\")"
   ]
  },
  {
   "cell_type": "code",
   "execution_count": 24,
   "metadata": {},
   "outputs": [
    {
     "name": "stdout",
     "output_type": "stream",
     "text": [
      "/Volumes/Expansion/Thesis Work/Results/GDSC_DEGs_inhibitors/DNA_REPi\n"
     ]
    }
   ],
   "source": [
    "# change directory to read DEGs (DNA_REPi)\n",
    "\n",
    "os.chdir(DEGs_dir)\n",
    "print(os.getcwd())"
   ]
  },
  {
   "cell_type": "code",
   "execution_count": 25,
   "metadata": {},
   "outputs": [
    {
     "name": "stdout",
     "output_type": "stream",
     "text": [
      "There are 858 DEGs (p-adjusted < 0.05 and |logFC| > 1) among DNA replication inhibitors\n",
      "\n"
     ]
    },
    {
     "data": {
      "text/html": [
       "<div>\n",
       "<style scoped>\n",
       "    .dataframe tbody tr th:only-of-type {\n",
       "        vertical-align: middle;\n",
       "    }\n",
       "\n",
       "    .dataframe tbody tr th {\n",
       "        vertical-align: top;\n",
       "    }\n",
       "\n",
       "    .dataframe thead th {\n",
       "        text-align: right;\n",
       "    }\n",
       "</style>\n",
       "<table border=\"1\" class=\"dataframe\">\n",
       "  <thead>\n",
       "    <tr style=\"text-align: right;\">\n",
       "      <th></th>\n",
       "      <th>Gene Symbol</th>\n",
       "      <th>Frequency</th>\n",
       "    </tr>\n",
       "  </thead>\n",
       "  <tbody>\n",
       "    <tr>\n",
       "      <th>0</th>\n",
       "      <td>SLFN11</td>\n",
       "      <td>9</td>\n",
       "    </tr>\n",
       "    <tr>\n",
       "      <th>1</th>\n",
       "      <td>NCKAP1L</td>\n",
       "      <td>8</td>\n",
       "    </tr>\n",
       "    <tr>\n",
       "      <th>2</th>\n",
       "      <td>SDC4</td>\n",
       "      <td>7</td>\n",
       "    </tr>\n",
       "    <tr>\n",
       "      <th>3</th>\n",
       "      <td>KRT18</td>\n",
       "      <td>7</td>\n",
       "    </tr>\n",
       "    <tr>\n",
       "      <th>4</th>\n",
       "      <td>S100A14</td>\n",
       "      <td>7</td>\n",
       "    </tr>\n",
       "  </tbody>\n",
       "</table>\n",
       "</div>"
      ],
      "text/plain": [
       "  Gene Symbol  Frequency\n",
       "0      SLFN11          9\n",
       "1     NCKAP1L          8\n",
       "2        SDC4          7\n",
       "3       KRT18          7\n",
       "4     S100A14          7"
      ]
     },
     "execution_count": 25,
     "metadata": {},
     "output_type": "execute_result"
    }
   ],
   "source": [
    "# read DEGs (DNA_REPi)\n",
    "\n",
    "DEGs_filtered_data = pd.read_excel(\"DNA_REPi_Differentially_Expressed_Genes (EnsemblID).xlsx\",\n",
    "                                    sheet_name = \"Common DEGs\")\n",
    "print(f\"There are {DEGs_filtered_data.shape[0]} DEGs (p-adjusted < 0.05 and |logFC| > 1) among DNA replication inhibitors\\n\")\n",
    "\n",
    "DEGs_filtered_data.head()"
   ]
  },
  {
   "cell_type": "code",
   "execution_count": 26,
   "metadata": {},
   "outputs": [
    {
     "name": "stderr",
     "output_type": "stream",
     "text": [
      "1 input query terms found dup hits:\t[('CLECL1P', 2)]\n"
     ]
    },
    {
     "data": {
      "text/plain": [
       "858"
      ]
     },
     "execution_count": 26,
     "metadata": {},
     "output_type": "execute_result"
    }
   ],
   "source": [
    "# get gene symbol from mygene database\n",
    "\n",
    "mg = mygene.MyGeneInfo()\n",
    "DEGs_entrez_id = mg.querymany(DEGs_filtered_data[\"Gene Symbol\"], \n",
    "                              species=\"human\", \n",
    "                              scopes = \"symbol\",\n",
    "                              field = \"entrezgene\",\n",
    "                              as_dataframe=True)[\"entrezgene\"]\n",
    "DEGs_entrez_id = pd.unique(DEGs_entrez_id.dropna())\n",
    "DEGs_entrez_id.shape[0]"
   ]
  },
  {
   "cell_type": "code",
   "execution_count": 27,
   "metadata": {},
   "outputs": [],
   "source": [
    "# assign GDSC data to new variables\n",
    "\n",
    "exprs_z = GDSCE\n",
    "mut = GDSCM\n",
    "responses = GDSCR"
   ]
  },
  {
   "cell_type": "code",
   "execution_count": 28,
   "metadata": {},
   "outputs": [
    {
     "data": {
      "text/html": [
       "<div>\n",
       "<style scoped>\n",
       "    .dataframe tbody tr th:only-of-type {\n",
       "        vertical-align: middle;\n",
       "    }\n",
       "\n",
       "    .dataframe tbody tr th {\n",
       "        vertical-align: top;\n",
       "    }\n",
       "\n",
       "    .dataframe thead th {\n",
       "        text-align: right;\n",
       "    }\n",
       "</style>\n",
       "<table border=\"1\" class=\"dataframe\">\n",
       "  <thead>\n",
       "    <tr style=\"text-align: right;\">\n",
       "      <th></th>\n",
       "      <th>response</th>\n",
       "      <th>logIC50</th>\n",
       "      <th>drug</th>\n",
       "      <th>exprs</th>\n",
       "      <th>CNA</th>\n",
       "      <th>mutations</th>\n",
       "    </tr>\n",
       "  </thead>\n",
       "  <tbody>\n",
       "    <tr>\n",
       "      <th>683665</th>\n",
       "      <td>0</td>\n",
       "      <td>5.12075503641523</td>\n",
       "      <td>Pyrimethamine</td>\n",
       "      <td>1</td>\n",
       "      <td>1</td>\n",
       "      <td>1</td>\n",
       "    </tr>\n",
       "    <tr>\n",
       "      <th>683665</th>\n",
       "      <td>0</td>\n",
       "      <td>-3.03711635474651</td>\n",
       "      <td>Doxorubicin</td>\n",
       "      <td>1</td>\n",
       "      <td>1</td>\n",
       "      <td>1</td>\n",
       "    </tr>\n",
       "    <tr>\n",
       "      <th>683665</th>\n",
       "      <td>0</td>\n",
       "      <td>-0.712119156515401</td>\n",
       "      <td>Etoposide</td>\n",
       "      <td>1</td>\n",
       "      <td>1</td>\n",
       "      <td>1</td>\n",
       "    </tr>\n",
       "  </tbody>\n",
       "</table>\n",
       "</div>"
      ],
      "text/plain": [
       "        response             logIC50           drug  exprs  CNA  mutations\n",
       "683665         0    5.12075503641523  Pyrimethamine      1    1          1\n",
       "683665         0   -3.03711635474651    Doxorubicin      1    1          1\n",
       "683665         0  -0.712119156515401      Etoposide      1    1          1"
      ]
     },
     "execution_count": 28,
     "metadata": {},
     "output_type": "execute_result"
    }
   ],
   "source": [
    "# GDSC response dataset\n",
    "\n",
    "responses.head(3)"
   ]
  },
  {
   "cell_type": "code",
   "execution_count": 29,
   "metadata": {
    "scrolled": true
   },
   "outputs": [
    {
     "data": {
      "text/plain": [
       "{'5-Fluorouracil',\n",
       " 'Bleomycin',\n",
       " 'Camptothecin',\n",
       " 'Cisplatin',\n",
       " 'Cytarabine',\n",
       " 'Doxorubicin',\n",
       " 'Etoposide',\n",
       " 'Gemcitabine',\n",
       " 'Methotrexate',\n",
       " 'Mitomycin C',\n",
       " 'Pyrimethamine',\n",
       " 'SN-38',\n",
       " 'Temozolomide'}"
      ]
     },
     "execution_count": 29,
     "metadata": {},
     "output_type": "execute_result"
    }
   ],
   "source": [
    "# list drug names in GDSC response dataset\n",
    "\n",
    "drugs = set(responses[\"drug\"].values)\n",
    "drugs"
   ]
  },
  {
   "cell_type": "code",
   "execution_count": 30,
   "metadata": {},
   "outputs": [
    {
     "data": {
      "text/plain": [
       "Index([ 683665,  683665,  683665,  683665,  683665,  683665,  683665,  683665,\n",
       "        683665,  683665,\n",
       "       ...\n",
       "       1659818, 1659818, 1659818, 1659818, 1659819, 1659819, 1659819, 1659819,\n",
       "       1659819,  687800],\n",
       "      dtype='int64', length=9435)"
      ]
     },
     "execution_count": 30,
     "metadata": {},
     "output_type": "execute_result"
    }
   ],
   "source": [
    "# convert Entrez gene IDs to integer\n",
    "\n",
    "responses.index = responses.index.astype(int)\n",
    "responses.index"
   ]
  },
  {
   "cell_type": "code",
   "execution_count": 31,
   "metadata": {},
   "outputs": [
    {
     "data": {
      "text/plain": [
       "GDSC\\nTissue descriptor 1\n",
       "lung_NSCLC           1037\n",
       "urogenital_system     926\n",
       "leukemia              829\n",
       "lymphoma              769\n",
       "aero_dig_tract        727\n",
       "nervous_system        607\n",
       "lung_SCLC             569\n",
       "skin                  560\n",
       "breast                524\n",
       "digestive_system      466\n",
       "large_intestine       447\n",
       "bone                  421\n",
       "neuroblastoma         332\n",
       "pancreas              294\n",
       "kidney                227\n",
       "soft_tissue           191\n",
       "myeloma               182\n",
       "lung                  174\n",
       "thyroid               153\n",
       "Name: count, dtype: int64"
      ]
     },
     "execution_count": 31,
     "metadata": {},
     "output_type": "execute_result"
    }
   ],
   "source": [
    "# merge GDSC cell line details with response dataset\n",
    "\n",
    "dat = pd.merge(GDSC_cell_line_details,\n",
    "         responses,\n",
    "         left_index = True, \n",
    "         right_index=True,\n",
    "         how = \"inner\")\n",
    "\n",
    "dat[\"GDSC\\nTissue descriptor 1\"].value_counts()\n",
    "#dat.head()"
   ]
  },
  {
   "cell_type": "code",
   "execution_count": 32,
   "metadata": {},
   "outputs": [
    {
     "data": {
      "text/plain": [
       "GDSC\\nTissue descriptor 1\n",
       "lung_NSCLC           86\n",
       "urogenital_system    76\n",
       "leukemia             64\n",
       "aero_dig_tract       61\n",
       "lymphoma             60\n",
       "nervous_system       48\n",
       "skin                 47\n",
       "lung_SCLC            46\n",
       "breast               44\n",
       "digestive_system     38\n",
       "large_intestine      35\n",
       "bone                 34\n",
       "neuroblastoma        26\n",
       "pancreas             25\n",
       "kidney               19\n",
       "soft_tissue          16\n",
       "lung                 15\n",
       "myeloma              13\n",
       "thyroid              13\n",
       "Name: count, dtype: int64"
      ]
     },
     "execution_count": 32,
     "metadata": {},
     "output_type": "execute_result"
    }
   ],
   "source": [
    "# list count of cell lines as to tissues treated with doxorubicin\n",
    "\n",
    "filter = (dat[\"drug\"] == \"Doxorubicin\")\n",
    "dat.loc[filter,\"GDSC\\nTissue descriptor 1\"].value_counts()"
   ]
  },
  {
   "cell_type": "code",
   "execution_count": 33,
   "metadata": {},
   "outputs": [
    {
     "data": {
      "text/plain": [
       "Index(['683665', '683665', '683665', '683665', '683665', '683665', '683665',\n",
       "       '683665', '683665', '683665',\n",
       "       ...\n",
       "       '1659818', '1659818', '1659818', '1659818', '1659819', '1659819',\n",
       "       '1659819', '1659819', '1659819', '687800'],\n",
       "      dtype='object', length=9435)"
      ]
     },
     "execution_count": 33,
     "metadata": {},
     "output_type": "execute_result"
    }
   ],
   "source": [
    "# convert Entrez gene IDs to string\n",
    "\n",
    "responses.index = responses.index.astype(str)\n",
    "responses.index"
   ]
  },
  {
   "cell_type": "code",
   "execution_count": 34,
   "metadata": {},
   "outputs": [
    {
     "name": "stdout",
     "output_type": "stream",
     "text": [
      "GDSC # of common samples and genes (Expression): (9435, 831)\n",
      "GDSC # of common samples and genes (Mutation): (9435, 831)\n",
      "GDSC # of common samples (Response): 9435\n",
      "\n",
      "TCGA # of common samples and genes for Doxorubicin (Expression): (18, 831)\n",
      "TCGA # of common samples and genes for Doxorubicin (Mutation): (18, 831)\n",
      "\n"
     ]
    }
   ],
   "source": [
    "# filter GDSC expression and mutation datasets (DNA_REPi) as to drugs\n",
    "# subset selected DEGs\n",
    "\n",
    "expression_zscores = []\n",
    "mutations = []\n",
    "for drug in drugs:\n",
    "    samples = responses.loc[responses[\"drug\"] == drug, :].index.values\n",
    "    e_z = exprs_z.loc[samples, :]\n",
    "    m = mut.loc[samples, :]\n",
    "    expression_zscores.append(e_z)\n",
    "    mutations.append(m)\n",
    "\n",
    "GDSCEv2 = pd.concat(expression_zscores, axis=0)\n",
    "GDSCMv2 = pd.concat(mutations, axis=0)\n",
    "GDSCRv2 = responses\n",
    "\n",
    "ls4 = list(set(GDSCE.columns).intersection(set(DEGs_entrez_id.astype(int))))\n",
    "ls5 = GDSCEv2.index.intersection(GDSCMv2.index)\n",
    "\n",
    "GDSCEv2 = GDSCEv2.loc[ls5, ls4]\n",
    "GDSCMv2 = GDSCMv2.loc[ls5, ls4]\n",
    "GDSCRv2 = GDSCRv2.loc[ls5, :]\n",
    "\n",
    "TCGAEdoxorubicin = TCGAEdoxorubicin.loc[:,ls4]\n",
    "TCGAMdoxorubicin = TCGAMdoxorubicin.loc[:,ls4]\n",
    "\n",
    "responses.index = responses.index.values + \"_\" + responses[\"drug\"].values\n",
    "\n",
    "print(f\"GDSC # of common samples and genes (Expression): {GDSCEv2.shape}\")\n",
    "print(f\"GDSC # of common samples and genes (Mutation): {GDSCMv2.shape}\")\n",
    "print(f\"GDSC # of common samples (Response): {GDSCRv2.shape[0]}\\n\")\n",
    "\n",
    "print(f\"TCGA # of common samples and genes for Doxorubicin (Expression): {TCGAEdoxorubicin.shape}\")\n",
    "print(f\"TCGA # of common samples and genes for Doxorubicin (Mutation): {TCGAMdoxorubicin.shape}\\n\")"
   ]
  },
  {
   "cell_type": "code",
   "execution_count": 35,
   "metadata": {},
   "outputs": [
    {
     "name": "stdout",
     "output_type": "stream",
     "text": [
      "[0 0 0 ... 0 0 1]\n"
     ]
    }
   ],
   "source": [
    "# GDSC response values\n",
    "\n",
    "Y = GDSCRv2['response'].values\n",
    "print(Y)"
   ]
  },
  {
   "cell_type": "code",
   "execution_count": 36,
   "metadata": {},
   "outputs": [
    {
     "data": {
      "text/plain": [
       "'/Volumes/Expansion/Thesis Work/Results/preprocessed_results2/response'"
      ]
     },
     "execution_count": 36,
     "metadata": {},
     "output_type": "execute_result"
    }
   ],
   "source": [
    "# change directory to read TCGA response dataset (Doxorubicin)\n",
    "\n",
    "os.chdir(dataset_dir + \"response\")\n",
    "os.getcwd()"
   ]
  },
  {
   "cell_type": "code",
   "execution_count": 37,
   "metadata": {},
   "outputs": [
    {
     "name": "stdout",
     "output_type": "stream",
     "text": [
      "There are 18 samples with response data in the TCGA (Doxorubicin)\n",
      "\n"
     ]
    },
    {
     "data": {
      "text/plain": [
       "array([0, 0, 1, 1, 0, 0, 0, 0, 1, 0, 0, 1, 0, 0, 0, 0, 0, 0])"
      ]
     },
     "execution_count": 37,
     "metadata": {},
     "output_type": "execute_result"
    }
   ],
   "source": [
    "# read TCGA response dataset (Doxorubicin)\n",
    "\n",
    "TCGARdoxorubicin = pd.read_csv(\"TCGA_response.Doxorubicin.tsv\", \n",
    "                      sep = \"\\t\", \n",
    "                      index_col=0, \n",
    "                      decimal = \",\")\n",
    "TCGARdoxorubicin.dropna(inplace=True)\n",
    "TCGARdoxorubicin.rename(mapper=str, axis='index', inplace=True)\n",
    "d = {\"R\": 0, \"S\": 1}\n",
    "TCGARdoxorubicin[\"response\"] = TCGARdoxorubicin.loc[:, \"response\"].apply(lambda x: d[x])\n",
    "Ytsdoxorubicin = TCGARdoxorubicin[\"response\"].values    \n",
    "\n",
    "print(f\"There are {Ytsdoxorubicin.shape[0]} samples with response data in the TCGA (Doxorubicin)\\n\")\n",
    "Ytsdoxorubicin"
   ]
  },
  {
   "cell_type": "code",
   "execution_count": 38,
   "metadata": {},
   "outputs": [
    {
     "data": {
      "text/plain": [
       "cohort\n",
       "SARC    15\n",
       "THCA     2\n",
       "UCS      1\n",
       "Name: count, dtype: int64"
      ]
     },
     "execution_count": 38,
     "metadata": {},
     "output_type": "execute_result"
    }
   ],
   "source": [
    "# TCGA cohort table with TCGA response dataset (Doxorubicin)\n",
    "\n",
    "dat_tcga = TCGARdoxorubicin[\"cohort\"]\n",
    "\n",
    "dat_tcga.value_counts()"
   ]
  },
  {
   "cell_type": "code",
   "execution_count": 39,
   "metadata": {},
   "outputs": [
    {
     "data": {
      "text/plain": [
       "Index(['TCGA-3B-A9I0-01A', 'TCGA-3B-A9I1-01A', 'TCGA-DX-A6B8-01A',\n",
       "       'TCGA-DX-A6YX-01A', 'TCGA-DX-A7EQ-01A', 'TCGA-DX-A8BU-01A',\n",
       "       'TCGA-HB-A43Z-01A', 'TCGA-IE-A3OV-01A', 'TCGA-IF-A4AJ-01A',\n",
       "       'TCGA-IS-A3K7-01A', 'TCGA-K1-A42X-01A', 'TCGA-K1-A6RU-01A',\n",
       "       'TCGA-LI-A67I-01A', 'TCGA-QQ-A8VD-01A', 'TCGA-X6-A8C6-01A'],\n",
       "      dtype='object', name='sample')"
      ]
     },
     "execution_count": 39,
     "metadata": {},
     "output_type": "execute_result"
    }
   ],
   "source": [
    "# filter SARC cohort samples (Doxorubicin)\n",
    "\n",
    "filter = (TCGARdoxorubicin[\"cohort\"] == \"SARC\")\n",
    "tcga_sarc_samples = dat_tcga.loc[filter,].index\n",
    "tcga_sarc_samples"
   ]
  },
  {
   "cell_type": "code",
   "execution_count": 40,
   "metadata": {},
   "outputs": [
    {
     "data": {
      "text/plain": [
       "array([0, 0, 0, 0, 0, 0, 1, 0, 0, 1, 0, 0, 0, 0, 0])"
      ]
     },
     "execution_count": 40,
     "metadata": {},
     "output_type": "execute_result"
    }
   ],
   "source": [
    "# filter responses of SARC cohort samples (Doxorubicin)\n",
    "\n",
    "Ytsdoxorubicin_sarc = TCGARdoxorubicin.loc[tcga_sarc_samples,\"response\"].values\n",
    "Ytsdoxorubicin_sarc"
   ]
  },
  {
   "cell_type": "code",
   "execution_count": 41,
   "metadata": {},
   "outputs": [
    {
     "data": {
      "text/plain": [
       "response\n",
       "0    13\n",
       "1     2\n",
       "Name: count, dtype: int64"
      ]
     },
     "execution_count": 41,
     "metadata": {},
     "output_type": "execute_result"
    }
   ],
   "source": [
    "# count of sensitive and resistance SARC samples (Doxorubicin)\n",
    "\n",
    "TCGARdoxorubicin.loc[tcga_sarc_samples,\"response\"].value_counts()"
   ]
  },
  {
   "cell_type": "code",
   "execution_count": 42,
   "metadata": {},
   "outputs": [],
   "source": [
    "# define maximum iteration\n",
    "\n",
    "max_iter = 50"
   ]
  },
  {
   "cell_type": "code",
   "execution_count": 43,
   "metadata": {},
   "outputs": [],
   "source": [
    "# assign number of neurons and dropout rates found for layers from the saved models\n",
    "\n",
    "hdm1 = 64\n",
    "hdm2 = 32\n",
    "rate1 = 0.5\n",
    "rate2 = 0.6\n",
    "rate3 = 0.6"
   ]
  },
  {
   "cell_type": "code",
   "execution_count": 44,
   "metadata": {},
   "outputs": [
    {
     "name": "stdout",
     "output_type": "stream",
     "text": [
      "GDSC - Training AUC (DNA_REPi): 0.8\n",
      "GDSC - Training AUCPR (DNA_REPi): 0.31\n",
      "TCGA - Test AUC (Doxorubicin): 0.62\n",
      "TCGA - Test AUCPR (Doxorubicin): 0.41\n",
      "TCGA - Test AUC (Doxorubicin, SARC): 0.46\n",
      "TCGA - Test AUCPR (Doxorubicin, SARC): 0.32\n",
      "\n",
      "GDSC - Training AUC (DNA_REPi, Finetuned): 0.81\n",
      "GDSC - Training AUCPR (DNA_REPi, Finetuned): 0.32\n",
      "TCGA - Test AUC (Doxorubicin, Finetuned): 0.88\n",
      "TCGA - Test AUCPR (Doxorubicin, Finetuned): 0.67\n",
      "\n",
      "GDSC - Training AUC (DNA_REPi, Finetuned): 0.81\n",
      "GDSC - Training AUCPR (DNA_REPi, Finetuned): 0.32\n",
      "TCGA - Test AUC (Doxorubicin, SARC, Finetuned): 0.88\n",
      "TCGA - Test AUCPR (Doxorubicin, SARC, Finetuned): 0.7\n",
      "\n",
      "\n",
      "Models for maximum finetuning (Doxorubicin)\n",
      "Exprs_Doxorubicin_GDSC_TCGA_DNA_REPi_Expression_Mutation_Finetuned_46.pt\n",
      "Mut_Doxorubicin_GDSC_TCGA_DNA_REPi_Expression_Mutation_Finetuned_46.pt\n",
      "Class_Doxorubicin_GDSC_TCGA_DNA_REPi_Expression_Mutation_Finetuned_46.pt\n",
      "\n",
      "Models for maximum finetuning (Doxorubicin, SARC)\n",
      "Exprs_Doxorubicin_GDSC_TCGA_DNA_REPi_Expression_Mutation_Finetuned_33.pt\n",
      "Mut_Doxorubicin_GDSC_TCGA_DNA_REPi_Expression_Mutation_Finetuned_33.pt\n",
      "Class_Doxorubicin_GDSC_TCGA_DNA_REPi_Expression_Mutation_Finetuned_33.pt\n"
     ]
    }
   ],
   "source": [
    "# load pre-trained modules and make predictions\n",
    "\n",
    "scalerGDSC = sk.StandardScaler()\n",
    "scalerGDSC.fit(GDSCEv2.values)\n",
    "X_trainE = scalerGDSC.transform(GDSCEv2.values)\n",
    "X_testEdoxorubicin = scalerGDSC.transform(TCGAEdoxorubicin.values)    \n",
    "\n",
    "X_testEdoxorubicin = scalerGDSC.transform(TCGAEdoxorubicin.values)    \n",
    "X_testEdoxorubicin_sarc = scalerGDSC.transform(TCGAEdoxorubicin.loc[tcga_sarc_samples,].values)    \n",
    "\n",
    "X_trainM = np.nan_to_num(GDSCMv2.values)\n",
    "X_testMdoxorubicin = np.nan_to_num(TCGAMdoxorubicin.values.astype(np.float32))\n",
    "X_testMdoxorubicin_sarc = np.nan_to_num(TCGAMdoxorubicin.loc[tcga_sarc_samples,].values.astype(np.float32))\n",
    "\n",
    "TX_testEdoxorubicin = torch.FloatTensor(X_testEdoxorubicin)\n",
    "TX_testMdoxorubicin = torch.FloatTensor(X_testMdoxorubicin.astype(np.float32))\n",
    "ty_testEdoxorubicinorouracil = torch.FloatTensor(Ytsdoxorubicin.astype(int))\n",
    "\n",
    "TX_testEdoxorubicin = torch.FloatTensor(X_testEdoxorubicin)\n",
    "TX_testEdoxorubicin_sarc = torch.FloatTensor(X_testEdoxorubicin_sarc)\n",
    "\n",
    "TX_testMdoxorubicin = torch.FloatTensor(X_testMdoxorubicin.astype(np.float32))\n",
    "TX_testMdoxorubicin_sarc = torch.FloatTensor(X_testMdoxorubicin_sarc.astype(np.float32))\n",
    "\n",
    "n_sampE, IE_dim = X_trainE.shape\n",
    "n_sampM, IM_dim = X_trainM.shape\n",
    "\n",
    "h_dim1 = hdm1\n",
    "h_dim2 = hdm2\n",
    "Z_in = h_dim1 + h_dim2 \n",
    "\n",
    "class AEE(nn.Module):\n",
    "    def __init__(self):\n",
    "        super(AEE, self).__init__()\n",
    "        self.EnE = torch.nn.Sequential(\n",
    "            nn.Linear(IE_dim, h_dim1),\n",
    "            nn.BatchNorm1d(h_dim1),\n",
    "            nn.ReLU(),\n",
    "            nn.Dropout(rate1))\n",
    "    def forward(self, x):\n",
    "        output = self.EnE(x)\n",
    "        return output  \n",
    "\n",
    "\n",
    "class AEM(nn.Module):\n",
    "    def __init__(self):\n",
    "        super(AEM, self).__init__()\n",
    "        self.EnM = torch.nn.Sequential(\n",
    "            nn.Linear(IM_dim, h_dim2),\n",
    "            nn.BatchNorm1d(h_dim2),\n",
    "            nn.ReLU(),\n",
    "            nn.Dropout(rate2))\n",
    "    def forward(self, x):\n",
    "        output = self.EnM(x)\n",
    "        return output       \n",
    "\n",
    "class Classifier(nn.Module):\n",
    "    def __init__(self):\n",
    "        super(Classifier, self).__init__()\n",
    "        self.FC = torch.nn.Sequential(\n",
    "            nn.Linear(Z_in, 1),\n",
    "            nn.Dropout(rate3),\n",
    "            nn.Sigmoid())\n",
    "    def forward(self, x):\n",
    "        return self.FC(x)\n",
    "\n",
    "torch.cuda.manual_seed_all(42)\n",
    "\n",
    "AutoencoderE = torch.load(models_dir + \"Exprs_Doxorubicin_GDSC_TCGA_DNA_REPi_Expression_Mutation.pt\")\n",
    "AutoencoderM = torch.load(models_dir + \"Mut_Doxorubicin_GDSC_TCGA_DNA_REPi_Expression_Mutation.pt\")\n",
    "\n",
    "Clas = torch.load(models_dir + \"Class_Doxorubicin_GDSC_TCGA_DNA_REPi_Expression_Mutation.pt\")\n",
    "\n",
    "AutoencoderE.eval()\n",
    "AutoencoderM.eval()\n",
    "Clas.eval()\n",
    "\n",
    "ZEX = AutoencoderE(torch.FloatTensor(X_trainE))\n",
    "ZMX = AutoencoderM(torch.FloatTensor(X_trainM))\n",
    "ZTX = torch.cat((ZEX, ZMX), 1)\n",
    "ZTX = F.normalize(ZTX, p=2, dim=0)\n",
    "PredX = Clas(ZTX)\n",
    "AUCT = roc_auc_score(Y, PredX.detach().numpy())\n",
    "#print(f\"GDSC - Training AUC (TCGA_DNA_REPi): {round(AUCT,2)}\")\n",
    "AUCTaucpr = average_precision_score(Y, PredX.detach().numpy())\n",
    "#print(f\"GDSC - Training AUCPR (TCGA_DNA_REPi): {round(AUCTaucpr,2)}\\n\")\n",
    "\n",
    "ZETdoxorubicin = AutoencoderE(TX_testEdoxorubicin)\n",
    "ZMTdoxorubicin = AutoencoderM(TX_testMdoxorubicin)\n",
    "ZTTdoxorubicin = torch.cat((ZETdoxorubicin, ZMTdoxorubicin), 1)\n",
    "ZTTdoxorubicin = F.normalize(ZTTdoxorubicin, p=2, dim=0)\n",
    "PredTdoxorubicin = Clas(ZTTdoxorubicin)\n",
    "AUCTdoxorubicin = roc_auc_score(Ytsdoxorubicin.astype(int), PredTdoxorubicin.detach().numpy())\n",
    "#print(f\"TCGA - Test AUC (Doxorubicin): {round(AUCTdoxorubicin,2)}\")\n",
    "AUCTdoxorubicin_aucpr = average_precision_score(Ytsdoxorubicin.astype(int), PredTdoxorubicin.detach().numpy())\n",
    "#print(f\"TCGA - Test AUCPR (Doxorubicin): {round(AUCTdoxorubicin_aucpr,2)}\\n\")\n",
    "\n",
    "ZETdoxorubicin_sarc = AutoencoderE(TX_testEdoxorubicin_sarc)\n",
    "ZMTdoxorubicin_sarc = AutoencoderM(TX_testMdoxorubicin_sarc)\n",
    "ZTTdoxorubicin_sarc = torch.cat((ZETdoxorubicin_sarc, ZMTdoxorubicin_sarc), 1)\n",
    "ZTTdoxorubicin_sarc = F.normalize(ZTTdoxorubicin_sarc, p=2, dim=0)\n",
    "PredTdoxorubicin_sarc = Clas(ZTTdoxorubicin_sarc)\n",
    "AUCTdoxorubicin_sarc = roc_auc_score(Ytsdoxorubicin_sarc.astype(int), PredTdoxorubicin_sarc.detach().numpy())\n",
    "#print(f\"TCGA - Test AUC (Doxorubicin, SARC): {round(AUCTdoxorubicin_sarc,2)}\")\n",
    "AUCTdoxorubicin_sarc_aucpr = average_precision_score(Ytsdoxorubicin_sarc.astype(int), PredTdoxorubicin_sarc.detach().numpy())\n",
    "#print(f\"TCGA - Test AUCPR (Doxorubicin, SARC): {round(AUCTdoxorubicin_sarc_aucpr,2)}\")\n",
    "\n",
    "AUCT_finetuned = dict()\n",
    "AUCTaucpr_finetuned = dict()\n",
    "AUCTdoxorubicin_finetuned = dict()\n",
    "AUCTdoxorubicin_sarc_finetuned = dict()\n",
    "AUCTdoxorubicin_aucpr_finetuned = dict()\n",
    "AUCTdoxorubicin_sarc_aucpr_finetuned = dict()\n",
    "for iter in range(max_iter):\n",
    "   iter += 1  \n",
    "\n",
    "   AutoencoderE_finetuned = torch.load(models_dir + f\"Finetuned_Models/Exprs_Doxorubicin_GDSC_TCGA_DNA_REPi_Expression_Mutation_Finetuned_{iter}.pt\")\n",
    "   AutoencoderM_finetuned = torch.load(models_dir + f\"Finetuned_Models/Mut_Doxorubicin_GDSC_TCGA_DNA_REPi_Expression_Mutation_Finetuned_{iter}.pt\")\n",
    "   Clas_finetuned = torch.load(models_dir + f\"Finetuned_Models/Class_Doxorubicin_GDSC_TCGA_DNA_REPi_Expression_Mutation_Finetuned_{iter}.pt\")\n",
    "   \n",
    "   AutoencoderE_finetuned.eval()\n",
    "   AutoencoderM_finetuned.eval()\n",
    "   Clas_finetuned.eval()\n",
    "      \n",
    "   ZEX = AutoencoderE_finetuned(torch.FloatTensor(X_trainE))\n",
    "   ZMX = AutoencoderM_finetuned(torch.FloatTensor(X_trainM))\n",
    "   ZTX = torch.cat((ZEX, ZMX), 1)\n",
    "   ZTX = F.normalize(ZTX, p=2, dim=0)\n",
    "   PredX = Clas_finetuned(ZTX)\n",
    "   AUCT_finetuned[iter] = roc_auc_score(Y, PredX.detach().numpy())\n",
    "   AUCTaucpr_finetuned[iter] = average_precision_score(Y, PredX.detach().numpy())\n",
    "   \n",
    "   ZETdoxorubicin = AutoencoderE_finetuned(TX_testEdoxorubicin)\n",
    "   ZMTdoxorubicin = AutoencoderM_finetuned(TX_testMdoxorubicin)\n",
    "   ZTTdoxorubicin = torch.cat((ZETdoxorubicin, ZMTdoxorubicin), 1)\n",
    "   ZTTdoxorubicin = F.normalize(ZTTdoxorubicin, p=2, dim=0)\n",
    "   PredTdoxorubicin = Clas_finetuned(ZTTdoxorubicin)\n",
    "   AUCTdoxorubicin_finetuned[iter] = roc_auc_score(Ytsdoxorubicin.astype(int), PredTdoxorubicin.detach().numpy())\n",
    "   AUCTdoxorubicin_aucpr_finetuned[iter] = average_precision_score(Ytsdoxorubicin.astype(int), PredTdoxorubicin.detach().numpy())\n",
    "\n",
    "   ZETdoxorubicin_sarc = AutoencoderE_finetuned(TX_testEdoxorubicin_sarc)\n",
    "   ZMTdoxorubicin_sarc = AutoencoderM_finetuned(TX_testMdoxorubicin_sarc)\n",
    "   ZTTdoxorubicin_sarc = torch.cat((ZETdoxorubicin_sarc, ZMTdoxorubicin_sarc), 1)\n",
    "   ZTTdoxorubicin_sarc = F.normalize(ZTTdoxorubicin_sarc, p=2, dim=0)\n",
    "   PredTdoxorubicin_sarc = Clas_finetuned(ZTTdoxorubicin_sarc)\n",
    "   AUCTdoxorubicin_sarc_finetuned[iter] = roc_auc_score(Ytsdoxorubicin_sarc.astype(int), PredTdoxorubicin_sarc.detach().numpy())\n",
    "   AUCTdoxorubicin_sarc_aucpr_finetuned[iter] = average_precision_score(Ytsdoxorubicin_sarc.astype(int), PredTdoxorubicin_sarc.detach().numpy())\n",
    "\n",
    "max_key = max(AUCTdoxorubicin_aucpr_finetuned, key=AUCTdoxorubicin_aucpr_finetuned.get)\n",
    "max_key_sarc = max(AUCTdoxorubicin_sarc_aucpr_finetuned, key=AUCTdoxorubicin_sarc_aucpr_finetuned.get)\n",
    "\n",
    "print(f\"GDSC - Training AUC (DNA_REPi): {round(AUCT,2)}\")\n",
    "print(f\"GDSC - Training AUCPR (DNA_REPi): {round(AUCTaucpr,2)}\")\n",
    "print(f\"TCGA - Test AUC (Doxorubicin): {round(AUCTdoxorubicin,2)}\")\n",
    "print(f\"TCGA - Test AUCPR (Doxorubicin): {round(AUCTdoxorubicin_aucpr,2)}\")\n",
    "print(f\"TCGA - Test AUC (Doxorubicin, SARC): {round(AUCTdoxorubicin_sarc,2)}\")\n",
    "print(f\"TCGA - Test AUCPR (Doxorubicin, SARC): {round(AUCTdoxorubicin_sarc_aucpr,2)}\\n\")\n",
    "\n",
    "print(f\"GDSC - Training AUC (DNA_REPi, Finetuned): {round(AUCT_finetuned[max_key],2)}\")\n",
    "print(f\"GDSC - Training AUCPR (DNA_REPi, Finetuned): {round(AUCTaucpr_finetuned[max_key],2)}\")\n",
    "print(f\"TCGA - Test AUC (Doxorubicin, Finetuned): {round(AUCTdoxorubicin_finetuned[max_key],2)}\")\n",
    "print(f\"TCGA - Test AUCPR (Doxorubicin, Finetuned): {round(AUCTdoxorubicin_aucpr_finetuned[max_key],2)}\\n\")\n",
    "\n",
    "print(f\"GDSC - Training AUC (DNA_REPi, Finetuned): {round(AUCT_finetuned[max_key_sarc],2)}\")\n",
    "print(f\"GDSC - Training AUCPR (DNA_REPi, Finetuned): {round(AUCTaucpr_finetuned[max_key_sarc],2)}\")\n",
    "print(f\"TCGA - Test AUC (Doxorubicin, SARC, Finetuned): {round(AUCTdoxorubicin_sarc_finetuned[max_key_sarc],2)}\")\n",
    "print(f\"TCGA - Test AUCPR (Doxorubicin, SARC, Finetuned): {round(AUCTdoxorubicin_sarc_aucpr_finetuned[max_key_sarc],2)}\\n\\n\")\n",
    "\n",
    "print(\"Models for maximum finetuning (Doxorubicin)\")\n",
    "print(f\"Exprs_Doxorubicin_GDSC_TCGA_DNA_REPi_Expression_Mutation_Finetuned_{max_key}.pt\")\n",
    "print(f\"Mut_Doxorubicin_GDSC_TCGA_DNA_REPi_Expression_Mutation_Finetuned_{max_key}.pt\")\n",
    "print(f\"Class_Doxorubicin_GDSC_TCGA_DNA_REPi_Expression_Mutation_Finetuned_{max_key}.pt\")\n",
    "\n",
    "print(\"\\nModels for maximum finetuning (Doxorubicin, SARC)\")\n",
    "print(f\"Exprs_Doxorubicin_GDSC_TCGA_DNA_REPi_Expression_Mutation_Finetuned_{max_key_sarc}.pt\")\n",
    "print(f\"Mut_Doxorubicin_GDSC_TCGA_DNA_REPi_Expression_Mutation_Finetuned_{max_key_sarc}.pt\")\n",
    "print(f\"Class_Doxorubicin_GDSC_TCGA_DNA_REPi_Expression_Mutation_Finetuned_{max_key_sarc}.pt\")"
   ]
  },
  {
   "cell_type": "code",
   "execution_count": 45,
   "metadata": {},
   "outputs": [
    {
     "data": {
      "text/html": [
       "<div>\n",
       "<style scoped>\n",
       "    .dataframe tbody tr th:only-of-type {\n",
       "        vertical-align: middle;\n",
       "    }\n",
       "\n",
       "    .dataframe tbody tr th {\n",
       "        vertical-align: top;\n",
       "    }\n",
       "\n",
       "    .dataframe thead th {\n",
       "        text-align: right;\n",
       "    }\n",
       "</style>\n",
       "<table border=\"1\" class=\"dataframe\">\n",
       "  <thead>\n",
       "    <tr style=\"text-align: right;\">\n",
       "      <th></th>\n",
       "      <th>Data</th>\n",
       "      <th>AUC (GDSC)</th>\n",
       "      <th>AUCPR (GDSC)</th>\n",
       "      <th>AUC (TCGA)</th>\n",
       "      <th>AUCPR (TCGA)</th>\n",
       "      <th>AUC (TCGA-SARC)</th>\n",
       "      <th>AUCPR (TCGA-SARC)</th>\n",
       "      <th>Sample Size (GDSC)</th>\n",
       "      <th>Feature Size (GDSC)</th>\n",
       "    </tr>\n",
       "  </thead>\n",
       "  <tbody>\n",
       "    <tr>\n",
       "      <th>0</th>\n",
       "      <td>Expr + Mut</td>\n",
       "      <td>0.8</td>\n",
       "      <td>0.31</td>\n",
       "      <td>0.62</td>\n",
       "      <td>0.41</td>\n",
       "      <td>0.46</td>\n",
       "      <td>0.32</td>\n",
       "      <td>9435</td>\n",
       "      <td>831</td>\n",
       "    </tr>\n",
       "    <tr>\n",
       "      <th>1</th>\n",
       "      <td>Expr + Mut (Fine-tuned)</td>\n",
       "      <td>0.81</td>\n",
       "      <td>0.32</td>\n",
       "      <td>0.88</td>\n",
       "      <td>0.67</td>\n",
       "      <td>0.88</td>\n",
       "      <td>0.7</td>\n",
       "      <td>9435</td>\n",
       "      <td>831</td>\n",
       "    </tr>\n",
       "  </tbody>\n",
       "</table>\n",
       "</div>"
      ],
      "text/plain": [
       "                      Data AUC (GDSC) AUCPR (GDSC) AUC (TCGA) AUCPR (TCGA)  \\\n",
       "0               Expr + Mut        0.8         0.31       0.62         0.41   \n",
       "1  Expr + Mut (Fine-tuned)       0.81         0.32       0.88         0.67   \n",
       "\n",
       "  AUC (TCGA-SARC) AUCPR (TCGA-SARC) Sample Size (GDSC) Feature Size (GDSC)  \n",
       "0            0.46              0.32               9435                 831  \n",
       "1            0.88               0.7               9435                 831  "
      ]
     },
     "execution_count": 45,
     "metadata": {},
     "output_type": "execute_result"
    }
   ],
   "source": [
    "# create a dataframe with the prediction results \n",
    "\n",
    "em = {\"Data\": [\"Expr + Mut\", \"Expr + Mut (Fine-tuned)\"],\n",
    "      \"AUC (GDSC)\": [round(AUCT, 2), round(AUCT_finetuned[max_key], 2)],\n",
    "      \"AUCPR (GDSC)\": [round(AUCTaucpr,2), round(AUCTaucpr_finetuned[max_key],2)],\n",
    "      \"AUC (TCGA)\": [round(AUCTdoxorubicin,2), round(AUCTdoxorubicin_finetuned[max_key],2)],\n",
    "      \"AUCPR (TCGA)\":  [round(AUCTdoxorubicin_aucpr,2), round(AUCTdoxorubicin_aucpr_finetuned[max_key],2)],\n",
    "      \"AUC (TCGA-SARC)\":  [round(AUCTdoxorubicin_sarc,2), round(AUCTdoxorubicin_sarc_finetuned[max_key_sarc],2)],\n",
    "      \"AUCPR (TCGA-SARC)\": [round(AUCTdoxorubicin_sarc_aucpr,2), round(AUCTdoxorubicin_sarc_aucpr_finetuned[max_key_sarc],2)],\n",
    "      \"Sample Size (GDSC)\": [GDSCEv2.shape[0], GDSCEv2.shape[0]],\n",
    "      \"Feature Size (GDSC)\": [GDSCEv2.shape[1], GDSCEv2.shape[1]] \n",
    "}\n",
    "em_dataframe = pd.DataFrame.from_dict(em, orient='index').transpose() \n",
    "\n",
    "em_dataframe.to_csv(save_results_to + \"GDSC_TCGA_Expression_Mutation_DNA_REPi_Doxorubicin.tsv\",\n",
    "                    sep = \"\\t\",\n",
    "                    index = False)\n",
    "\n",
    "em_dataframe"
   ]
  },
  {
   "cell_type": "code",
   "execution_count": 46,
   "metadata": {},
   "outputs": [
    {
     "data": {
      "text/plain": [
       "AEE(\n",
       "  (EnE): Sequential(\n",
       "    (0): Linear(in_features=831, out_features=64, bias=True)\n",
       "    (1): BatchNorm1d(64, eps=1e-05, momentum=0.1, affine=True, track_running_stats=True)\n",
       "    (2): ReLU()\n",
       "    (3): Dropout(p=0.5, inplace=False)\n",
       "  )\n",
       ")"
      ]
     },
     "execution_count": 46,
     "metadata": {},
     "output_type": "execute_result"
    }
   ],
   "source": [
    "# show expression layer parameters\n",
    "\n",
    "AutoencoderE"
   ]
  },
  {
   "cell_type": "code",
   "execution_count": 47,
   "metadata": {},
   "outputs": [
    {
     "data": {
      "text/plain": [
       "AEM(\n",
       "  (EnM): Sequential(\n",
       "    (0): Linear(in_features=831, out_features=32, bias=True)\n",
       "    (1): BatchNorm1d(32, eps=1e-05, momentum=0.1, affine=True, track_running_stats=True)\n",
       "    (2): ReLU()\n",
       "    (3): Dropout(p=0.6, inplace=False)\n",
       "  )\n",
       ")"
      ]
     },
     "execution_count": 47,
     "metadata": {},
     "output_type": "execute_result"
    }
   ],
   "source": [
    "# show mutation layer parameters\n",
    "\n",
    "AutoencoderM"
   ]
  },
  {
   "cell_type": "code",
   "execution_count": 48,
   "metadata": {},
   "outputs": [
    {
     "data": {
      "text/plain": [
       "Classifier(\n",
       "  (FC): Sequential(\n",
       "    (0): Linear(in_features=96, out_features=1, bias=True)\n",
       "    (1): Dropout(p=0.6, inplace=False)\n",
       "    (2): Sigmoid()\n",
       "  )\n",
       ")"
      ]
     },
     "execution_count": 48,
     "metadata": {},
     "output_type": "execute_result"
    }
   ],
   "source": [
    "# show classification layer parameters\n",
    "\n",
    "Clas"
   ]
  },
  {
   "cell_type": "code",
   "execution_count": 49,
   "metadata": {},
   "outputs": [
    {
     "name": "stdout",
     "output_type": "stream",
     "text": [
      "/Volumes/Expansion/Thesis Work/Results/Transfer Learning/Drugs with same pathways/TCGA_DNA_REPi/Expression_Mutation/Predictions\n"
     ]
    }
   ],
   "source": [
    "# change directory\n",
    "\n",
    "os.chdir(save_results_to)\n",
    "print(os.getcwd())"
   ]
  },
  {
   "cell_type": "code",
   "execution_count": 50,
   "metadata": {},
   "outputs": [],
   "source": [
    "# save predictions\n",
    "\n",
    "file = open('GDSC_TCGA_DEGs - TCGA_DNA_REPi_Doxorubicin Predictions (Expression and Mutation).txt', 'w')\n",
    "file.write(f\"GDSC Training (EM) AUC (TCGA_DNA_REPi): {round(AUCT,2)}\\n\")\n",
    "file.write(f\"GDSC Training (EM) AUCPR (TCGA_DNA_REPi): {round(AUCTaucpr,2)}\\n\\n\")\n",
    "\n",
    "file.write(f\"TCGA Test (EM) AUC (Doxorubicin): {round(AUCTdoxorubicin,2)}\\n\")\n",
    "file.write(f\"TCGA Test (EM) AUCPR (Doxorubicin): {round(AUCTdoxorubicin_aucpr,2)}\\n\\n\")\n",
    "\n",
    "file.close()"
   ]
  }
 ],
 "metadata": {
  "kernelspec": {
   "display_name": "Python 3 (ipykernel)",
   "language": "python",
   "name": "python3"
  },
  "language_info": {
   "codemirror_mode": {
    "name": "ipython",
    "version": 3
   },
   "file_extension": ".py",
   "mimetype": "text/x-python",
   "name": "python",
   "nbconvert_exporter": "python",
   "pygments_lexer": "ipython3",
   "version": "3.12.7"
  }
 },
 "nbformat": 4,
 "nbformat_minor": 4
}
