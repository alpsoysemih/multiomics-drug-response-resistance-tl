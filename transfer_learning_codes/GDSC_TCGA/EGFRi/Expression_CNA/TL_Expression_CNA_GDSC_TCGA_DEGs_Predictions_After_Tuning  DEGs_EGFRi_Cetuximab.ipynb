{
 "cells": [
  {
   "cell_type": "code",
   "execution_count": 1,
   "metadata": {},
   "outputs": [],
   "source": [
    "# load packages\n",
    "\n",
    "import os\n",
    "import torch \n",
    "import torch.nn as nn\n",
    "import torch.nn.functional as F\n",
    "import torch.optim as optim\n",
    "import numpy as np\n",
    "import matplotlib.pyplot as plt\n",
    "import pandas as pd\n",
    "import math\n",
    "import mygene\n",
    "import sklearn.preprocessing as sk\n",
    "import seaborn as sns\n",
    "from sklearn import metrics\n",
    "from sklearn.feature_selection import VarianceThreshold\n",
    "from sklearn.model_selection import train_test_split\n",
    "from sklearn.metrics import confusion_matrix\n",
    "from sklearn.metrics import classification_report\n",
    "from torch.utils.data.sampler import WeightedRandomSampler\n",
    "from sklearn.metrics import roc_curve, auc\n",
    "from sklearn.metrics import roc_auc_score\n",
    "from sklearn.metrics import average_precision_score, precision_recall_curve\n",
    "import random\n",
    "from random import randint\n",
    "from sklearn.model_selection import StratifiedKFold\n",
    "import warnings\n",
    "\n",
    "# Suppress all warnings\n",
    "warnings.filterwarnings(\"ignore\")"
   ]
  },
  {
   "cell_type": "code",
   "execution_count": 2,
   "metadata": {},
   "outputs": [],
   "source": [
    "# define directories\n",
    "\n",
    "cell_line_dir = \"/Volumes/Expansion/Thesis Work/Supplementary Files/GDSC/\"\n",
    "models_dir = \"/Volumes/Expansion/Thesis Work/Results/Transfer Learning/Drugs with same pathways/TCGA_EGFRi/Expression_CNA/Models/\"\n",
    "DEGs_dir = \"/Volumes/Expansion/Thesis Work/Results/GDSC_DEGs_inhibitors/EGFRi/\"\n",
    "dataset_dir = \"/Volumes/Expansion/Thesis Work/Results/preprocessed_results2/\"\n",
    "save_results_to = \"/Volumes/Expansion/Thesis Work/Results/Transfer Learning/Drugs with same pathways/TCGA_EGFRi/Expression_CNA/Predictions/\""
   ]
  },
  {
   "cell_type": "code",
   "execution_count": 3,
   "metadata": {},
   "outputs": [],
   "source": [
    "# set random seeds\n",
    "\n",
    "torch.manual_seed(42)\n",
    "random.seed(42)"
   ]
  },
  {
   "cell_type": "code",
   "execution_count": 4,
   "metadata": {},
   "outputs": [
    {
     "name": "stdout",
     "output_type": "stream",
     "text": [
      "/Volumes/Expansion/Thesis Work/Supplementary Files/GDSC\n"
     ]
    }
   ],
   "source": [
    "# change directory to read GDSC cell line details\n",
    "\n",
    "os.chdir(cell_line_dir)\n",
    "print(os.getcwd())"
   ]
  },
  {
   "cell_type": "code",
   "execution_count": 5,
   "metadata": {},
   "outputs": [
    {
     "data": {
      "text/html": [
       "<div>\n",
       "<style scoped>\n",
       "    .dataframe tbody tr th:only-of-type {\n",
       "        vertical-align: middle;\n",
       "    }\n",
       "\n",
       "    .dataframe tbody tr th {\n",
       "        vertical-align: top;\n",
       "    }\n",
       "\n",
       "    .dataframe thead th {\n",
       "        text-align: right;\n",
       "    }\n",
       "</style>\n",
       "<table border=\"1\" class=\"dataframe\">\n",
       "  <thead>\n",
       "    <tr style=\"text-align: right;\">\n",
       "      <th></th>\n",
       "      <th>Sample Name</th>\n",
       "      <th>Whole Exome Sequencing (WES)</th>\n",
       "      <th>Copy Number Alterations (CNA)</th>\n",
       "      <th>Gene Expression</th>\n",
       "      <th>Methylation</th>\n",
       "      <th>Drug\\nResponse</th>\n",
       "      <th>GDSC\\nTissue descriptor 1</th>\n",
       "      <th>GDSC\\nTissue\\ndescriptor 2</th>\n",
       "      <th>Cancer Type\\n(matching TCGA label)</th>\n",
       "      <th>Microsatellite \\ninstability Status (MSI)</th>\n",
       "      <th>Screen Medium</th>\n",
       "      <th>Growth Properties</th>\n",
       "    </tr>\n",
       "    <tr>\n",
       "      <th>COSMIC identifier</th>\n",
       "      <th></th>\n",
       "      <th></th>\n",
       "      <th></th>\n",
       "      <th></th>\n",
       "      <th></th>\n",
       "      <th></th>\n",
       "      <th></th>\n",
       "      <th></th>\n",
       "      <th></th>\n",
       "      <th></th>\n",
       "      <th></th>\n",
       "      <th></th>\n",
       "    </tr>\n",
       "  </thead>\n",
       "  <tbody>\n",
       "    <tr>\n",
       "      <th>1298218</th>\n",
       "      <td>KP-2</td>\n",
       "      <td>Y</td>\n",
       "      <td>N</td>\n",
       "      <td>Y</td>\n",
       "      <td>N</td>\n",
       "      <td>Y</td>\n",
       "      <td>pancreas</td>\n",
       "      <td>pancreas</td>\n",
       "      <td>PAAD</td>\n",
       "      <td></td>\n",
       "      <td>D/F12</td>\n",
       "      <td>Adherent</td>\n",
       "    </tr>\n",
       "    <tr>\n",
       "      <th>1330932</th>\n",
       "      <td>KO52</td>\n",
       "      <td>Y</td>\n",
       "      <td>Y</td>\n",
       "      <td>N</td>\n",
       "      <td>N</td>\n",
       "      <td>N</td>\n",
       "      <td>leukemia</td>\n",
       "      <td>acute_myeloid_leukaemia</td>\n",
       "      <td>LAML</td>\n",
       "      <td>MSS/MSI-L</td>\n",
       "      <td>D/F12</td>\n",
       "      <td>NA</td>\n",
       "    </tr>\n",
       "    <tr>\n",
       "      <th>1331030</th>\n",
       "      <td>SC-1</td>\n",
       "      <td>Y</td>\n",
       "      <td>Y</td>\n",
       "      <td>N</td>\n",
       "      <td>N</td>\n",
       "      <td>N</td>\n",
       "      <td>lymphoma</td>\n",
       "      <td>B_cell_lymphoma</td>\n",
       "      <td>DLBC</td>\n",
       "      <td>MSS/MSI-L</td>\n",
       "      <td>R</td>\n",
       "      <td>NA</td>\n",
       "    </tr>\n",
       "    <tr>\n",
       "      <th>1503373</th>\n",
       "      <td>U-CH2</td>\n",
       "      <td>Y</td>\n",
       "      <td>Y</td>\n",
       "      <td>N</td>\n",
       "      <td>N</td>\n",
       "      <td>N</td>\n",
       "      <td>bone</td>\n",
       "      <td>bone_other</td>\n",
       "      <td></td>\n",
       "      <td>MSS/MSI-L</td>\n",
       "      <td>D/F12</td>\n",
       "      <td>Adherent</td>\n",
       "    </tr>\n",
       "    <tr>\n",
       "      <th></th>\n",
       "      <td>TOTAL:</td>\n",
       "      <td>1001</td>\n",
       "      <td>996</td>\n",
       "      <td>968</td>\n",
       "      <td>957</td>\n",
       "      <td>990</td>\n",
       "      <td></td>\n",
       "      <td></td>\n",
       "      <td></td>\n",
       "      <td></td>\n",
       "      <td></td>\n",
       "      <td></td>\n",
       "    </tr>\n",
       "  </tbody>\n",
       "</table>\n",
       "</div>"
      ],
      "text/plain": [
       "                  Sample Name Whole Exome Sequencing (WES)  \\\n",
       "COSMIC identifier                                            \n",
       "1298218                  KP-2                            Y   \n",
       "1330932                  KO52                            Y   \n",
       "1331030                  SC-1                            Y   \n",
       "1503373                 U-CH2                            Y   \n",
       "                       TOTAL:                         1001   \n",
       "\n",
       "                  Copy Number Alterations (CNA) Gene Expression Methylation  \\\n",
       "COSMIC identifier                                                             \n",
       "1298218                                       N               Y           N   \n",
       "1330932                                       Y               N           N   \n",
       "1331030                                       Y               N           N   \n",
       "1503373                                       Y               N           N   \n",
       "                                            996             968         957   \n",
       "\n",
       "                  Drug\\nResponse GDSC\\nTissue descriptor 1  \\\n",
       "COSMIC identifier                                            \n",
       "1298218                        Y                  pancreas   \n",
       "1330932                        N                  leukemia   \n",
       "1331030                        N                  lymphoma   \n",
       "1503373                        N                      bone   \n",
       "                             990                             \n",
       "\n",
       "                  GDSC\\nTissue\\ndescriptor 2  \\\n",
       "COSMIC identifier                              \n",
       "1298218                             pancreas   \n",
       "1330932              acute_myeloid_leukaemia   \n",
       "1331030                      B_cell_lymphoma   \n",
       "1503373                           bone_other   \n",
       "                                               \n",
       "\n",
       "                  Cancer Type\\n(matching TCGA label)  \\\n",
       "COSMIC identifier                                      \n",
       "1298218                                         PAAD   \n",
       "1330932                                         LAML   \n",
       "1331030                                         DLBC   \n",
       "1503373                                                \n",
       "                                                       \n",
       "\n",
       "                  Microsatellite \\ninstability Status (MSI) Screen Medium  \\\n",
       "COSMIC identifier                                                           \n",
       "1298218                                                             D/F12   \n",
       "1330932                                           MSS/MSI-L         D/F12   \n",
       "1331030                                           MSS/MSI-L             R   \n",
       "1503373                                           MSS/MSI-L         D/F12   \n",
       "                                                                            \n",
       "\n",
       "                  Growth Properties  \n",
       "COSMIC identifier                    \n",
       "1298218                    Adherent  \n",
       "1330932                          NA  \n",
       "1331030                          NA  \n",
       "1503373                    Adherent  \n",
       "                                     "
      ]
     },
     "execution_count": 5,
     "metadata": {},
     "output_type": "execute_result"
    }
   ],
   "source": [
    "# read GDSC cell line details table\n",
    "\n",
    "GDSC_cell_line_details = pd.read_excel(\"GDSC_Cell_Lines_Details.xlsx\", keep_default_na = False)\n",
    "GDSC_cell_line_details.set_index(\"COSMIC identifier\", inplace = True)\n",
    "GDSC_cell_line_details.tail()"
   ]
  },
  {
   "cell_type": "code",
   "execution_count": 6,
   "metadata": {},
   "outputs": [
    {
     "name": "stdout",
     "output_type": "stream",
     "text": [
      "/Volumes/Expansion/Thesis Work/Results/preprocessed_results2/exprs\n"
     ]
    }
   ],
   "source": [
    "# change directory to read GDSC expression dataset (EGFRi)\n",
    "\n",
    "os.chdir(dataset_dir + \"/exprs/\")\n",
    "print(os.getcwd())"
   ]
  },
  {
   "cell_type": "code",
   "execution_count": 7,
   "metadata": {},
   "outputs": [
    {
     "data": {
      "text/html": [
       "<div>\n",
       "<style scoped>\n",
       "    .dataframe tbody tr th:only-of-type {\n",
       "        vertical-align: middle;\n",
       "    }\n",
       "\n",
       "    .dataframe tbody tr th {\n",
       "        vertical-align: top;\n",
       "    }\n",
       "\n",
       "    .dataframe thead th {\n",
       "        text-align: right;\n",
       "    }\n",
       "</style>\n",
       "<table border=\"1\" class=\"dataframe\">\n",
       "  <thead>\n",
       "    <tr style=\"text-align: right;\">\n",
       "      <th>ENTREZID</th>\n",
       "      <th>1</th>\n",
       "      <th>2</th>\n",
       "      <th>9</th>\n",
       "      <th>10</th>\n",
       "      <th>12</th>\n",
       "      <th>13</th>\n",
       "      <th>14</th>\n",
       "      <th>15</th>\n",
       "      <th>16</th>\n",
       "      <th>18</th>\n",
       "      <th>...</th>\n",
       "      <th>107984199</th>\n",
       "      <th>107984208</th>\n",
       "      <th>107984325</th>\n",
       "      <th>107984411</th>\n",
       "      <th>107984648</th>\n",
       "      <th>107984889</th>\n",
       "      <th>107984989</th>\n",
       "      <th>107986313</th>\n",
       "      <th>107986782</th>\n",
       "      <th>107986810</th>\n",
       "    </tr>\n",
       "  </thead>\n",
       "  <tbody>\n",
       "    <tr>\n",
       "      <th>683665</th>\n",
       "      <td>-0.4711563767951986</td>\n",
       "      <td>-0.1857522957766964</td>\n",
       "      <td>0.9702409548662462</td>\n",
       "      <td>-0.4081281805960821</td>\n",
       "      <td>-0.4161511169999803</td>\n",
       "      <td>-0.4384159723467665</td>\n",
       "      <td>-1.154692246005183</td>\n",
       "      <td>0.5262132484107975</td>\n",
       "      <td>-0.7950924576033422</td>\n",
       "      <td>-0.6337442716864214</td>\n",
       "      <td>...</td>\n",
       "      <td>1.283534690590172</td>\n",
       "      <td>-0.3367265464586691</td>\n",
       "      <td>-0.0039762988723447</td>\n",
       "      <td>0.7378729872604209</td>\n",
       "      <td>0.9757614264575688</td>\n",
       "      <td>0.1494417647095801</td>\n",
       "      <td>2.062294063911948</td>\n",
       "      <td>-0.8140636761719959</td>\n",
       "      <td>0.2870333828833719</td>\n",
       "      <td>0.9524265085537148</td>\n",
       "    </tr>\n",
       "    <tr>\n",
       "      <th>683667</th>\n",
       "      <td>0.8924335646616343</td>\n",
       "      <td>-0.2118047645974752</td>\n",
       "      <td>-1.5249963829654445</td>\n",
       "      <td>-0.5512338119420259</td>\n",
       "      <td>-0.1375180480622428</td>\n",
       "      <td>-0.5276262991742051</td>\n",
       "      <td>-0.0305604198225781</td>\n",
       "      <td>0.5226216566753464</td>\n",
       "      <td>0.4877783097403741</td>\n",
       "      <td>0.2252883573642275</td>\n",
       "      <td>...</td>\n",
       "      <td>-0.0156845434045267</td>\n",
       "      <td>-0.1612071417519457</td>\n",
       "      <td>1.2033249282722671</td>\n",
       "      <td>2.7714836839186687</td>\n",
       "      <td>-0.3165072496327769</td>\n",
       "      <td>-0.8849200030571541</td>\n",
       "      <td>-0.5104734344593952</td>\n",
       "      <td>0.2984361940989172</td>\n",
       "      <td>-0.4349407065496763</td>\n",
       "      <td>0.4747633022523675</td>\n",
       "    </tr>\n",
       "    <tr>\n",
       "      <th>684057</th>\n",
       "      <td>0.6510004960254864</td>\n",
       "      <td>1.6578876382433665</td>\n",
       "      <td>-0.4977106390881842</td>\n",
       "      <td>-0.1212172092933644</td>\n",
       "      <td>-0.398455281697677</td>\n",
       "      <td>-0.2804901106672752</td>\n",
       "      <td>0.6455898116420014</td>\n",
       "      <td>0.215833091774836</td>\n",
       "      <td>-0.1723595788875009</td>\n",
       "      <td>-0.2170870770552223</td>\n",
       "      <td>...</td>\n",
       "      <td>-0.024863133395904</td>\n",
       "      <td>0.4073439017665206</td>\n",
       "      <td>-0.4440356638831038</td>\n",
       "      <td>0.8630347078663075</td>\n",
       "      <td>1.4486171428489227</td>\n",
       "      <td>-1.4777214830771732</td>\n",
       "      <td>0.5220400480464272</td>\n",
       "      <td>0.6441211958947753</td>\n",
       "      <td>0.9057518606131394</td>\n",
       "      <td>0.3018783753479829</td>\n",
       "    </tr>\n",
       "  </tbody>\n",
       "</table>\n",
       "<p>3 rows × 18597 columns</p>\n",
       "</div>"
      ],
      "text/plain": [
       "ENTREZID            1                    2                    9          \\\n",
       "683665    -0.4711563767951986  -0.1857522957766964   0.9702409548662462   \n",
       "683667     0.8924335646616343  -0.2118047645974752  -1.5249963829654445   \n",
       "684057     0.6510004960254864   1.6578876382433665  -0.4977106390881842   \n",
       "\n",
       "ENTREZID            10                   12                   13         \\\n",
       "683665    -0.4081281805960821  -0.4161511169999803  -0.4384159723467665   \n",
       "683667    -0.5512338119420259  -0.1375180480622428  -0.5276262991742051   \n",
       "684057    -0.1212172092933644   -0.398455281697677  -0.2804901106672752   \n",
       "\n",
       "ENTREZID            14                  15                   16         \\\n",
       "683665     -1.154692246005183  0.5262132484107975  -0.7950924576033422   \n",
       "683667    -0.0305604198225781  0.5226216566753464   0.4877783097403741   \n",
       "684057     0.6455898116420014   0.215833091774836  -0.1723595788875009   \n",
       "\n",
       "ENTREZID            18         ...            107984199            107984208  \\\n",
       "683665    -0.6337442716864214  ...    1.283534690590172  -0.3367265464586691   \n",
       "683667     0.2252883573642275  ...  -0.0156845434045267  -0.1612071417519457   \n",
       "684057    -0.2170870770552223  ...   -0.024863133395904   0.4073439017665206   \n",
       "\n",
       "ENTREZID            107984325           107984411            107984648  \\\n",
       "683665    -0.0039762988723447  0.7378729872604209   0.9757614264575688   \n",
       "683667     1.2033249282722671  2.7714836839186687  -0.3165072496327769   \n",
       "684057    -0.4440356638831038  0.8630347078663075   1.4486171428489227   \n",
       "\n",
       "ENTREZID            107984889            107984989            107986313  \\\n",
       "683665     0.1494417647095801    2.062294063911948  -0.8140636761719959   \n",
       "683667    -0.8849200030571541  -0.5104734344593952   0.2984361940989172   \n",
       "684057    -1.4777214830771732   0.5220400480464272   0.6441211958947753   \n",
       "\n",
       "ENTREZID            107986782           107986810  \n",
       "683665     0.2870333828833719  0.9524265085537148  \n",
       "683667    -0.4349407065496763  0.4747633022523675  \n",
       "684057     0.9057518606131394  0.3018783753479829  \n",
       "\n",
       "[3 rows x 18597 columns]"
      ]
     },
     "execution_count": 7,
     "metadata": {},
     "output_type": "execute_result"
    }
   ],
   "source": [
    "# read GDSC expression dataset (EGFRi)\n",
    "\n",
    "GDSCE = pd.read_csv(\"GDSC_exprs.z.EGFRi.tsv\", \n",
    "                    sep = \"\\t\", index_col=0, decimal = \",\")\n",
    "GDSCE = pd.DataFrame.transpose(GDSCE)\n",
    "GDSCE.head(3)"
   ]
  },
  {
   "cell_type": "code",
   "execution_count": 8,
   "metadata": {},
   "outputs": [
    {
     "name": "stdout",
     "output_type": "stream",
     "text": [
      "/Volumes/Expansion/Thesis Work/Results/preprocessed_results2/CNA\n"
     ]
    }
   ],
   "source": [
    "# change directory to read GDSC CNA dataset (EGFRi)\n",
    "\n",
    "os.chdir(dataset_dir + \"/CNA/\")\n",
    "print(os.getcwd())"
   ]
  },
  {
   "cell_type": "code",
   "execution_count": 9,
   "metadata": {},
   "outputs": [],
   "source": [
    "# read GDSC CNA dataset (EGFRi)\n",
    "\n",
    "GDSCC = pd.read_csv(\"GDSC_CNA.EGFRi.tsv\",\n",
    "                    sep=\"\\t\", index_col=0, decimal=\".\")\n",
    "GDSCC.drop_duplicates(keep='last')\n",
    "GDSCC = pd.DataFrame.transpose(GDSCC)\n",
    "GDSCC = GDSCC.loc[:, ~GDSCC.columns.duplicated()]"
   ]
  },
  {
   "cell_type": "code",
   "execution_count": 10,
   "metadata": {},
   "outputs": [
    {
     "name": "stdout",
     "output_type": "stream",
     "text": [
      "/Volumes/Expansion/Thesis Work/Results/preprocessed_results2/response\n"
     ]
    }
   ],
   "source": [
    "# change directory to read GDSC response dataset (EGFRi)\n",
    "\n",
    "os.chdir(dataset_dir + \"/response/\")\n",
    "print(os.getcwd())"
   ]
  },
  {
   "cell_type": "code",
   "execution_count": 11,
   "metadata": {},
   "outputs": [
    {
     "data": {
      "text/html": [
       "<div>\n",
       "<style scoped>\n",
       "    .dataframe tbody tr th:only-of-type {\n",
       "        vertical-align: middle;\n",
       "    }\n",
       "\n",
       "    .dataframe tbody tr th {\n",
       "        vertical-align: top;\n",
       "    }\n",
       "\n",
       "    .dataframe thead th {\n",
       "        text-align: right;\n",
       "    }\n",
       "</style>\n",
       "<table border=\"1\" class=\"dataframe\">\n",
       "  <thead>\n",
       "    <tr style=\"text-align: right;\">\n",
       "      <th></th>\n",
       "      <th>response</th>\n",
       "      <th>logIC50</th>\n",
       "      <th>drug</th>\n",
       "      <th>exprs</th>\n",
       "      <th>CNA</th>\n",
       "      <th>mutations</th>\n",
       "    </tr>\n",
       "    <tr>\n",
       "      <th>sample_name</th>\n",
       "      <th></th>\n",
       "      <th></th>\n",
       "      <th></th>\n",
       "      <th></th>\n",
       "      <th></th>\n",
       "      <th></th>\n",
       "    </tr>\n",
       "  </thead>\n",
       "  <tbody>\n",
       "    <tr>\n",
       "      <th>683665</th>\n",
       "      <td>0</td>\n",
       "      <td>1.49001536063508</td>\n",
       "      <td>Afatinib</td>\n",
       "      <td>1</td>\n",
       "      <td>1</td>\n",
       "      <td>1</td>\n",
       "    </tr>\n",
       "    <tr>\n",
       "      <th>683665</th>\n",
       "      <td>0</td>\n",
       "      <td>6.29444657935625</td>\n",
       "      <td>Cetuximab</td>\n",
       "      <td>1</td>\n",
       "      <td>1</td>\n",
       "      <td>1</td>\n",
       "    </tr>\n",
       "    <tr>\n",
       "      <th>683665</th>\n",
       "      <td>0</td>\n",
       "      <td>-1.50094791622811</td>\n",
       "      <td>CUDC-101</td>\n",
       "      <td>1</td>\n",
       "      <td>1</td>\n",
       "      <td>1</td>\n",
       "    </tr>\n",
       "    <tr>\n",
       "      <th>683665</th>\n",
       "      <td>1</td>\n",
       "      <td>-0.966773876200563</td>\n",
       "      <td>EKB-569</td>\n",
       "      <td>1</td>\n",
       "      <td>1</td>\n",
       "      <td>1</td>\n",
       "    </tr>\n",
       "    <tr>\n",
       "      <th>683665</th>\n",
       "      <td>0</td>\n",
       "      <td>2.43658649242319</td>\n",
       "      <td>Erlotinib</td>\n",
       "      <td>1</td>\n",
       "      <td>1</td>\n",
       "      <td>1</td>\n",
       "    </tr>\n",
       "  </tbody>\n",
       "</table>\n",
       "</div>"
      ],
      "text/plain": [
       "             response             logIC50       drug  exprs  CNA  mutations\n",
       "sample_name                                                                \n",
       "683665              0    1.49001536063508   Afatinib      1    1          1\n",
       "683665              0    6.29444657935625  Cetuximab      1    1          1\n",
       "683665              0   -1.50094791622811   CUDC-101      1    1          1\n",
       "683665              1  -0.966773876200563    EKB-569      1    1          1\n",
       "683665              0    2.43658649242319  Erlotinib      1    1          1"
      ]
     },
     "execution_count": 11,
     "metadata": {},
     "output_type": "execute_result"
    }
   ],
   "source": [
    "# read GDSC response dataset (EGFRi)\n",
    "\n",
    "GDSCR = pd.read_csv(\"GDSC_response.EGFRi.tsv\",\n",
    "                    sep=\"\\t\",\n",
    "                    index_col=0,\n",
    "                    decimal=\",\")\n",
    "filter = GDSCR[\"drug\"] != \"Afatinib (rescreen)\"\n",
    "GDSCR = GDSCR.loc[filter, ]\n",
    "GDSCR.dropna(inplace=True)\n",
    "GDSCR.rename(mapper=str, axis='index', inplace=True)\n",
    "d = {\"R\": 0, \"S\": 1}\n",
    "GDSCR[\"response\"] = GDSCR.loc[:, \"response\"].apply(lambda x: d[x])\n",
    "\n",
    "GDSCR.head()"
   ]
  },
  {
   "cell_type": "code",
   "execution_count": 12,
   "metadata": {},
   "outputs": [
    {
     "data": {
      "text/plain": [
       "drug\n",
       "EKB-569       770\n",
       "CUDC-101      754\n",
       "Afatinib      738\n",
       "Gefitinib     734\n",
       "Cetuximab     725\n",
       "HG-5-88-01    422\n",
       "Lapatinib     371\n",
       "Erlotinib     362\n",
       "Name: count, dtype: int64"
      ]
     },
     "execution_count": 12,
     "metadata": {},
     "output_type": "execute_result"
    }
   ],
   "source": [
    "# print count of cell lines for each drug (EGFRi)\n",
    "\n",
    "GDSCR[\"drug\"].value_counts()"
   ]
  },
  {
   "cell_type": "code",
   "execution_count": 13,
   "metadata": {},
   "outputs": [
    {
     "name": "stdout",
     "output_type": "stream",
     "text": [
      "/Volumes/Expansion/Thesis Work/Results/preprocessed_results2/exprs_homogenized\n"
     ]
    }
   ],
   "source": [
    "# change directory to read TCGA expression dataset homogenized with GDSC expression dataset (Cetuximab)\n",
    "\n",
    "os.chdir(dataset_dir + \"exprs_homogenized/\")\n",
    "print(os.getcwd())"
   ]
  },
  {
   "cell_type": "code",
   "execution_count": 14,
   "metadata": {},
   "outputs": [
    {
     "data": {
      "text/html": [
       "<div>\n",
       "<style scoped>\n",
       "    .dataframe tbody tr th:only-of-type {\n",
       "        vertical-align: middle;\n",
       "    }\n",
       "\n",
       "    .dataframe tbody tr th {\n",
       "        vertical-align: top;\n",
       "    }\n",
       "\n",
       "    .dataframe thead th {\n",
       "        text-align: right;\n",
       "    }\n",
       "</style>\n",
       "<table border=\"1\" class=\"dataframe\">\n",
       "  <thead>\n",
       "    <tr style=\"text-align: right;\">\n",
       "      <th>ENTREZID</th>\n",
       "      <th>1</th>\n",
       "      <th>2</th>\n",
       "      <th>9</th>\n",
       "      <th>10</th>\n",
       "      <th>12</th>\n",
       "      <th>13</th>\n",
       "      <th>14</th>\n",
       "      <th>15</th>\n",
       "      <th>16</th>\n",
       "      <th>18</th>\n",
       "      <th>...</th>\n",
       "      <th>100188893</th>\n",
       "      <th>100190940</th>\n",
       "      <th>100190949</th>\n",
       "      <th>100191040</th>\n",
       "      <th>100192386</th>\n",
       "      <th>100268168</th>\n",
       "      <th>100271715</th>\n",
       "      <th>100287718</th>\n",
       "      <th>100288778</th>\n",
       "      <th>100289635</th>\n",
       "    </tr>\n",
       "  </thead>\n",
       "  <tbody>\n",
       "    <tr>\n",
       "      <th>TCGA-BA-A4IG-01A</th>\n",
       "      <td>3.53364972782538</td>\n",
       "      <td>2.63169744477874</td>\n",
       "      <td>6.46913538384915</td>\n",
       "      <td>3.11954321356217</td>\n",
       "      <td>1.78425710174861</td>\n",
       "      <td>4.78953909500701</td>\n",
       "      <td>8.06446753523746</td>\n",
       "      <td>3.04479803527151</td>\n",
       "      <td>9.18974247446462</td>\n",
       "      <td>2.91775104542515</td>\n",
       "      <td>...</td>\n",
       "      <td>9.88694622925868</td>\n",
       "      <td>3.1254895591217</td>\n",
       "      <td>0</td>\n",
       "      <td>3.5074580817852</td>\n",
       "      <td>3.01824927947277</td>\n",
       "      <td>2.84422970206547</td>\n",
       "      <td>3.5035589781396</td>\n",
       "      <td>3.06737618948643</td>\n",
       "      <td>4.01010719689955</td>\n",
       "      <td>4.66295551081748</td>\n",
       "    </tr>\n",
       "    <tr>\n",
       "      <th>TCGA-CN-4731-01A</th>\n",
       "      <td>4.12585378817146</td>\n",
       "      <td>2.1506582678597</td>\n",
       "      <td>6.44489273685529</td>\n",
       "      <td>3.21409376420109</td>\n",
       "      <td>3.15286503399873</td>\n",
       "      <td>3.28492483066951</td>\n",
       "      <td>8.22062958425597</td>\n",
       "      <td>2.67285528315238</td>\n",
       "      <td>8.51873835886811</td>\n",
       "      <td>5.1735664410497</td>\n",
       "      <td>...</td>\n",
       "      <td>9.26858559890324</td>\n",
       "      <td>3.08733295866026</td>\n",
       "      <td>0</td>\n",
       "      <td>3.30585011523952</td>\n",
       "      <td>3.3487497141691</td>\n",
       "      <td>2.6930439585389</td>\n",
       "      <td>2.45792584512192</td>\n",
       "      <td>2.99299508958328</td>\n",
       "      <td>3.94714478968898</td>\n",
       "      <td>4.17054508896713</td>\n",
       "    </tr>\n",
       "    <tr>\n",
       "      <th>TCGA-CN-A49C-01A</th>\n",
       "      <td>4.37925369978313</td>\n",
       "      <td>3.43283585192836</td>\n",
       "      <td>6.59346803138021</td>\n",
       "      <td>3.11954321356217</td>\n",
       "      <td>3.31289809486857</td>\n",
       "      <td>3.10283527665291</td>\n",
       "      <td>8.2759744669096</td>\n",
       "      <td>2.74770994492163</td>\n",
       "      <td>8.98377132955025</td>\n",
       "      <td>3.96878580867183</td>\n",
       "      <td>...</td>\n",
       "      <td>9.71555609970402</td>\n",
       "      <td>3.0546486734275</td>\n",
       "      <td>0</td>\n",
       "      <td>3.67110924364761</td>\n",
       "      <td>3.04644627367641</td>\n",
       "      <td>2.61249547417883</td>\n",
       "      <td>3.00945260505516</td>\n",
       "      <td>3.06200290033863</td>\n",
       "      <td>5.05997145230091</td>\n",
       "      <td>4.13533467313432</td>\n",
       "    </tr>\n",
       "  </tbody>\n",
       "</table>\n",
       "<p>3 rows × 18197 columns</p>\n",
       "</div>"
      ],
      "text/plain": [
       "ENTREZID                 1                 2                 9          \\\n",
       "TCGA-BA-A4IG-01A  3.53364972782538  2.63169744477874  6.46913538384915   \n",
       "TCGA-CN-4731-01A  4.12585378817146   2.1506582678597  6.44489273685529   \n",
       "TCGA-CN-A49C-01A  4.37925369978313  3.43283585192836  6.59346803138021   \n",
       "\n",
       "ENTREZID                 10                12                13         \\\n",
       "TCGA-BA-A4IG-01A  3.11954321356217  1.78425710174861  4.78953909500701   \n",
       "TCGA-CN-4731-01A  3.21409376420109  3.15286503399873  3.28492483066951   \n",
       "TCGA-CN-A49C-01A  3.11954321356217  3.31289809486857  3.10283527665291   \n",
       "\n",
       "ENTREZID                 14                15                16         \\\n",
       "TCGA-BA-A4IG-01A  8.06446753523746  3.04479803527151  9.18974247446462   \n",
       "TCGA-CN-4731-01A  8.22062958425597  2.67285528315238  8.51873835886811   \n",
       "TCGA-CN-A49C-01A   8.2759744669096  2.74770994492163  8.98377132955025   \n",
       "\n",
       "ENTREZID                 18         ...         100188893         100190940  \\\n",
       "TCGA-BA-A4IG-01A  2.91775104542515  ...  9.88694622925868   3.1254895591217   \n",
       "TCGA-CN-4731-01A   5.1735664410497  ...  9.26858559890324  3.08733295866026   \n",
       "TCGA-CN-A49C-01A  3.96878580867183  ...  9.71555609970402   3.0546486734275   \n",
       "\n",
       "ENTREZID         100190949         100191040         100192386  \\\n",
       "TCGA-BA-A4IG-01A         0   3.5074580817852  3.01824927947277   \n",
       "TCGA-CN-4731-01A         0  3.30585011523952   3.3487497141691   \n",
       "TCGA-CN-A49C-01A         0  3.67110924364761  3.04644627367641   \n",
       "\n",
       "ENTREZID                 100268168         100271715         100287718  \\\n",
       "TCGA-BA-A4IG-01A  2.84422970206547   3.5035589781396  3.06737618948643   \n",
       "TCGA-CN-4731-01A   2.6930439585389  2.45792584512192  2.99299508958328   \n",
       "TCGA-CN-A49C-01A  2.61249547417883  3.00945260505516  3.06200290033863   \n",
       "\n",
       "ENTREZID                 100288778         100289635  \n",
       "TCGA-BA-A4IG-01A  4.01010719689955  4.66295551081748  \n",
       "TCGA-CN-4731-01A  3.94714478968898  4.17054508896713  \n",
       "TCGA-CN-A49C-01A  5.05997145230091  4.13533467313432  \n",
       "\n",
       "[3 rows x 18197 columns]"
      ]
     },
     "execution_count": 14,
     "metadata": {},
     "output_type": "execute_result"
    }
   ],
   "source": [
    "# read TCGA expression dataset homogenized with GDSC expression dataset (Cetuximab)\n",
    "\n",
    "TCGAEcetuximab = pd.read_csv(\"TCGA_exprs.Cetuximab.eb_with.GDSC_exprs.Cetuximab.tsv\",\n",
    "                   sep = \"\\t\", index_col=0, decimal = \",\")\n",
    "TCGAEcetuximab = pd.DataFrame.transpose(TCGAEcetuximab)\n",
    "TCGAEcetuximab.head(3)"
   ]
  },
  {
   "cell_type": "code",
   "execution_count": 15,
   "metadata": {},
   "outputs": [
    {
     "data": {
      "text/plain": [
       "'/Volumes/Expansion/Thesis Work/Results/preprocessed_results2/CNA'"
      ]
     },
     "execution_count": 15,
     "metadata": {},
     "output_type": "execute_result"
    }
   ],
   "source": [
    "# change directory to read TCGA CNA dataset (Cetuximab)\n",
    "\n",
    "os.chdir(dataset_dir + \"CNA\")\n",
    "os.getcwd()"
   ]
  },
  {
   "cell_type": "code",
   "execution_count": 16,
   "metadata": {},
   "outputs": [
    {
     "data": {
      "text/html": [
       "<div>\n",
       "<style scoped>\n",
       "    .dataframe tbody tr th:only-of-type {\n",
       "        vertical-align: middle;\n",
       "    }\n",
       "\n",
       "    .dataframe tbody tr th {\n",
       "        vertical-align: top;\n",
       "    }\n",
       "\n",
       "    .dataframe thead th {\n",
       "        text-align: right;\n",
       "    }\n",
       "</style>\n",
       "<table border=\"1\" class=\"dataframe\">\n",
       "  <thead>\n",
       "    <tr style=\"text-align: right;\">\n",
       "      <th></th>\n",
       "      <th>2</th>\n",
       "      <th>3</th>\n",
       "      <th>9</th>\n",
       "      <th>10</th>\n",
       "      <th>11</th>\n",
       "      <th>12</th>\n",
       "      <th>13</th>\n",
       "      <th>24</th>\n",
       "      <th>30</th>\n",
       "      <th>34</th>\n",
       "      <th>...</th>\n",
       "      <th>100652795</th>\n",
       "      <th>100652800</th>\n",
       "      <th>2104</th>\n",
       "      <th>9534</th>\n",
       "      <th>359762</th>\n",
       "      <th>730087</th>\n",
       "      <th>100101266</th>\n",
       "      <th>100419711</th>\n",
       "      <th>100421702</th>\n",
       "      <th>100505851</th>\n",
       "    </tr>\n",
       "  </thead>\n",
       "  <tbody>\n",
       "    <tr>\n",
       "      <th>TCGA-BA-A4IG-01A</th>\n",
       "      <td>0.3326</td>\n",
       "      <td>0.3326</td>\n",
       "      <td>0.0</td>\n",
       "      <td>0.0</td>\n",
       "      <td>0.0</td>\n",
       "      <td>0.0</td>\n",
       "      <td>0.504</td>\n",
       "      <td>0.0</td>\n",
       "      <td>0.0</td>\n",
       "      <td>0.0</td>\n",
       "      <td>...</td>\n",
       "      <td>0.0</td>\n",
       "      <td>0.0</td>\n",
       "      <td>0.0</td>\n",
       "      <td>0.0</td>\n",
       "      <td>0.0</td>\n",
       "      <td>0.0</td>\n",
       "      <td>0.0</td>\n",
       "      <td>0.0</td>\n",
       "      <td>0.0</td>\n",
       "      <td>0.0</td>\n",
       "    </tr>\n",
       "    <tr>\n",
       "      <th>TCGA-CN-4731-01A</th>\n",
       "      <td>0.0</td>\n",
       "      <td>0.0</td>\n",
       "      <td>0.3089</td>\n",
       "      <td>0.3089</td>\n",
       "      <td>0.3089</td>\n",
       "      <td>0.0</td>\n",
       "      <td>0.4264</td>\n",
       "      <td>-0.5391</td>\n",
       "      <td>-0.5456</td>\n",
       "      <td>-0.5391</td>\n",
       "      <td>...</td>\n",
       "      <td>0.0</td>\n",
       "      <td>0.0</td>\n",
       "      <td>0.0</td>\n",
       "      <td>0.0</td>\n",
       "      <td>0.0</td>\n",
       "      <td>0.0</td>\n",
       "      <td>0.0</td>\n",
       "      <td>0.0</td>\n",
       "      <td>0.0</td>\n",
       "      <td>0.0</td>\n",
       "    </tr>\n",
       "    <tr>\n",
       "      <th>TCGA-CN-A49C-01A</th>\n",
       "      <td>0.0</td>\n",
       "      <td>0.0</td>\n",
       "      <td>0.0</td>\n",
       "      <td>0.0</td>\n",
       "      <td>0.0</td>\n",
       "      <td>0.0</td>\n",
       "      <td>0.763</td>\n",
       "      <td>0.0</td>\n",
       "      <td>0.0</td>\n",
       "      <td>0.0</td>\n",
       "      <td>...</td>\n",
       "      <td>0.0</td>\n",
       "      <td>0.0</td>\n",
       "      <td>0.0</td>\n",
       "      <td>0.0</td>\n",
       "      <td>0.0</td>\n",
       "      <td>0.0</td>\n",
       "      <td>0.0</td>\n",
       "      <td>0.0</td>\n",
       "      <td>0.0</td>\n",
       "      <td>0.0</td>\n",
       "    </tr>\n",
       "  </tbody>\n",
       "</table>\n",
       "<p>3 rows × 31922 columns</p>\n",
       "</div>"
      ],
      "text/plain": [
       "                 2         3         9         10        11        12         \\\n",
       "TCGA-BA-A4IG-01A    0.3326    0.3326       0.0       0.0       0.0       0.0   \n",
       "TCGA-CN-4731-01A       0.0       0.0    0.3089    0.3089    0.3089       0.0   \n",
       "TCGA-CN-A49C-01A       0.0       0.0       0.0       0.0       0.0       0.0   \n",
       "\n",
       "                 13        24        30        34         ... 100652795  \\\n",
       "TCGA-BA-A4IG-01A     0.504       0.0       0.0       0.0  ...       0.0   \n",
       "TCGA-CN-4731-01A    0.4264   -0.5391   -0.5456   -0.5391  ...       0.0   \n",
       "TCGA-CN-A49C-01A     0.763       0.0       0.0       0.0  ...       0.0   \n",
       "\n",
       "                 100652800 2104      9534      359762    730087    100101266  \\\n",
       "TCGA-BA-A4IG-01A       0.0       0.0       0.0       0.0       0.0       0.0   \n",
       "TCGA-CN-4731-01A       0.0       0.0       0.0       0.0       0.0       0.0   \n",
       "TCGA-CN-A49C-01A       0.0       0.0       0.0       0.0       0.0       0.0   \n",
       "\n",
       "                 100419711 100421702 100505851  \n",
       "TCGA-BA-A4IG-01A       0.0       0.0       0.0  \n",
       "TCGA-CN-4731-01A       0.0       0.0       0.0  \n",
       "TCGA-CN-A49C-01A       0.0       0.0       0.0  \n",
       "\n",
       "[3 rows x 31922 columns]"
      ]
     },
     "execution_count": 16,
     "metadata": {},
     "output_type": "execute_result"
    }
   ],
   "source": [
    "# read TCGA CNA dataset (Cetuximab)\n",
    "\n",
    "TCGACcetuximab = pd.read_csv(\"TCGA_CNA.Cetuximab.tsv\",\n",
    "                        sep=\"\\t\", index_col=0, decimal=\",\")\n",
    "TCGACcetuximab.drop_duplicates(keep='last')\n",
    "TCGACcetuximab = pd.DataFrame.transpose(TCGACcetuximab)\n",
    "TCGACcetuximab = TCGACcetuximab.loc[:, ~TCGACcetuximab.columns.duplicated()]\n",
    "\n",
    "TCGACcetuximab.head(3)"
   ]
  },
  {
   "cell_type": "code",
   "execution_count": 17,
   "metadata": {},
   "outputs": [],
   "source": [
    "# variance threshold for GDSC expression dataset (EGFRi)\n",
    "\n",
    "selector = VarianceThreshold(0.05)\n",
    "selector.fit_transform(GDSCE)\n",
    "GDSCE = GDSCE[GDSCE.columns[selector.get_support(indices=True)]]"
   ]
  },
  {
   "cell_type": "code",
   "execution_count": 18,
   "metadata": {},
   "outputs": [],
   "source": [
    "# fill NA values and binarize GDSC CNA dataset (EGFRi)\n",
    "\n",
    "GDSCC = GDSCC.fillna(0)\n",
    "GDSCC[GDSCC != 0.0] = 1"
   ]
  },
  {
   "cell_type": "code",
   "execution_count": 19,
   "metadata": {},
   "outputs": [
    {
     "name": "stdout",
     "output_type": "stream",
     "text": [
      "GDSC and TCGA# of common genes: 16389\n"
     ]
    }
   ],
   "source": [
    "# select shared genes between GDSC and TCGA expression and CNA datasets \n",
    "\n",
    "ls = GDSCE.columns.intersection(GDSCC.columns)\n",
    "ls = ls.intersection(TCGAEcetuximab.columns)\n",
    "ls = ls.intersection(TCGACcetuximab.columns)\n",
    "\n",
    "ls = pd.unique(ls)\n",
    "\n",
    "print(f\"GDSC and TCGA# of common genes: {ls.shape[0]}\")"
   ]
  },
  {
   "cell_type": "code",
   "execution_count": 20,
   "metadata": {},
   "outputs": [
    {
     "name": "stdout",
     "output_type": "stream",
     "text": [
      "GDSC # of common cell lines: 800\n"
     ]
    }
   ],
   "source": [
    "# select shared samples between GDSC expression and response datasets (EGFRi)\n",
    "\n",
    "ls2 = GDSCE.index.intersection(GDSCC.index)\n",
    "ls2 = ls2.intersection(GDSCR.index)\n",
    "\n",
    "print(f\"GDSC # of common cell lines: {ls2.shape[0]}\")"
   ]
  },
  {
   "cell_type": "code",
   "execution_count": 21,
   "metadata": {},
   "outputs": [
    {
     "name": "stdout",
     "output_type": "stream",
     "text": [
      "GDSC # of common samples and genes (Expression): (800, 16389)\n",
      "GDSC # of common samples and genes (CNA): (800, 16389)\n",
      "GDSC # of samples (Response): 4876\n"
     ]
    }
   ],
   "source": [
    "# subset shared genes and samples in GDSC expression, CNA, and response datasets\n",
    "\n",
    "GDSCE = GDSCE.loc[ls2, ls]\n",
    "GDSCC = GDSCC.loc[ls2, ls]\n",
    "GDSCR = GDSCR.loc[ls2, :]\n",
    "\n",
    "print(f\"GDSC # of common samples and genes (Expression): {GDSCE.shape}\")\n",
    "print(f\"GDSC # of common samples and genes (CNA): {GDSCC.shape}\")\n",
    "print(f\"GDSC # of samples (Response): {GDSCR.shape[0]}\")"
   ]
  },
  {
   "cell_type": "code",
   "execution_count": 22,
   "metadata": {},
   "outputs": [
    {
     "name": "stdout",
     "output_type": "stream",
     "text": [
      "TCGA # of common samples (Cetuximab): 9\n"
     ]
    }
   ],
   "source": [
    "# select shared samples between TCGA expression and CNA datasets (Cetuximab) \n",
    "\n",
    "ls3 = TCGAEcetuximab.index.intersection(TCGACcetuximab.index)\n",
    "\n",
    "print(f\"TCGA # of common samples (Cetuximab): {ls3.shape[0]}\")"
   ]
  },
  {
   "cell_type": "code",
   "execution_count": 23,
   "metadata": {},
   "outputs": [
    {
     "name": "stdout",
     "output_type": "stream",
     "text": [
      "TCGA # of common samples and genes for Expression (Cetuximab): (9, 16389)\n",
      "TCGA # of common samples and genes for CNA (Cetuximab): (9, 16389)\n",
      "\n"
     ]
    }
   ],
   "source": [
    "# select shared genes and samples between TCGA expression and CNA datasets (Cetuximab)\n",
    "\n",
    "TCGAEcetuximab = TCGAEcetuximab.loc[ls3, ls]\n",
    "TCGACcetuximab = TCGACcetuximab.loc[ls3, ls]\n",
    "\n",
    "print(f\"TCGA # of common samples and genes for Expression (Cetuximab): {TCGAEcetuximab.shape}\")\n",
    "print(f\"TCGA # of common samples and genes for CNA (Cetuximab): {TCGACcetuximab.shape}\\n\")"
   ]
  },
  {
   "cell_type": "code",
   "execution_count": 24,
   "metadata": {},
   "outputs": [
    {
     "name": "stdout",
     "output_type": "stream",
     "text": [
      "/Volumes/Expansion/Thesis Work/Results/GDSC_DEGs_inhibitors/EGFRi\n"
     ]
    }
   ],
   "source": [
    "# change directory to read DEGs (EGFRi)\n",
    "\n",
    "os.chdir(DEGs_dir)\n",
    "print(os.getcwd())"
   ]
  },
  {
   "cell_type": "code",
   "execution_count": 25,
   "metadata": {},
   "outputs": [
    {
     "name": "stdout",
     "output_type": "stream",
     "text": [
      "There are 1028 DEGs (p-adjusted < 0.05 and |logFC| > 1) among EGFR signaling inhibitors\n",
      "\n"
     ]
    },
    {
     "data": {
      "text/html": [
       "<div>\n",
       "<style scoped>\n",
       "    .dataframe tbody tr th:only-of-type {\n",
       "        vertical-align: middle;\n",
       "    }\n",
       "\n",
       "    .dataframe tbody tr th {\n",
       "        vertical-align: top;\n",
       "    }\n",
       "\n",
       "    .dataframe thead th {\n",
       "        text-align: right;\n",
       "    }\n",
       "</style>\n",
       "<table border=\"1\" class=\"dataframe\">\n",
       "  <thead>\n",
       "    <tr style=\"text-align: right;\">\n",
       "      <th></th>\n",
       "      <th>Gene Symbol</th>\n",
       "      <th>Frequency</th>\n",
       "    </tr>\n",
       "  </thead>\n",
       "  <tbody>\n",
       "    <tr>\n",
       "      <th>0</th>\n",
       "      <td>MYOF</td>\n",
       "      <td>9</td>\n",
       "    </tr>\n",
       "    <tr>\n",
       "      <th>1</th>\n",
       "      <td>TM4SF1</td>\n",
       "      <td>8</td>\n",
       "    </tr>\n",
       "    <tr>\n",
       "      <th>2</th>\n",
       "      <td>KRT18</td>\n",
       "      <td>8</td>\n",
       "    </tr>\n",
       "    <tr>\n",
       "      <th>3</th>\n",
       "      <td>WWC1</td>\n",
       "      <td>8</td>\n",
       "    </tr>\n",
       "    <tr>\n",
       "      <th>4</th>\n",
       "      <td>CAV1</td>\n",
       "      <td>8</td>\n",
       "    </tr>\n",
       "  </tbody>\n",
       "</table>\n",
       "</div>"
      ],
      "text/plain": [
       "  Gene Symbol  Frequency\n",
       "0        MYOF          9\n",
       "1      TM4SF1          8\n",
       "2       KRT18          8\n",
       "3        WWC1          8\n",
       "4        CAV1          8"
      ]
     },
     "execution_count": 25,
     "metadata": {},
     "output_type": "execute_result"
    }
   ],
   "source": [
    "# read DEGs (EGFRi)\n",
    "\n",
    "DEGs_filtered_data = pd.read_excel(\"EGFRi_Differentially_Expressed_Genes (EnsemblID).xlsx\",\n",
    "                                    sheet_name = \"Common DEGs\")\n",
    "print(f\"There are {DEGs_filtered_data.shape[0]} DEGs (p-adjusted < 0.05 and |logFC| > 1) among EGFR signaling inhibitors\\n\")\n",
    "\n",
    "DEGs_filtered_data.head()"
   ]
  },
  {
   "cell_type": "code",
   "execution_count": 26,
   "metadata": {},
   "outputs": [
    {
     "name": "stderr",
     "output_type": "stream",
     "text": [
      "2 input query terms found dup hits:\t[('CLECL1P', 2), ('CAST', 2)]\n",
      "1 input query terms found no hit:\t['SLC22A18']\n"
     ]
    },
    {
     "data": {
      "text/plain": [
       "1028"
      ]
     },
     "execution_count": 26,
     "metadata": {},
     "output_type": "execute_result"
    }
   ],
   "source": [
    "# get gene symbol from mygene database\n",
    "\n",
    "mg = mygene.MyGeneInfo()\n",
    "DEGs_entrez_id = mg.querymany(DEGs_filtered_data[\"Gene Symbol\"], \n",
    "                              species=\"human\", \n",
    "                              scopes = \"symbol\",\n",
    "                              field = \"entrezgene\",\n",
    "                              as_dataframe=True)[\"entrezgene\"]\n",
    "DEGs_entrez_id = pd.unique(DEGs_entrez_id.dropna())\n",
    "DEGs_entrez_id = pd.Series(DEGs_entrez_id)\n",
    "\n",
    "result = mg.query(\"SLC22A18\", species=\"human\", scopes=\"symbol\", fields=\"entrezgene\")\n",
    "DEGs_entrez_id = pd.concat([DEGs_entrez_id, pd.Series(str(result[\"hits\"][1][\"entrezgene\"]))], ignore_index=True)\n",
    "\n",
    "DEGs_entrez_id.shape[0]"
   ]
  },
  {
   "cell_type": "code",
   "execution_count": 27,
   "metadata": {},
   "outputs": [],
   "source": [
    "# assign GDSC data to new variables\n",
    "\n",
    "exprs_z = GDSCE\n",
    "cna = GDSCC\n",
    "responses = GDSCR"
   ]
  },
  {
   "cell_type": "code",
   "execution_count": 28,
   "metadata": {},
   "outputs": [
    {
     "data": {
      "text/html": [
       "<div>\n",
       "<style scoped>\n",
       "    .dataframe tbody tr th:only-of-type {\n",
       "        vertical-align: middle;\n",
       "    }\n",
       "\n",
       "    .dataframe tbody tr th {\n",
       "        vertical-align: top;\n",
       "    }\n",
       "\n",
       "    .dataframe thead th {\n",
       "        text-align: right;\n",
       "    }\n",
       "</style>\n",
       "<table border=\"1\" class=\"dataframe\">\n",
       "  <thead>\n",
       "    <tr style=\"text-align: right;\">\n",
       "      <th></th>\n",
       "      <th>response</th>\n",
       "      <th>logIC50</th>\n",
       "      <th>drug</th>\n",
       "      <th>exprs</th>\n",
       "      <th>CNA</th>\n",
       "      <th>mutations</th>\n",
       "    </tr>\n",
       "  </thead>\n",
       "  <tbody>\n",
       "    <tr>\n",
       "      <th>683665</th>\n",
       "      <td>0</td>\n",
       "      <td>1.49001536063508</td>\n",
       "      <td>Afatinib</td>\n",
       "      <td>1</td>\n",
       "      <td>1</td>\n",
       "      <td>1</td>\n",
       "    </tr>\n",
       "    <tr>\n",
       "      <th>683665</th>\n",
       "      <td>0</td>\n",
       "      <td>6.29444657935625</td>\n",
       "      <td>Cetuximab</td>\n",
       "      <td>1</td>\n",
       "      <td>1</td>\n",
       "      <td>1</td>\n",
       "    </tr>\n",
       "    <tr>\n",
       "      <th>683665</th>\n",
       "      <td>0</td>\n",
       "      <td>-1.50094791622811</td>\n",
       "      <td>CUDC-101</td>\n",
       "      <td>1</td>\n",
       "      <td>1</td>\n",
       "      <td>1</td>\n",
       "    </tr>\n",
       "  </tbody>\n",
       "</table>\n",
       "</div>"
      ],
      "text/plain": [
       "        response            logIC50       drug  exprs  CNA  mutations\n",
       "683665         0   1.49001536063508   Afatinib      1    1          1\n",
       "683665         0   6.29444657935625  Cetuximab      1    1          1\n",
       "683665         0  -1.50094791622811   CUDC-101      1    1          1"
      ]
     },
     "execution_count": 28,
     "metadata": {},
     "output_type": "execute_result"
    }
   ],
   "source": [
    "# GDSC response dataset\n",
    "\n",
    "responses.head(3)"
   ]
  },
  {
   "cell_type": "code",
   "execution_count": 29,
   "metadata": {
    "scrolled": true
   },
   "outputs": [
    {
     "data": {
      "text/plain": [
       "{'Afatinib',\n",
       " 'CUDC-101',\n",
       " 'Cetuximab',\n",
       " 'EKB-569',\n",
       " 'Erlotinib',\n",
       " 'Gefitinib',\n",
       " 'HG-5-88-01',\n",
       " 'Lapatinib'}"
      ]
     },
     "execution_count": 29,
     "metadata": {},
     "output_type": "execute_result"
    }
   ],
   "source": [
    "# list drug names in GDSC response dataset\n",
    "\n",
    "drugs = set(responses[\"drug\"].values)\n",
    "drugs"
   ]
  },
  {
   "cell_type": "code",
   "execution_count": 30,
   "metadata": {},
   "outputs": [
    {
     "data": {
      "text/plain": [
       "Index([683665, 683665, 683665, 683665, 683665, 683665, 683665, 683665, 683667,\n",
       "       683667,\n",
       "       ...\n",
       "       910930, 910941, 910941, 924248, 924248, 924248, 906849, 906849, 949162,\n",
       "       949162],\n",
       "      dtype='int64', length=4876)"
      ]
     },
     "execution_count": 30,
     "metadata": {},
     "output_type": "execute_result"
    }
   ],
   "source": [
    "# convert Entrez gene IDs to integer\n",
    "\n",
    "responses.index = responses.index.astype(int)\n",
    "responses.index"
   ]
  },
  {
   "cell_type": "code",
   "execution_count": 31,
   "metadata": {},
   "outputs": [
    {
     "data": {
      "text/plain": [
       "GDSC\\nTissue descriptor 1\n",
       "lung_NSCLC           509\n",
       "leukemia             472\n",
       "urogenital_system    452\n",
       "lymphoma             428\n",
       "aero_dig_tract       348\n",
       "nervous_system       320\n",
       "lung_SCLC            307\n",
       "skin                 287\n",
       "breast               257\n",
       "large_intestine      242\n",
       "digestive_system     230\n",
       "bone                 228\n",
       "neuroblastoma        189\n",
       "pancreas             132\n",
       "kidney               119\n",
       "myeloma               99\n",
       "soft_tissue           96\n",
       "lung                  84\n",
       "thyroid               77\n",
       "Name: count, dtype: int64"
      ]
     },
     "execution_count": 31,
     "metadata": {},
     "output_type": "execute_result"
    }
   ],
   "source": [
    "# merge GDSC cell line details with response dataset\n",
    "\n",
    "dat = pd.merge(GDSC_cell_line_details,\n",
    "         responses,\n",
    "         left_index = True, \n",
    "         right_index=True,\n",
    "         how = \"inner\")\n",
    "\n",
    "dat[\"GDSC\\nTissue descriptor 1\"].value_counts()\n",
    "#dat.head()"
   ]
  },
  {
   "cell_type": "code",
   "execution_count": 32,
   "metadata": {},
   "outputs": [
    {
     "data": {
      "text/plain": [
       "GDSC\\nTissue descriptor 1\n",
       "lung_NSCLC           87\n",
       "urogenital_system    76\n",
       "leukemia             66\n",
       "lymphoma             56\n",
       "aero_dig_tract       56\n",
       "nervous_system       47\n",
       "skin                 44\n",
       "breast               41\n",
       "lung_SCLC            39\n",
       "digestive_system     37\n",
       "bone                 34\n",
       "large_intestine      33\n",
       "pancreas             20\n",
       "kidney               19\n",
       "neuroblastoma        19\n",
       "soft_tissue          16\n",
       "myeloma              13\n",
       "lung                 11\n",
       "thyroid              11\n",
       "Name: count, dtype: int64"
      ]
     },
     "execution_count": 32,
     "metadata": {},
     "output_type": "execute_result"
    }
   ],
   "source": [
    "# list count of cell lines as to tissues treated with cetuximab\n",
    "\n",
    "filter = (dat[\"drug\"] == \"Cetuximab\")\n",
    "dat.loc[filter,\"GDSC\\nTissue descriptor 1\"].value_counts()"
   ]
  },
  {
   "cell_type": "code",
   "execution_count": 33,
   "metadata": {},
   "outputs": [
    {
     "data": {
      "text/plain": [
       "Index(['683665', '683665', '683665', '683665', '683665', '683665', '683665',\n",
       "       '683665', '683667', '683667',\n",
       "       ...\n",
       "       '910930', '910941', '910941', '924248', '924248', '924248', '906849',\n",
       "       '906849', '949162', '949162'],\n",
       "      dtype='object', length=4876)"
      ]
     },
     "execution_count": 33,
     "metadata": {},
     "output_type": "execute_result"
    }
   ],
   "source": [
    "# convert Entrez gene IDs to string\n",
    "\n",
    "responses.index = responses.index.astype(str)\n",
    "responses.index"
   ]
  },
  {
   "cell_type": "code",
   "execution_count": 34,
   "metadata": {},
   "outputs": [
    {
     "name": "stdout",
     "output_type": "stream",
     "text": [
      "GDSC # of common samples and genes (Expression): (4876, 941)\n",
      "GDSC # of common samples and genes (CNA): (4876, 941)\n",
      "GDSC # of common samples (Response): 4876\n",
      "\n",
      "TCGA # of common samples and genes for Cetuximab (Expression): (9, 941)\n",
      "TCGA # of common samples and genes for Cetuximab (CNA): (9, 941)\n",
      "\n"
     ]
    }
   ],
   "source": [
    "# filter GDSC expression and CNA datasets (EGFRi) as to drugs\n",
    "# subset selected DEGs\n",
    "\n",
    "expression_zscores = []\n",
    "CNA = []\n",
    "for drug in drugs:\n",
    "    samples = responses.loc[responses[\"drug\"] == drug, :].index.values\n",
    "    e_z = exprs_z.loc[samples, :]\n",
    "    c = cna.loc[samples, :]\n",
    "    expression_zscores.append(e_z)\n",
    "    CNA.append(c)\n",
    "\n",
    "GDSCEv2 = pd.concat(expression_zscores, axis=0)\n",
    "GDSCCv2 = pd.concat(CNA, axis=0)\n",
    "GDSCRv2 = responses\n",
    "\n",
    "ls4 = list(set(GDSCE.columns).intersection(set(DEGs_entrez_id.astype(int))))\n",
    "ls5 = GDSCEv2.index.intersection(GDSCCv2.index)\n",
    "\n",
    "GDSCEv2 = GDSCEv2.loc[ls5, ls4]\n",
    "GDSCCv2 = GDSCCv2.loc[ls5, ls4]\n",
    "GDSCRv2 = GDSCRv2.loc[ls5, :]\n",
    "\n",
    "TCGAEcetuximab = TCGAEcetuximab.loc[:,ls4]\n",
    "TCGACcetuximab = TCGACcetuximab.loc[:,ls4]\n",
    "\n",
    "responses.index = responses.index.values + \"_\" + responses[\"drug\"].values\n",
    "\n",
    "print(f\"GDSC # of common samples and genes (Expression): {GDSCEv2.shape}\")\n",
    "print(f\"GDSC # of common samples and genes (CNA): {GDSCCv2.shape}\")\n",
    "print(f\"GDSC # of common samples (Response): {GDSCRv2.shape[0]}\\n\")\n",
    "\n",
    "print(f\"TCGA # of common samples and genes for Cetuximab (Expression): {TCGAEcetuximab.shape}\")\n",
    "print(f\"TCGA # of common samples and genes for Cetuximab (CNA): {TCGACcetuximab.shape}\\n\")"
   ]
  },
  {
   "cell_type": "code",
   "execution_count": 35,
   "metadata": {},
   "outputs": [
    {
     "name": "stdout",
     "output_type": "stream",
     "text": [
      "[0 0 0 ... 1 0 0]\n"
     ]
    }
   ],
   "source": [
    "# GDSC response values\n",
    "\n",
    "Y = GDSCRv2['response'].values\n",
    "print(Y)"
   ]
  },
  {
   "cell_type": "code",
   "execution_count": 36,
   "metadata": {},
   "outputs": [
    {
     "data": {
      "text/plain": [
       "'/Volumes/Expansion/Thesis Work/Results/preprocessed_results2/response'"
      ]
     },
     "execution_count": 36,
     "metadata": {},
     "output_type": "execute_result"
    }
   ],
   "source": [
    "# change directory to read TCGA response dataset (Cetuximab)\n",
    "\n",
    "os.chdir(dataset_dir + \"response\")\n",
    "os.getcwd()"
   ]
  },
  {
   "cell_type": "code",
   "execution_count": 37,
   "metadata": {},
   "outputs": [
    {
     "name": "stdout",
     "output_type": "stream",
     "text": [
      "There are 9 samples with response data in the TCGA (Cetuximab)\n",
      "\n"
     ]
    },
    {
     "data": {
      "text/plain": [
       "array([1, 0, 1, 1, 1, 1, 0, 0, 1])"
      ]
     },
     "execution_count": 37,
     "metadata": {},
     "output_type": "execute_result"
    }
   ],
   "source": [
    "# read TCGA response dataset (Cetuximab)\n",
    "\n",
    "TCGARcetuximab = pd.read_csv(\"TCGA_response.Cetuximab.tsv\", \n",
    "                      sep = \"\\t\", \n",
    "                      index_col=0, \n",
    "                      decimal = \",\")\n",
    "TCGARcetuximab.dropna(inplace=True)\n",
    "TCGARcetuximab.rename(mapper=str, axis='index', inplace=True)\n",
    "d = {\"R\": 0, \"S\": 1}\n",
    "TCGARcetuximab[\"response\"] = TCGARcetuximab.loc[:, \"response\"].apply(lambda x: d[x])\n",
    "Ytscetuximab = TCGARcetuximab[\"response\"].values    \n",
    "\n",
    "print(f\"There are {Ytscetuximab.shape[0]} samples with response data in the TCGA (Cetuximab)\\n\")\n",
    "Ytscetuximab"
   ]
  },
  {
   "cell_type": "code",
   "execution_count": 38,
   "metadata": {},
   "outputs": [
    {
     "data": {
      "text/plain": [
       "cohort\n",
       "HNSC    9\n",
       "Name: count, dtype: int64"
      ]
     },
     "execution_count": 38,
     "metadata": {},
     "output_type": "execute_result"
    }
   ],
   "source": [
    "# TCGA cohort table with TCGA response dataset (Cetuximab)\n",
    "\n",
    "dat_tcga = TCGARcetuximab[\"cohort\"]\n",
    "\n",
    "dat_tcga.value_counts()"
   ]
  },
  {
   "cell_type": "code",
   "execution_count": 39,
   "metadata": {},
   "outputs": [
    {
     "data": {
      "text/plain": [
       "Index(['TCGA-BA-A4IG-01A', 'TCGA-CN-4731-01A', 'TCGA-CN-A49C-01A',\n",
       "       'TCGA-CN-A6V1-01A', 'TCGA-CR-7404-01A', 'TCGA-DQ-7596-01A',\n",
       "       'TCGA-HD-8224-01A', 'TCGA-KU-A6H8-01A', 'TCGA-RS-A6TO-01A'],\n",
       "      dtype='object', name='sample')"
      ]
     },
     "execution_count": 39,
     "metadata": {},
     "output_type": "execute_result"
    }
   ],
   "source": [
    "# filter HNSC cohort samples (Cetuximab)\n",
    "\n",
    "filter = (TCGARcetuximab[\"cohort\"] == \"HNSC\")\n",
    "tcga_hnsc_samples = dat_tcga.loc[filter,].index\n",
    "tcga_hnsc_samples"
   ]
  },
  {
   "cell_type": "code",
   "execution_count": 40,
   "metadata": {},
   "outputs": [
    {
     "data": {
      "text/plain": [
       "array([1, 0, 1, 1, 1, 1, 0, 0, 1])"
      ]
     },
     "execution_count": 40,
     "metadata": {},
     "output_type": "execute_result"
    }
   ],
   "source": [
    "# filter responses of HNSC cohort samples (Cetuximab)\n",
    "\n",
    "Ytscetuximab_hnsc = TCGARcetuximab.loc[tcga_hnsc_samples,\"response\"].values\n",
    "Ytscetuximab_hnsc"
   ]
  },
  {
   "cell_type": "code",
   "execution_count": 41,
   "metadata": {},
   "outputs": [
    {
     "data": {
      "text/plain": [
       "response\n",
       "1    6\n",
       "0    3\n",
       "Name: count, dtype: int64"
      ]
     },
     "execution_count": 41,
     "metadata": {},
     "output_type": "execute_result"
    }
   ],
   "source": [
    "# count of sensitive and resistance HNSC samples (Cetuximab)\n",
    "\n",
    "TCGARcetuximab.loc[tcga_hnsc_samples,\"response\"].value_counts()"
   ]
  },
  {
   "cell_type": "code",
   "execution_count": 42,
   "metadata": {},
   "outputs": [],
   "source": [
    "# define maximum iteration\n",
    "\n",
    "max_iter = 50"
   ]
  },
  {
   "cell_type": "code",
   "execution_count": 51,
   "metadata": {},
   "outputs": [],
   "source": [
    "# assign number of neurons and dropout rates found for layers from the saved models\n",
    "\n",
    "hdm1 = 512\n",
    "hdm2 = 256\n",
    "rate1 = 0.5\n",
    "rate2 = 0.8\n",
    "rate3 = 0.8"
   ]
  },
  {
   "cell_type": "code",
   "execution_count": 52,
   "metadata": {},
   "outputs": [
    {
     "name": "stdout",
     "output_type": "stream",
     "text": [
      "GDSC - Training AUC (EGFRi): 0.8\n",
      "GDSC - Training AUCPR (EGFRi): 0.37\n",
      "TCGA - Test AUC (Cetuximab): 0.61\n",
      "TCGA - Test AUCPR (Cetuximab): 0.72\n",
      "TCGA - Test AUC (Cetuximab, HNSC): 0.61\n",
      "TCGA - Test AUCPR (Cetuximab, HNSC): 0.72\n",
      "\n",
      "GDSC - Training AUC (EGFRi, Finetuned): 0.73\n",
      "GDSC - Training AUCPR (EGFRi, Finetuned): 0.32\n",
      "TCGA - Test AUC (Cetuximab, Finetuned): 0.83\n",
      "TCGA - Test AUCPR (Cetuximab, Finetuned): 0.93\n",
      "\n",
      "GDSC - Training AUC (EGFRi, Finetuned): 0.73\n",
      "GDSC - Training AUCPR (EGFRi, Finetuned): 0.32\n",
      "TCGA - Test AUC (Cetuximab, HNSC, Finetuned): 0.83\n",
      "TCGA - Test AUCPR (Cetuximab, HNSC, Finetuned): 0.93\n",
      "\n",
      "\n",
      "Models for maximum finetuning (Cetuximab)\n",
      "Exprs_Cetuximab_GDSC_TCGA_EGFRi_Expression_CNA_Finetuned_35.pt\n",
      "CNA_Cetuximab_GDSC_TCGA_EGFRi_Expression_CNA_Finetuned_35.pt\n",
      "Class_Cetuximab_GDSC_TCGA_EGFRi_Expression_CNA_Finetuned_35.pt\n",
      "\n",
      "Models for maximum finetuning (Cetuximab, HNSC)\n",
      "Exprs_Cetuximab_GDSC_TCGA_EGFRi_Expression_CNA_Finetuned_35.pt\n",
      "CNA_Cetuximab_GDSC_TCGA_EGFRi_Expression_CNA_Finetuned_35.pt\n",
      "Class_Cetuximab_GDSC_TCGA_EGFRi_Expression_CNA_Finetuned_35.pt\n"
     ]
    }
   ],
   "source": [
    "# load pre-trained models and make predictions\n",
    "\n",
    "scalerGDSC = sk.StandardScaler()\n",
    "scalerGDSC.fit(GDSCEv2.values)\n",
    "X_trainE = scalerGDSC.transform(GDSCEv2.values)\n",
    "X_testEcetuximab = scalerGDSC.transform(TCGAEcetuximab.values)    \n",
    "\n",
    "X_testEcetuximab = scalerGDSC.transform(TCGAEcetuximab.values)    \n",
    "X_testEcetuximab_hnsc = scalerGDSC.transform(TCGAEcetuximab.loc[tcga_hnsc_samples,].values)    \n",
    "\n",
    "X_trainC = np.nan_to_num(GDSCCv2.values)\n",
    "X_testCcetuximab = np.nan_to_num(TCGACcetuximab.values.astype(np.float32))\n",
    "X_testCcetuximab_hnsc = np.nan_to_num(TCGACcetuximab.loc[tcga_hnsc_samples,].values)\n",
    "\n",
    "TX_testEcetuximab = torch.FloatTensor(X_testEcetuximab)\n",
    "TX_testCcetuximab = torch.FloatTensor(X_testCcetuximab.astype(np.float32))\n",
    "ty_testEcetuximaborouracil = torch.FloatTensor(Ytscetuximab.astype(int))\n",
    "\n",
    "TX_testEcetuximab = torch.FloatTensor(X_testEcetuximab)\n",
    "TX_testEcetuximab_hnsc = torch.FloatTensor(X_testEcetuximab_hnsc)\n",
    "\n",
    "TX_testCcetuximab = torch.FloatTensor(X_testCcetuximab.astype(np.float32))\n",
    "TX_testCcetuximab_hnsc = torch.FloatTensor(X_testCcetuximab_hnsc.astype(np.float32))\n",
    "\n",
    "n_sampE, IE_dim = X_trainE.shape\n",
    "n_sampC, IC_dim = X_trainC.shape\n",
    "\n",
    "h_dim1 = hdm1\n",
    "h_dim2 = hdm2\n",
    "Z_in = h_dim1 + h_dim2\n",
    "\n",
    "class AEE(nn.Module):\n",
    "    def __init__(self):\n",
    "        super(AEE, self).__init__()\n",
    "        self.EnE = torch.nn.Sequential(\n",
    "            nn.Linear(IE_dim, h_dim1),\n",
    "            nn.BatchNorm1d(h_dim1),\n",
    "            nn.ReLU(),\n",
    "            nn.Dropout(rate1))\n",
    "    def forward(self, x):\n",
    "        output = self.EnE(x)\n",
    "        return output        \n",
    "\n",
    "class AEC(nn.Module):\n",
    "    def __init__(self):\n",
    "        super(AEC, self).__init__()\n",
    "        self.EnC = torch.nn.Sequential(\n",
    "            nn.Linear(IC_dim, h_dim2),\n",
    "            nn.BatchNorm1d(h_dim2),\n",
    "            nn.ReLU(),\n",
    "            nn.Dropout(rate2))\n",
    "    def forward(self, x):\n",
    "        output = self.EnC(x)\n",
    "        return output \n",
    "        \n",
    "class Classifier(nn.Module):\n",
    "    def __init__(self):\n",
    "        super(Classifier, self).__init__()\n",
    "        self.FC = torch.nn.Sequential(\n",
    "            nn.Linear(Z_in, 1),\n",
    "            nn.Dropout(rate3),\n",
    "            nn.Sigmoid())\n",
    "    def forward(self, x):\n",
    "        return self.FC(x)\n",
    "\n",
    "torch.cuda.manual_seed_all(42)\n",
    "\n",
    "AutoencoderE = torch.load(models_dir + \"Exprs_Cetuximab_GDSC_TCGA_EGFRi_Expression_CNA.pt\")\n",
    "AutoencoderC = torch.load(models_dir + \"CNA_Cetuximab_GDSC_TCGA_EGFRi_Expression_CNA.pt\")\n",
    "\n",
    "Clas = torch.load(models_dir + \"Class_Cetuximab_GDSC_TCGA_EGFRi_Expression_CNA.pt\")\n",
    "\n",
    "AutoencoderE.eval()\n",
    "AutoencoderC.eval()\n",
    "Clas.eval()\n",
    "\n",
    "ZEX = AutoencoderE(torch.FloatTensor(X_trainE))\n",
    "ZCX = AutoencoderC(torch.FloatTensor(X_trainC))\n",
    "ZTX = torch.cat((ZEX, ZCX), 1)\n",
    "ZTX = F.normalize(ZTX, p=2, dim=0)\n",
    "PredX = Clas(ZTX)\n",
    "AUCT = roc_auc_score(Y, PredX.detach().numpy())\n",
    "#print(f\"GDSC - Training AUC (TCGA_EGFRi): {round(AUCT,2)}\")\n",
    "AUCTaucpr = average_precision_score(Y, PredX.detach().numpy())\n",
    "#print(f\"GDSC - Training AUCPR (TCGA_EGFRi): {round(AUCTaucpr,2)}\\n\")\n",
    "\n",
    "ZETcetuximab = AutoencoderE(TX_testEcetuximab)\n",
    "ZCTcetuximab = AutoencoderC(TX_testCcetuximab)\n",
    "ZTTcetuximab = torch.cat((ZETcetuximab, ZCTcetuximab), 1)\n",
    "ZTTcetuximab = F.normalize(ZTTcetuximab, p=2, dim=0)\n",
    "PredTcetuximab = Clas(ZTTcetuximab)\n",
    "AUCTcetuximab = roc_auc_score(Ytscetuximab.astype(int), PredTcetuximab.detach().numpy())\n",
    "#print(f\"TCGA - Test AUC (Cetuximab): {round(AUCTcetuximab,2)}\")\n",
    "AUCTcetuximab_aucpr = average_precision_score(Ytscetuximab.astype(int), PredTcetuximab.detach().numpy())\n",
    "#print(f\"TCGA - Test AUCPR (Cetuximab): {round(AUCTcetuximab_aucpr,2)}\\n\")\n",
    "\n",
    "ZETcetuximab_hnsc = AutoencoderE(TX_testEcetuximab_hnsc)\n",
    "ZCTcetuximab_hnsc = AutoencoderC(TX_testCcetuximab_hnsc)\n",
    "ZTTcetuximab_hnsc = torch.cat((ZETcetuximab_hnsc, ZCTcetuximab_hnsc), 1)\n",
    "ZTTcetuximab_hnsc = F.normalize(ZTTcetuximab_hnsc, p=2, dim=0)\n",
    "PredTcetuximab_hnsc = Clas(ZTTcetuximab_hnsc)\n",
    "AUCTcetuximab_hnsc = roc_auc_score(Ytscetuximab_hnsc.astype(int), PredTcetuximab_hnsc.detach().numpy())\n",
    "#print(f\"TCGA - Test AUC (cetuximab, BRCA): {round(AUCTcetuximab_hnsc,2)}\")\n",
    "AUCTcetuximab_hnsc_aucpr = average_precision_score(Ytscetuximab_hnsc.astype(int), PredTcetuximab_hnsc.detach().numpy())\n",
    "#print(f\"TCGA - Test AUCPR (cetuximab, BRCA): {round(AUCTcetuximab_hnsc_aucpr,2)}\")\n",
    "\n",
    "AUCT_finetuned = dict()\n",
    "AUCTaucpr_finetuned = dict()\n",
    "AUCTcetuximab_finetuned = dict()\n",
    "AUCTcetuximab_hnsc_finetuned = dict()\n",
    "AUCTcetuximab_aucpr_finetuned = dict()\n",
    "AUCTcetuximab_hnsc_aucpr_finetuned = dict()\n",
    "for iter in range(max_iter):\n",
    "   iter += 1  \n",
    "\n",
    "   AutoencoderE_finetuned = torch.load(models_dir + f\"Finetuned_Models/Exprs_Cetuximab_GDSC_TCGA_EGFRi_Expression_CNA_Finetuned_{iter}.pt\")\n",
    "   AutoencoderC_finetuned = torch.load(models_dir + f\"Finetuned_Models/CNA_Cetuximab_GDSC_TCGA_EGFRi_Expression_CNA_Finetuned_{iter}.pt\")\n",
    "   Clas_finetuned = torch.load(models_dir + f\"Finetuned_Models/Class_Cetuximab_GDSC_TCGA_EGFRi_Expression_CNA_Finetuned_{iter}.pt\")\n",
    "   \n",
    "   AutoencoderE_finetuned.eval()\n",
    "   AutoencoderC_finetuned.eval()\n",
    "   Clas_finetuned.eval()\n",
    "      \n",
    "   ZEX = AutoencoderE_finetuned(torch.FloatTensor(X_trainE))\n",
    "   ZCX = AutoencoderC_finetuned(torch.FloatTensor(X_trainC))\n",
    "   ZTX = torch.cat((ZEX, ZCX), 1)\n",
    "   ZTX = F.normalize(ZTX, p=2, dim=0)\n",
    "   PredX = Clas_finetuned(ZTX)\n",
    "   AUCT_finetuned[iter] = roc_auc_score(Y, PredX.detach().numpy())\n",
    "   AUCTaucpr_finetuned[iter] = average_precision_score(Y, PredX.detach().numpy())\n",
    "   \n",
    "   ZETcetuximab = AutoencoderE_finetuned(TX_testEcetuximab)\n",
    "   ZCTcetuximab = AutoencoderC_finetuned(TX_testCcetuximab)\n",
    "   ZTTcetuximab = torch.cat((ZETcetuximab, ZCTcetuximab), 1)\n",
    "   ZTTcetuximab = F.normalize(ZTTcetuximab, p=2, dim=0)\n",
    "   PredTcetuximab = Clas_finetuned(ZTTcetuximab)\n",
    "   AUCTcetuximab_finetuned[iter] = roc_auc_score(Ytscetuximab.astype(int), PredTcetuximab.detach().numpy())\n",
    "   AUCTcetuximab_aucpr_finetuned[iter] = average_precision_score(Ytscetuximab.astype(int), PredTcetuximab.detach().numpy())\n",
    "\n",
    "   ZETcetuximab_hnsc = AutoencoderE_finetuned(TX_testEcetuximab_hnsc)\n",
    "   ZCTcetuximab_hnsc = AutoencoderC_finetuned(TX_testCcetuximab_hnsc)\n",
    "   ZTTcetuximab_hnsc = torch.cat((ZETcetuximab_hnsc, ZCTcetuximab_hnsc), 1)\n",
    "   ZTTcetuximab_hnsc = F.normalize(ZTTcetuximab_hnsc, p=2, dim=0)\n",
    "   PredTcetuximab_hnsc = Clas_finetuned(ZTTcetuximab_hnsc)\n",
    "   AUCTcetuximab_hnsc_finetuned[iter] = roc_auc_score(Ytscetuximab_hnsc.astype(int), PredTcetuximab_hnsc.detach().numpy())\n",
    "   AUCTcetuximab_hnsc_aucpr_finetuned[iter] = average_precision_score(Ytscetuximab_hnsc.astype(int), PredTcetuximab_hnsc.detach().numpy())\n",
    "\n",
    "max_key = max(AUCTcetuximab_aucpr_finetuned, key=AUCTcetuximab_aucpr_finetuned.get)\n",
    "max_key_hnsc = max(AUCTcetuximab_hnsc_aucpr_finetuned, key=AUCTcetuximab_hnsc_aucpr_finetuned.get)\n",
    "\n",
    "print(f\"GDSC - Training AUC (EGFRi): {round(AUCT,2)}\")\n",
    "print(f\"GDSC - Training AUCPR (EGFRi): {round(AUCTaucpr,2)}\")\n",
    "print(f\"TCGA - Test AUC (Cetuximab): {round(AUCTcetuximab,2)}\")\n",
    "print(f\"TCGA - Test AUCPR (Cetuximab): {round(AUCTcetuximab_aucpr,2)}\")\n",
    "print(f\"TCGA - Test AUC (Cetuximab, HNSC): {round(AUCTcetuximab_hnsc,2)}\")\n",
    "print(f\"TCGA - Test AUCPR (Cetuximab, HNSC): {round(AUCTcetuximab_hnsc_aucpr,2)}\\n\")\n",
    "\n",
    "print(f\"GDSC - Training AUC (EGFRi, Finetuned): {round(AUCT_finetuned[max_key],2)}\")\n",
    "print(f\"GDSC - Training AUCPR (EGFRi, Finetuned): {round(AUCTaucpr_finetuned[max_key],2)}\")\n",
    "print(f\"TCGA - Test AUC (Cetuximab, Finetuned): {round(AUCTcetuximab_finetuned[max_key],2)}\")\n",
    "print(f\"TCGA - Test AUCPR (Cetuximab, Finetuned): {round(AUCTcetuximab_aucpr_finetuned[max_key],2)}\\n\")\n",
    "\n",
    "print(f\"GDSC - Training AUC (EGFRi, Finetuned): {round(AUCT_finetuned[max_key_hnsc],2)}\")\n",
    "print(f\"GDSC - Training AUCPR (EGFRi, Finetuned): {round(AUCTaucpr_finetuned[max_key_hnsc],2)}\")\n",
    "print(f\"TCGA - Test AUC (Cetuximab, HNSC, Finetuned): {round(AUCTcetuximab_hnsc_finetuned[max_key_hnsc],2)}\")\n",
    "print(f\"TCGA - Test AUCPR (Cetuximab, HNSC, Finetuned): {round(AUCTcetuximab_hnsc_aucpr_finetuned[max_key_hnsc],2)}\\n\\n\")\n",
    "\n",
    "print(\"Models for maximum finetuning (Cetuximab)\")\n",
    "print(f\"Exprs_Cetuximab_GDSC_TCGA_EGFRi_Expression_CNA_Finetuned_{max_key}.pt\")\n",
    "print(f\"CNA_Cetuximab_GDSC_TCGA_EGFRi_Expression_CNA_Finetuned_{max_key}.pt\")\n",
    "print(f\"Class_Cetuximab_GDSC_TCGA_EGFRi_Expression_CNA_Finetuned_{max_key}.pt\")\n",
    "\n",
    "print(\"\\nModels for maximum finetuning (Cetuximab, HNSC)\")\n",
    "print(f\"Exprs_Cetuximab_GDSC_TCGA_EGFRi_Expression_CNA_Finetuned_{max_key_hnsc}.pt\")\n",
    "print(f\"CNA_Cetuximab_GDSC_TCGA_EGFRi_Expression_CNA_Finetuned_{max_key_hnsc}.pt\")\n",
    "print(f\"Class_Cetuximab_GDSC_TCGA_EGFRi_Expression_CNA_Finetuned_{max_key_hnsc}.pt\")"
   ]
  },
  {
   "cell_type": "code",
   "execution_count": 53,
   "metadata": {},
   "outputs": [
    {
     "data": {
      "text/html": [
       "<div>\n",
       "<style scoped>\n",
       "    .dataframe tbody tr th:only-of-type {\n",
       "        vertical-align: middle;\n",
       "    }\n",
       "\n",
       "    .dataframe tbody tr th {\n",
       "        vertical-align: top;\n",
       "    }\n",
       "\n",
       "    .dataframe thead th {\n",
       "        text-align: right;\n",
       "    }\n",
       "</style>\n",
       "<table border=\"1\" class=\"dataframe\">\n",
       "  <thead>\n",
       "    <tr style=\"text-align: right;\">\n",
       "      <th></th>\n",
       "      <th>Data</th>\n",
       "      <th>AUC (GDSC)</th>\n",
       "      <th>AUCPR (GDSC)</th>\n",
       "      <th>AUC (TCGA)</th>\n",
       "      <th>AUCPR (TCGA)</th>\n",
       "      <th>AUC (TCGA-HNSC)</th>\n",
       "      <th>AUCPR (TCGA-HNSC)</th>\n",
       "      <th>Sample Size (GDSC)</th>\n",
       "      <th>Feature Size (GDSC)</th>\n",
       "    </tr>\n",
       "  </thead>\n",
       "  <tbody>\n",
       "    <tr>\n",
       "      <th>0</th>\n",
       "      <td>Expr + CNA</td>\n",
       "      <td>0.8</td>\n",
       "      <td>0.37</td>\n",
       "      <td>0.61</td>\n",
       "      <td>0.72</td>\n",
       "      <td>0.61</td>\n",
       "      <td>0.72</td>\n",
       "      <td>4876</td>\n",
       "      <td>941</td>\n",
       "    </tr>\n",
       "    <tr>\n",
       "      <th>1</th>\n",
       "      <td>Expr + CNA (Fine-tuned)</td>\n",
       "      <td>0.73</td>\n",
       "      <td>0.32</td>\n",
       "      <td>0.83</td>\n",
       "      <td>0.93</td>\n",
       "      <td>0.83</td>\n",
       "      <td>0.93</td>\n",
       "      <td>4876</td>\n",
       "      <td>941</td>\n",
       "    </tr>\n",
       "  </tbody>\n",
       "</table>\n",
       "</div>"
      ],
      "text/plain": [
       "                      Data AUC (GDSC) AUCPR (GDSC) AUC (TCGA) AUCPR (TCGA)  \\\n",
       "0               Expr + CNA        0.8         0.37       0.61         0.72   \n",
       "1  Expr + CNA (Fine-tuned)       0.73         0.32       0.83         0.93   \n",
       "\n",
       "  AUC (TCGA-HNSC) AUCPR (TCGA-HNSC) Sample Size (GDSC) Feature Size (GDSC)  \n",
       "0            0.61              0.72               4876                 941  \n",
       "1            0.83              0.93               4876                 941  "
      ]
     },
     "execution_count": 53,
     "metadata": {},
     "output_type": "execute_result"
    }
   ],
   "source": [
    "# create a dataframe with the prediction results \n",
    "\n",
    "ec = {\"Data\": [\"Expr + CNA\", \"Expr + CNA (Fine-tuned)\"],\n",
    "       \"AUC (GDSC)\": [round(AUCT, 2), round(AUCT_finetuned[max_key], 2)],\n",
    "       \"AUCPR (GDSC)\": [round(AUCTaucpr,2), round(AUCTaucpr_finetuned[max_key],2)],\n",
    "       \"AUC (TCGA)\": [round(AUCTcetuximab,2), round(AUCTcetuximab_finetuned[max_key],2)],\n",
    "       \"AUCPR (TCGA)\":  [round(AUCTcetuximab_aucpr,2), round(AUCTcetuximab_aucpr_finetuned[max_key],2)],\n",
    "       \"AUC (TCGA-HNSC)\":  [round(AUCTcetuximab_hnsc,2), round(AUCTcetuximab_hnsc_finetuned[max_key_hnsc],2)],\n",
    "       \"AUCPR (TCGA-HNSC)\": [round(AUCTcetuximab_hnsc_aucpr,2), round(AUCTcetuximab_hnsc_aucpr_finetuned[max_key_hnsc],2)],\n",
    "       \"Sample Size (GDSC)\": [GDSCEv2.shape[0], GDSCEv2.shape[0]],\n",
    "       \"Feature Size (GDSC)\": [GDSCEv2.shape[1], GDSCEv2.shape[1]] \n",
    "}\n",
    "ec_dataframe = pd.DataFrame.from_dict(ec, orient='index').transpose() \n",
    "\n",
    "ec_dataframe.to_csv(save_results_to + \"GDSC_TCGA_Expression_CNA_EGFRi_Cetuximab.tsv\",\n",
    "                    sep = \"\\t\",\n",
    "                    index = False)\n",
    "\n",
    "ec_dataframe"
   ]
  },
  {
   "cell_type": "code",
   "execution_count": 54,
   "metadata": {},
   "outputs": [
    {
     "data": {
      "text/plain": [
       "AEE(\n",
       "  (EnE): Sequential(\n",
       "    (0): Linear(in_features=941, out_features=512, bias=True)\n",
       "    (1): BatchNorm1d(512, eps=1e-05, momentum=0.1, affine=True, track_running_stats=True)\n",
       "    (2): ReLU()\n",
       "    (3): Dropout(p=0.5, inplace=False)\n",
       "  )\n",
       ")"
      ]
     },
     "execution_count": 54,
     "metadata": {},
     "output_type": "execute_result"
    }
   ],
   "source": [
    "# show expression layer parameters\n",
    "\n",
    "AutoencoderE"
   ]
  },
  {
   "cell_type": "code",
   "execution_count": 55,
   "metadata": {
    "scrolled": true
   },
   "outputs": [
    {
     "data": {
      "text/plain": [
       "AEC(\n",
       "  (EnC): Sequential(\n",
       "    (0): Linear(in_features=941, out_features=256, bias=True)\n",
       "    (1): BatchNorm1d(256, eps=1e-05, momentum=0.1, affine=True, track_running_stats=True)\n",
       "    (2): ReLU()\n",
       "    (3): Dropout(p=0.8, inplace=False)\n",
       "  )\n",
       ")"
      ]
     },
     "execution_count": 55,
     "metadata": {},
     "output_type": "execute_result"
    }
   ],
   "source": [
    "# show CNA layer parameters\n",
    "\n",
    "AutoencoderC"
   ]
  },
  {
   "cell_type": "code",
   "execution_count": 56,
   "metadata": {},
   "outputs": [
    {
     "data": {
      "text/plain": [
       "Classifier(\n",
       "  (FC): Sequential(\n",
       "    (0): Linear(in_features=768, out_features=1, bias=True)\n",
       "    (1): Dropout(p=0.8, inplace=False)\n",
       "    (2): Sigmoid()\n",
       "  )\n",
       ")"
      ]
     },
     "execution_count": 56,
     "metadata": {},
     "output_type": "execute_result"
    }
   ],
   "source": [
    "# show classification layer parameters\n",
    "\n",
    "Clas"
   ]
  },
  {
   "cell_type": "code",
   "execution_count": 57,
   "metadata": {},
   "outputs": [
    {
     "name": "stdout",
     "output_type": "stream",
     "text": [
      "/Volumes/Expansion/Thesis Work/Results/Transfer Learning/Drugs with same pathways/TCGA_EGFRi/Expression_CNA/Predictions\n"
     ]
    }
   ],
   "source": [
    "# change directory\n",
    "\n",
    "os.chdir(save_results_to)\n",
    "print(os.getcwd())"
   ]
  },
  {
   "cell_type": "code",
   "execution_count": 58,
   "metadata": {},
   "outputs": [],
   "source": [
    "# save predictions\n",
    "\n",
    "file = open('GDSC_TCGA_DEGs - TCGA_EGFRi_Cetuximab Predictions (Expression and CNA).txt', 'w')\n",
    "file.write(f\"GDSC Training (EC) AUC (TCGA_EGFRi): {round(AUCT,2)}\\n\")\n",
    "file.write(f\"GDSC Training (EC) AUCPR (TCGA_EGFRi): {round(AUCTaucpr,2)}\\n\\n\")\n",
    "\n",
    "file.write(f\"TCGA Test (EC) AUC (Cetuximab): {round(AUCTcetuximab,2)}\\n\")\n",
    "file.write(f\"TCGA Test (EC) AUCPR (Cetuximab): {round(AUCTcetuximab_aucpr,2)}\\n\\n\")\n",
    "\n",
    "file.close()"
   ]
  }
 ],
 "metadata": {
  "kernelspec": {
   "display_name": "Python 3 (ipykernel)",
   "language": "python",
   "name": "python3"
  },
  "language_info": {
   "codemirror_mode": {
    "name": "ipython",
    "version": 3
   },
   "file_extension": ".py",
   "mimetype": "text/x-python",
   "name": "python",
   "nbconvert_exporter": "python",
   "pygments_lexer": "ipython3",
   "version": "3.12.7"
  }
 },
 "nbformat": 4,
 "nbformat_minor": 4
}
