{
 "cells": [
  {
   "cell_type": "code",
   "execution_count": 1,
   "metadata": {},
   "outputs": [],
   "source": [
    "# import libraries\n",
    "\n",
    "import os\n",
    "import torch \n",
    "import torch.nn as nn\n",
    "import torch.nn.functional as F\n",
    "import torch.optim as optim\n",
    "import numpy as np\n",
    "import matplotlib.pyplot as plt\n",
    "import pandas as pd\n",
    "import math\n",
    "import mygene\n",
    "import sklearn.preprocessing as sk\n",
    "import seaborn as sns\n",
    "from sklearn import metrics\n",
    "from sklearn.feature_selection import VarianceThreshold\n",
    "from sklearn.model_selection import train_test_split\n",
    "from sklearn.metrics import confusion_matrix\n",
    "from sklearn.metrics import classification_report\n",
    "from torch.utils.data.sampler import WeightedRandomSampler\n",
    "from sklearn.metrics import roc_curve, auc\n",
    "from sklearn.metrics import roc_auc_score\n",
    "from sklearn.metrics import average_precision_score, precision_recall_curve\n",
    "import random\n",
    "from random import randint\n",
    "from sklearn.model_selection import StratifiedKFold\n",
    "import warnings\n",
    "\n",
    "# Suppress all warnings\n",
    "warnings.filterwarnings(\"ignore\")"
   ]
  },
  {
   "cell_type": "code",
   "execution_count": 2,
   "metadata": {},
   "outputs": [],
   "source": [
    "# define directories\n",
    "\n",
    "cell_line_dir = \"/Volumes/Expansion/Thesis Work/Supplementary Files/GDSC/\"\n",
    "models_dir = \"/Volumes/Expansion/Thesis Work/Results/Transfer Learning/Drugs with same pathways/TCGA_MITOSISi/Expression_CNA/Models/\"\n",
    "DEGs_dir = \"/Volumes/Expansion/Thesis Work/Results/GDSC_DEGs_inhibitors/MITOSISi/\"\n",
    "dataset_dir = \"/Volumes/Expansion/Thesis Work/Results/preprocessed_results2/\"\n",
    "save_results_to = \"/Volumes/Expansion/Thesis Work/Results/Transfer Learning/Drugs with same pathways/TCGA_MITOSISi/Expression_CNA/Predictions/\""
   ]
  },
  {
   "cell_type": "code",
   "execution_count": 3,
   "metadata": {},
   "outputs": [],
   "source": [
    "# set random seeds\n",
    "\n",
    "torch.manual_seed(42)\n",
    "random.seed(42)"
   ]
  },
  {
   "cell_type": "code",
   "execution_count": 4,
   "metadata": {},
   "outputs": [
    {
     "name": "stdout",
     "output_type": "stream",
     "text": [
      "/Volumes/Expansion/Thesis Work/Supplementary Files/GDSC\n"
     ]
    }
   ],
   "source": [
    "# change directory to read GDSC cell line details\n",
    "\n",
    "os.chdir(cell_line_dir)\n",
    "print(os.getcwd())"
   ]
  },
  {
   "cell_type": "code",
   "execution_count": 5,
   "metadata": {},
   "outputs": [
    {
     "data": {
      "text/html": [
       "<div>\n",
       "<style scoped>\n",
       "    .dataframe tbody tr th:only-of-type {\n",
       "        vertical-align: middle;\n",
       "    }\n",
       "\n",
       "    .dataframe tbody tr th {\n",
       "        vertical-align: top;\n",
       "    }\n",
       "\n",
       "    .dataframe thead th {\n",
       "        text-align: right;\n",
       "    }\n",
       "</style>\n",
       "<table border=\"1\" class=\"dataframe\">\n",
       "  <thead>\n",
       "    <tr style=\"text-align: right;\">\n",
       "      <th></th>\n",
       "      <th>Sample Name</th>\n",
       "      <th>Whole Exome Sequencing (WES)</th>\n",
       "      <th>Copy Number Alterations (CNA)</th>\n",
       "      <th>Gene Expression</th>\n",
       "      <th>Methylation</th>\n",
       "      <th>Drug\\nResponse</th>\n",
       "      <th>GDSC\\nTissue descriptor 1</th>\n",
       "      <th>GDSC\\nTissue\\ndescriptor 2</th>\n",
       "      <th>Cancer Type\\n(matching TCGA label)</th>\n",
       "      <th>Microsatellite \\ninstability Status (MSI)</th>\n",
       "      <th>Screen Medium</th>\n",
       "      <th>Growth Properties</th>\n",
       "    </tr>\n",
       "    <tr>\n",
       "      <th>COSMIC identifier</th>\n",
       "      <th></th>\n",
       "      <th></th>\n",
       "      <th></th>\n",
       "      <th></th>\n",
       "      <th></th>\n",
       "      <th></th>\n",
       "      <th></th>\n",
       "      <th></th>\n",
       "      <th></th>\n",
       "      <th></th>\n",
       "      <th></th>\n",
       "      <th></th>\n",
       "    </tr>\n",
       "  </thead>\n",
       "  <tbody>\n",
       "    <tr>\n",
       "      <th>1298218</th>\n",
       "      <td>KP-2</td>\n",
       "      <td>Y</td>\n",
       "      <td>N</td>\n",
       "      <td>Y</td>\n",
       "      <td>N</td>\n",
       "      <td>Y</td>\n",
       "      <td>pancreas</td>\n",
       "      <td>pancreas</td>\n",
       "      <td>PAAD</td>\n",
       "      <td></td>\n",
       "      <td>D/F12</td>\n",
       "      <td>Adherent</td>\n",
       "    </tr>\n",
       "    <tr>\n",
       "      <th>1330932</th>\n",
       "      <td>KO52</td>\n",
       "      <td>Y</td>\n",
       "      <td>Y</td>\n",
       "      <td>N</td>\n",
       "      <td>N</td>\n",
       "      <td>N</td>\n",
       "      <td>leukemia</td>\n",
       "      <td>acute_myeloid_leukaemia</td>\n",
       "      <td>LAML</td>\n",
       "      <td>MSS/MSI-L</td>\n",
       "      <td>D/F12</td>\n",
       "      <td>NA</td>\n",
       "    </tr>\n",
       "    <tr>\n",
       "      <th>1331030</th>\n",
       "      <td>SC-1</td>\n",
       "      <td>Y</td>\n",
       "      <td>Y</td>\n",
       "      <td>N</td>\n",
       "      <td>N</td>\n",
       "      <td>N</td>\n",
       "      <td>lymphoma</td>\n",
       "      <td>B_cell_lymphoma</td>\n",
       "      <td>DLBC</td>\n",
       "      <td>MSS/MSI-L</td>\n",
       "      <td>R</td>\n",
       "      <td>NA</td>\n",
       "    </tr>\n",
       "    <tr>\n",
       "      <th>1503373</th>\n",
       "      <td>U-CH2</td>\n",
       "      <td>Y</td>\n",
       "      <td>Y</td>\n",
       "      <td>N</td>\n",
       "      <td>N</td>\n",
       "      <td>N</td>\n",
       "      <td>bone</td>\n",
       "      <td>bone_other</td>\n",
       "      <td></td>\n",
       "      <td>MSS/MSI-L</td>\n",
       "      <td>D/F12</td>\n",
       "      <td>Adherent</td>\n",
       "    </tr>\n",
       "    <tr>\n",
       "      <th></th>\n",
       "      <td>TOTAL:</td>\n",
       "      <td>1001</td>\n",
       "      <td>996</td>\n",
       "      <td>968</td>\n",
       "      <td>957</td>\n",
       "      <td>990</td>\n",
       "      <td></td>\n",
       "      <td></td>\n",
       "      <td></td>\n",
       "      <td></td>\n",
       "      <td></td>\n",
       "      <td></td>\n",
       "    </tr>\n",
       "  </tbody>\n",
       "</table>\n",
       "</div>"
      ],
      "text/plain": [
       "                  Sample Name Whole Exome Sequencing (WES)  \\\n",
       "COSMIC identifier                                            \n",
       "1298218                  KP-2                            Y   \n",
       "1330932                  KO52                            Y   \n",
       "1331030                  SC-1                            Y   \n",
       "1503373                 U-CH2                            Y   \n",
       "                       TOTAL:                         1001   \n",
       "\n",
       "                  Copy Number Alterations (CNA) Gene Expression Methylation  \\\n",
       "COSMIC identifier                                                             \n",
       "1298218                                       N               Y           N   \n",
       "1330932                                       Y               N           N   \n",
       "1331030                                       Y               N           N   \n",
       "1503373                                       Y               N           N   \n",
       "                                            996             968         957   \n",
       "\n",
       "                  Drug\\nResponse GDSC\\nTissue descriptor 1  \\\n",
       "COSMIC identifier                                            \n",
       "1298218                        Y                  pancreas   \n",
       "1330932                        N                  leukemia   \n",
       "1331030                        N                  lymphoma   \n",
       "1503373                        N                      bone   \n",
       "                             990                             \n",
       "\n",
       "                  GDSC\\nTissue\\ndescriptor 2  \\\n",
       "COSMIC identifier                              \n",
       "1298218                             pancreas   \n",
       "1330932              acute_myeloid_leukaemia   \n",
       "1331030                      B_cell_lymphoma   \n",
       "1503373                           bone_other   \n",
       "                                               \n",
       "\n",
       "                  Cancer Type\\n(matching TCGA label)  \\\n",
       "COSMIC identifier                                      \n",
       "1298218                                         PAAD   \n",
       "1330932                                         LAML   \n",
       "1331030                                         DLBC   \n",
       "1503373                                                \n",
       "                                                       \n",
       "\n",
       "                  Microsatellite \\ninstability Status (MSI) Screen Medium  \\\n",
       "COSMIC identifier                                                           \n",
       "1298218                                                             D/F12   \n",
       "1330932                                           MSS/MSI-L         D/F12   \n",
       "1331030                                           MSS/MSI-L             R   \n",
       "1503373                                           MSS/MSI-L         D/F12   \n",
       "                                                                            \n",
       "\n",
       "                  Growth Properties  \n",
       "COSMIC identifier                    \n",
       "1298218                    Adherent  \n",
       "1330932                          NA  \n",
       "1331030                          NA  \n",
       "1503373                    Adherent  \n",
       "                                     "
      ]
     },
     "execution_count": 5,
     "metadata": {},
     "output_type": "execute_result"
    }
   ],
   "source": [
    "# read GDSC cell line details table\n",
    "\n",
    "GDSC_cell_line_details = pd.read_excel(\"GDSC_Cell_Lines_Details.xlsx\", keep_default_na = False)\n",
    "GDSC_cell_line_details.set_index(\"COSMIC identifier\", inplace = True)\n",
    "GDSC_cell_line_details.tail()"
   ]
  },
  {
   "cell_type": "code",
   "execution_count": 6,
   "metadata": {},
   "outputs": [
    {
     "name": "stdout",
     "output_type": "stream",
     "text": [
      "/Volumes/Expansion/Thesis Work/Results/preprocessed_results2/exprs\n"
     ]
    }
   ],
   "source": [
    "# change directory to read GDSC expression dataset (MITOSISi)\n",
    "\n",
    "os.chdir(dataset_dir + \"/exprs/\")\n",
    "print(os.getcwd())"
   ]
  },
  {
   "cell_type": "code",
   "execution_count": 7,
   "metadata": {
    "scrolled": true
   },
   "outputs": [
    {
     "data": {
      "text/html": [
       "<div>\n",
       "<style scoped>\n",
       "    .dataframe tbody tr th:only-of-type {\n",
       "        vertical-align: middle;\n",
       "    }\n",
       "\n",
       "    .dataframe tbody tr th {\n",
       "        vertical-align: top;\n",
       "    }\n",
       "\n",
       "    .dataframe thead th {\n",
       "        text-align: right;\n",
       "    }\n",
       "</style>\n",
       "<table border=\"1\" class=\"dataframe\">\n",
       "  <thead>\n",
       "    <tr style=\"text-align: right;\">\n",
       "      <th>ENTREZID</th>\n",
       "      <th>1</th>\n",
       "      <th>2</th>\n",
       "      <th>9</th>\n",
       "      <th>10</th>\n",
       "      <th>12</th>\n",
       "      <th>13</th>\n",
       "      <th>14</th>\n",
       "      <th>15</th>\n",
       "      <th>16</th>\n",
       "      <th>18</th>\n",
       "      <th>...</th>\n",
       "      <th>107984199</th>\n",
       "      <th>107984208</th>\n",
       "      <th>107984325</th>\n",
       "      <th>107984411</th>\n",
       "      <th>107984648</th>\n",
       "      <th>107984889</th>\n",
       "      <th>107984989</th>\n",
       "      <th>107986313</th>\n",
       "      <th>107986782</th>\n",
       "      <th>107986810</th>\n",
       "    </tr>\n",
       "  </thead>\n",
       "  <tbody>\n",
       "    <tr>\n",
       "      <th>683665</th>\n",
       "      <td>-0.4711563767951986</td>\n",
       "      <td>-0.1857522957766964</td>\n",
       "      <td>0.9702409548662462</td>\n",
       "      <td>-0.4081281805960821</td>\n",
       "      <td>-0.4161511169999803</td>\n",
       "      <td>-0.4384159723467665</td>\n",
       "      <td>-1.154692246005183</td>\n",
       "      <td>0.5262132484107975</td>\n",
       "      <td>-0.7950924576033422</td>\n",
       "      <td>-0.6337442716864214</td>\n",
       "      <td>...</td>\n",
       "      <td>1.283534690590172</td>\n",
       "      <td>-0.3367265464586691</td>\n",
       "      <td>-0.0039762988723447</td>\n",
       "      <td>0.7378729872604209</td>\n",
       "      <td>0.9757614264575688</td>\n",
       "      <td>0.1494417647095801</td>\n",
       "      <td>2.062294063911948</td>\n",
       "      <td>-0.8140636761719959</td>\n",
       "      <td>0.2870333828833719</td>\n",
       "      <td>0.9524265085537148</td>\n",
       "    </tr>\n",
       "    <tr>\n",
       "      <th>684055</th>\n",
       "      <td>1.3565140948247052</td>\n",
       "      <td>-0.277542411913307</td>\n",
       "      <td>0.0887087882196536</td>\n",
       "      <td>-0.2754829982302413</td>\n",
       "      <td>-0.5153856346587746</td>\n",
       "      <td>-0.6248712076433911</td>\n",
       "      <td>0.1243408990866293</td>\n",
       "      <td>-1.2699667684674136</td>\n",
       "      <td>2.0788360886382717</td>\n",
       "      <td>2.5197991997459197</td>\n",
       "      <td>...</td>\n",
       "      <td>-0.5571028630154293</td>\n",
       "      <td>-1.724090733574364</td>\n",
       "      <td>-0.3749080365068901</td>\n",
       "      <td>-0.0016055431935905</td>\n",
       "      <td>-0.3788535663547365</td>\n",
       "      <td>-1.3502092798315848</td>\n",
       "      <td>0.6949790577550328</td>\n",
       "      <td>0.4333032198982747</td>\n",
       "      <td>-0.1280986270308099</td>\n",
       "      <td>-1.629249958712223</td>\n",
       "    </tr>\n",
       "    <tr>\n",
       "      <th>684057</th>\n",
       "      <td>0.6510004960254864</td>\n",
       "      <td>1.6578876382433665</td>\n",
       "      <td>-0.4977106390881842</td>\n",
       "      <td>-0.1212172092933644</td>\n",
       "      <td>-0.398455281697677</td>\n",
       "      <td>-0.2804901106672752</td>\n",
       "      <td>0.6455898116420014</td>\n",
       "      <td>0.215833091774836</td>\n",
       "      <td>-0.1723595788875009</td>\n",
       "      <td>-0.2170870770552223</td>\n",
       "      <td>...</td>\n",
       "      <td>-0.024863133395904</td>\n",
       "      <td>0.4073439017665206</td>\n",
       "      <td>-0.4440356638831038</td>\n",
       "      <td>0.8630347078663075</td>\n",
       "      <td>1.4486171428489227</td>\n",
       "      <td>-1.4777214830771732</td>\n",
       "      <td>0.5220400480464272</td>\n",
       "      <td>0.6441211958947753</td>\n",
       "      <td>0.9057518606131394</td>\n",
       "      <td>0.3018783753479829</td>\n",
       "    </tr>\n",
       "  </tbody>\n",
       "</table>\n",
       "<p>3 rows × 18597 columns</p>\n",
       "</div>"
      ],
      "text/plain": [
       "ENTREZID            1                    2                    9          \\\n",
       "683665    -0.4711563767951986  -0.1857522957766964   0.9702409548662462   \n",
       "684055     1.3565140948247052   -0.277542411913307   0.0887087882196536   \n",
       "684057     0.6510004960254864   1.6578876382433665  -0.4977106390881842   \n",
       "\n",
       "ENTREZID            10                   12                   13         \\\n",
       "683665    -0.4081281805960821  -0.4161511169999803  -0.4384159723467665   \n",
       "684055    -0.2754829982302413  -0.5153856346587746  -0.6248712076433911   \n",
       "684057    -0.1212172092933644   -0.398455281697677  -0.2804901106672752   \n",
       "\n",
       "ENTREZID           14                   15                   16         \\\n",
       "683665    -1.154692246005183   0.5262132484107975  -0.7950924576033422   \n",
       "684055    0.1243408990866293  -1.2699667684674136   2.0788360886382717   \n",
       "684057    0.6455898116420014    0.215833091774836  -0.1723595788875009   \n",
       "\n",
       "ENTREZID            18         ...            107984199            107984208  \\\n",
       "683665    -0.6337442716864214  ...    1.283534690590172  -0.3367265464586691   \n",
       "684055     2.5197991997459197  ...  -0.5571028630154293   -1.724090733574364   \n",
       "684057    -0.2170870770552223  ...   -0.024863133395904   0.4073439017665206   \n",
       "\n",
       "ENTREZID            107984325            107984411            107984648  \\\n",
       "683665    -0.0039762988723447   0.7378729872604209   0.9757614264575688   \n",
       "684055    -0.3749080365068901  -0.0016055431935905  -0.3788535663547365   \n",
       "684057    -0.4440356638831038   0.8630347078663075   1.4486171428489227   \n",
       "\n",
       "ENTREZID            107984889           107984989            107986313  \\\n",
       "683665     0.1494417647095801   2.062294063911948  -0.8140636761719959   \n",
       "684055    -1.3502092798315848  0.6949790577550328   0.4333032198982747   \n",
       "684057    -1.4777214830771732  0.5220400480464272   0.6441211958947753   \n",
       "\n",
       "ENTREZID            107986782           107986810  \n",
       "683665     0.2870333828833719  0.9524265085537148  \n",
       "684055    -0.1280986270308099  -1.629249958712223  \n",
       "684057     0.9057518606131394  0.3018783753479829  \n",
       "\n",
       "[3 rows x 18597 columns]"
      ]
     },
     "execution_count": 7,
     "metadata": {},
     "output_type": "execute_result"
    }
   ],
   "source": [
    "# read GDSC expression dataset (MITOSISi)\n",
    "\n",
    "GDSCE = pd.read_csv(\"GDSC_exprs.z.MITOSISi.tsv\", \n",
    "                    sep = \"\\t\", index_col=0, decimal = \",\")\n",
    "GDSCE = pd.DataFrame.transpose(GDSCE)\n",
    "GDSCE.head(3)"
   ]
  },
  {
   "cell_type": "code",
   "execution_count": 8,
   "metadata": {},
   "outputs": [
    {
     "name": "stdout",
     "output_type": "stream",
     "text": [
      "/Volumes/Expansion/Thesis Work/Results/preprocessed_results2/CNA\n"
     ]
    }
   ],
   "source": [
    "# change directory to read GDSC CNA dataset (MITOSISi)\n",
    "\n",
    "os.chdir(dataset_dir + \"/CNA/\")\n",
    "print(os.getcwd())"
   ]
  },
  {
   "cell_type": "code",
   "execution_count": 9,
   "metadata": {},
   "outputs": [
    {
     "data": {
      "text/html": [
       "<div>\n",
       "<style scoped>\n",
       "    .dataframe tbody tr th:only-of-type {\n",
       "        vertical-align: middle;\n",
       "    }\n",
       "\n",
       "    .dataframe tbody tr th {\n",
       "        vertical-align: top;\n",
       "    }\n",
       "\n",
       "    .dataframe thead th {\n",
       "        text-align: right;\n",
       "    }\n",
       "</style>\n",
       "<table border=\"1\" class=\"dataframe\">\n",
       "  <thead>\n",
       "    <tr style=\"text-align: right;\">\n",
       "      <th>gene_id</th>\n",
       "      <th>1</th>\n",
       "      <th>2</th>\n",
       "      <th>9</th>\n",
       "      <th>10</th>\n",
       "      <th>12</th>\n",
       "      <th>13</th>\n",
       "      <th>14</th>\n",
       "      <th>15</th>\n",
       "      <th>16</th>\n",
       "      <th>18</th>\n",
       "      <th>...</th>\n",
       "      <th>107985535</th>\n",
       "      <th>107985759</th>\n",
       "      <th>107986588</th>\n",
       "      <th>107986809</th>\n",
       "      <th>107986898</th>\n",
       "      <th>107987337</th>\n",
       "      <th>107987341</th>\n",
       "      <th>109731405</th>\n",
       "      <th>112441434</th>\n",
       "      <th>121676927</th>\n",
       "    </tr>\n",
       "  </thead>\n",
       "  <tbody>\n",
       "    <tr>\n",
       "      <th>683665</th>\n",
       "      <td>0.000000</td>\n",
       "      <td>0.000000</td>\n",
       "      <td>0.000000</td>\n",
       "      <td>0.000000</td>\n",
       "      <td>0.000000</td>\n",
       "      <td>0.000000</td>\n",
       "      <td>0.0</td>\n",
       "      <td>0.0</td>\n",
       "      <td>0.000000</td>\n",
       "      <td>0.000000</td>\n",
       "      <td>...</td>\n",
       "      <td>0.000000</td>\n",
       "      <td>0.000000</td>\n",
       "      <td>0.000000</td>\n",
       "      <td>0.000000</td>\n",
       "      <td>0.000000</td>\n",
       "      <td>0.00</td>\n",
       "      <td>1.807355</td>\n",
       "      <td>0.000000</td>\n",
       "      <td>0.000000</td>\n",
       "      <td>0.000000</td>\n",
       "    </tr>\n",
       "    <tr>\n",
       "      <th>684055</th>\n",
       "      <td>0.000000</td>\n",
       "      <td>0.584963</td>\n",
       "      <td>0.584963</td>\n",
       "      <td>0.584963</td>\n",
       "      <td>0.000000</td>\n",
       "      <td>0.000000</td>\n",
       "      <td>0.0</td>\n",
       "      <td>0.0</td>\n",
       "      <td>0.000000</td>\n",
       "      <td>0.000000</td>\n",
       "      <td>...</td>\n",
       "      <td>0.000000</td>\n",
       "      <td>0.584963</td>\n",
       "      <td>0.000000</td>\n",
       "      <td>0.584963</td>\n",
       "      <td>0.584963</td>\n",
       "      <td>-4.32</td>\n",
       "      <td>-4.320000</td>\n",
       "      <td>0.000000</td>\n",
       "      <td>0.000000</td>\n",
       "      <td>0.584963</td>\n",
       "    </tr>\n",
       "    <tr>\n",
       "      <th>684057</th>\n",
       "      <td>-0.415037</td>\n",
       "      <td>0.000000</td>\n",
       "      <td>0.584963</td>\n",
       "      <td>0.584963</td>\n",
       "      <td>-1.000000</td>\n",
       "      <td>0.000000</td>\n",
       "      <td>0.0</td>\n",
       "      <td>0.0</td>\n",
       "      <td>-0.415037</td>\n",
       "      <td>-0.415037</td>\n",
       "      <td>...</td>\n",
       "      <td>-0.415037</td>\n",
       "      <td>0.000000</td>\n",
       "      <td>0.000000</td>\n",
       "      <td>0.000000</td>\n",
       "      <td>0.807355</td>\n",
       "      <td>-1.00</td>\n",
       "      <td>-1.000000</td>\n",
       "      <td>-0.415037</td>\n",
       "      <td>-0.415037</td>\n",
       "      <td>0.807355</td>\n",
       "    </tr>\n",
       "    <tr>\n",
       "      <th>684059</th>\n",
       "      <td>0.000000</td>\n",
       "      <td>0.000000</td>\n",
       "      <td>0.000000</td>\n",
       "      <td>0.000000</td>\n",
       "      <td>0.000000</td>\n",
       "      <td>0.415037</td>\n",
       "      <td>0.0</td>\n",
       "      <td>0.0</td>\n",
       "      <td>0.000000</td>\n",
       "      <td>0.415037</td>\n",
       "      <td>...</td>\n",
       "      <td>0.000000</td>\n",
       "      <td>0.000000</td>\n",
       "      <td>0.415037</td>\n",
       "      <td>0.000000</td>\n",
       "      <td>0.415037</td>\n",
       "      <td>-4.32</td>\n",
       "      <td>-4.320000</td>\n",
       "      <td>0.000000</td>\n",
       "      <td>0.000000</td>\n",
       "      <td>0.736966</td>\n",
       "    </tr>\n",
       "    <tr>\n",
       "      <th>684062</th>\n",
       "      <td>-0.415037</td>\n",
       "      <td>0.000000</td>\n",
       "      <td>0.321928</td>\n",
       "      <td>0.321928</td>\n",
       "      <td>-0.415037</td>\n",
       "      <td>-0.415037</td>\n",
       "      <td>0.0</td>\n",
       "      <td>0.0</td>\n",
       "      <td>-0.415037</td>\n",
       "      <td>0.000000</td>\n",
       "      <td>...</td>\n",
       "      <td>-0.415037</td>\n",
       "      <td>0.000000</td>\n",
       "      <td>0.000000</td>\n",
       "      <td>0.000000</td>\n",
       "      <td>0.321928</td>\n",
       "      <td>-4.32</td>\n",
       "      <td>-4.320000</td>\n",
       "      <td>-0.415037</td>\n",
       "      <td>-1.000000</td>\n",
       "      <td>0.321928</td>\n",
       "    </tr>\n",
       "  </tbody>\n",
       "</table>\n",
       "<p>5 rows × 24402 columns</p>\n",
       "</div>"
      ],
      "text/plain": [
       "gene_id  1          2          9          10         12         13         \\\n",
       "683665    0.000000   0.000000   0.000000   0.000000   0.000000   0.000000   \n",
       "684055    0.000000   0.584963   0.584963   0.584963   0.000000   0.000000   \n",
       "684057   -0.415037   0.000000   0.584963   0.584963  -1.000000   0.000000   \n",
       "684059    0.000000   0.000000   0.000000   0.000000   0.000000   0.415037   \n",
       "684062   -0.415037   0.000000   0.321928   0.321928  -0.415037  -0.415037   \n",
       "\n",
       "gene_id  14         15         16         18         ...  107985535  \\\n",
       "683665         0.0        0.0   0.000000   0.000000  ...   0.000000   \n",
       "684055         0.0        0.0   0.000000   0.000000  ...   0.000000   \n",
       "684057         0.0        0.0  -0.415037  -0.415037  ...  -0.415037   \n",
       "684059         0.0        0.0   0.000000   0.415037  ...   0.000000   \n",
       "684062         0.0        0.0  -0.415037   0.000000  ...  -0.415037   \n",
       "\n",
       "gene_id  107985759  107986588  107986809  107986898  107987337  107987341  \\\n",
       "683665    0.000000   0.000000   0.000000   0.000000       0.00   1.807355   \n",
       "684055    0.584963   0.000000   0.584963   0.584963      -4.32  -4.320000   \n",
       "684057    0.000000   0.000000   0.000000   0.807355      -1.00  -1.000000   \n",
       "684059    0.000000   0.415037   0.000000   0.415037      -4.32  -4.320000   \n",
       "684062    0.000000   0.000000   0.000000   0.321928      -4.32  -4.320000   \n",
       "\n",
       "gene_id  109731405  112441434  121676927  \n",
       "683665    0.000000   0.000000   0.000000  \n",
       "684055    0.000000   0.000000   0.584963  \n",
       "684057   -0.415037  -0.415037   0.807355  \n",
       "684059    0.000000   0.000000   0.736966  \n",
       "684062   -0.415037  -1.000000   0.321928  \n",
       "\n",
       "[5 rows x 24402 columns]"
      ]
     },
     "execution_count": 9,
     "metadata": {},
     "output_type": "execute_result"
    }
   ],
   "source": [
    "# read GDSC CNA dataset (MITOSISi)\n",
    "\n",
    "GDSCC = pd.read_csv(\"GDSC_CNA.MITOSISi.tsv\",\n",
    "                    sep=\"\\t\", index_col=0, decimal=\".\")\n",
    "GDSCC.drop_duplicates(keep='last')\n",
    "GDSCC = pd.DataFrame.transpose(GDSCC)\n",
    "GDSCC = GDSCC.loc[:, ~GDSCC.columns.duplicated()]\n",
    "\n",
    "GDSCC.head()"
   ]
  },
  {
   "cell_type": "code",
   "execution_count": 10,
   "metadata": {},
   "outputs": [
    {
     "name": "stdout",
     "output_type": "stream",
     "text": [
      "/Volumes/Expansion/Thesis Work/Results/preprocessed_results2/response\n"
     ]
    }
   ],
   "source": [
    "# change directory to read GDSC response dataset (MITOSISi)\n",
    "\n",
    "os.chdir(dataset_dir + \"/response/\")\n",
    "print(os.getcwd())"
   ]
  },
  {
   "cell_type": "code",
   "execution_count": 11,
   "metadata": {},
   "outputs": [
    {
     "data": {
      "text/html": [
       "<div>\n",
       "<style scoped>\n",
       "    .dataframe tbody tr th:only-of-type {\n",
       "        vertical-align: middle;\n",
       "    }\n",
       "\n",
       "    .dataframe tbody tr th {\n",
       "        vertical-align: top;\n",
       "    }\n",
       "\n",
       "    .dataframe thead th {\n",
       "        text-align: right;\n",
       "    }\n",
       "</style>\n",
       "<table border=\"1\" class=\"dataframe\">\n",
       "  <thead>\n",
       "    <tr style=\"text-align: right;\">\n",
       "      <th></th>\n",
       "      <th>response</th>\n",
       "      <th>logIC50</th>\n",
       "      <th>drug</th>\n",
       "      <th>exprs</th>\n",
       "      <th>CNA</th>\n",
       "      <th>mutations</th>\n",
       "    </tr>\n",
       "    <tr>\n",
       "      <th>sample_name</th>\n",
       "      <th></th>\n",
       "      <th></th>\n",
       "      <th></th>\n",
       "      <th></th>\n",
       "      <th></th>\n",
       "      <th></th>\n",
       "    </tr>\n",
       "  </thead>\n",
       "  <tbody>\n",
       "    <tr>\n",
       "      <th>683665</th>\n",
       "      <td>0</td>\n",
       "      <td>0.70402689461727</td>\n",
       "      <td>VX-680</td>\n",
       "      <td>1</td>\n",
       "      <td>1</td>\n",
       "      <td>1</td>\n",
       "    </tr>\n",
       "    <tr>\n",
       "      <th>683665</th>\n",
       "      <td>0</td>\n",
       "      <td>-3.64728727366553</td>\n",
       "      <td>Paclitaxel</td>\n",
       "      <td>1</td>\n",
       "      <td>1</td>\n",
       "      <td>1</td>\n",
       "    </tr>\n",
       "    <tr>\n",
       "      <th>683665</th>\n",
       "      <td>0</td>\n",
       "      <td>0.307772732941787</td>\n",
       "      <td>S-Trityl-L-cysteine</td>\n",
       "      <td>1</td>\n",
       "      <td>1</td>\n",
       "      <td>1</td>\n",
       "    </tr>\n",
       "    <tr>\n",
       "      <th>683665</th>\n",
       "      <td>0</td>\n",
       "      <td>-1.86219201025588</td>\n",
       "      <td>BI-2536</td>\n",
       "      <td>1</td>\n",
       "      <td>1</td>\n",
       "      <td>1</td>\n",
       "    </tr>\n",
       "    <tr>\n",
       "      <th>683665</th>\n",
       "      <td>0</td>\n",
       "      <td>-3.03887798334128</td>\n",
       "      <td>GW843682X</td>\n",
       "      <td>1</td>\n",
       "      <td>1</td>\n",
       "      <td>1</td>\n",
       "    </tr>\n",
       "  </tbody>\n",
       "</table>\n",
       "</div>"
      ],
      "text/plain": [
       "             response            logIC50                 drug  exprs  CNA  \\\n",
       "sample_name                                                                 \n",
       "683665              0   0.70402689461727               VX-680      1    1   \n",
       "683665              0  -3.64728727366553           Paclitaxel      1    1   \n",
       "683665              0  0.307772732941787  S-Trityl-L-cysteine      1    1   \n",
       "683665              0  -1.86219201025588              BI-2536      1    1   \n",
       "683665              0  -3.03887798334128            GW843682X      1    1   \n",
       "\n",
       "             mutations  \n",
       "sample_name             \n",
       "683665               1  \n",
       "683665               1  \n",
       "683665               1  \n",
       "683665               1  \n",
       "683665               1  "
      ]
     },
     "execution_count": 11,
     "metadata": {},
     "output_type": "execute_result"
    }
   ],
   "source": [
    "# read GDSC response dataset (MITOSISi)\n",
    "\n",
    "GDSCR = pd.read_csv(\"GDSC_response.MITOSISi.tsv\",\n",
    "                    sep=\"\\t\",\n",
    "                    index_col=0,\n",
    "                    decimal=\",\")\n",
    "GDSCR.dropna(inplace=True)\n",
    "GDSCR.rename(mapper=str, axis='index', inplace=True)\n",
    "d = {\"R\": 0, \"S\": 1}\n",
    "GDSCR[\"response\"] = GDSCR.loc[:, \"response\"].apply(lambda x: d[x])\n",
    "\n",
    "GDSCR.head()"
   ]
  },
  {
   "cell_type": "code",
   "execution_count": 12,
   "metadata": {},
   "outputs": [
    {
     "data": {
      "text/plain": [
       "drug\n",
       "Genentech Cpd 10       771\n",
       "SB-715992              770\n",
       "NPK76-II-72-1          769\n",
       "MPS-1-IN-1             767\n",
       "GSK1070916             747\n",
       "ZM-447439              694\n",
       "Paclitaxel             370\n",
       "GW843682X              370\n",
       "S-Trityl-L-cysteine    369\n",
       "BI-2536                368\n",
       "VX-680                 365\n",
       "Name: count, dtype: int64"
      ]
     },
     "execution_count": 12,
     "metadata": {},
     "output_type": "execute_result"
    }
   ],
   "source": [
    "# print count of cell lines for each drug (MITOSISi)\n",
    "\n",
    "GDSCR[\"drug\"].value_counts()"
   ]
  },
  {
   "cell_type": "code",
   "execution_count": 13,
   "metadata": {},
   "outputs": [
    {
     "name": "stdout",
     "output_type": "stream",
     "text": [
      "/Volumes/Expansion/Thesis Work/Results/preprocessed_results2/exprs_homogenized\n"
     ]
    }
   ],
   "source": [
    "# change directory to read TCGA expression dataset homogenized with GDSC expression dataset (Paclitaxel)\n",
    "\n",
    "os.chdir(dataset_dir + \"/exprs_homogenized/\")\n",
    "print(os.getcwd())"
   ]
  },
  {
   "cell_type": "code",
   "execution_count": 14,
   "metadata": {},
   "outputs": [
    {
     "data": {
      "text/html": [
       "<div>\n",
       "<style scoped>\n",
       "    .dataframe tbody tr th:only-of-type {\n",
       "        vertical-align: middle;\n",
       "    }\n",
       "\n",
       "    .dataframe tbody tr th {\n",
       "        vertical-align: top;\n",
       "    }\n",
       "\n",
       "    .dataframe thead th {\n",
       "        text-align: right;\n",
       "    }\n",
       "</style>\n",
       "<table border=\"1\" class=\"dataframe\">\n",
       "  <thead>\n",
       "    <tr style=\"text-align: right;\">\n",
       "      <th>ENTREZID</th>\n",
       "      <th>1</th>\n",
       "      <th>2</th>\n",
       "      <th>9</th>\n",
       "      <th>10</th>\n",
       "      <th>12</th>\n",
       "      <th>13</th>\n",
       "      <th>14</th>\n",
       "      <th>15</th>\n",
       "      <th>16</th>\n",
       "      <th>18</th>\n",
       "      <th>...</th>\n",
       "      <th>100188893</th>\n",
       "      <th>100190940</th>\n",
       "      <th>100190949</th>\n",
       "      <th>100191040</th>\n",
       "      <th>100192386</th>\n",
       "      <th>100268168</th>\n",
       "      <th>100271715</th>\n",
       "      <th>100287718</th>\n",
       "      <th>100288778</th>\n",
       "      <th>100289635</th>\n",
       "    </tr>\n",
       "  </thead>\n",
       "  <tbody>\n",
       "    <tr>\n",
       "      <th>TCGA-50-5068-01A</th>\n",
       "      <td>6.07077606939576</td>\n",
       "      <td>4.22435549873448</td>\n",
       "      <td>6.09703453175451</td>\n",
       "      <td>2.79409553041956</td>\n",
       "      <td>2.16511492655888</td>\n",
       "      <td>6.23897149546054</td>\n",
       "      <td>7.50971824388108</td>\n",
       "      <td>2.62136482478483</td>\n",
       "      <td>6.78739521681224</td>\n",
       "      <td>2.98021984531206</td>\n",
       "      <td>...</td>\n",
       "      <td>9.80444787373941</td>\n",
       "      <td>2.79886640790268</td>\n",
       "      <td>2.81581286530484</td>\n",
       "      <td>3.00085815257311</td>\n",
       "      <td>2.80511713535762</td>\n",
       "      <td>2.40148864399763</td>\n",
       "      <td>2.58029798170468</td>\n",
       "      <td>3.80309726320581</td>\n",
       "      <td>2.93775838077045</td>\n",
       "      <td>3.15136733303223</td>\n",
       "    </tr>\n",
       "    <tr>\n",
       "      <th>TCGA-53-7624-01A</th>\n",
       "      <td>3.36417856158271</td>\n",
       "      <td>1.84257380220382</td>\n",
       "      <td>4.89461611130517</td>\n",
       "      <td>3.01203072800212</td>\n",
       "      <td>1.08675483906125</td>\n",
       "      <td>2.65397613649159</td>\n",
       "      <td>8.19887134647799</td>\n",
       "      <td>2.64492131772784</td>\n",
       "      <td>9.57693655417731</td>\n",
       "      <td>2.75400746416671</td>\n",
       "      <td>...</td>\n",
       "      <td>9.87655475612095</td>\n",
       "      <td>2.79886640790268</td>\n",
       "      <td>2.81581286530484</td>\n",
       "      <td>3.47072364084828</td>\n",
       "      <td>2.92631228926461</td>\n",
       "      <td>3.04342978048926</td>\n",
       "      <td>3.85945702517433</td>\n",
       "      <td>2.76860237341666</td>\n",
       "      <td>4.70753879715127</td>\n",
       "      <td>4.40422733195751</td>\n",
       "    </tr>\n",
       "    <tr>\n",
       "      <th>TCGA-99-8033-01A</th>\n",
       "      <td>3.17759663469389</td>\n",
       "      <td>4.069358321802</td>\n",
       "      <td>5.30291306958158</td>\n",
       "      <td>3.04306111581331</td>\n",
       "      <td>1.71759129803103</td>\n",
       "      <td>2.9492322528108</td>\n",
       "      <td>8.35388516673678</td>\n",
       "      <td>2.61215713067395</td>\n",
       "      <td>9.55148283225251</td>\n",
       "      <td>2.62363654845594</td>\n",
       "      <td>...</td>\n",
       "      <td>9.97545462791267</td>\n",
       "      <td>2.79886640790268</td>\n",
       "      <td>2.81581286530484</td>\n",
       "      <td>3.61434933029633</td>\n",
       "      <td>2.82800183535407</td>\n",
       "      <td>2.62335146413649</td>\n",
       "      <td>2.82601101115657</td>\n",
       "      <td>2.76860237341666</td>\n",
       "      <td>4.83367880098437</td>\n",
       "      <td>4.96091320806586</td>\n",
       "    </tr>\n",
       "  </tbody>\n",
       "</table>\n",
       "<p>3 rows × 18197 columns</p>\n",
       "</div>"
      ],
      "text/plain": [
       "ENTREZID                 1                 2                 9          \\\n",
       "TCGA-50-5068-01A  6.07077606939576  4.22435549873448  6.09703453175451   \n",
       "TCGA-53-7624-01A  3.36417856158271  1.84257380220382  4.89461611130517   \n",
       "TCGA-99-8033-01A  3.17759663469389    4.069358321802  5.30291306958158   \n",
       "\n",
       "ENTREZID                 10                12                13         \\\n",
       "TCGA-50-5068-01A  2.79409553041956  2.16511492655888  6.23897149546054   \n",
       "TCGA-53-7624-01A  3.01203072800212  1.08675483906125  2.65397613649159   \n",
       "TCGA-99-8033-01A  3.04306111581331  1.71759129803103   2.9492322528108   \n",
       "\n",
       "ENTREZID                 14                15                16         \\\n",
       "TCGA-50-5068-01A  7.50971824388108  2.62136482478483  6.78739521681224   \n",
       "TCGA-53-7624-01A  8.19887134647799  2.64492131772784  9.57693655417731   \n",
       "TCGA-99-8033-01A  8.35388516673678  2.61215713067395  9.55148283225251   \n",
       "\n",
       "ENTREZID                 18         ...         100188893         100190940  \\\n",
       "TCGA-50-5068-01A  2.98021984531206  ...  9.80444787373941  2.79886640790268   \n",
       "TCGA-53-7624-01A  2.75400746416671  ...  9.87655475612095  2.79886640790268   \n",
       "TCGA-99-8033-01A  2.62363654845594  ...  9.97545462791267  2.79886640790268   \n",
       "\n",
       "ENTREZID                 100190949         100191040         100192386  \\\n",
       "TCGA-50-5068-01A  2.81581286530484  3.00085815257311  2.80511713535762   \n",
       "TCGA-53-7624-01A  2.81581286530484  3.47072364084828  2.92631228926461   \n",
       "TCGA-99-8033-01A  2.81581286530484  3.61434933029633  2.82800183535407   \n",
       "\n",
       "ENTREZID                 100268168         100271715         100287718  \\\n",
       "TCGA-50-5068-01A  2.40148864399763  2.58029798170468  3.80309726320581   \n",
       "TCGA-53-7624-01A  3.04342978048926  3.85945702517433  2.76860237341666   \n",
       "TCGA-99-8033-01A  2.62335146413649  2.82601101115657  2.76860237341666   \n",
       "\n",
       "ENTREZID                 100288778         100289635  \n",
       "TCGA-50-5068-01A  2.93775838077045  3.15136733303223  \n",
       "TCGA-53-7624-01A  4.70753879715127  4.40422733195751  \n",
       "TCGA-99-8033-01A  4.83367880098437  4.96091320806586  \n",
       "\n",
       "[3 rows x 18197 columns]"
      ]
     },
     "execution_count": 14,
     "metadata": {},
     "output_type": "execute_result"
    }
   ],
   "source": [
    "# read TCGA expression dataset homogenized with GDSC expression dataset (Paclitaxel)\n",
    "\n",
    "TCGAEpaclitaxel = pd.read_csv(\"TCGA_exprs.Paclitaxel.eb_with.GDSC_exprs.Paclitaxel.tsv\",\n",
    "                   sep = \"\\t\", index_col=0, decimal = \",\")\n",
    "TCGAEpaclitaxel = pd.DataFrame.transpose(TCGAEpaclitaxel)\n",
    "TCGAEpaclitaxel.head(3)"
   ]
  },
  {
   "cell_type": "code",
   "execution_count": 15,
   "metadata": {},
   "outputs": [
    {
     "data": {
      "text/plain": [
       "'/Volumes/Expansion/Thesis Work/Results/preprocessed_results2/CNA'"
      ]
     },
     "execution_count": 15,
     "metadata": {},
     "output_type": "execute_result"
    }
   ],
   "source": [
    "# change directory to read TCGA CNA dataset (Paclitaxel)\n",
    "\n",
    "os.chdir(dataset_dir + \"CNA\")\n",
    "os.getcwd()"
   ]
  },
  {
   "cell_type": "code",
   "execution_count": 16,
   "metadata": {},
   "outputs": [
    {
     "data": {
      "text/html": [
       "<div>\n",
       "<style scoped>\n",
       "    .dataframe tbody tr th:only-of-type {\n",
       "        vertical-align: middle;\n",
       "    }\n",
       "\n",
       "    .dataframe tbody tr th {\n",
       "        vertical-align: top;\n",
       "    }\n",
       "\n",
       "    .dataframe thead th {\n",
       "        text-align: right;\n",
       "    }\n",
       "</style>\n",
       "<table border=\"1\" class=\"dataframe\">\n",
       "  <thead>\n",
       "    <tr style=\"text-align: right;\">\n",
       "      <th>gene</th>\n",
       "      <th>1</th>\n",
       "      <th>2</th>\n",
       "      <th>3</th>\n",
       "      <th>9</th>\n",
       "      <th>10</th>\n",
       "      <th>11</th>\n",
       "      <th>12</th>\n",
       "      <th>13</th>\n",
       "      <th>14</th>\n",
       "      <th>15</th>\n",
       "      <th>...</th>\n",
       "      <th>100653016</th>\n",
       "      <th>100653017</th>\n",
       "      <th>100653018</th>\n",
       "      <th>100653019</th>\n",
       "      <th>100653020</th>\n",
       "      <th>100653021</th>\n",
       "      <th>100653022</th>\n",
       "      <th>100653023</th>\n",
       "      <th>100653024</th>\n",
       "      <th>100653025</th>\n",
       "    </tr>\n",
       "  </thead>\n",
       "  <tbody>\n",
       "    <tr>\n",
       "      <th>TCGA-50-5068-01A</th>\n",
       "      <td>0</td>\n",
       "      <td>0</td>\n",
       "      <td>0</td>\n",
       "      <td>0</td>\n",
       "      <td>0</td>\n",
       "      <td>0</td>\n",
       "      <td>0</td>\n",
       "      <td>0</td>\n",
       "      <td>0</td>\n",
       "      <td>0</td>\n",
       "      <td>...</td>\n",
       "      <td>0</td>\n",
       "      <td>0</td>\n",
       "      <td>0</td>\n",
       "      <td>0</td>\n",
       "      <td>0</td>\n",
       "      <td>0</td>\n",
       "      <td>0</td>\n",
       "      <td>0</td>\n",
       "      <td>0</td>\n",
       "      <td>0</td>\n",
       "    </tr>\n",
       "    <tr>\n",
       "      <th>TCGA-53-7624-01A</th>\n",
       "      <td>1</td>\n",
       "      <td>0</td>\n",
       "      <td>0</td>\n",
       "      <td>-1</td>\n",
       "      <td>-1</td>\n",
       "      <td>-1</td>\n",
       "      <td>0</td>\n",
       "      <td>0</td>\n",
       "      <td>0</td>\n",
       "      <td>1</td>\n",
       "      <td>...</td>\n",
       "      <td>-1</td>\n",
       "      <td>1</td>\n",
       "      <td>1</td>\n",
       "      <td>-1</td>\n",
       "      <td>1</td>\n",
       "      <td>0</td>\n",
       "      <td>1</td>\n",
       "      <td>-1</td>\n",
       "      <td>-1</td>\n",
       "      <td>1</td>\n",
       "    </tr>\n",
       "    <tr>\n",
       "      <th>TCGA-99-8033-01A</th>\n",
       "      <td>0</td>\n",
       "      <td>0</td>\n",
       "      <td>0</td>\n",
       "      <td>0</td>\n",
       "      <td>0</td>\n",
       "      <td>0</td>\n",
       "      <td>0</td>\n",
       "      <td>0</td>\n",
       "      <td>0</td>\n",
       "      <td>0</td>\n",
       "      <td>...</td>\n",
       "      <td>0</td>\n",
       "      <td>0</td>\n",
       "      <td>0</td>\n",
       "      <td>0</td>\n",
       "      <td>0</td>\n",
       "      <td>0</td>\n",
       "      <td>0</td>\n",
       "      <td>0</td>\n",
       "      <td>0</td>\n",
       "      <td>0</td>\n",
       "    </tr>\n",
       "  </tbody>\n",
       "</table>\n",
       "<p>3 rows × 35972 columns</p>\n",
       "</div>"
      ],
      "text/plain": [
       "gene              1          2          3          9          10         \\\n",
       "TCGA-50-5068-01A          0          0          0          0          0   \n",
       "TCGA-53-7624-01A          1          0          0         -1         -1   \n",
       "TCGA-99-8033-01A          0          0          0          0          0   \n",
       "\n",
       "gene              11         12         13         14         15         ...  \\\n",
       "TCGA-50-5068-01A          0          0          0          0          0  ...   \n",
       "TCGA-53-7624-01A         -1          0          0          0          1  ...   \n",
       "TCGA-99-8033-01A          0          0          0          0          0  ...   \n",
       "\n",
       "gene              100653016  100653017  100653018  100653019  100653020  \\\n",
       "TCGA-50-5068-01A          0          0          0          0          0   \n",
       "TCGA-53-7624-01A         -1          1          1         -1          1   \n",
       "TCGA-99-8033-01A          0          0          0          0          0   \n",
       "\n",
       "gene              100653021  100653022  100653023  100653024  100653025  \n",
       "TCGA-50-5068-01A          0          0          0          0          0  \n",
       "TCGA-53-7624-01A          0          1         -1         -1          1  \n",
       "TCGA-99-8033-01A          0          0          0          0          0  \n",
       "\n",
       "[3 rows x 35972 columns]"
      ]
     },
     "execution_count": 16,
     "metadata": {},
     "output_type": "execute_result"
    }
   ],
   "source": [
    "# read TCGA CNA dataset (Paclitaxel)\n",
    "\n",
    "TCGACpaclitaxel = pd.read_csv(\"TCGA_CNA.Paclitaxel.tsv\",\n",
    "                        sep=\"\\t\", index_col=0, decimal=\",\")\n",
    "TCGACpaclitaxel.drop_duplicates(keep='last')\n",
    "TCGACpaclitaxel = pd.DataFrame.transpose(TCGACpaclitaxel)\n",
    "TCGACpaclitaxel = TCGACpaclitaxel.loc[:, ~TCGACpaclitaxel.columns.duplicated()]\n",
    "\n",
    "TCGACpaclitaxel.head(3)"
   ]
  },
  {
   "cell_type": "code",
   "execution_count": 17,
   "metadata": {},
   "outputs": [],
   "source": [
    "# variance threshold for GDSC expression dataset (MITOSISi)\n",
    "\n",
    "selector = VarianceThreshold(0.05)\n",
    "selector.fit_transform(GDSCE)\n",
    "GDSCE = GDSCE[GDSCE.columns[selector.get_support(indices=True)]]"
   ]
  },
  {
   "cell_type": "code",
   "execution_count": 18,
   "metadata": {},
   "outputs": [],
   "source": [
    "# fill NA values and binarize GDSC CNA dataset (MITOSISi)\n",
    "\n",
    "GDSCC = GDSCC.fillna(0)\n",
    "GDSCC[GDSCC != 0.0] = 1"
   ]
  },
  {
   "cell_type": "code",
   "execution_count": 19,
   "metadata": {},
   "outputs": [
    {
     "name": "stdout",
     "output_type": "stream",
     "text": [
      "GDSC and TCGA # of common genes: 17869\n"
     ]
    }
   ],
   "source": [
    "# select shared genes between GDSC and TCGA expression and CNA datasets \n",
    "\n",
    "ls = GDSCE.columns.intersection(GDSCC.columns)\n",
    "ls = ls.intersection(TCGAEpaclitaxel.columns)\n",
    "ls = ls.intersection(TCGACpaclitaxel.columns)\n",
    "\n",
    "ls = pd.unique(ls)\n",
    "\n",
    "print(f\"GDSC and TCGA # of common genes: {ls.shape[0]}\")"
   ]
  },
  {
   "cell_type": "code",
   "execution_count": 20,
   "metadata": {},
   "outputs": [
    {
     "name": "stdout",
     "output_type": "stream",
     "text": [
      "GDSC # of common cell lines: 799\n"
     ]
    }
   ],
   "source": [
    "# select shared samples between GDSC expression and response datasets (MITOSISi)\n",
    "\n",
    "ls2 = GDSCE.index.intersection(GDSCC.index)\n",
    "ls2 = ls2.intersection(GDSCR.index)\n",
    "\n",
    "print(f\"GDSC # of common cell lines: {ls2.shape[0]}\")"
   ]
  },
  {
   "cell_type": "code",
   "execution_count": 21,
   "metadata": {},
   "outputs": [
    {
     "name": "stdout",
     "output_type": "stream",
     "text": [
      "GDSC # of common samples and genes (Expression): (799, 17869)\n",
      "GDSC # of common samples and genes (CNA): (799, 17869)\n",
      "GDSC # of samples (Response): 6360\n"
     ]
    }
   ],
   "source": [
    "# subset shared genes and samples in GDSC expression, CNA, and response datasets\n",
    "\n",
    "GDSCE = GDSCE.loc[ls2, ls]\n",
    "GDSCC = GDSCC.loc[ls2, ls]\n",
    "GDSCR = GDSCR.loc[ls2, :]\n",
    "\n",
    "print(f\"GDSC # of common samples and genes (Expression): {GDSCE.shape}\")\n",
    "print(f\"GDSC # of common samples and genes (CNA): {GDSCC.shape}\")\n",
    "print(f\"GDSC # of samples (Response): {GDSCR.shape[0]}\")"
   ]
  },
  {
   "cell_type": "code",
   "execution_count": 22,
   "metadata": {},
   "outputs": [
    {
     "name": "stdout",
     "output_type": "stream",
     "text": [
      "TCGA # of common samples (Paclitaxel): 35\n"
     ]
    }
   ],
   "source": [
    "# select shared samples between TCGA expression and CNA datasets (Paclitaxel) \n",
    "\n",
    "ls3 = TCGAEpaclitaxel.index.intersection(TCGACpaclitaxel.index)\n",
    "\n",
    "print(f\"TCGA # of common samples (Paclitaxel): {ls3.shape[0]}\")"
   ]
  },
  {
   "cell_type": "code",
   "execution_count": 23,
   "metadata": {},
   "outputs": [
    {
     "name": "stdout",
     "output_type": "stream",
     "text": [
      "TCGA # of common samples and genes for Expression (Paclitaxel): (35, 17869)\n",
      "TCGA # of common samples and genes for CNA (Paclitaxel): (35, 17869)\n",
      "\n"
     ]
    }
   ],
   "source": [
    "# select shared genes and samples between TCGA expression and CNA datasets (Paclitaxel)\n",
    "\n",
    "TCGAEpaclitaxel = TCGAEpaclitaxel.loc[ls3, ls]\n",
    "TCGACpaclitaxel = TCGACpaclitaxel.loc[ls3, ls]\n",
    "\n",
    "print(f\"TCGA # of common samples and genes for Expression (Paclitaxel): {TCGAEpaclitaxel.shape}\")\n",
    "print(f\"TCGA # of common samples and genes for CNA (Paclitaxel): {TCGACpaclitaxel.shape}\\n\")"
   ]
  },
  {
   "cell_type": "code",
   "execution_count": 24,
   "metadata": {},
   "outputs": [
    {
     "name": "stdout",
     "output_type": "stream",
     "text": [
      "/Volumes/Expansion/Thesis Work/Results/GDSC_DEGs_inhibitors/MITOSISi\n"
     ]
    }
   ],
   "source": [
    "# change directory to read DEGs (MITOSISi)\n",
    "\n",
    "os.chdir(DEGs_dir)\n",
    "print(os.getcwd())"
   ]
  },
  {
   "cell_type": "code",
   "execution_count": 25,
   "metadata": {},
   "outputs": [
    {
     "name": "stdout",
     "output_type": "stream",
     "text": [
      "There are 996 DEGs (p-adjusted < 0.05 and |logFC| > 1) among mitotic inhibitors\n",
      "\n"
     ]
    },
    {
     "data": {
      "text/html": [
       "<div>\n",
       "<style scoped>\n",
       "    .dataframe tbody tr th:only-of-type {\n",
       "        vertical-align: middle;\n",
       "    }\n",
       "\n",
       "    .dataframe tbody tr th {\n",
       "        vertical-align: top;\n",
       "    }\n",
       "\n",
       "    .dataframe thead th {\n",
       "        text-align: right;\n",
       "    }\n",
       "</style>\n",
       "<table border=\"1\" class=\"dataframe\">\n",
       "  <thead>\n",
       "    <tr style=\"text-align: right;\">\n",
       "      <th></th>\n",
       "      <th>Gene Symbol</th>\n",
       "      <th>Frequency</th>\n",
       "    </tr>\n",
       "  </thead>\n",
       "  <tbody>\n",
       "    <tr>\n",
       "      <th>0</th>\n",
       "      <td>PLS3</td>\n",
       "      <td>8</td>\n",
       "    </tr>\n",
       "    <tr>\n",
       "      <th>1</th>\n",
       "      <td>GMFG</td>\n",
       "      <td>7</td>\n",
       "    </tr>\n",
       "    <tr>\n",
       "      <th>2</th>\n",
       "      <td>GPRC5A</td>\n",
       "      <td>7</td>\n",
       "    </tr>\n",
       "    <tr>\n",
       "      <th>3</th>\n",
       "      <td>TJP1</td>\n",
       "      <td>7</td>\n",
       "    </tr>\n",
       "    <tr>\n",
       "      <th>4</th>\n",
       "      <td>CXCR4</td>\n",
       "      <td>7</td>\n",
       "    </tr>\n",
       "  </tbody>\n",
       "</table>\n",
       "</div>"
      ],
      "text/plain": [
       "  Gene Symbol  Frequency\n",
       "0        PLS3          8\n",
       "1        GMFG          7\n",
       "2      GPRC5A          7\n",
       "3        TJP1          7\n",
       "4       CXCR4          7"
      ]
     },
     "execution_count": 25,
     "metadata": {},
     "output_type": "execute_result"
    }
   ],
   "source": [
    "# read DEGs (MITOSISi)\n",
    "\n",
    "DEGs_filtered_data = pd.read_excel(\"MITOSISi_Differentially_Expressed_Genes (EnsemblID).xlsx\",\n",
    "                                    sheet_name = \"Common DEGs\")\n",
    "print(f\"There are {DEGs_filtered_data.shape[0]} DEGs (p-adjusted < 0.05 and |logFC| > 1) among mitotic inhibitors\\n\")\n",
    "\n",
    "DEGs_filtered_data.head()"
   ]
  },
  {
   "cell_type": "code",
   "execution_count": 26,
   "metadata": {},
   "outputs": [
    {
     "name": "stderr",
     "output_type": "stream",
     "text": [
      "2 input query terms found dup hits:\t[('CAST', 2), ('CLECL1P', 2)]\n",
      "1 input query terms found no hit:\t['SLC22A18']\n"
     ]
    },
    {
     "data": {
      "text/plain": [
       "996"
      ]
     },
     "execution_count": 26,
     "metadata": {},
     "output_type": "execute_result"
    }
   ],
   "source": [
    "# get gene symbol from mygene database\n",
    "\n",
    "mg = mygene.MyGeneInfo()\n",
    "DEGs_entrez_id = mg.querymany(DEGs_filtered_data[\"Gene Symbol\"], \n",
    "                              species=\"human\", \n",
    "                              scopes = \"symbol\",\n",
    "                              field = \"entrezgene\",\n",
    "                              as_dataframe=True)[\"entrezgene\"]\n",
    "DEGs_entrez_id = pd.unique(DEGs_entrez_id.dropna())\n",
    "DEGs_entrez_id = pd.Series(DEGs_entrez_id)\n",
    "\n",
    "result = mg.query(\"SLC22A18\", species=\"human\", scopes=\"symbol\", fields=\"entrezgene\")\n",
    "DEGs_entrez_id = pd.concat([DEGs_entrez_id, pd.Series(str(result[\"hits\"][1][\"entrezgene\"]))], ignore_index=True)\n",
    "\n",
    "DEGs_entrez_id.shape[0]"
   ]
  },
  {
   "cell_type": "code",
   "execution_count": 27,
   "metadata": {},
   "outputs": [],
   "source": [
    "# assign GDSC data to new variables\n",
    "\n",
    "exprs_z = GDSCE\n",
    "cna = GDSCC\n",
    "responses = GDSCR"
   ]
  },
  {
   "cell_type": "code",
   "execution_count": 28,
   "metadata": {},
   "outputs": [
    {
     "data": {
      "text/html": [
       "<div>\n",
       "<style scoped>\n",
       "    .dataframe tbody tr th:only-of-type {\n",
       "        vertical-align: middle;\n",
       "    }\n",
       "\n",
       "    .dataframe tbody tr th {\n",
       "        vertical-align: top;\n",
       "    }\n",
       "\n",
       "    .dataframe thead th {\n",
       "        text-align: right;\n",
       "    }\n",
       "</style>\n",
       "<table border=\"1\" class=\"dataframe\">\n",
       "  <thead>\n",
       "    <tr style=\"text-align: right;\">\n",
       "      <th></th>\n",
       "      <th>response</th>\n",
       "      <th>logIC50</th>\n",
       "      <th>drug</th>\n",
       "      <th>exprs</th>\n",
       "      <th>CNA</th>\n",
       "      <th>mutations</th>\n",
       "    </tr>\n",
       "  </thead>\n",
       "  <tbody>\n",
       "    <tr>\n",
       "      <th>683665</th>\n",
       "      <td>0</td>\n",
       "      <td>0.70402689461727</td>\n",
       "      <td>VX-680</td>\n",
       "      <td>1</td>\n",
       "      <td>1</td>\n",
       "      <td>1</td>\n",
       "    </tr>\n",
       "    <tr>\n",
       "      <th>683665</th>\n",
       "      <td>0</td>\n",
       "      <td>-3.64728727366553</td>\n",
       "      <td>Paclitaxel</td>\n",
       "      <td>1</td>\n",
       "      <td>1</td>\n",
       "      <td>1</td>\n",
       "    </tr>\n",
       "    <tr>\n",
       "      <th>683665</th>\n",
       "      <td>0</td>\n",
       "      <td>0.307772732941787</td>\n",
       "      <td>S-Trityl-L-cysteine</td>\n",
       "      <td>1</td>\n",
       "      <td>1</td>\n",
       "      <td>1</td>\n",
       "    </tr>\n",
       "  </tbody>\n",
       "</table>\n",
       "</div>"
      ],
      "text/plain": [
       "        response            logIC50                 drug  exprs  CNA  \\\n",
       "683665         0   0.70402689461727               VX-680      1    1   \n",
       "683665         0  -3.64728727366553           Paclitaxel      1    1   \n",
       "683665         0  0.307772732941787  S-Trityl-L-cysteine      1    1   \n",
       "\n",
       "        mutations  \n",
       "683665          1  \n",
       "683665          1  \n",
       "683665          1  "
      ]
     },
     "execution_count": 28,
     "metadata": {},
     "output_type": "execute_result"
    }
   ],
   "source": [
    "# GDSC response dataset\n",
    "\n",
    "responses.head(3)"
   ]
  },
  {
   "cell_type": "code",
   "execution_count": 29,
   "metadata": {
    "scrolled": true
   },
   "outputs": [
    {
     "data": {
      "text/plain": [
       "{'BI-2536',\n",
       " 'GSK1070916',\n",
       " 'GW843682X',\n",
       " 'Genentech Cpd 10',\n",
       " 'MPS-1-IN-1',\n",
       " 'NPK76-II-72-1',\n",
       " 'Paclitaxel',\n",
       " 'S-Trityl-L-cysteine',\n",
       " 'SB-715992',\n",
       " 'VX-680',\n",
       " 'ZM-447439'}"
      ]
     },
     "execution_count": 29,
     "metadata": {},
     "output_type": "execute_result"
    }
   ],
   "source": [
    "# list drug names in GDSC response dataset\n",
    "\n",
    "drugs = set(responses[\"drug\"].values)\n",
    "drugs"
   ]
  },
  {
   "cell_type": "code",
   "execution_count": 30,
   "metadata": {},
   "outputs": [
    {
     "data": {
      "text/plain": [
       "Index([ 683665,  683665,  683665,  683665,  683665,  683665,  683665,  683665,\n",
       "        683665,  683665,\n",
       "       ...\n",
       "        949167,  998184, 1290771, 1298156, 1330948, 1330993, 1503364, 1509073,\n",
       "       1659818, 1659819],\n",
       "      dtype='int64', length=6360)"
      ]
     },
     "execution_count": 30,
     "metadata": {},
     "output_type": "execute_result"
    }
   ],
   "source": [
    "# convert Entrez gene IDs to integer\n",
    "\n",
    "responses.index = responses.index.astype(int)\n",
    "responses.index"
   ]
  },
  {
   "cell_type": "code",
   "execution_count": 31,
   "metadata": {},
   "outputs": [
    {
     "data": {
      "text/plain": [
       "GDSC\\nTissue descriptor 1\n",
       "leukemia             696\n",
       "lymphoma             626\n",
       "lung_NSCLC           600\n",
       "urogenital_system    538\n",
       "lung_SCLC            433\n",
       "aero_dig_tract       424\n",
       "nervous_system       416\n",
       "skin                 371\n",
       "breast               311\n",
       "bone                 302\n",
       "large_intestine      295\n",
       "digestive_system     282\n",
       "neuroblastoma        276\n",
       "kidney               158\n",
       "pancreas             156\n",
       "myeloma              145\n",
       "soft_tissue          141\n",
       "lung                 103\n",
       "thyroid               87\n",
       "Name: count, dtype: int64"
      ]
     },
     "execution_count": 31,
     "metadata": {},
     "output_type": "execute_result"
    }
   ],
   "source": [
    "# merge GDSC cell line details with response dataset\n",
    "\n",
    "dat = pd.merge(GDSC_cell_line_details,\n",
    "         responses,\n",
    "         left_index = True, \n",
    "         right_index=True,\n",
    "         how = \"inner\")\n",
    "\n",
    "dat[\"GDSC\\nTissue descriptor 1\"].value_counts()\n",
    "#dat.head()"
   ]
  },
  {
   "cell_type": "code",
   "execution_count": 32,
   "metadata": {},
   "outputs": [
    {
     "data": {
      "text/plain": [
       "GDSC\\nTissue descriptor 1\n",
       "leukemia             64\n",
       "lymphoma             57\n",
       "lung_SCLC            35\n",
       "nervous_system       25\n",
       "neuroblastoma        23\n",
       "lung_NSCLC           20\n",
       "bone                 20\n",
       "skin                 19\n",
       "urogenital_system    16\n",
       "large_intestine      15\n",
       "aero_dig_tract       14\n",
       "myeloma              13\n",
       "digestive_system     12\n",
       "breast               11\n",
       "kidney               10\n",
       "soft_tissue           9\n",
       "lung                  3\n",
       "pancreas              2\n",
       "thyroid               2\n",
       "Name: count, dtype: int64"
      ]
     },
     "execution_count": 32,
     "metadata": {},
     "output_type": "execute_result"
    }
   ],
   "source": [
    "# list count of cell lines as to tissues treated with paclitaxel\n",
    "\n",
    "filter = (dat[\"drug\"] == \"Paclitaxel\")\n",
    "dat.loc[filter,\"GDSC\\nTissue descriptor 1\"].value_counts()"
   ]
  },
  {
   "cell_type": "code",
   "execution_count": 33,
   "metadata": {},
   "outputs": [
    {
     "data": {
      "text/plain": [
       "Index(['683665', '683665', '683665', '683665', '683665', '683665', '683665',\n",
       "       '683665', '683665', '683665',\n",
       "       ...\n",
       "       '949167', '998184', '1290771', '1298156', '1330948', '1330993',\n",
       "       '1503364', '1509073', '1659818', '1659819'],\n",
       "      dtype='object', length=6360)"
      ]
     },
     "execution_count": 33,
     "metadata": {},
     "output_type": "execute_result"
    }
   ],
   "source": [
    "# convert Entrez gene IDs to string\n",
    "\n",
    "responses.index = responses.index.astype(str)\n",
    "responses.index"
   ]
  },
  {
   "cell_type": "code",
   "execution_count": 34,
   "metadata": {},
   "outputs": [
    {
     "name": "stdout",
     "output_type": "stream",
     "text": [
      "GDSC # of common samples and genes (Expression): (6360, 984)\n",
      "GDSC # of common samples and genes (CNA): (6360, 984)\n",
      "GDSC # of common samples (Response): 6360\n",
      "\n",
      "TCGA # of common samples and genes for Paclitaxel (Expression): (35, 984)\n",
      "TCGA # of common samples and genes for Paclitaxel (CNA): (35, 984)\n",
      "\n"
     ]
    }
   ],
   "source": [
    "# filter GDSC expression and CNA datasets (MITOSISi) as to drugs\n",
    "# subset selected DEGs\n",
    "\n",
    "expression_zscores = []\n",
    "CNA = []\n",
    "for drug in drugs:\n",
    "    samples = responses.loc[responses[\"drug\"] == drug, :].index.values\n",
    "    e_z = exprs_z.loc[samples, :]\n",
    "    c = cna.loc[samples, :]\n",
    "    expression_zscores.append(e_z)\n",
    "    CNA.append(c)\n",
    "\n",
    "GDSCEv2 = pd.concat(expression_zscores, axis=0)\n",
    "GDSCCv2 = pd.concat(CNA, axis=0)\n",
    "GDSCRv2 = responses\n",
    "\n",
    "ls4 = list(set(GDSCE.columns).intersection(set(DEGs_entrez_id.astype(int))))\n",
    "ls5 = GDSCEv2.index.intersection(GDSCCv2.index)\n",
    "\n",
    "GDSCEv2 = GDSCEv2.loc[ls5, ls4]\n",
    "GDSCCv2 = GDSCCv2.loc[ls5, ls4]\n",
    "GDSCRv2 = GDSCRv2.loc[ls5, :]\n",
    "\n",
    "TCGAEpaclitaxel = TCGAEpaclitaxel.loc[:,ls4]\n",
    "TCGACpaclitaxel = TCGACpaclitaxel.loc[:,ls4]\n",
    "\n",
    "responses.index = responses.index.values + \"_\" + responses[\"drug\"].values\n",
    "\n",
    "print(f\"GDSC # of common samples and genes (Expression): {GDSCEv2.shape}\")\n",
    "print(f\"GDSC # of common samples and genes (CNA): {GDSCCv2.shape}\")\n",
    "print(f\"GDSC # of common samples (Response): {GDSCRv2.shape[0]}\\n\")\n",
    "\n",
    "print(f\"TCGA # of common samples and genes for Paclitaxel (Expression): {TCGAEpaclitaxel.shape}\")\n",
    "print(f\"TCGA # of common samples and genes for Paclitaxel (CNA): {TCGACpaclitaxel.shape}\\n\")"
   ]
  },
  {
   "cell_type": "code",
   "execution_count": 35,
   "metadata": {},
   "outputs": [
    {
     "name": "stdout",
     "output_type": "stream",
     "text": [
      "[0 0 0 ... 0 0 1]\n"
     ]
    }
   ],
   "source": [
    "# GDSC response values\n",
    "\n",
    "Y = GDSCRv2['response'].values\n",
    "print(Y)"
   ]
  },
  {
   "cell_type": "code",
   "execution_count": 36,
   "metadata": {},
   "outputs": [
    {
     "data": {
      "text/plain": [
       "'/Volumes/Expansion/Thesis Work/Results/preprocessed_results2/response'"
      ]
     },
     "execution_count": 36,
     "metadata": {},
     "output_type": "execute_result"
    }
   ],
   "source": [
    "# change directory to read TCGA response dataset (Paclitaxel)\n",
    "\n",
    "os.chdir(dataset_dir + \"response\")\n",
    "os.getcwd()"
   ]
  },
  {
   "cell_type": "code",
   "execution_count": 37,
   "metadata": {},
   "outputs": [
    {
     "name": "stdout",
     "output_type": "stream",
     "text": [
      "There are 35 samples with response data in the TCGA (Paclitaxel)\n",
      "\n"
     ]
    },
    {
     "data": {
      "text/plain": [
       "array([0, 0, 0, 1, 1, 1, 1, 1, 1, 1, 1, 1, 1, 1, 1, 1, 1, 0, 0, 0, 0, 0,\n",
       "       1, 1, 1, 1, 1, 1, 1, 1, 0, 1, 1, 1, 0])"
      ]
     },
     "execution_count": 37,
     "metadata": {},
     "output_type": "execute_result"
    }
   ],
   "source": [
    "# read TCGA response dataset (Paclitaxel)\n",
    "\n",
    "TCGARpaclitaxel = pd.read_csv(\"TCGA_response.Paclitaxel.tsv\", \n",
    "                      sep = \"\\t\", \n",
    "                      index_col=0, \n",
    "                      decimal = \",\")\n",
    "TCGARpaclitaxel.dropna(inplace=True)\n",
    "TCGARpaclitaxel.rename(mapper=str, axis='index', inplace=True)\n",
    "d = {\"R\": 0, \"S\": 1}\n",
    "TCGARpaclitaxel[\"response\"] = TCGARpaclitaxel.loc[:, \"response\"].apply(lambda x: d[x])\n",
    "Ytspaclitaxel = TCGARpaclitaxel[\"response\"].values    \n",
    "\n",
    "print(f\"There are {Ytspaclitaxel.shape[0]} samples with response data in the TCGA (Paclitaxel)\\n\")\n",
    "Ytspaclitaxel"
   ]
  },
  {
   "cell_type": "code",
   "execution_count": 38,
   "metadata": {},
   "outputs": [
    {
     "data": {
      "text/plain": [
       "cohort\n",
       "BRCA    27\n",
       "LUAD     3\n",
       "UCS      3\n",
       "STAD     1\n",
       "HNSC     1\n",
       "Name: count, dtype: int64"
      ]
     },
     "execution_count": 38,
     "metadata": {},
     "output_type": "execute_result"
    }
   ],
   "source": [
    "# TCGA cohort table with TCGA response dataset (Paclitaxel)\n",
    "\n",
    "dat_tcga = TCGARpaclitaxel[\"cohort\"]\n",
    "\n",
    "dat_tcga.value_counts()"
   ]
  },
  {
   "cell_type": "code",
   "execution_count": 39,
   "metadata": {},
   "outputs": [
    {
     "data": {
      "text/plain": [
       "Index(['TCGA-A2-A0EP-01A', 'TCGA-A2-A3XS-01A', 'TCGA-A2-A3XW-01A',\n",
       "       'TCGA-A2-A3XX-01A', 'TCGA-A2-A3XY-01A', 'TCGA-A2-A4S2-01A',\n",
       "       'TCGA-A7-A4SA-01A', 'TCGA-A7-A4SE-01A', 'TCGA-A7-A5ZV-01A',\n",
       "       'TCGA-A7-A5ZX-01A', 'TCGA-A8-A08X-01A', 'TCGA-A8-A09M-01A',\n",
       "       'TCGA-AQ-A54O-01A', 'TCGA-B6-A402-01A', 'TCGA-D8-A3Z6-01A',\n",
       "       'TCGA-EW-A1OY-01A', 'TCGA-EW-A1P3-01A', 'TCGA-EW-A2FR-01A',\n",
       "       'TCGA-GM-A2DA-01A', 'TCGA-GM-A2DB-01A', 'TCGA-GM-A2DF-01A',\n",
       "       'TCGA-GM-A2DH-01A', 'TCGA-GM-A2DM-01A', 'TCGA-GM-A2DN-01A',\n",
       "       'TCGA-GM-A3XG-01A', 'TCGA-GM-A3XL-01A', 'TCGA-GM-A3XN-01A'],\n",
       "      dtype='object', name='sample')"
      ]
     },
     "execution_count": 39,
     "metadata": {},
     "output_type": "execute_result"
    }
   ],
   "source": [
    "# filter BRCA cohort samples (Paclitaxel)\n",
    "\n",
    "filter = (TCGARpaclitaxel[\"cohort\"] == \"BRCA\")\n",
    "tcga_brca_samples = dat_tcga.loc[filter,].index\n",
    "tcga_brca_samples"
   ]
  },
  {
   "cell_type": "code",
   "execution_count": 40,
   "metadata": {},
   "outputs": [
    {
     "data": {
      "text/plain": [
       "array([1, 1, 1, 1, 1, 1, 1, 1, 1, 1, 1, 1, 1, 1, 0, 0, 0, 0, 0, 1, 1, 1,\n",
       "       1, 1, 1, 1, 1])"
      ]
     },
     "execution_count": 40,
     "metadata": {},
     "output_type": "execute_result"
    }
   ],
   "source": [
    "# filter responses of BRCA cohort samples (Paclitaxel)\n",
    "\n",
    "Ytspaclitaxel_brca = TCGARpaclitaxel.loc[tcga_brca_samples,\"response\"].values\n",
    "Ytspaclitaxel_brca"
   ]
  },
  {
   "cell_type": "code",
   "execution_count": 41,
   "metadata": {},
   "outputs": [
    {
     "data": {
      "text/plain": [
       "response\n",
       "1    22\n",
       "0     5\n",
       "Name: count, dtype: int64"
      ]
     },
     "execution_count": 41,
     "metadata": {},
     "output_type": "execute_result"
    }
   ],
   "source": [
    "# count of sensitive and resistance BRCA samples (Paclitaxel)\n",
    "\n",
    "TCGARpaclitaxel.loc[tcga_brca_samples,\"response\"].value_counts()"
   ]
  },
  {
   "cell_type": "code",
   "execution_count": 42,
   "metadata": {},
   "outputs": [],
   "source": [
    "# define maximum iteration\n",
    "\n",
    "max_iter = 50"
   ]
  },
  {
   "cell_type": "code",
   "execution_count": 43,
   "metadata": {},
   "outputs": [],
   "source": [
    "# assign number of neurons and dropout rates found for layers from the saved models\n",
    "\n",
    "hdm1 = 64\n",
    "hdm2 = 32\n",
    "rate1 = 0.5\n",
    "rate2 = 0.6\n",
    "rate3 = 0.6"
   ]
  },
  {
   "cell_type": "code",
   "execution_count": 44,
   "metadata": {},
   "outputs": [
    {
     "name": "stdout",
     "output_type": "stream",
     "text": [
      "GDSC - Training AUC (MITOSISi): 0.79\n",
      "GDSC - Training AUCPR (MITOSISi): 0.32\n",
      "TCGA - Test AUC (Paclitaxel): 0.64\n",
      "TCGA - Test AUCPR (Paclitaxel): 0.79\n",
      "TCGA - Test AUC (Paclitaxel, BRCA): 0.74\n",
      "TCGA - Test AUCPR (Paclitaxel, BRCA): 0.94\n",
      "\n",
      "GDSC - Training AUC (MITOSISi, Finetuned): 0.8\n",
      "GDSC - Training AUCPR (MITOSISi, Finetuned): 0.32\n",
      "TCGA - Test AUC (Paclitaxel, Finetuned): 0.63\n",
      "TCGA - Test AUCPR (Paclitaxel, Finetuned): 0.8\n",
      "\n",
      "GDSC - Training AUC (MITOSISi, Finetuned): 0.8\n",
      "GDSC - Training AUCPR (MITOSISi, Finetuned): 0.32\n",
      "TCGA - Test AUC (Paclitaxel, BRCA, Finetuned): 0.75\n",
      "TCGA - Test AUCPR (Paclitaxel, BRCA, Finetuned): 0.94\n",
      "\n",
      "\n",
      "Models for maximum finetuning (Paclitaxel)\n",
      "Exprs_Paclitaxel_GDSC_TCGA_MITOSISi_Expression_CNA_Finetuned_10.pt\n",
      "CNA_Paclitaxel_GDSC_TCGA_MITOSISi_Expression_CNA_Finetuned_10.pt\n",
      "Class_Paclitaxel_GDSC_TCGA_MITOSISi_Expression_CNA_Finetuned_10.pt\n",
      "\n",
      "Models for maximum finetuning (Paclitaxel, BRCA)\n",
      "Exprs_Paclitaxel_GDSC_TCGA_MITOSISi_Expression_CNA_Finetuned_7.pt\n",
      "CNA_Paclitaxel_GDSC_TCGA_MITOSISi_Expression_CNA_Finetuned_7.pt\n",
      "Class_Paclitaxel_GDSC_TCGA_MITOSISi_Expression_CNA_Finetuned_7.pt\n"
     ]
    }
   ],
   "source": [
    "# load pre-trained models and make predictions\n",
    "\n",
    "scalerGDSC = sk.StandardScaler()\n",
    "scalerGDSC.fit(GDSCEv2.values)\n",
    "X_trainE = scalerGDSC.transform(GDSCEv2.values)\n",
    "X_testEpaclitaxel = scalerGDSC.transform(TCGAEpaclitaxel.values)    \n",
    "\n",
    "X_testEpaclitaxel = scalerGDSC.transform(TCGAEpaclitaxel.values)    \n",
    "X_testEpaclitaxel_brca = scalerGDSC.transform(TCGAEpaclitaxel.loc[tcga_brca_samples,].values)    \n",
    "\n",
    "X_trainC = np.nan_to_num(GDSCCv2.values)\n",
    "X_testCpaclitaxel = np.nan_to_num(TCGACpaclitaxel.values.astype(np.float32))\n",
    "X_testCpaclitaxel_brca = np.nan_to_num(TCGACpaclitaxel.loc[tcga_brca_samples,].values)\n",
    "\n",
    "TX_testEpaclitaxel = torch.FloatTensor(X_testEpaclitaxel)\n",
    "TX_testCpaclitaxel = torch.FloatTensor(X_testCpaclitaxel.astype(np.float32))\n",
    "ty_testEpaclitaxelorouracil = torch.FloatTensor(Ytspaclitaxel.astype(int))\n",
    "\n",
    "TX_testEpaclitaxel = torch.FloatTensor(X_testEpaclitaxel)\n",
    "TX_testEpaclitaxel_brca = torch.FloatTensor(X_testEpaclitaxel_brca)\n",
    "\n",
    "TX_testCpaclitaxel = torch.FloatTensor(X_testCpaclitaxel.astype(np.float32))\n",
    "TX_testCpaclitaxel_brca = torch.FloatTensor(X_testCpaclitaxel_brca.astype(np.float32))\n",
    "n_sampE, IE_dim = X_trainE.shape\n",
    "n_sampC, IC_dim = X_trainC.shape\n",
    "\n",
    "h_dim1 = hdm1\n",
    "h_dim2 = hdm2\n",
    "Z_in = h_dim1 + h_dim2 \n",
    "\n",
    "class AEE(nn.Module):\n",
    "    def __init__(self):\n",
    "        super(AEE, self).__init__()\n",
    "        self.EnE = torch.nn.Sequential(\n",
    "            nn.Linear(IE_dim, h_dim1),\n",
    "            nn.BatchNorm1d(h_dim1),\n",
    "            nn.ReLU(),\n",
    "            nn.Dropout(rate1))\n",
    "    def forward(self, x):\n",
    "        output = self.EnE(x)\n",
    "        return output  \n",
    "\n",
    "\n",
    "class AEC(nn.Module):\n",
    "    def __init__(self):\n",
    "        super(AEC, self).__init__()\n",
    "        self.EnC = torch.nn.Sequential(\n",
    "            nn.Linear(IC_dim, h_dim2),\n",
    "            nn.BatchNorm1d(h_dim2),\n",
    "            nn.ReLU(),\n",
    "            nn.Dropout(rate2))\n",
    "    def forward(self, x):\n",
    "        output = self.EnC(x)\n",
    "        return output       \n",
    "\n",
    "class Classifier(nn.Module):\n",
    "    def __init__(self):\n",
    "        super(Classifier, self).__init__()\n",
    "        self.FC = torch.nn.Sequential(\n",
    "            nn.Linear(Z_in, 1),\n",
    "            nn.Dropout(rate3),\n",
    "            nn.Sigmoid())\n",
    "    def forward(self, x):\n",
    "        return self.FC(x)\n",
    "\n",
    "torch.cuda.manual_seed_all(42)\n",
    "\n",
    "AutoencoderE = torch.load(models_dir + \"Exprs_Paclitaxel_GDSC_TCGA_MITOSISi_Expression_CNA.pt\")\n",
    "AutoencoderC = torch.load(models_dir + \"CNA_Paclitaxel_GDSC_TCGA_MITOSISi_Expression_CNA.pt\")\n",
    "\n",
    "Clas = torch.load(models_dir + \"Class_Paclitaxel_GDSC_TCGA_MITOSISi_Expression_CNA.pt\")\n",
    "\n",
    "AutoencoderE.eval()\n",
    "AutoencoderC.eval()\n",
    "Clas.eval()\n",
    "\n",
    "ZEX = AutoencoderE(torch.FloatTensor(X_trainE))\n",
    "ZCX = AutoencoderC(torch.FloatTensor(X_trainC))\n",
    "ZTX = torch.cat((ZEX, ZCX), 1)\n",
    "ZTX = F.normalize(ZTX, p=2, dim=0)\n",
    "PredX = Clas(ZTX)\n",
    "AUCT = roc_auc_score(Y, PredX.detach().numpy())\n",
    "#print(f\"GDSC - Training AUC (TCGA_MITOSISi): {round(AUCT,2)}\")\n",
    "AUCTaucpr = average_precision_score(Y, PredX.detach().numpy())\n",
    "#print(f\"GDSC - Training AUCPR (TCGA_MITOSISi): {round(AUCTaucpr,2)}\\n\")\n",
    "\n",
    "ZETpaclitaxel = AutoencoderE(TX_testEpaclitaxel)\n",
    "ZCTpaclitaxel = AutoencoderC(TX_testCpaclitaxel)\n",
    "ZTTpaclitaxel = torch.cat((ZETpaclitaxel, ZCTpaclitaxel), 1)\n",
    "ZTTpaclitaxel = F.normalize(ZTTpaclitaxel, p=2, dim=0)\n",
    "PredTpaclitaxel = Clas(ZTTpaclitaxel)\n",
    "AUCTpaclitaxel = roc_auc_score(Ytspaclitaxel.astype(int), PredTpaclitaxel.detach().numpy())\n",
    "#print(f\"TCGA - Test AUC (Paclitaxel): {round(AUCTpaclitaxel,2)}\")\n",
    "AUCTpaclitaxel_aucpr = average_precision_score(Ytspaclitaxel.astype(int), PredTpaclitaxel.detach().numpy())\n",
    "#print(f\"TCGA - Test AUCPR (Paclitaxel): {round(AUCTpaclitaxel_aucpr,2)}\\n\")\n",
    "\n",
    "ZETpaclitaxel_brca = AutoencoderE(TX_testEpaclitaxel_brca)\n",
    "ZCTpaclitaxel_brca = AutoencoderC(TX_testCpaclitaxel_brca)\n",
    "ZTTpaclitaxel_brca = torch.cat((ZETpaclitaxel_brca,  ZCTpaclitaxel_brca), 1)\n",
    "ZTTpaclitaxel_brca = F.normalize(ZTTpaclitaxel_brca, p=2, dim=0)\n",
    "PredTpaclitaxel_brca = Clas(ZTTpaclitaxel_brca)\n",
    "AUCTpaclitaxel_brca = roc_auc_score(Ytspaclitaxel_brca.astype(int), PredTpaclitaxel_brca.detach().numpy())\n",
    "#print(f\"TCGA - Test AUC (Paclitaxel, BRCA): {round(AUCTpaclitaxel_brca,2)}\")\n",
    "AUCTpaclitaxel_brca_aucpr = average_precision_score(Ytspaclitaxel_brca.astype(int), PredTpaclitaxel_brca.detach().numpy())\n",
    "#print(f\"TCGA - Test AUCPR (Paclitaxel, BRCA): {round(AUCTpaclitaxel_brca_aucpr,2)}\")\n",
    "\n",
    "AUCT_finetuned = dict()\n",
    "AUCTaucpr_finetuned = dict()\n",
    "AUCTpaclitaxel_finetuned = dict()\n",
    "AUCTpaclitaxel_brca_finetuned = dict()\n",
    "AUCTpaclitaxel_aucpr_finetuned = dict()\n",
    "AUCTpaclitaxel_brca_aucpr_finetuned = dict()\n",
    "for iter in range(max_iter):\n",
    "   iter += 1  \n",
    "\n",
    "   AutoencoderE_finetuned = torch.load(models_dir + f\"Finetuned_Models/Exprs_Paclitaxel_GDSC_TCGA_MITOSISi_Expression_CNA_Finetuned_{iter}.pt\")\n",
    "   AutoencoderC_finetuned = torch.load(models_dir + f\"Finetuned_Models/CNA_Paclitaxel_GDSC_TCGA_MITOSISi_Expression_CNA_Finetuned_{iter}.pt\")\n",
    "   Clas_finetuned = torch.load(models_dir + f\"Finetuned_Models/Class_Paclitaxel_GDSC_TCGA_MITOSISi_Expression_CNA_Finetuned_{iter}.pt\")\n",
    "   \n",
    "   AutoencoderE_finetuned.eval()\n",
    "   AutoencoderC_finetuned.eval()\n",
    "   Clas_finetuned.eval()\n",
    "      \n",
    "   ZEX = AutoencoderE_finetuned(torch.FloatTensor(X_trainE))\n",
    "   ZCX = AutoencoderC_finetuned(torch.FloatTensor(X_trainC))\n",
    "   ZTX = torch.cat((ZEX, ZCX), 1)\n",
    "   ZTX = F.normalize(ZTX, p=2, dim=0)\n",
    "   PredX = Clas_finetuned(ZTX)\n",
    "   AUCT_finetuned[iter] = roc_auc_score(Y, PredX.detach().numpy())\n",
    "   AUCTaucpr_finetuned[iter] = average_precision_score(Y, PredX.detach().numpy())\n",
    "   \n",
    "   ZETpaclitaxel = AutoencoderE_finetuned(TX_testEpaclitaxel)\n",
    "   ZCTpaclitaxel = AutoencoderC_finetuned(TX_testCpaclitaxel)\n",
    "   ZTTpaclitaxel = torch.cat((ZETpaclitaxel, ZCTpaclitaxel), 1)\n",
    "   ZTTpaclitaxel = F.normalize(ZTTpaclitaxel, p=2, dim=0)\n",
    "   PredTpaclitaxel = Clas_finetuned(ZTTpaclitaxel)\n",
    "   AUCTpaclitaxel_finetuned[iter] = roc_auc_score(Ytspaclitaxel.astype(int), PredTpaclitaxel.detach().numpy())\n",
    "   AUCTpaclitaxel_aucpr_finetuned[iter] = average_precision_score(Ytspaclitaxel.astype(int), PredTpaclitaxel.detach().numpy())\n",
    "\n",
    "   ZETpaclitaxel_brca = AutoencoderE_finetuned(TX_testEpaclitaxel_brca)\n",
    "   ZCTpaclitaxel_brca = AutoencoderC_finetuned(TX_testCpaclitaxel_brca)\n",
    "   ZTTpaclitaxel_brca = torch.cat((ZETpaclitaxel_brca, ZCTpaclitaxel_brca), 1)\n",
    "   ZTTpaclitaxel_brca = F.normalize(ZTTpaclitaxel_brca, p=2, dim=0)\n",
    "   PredTpaclitaxel_brca = Clas_finetuned(ZTTpaclitaxel_brca)\n",
    "   AUCTpaclitaxel_brca_finetuned[iter] = roc_auc_score(Ytspaclitaxel_brca.astype(int), PredTpaclitaxel_brca.detach().numpy())\n",
    "   AUCTpaclitaxel_brca_aucpr_finetuned[iter] = average_precision_score(Ytspaclitaxel_brca.astype(int), PredTpaclitaxel_brca.detach().numpy())\n",
    "\n",
    "max_key = max(AUCTpaclitaxel_aucpr_finetuned, key=AUCTpaclitaxel_aucpr_finetuned.get)\n",
    "max_key_brca = max(AUCTpaclitaxel_brca_aucpr_finetuned, key=AUCTpaclitaxel_brca_aucpr_finetuned.get)\n",
    "\n",
    "print(f\"GDSC - Training AUC (MITOSISi): {round(AUCT,2)}\")\n",
    "print(f\"GDSC - Training AUCPR (MITOSISi): {round(AUCTaucpr,2)}\")\n",
    "print(f\"TCGA - Test AUC (Paclitaxel): {round(AUCTpaclitaxel,2)}\")\n",
    "print(f\"TCGA - Test AUCPR (Paclitaxel): {round(AUCTpaclitaxel_aucpr,2)}\")\n",
    "print(f\"TCGA - Test AUC (Paclitaxel, BRCA): {round(AUCTpaclitaxel_brca,2)}\")\n",
    "print(f\"TCGA - Test AUCPR (Paclitaxel, BRCA): {round(AUCTpaclitaxel_brca_aucpr,2)}\\n\")\n",
    "\n",
    "print(f\"GDSC - Training AUC (MITOSISi, Finetuned): {round(AUCT_finetuned[max_key],2)}\")\n",
    "print(f\"GDSC - Training AUCPR (MITOSISi, Finetuned): {round(AUCTaucpr_finetuned[max_key],2)}\")\n",
    "print(f\"TCGA - Test AUC (Paclitaxel, Finetuned): {round(AUCTpaclitaxel_finetuned[max_key],2)}\")\n",
    "print(f\"TCGA - Test AUCPR (Paclitaxel, Finetuned): {round(AUCTpaclitaxel_aucpr_finetuned[max_key],2)}\\n\")\n",
    "\n",
    "print(f\"GDSC - Training AUC (MITOSISi, Finetuned): {round(AUCT_finetuned[max_key_brca],2)}\")\n",
    "print(f\"GDSC - Training AUCPR (MITOSISi, Finetuned): {round(AUCTaucpr_finetuned[max_key_brca],2)}\")\n",
    "print(f\"TCGA - Test AUC (Paclitaxel, BRCA, Finetuned): {round(AUCTpaclitaxel_brca_finetuned[max_key_brca],2)}\")\n",
    "print(f\"TCGA - Test AUCPR (Paclitaxel, BRCA, Finetuned): {round(AUCTpaclitaxel_brca_aucpr_finetuned[max_key_brca],2)}\\n\\n\")\n",
    "\n",
    "print(\"Models for maximum finetuning (Paclitaxel)\")\n",
    "print(f\"Exprs_Paclitaxel_GDSC_TCGA_MITOSISi_Expression_CNA_Finetuned_{max_key}.pt\")\n",
    "print(f\"CNA_Paclitaxel_GDSC_TCGA_MITOSISi_Expression_CNA_Finetuned_{max_key}.pt\")\n",
    "print(f\"Class_Paclitaxel_GDSC_TCGA_MITOSISi_Expression_CNA_Finetuned_{max_key}.pt\")\n",
    "\n",
    "print(\"\\nModels for maximum finetuning (Paclitaxel, BRCA)\")\n",
    "print(f\"Exprs_Paclitaxel_GDSC_TCGA_MITOSISi_Expression_CNA_Finetuned_{max_key_brca}.pt\")\n",
    "print(f\"CNA_Paclitaxel_GDSC_TCGA_MITOSISi_Expression_CNA_Finetuned_{max_key_brca}.pt\")\n",
    "print(f\"Class_Paclitaxel_GDSC_TCGA_MITOSISi_Expression_CNA_Finetuned_{max_key_brca}.pt\")"
   ]
  },
  {
   "cell_type": "code",
   "execution_count": 45,
   "metadata": {},
   "outputs": [
    {
     "data": {
      "text/html": [
       "<div>\n",
       "<style scoped>\n",
       "    .dataframe tbody tr th:only-of-type {\n",
       "        vertical-align: middle;\n",
       "    }\n",
       "\n",
       "    .dataframe tbody tr th {\n",
       "        vertical-align: top;\n",
       "    }\n",
       "\n",
       "    .dataframe thead th {\n",
       "        text-align: right;\n",
       "    }\n",
       "</style>\n",
       "<table border=\"1\" class=\"dataframe\">\n",
       "  <thead>\n",
       "    <tr style=\"text-align: right;\">\n",
       "      <th></th>\n",
       "      <th>Data</th>\n",
       "      <th>AUC (GDSC)</th>\n",
       "      <th>AUCPR (GDSC)</th>\n",
       "      <th>AUC (TCGA)</th>\n",
       "      <th>AUCPR (TCGA)</th>\n",
       "      <th>AUC (TCGA-BRCA)</th>\n",
       "      <th>AUCPR (TCGA-BRCA)</th>\n",
       "      <th>Sample Size (GDSC)</th>\n",
       "      <th>Feature Size (GDSC)</th>\n",
       "    </tr>\n",
       "  </thead>\n",
       "  <tbody>\n",
       "    <tr>\n",
       "      <th>0</th>\n",
       "      <td>Expr + CNA</td>\n",
       "      <td>0.79</td>\n",
       "      <td>0.32</td>\n",
       "      <td>0.64</td>\n",
       "      <td>0.79</td>\n",
       "      <td>0.74</td>\n",
       "      <td>0.94</td>\n",
       "      <td>6360</td>\n",
       "      <td>984</td>\n",
       "    </tr>\n",
       "    <tr>\n",
       "      <th>1</th>\n",
       "      <td>Expr + CNA (Fine-tuned)</td>\n",
       "      <td>0.8</td>\n",
       "      <td>0.32</td>\n",
       "      <td>0.63</td>\n",
       "      <td>0.8</td>\n",
       "      <td>0.75</td>\n",
       "      <td>0.94</td>\n",
       "      <td>6360</td>\n",
       "      <td>984</td>\n",
       "    </tr>\n",
       "  </tbody>\n",
       "</table>\n",
       "</div>"
      ],
      "text/plain": [
       "                      Data AUC (GDSC) AUCPR (GDSC) AUC (TCGA) AUCPR (TCGA)  \\\n",
       "0               Expr + CNA       0.79         0.32       0.64         0.79   \n",
       "1  Expr + CNA (Fine-tuned)        0.8         0.32       0.63          0.8   \n",
       "\n",
       "  AUC (TCGA-BRCA) AUCPR (TCGA-BRCA) Sample Size (GDSC) Feature Size (GDSC)  \n",
       "0            0.74              0.94               6360                 984  \n",
       "1            0.75              0.94               6360                 984  "
      ]
     },
     "execution_count": 45,
     "metadata": {},
     "output_type": "execute_result"
    }
   ],
   "source": [
    "# create a dataframe with the prediction results \n",
    "\n",
    "ec = {\"Data\": [\"Expr + CNA\", \"Expr + CNA (Fine-tuned)\"],\n",
    "       \"AUC (GDSC)\": [round(AUCT, 2), round(AUCT_finetuned[max_key], 2)],\n",
    "       \"AUCPR (GDSC)\": [round(AUCTaucpr,2), round(AUCTaucpr_finetuned[max_key],2)],\n",
    "       \"AUC (TCGA)\": [round(AUCTpaclitaxel,2), round(AUCTpaclitaxel_finetuned[max_key],2)],\n",
    "       \"AUCPR (TCGA)\":  [round(AUCTpaclitaxel_aucpr,2), round(AUCTpaclitaxel_aucpr_finetuned[max_key],2)],\n",
    "       \"AUC (TCGA-BRCA)\":  [round(AUCTpaclitaxel_brca,2), round(AUCTpaclitaxel_brca_finetuned[max_key_brca],2)],\n",
    "       \"AUCPR (TCGA-BRCA)\": [round(AUCTpaclitaxel_brca_aucpr,2), round(AUCTpaclitaxel_brca_aucpr_finetuned[max_key_brca],2)],\n",
    "       \"Sample Size (GDSC)\": [GDSCEv2.shape[0], GDSCEv2.shape[0]],\n",
    "       \"Feature Size (GDSC)\": [GDSCEv2.shape[1], GDSCEv2.shape[1]] \n",
    "}\n",
    "ec_dataframe = pd.DataFrame.from_dict(ec, orient='index').transpose()  \n",
    "ec_dataframe.to_csv(save_results_to + \"GDSC_TCGA_Expression_CNA_MITOSISi_Paclitaxel.tsv\",\n",
    "                    sep = \"\\t\",\n",
    "                    index = False)\n",
    "\n",
    "ec_dataframe"
   ]
  },
  {
   "cell_type": "code",
   "execution_count": 46,
   "metadata": {},
   "outputs": [
    {
     "data": {
      "text/plain": [
       "AEE(\n",
       "  (EnE): Sequential(\n",
       "    (0): Linear(in_features=984, out_features=64, bias=True)\n",
       "    (1): BatchNorm1d(64, eps=1e-05, momentum=0.1, affine=True, track_running_stats=True)\n",
       "    (2): ReLU()\n",
       "    (3): Dropout(p=0.5, inplace=False)\n",
       "  )\n",
       ")"
      ]
     },
     "execution_count": 46,
     "metadata": {},
     "output_type": "execute_result"
    }
   ],
   "source": [
    "# show expression layer parameters\n",
    "\n",
    "AutoencoderE"
   ]
  },
  {
   "cell_type": "code",
   "execution_count": 47,
   "metadata": {},
   "outputs": [
    {
     "data": {
      "text/plain": [
       "AEC(\n",
       "  (EnC): Sequential(\n",
       "    (0): Linear(in_features=984, out_features=32, bias=True)\n",
       "    (1): BatchNorm1d(32, eps=1e-05, momentum=0.1, affine=True, track_running_stats=True)\n",
       "    (2): ReLU()\n",
       "    (3): Dropout(p=0.6, inplace=False)\n",
       "  )\n",
       ")"
      ]
     },
     "execution_count": 47,
     "metadata": {},
     "output_type": "execute_result"
    }
   ],
   "source": [
    "# show CNA layer parameters\n",
    "\n",
    "AutoencoderC"
   ]
  },
  {
   "cell_type": "code",
   "execution_count": 48,
   "metadata": {},
   "outputs": [
    {
     "data": {
      "text/plain": [
       "Classifier(\n",
       "  (FC): Sequential(\n",
       "    (0): Linear(in_features=96, out_features=1, bias=True)\n",
       "    (1): Dropout(p=0.6, inplace=False)\n",
       "    (2): Sigmoid()\n",
       "  )\n",
       ")"
      ]
     },
     "execution_count": 48,
     "metadata": {},
     "output_type": "execute_result"
    }
   ],
   "source": [
    "# show classification layer parameters\n",
    "\n",
    "Clas"
   ]
  },
  {
   "cell_type": "code",
   "execution_count": 49,
   "metadata": {},
   "outputs": [
    {
     "name": "stdout",
     "output_type": "stream",
     "text": [
      "/Volumes/Expansion/Thesis Work/Results/Transfer Learning/Drugs with same pathways/TCGA_MITOSISi/Expression_CNA/Predictions\n"
     ]
    }
   ],
   "source": [
    "# change directory\n",
    "\n",
    "os.chdir(save_results_to)\n",
    "print(os.getcwd())"
   ]
  },
  {
   "cell_type": "code",
   "execution_count": 50,
   "metadata": {},
   "outputs": [],
   "source": [
    "# save predictions\n",
    "\n",
    "file = open('GDSC_TCGA_DEGs - TCGA_MITOSISi_Paclitaxel Predictions (Expression and CNA).txt', 'w')\n",
    "file.write(f\"GDSC Training (EC) AUC (TCGA_MITOSISi): {round(AUCT,2)}\\n\")\n",
    "file.write(f\"GDSC Training (EC) AUCPR (TCGA_MITOSISi): {round(AUCTaucpr,2)}\\n\\n\")\n",
    "\n",
    "file.write(f\"TCGA Test (EC) AUC (Paclitaxel): {round(AUCTpaclitaxel,2)}\\n\")\n",
    "file.write(f\"TCGA Test (EC) AUCPR (Paclitaxel): {round(AUCTpaclitaxel_aucpr,2)}\\n\\n\")\n",
    "\n",
    "file.close()"
   ]
  }
 ],
 "metadata": {
  "kernelspec": {
   "display_name": "Python 3 (ipykernel)",
   "language": "python",
   "name": "python3"
  },
  "language_info": {
   "codemirror_mode": {
    "name": "ipython",
    "version": 3
   },
   "file_extension": ".py",
   "mimetype": "text/x-python",
   "name": "python",
   "nbconvert_exporter": "python",
   "pygments_lexer": "ipython3",
   "version": "3.12.7"
  }
 },
 "nbformat": 4,
 "nbformat_minor": 4
}
