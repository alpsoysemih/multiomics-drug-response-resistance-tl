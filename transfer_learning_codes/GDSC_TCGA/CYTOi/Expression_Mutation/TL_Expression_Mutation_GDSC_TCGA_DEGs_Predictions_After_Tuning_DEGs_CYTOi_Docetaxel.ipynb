{
 "cells": [
  {
   "cell_type": "code",
   "execution_count": 1,
   "metadata": {},
   "outputs": [],
   "source": [
    "# import libraries\n",
    "\n",
    "import os\n",
    "import torch \n",
    "import torch.nn as nn\n",
    "import torch.nn.functional as F\n",
    "import torch.optim as optim\n",
    "import numpy as np\n",
    "import matplotlib.pyplot as plt\n",
    "import pandas as pd\n",
    "import math\n",
    "import mygene\n",
    "import sklearn.preprocessing as sk\n",
    "import seaborn as sns\n",
    "from sklearn import metrics\n",
    "from sklearn.feature_selection import VarianceThreshold\n",
    "from sklearn.model_selection import train_test_split\n",
    "from sklearn.metrics import confusion_matrix\n",
    "from sklearn.metrics import classification_report\n",
    "from torch.utils.data.sampler import WeightedRandomSampler\n",
    "from sklearn.metrics import roc_curve, auc\n",
    "from sklearn.metrics import roc_auc_score\n",
    "from sklearn.metrics import average_precision_score, precision_recall_curve\n",
    "import random\n",
    "from random import randint\n",
    "from sklearn.model_selection import StratifiedKFold\n",
    "import warnings\n",
    "\n",
    "# Suppress all warnings\n",
    "warnings.filterwarnings(\"ignore\")"
   ]
  },
  {
   "cell_type": "code",
   "execution_count": 2,
   "metadata": {},
   "outputs": [],
   "source": [
    "# define directories\n",
    "\n",
    "cell_line_dir = \"/Volumes/Expansion/Thesis Work/Supplementary Files/GDSC/\"\n",
    "models_dir = \"/Volumes/Expansion/Thesis Work/Results/Transfer Learning/Drugs with same pathways/TCGA_CYTOi/Expression_Mutation/Models/\"\n",
    "DEGs_dir = \"/Volumes/Expansion/Thesis Work/Results/GDSC_DEGs_inhibitors/CYTOi/\"\n",
    "dataset_dir = \"/Volumes/Expansion/Thesis Work/Results/preprocessed_results2/\"\n",
    "save_results_to = \"/Volumes/Expansion/Thesis Work/Results/Transfer Learning/Drugs with same pathways/TCGA_CYTOi/Expression_Mutation/Predictions/\""
   ]
  },
  {
   "cell_type": "code",
   "execution_count": 3,
   "metadata": {},
   "outputs": [],
   "source": [
    "# set random seeds\n",
    "\n",
    "torch.manual_seed(42)\n",
    "random.seed(42)"
   ]
  },
  {
   "cell_type": "code",
   "execution_count": 4,
   "metadata": {},
   "outputs": [
    {
     "name": "stdout",
     "output_type": "stream",
     "text": [
      "/Volumes/Expansion/Thesis Work/Supplementary Files/GDSC\n"
     ]
    }
   ],
   "source": [
    "# change directory to read GDSC cell line details\n",
    "\n",
    "os.chdir(cell_line_dir)\n",
    "print(os.getcwd())"
   ]
  },
  {
   "cell_type": "code",
   "execution_count": 5,
   "metadata": {},
   "outputs": [
    {
     "data": {
      "text/html": [
       "<div>\n",
       "<style scoped>\n",
       "    .dataframe tbody tr th:only-of-type {\n",
       "        vertical-align: middle;\n",
       "    }\n",
       "\n",
       "    .dataframe tbody tr th {\n",
       "        vertical-align: top;\n",
       "    }\n",
       "\n",
       "    .dataframe thead th {\n",
       "        text-align: right;\n",
       "    }\n",
       "</style>\n",
       "<table border=\"1\" class=\"dataframe\">\n",
       "  <thead>\n",
       "    <tr style=\"text-align: right;\">\n",
       "      <th></th>\n",
       "      <th>Sample Name</th>\n",
       "      <th>Whole Exome Sequencing (WES)</th>\n",
       "      <th>Copy Number Alterations (CNA)</th>\n",
       "      <th>Gene Expression</th>\n",
       "      <th>Methylation</th>\n",
       "      <th>Drug\\nResponse</th>\n",
       "      <th>GDSC\\nTissue descriptor 1</th>\n",
       "      <th>GDSC\\nTissue\\ndescriptor 2</th>\n",
       "      <th>Cancer Type\\n(matching TCGA label)</th>\n",
       "      <th>Microsatellite \\ninstability Status (MSI)</th>\n",
       "      <th>Screen Medium</th>\n",
       "      <th>Growth Properties</th>\n",
       "    </tr>\n",
       "    <tr>\n",
       "      <th>COSMIC identifier</th>\n",
       "      <th></th>\n",
       "      <th></th>\n",
       "      <th></th>\n",
       "      <th></th>\n",
       "      <th></th>\n",
       "      <th></th>\n",
       "      <th></th>\n",
       "      <th></th>\n",
       "      <th></th>\n",
       "      <th></th>\n",
       "      <th></th>\n",
       "      <th></th>\n",
       "    </tr>\n",
       "  </thead>\n",
       "  <tbody>\n",
       "    <tr>\n",
       "      <th>1298218</th>\n",
       "      <td>KP-2</td>\n",
       "      <td>Y</td>\n",
       "      <td>N</td>\n",
       "      <td>Y</td>\n",
       "      <td>N</td>\n",
       "      <td>Y</td>\n",
       "      <td>pancreas</td>\n",
       "      <td>pancreas</td>\n",
       "      <td>PAAD</td>\n",
       "      <td></td>\n",
       "      <td>D/F12</td>\n",
       "      <td>Adherent</td>\n",
       "    </tr>\n",
       "    <tr>\n",
       "      <th>1330932</th>\n",
       "      <td>KO52</td>\n",
       "      <td>Y</td>\n",
       "      <td>Y</td>\n",
       "      <td>N</td>\n",
       "      <td>N</td>\n",
       "      <td>N</td>\n",
       "      <td>leukemia</td>\n",
       "      <td>acute_myeloid_leukaemia</td>\n",
       "      <td>LAML</td>\n",
       "      <td>MSS/MSI-L</td>\n",
       "      <td>D/F12</td>\n",
       "      <td>NA</td>\n",
       "    </tr>\n",
       "    <tr>\n",
       "      <th>1331030</th>\n",
       "      <td>SC-1</td>\n",
       "      <td>Y</td>\n",
       "      <td>Y</td>\n",
       "      <td>N</td>\n",
       "      <td>N</td>\n",
       "      <td>N</td>\n",
       "      <td>lymphoma</td>\n",
       "      <td>B_cell_lymphoma</td>\n",
       "      <td>DLBC</td>\n",
       "      <td>MSS/MSI-L</td>\n",
       "      <td>R</td>\n",
       "      <td>NA</td>\n",
       "    </tr>\n",
       "    <tr>\n",
       "      <th>1503373</th>\n",
       "      <td>U-CH2</td>\n",
       "      <td>Y</td>\n",
       "      <td>Y</td>\n",
       "      <td>N</td>\n",
       "      <td>N</td>\n",
       "      <td>N</td>\n",
       "      <td>bone</td>\n",
       "      <td>bone_other</td>\n",
       "      <td></td>\n",
       "      <td>MSS/MSI-L</td>\n",
       "      <td>D/F12</td>\n",
       "      <td>Adherent</td>\n",
       "    </tr>\n",
       "    <tr>\n",
       "      <th></th>\n",
       "      <td>TOTAL:</td>\n",
       "      <td>1001</td>\n",
       "      <td>996</td>\n",
       "      <td>968</td>\n",
       "      <td>957</td>\n",
       "      <td>990</td>\n",
       "      <td></td>\n",
       "      <td></td>\n",
       "      <td></td>\n",
       "      <td></td>\n",
       "      <td></td>\n",
       "      <td></td>\n",
       "    </tr>\n",
       "  </tbody>\n",
       "</table>\n",
       "</div>"
      ],
      "text/plain": [
       "                  Sample Name Whole Exome Sequencing (WES)  \\\n",
       "COSMIC identifier                                            \n",
       "1298218                  KP-2                            Y   \n",
       "1330932                  KO52                            Y   \n",
       "1331030                  SC-1                            Y   \n",
       "1503373                 U-CH2                            Y   \n",
       "                       TOTAL:                         1001   \n",
       "\n",
       "                  Copy Number Alterations (CNA) Gene Expression Methylation  \\\n",
       "COSMIC identifier                                                             \n",
       "1298218                                       N               Y           N   \n",
       "1330932                                       Y               N           N   \n",
       "1331030                                       Y               N           N   \n",
       "1503373                                       Y               N           N   \n",
       "                                            996             968         957   \n",
       "\n",
       "                  Drug\\nResponse GDSC\\nTissue descriptor 1  \\\n",
       "COSMIC identifier                                            \n",
       "1298218                        Y                  pancreas   \n",
       "1330932                        N                  leukemia   \n",
       "1331030                        N                  lymphoma   \n",
       "1503373                        N                      bone   \n",
       "                             990                             \n",
       "\n",
       "                  GDSC\\nTissue\\ndescriptor 2  \\\n",
       "COSMIC identifier                              \n",
       "1298218                             pancreas   \n",
       "1330932              acute_myeloid_leukaemia   \n",
       "1331030                      B_cell_lymphoma   \n",
       "1503373                           bone_other   \n",
       "                                               \n",
       "\n",
       "                  Cancer Type\\n(matching TCGA label)  \\\n",
       "COSMIC identifier                                      \n",
       "1298218                                         PAAD   \n",
       "1330932                                         LAML   \n",
       "1331030                                         DLBC   \n",
       "1503373                                                \n",
       "                                                       \n",
       "\n",
       "                  Microsatellite \\ninstability Status (MSI) Screen Medium  \\\n",
       "COSMIC identifier                                                           \n",
       "1298218                                                             D/F12   \n",
       "1330932                                           MSS/MSI-L         D/F12   \n",
       "1331030                                           MSS/MSI-L             R   \n",
       "1503373                                           MSS/MSI-L         D/F12   \n",
       "                                                                            \n",
       "\n",
       "                  Growth Properties  \n",
       "COSMIC identifier                    \n",
       "1298218                    Adherent  \n",
       "1330932                          NA  \n",
       "1331030                          NA  \n",
       "1503373                    Adherent  \n",
       "                                     "
      ]
     },
     "execution_count": 5,
     "metadata": {},
     "output_type": "execute_result"
    }
   ],
   "source": [
    "# read GDSC cell line details table\n",
    "\n",
    "GDSC_cell_line_details = pd.read_excel(\"GDSC_Cell_Lines_Details.xlsx\", keep_default_na = False)\n",
    "GDSC_cell_line_details.set_index(\"COSMIC identifier\", inplace = True)\n",
    "GDSC_cell_line_details.tail()"
   ]
  },
  {
   "cell_type": "code",
   "execution_count": 6,
   "metadata": {},
   "outputs": [
    {
     "name": "stdout",
     "output_type": "stream",
     "text": [
      "/Volumes/Expansion/Thesis Work/Results/preprocessed_results2/exprs\n"
     ]
    }
   ],
   "source": [
    "# change directory to read GDSC expression dataset (CYTOi)\n",
    "\n",
    "os.chdir(dataset_dir + \"/exprs/\")\n",
    "print(os.getcwd())"
   ]
  },
  {
   "cell_type": "code",
   "execution_count": 7,
   "metadata": {},
   "outputs": [
    {
     "data": {
      "text/html": [
       "<div>\n",
       "<style scoped>\n",
       "    .dataframe tbody tr th:only-of-type {\n",
       "        vertical-align: middle;\n",
       "    }\n",
       "\n",
       "    .dataframe tbody tr th {\n",
       "        vertical-align: top;\n",
       "    }\n",
       "\n",
       "    .dataframe thead th {\n",
       "        text-align: right;\n",
       "    }\n",
       "</style>\n",
       "<table border=\"1\" class=\"dataframe\">\n",
       "  <thead>\n",
       "    <tr style=\"text-align: right;\">\n",
       "      <th>ENTREZID</th>\n",
       "      <th>1</th>\n",
       "      <th>2</th>\n",
       "      <th>9</th>\n",
       "      <th>10</th>\n",
       "      <th>12</th>\n",
       "      <th>13</th>\n",
       "      <th>14</th>\n",
       "      <th>15</th>\n",
       "      <th>16</th>\n",
       "      <th>18</th>\n",
       "      <th>...</th>\n",
       "      <th>107984199</th>\n",
       "      <th>107984208</th>\n",
       "      <th>107984325</th>\n",
       "      <th>107984411</th>\n",
       "      <th>107984648</th>\n",
       "      <th>107984889</th>\n",
       "      <th>107984989</th>\n",
       "      <th>107986313</th>\n",
       "      <th>107986782</th>\n",
       "      <th>107986810</th>\n",
       "    </tr>\n",
       "  </thead>\n",
       "  <tbody>\n",
       "    <tr>\n",
       "      <th>683665</th>\n",
       "      <td>-0.4711563767951986</td>\n",
       "      <td>-0.1857522957766964</td>\n",
       "      <td>0.9702409548662462</td>\n",
       "      <td>-0.4081281805960821</td>\n",
       "      <td>-0.4161511169999803</td>\n",
       "      <td>-0.4384159723467665</td>\n",
       "      <td>-1.154692246005183</td>\n",
       "      <td>0.5262132484107975</td>\n",
       "      <td>-0.7950924576033422</td>\n",
       "      <td>-0.6337442716864214</td>\n",
       "      <td>...</td>\n",
       "      <td>1.283534690590172</td>\n",
       "      <td>-0.3367265464586691</td>\n",
       "      <td>-0.0039762988723447</td>\n",
       "      <td>0.7378729872604209</td>\n",
       "      <td>0.9757614264575688</td>\n",
       "      <td>0.1494417647095801</td>\n",
       "      <td>2.062294063911948</td>\n",
       "      <td>-0.8140636761719959</td>\n",
       "      <td>0.2870333828833719</td>\n",
       "      <td>0.9524265085537148</td>\n",
       "    </tr>\n",
       "    <tr>\n",
       "      <th>684055</th>\n",
       "      <td>1.3565140948247052</td>\n",
       "      <td>-0.277542411913307</td>\n",
       "      <td>0.0887087882196536</td>\n",
       "      <td>-0.2754829982302413</td>\n",
       "      <td>-0.5153856346587746</td>\n",
       "      <td>-0.6248712076433911</td>\n",
       "      <td>0.1243408990866293</td>\n",
       "      <td>-1.2699667684674136</td>\n",
       "      <td>2.0788360886382717</td>\n",
       "      <td>2.5197991997459197</td>\n",
       "      <td>...</td>\n",
       "      <td>-0.5571028630154293</td>\n",
       "      <td>-1.724090733574364</td>\n",
       "      <td>-0.3749080365068901</td>\n",
       "      <td>-0.0016055431935905</td>\n",
       "      <td>-0.3788535663547365</td>\n",
       "      <td>-1.3502092798315848</td>\n",
       "      <td>0.6949790577550328</td>\n",
       "      <td>0.4333032198982747</td>\n",
       "      <td>-0.1280986270308099</td>\n",
       "      <td>-1.629249958712223</td>\n",
       "    </tr>\n",
       "    <tr>\n",
       "      <th>684057</th>\n",
       "      <td>0.6510004960254864</td>\n",
       "      <td>1.6578876382433665</td>\n",
       "      <td>-0.4977106390881842</td>\n",
       "      <td>-0.1212172092933644</td>\n",
       "      <td>-0.398455281697677</td>\n",
       "      <td>-0.2804901106672752</td>\n",
       "      <td>0.6455898116420014</td>\n",
       "      <td>0.215833091774836</td>\n",
       "      <td>-0.1723595788875009</td>\n",
       "      <td>-0.2170870770552223</td>\n",
       "      <td>...</td>\n",
       "      <td>-0.024863133395904</td>\n",
       "      <td>0.4073439017665206</td>\n",
       "      <td>-0.4440356638831038</td>\n",
       "      <td>0.8630347078663075</td>\n",
       "      <td>1.4486171428489227</td>\n",
       "      <td>-1.4777214830771732</td>\n",
       "      <td>0.5220400480464272</td>\n",
       "      <td>0.6441211958947753</td>\n",
       "      <td>0.9057518606131394</td>\n",
       "      <td>0.3018783753479829</td>\n",
       "    </tr>\n",
       "  </tbody>\n",
       "</table>\n",
       "<p>3 rows × 18597 columns</p>\n",
       "</div>"
      ],
      "text/plain": [
       "ENTREZID            1                    2                    9          \\\n",
       "683665    -0.4711563767951986  -0.1857522957766964   0.9702409548662462   \n",
       "684055     1.3565140948247052   -0.277542411913307   0.0887087882196536   \n",
       "684057     0.6510004960254864   1.6578876382433665  -0.4977106390881842   \n",
       "\n",
       "ENTREZID            10                   12                   13         \\\n",
       "683665    -0.4081281805960821  -0.4161511169999803  -0.4384159723467665   \n",
       "684055    -0.2754829982302413  -0.5153856346587746  -0.6248712076433911   \n",
       "684057    -0.1212172092933644   -0.398455281697677  -0.2804901106672752   \n",
       "\n",
       "ENTREZID           14                   15                   16         \\\n",
       "683665    -1.154692246005183   0.5262132484107975  -0.7950924576033422   \n",
       "684055    0.1243408990866293  -1.2699667684674136   2.0788360886382717   \n",
       "684057    0.6455898116420014    0.215833091774836  -0.1723595788875009   \n",
       "\n",
       "ENTREZID            18         ...            107984199            107984208  \\\n",
       "683665    -0.6337442716864214  ...    1.283534690590172  -0.3367265464586691   \n",
       "684055     2.5197991997459197  ...  -0.5571028630154293   -1.724090733574364   \n",
       "684057    -0.2170870770552223  ...   -0.024863133395904   0.4073439017665206   \n",
       "\n",
       "ENTREZID            107984325            107984411            107984648  \\\n",
       "683665    -0.0039762988723447   0.7378729872604209   0.9757614264575688   \n",
       "684055    -0.3749080365068901  -0.0016055431935905  -0.3788535663547365   \n",
       "684057    -0.4440356638831038   0.8630347078663075   1.4486171428489227   \n",
       "\n",
       "ENTREZID            107984889           107984989            107986313  \\\n",
       "683665     0.1494417647095801   2.062294063911948  -0.8140636761719959   \n",
       "684055    -1.3502092798315848  0.6949790577550328   0.4333032198982747   \n",
       "684057    -1.4777214830771732  0.5220400480464272   0.6441211958947753   \n",
       "\n",
       "ENTREZID            107986782           107986810  \n",
       "683665     0.2870333828833719  0.9524265085537148  \n",
       "684055    -0.1280986270308099  -1.629249958712223  \n",
       "684057     0.9057518606131394  0.3018783753479829  \n",
       "\n",
       "[3 rows x 18597 columns]"
      ]
     },
     "execution_count": 7,
     "metadata": {},
     "output_type": "execute_result"
    }
   ],
   "source": [
    "# read GDSC expression dataset (CYTOi)\n",
    "\n",
    "GDSCE = pd.read_csv(\"GDSC_exprs.z.CYTOi.tsv\", \n",
    "                    sep = \"\\t\", index_col=0, decimal = \",\")\n",
    "GDSCE = pd.DataFrame.transpose(GDSCE)\n",
    "GDSCE.head(3)"
   ]
  },
  {
   "cell_type": "code",
   "execution_count": 8,
   "metadata": {},
   "outputs": [
    {
     "name": "stdout",
     "output_type": "stream",
     "text": [
      "/Volumes/Expansion/Thesis Work/Results/preprocessed_results2/mutations\n"
     ]
    }
   ],
   "source": [
    "# change directory to read GDSC mutation dataset (CYTOi)\n",
    "\n",
    "os.chdir(dataset_dir + \"/mutations/\")\n",
    "print(os.getcwd())"
   ]
  },
  {
   "cell_type": "code",
   "execution_count": 9,
   "metadata": {},
   "outputs": [
    {
     "data": {
      "text/html": [
       "<div>\n",
       "<style scoped>\n",
       "    .dataframe tbody tr th:only-of-type {\n",
       "        vertical-align: middle;\n",
       "    }\n",
       "\n",
       "    .dataframe tbody tr th {\n",
       "        vertical-align: top;\n",
       "    }\n",
       "\n",
       "    .dataframe thead th {\n",
       "        text-align: right;\n",
       "    }\n",
       "</style>\n",
       "<table border=\"1\" class=\"dataframe\">\n",
       "  <thead>\n",
       "    <tr style=\"text-align: right;\">\n",
       "      <th></th>\n",
       "      <th>143872</th>\n",
       "      <th>728577</th>\n",
       "      <th>2</th>\n",
       "      <th>2050</th>\n",
       "      <th>10243</th>\n",
       "      <th>79365</th>\n",
       "      <th>256006</th>\n",
       "      <th>4609</th>\n",
       "      <th>118788</th>\n",
       "      <th>113675</th>\n",
       "      <th>...</th>\n",
       "      <th>26517</th>\n",
       "      <th>28972</th>\n",
       "      <th>53917</th>\n",
       "      <th>283507</th>\n",
       "      <th>514</th>\n",
       "      <th>339210</th>\n",
       "      <th>64981</th>\n",
       "      <th>7335</th>\n",
       "      <th>5739</th>\n",
       "      <th>83442</th>\n",
       "    </tr>\n",
       "  </thead>\n",
       "  <tbody>\n",
       "    <tr>\n",
       "      <th>683665</th>\n",
       "      <td>0.0</td>\n",
       "      <td>0.0</td>\n",
       "      <td>0.0</td>\n",
       "      <td>0.0</td>\n",
       "      <td>0.0</td>\n",
       "      <td>0.0</td>\n",
       "      <td>0.0</td>\n",
       "      <td>0.0</td>\n",
       "      <td>0.0</td>\n",
       "      <td>0.0</td>\n",
       "      <td>...</td>\n",
       "      <td>0.0</td>\n",
       "      <td>0.0</td>\n",
       "      <td>0.0</td>\n",
       "      <td>0.0</td>\n",
       "      <td>0.0</td>\n",
       "      <td>0.0</td>\n",
       "      <td>0.0</td>\n",
       "      <td>0.0</td>\n",
       "      <td>0.0</td>\n",
       "      <td>0.0</td>\n",
       "    </tr>\n",
       "    <tr>\n",
       "      <th>684055</th>\n",
       "      <td>0.0</td>\n",
       "      <td>0.0</td>\n",
       "      <td>0.0</td>\n",
       "      <td>0.0</td>\n",
       "      <td>0.0</td>\n",
       "      <td>0.0</td>\n",
       "      <td>0.0</td>\n",
       "      <td>0.0</td>\n",
       "      <td>0.0</td>\n",
       "      <td>0.0</td>\n",
       "      <td>...</td>\n",
       "      <td>0.0</td>\n",
       "      <td>0.0</td>\n",
       "      <td>0.0</td>\n",
       "      <td>0.0</td>\n",
       "      <td>0.0</td>\n",
       "      <td>0.0</td>\n",
       "      <td>0.0</td>\n",
       "      <td>0.0</td>\n",
       "      <td>0.0</td>\n",
       "      <td>0.0</td>\n",
       "    </tr>\n",
       "    <tr>\n",
       "      <th>684057</th>\n",
       "      <td>0.0</td>\n",
       "      <td>0.0</td>\n",
       "      <td>0.0</td>\n",
       "      <td>0.0</td>\n",
       "      <td>0.0</td>\n",
       "      <td>0.0</td>\n",
       "      <td>0.0</td>\n",
       "      <td>0.0</td>\n",
       "      <td>0.0</td>\n",
       "      <td>0.0</td>\n",
       "      <td>...</td>\n",
       "      <td>0.0</td>\n",
       "      <td>0.0</td>\n",
       "      <td>0.0</td>\n",
       "      <td>0.0</td>\n",
       "      <td>0.0</td>\n",
       "      <td>0.0</td>\n",
       "      <td>0.0</td>\n",
       "      <td>0.0</td>\n",
       "      <td>0.0</td>\n",
       "      <td>0.0</td>\n",
       "    </tr>\n",
       "    <tr>\n",
       "      <th>684059</th>\n",
       "      <td>0.0</td>\n",
       "      <td>0.0</td>\n",
       "      <td>0.0</td>\n",
       "      <td>0.0</td>\n",
       "      <td>0.0</td>\n",
       "      <td>0.0</td>\n",
       "      <td>0.0</td>\n",
       "      <td>0.0</td>\n",
       "      <td>0.0</td>\n",
       "      <td>0.0</td>\n",
       "      <td>...</td>\n",
       "      <td>0.0</td>\n",
       "      <td>0.0</td>\n",
       "      <td>0.0</td>\n",
       "      <td>0.0</td>\n",
       "      <td>0.0</td>\n",
       "      <td>0.0</td>\n",
       "      <td>0.0</td>\n",
       "      <td>0.0</td>\n",
       "      <td>0.0</td>\n",
       "      <td>0.0</td>\n",
       "    </tr>\n",
       "    <tr>\n",
       "      <th>684062</th>\n",
       "      <td>0.0</td>\n",
       "      <td>0.0</td>\n",
       "      <td>0.0</td>\n",
       "      <td>0.0</td>\n",
       "      <td>0.0</td>\n",
       "      <td>0.0</td>\n",
       "      <td>0.0</td>\n",
       "      <td>0.0</td>\n",
       "      <td>0.0</td>\n",
       "      <td>0.0</td>\n",
       "      <td>...</td>\n",
       "      <td>0.0</td>\n",
       "      <td>0.0</td>\n",
       "      <td>0.0</td>\n",
       "      <td>0.0</td>\n",
       "      <td>0.0</td>\n",
       "      <td>0.0</td>\n",
       "      <td>0.0</td>\n",
       "      <td>0.0</td>\n",
       "      <td>0.0</td>\n",
       "      <td>0.0</td>\n",
       "    </tr>\n",
       "  </tbody>\n",
       "</table>\n",
       "<p>5 rows × 18377 columns</p>\n",
       "</div>"
      ],
      "text/plain": [
       "        143872  728577  2       2050    10243   79365   256006  4609    \\\n",
       "683665     0.0     0.0     0.0     0.0     0.0     0.0     0.0     0.0   \n",
       "684055     0.0     0.0     0.0     0.0     0.0     0.0     0.0     0.0   \n",
       "684057     0.0     0.0     0.0     0.0     0.0     0.0     0.0     0.0   \n",
       "684059     0.0     0.0     0.0     0.0     0.0     0.0     0.0     0.0   \n",
       "684062     0.0     0.0     0.0     0.0     0.0     0.0     0.0     0.0   \n",
       "\n",
       "        118788  113675  ...  26517   28972   53917   283507  514     339210  \\\n",
       "683665     0.0     0.0  ...     0.0     0.0     0.0     0.0     0.0     0.0   \n",
       "684055     0.0     0.0  ...     0.0     0.0     0.0     0.0     0.0     0.0   \n",
       "684057     0.0     0.0  ...     0.0     0.0     0.0     0.0     0.0     0.0   \n",
       "684059     0.0     0.0  ...     0.0     0.0     0.0     0.0     0.0     0.0   \n",
       "684062     0.0     0.0  ...     0.0     0.0     0.0     0.0     0.0     0.0   \n",
       "\n",
       "        64981   7335    5739    83442   \n",
       "683665     0.0     0.0     0.0     0.0  \n",
       "684055     0.0     0.0     0.0     0.0  \n",
       "684057     0.0     0.0     0.0     0.0  \n",
       "684059     0.0     0.0     0.0     0.0  \n",
       "684062     0.0     0.0     0.0     0.0  \n",
       "\n",
       "[5 rows x 18377 columns]"
      ]
     },
     "execution_count": 9,
     "metadata": {},
     "output_type": "execute_result"
    }
   ],
   "source": [
    "# read GDSC mutation dataset (CYTOi)\n",
    "\n",
    "GDSCM = pd.read_csv(\"GDSC_mutations.CYTOi.tsv\",\n",
    "                    sep=\"\\t\", index_col=0, decimal=\".\")\n",
    "GDSCM.drop_duplicates(keep='last')\n",
    "GDSCM = pd.DataFrame.transpose(GDSCM)\n",
    "GDSCM = GDSCM.loc[:, ~GDSCM.columns.duplicated()]\n",
    "\n",
    "GDSCM.head()"
   ]
  },
  {
   "cell_type": "code",
   "execution_count": 10,
   "metadata": {},
   "outputs": [
    {
     "name": "stdout",
     "output_type": "stream",
     "text": [
      "/Volumes/Expansion/Thesis Work/Results/preprocessed_results2/response\n"
     ]
    }
   ],
   "source": [
    "# change directory to read GDSC response dataset (CYTOi)\n",
    "\n",
    "os.chdir(dataset_dir + \"/response/\")\n",
    "print(os.getcwd())"
   ]
  },
  {
   "cell_type": "code",
   "execution_count": 11,
   "metadata": {},
   "outputs": [
    {
     "data": {
      "text/html": [
       "<div>\n",
       "<style scoped>\n",
       "    .dataframe tbody tr th:only-of-type {\n",
       "        vertical-align: middle;\n",
       "    }\n",
       "\n",
       "    .dataframe tbody tr th {\n",
       "        vertical-align: top;\n",
       "    }\n",
       "\n",
       "    .dataframe thead th {\n",
       "        text-align: right;\n",
       "    }\n",
       "</style>\n",
       "<table border=\"1\" class=\"dataframe\">\n",
       "  <thead>\n",
       "    <tr style=\"text-align: right;\">\n",
       "      <th></th>\n",
       "      <th>response</th>\n",
       "      <th>logIC50</th>\n",
       "      <th>drug</th>\n",
       "      <th>exprs</th>\n",
       "      <th>CNA</th>\n",
       "      <th>mutations</th>\n",
       "    </tr>\n",
       "    <tr>\n",
       "      <th>sample_name</th>\n",
       "      <th></th>\n",
       "      <th></th>\n",
       "      <th></th>\n",
       "      <th></th>\n",
       "      <th></th>\n",
       "      <th></th>\n",
       "    </tr>\n",
       "  </thead>\n",
       "  <tbody>\n",
       "    <tr>\n",
       "      <th>683665</th>\n",
       "      <td>0</td>\n",
       "      <td>-3.64728727366553</td>\n",
       "      <td>Paclitaxel</td>\n",
       "      <td>1</td>\n",
       "      <td>1</td>\n",
       "      <td>1</td>\n",
       "    </tr>\n",
       "    <tr>\n",
       "      <th>683665</th>\n",
       "      <td>0</td>\n",
       "      <td>1.27553797434562</td>\n",
       "      <td>GSK269962A</td>\n",
       "      <td>1</td>\n",
       "      <td>1</td>\n",
       "      <td>1</td>\n",
       "    </tr>\n",
       "    <tr>\n",
       "      <th>683665</th>\n",
       "      <td>0</td>\n",
       "      <td>-4.54428601391955</td>\n",
       "      <td>Vinorelbine</td>\n",
       "      <td>1</td>\n",
       "      <td>1</td>\n",
       "      <td>1</td>\n",
       "    </tr>\n",
       "    <tr>\n",
       "      <th>683665</th>\n",
       "      <td>0</td>\n",
       "      <td>1.72219893512551</td>\n",
       "      <td>PF-562271</td>\n",
       "      <td>1</td>\n",
       "      <td>1</td>\n",
       "      <td>1</td>\n",
       "    </tr>\n",
       "    <tr>\n",
       "      <th>683665</th>\n",
       "      <td>0</td>\n",
       "      <td>1.70736111120553</td>\n",
       "      <td>IPA-3</td>\n",
       "      <td>1</td>\n",
       "      <td>1</td>\n",
       "      <td>1</td>\n",
       "    </tr>\n",
       "  </tbody>\n",
       "</table>\n",
       "</div>"
      ],
      "text/plain": [
       "             response            logIC50         drug  exprs  CNA  mutations\n",
       "sample_name                                                                 \n",
       "683665              0  -3.64728727366553   Paclitaxel      1    1          1\n",
       "683665              0   1.27553797434562   GSK269962A      1    1          1\n",
       "683665              0  -4.54428601391955  Vinorelbine      1    1          1\n",
       "683665              0   1.72219893512551    PF-562271      1    1          1\n",
       "683665              0   1.70736111120553        IPA-3      1    1          1"
      ]
     },
     "execution_count": 11,
     "metadata": {},
     "output_type": "execute_result"
    }
   ],
   "source": [
    "# change directory to read GDSC response dataset (CYTOi)\n",
    "\n",
    "GDSCR = pd.read_csv(\"GDSC_response.CYTOi.tsv\",\n",
    "                    sep=\"\\t\",\n",
    "                    index_col=0,\n",
    "                    decimal=\",\")\n",
    "GDSCR.dropna(inplace=True)\n",
    "GDSCR.rename(mapper=str, axis='index', inplace=True)\n",
    "d = {\"R\": 0, \"S\": 1}\n",
    "GDSCR[\"response\"] = GDSCR.loc[:, \"response\"].apply(lambda x: d[x])\n",
    "\n",
    "GDSCR.head()"
   ]
  },
  {
   "cell_type": "code",
   "execution_count": 12,
   "metadata": {},
   "outputs": [
    {
     "data": {
      "text/plain": [
       "drug\n",
       "Vinorelbine     775\n",
       "GSK429286A      771\n",
       "Y-39983         769\n",
       "Epothilone B    766\n",
       "IPA-3           765\n",
       "PF-562271       762\n",
       "EHT 1864        761\n",
       "Vinblastine     738\n",
       "Docetaxel       738\n",
       "Paclitaxel      370\n",
       "GSK269962A      346\n",
       "Name: count, dtype: int64"
      ]
     },
     "execution_count": 12,
     "metadata": {},
     "output_type": "execute_result"
    }
   ],
   "source": [
    "# print count of cell lines for each drug (CYTOi)\n",
    "\n",
    "GDSCR[\"drug\"].value_counts()"
   ]
  },
  {
   "cell_type": "code",
   "execution_count": 13,
   "metadata": {},
   "outputs": [
    {
     "name": "stdout",
     "output_type": "stream",
     "text": [
      "/Volumes/Expansion/Thesis Work/Results/preprocessed_results2/exprs_homogenized\n"
     ]
    }
   ],
   "source": [
    "# change directory to read TCGA expression dataset homogenized with GDSC expression dataset (Docetaxel)\n",
    "\n",
    "os.chdir(dataset_dir + \"/exprs_homogenized/\")\n",
    "print(os.getcwd())"
   ]
  },
  {
   "cell_type": "code",
   "execution_count": 14,
   "metadata": {},
   "outputs": [
    {
     "data": {
      "text/html": [
       "<div>\n",
       "<style scoped>\n",
       "    .dataframe tbody tr th:only-of-type {\n",
       "        vertical-align: middle;\n",
       "    }\n",
       "\n",
       "    .dataframe tbody tr th {\n",
       "        vertical-align: top;\n",
       "    }\n",
       "\n",
       "    .dataframe thead th {\n",
       "        text-align: right;\n",
       "    }\n",
       "</style>\n",
       "<table border=\"1\" class=\"dataframe\">\n",
       "  <thead>\n",
       "    <tr style=\"text-align: right;\">\n",
       "      <th>ENTREZID</th>\n",
       "      <th>1</th>\n",
       "      <th>2</th>\n",
       "      <th>9</th>\n",
       "      <th>10</th>\n",
       "      <th>12</th>\n",
       "      <th>13</th>\n",
       "      <th>14</th>\n",
       "      <th>15</th>\n",
       "      <th>16</th>\n",
       "      <th>18</th>\n",
       "      <th>...</th>\n",
       "      <th>100188893</th>\n",
       "      <th>100190940</th>\n",
       "      <th>100190949</th>\n",
       "      <th>100191040</th>\n",
       "      <th>100192386</th>\n",
       "      <th>100268168</th>\n",
       "      <th>100271715</th>\n",
       "      <th>100287718</th>\n",
       "      <th>100288778</th>\n",
       "      <th>100289635</th>\n",
       "    </tr>\n",
       "  </thead>\n",
       "  <tbody>\n",
       "    <tr>\n",
       "      <th>TCGA-50-5930-01A</th>\n",
       "      <td>4.32756185376123</td>\n",
       "      <td>5.27881192348218</td>\n",
       "      <td>6.03845362838735</td>\n",
       "      <td>3.07662245543196</td>\n",
       "      <td>3.97590092674197</td>\n",
       "      <td>4.34047859280406</td>\n",
       "      <td>7.72767194201385</td>\n",
       "      <td>2.67622920532167</td>\n",
       "      <td>8.90153773520786</td>\n",
       "      <td>3.7428901706813</td>\n",
       "      <td>...</td>\n",
       "      <td>9.39984480653599</td>\n",
       "      <td>2.91751762754054</td>\n",
       "      <td>2.99427874650319</td>\n",
       "      <td>3.46684192135117</td>\n",
       "      <td>2.95295666496376</td>\n",
       "      <td>2.56324156069538</td>\n",
       "      <td>2.83624184466872</td>\n",
       "      <td>3.30300759342689</td>\n",
       "      <td>3.83224472763852</td>\n",
       "      <td>3.96600205937326</td>\n",
       "    </tr>\n",
       "    <tr>\n",
       "      <th>TCGA-53-7624-01A</th>\n",
       "      <td>3.37553567415005</td>\n",
       "      <td>2.42891712354017</td>\n",
       "      <td>5.37898165978151</td>\n",
       "      <td>3.19267722666961</td>\n",
       "      <td>1.70915450915804</td>\n",
       "      <td>2.85662486974538</td>\n",
       "      <td>8.40128443433865</td>\n",
       "      <td>2.78716239748549</td>\n",
       "      <td>9.73072517371369</td>\n",
       "      <td>3.06801573314285</td>\n",
       "      <td>...</td>\n",
       "      <td>10.1613566288555</td>\n",
       "      <td>2.91751762754054</td>\n",
       "      <td>2.99427874650319</td>\n",
       "      <td>3.58970523529288</td>\n",
       "      <td>3.04238668392592</td>\n",
       "      <td>3.20663968789223</td>\n",
       "      <td>3.68240697177071</td>\n",
       "      <td>2.90828068411453</td>\n",
       "      <td>4.69456231162691</td>\n",
       "      <td>4.31887370809051</td>\n",
       "    </tr>\n",
       "    <tr>\n",
       "      <th>TCGA-A2-A0CK-01A</th>\n",
       "      <td>5.15835408802493</td>\n",
       "      <td>4.70501299235834</td>\n",
       "      <td>8.7884250410375</td>\n",
       "      <td>3.10059693730025</td>\n",
       "      <td>5.68150532486368</td>\n",
       "      <td>3.06721513901425</td>\n",
       "      <td>8.56654904306397</td>\n",
       "      <td>2.84369051122728</td>\n",
       "      <td>7.6379208249912</td>\n",
       "      <td>4.04190131728443</td>\n",
       "      <td>...</td>\n",
       "      <td>9.76797337512243</td>\n",
       "      <td>2.91751762754054</td>\n",
       "      <td>2.99427874650319</td>\n",
       "      <td>3.51280303534549</td>\n",
       "      <td>3.0066738528302</td>\n",
       "      <td>2.75549161640676</td>\n",
       "      <td>2.59081774047504</td>\n",
       "      <td>2.90828068411453</td>\n",
       "      <td>4.97889993433429</td>\n",
       "      <td>4.73966219270586</td>\n",
       "    </tr>\n",
       "  </tbody>\n",
       "</table>\n",
       "<p>3 rows × 18197 columns</p>\n",
       "</div>"
      ],
      "text/plain": [
       "ENTREZID                 1                 2                 9          \\\n",
       "TCGA-50-5930-01A  4.32756185376123  5.27881192348218  6.03845362838735   \n",
       "TCGA-53-7624-01A  3.37553567415005  2.42891712354017  5.37898165978151   \n",
       "TCGA-A2-A0CK-01A  5.15835408802493  4.70501299235834   8.7884250410375   \n",
       "\n",
       "ENTREZID                 10                12                13         \\\n",
       "TCGA-50-5930-01A  3.07662245543196  3.97590092674197  4.34047859280406   \n",
       "TCGA-53-7624-01A  3.19267722666961  1.70915450915804  2.85662486974538   \n",
       "TCGA-A2-A0CK-01A  3.10059693730025  5.68150532486368  3.06721513901425   \n",
       "\n",
       "ENTREZID                 14                15                16         \\\n",
       "TCGA-50-5930-01A  7.72767194201385  2.67622920532167  8.90153773520786   \n",
       "TCGA-53-7624-01A  8.40128443433865  2.78716239748549  9.73072517371369   \n",
       "TCGA-A2-A0CK-01A  8.56654904306397  2.84369051122728   7.6379208249912   \n",
       "\n",
       "ENTREZID                 18         ...         100188893         100190940  \\\n",
       "TCGA-50-5930-01A   3.7428901706813  ...  9.39984480653599  2.91751762754054   \n",
       "TCGA-53-7624-01A  3.06801573314285  ...  10.1613566288555  2.91751762754054   \n",
       "TCGA-A2-A0CK-01A  4.04190131728443  ...  9.76797337512243  2.91751762754054   \n",
       "\n",
       "ENTREZID                 100190949         100191040         100192386  \\\n",
       "TCGA-50-5930-01A  2.99427874650319  3.46684192135117  2.95295666496376   \n",
       "TCGA-53-7624-01A  2.99427874650319  3.58970523529288  3.04238668392592   \n",
       "TCGA-A2-A0CK-01A  2.99427874650319  3.51280303534549   3.0066738528302   \n",
       "\n",
       "ENTREZID                 100268168         100271715         100287718  \\\n",
       "TCGA-50-5930-01A  2.56324156069538  2.83624184466872  3.30300759342689   \n",
       "TCGA-53-7624-01A  3.20663968789223  3.68240697177071  2.90828068411453   \n",
       "TCGA-A2-A0CK-01A  2.75549161640676  2.59081774047504  2.90828068411453   \n",
       "\n",
       "ENTREZID                 100288778         100289635  \n",
       "TCGA-50-5930-01A  3.83224472763852  3.96600205937326  \n",
       "TCGA-53-7624-01A  4.69456231162691  4.31887370809051  \n",
       "TCGA-A2-A0CK-01A  4.97889993433429  4.73966219270586  \n",
       "\n",
       "[3 rows x 18197 columns]"
      ]
     },
     "execution_count": 14,
     "metadata": {},
     "output_type": "execute_result"
    }
   ],
   "source": [
    "# read TCGA expression dataset homogenized with GDSC expression dataset (Docetaxel)\n",
    "\n",
    "TCGAEdocetaxel = pd.read_csv(\"TCGA_exprs.Docetaxel.eb_with.GDSC_exprs.Docetaxel.tsv\",\n",
    "                   sep = \"\\t\", index_col=0, decimal = \",\")\n",
    "TCGAEdocetaxel = pd.DataFrame.transpose(TCGAEdocetaxel)\n",
    "TCGAEdocetaxel.head(3)"
   ]
  },
  {
   "cell_type": "code",
   "execution_count": 15,
   "metadata": {},
   "outputs": [
    {
     "data": {
      "text/plain": [
       "'/Volumes/Expansion/Thesis Work/Results/preprocessed_results2/mutations'"
      ]
     },
     "execution_count": 15,
     "metadata": {},
     "output_type": "execute_result"
    }
   ],
   "source": [
    "# change directory to read TCGA mutation dataset (Docetaxel)\n",
    "\n",
    "os.chdir(dataset_dir + \"mutations\")\n",
    "os.getcwd()"
   ]
  },
  {
   "cell_type": "code",
   "execution_count": 16,
   "metadata": {},
   "outputs": [
    {
     "data": {
      "text/html": [
       "<div>\n",
       "<style scoped>\n",
       "    .dataframe tbody tr th:only-of-type {\n",
       "        vertical-align: middle;\n",
       "    }\n",
       "\n",
       "    .dataframe tbody tr th {\n",
       "        vertical-align: top;\n",
       "    }\n",
       "\n",
       "    .dataframe thead th {\n",
       "        text-align: right;\n",
       "    }\n",
       "</style>\n",
       "<table border=\"1\" class=\"dataframe\">\n",
       "  <thead>\n",
       "    <tr style=\"text-align: right;\">\n",
       "      <th></th>\n",
       "      <th>1</th>\n",
       "      <th>2</th>\n",
       "      <th>3</th>\n",
       "      <th>9</th>\n",
       "      <th>10</th>\n",
       "      <th>12</th>\n",
       "      <th>13</th>\n",
       "      <th>14</th>\n",
       "      <th>15</th>\n",
       "      <th>16</th>\n",
       "      <th>...</th>\n",
       "      <th>106479642</th>\n",
       "      <th>106480474</th>\n",
       "      <th>106480731</th>\n",
       "      <th>106480736</th>\n",
       "      <th>107057644</th>\n",
       "      <th>107075310</th>\n",
       "      <th>107080636</th>\n",
       "      <th>107161144</th>\n",
       "      <th>109729113</th>\n",
       "      <th>109731405</th>\n",
       "    </tr>\n",
       "  </thead>\n",
       "  <tbody>\n",
       "    <tr>\n",
       "      <th>TCGA-50-5930-01A</th>\n",
       "      <td>0</td>\n",
       "      <td>0</td>\n",
       "      <td>0</td>\n",
       "      <td>0</td>\n",
       "      <td>0</td>\n",
       "      <td>0</td>\n",
       "      <td>0</td>\n",
       "      <td>0</td>\n",
       "      <td>0</td>\n",
       "      <td>0</td>\n",
       "      <td>...</td>\n",
       "      <td>0</td>\n",
       "      <td>0</td>\n",
       "      <td>0</td>\n",
       "      <td>0</td>\n",
       "      <td>0</td>\n",
       "      <td>0</td>\n",
       "      <td>0</td>\n",
       "      <td>0</td>\n",
       "      <td>0</td>\n",
       "      <td>0</td>\n",
       "    </tr>\n",
       "    <tr>\n",
       "      <th>TCGA-53-7624-01A</th>\n",
       "      <td>0</td>\n",
       "      <td>0</td>\n",
       "      <td>0</td>\n",
       "      <td>0</td>\n",
       "      <td>0</td>\n",
       "      <td>0</td>\n",
       "      <td>0</td>\n",
       "      <td>0</td>\n",
       "      <td>0</td>\n",
       "      <td>0</td>\n",
       "      <td>...</td>\n",
       "      <td>0</td>\n",
       "      <td>0</td>\n",
       "      <td>0</td>\n",
       "      <td>0</td>\n",
       "      <td>0</td>\n",
       "      <td>0</td>\n",
       "      <td>0</td>\n",
       "      <td>0</td>\n",
       "      <td>0</td>\n",
       "      <td>0</td>\n",
       "    </tr>\n",
       "    <tr>\n",
       "      <th>TCGA-A2-A0CK-01A</th>\n",
       "      <td>0</td>\n",
       "      <td>0</td>\n",
       "      <td>0</td>\n",
       "      <td>0</td>\n",
       "      <td>0</td>\n",
       "      <td>0</td>\n",
       "      <td>0</td>\n",
       "      <td>0</td>\n",
       "      <td>0</td>\n",
       "      <td>0</td>\n",
       "      <td>...</td>\n",
       "      <td>0</td>\n",
       "      <td>0</td>\n",
       "      <td>0</td>\n",
       "      <td>0</td>\n",
       "      <td>0</td>\n",
       "      <td>0</td>\n",
       "      <td>0</td>\n",
       "      <td>0</td>\n",
       "      <td>0</td>\n",
       "      <td>0</td>\n",
       "    </tr>\n",
       "  </tbody>\n",
       "</table>\n",
       "<p>3 rows × 19594 columns</p>\n",
       "</div>"
      ],
      "text/plain": [
       "                  1          2          3          9          10         \\\n",
       "TCGA-50-5930-01A          0          0          0          0          0   \n",
       "TCGA-53-7624-01A          0          0          0          0          0   \n",
       "TCGA-A2-A0CK-01A          0          0          0          0          0   \n",
       "\n",
       "                  12         13         14         15         16         ...  \\\n",
       "TCGA-50-5930-01A          0          0          0          0          0  ...   \n",
       "TCGA-53-7624-01A          0          0          0          0          0  ...   \n",
       "TCGA-A2-A0CK-01A          0          0          0          0          0  ...   \n",
       "\n",
       "                  106479642  106480474  106480731  106480736  107057644  \\\n",
       "TCGA-50-5930-01A          0          0          0          0          0   \n",
       "TCGA-53-7624-01A          0          0          0          0          0   \n",
       "TCGA-A2-A0CK-01A          0          0          0          0          0   \n",
       "\n",
       "                  107075310  107080636  107161144  109729113  109731405  \n",
       "TCGA-50-5930-01A          0          0          0          0          0  \n",
       "TCGA-53-7624-01A          0          0          0          0          0  \n",
       "TCGA-A2-A0CK-01A          0          0          0          0          0  \n",
       "\n",
       "[3 rows x 19594 columns]"
      ]
     },
     "execution_count": 16,
     "metadata": {},
     "output_type": "execute_result"
    }
   ],
   "source": [
    "# read TCGA mutation dataset (Docetaxel)\n",
    "\n",
    "TCGAMdocetaxel = pd.read_csv(\"TCGA_mutations.Docetaxel.tsv\",\n",
    "                        sep=\"\\t\", index_col=0, decimal=\",\")\n",
    "TCGAMdocetaxel.drop_duplicates(keep='last')\n",
    "TCGAMdocetaxel = pd.DataFrame.transpose(TCGAMdocetaxel)\n",
    "TCGAMdocetaxel = TCGAMdocetaxel.loc[:, ~TCGAMdocetaxel.columns.duplicated()]\n",
    "\n",
    "TCGAMdocetaxel.head(3)"
   ]
  },
  {
   "cell_type": "code",
   "execution_count": 17,
   "metadata": {},
   "outputs": [],
   "source": [
    "# variance threshold for GDSC expression dataset (CYTOi)\n",
    "\n",
    "selector = VarianceThreshold(0.05)\n",
    "selector.fit_transform(GDSCE)\n",
    "GDSCE = GDSCE[GDSCE.columns[selector.get_support(indices=True)]]"
   ]
  },
  {
   "cell_type": "code",
   "execution_count": 18,
   "metadata": {},
   "outputs": [],
   "source": [
    "# fill NA values and binarize GDSC mutation dataset (CYTOi)\n",
    "\n",
    "GDSCM = GDSCM.fillna(0)\n",
    "GDSCM[GDSCM != 0.0] = 1"
   ]
  },
  {
   "cell_type": "code",
   "execution_count": 19,
   "metadata": {},
   "outputs": [
    {
     "name": "stdout",
     "output_type": "stream",
     "text": [
      "GDSC and TCGA # of common genes: 17283\n"
     ]
    }
   ],
   "source": [
    "# select shared genes between GDSC and TCGA expression and mutation datasets \n",
    "\n",
    "ls = GDSCE.columns.intersection(GDSCM.columns)\n",
    "ls = ls.intersection(TCGAEdocetaxel.columns)\n",
    "ls = ls.intersection(TCGAMdocetaxel.columns)\n",
    "\n",
    "ls = pd.unique(ls)\n",
    "\n",
    "print(f\"GDSC and TCGA # of common genes: {ls.shape[0]}\")"
   ]
  },
  {
   "cell_type": "code",
   "execution_count": 20,
   "metadata": {},
   "outputs": [
    {
     "name": "stdout",
     "output_type": "stream",
     "text": [
      "GDSC # of common cell lines: 801\n"
     ]
    }
   ],
   "source": [
    "# select shared samples between GDSC expression, mutation, and response datasets (CYTOi)\n",
    "\n",
    "ls2 = GDSCE.index.intersection(GDSCM.index)\n",
    "ls2 = ls2.intersection(GDSCR.index)\n",
    "\n",
    "print(f\"GDSC # of common cell lines: {ls2.shape[0]}\")"
   ]
  },
  {
   "cell_type": "code",
   "execution_count": 21,
   "metadata": {},
   "outputs": [
    {
     "name": "stdout",
     "output_type": "stream",
     "text": [
      "GDSC # of common samples and genes (Expression): (801, 17283)\n",
      "GDSC # of common samples and genes (Mutation): (801, 17283)\n",
      "GDSC # of samples (Response): 7561\n"
     ]
    }
   ],
   "source": [
    "# subset shared genes and samples in GDSC expression, mutation, and response datasets\n",
    "\n",
    "GDSCE = GDSCE.loc[ls2, ls]\n",
    "GDSCM = GDSCM.loc[ls2, ls]\n",
    "GDSCR = GDSCR.loc[ls2, :]\n",
    "\n",
    "print(f\"GDSC # of common samples and genes (Expression): {GDSCE.shape}\")\n",
    "print(f\"GDSC # of common samples and genes (Mutation): {GDSCM.shape}\")\n",
    "print(f\"GDSC # of samples (Response): {GDSCR.shape[0]}\")"
   ]
  },
  {
   "cell_type": "code",
   "execution_count": 22,
   "metadata": {},
   "outputs": [
    {
     "name": "stdout",
     "output_type": "stream",
     "text": [
      "TCGA # of common samples (Docetaxel): 16\n"
     ]
    }
   ],
   "source": [
    "# select shared samples between TCGA expression and mutation datasets (Docetaxel) \n",
    "\n",
    "ls3 = TCGAEdocetaxel.index.intersection(TCGAMdocetaxel.index)\n",
    "\n",
    "print(f\"TCGA # of common samples (Docetaxel): {ls3.shape[0]}\")"
   ]
  },
  {
   "cell_type": "code",
   "execution_count": 23,
   "metadata": {},
   "outputs": [
    {
     "name": "stdout",
     "output_type": "stream",
     "text": [
      "TCGA # of common samples and genes for Expression (Docetaxel): (16, 17283)\n",
      "TCGA # of common samples and genes for Mutation (Docetaxel): (16, 17283)\n",
      "\n"
     ]
    }
   ],
   "source": [
    "# select shared genes and samples between TCGA expression and mutation datasets (Docetaxel)\n",
    "\n",
    "TCGAEdocetaxel = TCGAEdocetaxel.loc[ls3, ls]\n",
    "TCGAMdocetaxel = TCGAMdocetaxel.loc[ls3, ls]\n",
    "\n",
    "print(f\"TCGA # of common samples and genes for Expression (Docetaxel): {TCGAEdocetaxel.shape}\")\n",
    "print(f\"TCGA # of common samples and genes for Mutation (Docetaxel): {TCGAMdocetaxel.shape}\\n\")"
   ]
  },
  {
   "cell_type": "code",
   "execution_count": 24,
   "metadata": {},
   "outputs": [
    {
     "name": "stdout",
     "output_type": "stream",
     "text": [
      "/Volumes/Expansion/Thesis Work/Results/GDSC_DEGs_inhibitors/CYTOi\n"
     ]
    }
   ],
   "source": [
    "# change directory to read DEGs (CYTOi)\n",
    "\n",
    "os.chdir(DEGs_dir)\n",
    "print(os.getcwd())"
   ]
  },
  {
   "cell_type": "code",
   "execution_count": 25,
   "metadata": {},
   "outputs": [
    {
     "name": "stdout",
     "output_type": "stream",
     "text": [
      "There are 845 DEGs (p-adjusted < 0.05 and |logFC| > 1) among cytoskeleton inhibitors\n",
      "\n"
     ]
    },
    {
     "data": {
      "text/html": [
       "<div>\n",
       "<style scoped>\n",
       "    .dataframe tbody tr th:only-of-type {\n",
       "        vertical-align: middle;\n",
       "    }\n",
       "\n",
       "    .dataframe tbody tr th {\n",
       "        vertical-align: top;\n",
       "    }\n",
       "\n",
       "    .dataframe thead th {\n",
       "        text-align: right;\n",
       "    }\n",
       "</style>\n",
       "<table border=\"1\" class=\"dataframe\">\n",
       "  <thead>\n",
       "    <tr style=\"text-align: right;\">\n",
       "      <th></th>\n",
       "      <th>Gene Symbol</th>\n",
       "      <th>Frequency</th>\n",
       "    </tr>\n",
       "  </thead>\n",
       "  <tbody>\n",
       "    <tr>\n",
       "      <th>0</th>\n",
       "      <td>PTGR1</td>\n",
       "      <td>8</td>\n",
       "    </tr>\n",
       "    <tr>\n",
       "      <th>1</th>\n",
       "      <td>SDC4</td>\n",
       "      <td>8</td>\n",
       "    </tr>\n",
       "    <tr>\n",
       "      <th>2</th>\n",
       "      <td>TPD52L1</td>\n",
       "      <td>8</td>\n",
       "    </tr>\n",
       "    <tr>\n",
       "      <th>3</th>\n",
       "      <td>S100A16</td>\n",
       "      <td>8</td>\n",
       "    </tr>\n",
       "    <tr>\n",
       "      <th>4</th>\n",
       "      <td>MYOF</td>\n",
       "      <td>8</td>\n",
       "    </tr>\n",
       "  </tbody>\n",
       "</table>\n",
       "</div>"
      ],
      "text/plain": [
       "  Gene Symbol  Frequency\n",
       "0       PTGR1          8\n",
       "1        SDC4          8\n",
       "2     TPD52L1          8\n",
       "3     S100A16          8\n",
       "4        MYOF          8"
      ]
     },
     "execution_count": 25,
     "metadata": {},
     "output_type": "execute_result"
    }
   ],
   "source": [
    "# read DEGs (CYTOi)\n",
    "\n",
    "DEGs_filtered_data = pd.read_excel(\"CYTOi_Differentially_Expressed_Genes (EnsemblID).xlsx\",\n",
    "                                    sheet_name = \"Common DEGs\")\n",
    "print(f\"There are {DEGs_filtered_data.shape[0]} DEGs (p-adjusted < 0.05 and |logFC| > 1) among cytoskeleton inhibitors\\n\")\n",
    "\n",
    "DEGs_filtered_data.head()"
   ]
  },
  {
   "cell_type": "code",
   "execution_count": 26,
   "metadata": {},
   "outputs": [
    {
     "name": "stderr",
     "output_type": "stream",
     "text": [
      "2 input query terms found dup hits:\t[('CLECL1P', 2), ('CAST', 2)]\n",
      "1 input query terms found no hit:\t['SLC22A18']\n"
     ]
    },
    {
     "data": {
      "text/plain": [
       "845"
      ]
     },
     "execution_count": 26,
     "metadata": {},
     "output_type": "execute_result"
    }
   ],
   "source": [
    "# get gene symbol from mygene database\n",
    "\n",
    "mg = mygene.MyGeneInfo()\n",
    "DEGs_entrez_id = mg.querymany(DEGs_filtered_data[\"Gene Symbol\"], \n",
    "                              species=\"human\", \n",
    "                              scopes = \"symbol\",\n",
    "                              field = \"entrezgene\",\n",
    "                              as_dataframe=True)[\"entrezgene\"]\n",
    "DEGs_entrez_id = pd.unique(DEGs_entrez_id.dropna())\n",
    "DEGs_entrez_id = pd.Series(DEGs_entrez_id)\n",
    "\n",
    "result = mg.query(\"SLC22A18\", species=\"human\", scopes=\"symbol\", fields=\"entrezgene\")\n",
    "DEGs_entrez_id = pd.concat([DEGs_entrez_id, pd.Series(str(result[\"hits\"][1][\"entrezgene\"]))], ignore_index=True)\n",
    "\n",
    "DEGs_entrez_id.shape[0]"
   ]
  },
  {
   "cell_type": "code",
   "execution_count": 27,
   "metadata": {},
   "outputs": [],
   "source": [
    "# assign GDSC data to new variables\n",
    "\n",
    "exprs_z = GDSCE\n",
    "mut = GDSCM\n",
    "responses = GDSCR"
   ]
  },
  {
   "cell_type": "code",
   "execution_count": 28,
   "metadata": {},
   "outputs": [
    {
     "data": {
      "text/html": [
       "<div>\n",
       "<style scoped>\n",
       "    .dataframe tbody tr th:only-of-type {\n",
       "        vertical-align: middle;\n",
       "    }\n",
       "\n",
       "    .dataframe tbody tr th {\n",
       "        vertical-align: top;\n",
       "    }\n",
       "\n",
       "    .dataframe thead th {\n",
       "        text-align: right;\n",
       "    }\n",
       "</style>\n",
       "<table border=\"1\" class=\"dataframe\">\n",
       "  <thead>\n",
       "    <tr style=\"text-align: right;\">\n",
       "      <th></th>\n",
       "      <th>response</th>\n",
       "      <th>logIC50</th>\n",
       "      <th>drug</th>\n",
       "      <th>exprs</th>\n",
       "      <th>CNA</th>\n",
       "      <th>mutations</th>\n",
       "    </tr>\n",
       "  </thead>\n",
       "  <tbody>\n",
       "    <tr>\n",
       "      <th>683665</th>\n",
       "      <td>0</td>\n",
       "      <td>-3.64728727366553</td>\n",
       "      <td>Paclitaxel</td>\n",
       "      <td>1</td>\n",
       "      <td>1</td>\n",
       "      <td>1</td>\n",
       "    </tr>\n",
       "    <tr>\n",
       "      <th>683665</th>\n",
       "      <td>0</td>\n",
       "      <td>1.27553797434562</td>\n",
       "      <td>GSK269962A</td>\n",
       "      <td>1</td>\n",
       "      <td>1</td>\n",
       "      <td>1</td>\n",
       "    </tr>\n",
       "    <tr>\n",
       "      <th>683665</th>\n",
       "      <td>0</td>\n",
       "      <td>-4.54428601391955</td>\n",
       "      <td>Vinorelbine</td>\n",
       "      <td>1</td>\n",
       "      <td>1</td>\n",
       "      <td>1</td>\n",
       "    </tr>\n",
       "  </tbody>\n",
       "</table>\n",
       "</div>"
      ],
      "text/plain": [
       "        response            logIC50         drug  exprs  CNA  mutations\n",
       "683665         0  -3.64728727366553   Paclitaxel      1    1          1\n",
       "683665         0   1.27553797434562   GSK269962A      1    1          1\n",
       "683665         0  -4.54428601391955  Vinorelbine      1    1          1"
      ]
     },
     "execution_count": 28,
     "metadata": {},
     "output_type": "execute_result"
    }
   ],
   "source": [
    "# GDSC response dataset\n",
    "\n",
    "responses.head(3)"
   ]
  },
  {
   "cell_type": "code",
   "execution_count": 29,
   "metadata": {
    "scrolled": true
   },
   "outputs": [
    {
     "data": {
      "text/plain": [
       "{'Docetaxel',\n",
       " 'EHT 1864',\n",
       " 'Epothilone B',\n",
       " 'GSK269962A',\n",
       " 'GSK429286A',\n",
       " 'IPA-3',\n",
       " 'PF-562271',\n",
       " 'Paclitaxel',\n",
       " 'Vinblastine',\n",
       " 'Vinorelbine',\n",
       " 'Y-39983'}"
      ]
     },
     "execution_count": 29,
     "metadata": {},
     "output_type": "execute_result"
    }
   ],
   "source": [
    "# list drug names in GDSC response dataset\n",
    "\n",
    "drugs = set(responses[\"drug\"].values)\n",
    "drugs"
   ]
  },
  {
   "cell_type": "code",
   "execution_count": 30,
   "metadata": {},
   "outputs": [
    {
     "data": {
      "text/plain": [
       "Index([ 683665,  683665,  683665,  683665,  683665,  683665,  683665,  683665,\n",
       "        683665,  683665,\n",
       "       ...\n",
       "       1299050, 1299050, 1299050, 1299050, 1299050,  910941,  910941, 1659818,\n",
       "       1659818, 1659818],\n",
       "      dtype='int64', length=7561)"
      ]
     },
     "execution_count": 30,
     "metadata": {},
     "output_type": "execute_result"
    }
   ],
   "source": [
    "# convert Entrez gene IDs to integer\n",
    "\n",
    "responses.index = responses.index.astype(int)\n",
    "responses.index"
   ]
  },
  {
   "cell_type": "code",
   "execution_count": 31,
   "metadata": {},
   "outputs": [
    {
     "data": {
      "text/plain": [
       "GDSC\\nTissue descriptor 1\n",
       "lung_NSCLC           800\n",
       "urogenital_system    717\n",
       "leukemia             703\n",
       "lymphoma             642\n",
       "aero_dig_tract       571\n",
       "nervous_system       491\n",
       "lung_SCLC            467\n",
       "skin                 448\n",
       "breast               405\n",
       "digestive_system     367\n",
       "large_intestine      355\n",
       "bone                 340\n",
       "neuroblastoma        281\n",
       "pancreas             227\n",
       "kidney               184\n",
       "soft_tissue          157\n",
       "myeloma              150\n",
       "lung                 137\n",
       "thyroid              119\n",
       "Name: count, dtype: int64"
      ]
     },
     "execution_count": 31,
     "metadata": {},
     "output_type": "execute_result"
    }
   ],
   "source": [
    "# merge GDSC cell line details with response dataset\n",
    "\n",
    "dat = pd.merge(GDSC_cell_line_details,\n",
    "         responses,\n",
    "         left_index = True, \n",
    "         right_index=True,\n",
    "         how = \"inner\")\n",
    "\n",
    "dat[\"GDSC\\nTissue descriptor 1\"].value_counts()\n",
    "#dat.head()"
   ]
  },
  {
   "cell_type": "code",
   "execution_count": 32,
   "metadata": {},
   "outputs": [
    {
     "data": {
      "text/plain": [
       "GDSC\\nTissue descriptor 1\n",
       "lung_NSCLC           82\n",
       "urogenital_system    74\n",
       "leukemia             63\n",
       "lymphoma             58\n",
       "aero_dig_tract       58\n",
       "nervous_system       48\n",
       "lung_SCLC            44\n",
       "skin                 42\n",
       "breast               41\n",
       "digestive_system     38\n",
       "large_intestine      36\n",
       "bone                 32\n",
       "neuroblastoma        26\n",
       "pancreas             24\n",
       "kidney               17\n",
       "myeloma              16\n",
       "soft_tissue          14\n",
       "lung                 13\n",
       "thyroid              12\n",
       "Name: count, dtype: int64"
      ]
     },
     "execution_count": 32,
     "metadata": {},
     "output_type": "execute_result"
    }
   ],
   "source": [
    "# list count of cell lines as to tissues treated with docetaxel\n",
    "\n",
    "filter = (dat[\"drug\"] == \"Docetaxel\")\n",
    "dat.loc[filter,\"GDSC\\nTissue descriptor 1\"].value_counts()"
   ]
  },
  {
   "cell_type": "code",
   "execution_count": 33,
   "metadata": {},
   "outputs": [
    {
     "data": {
      "text/plain": [
       "Index(['683665', '683665', '683665', '683665', '683665', '683665', '683665',\n",
       "       '683665', '683665', '683665',\n",
       "       ...\n",
       "       '1299050', '1299050', '1299050', '1299050', '1299050', '910941',\n",
       "       '910941', '1659818', '1659818', '1659818'],\n",
       "      dtype='object', length=7561)"
      ]
     },
     "execution_count": 33,
     "metadata": {},
     "output_type": "execute_result"
    }
   ],
   "source": [
    "# get tissue descriptors\n",
    "\n",
    "responses.index = responses.index.astype(str)\n",
    "responses.index"
   ]
  },
  {
   "cell_type": "code",
   "execution_count": 34,
   "metadata": {},
   "outputs": [
    {
     "name": "stdout",
     "output_type": "stream",
     "text": [
      "GDSC # of common samples and genes (Expression): (7561, 824)\n",
      "GDSC # of common samples and genes (Mutation): (7561, 824)\n",
      "GDSC # of common samples (Response): 7561\n",
      "\n",
      "TCGA # of common samples and genes for Docetaxel (Expression): (16, 824)\n",
      "TCGA # of common samples and genes for Docetaxel (Mutation): (16, 824)\n",
      "\n"
     ]
    }
   ],
   "source": [
    "# filter GDSC expression and mutation datasets (CYTOi) as to drugs\n",
    "# subset selected DEGs\n",
    "\n",
    "expression_zscores = []\n",
    "mutations = []\n",
    "for drug in drugs:\n",
    "    samples = responses.loc[responses[\"drug\"] == drug, :].index.values\n",
    "    e_z = exprs_z.loc[samples, :]\n",
    "    m = mut.loc[samples, :]\n",
    "    expression_zscores.append(e_z)\n",
    "    mutations.append(m)\n",
    "\n",
    "GDSCEv2 = pd.concat(expression_zscores, axis=0)\n",
    "GDSCMv2 = pd.concat(mutations, axis=0)\n",
    "GDSCRv2 = responses\n",
    "\n",
    "ls4 = list(set(GDSCE.columns).intersection(set(DEGs_entrez_id.astype(int))))\n",
    "ls5 = GDSCEv2.index.intersection(GDSCMv2.index)\n",
    "\n",
    "GDSCEv2 = GDSCEv2.loc[ls5, ls4]\n",
    "GDSCMv2 = GDSCMv2.loc[ls5, ls4]\n",
    "GDSCRv2 = GDSCRv2.loc[ls5, :]\n",
    "\n",
    "TCGAEdocetaxel = TCGAEdocetaxel.loc[:,ls4]\n",
    "TCGAMdocetaxel = TCGAMdocetaxel.loc[:,ls4]\n",
    "\n",
    "responses.index = responses.index.values + \"_\" + responses[\"drug\"].values\n",
    "\n",
    "print(f\"GDSC # of common samples and genes (Expression): {GDSCEv2.shape}\")\n",
    "print(f\"GDSC # of common samples and genes (Mutation): {GDSCMv2.shape}\")\n",
    "print(f\"GDSC # of common samples (Response): {GDSCRv2.shape[0]}\\n\")\n",
    "\n",
    "print(f\"TCGA # of common samples and genes for Docetaxel (Expression): {TCGAEdocetaxel.shape}\")\n",
    "print(f\"TCGA # of common samples and genes for Docetaxel (Mutation): {TCGAMdocetaxel.shape}\\n\")"
   ]
  },
  {
   "cell_type": "code",
   "execution_count": 35,
   "metadata": {},
   "outputs": [
    {
     "name": "stdout",
     "output_type": "stream",
     "text": [
      "[0 0 0 ... 1 0 0]\n"
     ]
    }
   ],
   "source": [
    "# GDSC response values\n",
    "\n",
    "Y = GDSCRv2['response'].values\n",
    "print(Y)"
   ]
  },
  {
   "cell_type": "code",
   "execution_count": 36,
   "metadata": {},
   "outputs": [
    {
     "data": {
      "text/plain": [
       "'/Volumes/Expansion/Thesis Work/Results/preprocessed_results2/response'"
      ]
     },
     "execution_count": 36,
     "metadata": {},
     "output_type": "execute_result"
    }
   ],
   "source": [
    "# change directory to read TCGA response dataset (Docetaxel)\n",
    "\n",
    "os.chdir(dataset_dir + \"response\")\n",
    "os.getcwd()"
   ]
  },
  {
   "cell_type": "code",
   "execution_count": 37,
   "metadata": {},
   "outputs": [
    {
     "name": "stdout",
     "output_type": "stream",
     "text": [
      "There are 16 samples with response data in the TCGA (Docetaxel)\n",
      "\n"
     ]
    },
    {
     "data": {
      "text/plain": [
       "array([0, 0, 1, 0, 1, 1, 1, 1, 0, 0, 0, 0, 1, 1, 0, 1])"
      ]
     },
     "execution_count": 37,
     "metadata": {},
     "output_type": "execute_result"
    }
   ],
   "source": [
    "# read TCGA response dataset (Docetaxel)\n",
    "\n",
    "TCGARdocetaxel = pd.read_csv(\"TCGA_response.Docetaxel.tsv\", \n",
    "                      sep = \"\\t\", \n",
    "                      index_col=0, \n",
    "                      decimal = \",\")\n",
    "TCGARdocetaxel.dropna(inplace=True)\n",
    "TCGARdocetaxel.rename(mapper=str, axis='index', inplace=True)\n",
    "d = {\"R\": 0, \"S\": 1}\n",
    "TCGARdocetaxel[\"response\"] = TCGARdocetaxel.loc[:, \"response\"].apply(lambda x: d[x])\n",
    "Ytsdocetaxel = TCGARdocetaxel[\"response\"].values    \n",
    "\n",
    "print(f\"There are {Ytsdocetaxel.shape[0]} samples with response data in the TCGA (Docetaxel)\\n\")\n",
    "Ytsdocetaxel"
   ]
  },
  {
   "cell_type": "code",
   "execution_count": 38,
   "metadata": {},
   "outputs": [
    {
     "data": {
      "text/plain": [
       "cohort\n",
       "BRCA    8\n",
       "LUAD    3\n",
       "SARC    2\n",
       "STAD    1\n",
       "HNSC    1\n",
       "BLCA    1\n",
       "Name: count, dtype: int64"
      ]
     },
     "execution_count": 38,
     "metadata": {},
     "output_type": "execute_result"
    }
   ],
   "source": [
    "# TCGA cohort table with TCGA response dataset (Docetaxel)\n",
    "\n",
    "dat_tcga = TCGARdocetaxel[\"cohort\"]\n",
    "\n",
    "dat_tcga.value_counts()"
   ]
  },
  {
   "cell_type": "code",
   "execution_count": 39,
   "metadata": {},
   "outputs": [
    {
     "data": {
      "text/plain": [
       "Index(['TCGA-A2-A0CK-01A', 'TCGA-A2-A3XS-01A', 'TCGA-A2-A3XT-01A',\n",
       "       'TCGA-A2-A3Y0-01A', 'TCGA-AC-A2FB-01A', 'TCGA-BH-A5IZ-01A',\n",
       "       'TCGA-GM-A2DA-01A', 'TCGA-GM-A2DI-01A'],\n",
       "      dtype='object', name='sample')"
      ]
     },
     "execution_count": 39,
     "metadata": {},
     "output_type": "execute_result"
    }
   ],
   "source": [
    "# filter BRCA cohort samples (Docetaxel)\n",
    "\n",
    "filter = (TCGARdocetaxel[\"cohort\"] == \"BRCA\")\n",
    "tcga_brca_samples = dat_tcga.loc[filter,].index\n",
    "tcga_brca_samples"
   ]
  },
  {
   "cell_type": "code",
   "execution_count": 40,
   "metadata": {},
   "outputs": [
    {
     "data": {
      "text/plain": [
       "array([1, 0, 1, 1, 1, 1, 0, 1])"
      ]
     },
     "execution_count": 40,
     "metadata": {},
     "output_type": "execute_result"
    }
   ],
   "source": [
    "# filter responses of BRCA cohort samples (Docetaxel)\n",
    "\n",
    "Ytsdocetaxel_brca = TCGARdocetaxel.loc[tcga_brca_samples,\"response\"].values\n",
    "Ytsdocetaxel_brca"
   ]
  },
  {
   "cell_type": "code",
   "execution_count": 41,
   "metadata": {},
   "outputs": [
    {
     "data": {
      "text/plain": [
       "response\n",
       "1    6\n",
       "0    2\n",
       "Name: count, dtype: int64"
      ]
     },
     "execution_count": 41,
     "metadata": {},
     "output_type": "execute_result"
    }
   ],
   "source": [
    "# count of sensitive and resistance BRCA samples (Docetaxel)\n",
    "\n",
    "TCGARdocetaxel.loc[tcga_brca_samples,\"response\"].value_counts()"
   ]
  },
  {
   "cell_type": "code",
   "execution_count": 42,
   "metadata": {},
   "outputs": [],
   "source": [
    "# define maximum iteration\n",
    "\n",
    "max_iter = 50"
   ]
  },
  {
   "cell_type": "code",
   "execution_count": 51,
   "metadata": {},
   "outputs": [],
   "source": [
    "# assign number of neurons and dropout rates found for layers from the saved models\n",
    "\n",
    "hdm1 = 32\n",
    "hdm2 = 256\n",
    "rate1 = 0.7\n",
    "rate2 = 0.6\n",
    "rate3 = 0.6"
   ]
  },
  {
   "cell_type": "code",
   "execution_count": 52,
   "metadata": {},
   "outputs": [
    {
     "name": "stdout",
     "output_type": "stream",
     "text": [
      "GDSC - Training AUC (CYTOi): 0.75\n",
      "GDSC - Training AUCPR (CYTOi): 0.3\n",
      "TCGA - Test AUC (Docetaxel): 0.56\n",
      "TCGA - Test AUCPR (Docetaxel): 0.57\n",
      "TCGA - Test AUC (Docetaxel, BRCA): 0.83\n",
      "TCGA - Test AUCPR (Docetaxel, BRCA): 0.96\n",
      "\n",
      "GDSC - Training AUC (CYTOi, Finetuned): 0.76\n",
      "GDSC - Training AUCPR (CYTOi, Finetuned): 0.31\n",
      "TCGA - Test AUC (Docetaxel, Finetuned): 0.7\n",
      "TCGA - Test AUCPR (Docetaxel, Finetuned): 0.67\n",
      "\n",
      "GDSC - Training AUC (CYTOi, Finetuned): 0.75\n",
      "GDSC - Training AUCPR (CYTOi, Finetuned): 0.3\n",
      "TCGA - Test AUC (Docetaxel, BRCA, Finetuned): 0.83\n",
      "TCGA - Test AUCPR (Docetaxel, BRCA, Finetuned): 0.96\n",
      "\n",
      "\n",
      "Models for maximum finetuning (Docetaxel)\n",
      "Exprs_Docetaxel_GDSC_TCGA_CYTOi_Expression_Mutation_Finetuned_15.pt\n",
      "Mut_Docetaxel_GDSC_TCGA_CYTOi_Expression_Mutation_Finetuned_15.pt\n",
      "Class_Docetaxel_GDSC_TCGA_CYTOi_Expression_Mutation_Finetuned_15.pt\n",
      "\n",
      "Models for maximum finetuning (Docetaxel, BRCA)\n",
      "Exprs_Docetaxel_GDSC_TCGA_CYTOi_Expression_Mutation_Finetuned_8.pt\n",
      "Mut_Docetaxel_GDSC_TCGA_CYTOi_Expression_Mutation_Finetuned_8.pt\n",
      "Class_Docetaxel_GDSC_TCGA_CYTOi_Expression_Mutation_Finetuned_8.pt\n"
     ]
    }
   ],
   "source": [
    "# load pre-trained models and make predictions\n",
    "\n",
    "scalerGDSC = sk.StandardScaler()\n",
    "scalerGDSC.fit(GDSCEv2.values)\n",
    "X_trainE = scalerGDSC.transform(GDSCEv2.values)\n",
    "X_testEdocetaxel = scalerGDSC.transform(TCGAEdocetaxel.values)    \n",
    "\n",
    "X_testEdocetaxel = scalerGDSC.transform(TCGAEdocetaxel.values)    \n",
    "X_testEdocetaxel_brca = scalerGDSC.transform(TCGAEdocetaxel.loc[tcga_brca_samples,].values)    \n",
    "\n",
    "X_trainM = np.nan_to_num(GDSCMv2.values)\n",
    "X_testMdocetaxel = np.nan_to_num(TCGAMdocetaxel.values.astype(np.float32))\n",
    "X_testMdocetaxel_brca = np.nan_to_num(TCGAMdocetaxel.loc[tcga_brca_samples,].values.astype(np.float32))\n",
    "\n",
    "TX_testEdocetaxel = torch.FloatTensor(X_testEdocetaxel)\n",
    "TX_testMdocetaxel = torch.FloatTensor(X_testMdocetaxel.astype(np.float32))\n",
    "ty_testEdocetaxelorouracil = torch.FloatTensor(Ytsdocetaxel.astype(int))\n",
    "\n",
    "TX_testEdocetaxel = torch.FloatTensor(X_testEdocetaxel)\n",
    "TX_testEdocetaxel_brca = torch.FloatTensor(X_testEdocetaxel_brca)\n",
    "\n",
    "TX_testMdocetaxel = torch.FloatTensor(X_testMdocetaxel.astype(np.float32))\n",
    "TX_testMdocetaxel_brca = torch.FloatTensor(X_testMdocetaxel_brca.astype(np.float32))\n",
    "\n",
    "n_sampE, IE_dim = X_trainE.shape\n",
    "n_sampM, IM_dim = X_trainM.shape\n",
    "\n",
    "h_dim1 = hdm1\n",
    "h_dim2 = hdm2\n",
    "Z_in = h_dim1 + h_dim2 \n",
    "\n",
    "class AEE(nn.Module):\n",
    "    def __init__(self):\n",
    "        super(AEE, self).__init__()\n",
    "        self.EnE = torch.nn.Sequential(\n",
    "            nn.Linear(IE_dim, h_dim1),\n",
    "            nn.BatchNorm1d(h_dim1),\n",
    "            nn.ReLU(),\n",
    "            nn.Dropout(rate1))\n",
    "    def forward(self, x):\n",
    "        output = self.EnE(x)\n",
    "        return output  \n",
    "\n",
    "\n",
    "class AEM(nn.Module):\n",
    "    def __init__(self):\n",
    "        super(AEM, self).__init__()\n",
    "        self.EnM = torch.nn.Sequential(\n",
    "            nn.Linear(IM_dim, h_dim2),\n",
    "            nn.BatchNorm1d(h_dim2),\n",
    "            nn.ReLU(),\n",
    "            nn.Dropout(rate2))\n",
    "    def forward(self, x):\n",
    "        output = self.EnM(x)\n",
    "        return output       \n",
    "\n",
    "class Classifier(nn.Module):\n",
    "    def __init__(self):\n",
    "        super(Classifier, self).__init__()\n",
    "        self.FC = torch.nn.Sequential(\n",
    "            nn.Linear(Z_in, 1),\n",
    "            nn.Dropout(rate3),\n",
    "            nn.Sigmoid())\n",
    "    def forward(self, x):\n",
    "        return self.FC(x)\n",
    "\n",
    "torch.cuda.manual_seed_all(42)\n",
    "\n",
    "AutoencoderE = torch.load(models_dir + \"Exprs_Docetaxel_GDSC_TCGA_CYTOi_Expression_Mutation.pt\")\n",
    "AutoencoderM = torch.load(models_dir + \"Mut_Docetaxel_GDSC_TCGA_CYTOi_Expression_Mutation.pt\")\n",
    "\n",
    "Clas = torch.load(models_dir + \"Class_Docetaxel_GDSC_TCGA_CYTOi_Expression_Mutation.pt\")\n",
    "\n",
    "AutoencoderE.eval()\n",
    "AutoencoderM.eval()\n",
    "Clas.eval()\n",
    "\n",
    "ZEX = AutoencoderE(torch.FloatTensor(X_trainE))\n",
    "ZMX = AutoencoderM(torch.FloatTensor(X_trainM))\n",
    "ZTX = torch.cat((ZEX, ZMX), 1)\n",
    "ZTX = F.normalize(ZTX, p=2, dim=0)\n",
    "PredX = Clas(ZTX)\n",
    "AUCT = roc_auc_score(Y, PredX.detach().numpy())\n",
    "#print(f\"GDSC - Training AUC (TCGA_CYTOi): {round(AUCT,2)}\")\n",
    "AUCTaucpr = average_precision_score(Y, PredX.detach().numpy())\n",
    "#print(f\"GDSC - Training AUCPR (TCGA_CYTOi): {round(AUCTaucpr,2)}\\n\")\n",
    "\n",
    "ZETdocetaxel = AutoencoderE(TX_testEdocetaxel)\n",
    "ZMTdocetaxel = AutoencoderM(TX_testMdocetaxel)\n",
    "ZTTdocetaxel = torch.cat((ZETdocetaxel, ZMTdocetaxel), 1)\n",
    "ZTTdocetaxel = F.normalize(ZTTdocetaxel, p=2, dim=0)\n",
    "PredTdocetaxel = Clas(ZTTdocetaxel)\n",
    "AUCTdocetaxel = roc_auc_score(Ytsdocetaxel.astype(int), PredTdocetaxel.detach().numpy())\n",
    "#print(f\"TCGA - Test AUC (Docetaxel): {round(AUCTdocetaxel,2)}\")\n",
    "AUCTdocetaxel_aucpr = average_precision_score(Ytsdocetaxel.astype(int), PredTdocetaxel.detach().numpy())\n",
    "#print(f\"TCGA - Test AUCPR (Docetaxel): {round(AUCTdocetaxel_aucpr,2)}\\n\")\n",
    "\n",
    "ZETdocetaxel_brca = AutoencoderE(TX_testEdocetaxel_brca)\n",
    "ZMTdocetaxel_brca = AutoencoderM(TX_testMdocetaxel_brca)\n",
    "ZTTdocetaxel_brca = torch.cat((ZETdocetaxel_brca, ZMTdocetaxel_brca), 1)\n",
    "ZTTdocetaxel_brca = F.normalize(ZTTdocetaxel_brca, p=2, dim=0)\n",
    "PredTdocetaxel_brca = Clas(ZTTdocetaxel_brca)\n",
    "AUCTdocetaxel_brca = roc_auc_score(Ytsdocetaxel_brca.astype(int), PredTdocetaxel_brca.detach().numpy())\n",
    "#print(f\"TCGA - Test AUC (Docetaxel, BRCA): {round(AUCTdocetaxel_brca,2)}\")\n",
    "AUCTdocetaxel_brca_aucpr = average_precision_score(Ytsdocetaxel_brca.astype(int), PredTdocetaxel_brca.detach().numpy())\n",
    "#print(f\"TCGA - Test AUCPR (Docetaxel, BRCA): {round(AUCTdocetaxel_brca_aucpr,2)}\")\n",
    "\n",
    "AUCT_finetuned = dict()\n",
    "AUCTaucpr_finetuned = dict()\n",
    "AUCTdocetaxel_finetuned = dict()\n",
    "AUCTdocetaxel_brca_finetuned = dict()\n",
    "AUCTdocetaxel_aucpr_finetuned = dict()\n",
    "AUCTdocetaxel_brca_aucpr_finetuned = dict()\n",
    "for iter in range(max_iter):\n",
    "   iter += 1  \n",
    "\n",
    "   AutoencoderE_finetuned = torch.load(models_dir + f\"Finetuned_Models/Exprs_Docetaxel_GDSC_TCGA_CYTOi_Expression_Mutation_Finetuned_{iter}.pt\")\n",
    "   AutoencoderM_finetuned = torch.load(models_dir + f\"Finetuned_Models/Mut_Docetaxel_GDSC_TCGA_CYTOi_Expression_Mutation_Finetuned_{iter}.pt\")\n",
    "   Clas_finetuned = torch.load(models_dir + f\"Finetuned_Models/Class_Docetaxel_GDSC_TCGA_CYTOi_Expression_Mutation_Finetuned_{iter}.pt\")\n",
    "   \n",
    "   AutoencoderE_finetuned.eval()\n",
    "   AutoencoderM_finetuned.eval()\n",
    "   Clas_finetuned.eval()\n",
    "      \n",
    "   ZEX = AutoencoderE_finetuned(torch.FloatTensor(X_trainE))\n",
    "   ZMX = AutoencoderM_finetuned(torch.FloatTensor(X_trainM))\n",
    "   ZTX = torch.cat((ZEX, ZMX), 1)\n",
    "   ZTX = F.normalize(ZTX, p=2, dim=0)\n",
    "   PredX = Clas_finetuned(ZTX)\n",
    "   AUCT_finetuned[iter] = roc_auc_score(Y, PredX.detach().numpy())\n",
    "   AUCTaucpr_finetuned[iter] = average_precision_score(Y, PredX.detach().numpy())\n",
    "   \n",
    "   ZETdocetaxel = AutoencoderE_finetuned(TX_testEdocetaxel)\n",
    "   ZMTdocetaxel = AutoencoderM_finetuned(TX_testMdocetaxel)\n",
    "   ZTTdocetaxel = torch.cat((ZETdocetaxel, ZMTdocetaxel), 1)\n",
    "   ZTTdocetaxel = F.normalize(ZTTdocetaxel, p=2, dim=0)\n",
    "   PredTdocetaxel = Clas_finetuned(ZTTdocetaxel)\n",
    "   AUCTdocetaxel_finetuned[iter] = roc_auc_score(Ytsdocetaxel.astype(int), PredTdocetaxel.detach().numpy())\n",
    "   AUCTdocetaxel_aucpr_finetuned[iter] = average_precision_score(Ytsdocetaxel.astype(int), PredTdocetaxel.detach().numpy())\n",
    "\n",
    "   ZETdocetaxel_brca = AutoencoderE_finetuned(TX_testEdocetaxel_brca)\n",
    "   ZMTdocetaxel_brca = AutoencoderM_finetuned(TX_testMdocetaxel_brca)\n",
    "   ZTTdocetaxel_brca = torch.cat((ZETdocetaxel_brca, ZMTdocetaxel_brca), 1)\n",
    "   ZTTdocetaxel_brca = F.normalize(ZTTdocetaxel_brca, p=2, dim=0)\n",
    "   PredTdocetaxel_brca = Clas_finetuned(ZTTdocetaxel_brca)\n",
    "   AUCTdocetaxel_brca_finetuned[iter] = roc_auc_score(Ytsdocetaxel_brca.astype(int), PredTdocetaxel_brca.detach().numpy())\n",
    "   AUCTdocetaxel_brca_aucpr_finetuned[iter] = average_precision_score(Ytsdocetaxel_brca.astype(int), PredTdocetaxel_brca.detach().numpy())\n",
    "\n",
    "max_key = max(AUCTdocetaxel_aucpr_finetuned, key=AUCTdocetaxel_aucpr_finetuned.get)\n",
    "max_key_brca = max(AUCTdocetaxel_brca_aucpr_finetuned, key=AUCTdocetaxel_brca_aucpr_finetuned.get)\n",
    "\n",
    "print(f\"GDSC - Training AUC (CYTOi): {round(AUCT,2)}\")\n",
    "print(f\"GDSC - Training AUCPR (CYTOi): {round(AUCTaucpr,2)}\")\n",
    "print(f\"TCGA - Test AUC (Docetaxel): {round(AUCTdocetaxel,2)}\")\n",
    "print(f\"TCGA - Test AUCPR (Docetaxel): {round(AUCTdocetaxel_aucpr,2)}\")\n",
    "print(f\"TCGA - Test AUC (Docetaxel, BRCA): {round(AUCTdocetaxel_brca,2)}\")\n",
    "print(f\"TCGA - Test AUCPR (Docetaxel, BRCA): {round(AUCTdocetaxel_brca_aucpr,2)}\\n\")\n",
    "\n",
    "print(f\"GDSC - Training AUC (CYTOi, Finetuned): {round(AUCT_finetuned[max_key],2)}\")\n",
    "print(f\"GDSC - Training AUCPR (CYTOi, Finetuned): {round(AUCTaucpr_finetuned[max_key],2)}\")\n",
    "print(f\"TCGA - Test AUC (Docetaxel, Finetuned): {round(AUCTdocetaxel_finetuned[max_key],2)}\")\n",
    "print(f\"TCGA - Test AUCPR (Docetaxel, Finetuned): {round(AUCTdocetaxel_aucpr_finetuned[max_key],2)}\\n\")\n",
    "\n",
    "print(f\"GDSC - Training AUC (CYTOi, Finetuned): {round(AUCT_finetuned[max_key_brca],2)}\")\n",
    "print(f\"GDSC - Training AUCPR (CYTOi, Finetuned): {round(AUCTaucpr_finetuned[max_key_brca],2)}\")\n",
    "print(f\"TCGA - Test AUC (Docetaxel, BRCA, Finetuned): {round(AUCTdocetaxel_brca_finetuned[max_key_brca],2)}\")\n",
    "print(f\"TCGA - Test AUCPR (Docetaxel, BRCA, Finetuned): {round(AUCTdocetaxel_brca_aucpr_finetuned[max_key_brca],2)}\\n\\n\")\n",
    "\n",
    "print(\"Models for maximum finetuning (Docetaxel)\")\n",
    "print(f\"Exprs_Docetaxel_GDSC_TCGA_CYTOi_Expression_Mutation_Finetuned_{max_key}.pt\")\n",
    "print(f\"Mut_Docetaxel_GDSC_TCGA_CYTOi_Expression_Mutation_Finetuned_{max_key}.pt\")\n",
    "print(f\"Class_Docetaxel_GDSC_TCGA_CYTOi_Expression_Mutation_Finetuned_{max_key}.pt\")\n",
    "\n",
    "print(\"\\nModels for maximum finetuning (Docetaxel, BRCA)\")\n",
    "print(f\"Exprs_Docetaxel_GDSC_TCGA_CYTOi_Expression_Mutation_Finetuned_{max_key_brca}.pt\")\n",
    "print(f\"Mut_Docetaxel_GDSC_TCGA_CYTOi_Expression_Mutation_Finetuned_{max_key_brca}.pt\")\n",
    "print(f\"Class_Docetaxel_GDSC_TCGA_CYTOi_Expression_Mutation_Finetuned_{max_key_brca}.pt\")"
   ]
  },
  {
   "cell_type": "code",
   "execution_count": 45,
   "metadata": {},
   "outputs": [
    {
     "data": {
      "text/html": [
       "<div>\n",
       "<style scoped>\n",
       "    .dataframe tbody tr th:only-of-type {\n",
       "        vertical-align: middle;\n",
       "    }\n",
       "\n",
       "    .dataframe tbody tr th {\n",
       "        vertical-align: top;\n",
       "    }\n",
       "\n",
       "    .dataframe thead th {\n",
       "        text-align: right;\n",
       "    }\n",
       "</style>\n",
       "<table border=\"1\" class=\"dataframe\">\n",
       "  <thead>\n",
       "    <tr style=\"text-align: right;\">\n",
       "      <th></th>\n",
       "      <th>Data</th>\n",
       "      <th>AUC (GDSC)</th>\n",
       "      <th>AUCPR (GDSC)</th>\n",
       "      <th>AUC (TCGA)</th>\n",
       "      <th>AUCPR (TCGA)</th>\n",
       "      <th>AUC (TCGA-BRCA)</th>\n",
       "      <th>AUCPR (TCGA-BRCA)</th>\n",
       "      <th>Sample Size (GDSC)</th>\n",
       "      <th>Feature Size (GDSC)</th>\n",
       "    </tr>\n",
       "  </thead>\n",
       "  <tbody>\n",
       "    <tr>\n",
       "      <th>0</th>\n",
       "      <td>Expr + Mut</td>\n",
       "      <td>0.75</td>\n",
       "      <td>0.3</td>\n",
       "      <td>0.56</td>\n",
       "      <td>0.57</td>\n",
       "      <td>0.83</td>\n",
       "      <td>0.96</td>\n",
       "      <td>7561</td>\n",
       "      <td>824</td>\n",
       "    </tr>\n",
       "    <tr>\n",
       "      <th>1</th>\n",
       "      <td>Expr + Mut (Fine-tuned)</td>\n",
       "      <td>0.76</td>\n",
       "      <td>0.31</td>\n",
       "      <td>0.7</td>\n",
       "      <td>0.67</td>\n",
       "      <td>0.83</td>\n",
       "      <td>0.96</td>\n",
       "      <td>7561</td>\n",
       "      <td>824</td>\n",
       "    </tr>\n",
       "  </tbody>\n",
       "</table>\n",
       "</div>"
      ],
      "text/plain": [
       "                      Data AUC (GDSC) AUCPR (GDSC) AUC (TCGA) AUCPR (TCGA)  \\\n",
       "0               Expr + Mut       0.75          0.3       0.56         0.57   \n",
       "1  Expr + Mut (Fine-tuned)       0.76         0.31        0.7         0.67   \n",
       "\n",
       "  AUC (TCGA-BRCA) AUCPR (TCGA-BRCA) Sample Size (GDSC) Feature Size (GDSC)  \n",
       "0            0.83              0.96               7561                 824  \n",
       "1            0.83              0.96               7561                 824  "
      ]
     },
     "execution_count": 45,
     "metadata": {},
     "output_type": "execute_result"
    }
   ],
   "source": [
    "# create a dataframe with the prediction results \n",
    "\n",
    "em = {\"Data\": [\"Expr + Mut\", \"Expr + Mut (Fine-tuned)\"],\n",
    "      \"AUC (GDSC)\": [round(AUCT, 2), round(AUCT_finetuned[max_key], 2)],\n",
    "      \"AUCPR (GDSC)\": [round(AUCTaucpr,2), round(AUCTaucpr_finetuned[max_key],2)],\n",
    "      \"AUC (TCGA)\": [round(AUCTdocetaxel,2), round(AUCTdocetaxel_finetuned[max_key],2)],\n",
    "      \"AUCPR (TCGA)\":  [round(AUCTdocetaxel_aucpr,2), round(AUCTdocetaxel_aucpr_finetuned[max_key],2)],\n",
    "      \"AUC (TCGA-BRCA)\":  [round(AUCTdocetaxel_brca,2), round(AUCTdocetaxel_brca_finetuned[max_key_brca],2)],\n",
    "      \"AUCPR (TCGA-BRCA)\": [round(AUCTdocetaxel_brca_aucpr,2), round(AUCTdocetaxel_brca_aucpr_finetuned[max_key_brca],2)],\n",
    "      \"Sample Size (GDSC)\": [GDSCEv2.shape[0], GDSCEv2.shape[0]],\n",
    "      \"Feature Size (GDSC)\": [GDSCEv2.shape[1], GDSCEv2.shape[1]] \n",
    "}\n",
    "em_dataframe = pd.DataFrame.from_dict(em, orient='index').transpose()  \n",
    "em_dataframe.to_csv(save_results_to + \"GDSC_TCGA_Expression_Mutation_CYTOi_Docetaxel.tsv\",\n",
    "                    sep = \"\\t\",\n",
    "                    index = False)\n",
    "\n",
    "em_dataframe"
   ]
  },
  {
   "cell_type": "code",
   "execution_count": 46,
   "metadata": {},
   "outputs": [
    {
     "data": {
      "text/plain": [
       "AEE(\n",
       "  (EnE): Sequential(\n",
       "    (0): Linear(in_features=824, out_features=32, bias=True)\n",
       "    (1): BatchNorm1d(32, eps=1e-05, momentum=0.1, affine=True, track_running_stats=True)\n",
       "    (2): ReLU()\n",
       "    (3): Dropout(p=0.7, inplace=False)\n",
       "  )\n",
       ")"
      ]
     },
     "execution_count": 46,
     "metadata": {},
     "output_type": "execute_result"
    }
   ],
   "source": [
    "# show expression layer parameters\n",
    "\n",
    "AutoencoderE"
   ]
  },
  {
   "cell_type": "code",
   "execution_count": 47,
   "metadata": {},
   "outputs": [
    {
     "data": {
      "text/plain": [
       "AEM(\n",
       "  (EnM): Sequential(\n",
       "    (0): Linear(in_features=824, out_features=256, bias=True)\n",
       "    (1): BatchNorm1d(256, eps=1e-05, momentum=0.1, affine=True, track_running_stats=True)\n",
       "    (2): ReLU()\n",
       "    (3): Dropout(p=0.6, inplace=False)\n",
       "  )\n",
       ")"
      ]
     },
     "execution_count": 47,
     "metadata": {},
     "output_type": "execute_result"
    }
   ],
   "source": [
    "# show mutation layer parameters\n",
    "\n",
    "AutoencoderM"
   ]
  },
  {
   "cell_type": "code",
   "execution_count": 48,
   "metadata": {},
   "outputs": [
    {
     "data": {
      "text/plain": [
       "Classifier(\n",
       "  (FC): Sequential(\n",
       "    (0): Linear(in_features=288, out_features=1, bias=True)\n",
       "    (1): Dropout(p=0.6, inplace=False)\n",
       "    (2): Sigmoid()\n",
       "  )\n",
       ")"
      ]
     },
     "execution_count": 48,
     "metadata": {},
     "output_type": "execute_result"
    }
   ],
   "source": [
    "# show classification layer parameters\n",
    "\n",
    "Clas"
   ]
  },
  {
   "cell_type": "code",
   "execution_count": 49,
   "metadata": {},
   "outputs": [
    {
     "name": "stdout",
     "output_type": "stream",
     "text": [
      "/Volumes/Expansion/Thesis Work/Results/Transfer Learning/Drugs with same pathways/TCGA_CYTOi/Expression_Mutation/Predictions\n"
     ]
    }
   ],
   "source": [
    "# change directory\n",
    "\n",
    "os.chdir(save_results_to)\n",
    "print(os.getcwd())"
   ]
  },
  {
   "cell_type": "code",
   "execution_count": 50,
   "metadata": {},
   "outputs": [],
   "source": [
    "# save predictions\n",
    "\n",
    "file = open('GDSC_TCGA_DEGs - TCGA_CYTOi_Docetaxel Predictions (Expression and Mutation).txt', 'w')\n",
    "file.write(f\"GDSC Training (EM) AUC (TCGA_CYTOi): {round(AUCT,2)}\\n\")\n",
    "file.write(f\"GDSC Training (EM) AUCPR (TCGA_CYTOi): {round(AUCTaucpr,2)}\\n\\n\")\n",
    "\n",
    "file.write(f\"TCGA Test (EM) AUC (Docetaxel): {round(AUCTdocetaxel,2)}\\n\")\n",
    "file.write(f\"TCGA Test (EM) AUCPR (Docetaxel): {round(AUCTdocetaxel_aucpr,2)}\\n\\n\")\n",
    "\n",
    "file.close()"
   ]
  }
 ],
 "metadata": {
  "kernelspec": {
   "display_name": "Python 3 (ipykernel)",
   "language": "python",
   "name": "python3"
  },
  "language_info": {
   "codemirror_mode": {
    "name": "ipython",
    "version": 3
   },
   "file_extension": ".py",
   "mimetype": "text/x-python",
   "name": "python",
   "nbconvert_exporter": "python",
   "pygments_lexer": "ipython3",
   "version": "3.12.7"
  }
 },
 "nbformat": 4,
 "nbformat_minor": 4
}
